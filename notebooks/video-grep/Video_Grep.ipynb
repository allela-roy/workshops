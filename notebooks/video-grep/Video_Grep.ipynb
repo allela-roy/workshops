{
 "cells": [
  {
   "cell_type": "markdown",
   "metadata": {
    "id": "lI0g7b-ClgBW"
   },
   "source": [
    "# Video Grep with CLIP-as-service\n",
    "\n",
    "The notebook will show you how to use Jina AI and CLIP-as-service to search through videos for content specified by a natural language query.\n"
   ]
  },
  {
   "cell_type": "markdown",
   "metadata": {
    "id": "ZtikQd8vvEl_"
   },
   "source": [
    "\n",
    "\n",
    "---\n",
    "\n",
    "\n",
    "First, we need to install some software.\n",
    "\n",
    "We use [ffmpeg](https://ffmpeg.org/) to manage MP4 video data:"
   ]
  },
  {
   "cell_type": "code",
   "execution_count": null,
   "metadata": {
    "id": "VqpEeAAt30Hm"
   },
   "outputs": [],
   "source": [
    "!apt-get install ffmpeg\n"
   ]
  },
  {
   "cell_type": "markdown",
   "metadata": {
    "id": "4KcbWxhCvdfX"
   },
   "source": [
    "Verify that ffmpeg installed correctly.  This command should produce output that looks roughly like this:\n",
    "\n",
    "\n",
    "\n",
    "```\n",
    "ffmpeg version 3.4.11-0ubuntu0.1 Copyright (c) 2000-2022 the FFmpeg developers\n",
    "  built with gcc 7 (Ubuntu 7.5.0-3ubuntu1~18.04)\n",
    "  configuration: --prefix=/usr --extra-version=0ubuntu0.1 --toolchain=hardened --libdir=/usr/lib/x86_64-linux-gnu --incdir=/usr/include/x86_64-linux-gnu --enable-gpl --disable-stripping --enable-avresample --enable-avisynth --enable-gnutls --enable-ladspa --enable-libass --enable-libbluray --enable-libbs2b --enable-libcaca --enable-libcdio --enable-libflite --enable-libfontconfig --enable-libfreetype --enable-libfribidi --enable-libgme --enable-libgsm --enable-libmp3lame --enable-libmysofa --enable-libopenjpeg --enable-libopenmpt --enable-libopus --enable-libpulse --enable-librubberband --enable-librsvg --enable-libshine --enable-libsnappy --enable-libsoxr --enable-libspeex --enable-libssh --enable-libtheora --enable-libtwolame --enable-libvorbis --enable-libvpx --enable-libwavpack --enable-libwebp --enable-libx265 --enable-libxml2 --enable-libxvid --enable-libzmq --enable-libzvbi --enable-omx --enable-openal --enable-opengl --enable-sdl2 --enable-libdc1394 --enable-libdrm --enable-libiec61883 --enable-chromaprint --enable-frei0r --enable-libopencv --enable-libx264 --enable-shared\n",
    "  libavutil      55. 78.100 / 55. 78.100\n",
    "  libavcodec     57.107.100 / 57.107.100\n",
    "  libavformat    57. 83.100 / 57. 83.100\n",
    "  libavdevice    57. 10.100 / 57. 10.100\n",
    "  libavfilter     6.107.100 /  6.107.100\n",
    "  libavresample   3.  7.  0 /  3.  7.  0\n",
    "  libswscale      4.  8.100 /  4.  8.100\n",
    "  libswresample   2.  9.100 /  2.  9.100\n",
    "  libpostproc    54.  7.100 / 54.  7.100\n",
    "Hyper fast Audio and Video encoder\n",
    "usage: ffmpeg [options] [[infile options] -i infile]... {[outfile options] outfile}...\n",
    "\n",
    "Use -h to get full help or, even better, run 'man ffmpeg'\n",
    "```\n",
    "\n"
   ]
  },
  {
   "cell_type": "code",
   "execution_count": null,
   "metadata": {
    "id": "_znQHeTHvhW-"
   },
   "outputs": [],
   "source": [
    "!ffmpeg"
   ]
  },
  {
   "cell_type": "markdown",
   "metadata": {
    "id": "g7DtPnljwSMI"
   },
   "source": [
    "Now we are going to install some standard Python libraries for video:"
   ]
  },
  {
   "cell_type": "code",
   "execution_count": null,
   "metadata": {
    "id": "9B6AH8p335Z-"
   },
   "outputs": [],
   "source": [
    "pip install sk-video==1.1.10 Pillow ImageHash==4.2.1"
   ]
  },
  {
   "cell_type": "markdown",
   "metadata": {
    "id": "LpKwLtu2wdxo"
   },
   "source": [
    "And from Jina AI, we will install the DocArray library and the CLIP-as-service client.\n",
    "\n",
    "**⚠️ Colab may show you a button to restart the runtime after this command. If so, DO PRESS THE BUTTON and and let the runtime restart before continuing.**"
   ]
  },
  {
   "cell_type": "code",
   "execution_count": null,
   "metadata": {
    "id": "1DBj5SAJwfve"
   },
   "outputs": [],
   "source": [
    "pip install clip_client==0.8.1 docarray"
   ]
  },
  {
   "cell_type": "markdown",
   "metadata": {
    "id": "n_In0d8oyqcg"
   },
   "source": [
    "Next, you will need a Jina authorization code for CL.  First, log in to Jina AI. If you do not have an account, follow the instructions on screen to create one."
   ]
  },
  {
   "cell_type": "code",
   "execution_count": null,
   "metadata": {
    "id": "_1lSAVwYxBCX"
   },
   "outputs": [],
   "source": [
    "!jina auth login"
   ]
  },
  {
   "cell_type": "markdown",
   "metadata": {
    "id": "xcPv-A7_NOS8"
   },
   "source": [
    "Then, create a token for access to CLIP-as-service. The command below will create one called `video_search`. You can deactivate this token from [your token settings page at Jina AI Cloud](https://cloud.jina.ai/settings/tokens)."
   ]
  },
  {
   "cell_type": "code",
   "execution_count": null,
   "metadata": {
    "id": "GHyVzMQXxoSH"
   },
   "outputs": [],
   "source": [
    "!jina auth token create video_search"
   ]
  },
  {
   "cell_type": "markdown",
   "metadata": {
    "id": "EfuKvWJcOCMY"
   },
   "source": [
    "You should get a token in the form of a long hexadecimal number that should looks something like this: `54f0f0ef5d514ca1908698fc6d9555a5`\n",
    "\n",
    "Copy the number into the command below and run it."
   ]
  },
  {
   "cell_type": "code",
   "execution_count": 3,
   "metadata": {
    "id": "ueG-lFepxtew"
   },
   "outputs": [],
   "source": [
    "jina_auth_token = \"<insert your token here>\""
   ]
  },
  {
   "cell_type": "markdown",
   "metadata": {
    "id": "Be5DfhCtOY0D"
   },
   "source": [
    "We will now set up a few functions for processing MP4 videos:\n",
    "\n",
    "`keyframe_path` is the directory where we will store keyframes as JPEG images.\n",
    "\n",
    "`upload_file()` Allows you to choose a file from your local file system to process. Make sure it is an MP4 video. If you choose more than one file, it will only take the first.\n",
    "\n",
    "`download_file(url)` takes a URL and downloads the file from there. Make sure it is an MP4 video.\n",
    "\n",
    "`get_keyframes_data(video_data, cut_sim=0.6)` extracts and saves keyframes from the video to the directory `keyframe_path`. The argument `cut_sim` is the sensitivity of the keyframe extraction: Lower values produce more keyframes and shorter matching segments, higher values produce fewer keyframes and longer matching segments, but are more likely to miss things if they are not on the screen very long. It defaults to 0.6.\n",
    "\n",
    "`search_frame(keyframe_data, search_string, topn, token, server_url: str='grpcs://api.clip.jina.ai:2096')` takes the keyframes returned by `get_keyframes_data` and text to match (`search_string`) and returns at most\n",
    "`topn` matching keyframes. `token` is the C-a-s authorization token already stored in `jina_auth_token`. It stores the results in the directory `tmp_video`.\n",
    "\n",
    "`display_matching_videos()` displays the matching segments of video, centered on the keyframe matches, stored in `tmp_video`.\n"
   ]
  },
  {
   "cell_type": "code",
   "execution_count": 4,
   "metadata": {
    "id": "jYY9OZQD6B5W"
   },
   "outputs": [],
   "source": [
    "from docarray import Document, DocumentArray\n",
    "from clip_client import Client\n",
    "from google.colab import files\n",
    "from urllib.parse import urlparse\n",
    "from urllib.request import urlretrieve\n",
    "from IPython.display import display, HTML\n",
    "from PIL import Image\n",
    "from base64 import b64encode\n",
    "import numpy as np\n",
    "import os\n",
    "import skvideo.io\n",
    "import warnings \n",
    "import shutil\n",
    "import requests \n",
    "import imagehash\n",
    "\n",
    "keyframe_path = 'keyframes'\n",
    "if not os.path.exists(keyframe_path):\n",
    "    os.mkdir(keyframe_path)\n",
    "\n",
    "\n",
    "def _make_html_data_display(data, filename: str):\n",
    "      data_url = \"data:video/mp4;base64,\" + b64encode(data).decode()\n",
    "      retstr = \"<b>Filename:</b> \" + filename + \"<p>\"\n",
    "      retstr += \"\"\"\n",
    "              <video width=400 controls>\n",
    "                    <source src=\"%s\" type=\"video/mp4\">\n",
    "              </video>\n",
    "              \"\"\" % data_url\n",
    "      display(HTML(retstr))\n",
    "\n",
    "\n",
    "def upload_video():\n",
    "    warnings.filterwarnings(\"ignore\", category=DeprecationWarning)\n",
    "    display(HTML(\"Select an <b>MP4 video</b> file to upload.<br>\"))\n",
    "    uploaded_data = files.upload()\n",
    "    for filename in uploaded_data.keys():\n",
    "        uploaded_file_data = uploaded_data[filename]\n",
    "        _make_html_data_display(uploaded_file_data, filename)\n",
    "        return skvideo.io.vread(list(uploaded_data)[0])\n",
    "\n",
    "\n",
    "def download_video_from_url(url: str):\n",
    "    filename = os.path.basename(urlparse(url).path)\n",
    "    urlretrieve(url, filename)\n",
    "    _make_html_data_display(open(filename, 'rb').read(), filename)\n",
    "    return skvideo.io.vread(filename)\n",
    "\n",
    "\n",
    "def get_keyframes_data(video_data: 'np.ndarray', cut_sim: float=0.6):\n",
    "    \"\"\"\n",
    "    This function extracts key frames from the video and save them into ``keyframes`` folder \n",
    "    \"\"\"\n",
    "    last_hash = imagehash.phash(Image.fromarray(video_data[0]))\n",
    "    key_frames = [0]\n",
    "    frame_num = 0\n",
    "    for each_frame in video_data:\n",
    "        frame_hash = imagehash.phash(Image.fromarray(each_frame))\n",
    "        similarity = 1 - (last_hash - frame_hash) / len(frame_hash.hash) ** 2\n",
    "        if similarity < cut_sim:\n",
    "            key_frames.append(frame_num)\n",
    "        frame_num += 1\n",
    "        last_hash = frame_hash\n",
    "    video_length = len(video_data)\n",
    "    key_frames.append(video_length)\n",
    "    keyframes_data = [((i, key_frames[key_frames.index(i)+1]), video_data[i]) for i in key_frames if i != video_length]\n",
    "    \n",
    "    if os.path.exists(keyframe_path):\n",
    "        os.system('cd {} && rm *'.format(keyframe_path))\n",
    "    for i, keyframe in enumerate(keyframes_data):\n",
    "        Image.fromarray(keyframe[1]).save(f\"{keyframe_path}/{i}.jpeg\")\n",
    "\n",
    "    return DocumentArray([\n",
    "        Document(tags={'left': str(tup[0][0]),'right': str(tup[0][1])},\n",
    "                 tensor=tup[1]).convert_image_tensor_to_blob()\n",
    "                 for tup in keyframes_data])\n",
    "\n",
    "\n",
    "def search_frame(keyframe_da: DocumentArray, prompt: str, topn: int, token: str, server_url: str='grpcs://api.clip.jina.ai:2096'):\n",
    "    warnings.filterwarnings(\"ignore\", category=DeprecationWarning)\n",
    "    client = Client(server_url, credential={'Authorization': token})\n",
    "    d = Document(text=prompt, matches=keyframe_da)\n",
    "    r = client.rank([d], show_progress=True)\n",
    "    result = r['@m', ['tags', 'blob', 'scores__clip_score__value']]\n",
    "    spams, ndarray, scores = [each[:topn] for each in result]\n",
    "    if os.path.exists('tmp_videos'):\n",
    "        for video in os.listdir('tmp_videos'):\n",
    "            os.remove(os.path.join('tmp_videos', video))\n",
    "        shutil.rmtree('tmp_videos')\n",
    "    for spam in spams:\n",
    "        i = spams.index(spam)\n",
    "        os.makedirs('tmp_videos', exist_ok=True)\n",
    "        save_name = 'tmp_videos/' + str(i) + '_tmp.mp4'\n",
    "        skvideo.io.vwrite(save_name, video_data[int(spam['left']):int(spam['right'])])\n",
    "\n",
    "\n",
    "def display_matching_videos():\n",
    "    \"\"\"\n",
    "    NOTICE: this function is not working in for loop,\n",
    "    so run it multiple times if you want to display multiple videos\n",
    "    \"\"\"\n",
    "    fn_list = []\n",
    "    for fn in os.listdir('tmp_videos'):\n",
    "        if fn.endswith('.mp4'):\n",
    "            fn_list.append(fn)\n",
    "    \n",
    "    retstr = ''\n",
    "    for fn in sorted(fn_list):\n",
    "        mp4 = open('tmp_videos/' + fn, 'rb').read()\n",
    "        data_url = \"data:video/mp4;base64,\" + b64encode(mp4).decode()\n",
    "        nbr = int(fn[0]) + 1\n",
    "        retstr += \"<b>Match #\" + str(nbr) + \"</b><p>\"\n",
    "        retstr += \"\"\"\n",
    "                <video width=400 controls>\n",
    "                      <source src=\"%s\" type=\"video/mp4\">\n",
    "                </video><br>\n",
    "                \"\"\" % data_url\n",
    "    return HTML(retstr)"
   ]
  },
  {
   "cell_type": "markdown",
   "metadata": {
    "id": "tQ6df93bbULA"
   },
   "source": [
    "Now, you can choose to upload a video of your own, or use an example video from the Internet."
   ]
  },
  {
   "cell_type": "markdown",
   "metadata": {
    "id": "tQ6df93bbULA"
   },
   "source": [
    "__⚠️ Please keep the size under 15MB or you risk overflowing the notebook's memory.__"
   ]
  },
  {
   "cell_type": "markdown",
   "metadata": {
    "id": "tQ6df93bbULA"
   },
   "source": [
    "If you run the command below, it will download the trailer to the 1964 film \"[Santa Claus Conquers the Martians](https://archive.org/details/santa-clause-conquers-the-martians)\" from the Internet Archive.\n",
    "\n",
    "Alternately, substitute your own URL to an MP4 video."
   ]
  },
  {
   "cell_type": "code",
   "execution_count": null,
   "metadata": {
    "id": "cxCfaJm5cA7S"
   },
   "outputs": [],
   "source": [
    "video_data = download_video_from_url(\"https://archive.org/download/santa-clause-conquers-the-martians/Santa%20Clause%20Conquers%20The%20Martians.ia.mp4\")"
   ]
  },
  {
   "cell_type": "markdown",
   "metadata": {
    "id": "sbi4u_BIcUDT"
   },
   "source": [
    "Or, you can upload an MP4 video from local files on your computer by running the command below and clicking in the \"Upload\" button to choose a file."
   ]
  },
  {
   "cell_type": "code",
   "execution_count": null,
   "metadata": {
    "id": "UyHBxei7Z-xL"
   },
   "outputs": [],
   "source": [
    "video_data = upload_video()"
   ]
  },
  {
   "cell_type": "markdown",
   "metadata": {
    "id": "CWdomKVfchR8"
   },
   "source": [
    "Now that we have an MP4 video, we will extract keyframes. The optional argument cut_sim determines how much an image needs to change before it's considered a different keyframe. Lower values lead to more keyframes, higher values lead to fewer. The default is 0.6."
   ]
  },
  {
   "cell_type": "code",
   "execution_count": 8,
   "metadata": {
    "id": "rTN7bvYR6Mke"
   },
   "outputs": [],
   "source": [
    "keyframe_data = get_keyframes_data(video_data, cut_sim=0.6)"
   ]
  },
  {
   "cell_type": "markdown",
   "metadata": {
    "id": "OUoEdhHZdF2g"
   },
   "source": [
    "And now, we will use Jina AI and CLIP-as-service to search the keyframes for ones that match the string query. If you downloaded \"Santa Claus Conquers the Martians\", the query \"Santa Claus\" will find keyframes containing Santa. For example:\n",
    "\n",
    "![793c4194-e8cc-4168-bbf1-7727e5f0cbff.jpg](data:image/jpeg;base64,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)\n",
    "\n",
    "For other videos, you should choose an appropriate text to search.\n",
    "\n",
    "The argument \"5\" is the maximum number of matches to return. If you use this, you can expect to get no more than five matching segments. There may be more matches. You can set this to any positive number you like, but higher numbers will require more processing time.\n",
    "\n"
   ]
  },
  {
   "cell_type": "code",
   "execution_count": null,
   "metadata": {
    "id": "ZOfJnjg5jNy-"
   },
   "outputs": [],
   "source": [
    "search_string = 'Santa Claus'\n",
    "search_frame(keyframe_data, search_string, 5, jina_auth_token)"
   ]
  },
  {
   "cell_type": "markdown",
   "metadata": {
    "id": "L5yNPaY_fAhI"
   },
   "source": [
    "Lastly, display the video segments associated with each matched keyframe.\n"
   ]
  },
  {
   "cell_type": "code",
   "execution_count": null,
   "metadata": {
    "id": "5bpINBpZjefz"
   },
   "outputs": [],
   "source": [
    "display_matching_videos()"
   ]
  }
 ],
 "metadata": {
  "colab": {
   "provenance": []
  },
  "gpuClass": "standard",
  "kernelspec": {
   "display_name": "Python 3 (ipykernel)",
   "language": "python",
   "name": "python3"
  },
  "language_info": {
   "codemirror_mode": {
    "name": "ipython",
    "version": 3
   },
   "file_extension": ".py",
   "mimetype": "text/x-python",
   "name": "python",
   "nbconvert_exporter": "python",
   "pygments_lexer": "ipython3",
   "version": "3.9.12"
  }
 },
 "nbformat": 4,
 "nbformat_minor": 4
}
