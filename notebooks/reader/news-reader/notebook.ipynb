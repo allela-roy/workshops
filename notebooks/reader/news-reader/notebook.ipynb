{
 "cells": [
  {
   "cell_type": "markdown",
   "id": "a0ee192a-c44f-4c7c-9df6-63b93c01c0f6",
   "metadata": {},
   "source": [
    "# Your personalized news podcast with Jina Reader, PromptPerfect, and Bark\n",
    "\n",
    "This notebook will:\n",
    "\n",
    "- Scrape RSS feeds from news sources for the latest articles.\n",
    "- Summarize each article.\n",
    "- Generate a one-paragraph news report from those summaries.\n",
    "- Read it to you via text-to-speech.\n",
    "\n",
    "This notebook is a companion to [this blog post]() on [Jina AI's blog]()."
   ]
  },
  {
   "cell_type": "markdown",
   "id": "b03a5238-c998-4fff-b665-8f7a6dd318c1",
   "metadata": {},
   "source": [
    "## Define some settings\n",
    "\n",
    "These settings define:\n",
    "\n",
    "- **Feed URLS**: The feed URLs you want to extract data from. In this example they're from a couple of tech news websites.\n",
    "- **Maximum quantities**: To keep this example manageable, we want to limit things to a certain number of feeds, news items, and sentences in the spoken output."
   ]
  },
  {
   "cell_type": "code",
   "execution_count": null,
   "id": "1f1c9d85-4e17-43cb-b51f-eba7a967706d",
   "metadata": {},
   "outputs": [],
   "source": [
    "feed_urls = [\n",
    "    \"https://www.osnews.com/feed/\",\n",
    "    \"https://www.theregister.com/headlines.atom\"\n",
    "]"
   ]
  },
  {
   "cell_type": "code",
   "execution_count": null,
   "id": "0eab9ce1-3c00-46f7-b84c-5d52300b3410",
   "metadata": {},
   "outputs": [],
   "source": [
    "# Maximum number of feeds to fetch\n",
    "MAX_FEEDS = 10\n",
    "\n",
    "# Maximum news items per feed to fetch\n",
    "MAX_ENTRIES = 3\n",
    "\n",
    "# Maximum sentences of the news script to convert to speech\n",
    "VOICE_MAX_SENTENCES = 7"
   ]
  },
  {
   "cell_type": "markdown",
   "id": "45187f28-d0cb-4f73-a27a-c7f4d5c91f19",
   "metadata": {},
   "source": [
    "## Add API keys\n",
    "\n",
    "You will be prompted to enter your PromptPerfect and Replicate API keys below."
   ]
  },
  {
   "cell_type": "code",
   "execution_count": null,
   "id": "945ec42b-5b1b-459f-81bc-9b582a149d2e",
   "metadata": {},
   "outputs": [],
   "source": [
    "import getpass\n",
    "PROMPTPERFECT_KEY = getpass.getpass()"
   ]
  },
  {
   "cell_type": "code",
   "execution_count": null,
   "id": "d54720c3-7057-4b42-9990-ad8fed2e512e",
   "metadata": {},
   "outputs": [],
   "source": [
    "import os"
   ]
  },
  {
   "cell_type": "code",
   "execution_count": null,
   "id": "9e711403-7339-4b68-9cfc-f2a4b95490db",
   "metadata": {},
   "outputs": [],
   "source": [
    "os.environ[\"REPLICATE_API_TOKEN\"] = getpass.getpass()"
   ]
  },
  {
   "cell_type": "markdown",
   "id": "ebbc6ec0-d4c0-468d-9ea3-ef5e80823813",
   "metadata": {},
   "source": [
    "## Get article URLs from feeds\n",
    "\n",
    "Extract the latest stories from the feeds we defined."
   ]
  },
  {
   "cell_type": "code",
   "execution_count": null,
   "id": "5be57a36-8a82-4274-9be5-203d4e86526c",
   "metadata": {},
   "outputs": [],
   "source": [
    "!pip install feedparser"
   ]
  },
  {
   "cell_type": "code",
   "execution_count": null,
   "id": "beb1266a-0ccf-4c7d-9fa6-1795308f853f",
   "metadata": {},
   "outputs": [],
   "source": [
    "import feedparser, requests"
   ]
  },
  {
   "cell_type": "code",
   "execution_count": null,
   "id": "ac374509-fcdc-47e5-bdb3-363187537691",
   "metadata": {},
   "outputs": [],
   "source": [
    "page_urls = []"
   ]
  },
  {
   "cell_type": "code",
   "execution_count": null,
   "id": "06363fc4-28f2-4955-82f3-16872a021d08",
   "metadata": {},
   "outputs": [],
   "source": [
    "for feed_url in feed_urls[:MAX_FEEDS]:\n",
    "    feed = feedparser.parse(feed_url)\n",
    "    for entry in feed[\"entries\"][:MAX_ENTRIES]:\n",
    "        page_urls.append(entry[\"link\"])"
   ]
  },
  {
   "cell_type": "markdown",
   "id": "a8a52fdb-0d07-4419-8956-c9a54008766e",
   "metadata": {},
   "source": [
    "## Extract article text\n",
    "\n",
    "Define a list of URLs of news sources, then pass each URL to Jina Reader to extract the text of the article without any of the junk like sidebars, headers, footers, etc."
   ]
  },
  {
   "cell_type": "code",
   "execution_count": null,
   "id": "477b2ce9-6e60-4de3-babc-c37850c834bf",
   "metadata": {},
   "outputs": [],
   "source": [
    "articles = []\n",
    "\n",
    "for url in page_urls:\n",
    "    print(f\"Processing {url}\")\n",
    "    reader_url = f\"https://r.jina.ai/{url}\"\n",
    "    article = requests.get(reader_url)\n",
    "    articles.append(article.text)"
   ]
  },
  {
   "cell_type": "markdown",
   "id": "e5fa8d68-da95-4ccf-98f6-2dca7ca90c33",
   "metadata": {},
   "source": [
    "## Summarize each article\n",
    "\n",
    "Pass each article text to a customized Prompt-as-a-Service on PromptPerfect, generating a summary of each."
   ]
  },
  {
   "cell_type": "markdown",
   "id": "eae23497-d6f6-463e-9d67-d599fb6cb230",
   "metadata": {},
   "source": [
    "Since we're using several prompts-as-services, let's define one function that we can use throughout the script:\n",
    "- The function's `prompt_id` parameter defines which prompt we call. Each Prompt-as-Service has a unique ID.\n",
    "- The `template_dict` parameter lets us define variables, like the initial article text or list of concatenated articles."
   ]
  },
  {
   "cell_type": "code",
   "execution_count": null,
   "id": "2ff432d9-35a5-4077-b02a-7e0bcb8d3fd1",
   "metadata": {},
   "outputs": [],
   "source": [
    "def get_paas_response(prompt_id, template_dict):\n",
    "    url = f\"https://api.promptperfect.jina.ai/{prompt_id}\"\n",
    "\n",
    "    headers = {\n",
    "        \"x-api-key\": f\"token {PROMPTPERFECT_KEY}\",\n",
    "        \"Content-Type\": \"application/json\"\n",
    "    }\n",
    "    \n",
    "    response = requests.post(url, headers=headers, json={\"parameters\": template_dict})\n",
    "    if response.status_code == 200:\n",
    "        text = response.json()[\"data\"]\n",
    "        return text\n",
    "    else:\n",
    "        return response.text"
   ]
  },
  {
   "cell_type": "code",
   "execution_count": null,
   "id": "ba9ed1e7-f1ad-4991-9438-f252a4434852",
   "metadata": {},
   "outputs": [],
   "source": [
    "summaries = []\n",
    "\n",
    "for article in articles:\n",
    "    summary = get_paas_response(prompt_id=\"mkuMXLdx1kMU0Xa8l19A\", template_dict={\"article\": article})\n",
    "    summaries.append(summary)"
   ]
  },
  {
   "cell_type": "code",
   "execution_count": null,
   "id": "d7cad909-b77f-48b1-acd6-cfc3fc1d45d7",
   "metadata": {},
   "outputs": [],
   "source": [
    "summaries"
   ]
  },
  {
   "cell_type": "code",
   "execution_count": null,
   "id": "733256a7-e42e-4ca1-97e4-0c3ad3335250",
   "metadata": {},
   "outputs": [],
   "source": [
    "# Put all of the summaries into one text string as bullet points\n",
    "concat_summaries = \"\\n- \".join(summaries)"
   ]
  },
  {
   "cell_type": "markdown",
   "id": "0c9728a2-b418-4ace-9011-3cd348cd3dee",
   "metadata": {},
   "source": [
    "## Convert summaries to news report script\n",
    "\n",
    "Use another Prompt-as-a-Service to generate a natural sounding news report from the summaries."
   ]
  },
  {
   "cell_type": "code",
   "execution_count": null,
   "id": "02c92026-890f-4b98-81cf-b9bea20d0d72",
   "metadata": {},
   "outputs": [],
   "source": [
    "news_script = get_paas_response(prompt_id=\"tmW07mipzJ14HgAjOcfD\", template_dict={\"summaries\": concat_summaries})"
   ]
  },
  {
   "cell_type": "markdown",
   "id": "5a67d7d8-a05d-4e13-adfb-5de8f53826ec",
   "metadata": {},
   "source": [
    "## Convert news report script to speech\n",
    "\n",
    "Use the Bark model on Replicate to convert the text to natural-sounding speech.\n",
    "\n",
    "**Note:** The weird `b76242...` string is required to make the model work. It's not an API key, just some sort of UUID for the model."
   ]
  },
  {
   "cell_type": "code",
   "execution_count": null,
   "id": "adfce55f-d5ed-413b-a0a4-d40e4e80d44b",
   "metadata": {},
   "outputs": [],
   "source": [
    "!pip install replicate"
   ]
  },
  {
   "cell_type": "code",
   "execution_count": null,
   "id": "50536444-6092-4fac-bcba-9b661d0b47db",
   "metadata": {},
   "outputs": [],
   "source": [
    "import replicate\n",
    "\n",
    "def get_voice(script, voice=\"announcer\"):\n",
    "    input_data = {\n",
    "    \"prompt\": script,\n",
    "    \"history_prompt\": voice,\n",
    "    }\n",
    "    \n",
    "    output = replicate.run(\n",
    "        \"suno-ai/bark:b76242b40d67c76ab6742e987628a2a9ac019e11d56ab96c4e91ce03b79b2787\",\n",
    "        input=input_data\n",
    "    )\n",
    "\n",
    "    os.makedirs(\"output\", exist_ok=True)\n",
    "\n",
    "    import datetime\n",
    "\n",
    "    # Get current date and time\n",
    "    now = datetime.datetime.now()\n",
    "    \n",
    "    # Format the date and time\n",
    "    filename = f'output/{now.strftime(\"%Y-%m-%d-%H:%M.wav\")}'\n",
    "\n",
    "    response = requests.get(output[\"audio_out\"])\n",
    "\n",
    "    with open(filename, \"wb\") as file:\n",
    "        file.write(response.content)\n",
    "    \n",
    "    return filename"
   ]
  },
  {
   "cell_type": "markdown",
   "id": "b8cb91b4-fb53-4771-a66c-cba81d8c3c81",
   "metadata": {},
   "source": [
    "### Try snippet first\n",
    "\n",
    "We don't want to spend too much money on the Replicate API, so we'll split the news script into sentences (more or less) and just take a few of those to start (based on `VOICE_MAX_CHUNKS`, defined earlier in the notebook.)"
   ]
  },
  {
   "cell_type": "code",
   "execution_count": null,
   "id": "a6a7e392-a56a-46dd-9532-d07243efc152",
   "metadata": {},
   "outputs": [],
   "source": [
    "chunks = news_script.split(\". \")"
   ]
  },
  {
   "cell_type": "code",
   "execution_count": null,
   "id": "14608d56-2ff4-42ff-9f66-0459a85c3b97",
   "metadata": {},
   "outputs": [],
   "source": [
    "snippet = \". \".join(chunks[:VOICE_MAX_SENTENCES])"
   ]
  },
  {
   "cell_type": "code",
   "execution_count": null,
   "id": "e4e711a5-860c-45bb-a37a-b7169e4d8597",
   "metadata": {},
   "outputs": [],
   "source": [
    "snippet"
   ]
  },
  {
   "cell_type": "code",
   "execution_count": null,
   "id": "173eb8de-77ad-4f53-8fac-46bd10ae9c74",
   "metadata": {},
   "outputs": [],
   "source": [
    "voice = get_voice(snippet)"
   ]
  },
  {
   "cell_type": "markdown",
   "id": "2d2f0322-0ba1-491d-b2de-74758e6ecf8f",
   "metadata": {},
   "source": [
    "## Play audio"
   ]
  },
  {
   "cell_type": "code",
   "execution_count": null,
   "id": "769ce53b-3da0-4487-9e0c-c8b83470441c",
   "metadata": {},
   "outputs": [],
   "source": [
    "from IPython.display import Audio"
   ]
  },
  {
   "cell_type": "code",
   "execution_count": null,
   "id": "858bc314-2b47-4a66-ba49-47511d065fd4",
   "metadata": {},
   "outputs": [],
   "source": [
    "Audio(voice, autoplay=True)"
   ]
  },
  {
   "cell_type": "markdown",
   "id": "a5c4b95d-1e77-4d5d-8679-a9518b341825",
   "metadata": {},
   "source": [
    "## Next steps\n",
    "\n",
    "We're not going to dive into how to turn this content into a podcast. There are plenty of better guides out there that can cover that!"
   ]
  }
 ],
 "metadata": {
  "kernelspec": {
   "display_name": "Python 3 (ipykernel)",
   "language": "python",
   "name": "python3"
  },
  "language_info": {
   "codemirror_mode": {
    "name": "ipython",
    "version": 3
   },
   "file_extension": ".py",
   "mimetype": "text/x-python",
   "name": "python",
   "nbconvert_exporter": "python",
   "pygments_lexer": "ipython3",
   "version": "3.11.8"
  }
 },
 "nbformat": 4,
 "nbformat_minor": 5
}
