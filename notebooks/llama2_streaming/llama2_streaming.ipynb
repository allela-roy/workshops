{
  "nbformat": 4,
  "nbformat_minor": 0,
  "metadata": {
    "colab": {
      "provenance": [],
      "gpuType": "T4"
    },
    "kernelspec": {
      "name": "python3",
      "display_name": "Python 3"
    },
    "language_info": {
      "name": "python"
    },
    "accelerator": "GPU"
  },
  "cells": [
    {
      "cell_type": "markdown",
      "source": [
        "# Building a Streaming API for LlaMa 2: Real-time AI with Jina and DocArray\n",
        "\n",
        "Blogpost link\n",
        "\n",
        "⚠ Activate GPU in order to run the notebook. (Click on **Runtime** > **Change runtime type**, and in the popup, select **GPU** under **Hardware accelerator**.)\n",
        "\n",
        "First, we install the libraries we need."
      ],
      "metadata": {
        "id": "e6Sv3Y0bC8ej"
      }
    },
    {
      "cell_type": "code",
      "source": [
        "!pip install docarray jina bitsandbytes accelerate transformers"
      ],
      "metadata": {
        "colab": {
          "base_uri": "https://localhost:8080/"
        },
        "id": "8qmJvHc1SStS",
        "outputId": "51d61d20-90d6-4794-94a3-ded193f765c7"
      },
      "execution_count": 1,
      "outputs": [
        {
          "output_type": "stream",
          "name": "stdout",
          "text": [
            "Requirement already satisfied: docarray in /usr/local/lib/python3.10/dist-packages (0.37.0)\n",
            "Requirement already satisfied: jina in /usr/local/lib/python3.10/dist-packages (3.20.1)\n",
            "Requirement already satisfied: bitsandbytes in /usr/local/lib/python3.10/dist-packages (0.41.1)\n",
            "Requirement already satisfied: accelerate in /usr/local/lib/python3.10/dist-packages (0.21.0)\n",
            "Requirement already satisfied: transformers in /usr/local/lib/python3.10/dist-packages (4.31.0)\n",
            "Requirement already satisfied: numpy>=1.17.3 in /usr/local/lib/python3.10/dist-packages (from docarray) (1.23.5)\n",
            "Requirement already satisfied: orjson>=3.8.2 in /usr/local/lib/python3.10/dist-packages (from docarray) (3.9.5)\n",
            "Requirement already satisfied: pydantic<2.0.0,>=1.10.2 in /usr/local/lib/python3.10/dist-packages (from docarray) (1.10.12)\n",
            "Requirement already satisfied: rich>=13.1.0 in /usr/local/lib/python3.10/dist-packages (from docarray) (13.5.2)\n",
            "Requirement already satisfied: types-requests>=2.28.11.6 in /usr/local/lib/python3.10/dist-packages (from docarray) (2.31.0.2)\n",
            "Requirement already satisfied: typing-inspect>=0.8.0 in /usr/local/lib/python3.10/dist-packages (from docarray) (0.9.0)\n",
            "Requirement already satisfied: grpcio<1.48.1,>=1.46.0 in /usr/local/lib/python3.10/dist-packages (from jina) (1.47.5)\n",
            "Requirement already satisfied: grpcio-health-checking<1.48.1,>=1.46.0 in /usr/local/lib/python3.10/dist-packages (from jina) (1.47.5)\n",
            "Requirement already satisfied: fastapi>=0.76.0 in /usr/local/lib/python3.10/dist-packages (from jina) (0.101.1)\n",
            "Requirement already satisfied: opentelemetry-exporter-otlp>=1.12.0 in /usr/local/lib/python3.10/dist-packages (from jina) (1.19.0)\n",
            "Requirement already satisfied: urllib3<2.0.0,>=1.25.9 in /usr/local/lib/python3.10/dist-packages (from jina) (1.26.16)\n",
            "Requirement already satisfied: opentelemetry-instrumentation-aiohttp-client>=0.33b0 in /usr/local/lib/python3.10/dist-packages (from jina) (0.40b0)\n",
            "Requirement already satisfied: jcloud>=0.0.35 in /usr/local/lib/python3.10/dist-packages (from jina) (0.2.16)\n",
            "Requirement already satisfied: docker in /usr/local/lib/python3.10/dist-packages (from jina) (6.1.3)\n",
            "Requirement already satisfied: websockets in /usr/local/lib/python3.10/dist-packages (from jina) (11.0.3)\n",
            "Requirement already satisfied: filelock in /usr/local/lib/python3.10/dist-packages (from jina) (3.12.2)\n",
            "Requirement already satisfied: uvicorn[standard]<=0.23.1 in /usr/local/lib/python3.10/dist-packages (from jina) (0.23.1)\n",
            "Requirement already satisfied: jina-hubble-sdk>=0.30.4 in /usr/local/lib/python3.10/dist-packages (from jina) (0.39.0)\n",
            "Requirement already satisfied: opentelemetry-api>=1.12.0 in /usr/local/lib/python3.10/dist-packages (from jina) (1.19.0)\n",
            "Requirement already satisfied: opentelemetry-instrumentation-grpc>=0.35b0 in /usr/local/lib/python3.10/dist-packages (from jina) (0.40b0)\n",
            "Requirement already satisfied: aiohttp in /usr/local/lib/python3.10/dist-packages (from jina) (3.8.5)\n",
            "Requirement already satisfied: aiofiles in /usr/local/lib/python3.10/dist-packages (from jina) (23.2.1)\n",
            "Requirement already satisfied: opentelemetry-exporter-otlp-proto-grpc>=1.13.0 in /usr/local/lib/python3.10/dist-packages (from jina) (1.19.0)\n",
            "Requirement already satisfied: protobuf>=3.19.0 in /usr/local/lib/python3.10/dist-packages (from jina) (3.20.3)\n",
            "Requirement already satisfied: grpcio-reflection<1.48.1,>=1.46.0 in /usr/local/lib/python3.10/dist-packages (from jina) (1.47.5)\n",
            "Requirement already satisfied: opentelemetry-exporter-prometheus>=1.12.0rc1 in /usr/local/lib/python3.10/dist-packages (from jina) (1.12.0rc1)\n",
            "Requirement already satisfied: pyyaml>=5.3.1 in /usr/local/lib/python3.10/dist-packages (from jina) (6.0.1)\n",
            "Requirement already satisfied: packaging>=20.0 in /usr/local/lib/python3.10/dist-packages (from jina) (23.1)\n",
            "Requirement already satisfied: requests in /usr/local/lib/python3.10/dist-packages (from jina) (2.31.0)\n",
            "Requirement already satisfied: pathspec in /usr/local/lib/python3.10/dist-packages (from jina) (0.11.2)\n",
            "Requirement already satisfied: opentelemetry-sdk>=1.14.0 in /usr/local/lib/python3.10/dist-packages (from jina) (1.19.0)\n",
            "Requirement already satisfied: prometheus-client>=0.12.0 in /usr/local/lib/python3.10/dist-packages (from jina) (0.17.1)\n",
            "Requirement already satisfied: opentelemetry-instrumentation-fastapi>=0.33b0 in /usr/local/lib/python3.10/dist-packages (from jina) (0.40b0)\n",
            "Requirement already satisfied: python-multipart in /usr/local/lib/python3.10/dist-packages (from jina) (0.0.6)\n",
            "Requirement already satisfied: uvloop in /usr/local/lib/python3.10/dist-packages (from jina) (0.17.0)\n",
            "Requirement already satisfied: psutil in /usr/local/lib/python3.10/dist-packages (from accelerate) (5.9.5)\n",
            "Requirement already satisfied: torch>=1.10.0 in /usr/local/lib/python3.10/dist-packages (from accelerate) (2.0.1+cu118)\n",
            "Requirement already satisfied: huggingface-hub<1.0,>=0.14.1 in /usr/local/lib/python3.10/dist-packages (from transformers) (0.16.4)\n",
            "Requirement already satisfied: regex!=2019.12.17 in /usr/local/lib/python3.10/dist-packages (from transformers) (2023.6.3)\n",
            "Requirement already satisfied: tokenizers!=0.11.3,<0.14,>=0.11.1 in /usr/local/lib/python3.10/dist-packages (from transformers) (0.13.3)\n",
            "Requirement already satisfied: safetensors>=0.3.1 in /usr/local/lib/python3.10/dist-packages (from transformers) (0.3.2)\n",
            "Requirement already satisfied: tqdm>=4.27 in /usr/local/lib/python3.10/dist-packages (from transformers) (4.66.1)\n",
            "Requirement already satisfied: starlette<0.28.0,>=0.27.0 in /usr/local/lib/python3.10/dist-packages (from fastapi>=0.76.0->jina) (0.27.0)\n",
            "Requirement already satisfied: typing-extensions>=4.5.0 in /usr/local/lib/python3.10/dist-packages (from fastapi>=0.76.0->jina) (4.7.1)\n",
            "Requirement already satisfied: six>=1.5.2 in /usr/local/lib/python3.10/dist-packages (from grpcio<1.48.1,>=1.46.0->jina) (1.16.0)\n",
            "Requirement already satisfied: fsspec in /usr/local/lib/python3.10/dist-packages (from huggingface-hub<1.0,>=0.14.1->transformers) (2023.6.0)\n",
            "Requirement already satisfied: python-dotenv in /usr/local/lib/python3.10/dist-packages (from jcloud>=0.0.35->jina) (1.0.0)\n",
            "Requirement already satisfied: python-dateutil in /usr/local/lib/python3.10/dist-packages (from jcloud>=0.0.35->jina) (2.8.2)\n",
            "Requirement already satisfied: attrs>=17.3.0 in /usr/local/lib/python3.10/dist-packages (from aiohttp->jina) (23.1.0)\n",
            "Requirement already satisfied: charset-normalizer<4.0,>=2.0 in /usr/local/lib/python3.10/dist-packages (from aiohttp->jina) (3.2.0)\n",
            "Requirement already satisfied: multidict<7.0,>=4.5 in /usr/local/lib/python3.10/dist-packages (from aiohttp->jina) (6.0.4)\n",
            "Requirement already satisfied: async-timeout<5.0,>=4.0.0a3 in /usr/local/lib/python3.10/dist-packages (from aiohttp->jina) (4.0.3)\n",
            "Requirement already satisfied: yarl<2.0,>=1.0 in /usr/local/lib/python3.10/dist-packages (from aiohttp->jina) (1.9.2)\n",
            "Requirement already satisfied: frozenlist>=1.1.1 in /usr/local/lib/python3.10/dist-packages (from aiohttp->jina) (1.4.0)\n",
            "Requirement already satisfied: aiosignal>=1.1.2 in /usr/local/lib/python3.10/dist-packages (from aiohttp->jina) (1.3.1)\n",
            "Requirement already satisfied: importlib-metadata in /usr/local/lib/python3.10/dist-packages (from jina-hubble-sdk>=0.30.4->jina) (6.8.0)\n",
            "Requirement already satisfied: python-jose in /usr/local/lib/python3.10/dist-packages (from jina-hubble-sdk>=0.30.4->jina) (3.3.0)\n",
            "Requirement already satisfied: deprecated>=1.2.6 in /usr/local/lib/python3.10/dist-packages (from opentelemetry-api>=1.12.0->jina) (1.2.14)\n",
            "Requirement already satisfied: opentelemetry-exporter-otlp-proto-http==1.19.0 in /usr/local/lib/python3.10/dist-packages (from opentelemetry-exporter-otlp>=1.12.0->jina) (1.19.0)\n",
            "Requirement already satisfied: backoff<3.0.0,>=1.10.0 in /usr/local/lib/python3.10/dist-packages (from opentelemetry-exporter-otlp-proto-grpc>=1.13.0->jina) (2.2.1)\n",
            "Requirement already satisfied: googleapis-common-protos~=1.52 in /usr/local/lib/python3.10/dist-packages (from opentelemetry-exporter-otlp-proto-grpc>=1.13.0->jina) (1.60.0)\n",
            "Requirement already satisfied: opentelemetry-exporter-otlp-proto-common==1.19.0 in /usr/local/lib/python3.10/dist-packages (from opentelemetry-exporter-otlp-proto-grpc>=1.13.0->jina) (1.19.0)\n",
            "Requirement already satisfied: opentelemetry-proto==1.19.0 in /usr/local/lib/python3.10/dist-packages (from opentelemetry-exporter-otlp-proto-grpc>=1.13.0->jina) (1.19.0)\n",
            "Requirement already satisfied: opentelemetry-instrumentation==0.40b0 in /usr/local/lib/python3.10/dist-packages (from opentelemetry-instrumentation-aiohttp-client>=0.33b0->jina) (0.40b0)\n",
            "Requirement already satisfied: opentelemetry-semantic-conventions==0.40b0 in /usr/local/lib/python3.10/dist-packages (from opentelemetry-instrumentation-aiohttp-client>=0.33b0->jina) (0.40b0)\n",
            "Requirement already satisfied: opentelemetry-util-http==0.40b0 in /usr/local/lib/python3.10/dist-packages (from opentelemetry-instrumentation-aiohttp-client>=0.33b0->jina) (0.40b0)\n",
            "Requirement already satisfied: wrapt<2.0.0,>=1.0.0 in /usr/local/lib/python3.10/dist-packages (from opentelemetry-instrumentation-aiohttp-client>=0.33b0->jina) (1.14.1)\n",
            "Requirement already satisfied: setuptools>=16.0 in /usr/local/lib/python3.10/dist-packages (from opentelemetry-instrumentation==0.40b0->opentelemetry-instrumentation-aiohttp-client>=0.33b0->jina) (67.7.2)\n",
            "Requirement already satisfied: opentelemetry-instrumentation-asgi==0.40b0 in /usr/local/lib/python3.10/dist-packages (from opentelemetry-instrumentation-fastapi>=0.33b0->jina) (0.40b0)\n",
            "Requirement already satisfied: asgiref~=3.0 in /usr/local/lib/python3.10/dist-packages (from opentelemetry-instrumentation-asgi==0.40b0->opentelemetry-instrumentation-fastapi>=0.33b0->jina) (3.7.2)\n",
            "Requirement already satisfied: idna<4,>=2.5 in /usr/local/lib/python3.10/dist-packages (from requests->jina) (3.4)\n",
            "Requirement already satisfied: certifi>=2017.4.17 in /usr/local/lib/python3.10/dist-packages (from requests->jina) (2023.7.22)\n",
            "Requirement already satisfied: markdown-it-py>=2.2.0 in /usr/local/lib/python3.10/dist-packages (from rich>=13.1.0->docarray) (3.0.0)\n",
            "Requirement already satisfied: pygments<3.0.0,>=2.13.0 in /usr/local/lib/python3.10/dist-packages (from rich>=13.1.0->docarray) (2.16.1)\n",
            "Requirement already satisfied: sympy in /usr/local/lib/python3.10/dist-packages (from torch>=1.10.0->accelerate) (1.12)\n",
            "Requirement already satisfied: networkx in /usr/local/lib/python3.10/dist-packages (from torch>=1.10.0->accelerate) (3.1)\n",
            "Requirement already satisfied: jinja2 in /usr/local/lib/python3.10/dist-packages (from torch>=1.10.0->accelerate) (3.1.2)\n",
            "Requirement already satisfied: triton==2.0.0 in /usr/local/lib/python3.10/dist-packages (from torch>=1.10.0->accelerate) (2.0.0)\n",
            "Requirement already satisfied: cmake in /usr/local/lib/python3.10/dist-packages (from triton==2.0.0->torch>=1.10.0->accelerate) (3.27.2)\n",
            "Requirement already satisfied: lit in /usr/local/lib/python3.10/dist-packages (from triton==2.0.0->torch>=1.10.0->accelerate) (16.0.6)\n",
            "Requirement already satisfied: types-urllib3 in /usr/local/lib/python3.10/dist-packages (from types-requests>=2.28.11.6->docarray) (1.26.25.14)\n",
            "Requirement already satisfied: mypy-extensions>=0.3.0 in /usr/local/lib/python3.10/dist-packages (from typing-inspect>=0.8.0->docarray) (1.0.0)\n",
            "Requirement already satisfied: click>=7.0 in /usr/local/lib/python3.10/dist-packages (from uvicorn[standard]<=0.23.1->jina) (8.1.7)\n",
            "Requirement already satisfied: h11>=0.8 in /usr/local/lib/python3.10/dist-packages (from uvicorn[standard]<=0.23.1->jina) (0.14.0)\n",
            "Requirement already satisfied: httptools>=0.5.0 in /usr/local/lib/python3.10/dist-packages (from uvicorn[standard]<=0.23.1->jina) (0.6.0)\n",
            "Requirement already satisfied: watchfiles>=0.13 in /usr/local/lib/python3.10/dist-packages (from uvicorn[standard]<=0.23.1->jina) (0.19.0)\n",
            "Requirement already satisfied: websocket-client>=0.32.0 in /usr/local/lib/python3.10/dist-packages (from docker->jina) (1.6.1)\n",
            "Requirement already satisfied: zipp>=0.5 in /usr/local/lib/python3.10/dist-packages (from importlib-metadata->jina-hubble-sdk>=0.30.4->jina) (3.16.2)\n",
            "Requirement already satisfied: mdurl~=0.1 in /usr/local/lib/python3.10/dist-packages (from markdown-it-py>=2.2.0->rich>=13.1.0->docarray) (0.1.2)\n",
            "Requirement already satisfied: anyio<5,>=3.4.0 in /usr/local/lib/python3.10/dist-packages (from starlette<0.28.0,>=0.27.0->fastapi>=0.76.0->jina) (3.7.1)\n",
            "Requirement already satisfied: MarkupSafe>=2.0 in /usr/local/lib/python3.10/dist-packages (from jinja2->torch>=1.10.0->accelerate) (2.1.3)\n",
            "Requirement already satisfied: ecdsa!=0.15 in /usr/local/lib/python3.10/dist-packages (from python-jose->jina-hubble-sdk>=0.30.4->jina) (0.18.0)\n",
            "Requirement already satisfied: rsa in /usr/local/lib/python3.10/dist-packages (from python-jose->jina-hubble-sdk>=0.30.4->jina) (4.9)\n",
            "Requirement already satisfied: pyasn1 in /usr/local/lib/python3.10/dist-packages (from python-jose->jina-hubble-sdk>=0.30.4->jina) (0.5.0)\n",
            "Requirement already satisfied: mpmath>=0.19 in /usr/local/lib/python3.10/dist-packages (from sympy->torch>=1.10.0->accelerate) (1.3.0)\n",
            "Requirement already satisfied: sniffio>=1.1 in /usr/local/lib/python3.10/dist-packages (from anyio<5,>=3.4.0->starlette<0.28.0,>=0.27.0->fastapi>=0.76.0->jina) (1.3.0)\n",
            "Requirement already satisfied: exceptiongroup in /usr/local/lib/python3.10/dist-packages (from anyio<5,>=3.4.0->starlette<0.28.0,>=0.27.0->fastapi>=0.76.0->jina) (1.1.3)\n"
          ]
        }
      ]
    },
    {
      "cell_type": "markdown",
      "source": [
        "⚠ Before starting, you will need permission from Meta to download Llama 2 models from Hugging Face.\n",
        "\n",
        "- First, you will need a Hugging Face account. You can sign up for one for free at https://huggingface.co/join.\n",
        "- Next, you will need to request permission from Meta. You can make the request at https://huggingface.co/meta-llama/Llama-2-7b-chat-hf when you are logged in with your Hugging Face credentials. This request may take **one to two days to process**.\n",
        "- Finally, request a token from Hugging Face from your settings page at https://huggingface.co/settings/tokens. You will need this token to download the model.- Finally, request a token from Hugging Face from your settings page at https://huggingface.co/settings/tokens. You will need this token to download the model.\n",
        "\n",
        "**Your Hugging Face account email address MUST match the email you provide on the Meta website, or your request will not be approved.**\n",
        "\n",
        "When prompted by `huggingface-cli` below, paste your token into the `Token:` field and press enter."
      ],
      "metadata": {
        "id": "auuo5dBcDZrR"
      }
    },
    {
      "cell_type": "code",
      "source": [
        "!huggingface-cli login"
      ],
      "metadata": {
        "colab": {
          "base_uri": "https://localhost:8080/"
        },
        "id": "5syCHjzKFwsy",
        "outputId": "70af9b4c-5e24-4a19-c248-9a7a5db8d8d0"
      },
      "execution_count": 2,
      "outputs": [
        {
          "output_type": "stream",
          "name": "stdout",
          "text": [
            "\n",
            "    _|    _|  _|    _|    _|_|_|    _|_|_|  _|_|_|  _|      _|    _|_|_|      _|_|_|_|    _|_|      _|_|_|  _|_|_|_|\n",
            "    _|    _|  _|    _|  _|        _|          _|    _|_|    _|  _|            _|        _|    _|  _|        _|\n",
            "    _|_|_|_|  _|    _|  _|  _|_|  _|  _|_|    _|    _|  _|  _|  _|  _|_|      _|_|_|    _|_|_|_|  _|        _|_|_|\n",
            "    _|    _|  _|    _|  _|    _|  _|    _|    _|    _|    _|_|  _|    _|      _|        _|    _|  _|        _|\n",
            "    _|    _|    _|_|      _|_|_|    _|_|_|  _|_|_|  _|      _|    _|_|_|      _|        _|    _|    _|_|_|  _|_|_|_|\n",
            "    \n",
            "    To login, `huggingface_hub` requires a token generated from https://huggingface.co/settings/tokens .\n",
            "Token: \n",
            "Add token as git credential? (Y/n) n\n",
            "Token is valid (permission: read).\n",
            "Your token has been saved to /root/.cache/huggingface/token\n",
            "Login successful\n"
          ]
        }
      ]
    },
    {
      "cell_type": "markdown",
      "source": [
        "# Set up the schema classes\n",
        "\n",
        "First, we write the message schemas using DocArray."
      ],
      "metadata": {
        "id": "ywwBjjUEhHdl"
      }
    },
    {
      "cell_type": "code",
      "source": [
        "from docarray import BaseDoc\n",
        "\n",
        "class PromptDocument(BaseDoc):\n",
        "    prompt: str\n",
        "    max_tokens: int\n",
        "\n",
        "class ModelOutputDocument(BaseDoc):\n",
        "    token_id: int\n",
        "    generated_text: str"
      ],
      "metadata": {
        "id": "MRosCZw1EmLq"
      },
      "execution_count": 4,
      "outputs": []
    },
    {
      "cell_type": "markdown",
      "source": [
        "# Construct an Executor\n",
        "\n",
        "Now, construct the Executor, including the code to download and open the Llama-2-7b-chat-hf model and tokenizer."
      ],
      "metadata": {
        "id": "6wbe92CHjx40"
      }
    },
    {
      "cell_type": "code",
      "source": [
        "from jina import Executor, requests\n",
        "from transformers import AutoTokenizer, AutoModelForCausalLM\n",
        "import torch\n",
        "\n",
        "model_name = \"meta-llama/Llama-2-7b-chat-hf\"\n",
        "\n",
        "class TokenStreamingExecutor(Executor):\n",
        "    def __init__(self, **kwargs):\n",
        "        super().__init__(**kwargs)\n",
        "        self.tokenizer = AutoTokenizer.from_pretrained(model_name)\n",
        "        self.model = AutoModelForCausalLM.from_pretrained(\n",
        "            model_name,\n",
        "            device_map='auto',\n",
        "            load_in_8bit=True\n",
        "        )\n",
        "\n",
        "    def starts_with_space(self, token_id):\n",
        "        token = self.tokenizer.convert_ids_to_tokens(token_id)\n",
        "        return token.startswith('▁')\n",
        "\n",
        "    @requests(on='/stream')\n",
        "    async def task(self, doc: PromptDocument, **kwargs) -> ModelOutputDocument:\n",
        "        input = self.tokenizer(doc.prompt, return_tensors='pt')\n",
        "        input_len = input['input_ids'].shape[1]\n",
        "\n",
        "        for output_length in range(doc.max_tokens):\n",
        "            output = self.model.generate(**input, max_new_tokens=1)\n",
        "            current_token_id = output[0][-1]\n",
        "            if current_token_id == self.tokenizer.eos_token_id:\n",
        "                break\n",
        "\n",
        "            current_token = self.tokenizer.decode(current_token_id, skip_special_tokens=True)\n",
        "            if self.starts_with_space(current_token_id.item()) and output_length > 1:\n",
        "                current_token = ' ' + current_token\n",
        "            yield ModelOutputDocument(\n",
        "                token_id=current_token_id,\n",
        "                generated_text=current_token,\n",
        "            )\n",
        "\n",
        "            input = {\n",
        "                'input_ids': output,\n",
        "                'attention_mask': torch.ones(1, len(output[0])),\n",
        "            }\n"
      ],
      "metadata": {
        "id": "t-E12PNtoBFy"
      },
      "execution_count": 5,
      "outputs": []
    },
    {
      "cell_type": "markdown",
      "source": [
        "#Create a prompt for Llama 2.\n",
        "\n",
        "Next, we create the prompt, including system instruction."
      ],
      "metadata": {
        "id": "0Nqneio4j3PN"
      }
    },
    {
      "cell_type": "code",
      "source": [
        "llama_prompt = PromptDocument(\n",
        "    max_token=200,\n",
        "    prompt=\"\"\"<s>[INST] <<SYS>>\n",
        "You are a helpful, respectful, and honest assistant. Always answer as helpfully\n",
        "and thoroughly as possible, while being safe. Sometimes people might say things\n",
        "jokingly so don't take everything too seriously.\n",
        "\n",
        "If a question does not make any sense, or is not factually coherent, explain why\n",
        "instead of answering something not correct. If you don't know the answer to a\n",
        "question, please don't share false information.\n",
        "<</SYS>>\n",
        "\n",
        "If I punch myself in the face and it hurts, am I weak or strong?! [/INST]\"\"\"\n",
        ")"
      ],
      "metadata": {
        "id": "1OiZPVYMg13B"
      },
      "execution_count": null,
      "outputs": []
    },
    {
      "cell_type": "markdown",
      "source": [
        "# Loading the model and executing requests to it\n",
        "\n",
        "This `main()` method will create a client to talk the to deployed Executor and query it with the prompt, printing out its answer as it streams in."
      ],
      "metadata": {
        "id": "3zKNye6akL1g"
      }
    },
    {
      "cell_type": "code",
      "source": [
        "from jina import Deployment, Client\n",
        "import asyncio\n",
        "\n",
        "async def main():\n",
        "  client = Client(port=12345, protocol='grpc', asyncio=True)\n",
        "  async for doc in client.stream_doc(\n",
        "      on='/stream',\n",
        "      inputs=PromptDocument(prompt=llama_prompt, max_tokens=200),\n",
        "      return_type=ModelOutputDocument,\n",
        "  ):\n",
        "      print(doc.generated_text, end='')\n"
      ],
      "metadata": {
        "id": "dyt2bqw4pKp_"
      },
      "execution_count": 7,
      "outputs": []
    },
    {
      "cell_type": "markdown",
      "source": [
        "Last, we deploy the Executor and run the `main()` method from above."
      ],
      "metadata": {
        "id": "Ke8HqUO7kpUQ"
      }
    },
    {
      "cell_type": "code",
      "source": [
        "async def deploy_and_run():\n",
        "    with Deployment(uses=TokenStreamingExecutor, port=12345, protocol='grpc'):\n",
        "        await main()"
      ],
      "metadata": {
        "id": "SG4Zva1jXrnI"
      },
      "execution_count": 8,
      "outputs": []
    },
    {
      "cell_type": "markdown",
      "source": [
        "Be aware that the initial run may take 10-15 minutes due to the model download.\n",
        "\n",
        "Ideally, you should load and deploy the model once, then send requests. But for this notebook demo, we'll execute all steps together, which might slow things down."
      ],
      "metadata": {
        "id": "zvlAId4EFmOD"
      }
    },
    {
      "cell_type": "code",
      "source": [
        "await deploy_and_run()\n"
      ],
      "metadata": {
        "id": "Q27NKqbltIwY"
      },
      "execution_count": null,
      "outputs": []
    },
    {
      "cell_type": "code",
      "source": [],
      "metadata": {
        "id": "d05gXBq1uaCA"
      },
      "execution_count": null,
      "outputs": []
    }
  ]
}