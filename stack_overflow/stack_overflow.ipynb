{
  "nbformat": 4,
  "nbformat_minor": 0,
  "metadata": {
    "colab": {
      "name": "stack_overflow.ipynb",
      "provenance": [],
      "collapsed_sections": [],
      "toc_visible": true
    },
    "kernelspec": {
      "name": "python3",
      "display_name": "Python 3"
    },
    "language_info": {
      "name": "python"
    },
    "widgets": {
      "application/vnd.jupyter.widget-state+json": {
        "5b35499811e94bee8c2692361f4d9915": {
          "model_module": "@jupyter-widgets/output",
          "model_name": "OutputModel",
          "model_module_version": "1.0.0",
          "state": {
            "_dom_classes": [],
            "_model_module": "@jupyter-widgets/output",
            "_model_module_version": "1.0.0",
            "_model_name": "OutputModel",
            "_view_count": null,
            "_view_module": "@jupyter-widgets/output",
            "_view_module_version": "1.0.0",
            "_view_name": "OutputView",
            "layout": "IPY_MODEL_c66e25413bb24fce843e44795e4cc25c",
            "msg_id": "",
            "outputs": [
              {
                "output_type": "display_data",
                "data": {
                  "text/plain": "\u001b[32m⠸\u001b[0m Waiting \u001b[1msummary\u001b[0m... \u001b[38;2;249;38;114m━━━━━━━━━━━━━━━━━━━━━━━━━━\u001b[0m\u001b[38;2;249;38;114m╸\u001b[0m\u001b[38;5;237m━━━━━━━━━━━━━\u001b[0m \u001b[32m2/3\u001b[0m \u001b[33m0:00:01\u001b[0m\n",
                  "text/html": "<pre style=\"white-space:pre;overflow-x:auto;line-height:normal;font-family:Menlo,'DejaVu Sans Mono',consolas,'Courier New',monospace\"><span style=\"color: #008000; text-decoration-color: #008000\">⠸</span> Waiting <span style=\"font-weight: bold\">summary</span>... <span style=\"color: #f92672; text-decoration-color: #f92672\">━━━━━━━━━━━━━━━━━━━━━━━━━━╸</span><span style=\"color: #3a3a3a; text-decoration-color: #3a3a3a\">━━━━━━━━━━━━━</span> <span style=\"color: #008000; text-decoration-color: #008000\">2/3</span> <span style=\"color: #808000; text-decoration-color: #808000\">0:00:01</span>\n</pre>\n"
                },
                "metadata": {}
              }
            ]
          }
        },
        "c66e25413bb24fce843e44795e4cc25c": {
          "model_module": "@jupyter-widgets/base",
          "model_name": "LayoutModel",
          "model_module_version": "1.2.0",
          "state": {
            "_model_module": "@jupyter-widgets/base",
            "_model_module_version": "1.2.0",
            "_model_name": "LayoutModel",
            "_view_count": null,
            "_view_module": "@jupyter-widgets/base",
            "_view_module_version": "1.2.0",
            "_view_name": "LayoutView",
            "align_content": null,
            "align_items": null,
            "align_self": null,
            "border": null,
            "bottom": null,
            "display": null,
            "flex": null,
            "flex_flow": null,
            "grid_area": null,
            "grid_auto_columns": null,
            "grid_auto_flow": null,
            "grid_auto_rows": null,
            "grid_column": null,
            "grid_gap": null,
            "grid_row": null,
            "grid_template_areas": null,
            "grid_template_columns": null,
            "grid_template_rows": null,
            "height": null,
            "justify_content": null,
            "justify_items": null,
            "left": null,
            "margin": null,
            "max_height": null,
            "max_width": null,
            "min_height": null,
            "min_width": null,
            "object_fit": null,
            "object_position": null,
            "order": null,
            "overflow": null,
            "overflow_x": null,
            "overflow_y": null,
            "padding": null,
            "right": null,
            "top": null,
            "visibility": null,
            "width": null
          }
        },
        "fea82d7b793a4beb987f541c61b39251": {
          "model_module": "@jupyter-widgets/output",
          "model_name": "OutputModel",
          "model_module_version": "1.0.0",
          "state": {
            "_dom_classes": [],
            "_model_module": "@jupyter-widgets/output",
            "_model_module_version": "1.0.0",
            "_model_name": "OutputModel",
            "_view_count": null,
            "_view_module": "@jupyter-widgets/output",
            "_view_module_version": "1.0.0",
            "_view_name": "OutputView",
            "layout": "IPY_MODEL_2062610f348d40dbbdf140a27509b4a8",
            "msg_id": "",
            "outputs": [
              {
                "output_type": "display_data",
                "data": {
                  "text/plain": "\u001b[32m⠸\u001b[0m Waiting \u001b[1msummary\u001b[0m... \u001b[38;2;249;38;114m━━━━━━━━━━━━━━━━━━━━━━━━━━\u001b[0m\u001b[38;2;249;38;114m╸\u001b[0m\u001b[38;5;237m━━━━━━━━━━━━━\u001b[0m \u001b[32m2/3\u001b[0m \u001b[33m0:00:01\u001b[0m\n",
                  "text/html": "<pre style=\"white-space:pre;overflow-x:auto;line-height:normal;font-family:Menlo,'DejaVu Sans Mono',consolas,'Courier New',monospace\"><span style=\"color: #008000; text-decoration-color: #008000\">⠸</span> Waiting <span style=\"font-weight: bold\">summary</span>... <span style=\"color: #f92672; text-decoration-color: #f92672\">━━━━━━━━━━━━━━━━━━━━━━━━━━╸</span><span style=\"color: #3a3a3a; text-decoration-color: #3a3a3a\">━━━━━━━━━━━━━</span> <span style=\"color: #008000; text-decoration-color: #008000\">2/3</span> <span style=\"color: #808000; text-decoration-color: #808000\">0:00:01</span>\n</pre>\n"
                },
                "metadata": {}
              }
            ]
          }
        },
        "2062610f348d40dbbdf140a27509b4a8": {
          "model_module": "@jupyter-widgets/base",
          "model_name": "LayoutModel",
          "model_module_version": "1.2.0",
          "state": {
            "_model_module": "@jupyter-widgets/base",
            "_model_module_version": "1.2.0",
            "_model_name": "LayoutModel",
            "_view_count": null,
            "_view_module": "@jupyter-widgets/base",
            "_view_module_version": "1.2.0",
            "_view_name": "LayoutView",
            "align_content": null,
            "align_items": null,
            "align_self": null,
            "border": null,
            "bottom": null,
            "display": null,
            "flex": null,
            "flex_flow": null,
            "grid_area": null,
            "grid_auto_columns": null,
            "grid_auto_flow": null,
            "grid_auto_rows": null,
            "grid_column": null,
            "grid_gap": null,
            "grid_row": null,
            "grid_template_areas": null,
            "grid_template_columns": null,
            "grid_template_rows": null,
            "height": null,
            "justify_content": null,
            "justify_items": null,
            "left": null,
            "margin": null,
            "max_height": null,
            "max_width": null,
            "min_height": null,
            "min_width": null,
            "object_fit": null,
            "object_position": null,
            "order": null,
            "overflow": null,
            "overflow_x": null,
            "overflow_y": null,
            "padding": null,
            "right": null,
            "top": null,
            "visibility": null,
            "width": null
          }
        }
      }
    }
  },
  "cells": [
    {
      "cell_type": "markdown",
      "source": [
        "![](https://miro.medium.com/max/700/1*pJOoQOlHCses8zvefz3YFg.png)\n",
        "\n",
        "# Stack Overflow search engine\n",
        "\n",
        "This tutorial helps you build an ML-powered search engine for Stack Overflow data while introducing [DocArray](https://docarray.jina.ai/) and [Jina](https://docs.jina.ai). A user can input a text query and then retrieve questions and answers where the question title is similar to the query.\n",
        "\n",
        "![](https://static.scarf.sh/a.png?x-pxid=b3bc5e07-9c1c-4ecd-9016-2d0342823a6c)\n",
        "\n",
        "## Meet our ingredients\n",
        "\n",
        "### **[DocArray](https://docarray.jina.ai/)**\n",
        "\n",
        "DocArray is a library for nested, unstructured data in transit, including text, image, audio, video, 3D mesh, etc. It allows deep-learning engineers to efficiently process, embed, search, recommend, store, and transfer the multi-modal data with a Pythonic API. ([star the repo]())\n",
        "\n",
        "###**[Jina](https://docs.jina.ai)**\n",
        " \n",
        " Jina is a framework that empowers anyone to build cross-modal and multi-modal[*] applications on the cloud. It uplifts a PoC into a production-ready service. Jina handles the infrastructure complexity, making advanced solution engineering and cloud-native technologies accessible to every developer. ([star the repo]())\n",
        "\n",
        "### **[Jina Hub](https://hub.jina.ai)**\n",
        "\n",
        "Download pre-built building blocks for neural search.\n",
        "\n",
        "\n",
        "### **[Stack Overflow R dataset](https://www.kaggle.com/datasets/stackoverflow/rquestions)**\n",
        "\n",
        "Why not use the [Python dataset](https://www.kaggle.com/datasets/stackoverflow/pythonquestions)? When I tried reading in the CSV I got a few encoding errors and it frankly wasn't worth the headache.\n",
        "\n",
        "---\n",
        "\n",
        "Let's start by installing DocArray:"
      ],
      "metadata": {
        "id": "pM3bsA_cgKcs"
      }
    },
    {
      "cell_type": "code",
      "source": [
        "!pip install -q docarray==0.13.30"
      ],
      "metadata": {
        "colab": {
          "base_uri": "https://localhost:8080/"
        },
        "id": "vi-MaDzrcoyY",
        "outputId": "b66c54ea-5726-41a8-9468-6c63fd4cfd6e"
      },
      "execution_count": 1,
      "outputs": [
        {
          "output_type": "stream",
          "name": "stdout",
          "text": [
            "\u001b[K     |████████████████████████████████| 634 kB 5.1 MB/s \n",
            "\u001b[K     |████████████████████████████████| 235 kB 38.3 MB/s \n",
            "\u001b[K     |████████████████████████████████| 51 kB 4.6 MB/s \n",
            "\u001b[?25h  Building wheel for docarray (setup.py) ... \u001b[?25l\u001b[?25hdone\n"
          ]
        }
      ]
    },
    {
      "cell_type": "markdown",
      "source": [
        "...and then importing [DocumentArray](ttps://docarray.jina.ai/fundamentals/documentarray/)"
      ],
      "metadata": {
        "id": "SepMlwWLvpYk"
      }
    },
    {
      "cell_type": "code",
      "execution_count": 2,
      "metadata": {
        "id": "dL_webpicl4T"
      },
      "outputs": [],
      "source": [
        "from docarray import DocumentArray"
      ]
    },
    {
      "cell_type": "markdown",
      "source": [
        "## Downloading our Data\n",
        "\n",
        "Unfortunately Colab notebooks don't save state, so we can't store our data alongside our notebook. So how can we convert our CSV from the dataset?\n",
        "\n",
        "We could remedy this in two ways:\n",
        "\n",
        "1. Download the CSV and [import directly](https://docarray.jina.ai/datatypes/tabular/) into a [DocumentArray](https://docarray.jina.ai/fundamentals/documentarray/) with `docs = DocumentArray.from_csv(\"Questions.csv\")`. This is tricky since it's stored on Kaggle and I don't really want to share my Kaggle key publicly. Or...\n",
        "\n",
        "2. Here's one I made earlier! In one command we can [pull in a pre-existing DocumentArray from the cloud](https://docarray.jina.ai/fundamentals/documentarray/serialization/?highlight=pull#from-to-cloud). We'll just use the first 1,000 questions in the dataset since this is a demo:"
      ],
      "metadata": {
        "id": "nixFjQgofvQV"
      }
    },
    {
      "cell_type": "code",
      "source": [
        "docs = DocumentArray.pull(name=\"stack_overflow_r_q\")[:1000]"
      ],
      "metadata": {
        "colab": {
          "base_uri": "https://localhost:8080/",
          "height": 17
        },
        "id": "9mIyBlM0foZz",
        "outputId": "42813ce8-134f-45f0-abd5-02677c4ad433"
      },
      "execution_count": 3,
      "outputs": [
        {
          "output_type": "display_data",
          "data": {
            "text/plain": [
              "\n"
            ],
            "text/html": [
              "<pre style=\"white-space:pre;overflow-x:auto;line-height:normal;font-family:Menlo,'DejaVu Sans Mono',consolas,'Courier New',monospace\">\n",
              "</pre>\n"
            ]
          },
          "metadata": {}
        }
      ]
    },
    {
      "cell_type": "markdown",
      "source": [
        "Let's see what's we've got. As we can see, 1,000 [Documents](https://docarray.jina.ai/fundamentals/document/), each with:\n",
        "- The title of the question in `doc.text` - this is what will be encoded later in our [Flow](https://docs.jina.ai/fundamentals/flow/).\n",
        "- Tags - i.e. metadata, containing a `dict` of all the other fields associated with that question title.\n",
        "- ID - a unique identifier for each Document."
      ],
      "metadata": {
        "id": "cRcz5nzzwtXj"
      }
    },
    {
      "cell_type": "code",
      "source": [
        "docs.summary()"
      ],
      "metadata": {
        "colab": {
          "base_uri": "https://localhost:8080/",
          "height": 289
        },
        "id": "PwBeUcDdgBSe",
        "outputId": "daaff516-2993-4bf7-f27a-18014baaef42"
      },
      "execution_count": 4,
      "outputs": [
        {
          "output_type": "display_data",
          "data": {
            "text/plain": [
              "╭──────────────── Documents Summary ────────────────╮\n",
              "│                                                   │\n",
              "│   Length                 \u001b[1;36m1000\u001b[0m                     │\n",
              "│   Homogenous Documents   \u001b[3;92mTrue\u001b[0m                     │\n",
              "│   Common Attributes      \u001b[1m(\u001b[0m\u001b[32m'id'\u001b[0m, \u001b[32m'text'\u001b[0m, \u001b[32m'tags'\u001b[0m\u001b[1m)\u001b[0m   │\n",
              "│   Multimodal dataclass   \u001b[3;91mFalse\u001b[0m                    │\n",
              "│                                                   │\n",
              "╰───────────────────────────────────────────────────╯\n",
              "╭───────────────────── Attributes Summary ─────────────────────╮\n",
              "│                                                              │\n",
              "│  \u001b[1m \u001b[0m\u001b[1mAttribute\u001b[0m\u001b[1m \u001b[0m \u001b[1m \u001b[0m\u001b[1mData type\u001b[0m\u001b[1m \u001b[0m \u001b[1m \u001b[0m\u001b[1m#Unique values\u001b[0m\u001b[1m \u001b[0m \u001b[1m \u001b[0m\u001b[1mHas empty value\u001b[0m\u001b[1m \u001b[0m  │\n",
              "│  ──────────────────────────────────────────────────────────  │\n",
              "│   id          \u001b[1m(\u001b[0m\u001b[32m'str'\u001b[0m,\u001b[1m)\u001b[0m    \u001b[1;36m1000\u001b[0m             \u001b[3;91mFalse\u001b[0m             │\n",
              "│   tags        \u001b[1m(\u001b[0m\u001b[32m'dict'\u001b[0m,\u001b[1m)\u001b[0m   \u001b[1;36m1000\u001b[0m             \u001b[3;91mFalse\u001b[0m             │\n",
              "│   text        \u001b[1m(\u001b[0m\u001b[32m'str'\u001b[0m,\u001b[1m)\u001b[0m    \u001b[1;36m1000\u001b[0m             \u001b[3;91mFalse\u001b[0m             │\n",
              "│                                                              │\n",
              "╰──────────────────────────────────────────────────────────────╯\n"
            ],
            "text/html": [
              "<pre style=\"white-space:pre;overflow-x:auto;line-height:normal;font-family:Menlo,'DejaVu Sans Mono',consolas,'Courier New',monospace\">╭──────────────── Documents Summary ────────────────╮\n",
              "│                                                   │\n",
              "│   Length                 <span style=\"color: #008080; text-decoration-color: #008080; font-weight: bold\">1000</span>                     │\n",
              "│   Homogenous Documents   <span style=\"color: #00ff00; text-decoration-color: #00ff00; font-style: italic\">True</span>                     │\n",
              "│   Common Attributes      <span style=\"font-weight: bold\">(</span><span style=\"color: #008000; text-decoration-color: #008000\">'id'</span>, <span style=\"color: #008000; text-decoration-color: #008000\">'text'</span>, <span style=\"color: #008000; text-decoration-color: #008000\">'tags'</span><span style=\"font-weight: bold\">)</span>   │\n",
              "│   Multimodal dataclass   <span style=\"color: #ff0000; text-decoration-color: #ff0000; font-style: italic\">False</span>                    │\n",
              "│                                                   │\n",
              "╰───────────────────────────────────────────────────╯\n",
              "╭───────────────────── Attributes Summary ─────────────────────╮\n",
              "│                                                              │\n",
              "│  <span style=\"font-weight: bold\"> Attribute </span> <span style=\"font-weight: bold\"> Data type </span> <span style=\"font-weight: bold\"> #Unique values </span> <span style=\"font-weight: bold\"> Has empty value </span>  │\n",
              "│  ──────────────────────────────────────────────────────────  │\n",
              "│   id          <span style=\"font-weight: bold\">(</span><span style=\"color: #008000; text-decoration-color: #008000\">'str'</span>,<span style=\"font-weight: bold\">)</span>    <span style=\"color: #008080; text-decoration-color: #008080; font-weight: bold\">1000</span>             <span style=\"color: #ff0000; text-decoration-color: #ff0000; font-style: italic\">False</span>             │\n",
              "│   tags        <span style=\"font-weight: bold\">(</span><span style=\"color: #008000; text-decoration-color: #008000\">'dict'</span>,<span style=\"font-weight: bold\">)</span>   <span style=\"color: #008080; text-decoration-color: #008080; font-weight: bold\">1000</span>             <span style=\"color: #ff0000; text-decoration-color: #ff0000; font-style: italic\">False</span>             │\n",
              "│   text        <span style=\"font-weight: bold\">(</span><span style=\"color: #008000; text-decoration-color: #008000\">'str'</span>,<span style=\"font-weight: bold\">)</span>    <span style=\"color: #008080; text-decoration-color: #008080; font-weight: bold\">1000</span>             <span style=\"color: #ff0000; text-decoration-color: #ff0000; font-style: italic\">False</span>             │\n",
              "│                                                              │\n",
              "╰──────────────────────────────────────────────────────────────╯\n",
              "</pre>\n"
            ]
          },
          "metadata": {}
        }
      ]
    },
    {
      "cell_type": "markdown",
      "source": [
        "Let's take a closer look at a single Document so we can get an idea of the structure"
      ],
      "metadata": {
        "id": "_gTBByke_thC"
      }
    },
    {
      "cell_type": "code",
      "source": [
        "from pprint import pprint # Without pretty-print it'll be harder to read the output\n",
        "\n",
        "print(docs[0].text)\n",
        "pprint(docs[0].tags)\n",
        "pprint(docs[0].id)"
      ],
      "metadata": {
        "colab": {
          "base_uri": "https://localhost:8080/"
        },
        "id": "jqALx3rr_sij",
        "outputId": "485e5fd8-a701-4f9b-ac2c-805cd2b18a96"
      },
      "execution_count": 5,
      "outputs": [
        {
          "output_type": "stream",
          "name": "stdout",
          "text": [
            "How to access the last value in a vector?\n",
            "{'Body': '<p>Suppose I have a vector that is nested in a dataframe one or two '\n",
            "         'levels.  Is there a quick and dirty way to access the last value, '\n",
            "         'without using the <code>length()</code> function?  Something ala '\n",
            "         \"PERL's <code>$#</code> special var?</p>\\n\"\n",
            "         '\\n'\n",
            "         '<p>So I would like something like:</p>\\n'\n",
            "         '\\n'\n",
            "         '<pre><code>dat$vec1$vec2[$#]\\n'\n",
            "         '</code></pre>\\n'\n",
            "         '\\n'\n",
            "         '<p>instead of</p>\\n'\n",
            "         '\\n'\n",
            "         '<pre><code>dat$vec1$vec2[length(dat$vec1$vec2)]\\n'\n",
            "         '</code></pre>\\n',\n",
            " 'CreationDate': '2008-09-16T21:40:29Z',\n",
            " 'Id': '77434',\n",
            " 'OwnerUserId': '14008',\n",
            " 'Score': '171'}\n",
            "'d273553fdd28b8b8012c384a40be3b88'\n"
          ]
        }
      ]
    },
    {
      "cell_type": "markdown",
      "source": [
        "## Setting up our Flow\n",
        "\n",
        "To build a search engine we need to pass our Documents into a [Flow](https://docs.jina.ai/fundamentals/flow/). This is what will create embeddings and store our Documents in an index for fast look-up later.\n",
        "\n",
        "We'll use the [Jina](https://docs.jina.ai/) package to build and orchestrate our Flow."
      ],
      "metadata": {
        "id": "R7hxXX6uhUN7"
      }
    },
    {
      "cell_type": "code",
      "source": [
        "!pip install -q jina==3.6.11"
      ],
      "metadata": {
        "colab": {
          "base_uri": "https://localhost:8080/"
        },
        "id": "um_QVpqSgpC4",
        "outputId": "fd624a24-a2a7-4806-f575-f1bfbf910528"
      },
      "execution_count": 6,
      "outputs": [
        {
          "output_type": "stream",
          "name": "stdout",
          "text": [
            "\u001b[K     |████████████████████████████████| 220 kB 5.4 MB/s \n",
            "\u001b[K     |████████████████████████████████| 4.1 MB 32.7 MB/s \n",
            "\u001b[K     |████████████████████████████████| 54 kB 1.1 MB/s \n",
            "\u001b[K     |████████████████████████████████| 146 kB 36.6 MB/s \n",
            "\u001b[K     |████████████████████████████████| 596 kB 39.5 MB/s \n",
            "\u001b[K     |████████████████████████████████| 1.1 MB 40.0 MB/s \n",
            "\u001b[K     |████████████████████████████████| 57 kB 5.1 MB/s \n",
            "\u001b[K     |████████████████████████████████| 112 kB 51.2 MB/s \n",
            "\u001b[K     |████████████████████████████████| 3.8 MB 32.7 MB/s \n",
            "\u001b[K     |████████████████████████████████| 1.0 MB 49.4 MB/s \n",
            "\u001b[K     |████████████████████████████████| 1.2 MB 44.1 MB/s \n",
            "\u001b[K     |████████████████████████████████| 63 kB 1.7 MB/s \n",
            "\u001b[K     |████████████████████████████████| 80 kB 8.4 MB/s \n",
            "\u001b[K     |████████████████████████████████| 271 kB 52.9 MB/s \n",
            "\u001b[K     |████████████████████████████████| 94 kB 2.2 MB/s \n",
            "\u001b[K     |████████████████████████████████| 144 kB 53.3 MB/s \n",
            "\u001b[K     |████████████████████████████████| 54 kB 2.5 MB/s \n",
            "\u001b[K     |████████████████████████████████| 58 kB 4.5 MB/s \n",
            "\u001b[K     |████████████████████████████████| 406 kB 46.7 MB/s \n",
            "\u001b[K     |████████████████████████████████| 1.2 MB 61.0 MB/s \n",
            "\u001b[?25h  Building wheel for jina (setup.py) ... \u001b[?25l\u001b[?25hdone\n",
            "  Building wheel for aiostream (setup.py) ... \u001b[?25l\u001b[?25hdone\n",
            "  Building wheel for python-multipart (setup.py) ... \u001b[?25l\u001b[?25hdone\n",
            "\u001b[31mERROR: pip's dependency resolver does not currently take into account all the packages that are installed. This behaviour is the source of the following dependency conflicts.\n",
            "tensorflow 2.8.2+zzzcolab20220629235552 requires protobuf<3.20,>=3.9.2, but you have protobuf 3.20.1 which is incompatible.\u001b[0m\n"
          ]
        }
      ]
    },
    {
      "cell_type": "markdown",
      "source": [
        "Creating a Flow is a matter of chaining together building blocks (a.k.a [Executors](https://docs.jina.ai/fundamentals/executor/)). In our case we won't [write these manually](https://docs.jina.ai/fundamentals/executor/executor-api/), but rather we'll either download them from [Jina Hub](https://hub.jina.ai) or run them in a [sandbox in the cloud](https://docs.jina.ai/how-to/sandbox/?highlight=sandbox). This will save us some time and effort.\n",
        "\n",
        "Let's start by creating an empty Flow:"
      ],
      "metadata": {
        "id": "znTGU0IXKpbd"
      }
    },
    {
      "cell_type": "code",
      "source": [
        "from jina import Flow\n",
        "\n",
        "flow = Flow()"
      ],
      "metadata": {
        "id": "NzdWZJyGiHrt"
      },
      "execution_count": 32,
      "outputs": []
    },
    {
      "cell_type": "markdown",
      "source": [
        "Now we'll add our encoder. This will encode the text from each Document into vector embeddings. We'll need these for matching similar text later on.\n",
        "\n",
        "In our case we'll use [SpacyTextEncoder](https://hub.jina.ai/executor/u7h7cuh2) with the medium language model, though you could swap it out easily for other encoders like [Transformers](https://hub.jina.ai/executor/u9pqs8eb).\n",
        "\n",
        "We'll run it in a sandbox in the cloud."
      ],
      "metadata": {
        "id": "AXc-gNEOLNy7"
      }
    },
    {
      "cell_type": "code",
      "source": [
        "flow = flow.add(\n",
        "    name=\"encoder\",\n",
        "    uses=\"jinahub+sandbox://SpacyTextEncoder/v0.4\",\n",
        "    uses_with={\"model_name\": \"en_core_web_md\"}\n",
        ")"
      ],
      "metadata": {
        "id": "3mg27PBtLkhU"
      },
      "execution_count": 33,
      "outputs": []
    },
    {
      "cell_type": "markdown",
      "source": [
        "Next we'll add our indexer. This takes the vector embeddings and metadata and stores them in a database for fast lookup when a user is searching.\n",
        "\n",
        "We'll use [AnnLiteIndexer](https://hub.jina.ai/executor/7yypg8qk), which will store our data in a SQLite database. For production use, other indexers like [HNSWPostgresIndexer](https://hub.jina.ai/executor/dvp0845a) may be more suitable, but for a simple notebook this is a good fit.\n",
        "\n",
        "In this case we won't run it in a sandbox, since we want our indexed data stored in the same place as our notebook."
      ],
      "metadata": {
        "id": "GThDr4UGL_Ix"
      }
    },
    {
      "cell_type": "code",
      "source": [
        "flow = flow.add(\n",
        "    name=\"indexer\",\n",
        "    uses=\"jinahub://AnnLiteIndexer/0.3.0\",\n",
        "    uses_with={\"dim\": 300},  # we're using a 300 dimension model\n",
        "    uses_metas={\"workspace\": \"workspace\"},  # this is where we'll store our data on disk\n",
        "    install_requirements=True\n",
        ")"
      ],
      "metadata": {
        "id": "NLhN_KQTM6uF"
      },
      "execution_count": 35,
      "outputs": []
    },
    {
      "cell_type": "markdown",
      "source": [
        "Let's preview our Flow:"
      ],
      "metadata": {
        "id": "nqC2VQICxmJk"
      }
    },
    {
      "cell_type": "code",
      "source": [
        "flow.plot()"
      ],
      "metadata": {
        "colab": {
          "base_uri": "https://localhost:8080/",
          "height": 189
        },
        "id": "sgtY4vvjsNA4",
        "outputId": "a2d79c14-848f-4b35-ad57-3a838e9a8b1c"
      },
      "execution_count": 36,
      "outputs": [
        {
          "output_type": "display_data",
          "data": {
            "text/plain": [
              "\u001b[2;36m[13:17:17]\u001b[0m\u001b[2;36m \u001b[0m🎉 A sandbox already exists, reusing it.                                                    \u001b]8;id=687115;file:///usr/local/lib/python3.7/dist-packages/jina/hubble/hubio.py\u001b\\\u001b[2mhubio.py\u001b[0m\u001b]8;;\u001b\\\u001b[2m:\u001b[0m\u001b]8;id=650600;file:///usr/local/lib/python3.7/dist-packages/jina/hubble/hubio.py#677\u001b\\\u001b[2m677\u001b[0m\u001b]8;;\u001b\\\n"
            ],
            "text/html": [
              "<pre style=\"white-space:pre;overflow-x:auto;line-height:normal;font-family:Menlo,'DejaVu Sans Mono',consolas,'Courier New',monospace\"><span style=\"color: #7fbfbf; text-decoration-color: #7fbfbf\">[13:17:17] </span>🎉 A sandbox already exists, reusing it.                                                    <a href=\"file:///usr/local/lib/python3.7/dist-packages/jina/hubble/hubio.py\" target=\"_blank\"><span style=\"color: #7f7f7f; text-decoration-color: #7f7f7f\">hubio.py</span></a><span style=\"color: #7f7f7f; text-decoration-color: #7f7f7f\">:</span><a href=\"file:///usr/local/lib/python3.7/dist-packages/jina/hubble/hubio.py#677\" target=\"_blank\"><span style=\"color: #7f7f7f; text-decoration-color: #7f7f7f\">677</span></a>\n",
              "</pre>\n"
            ]
          },
          "metadata": {}
        },
        {
          "output_type": "display_data",
          "data": {
            "text/plain": [
              "\u001b]8;id=795734;https://mermaid.ink/svg/ICAgICAgICAgICAgJSV7aW5pdDp7ICAidGhlbWUiOiAiYmFzZSIsICAidGhlbWVWYXJpYWJsZXMiOiB7ICAgICAgInByaW1hcnlDb2xvciI6ICIjZmZmIiwgICAgICAicHJpbWFyeUJvcmRlckNvbG9yIjogIiNmZmYiLCAgICAgICJtYWluQmtnIjogIiMzMkM4Q0QiLCAgICAgICJjbHVzdGVyQmtnIjogIiNFRUVERTc4QyIsICAgICAgInNlY29uZGFyeUJvcmRlckNvbG9yIjogIm5vbmUiLCAgICAgICJ0ZXJ0aWFyeUJvcmRlckNvbG9yIjogIm5vbmUiLCAgICAgICJsaW5lQ29sb3IiOiAiI2E2ZDhkYSIgICAgICB9fX0lJSAgICAgICAgICAgIApmbG93Y2hhcnQgTFI7CnN1YmdyYXBoIGluZGV4ZXI7CgpkaXJlY3Rpb24gTFI7CgppbmRleGVyL3JlcC0wWyIiamluYWh1YjovL0FubkxpdGVJbmRleGVyLzAuMy4wIiJdOjo6cG9kOwplbmQ7CmdhdGV3YXlzdGFydFtnYXRld2F5XTo6OkdBVEVXQVkgLS0+IGVuY29kZXI6OjpFWFRFUk5BTDsKZW5jb2Rlcjo6OkVYVEVSTkFMIC0tPiBpbmRleGVyOjo6REVQTE9ZTUVOVDsKaW5kZXhlcjo6OkRFUExPWU1FTlQgLS0+IGdhdGV3YXllbmRbZ2F0ZXdheV06OjpHQVRFV0FZOwpjbGFzc0RlZiBJTlNQRUNUIHN0cm9rZTojRjI5QzlGCmNsYXNzRGVmIEpPSU5fSU5TUEVDVCBzdHJva2U6I0YyOUM5RgpjbGFzc0RlZiBHQVRFV0FZIGZpbGw6bm9uZSxjb2xvcjojMDAwLHN0cm9rZTpub25lCmNsYXNzRGVmIElOU1BFQ1RfQVVYX1BBU1Mgc3Ryb2tlLWRhc2hhcnJheTogMiAyCmNsYXNzRGVmIEhFQURUQUlMIGZpbGw6IzMyQzhDRDFECgpjbGFzc0RlZiBFWFRFUk5BTCBmaWxsOiNmZmYsc3Ryb2tlOiMzMkM4Q0Q=\u001b\\Click here to see the visualization in browser\u001b]8;;\u001b\\\n"
            ],
            "text/html": [
              "<pre style=\"white-space:pre;overflow-x:auto;line-height:normal;font-family:Menlo,'DejaVu Sans Mono',consolas,'Courier New',monospace\"><a href=\"https://mermaid.ink/svg/ICAgICAgICAgICAgJSV7aW5pdDp7ICAidGhlbWUiOiAiYmFzZSIsICAidGhlbWVWYXJpYWJsZXMiOiB7ICAgICAgInByaW1hcnlDb2xvciI6ICIjZmZmIiwgICAgICAicHJpbWFyeUJvcmRlckNvbG9yIjogIiNmZmYiLCAgICAgICJtYWluQmtnIjogIiMzMkM4Q0QiLCAgICAgICJjbHVzdGVyQmtnIjogIiNFRUVERTc4QyIsICAgICAgInNlY29uZGFyeUJvcmRlckNvbG9yIjogIm5vbmUiLCAgICAgICJ0ZXJ0aWFyeUJvcmRlckNvbG9yIjogIm5vbmUiLCAgICAgICJsaW5lQ29sb3IiOiAiI2E2ZDhkYSIgICAgICB9fX0lJSAgICAgICAgICAgIApmbG93Y2hhcnQgTFI7CnN1YmdyYXBoIGluZGV4ZXI7CgpkaXJlY3Rpb24gTFI7CgppbmRleGVyL3JlcC0wWyIiamluYWh1YjovL0FubkxpdGVJbmRleGVyLzAuMy4wIiJdOjo6cG9kOwplbmQ7CmdhdGV3YXlzdGFydFtnYXRld2F5XTo6OkdBVEVXQVkgLS0+IGVuY29kZXI6OjpFWFRFUk5BTDsKZW5jb2Rlcjo6OkVYVEVSTkFMIC0tPiBpbmRleGVyOjo6REVQTE9ZTUVOVDsKaW5kZXhlcjo6OkRFUExPWU1FTlQgLS0+IGdhdGV3YXllbmRbZ2F0ZXdheV06OjpHQVRFV0FZOwpjbGFzc0RlZiBJTlNQRUNUIHN0cm9rZTojRjI5QzlGCmNsYXNzRGVmIEpPSU5fSU5TUEVDVCBzdHJva2U6I0YyOUM5RgpjbGFzc0RlZiBHQVRFV0FZIGZpbGw6bm9uZSxjb2xvcjojMDAwLHN0cm9rZTpub25lCmNsYXNzRGVmIElOU1BFQ1RfQVVYX1BBU1Mgc3Ryb2tlLWRhc2hhcnJheTogMiAyCmNsYXNzRGVmIEhFQURUQUlMIGZpbGw6IzMyQzhDRDFECgpjbGFzc0RlZiBFWFRFUk5BTCBmaWxsOiNmZmYsc3Ryb2tlOiMzMkM4Q0Q=\" target=\"_blank\">Click here to see the visualization in browser</a>\n",
              "</pre>\n"
            ]
          },
          "metadata": {}
        },
        {
          "output_type": "display_data",
          "data": {
            "text/plain": [
              "\u001b[2;36m[13:17:19]\u001b[0m\u001b[2;36m \u001b[0m🎉 A sandbox already exists, reusing it.                                                    \u001b]8;id=285057;file:///usr/local/lib/python3.7/dist-packages/jina/hubble/hubio.py\u001b\\\u001b[2mhubio.py\u001b[0m\u001b]8;;\u001b\\\u001b[2m:\u001b[0m\u001b]8;id=662031;file:///usr/local/lib/python3.7/dist-packages/jina/hubble/hubio.py#677\u001b\\\u001b[2m677\u001b[0m\u001b]8;;\u001b\\\n"
            ],
            "text/html": [
              "<pre style=\"white-space:pre;overflow-x:auto;line-height:normal;font-family:Menlo,'DejaVu Sans Mono',consolas,'Courier New',monospace\"><span style=\"color: #7fbfbf; text-decoration-color: #7fbfbf\">[13:17:19] </span>🎉 A sandbox already exists, reusing it.                                                    <a href=\"file:///usr/local/lib/python3.7/dist-packages/jina/hubble/hubio.py\" target=\"_blank\"><span style=\"color: #7f7f7f; text-decoration-color: #7f7f7f\">hubio.py</span></a><span style=\"color: #7f7f7f; text-decoration-color: #7f7f7f\">:</span><a href=\"file:///usr/local/lib/python3.7/dist-packages/jina/hubble/hubio.py#677\" target=\"_blank\"><span style=\"color: #7f7f7f; text-decoration-color: #7f7f7f\">677</span></a>\n",
              "</pre>\n"
            ]
          },
          "metadata": {}
        },
        {
          "output_type": "display_data",
          "data": {
            "text/plain": [
              "<IPython.core.display.Image object>"
            ],
            "text/html": [
              "<img src=\"https://mermaid.ink/svg/ICAgICAgICAgICAgJSV7aW5pdDp7ICAidGhlbWUiOiAiYmFzZSIsICAidGhlbWVWYXJpYWJsZXMiOiB7ICAgICAgInByaW1hcnlDb2xvciI6ICIjZmZmIiwgICAgICAicHJpbWFyeUJvcmRlckNvbG9yIjogIiNmZmYiLCAgICAgICJtYWluQmtnIjogIiMzMkM4Q0QiLCAgICAgICJjbHVzdGVyQmtnIjogIiNFRUVERTc4QyIsICAgICAgInNlY29uZGFyeUJvcmRlckNvbG9yIjogIm5vbmUiLCAgICAgICJ0ZXJ0aWFyeUJvcmRlckNvbG9yIjogIm5vbmUiLCAgICAgICJsaW5lQ29sb3IiOiAiI2E2ZDhkYSIgICAgICB9fX0lJSAgICAgICAgICAgIApmbG93Y2hhcnQgTFI7CnN1YmdyYXBoIGluZGV4ZXI7CgpkaXJlY3Rpb24gTFI7CgppbmRleGVyL3JlcC0wWyIiamluYWh1YjovL0FubkxpdGVJbmRleGVyLzAuMy4wIiJdOjo6cG9kOwplbmQ7CmdhdGV3YXlzdGFydFtnYXRld2F5XTo6OkdBVEVXQVkgLS0+IGVuY29kZXI6OjpFWFRFUk5BTDsKZW5jb2Rlcjo6OkVYVEVSTkFMIC0tPiBpbmRleGVyOjo6REVQTE9ZTUVOVDsKaW5kZXhlcjo6OkRFUExPWU1FTlQgLS0+IGdhdGV3YXllbmRbZ2F0ZXdheV06OjpHQVRFV0FZOwpjbGFzc0RlZiBJTlNQRUNUIHN0cm9rZTojRjI5QzlGCmNsYXNzRGVmIEpPSU5fSU5TUEVDVCBzdHJva2U6I0YyOUM5RgpjbGFzc0RlZiBHQVRFV0FZIGZpbGw6bm9uZSxjb2xvcjojMDAwLHN0cm9rZTpub25lCmNsYXNzRGVmIElOU1BFQ1RfQVVYX1BBU1Mgc3Ryb2tlLWRhc2hhcnJheTogMiAyCmNsYXNzRGVmIEhFQURUQUlMIGZpbGw6IzMyQzhDRDFECgpjbGFzc0RlZiBFWFRFUk5BTCBmaWxsOiNmZmYsc3Ryb2tlOiMzMkM4Q0Q=\"/>"
            ]
          },
          "metadata": {}
        }
      ]
    },
    {
      "cell_type": "markdown",
      "source": [
        "## Indexing our data\n",
        "\n",
        "That's our Flow built. Now we can run it to start pushing our data through the pipeline."
      ],
      "metadata": {
        "id": "pJY4O50mNLxw"
      }
    },
    {
      "cell_type": "code",
      "source": [
        "with flow:\n",
        "    docs = flow.index(docs)"
      ],
      "metadata": {
        "colab": {
          "base_uri": "https://localhost:8080/",
          "height": 186,
          "referenced_widgets": [
            "5b35499811e94bee8c2692361f4d9915",
            "c66e25413bb24fce843e44795e4cc25c"
          ]
        },
        "id": "nK9vR5sXj0dX",
        "outputId": "009be3c9-331f-4b1b-9b93-bdb77d7af027"
      },
      "execution_count": 37,
      "outputs": [
        {
          "output_type": "display_data",
          "data": {
            "text/plain": [
              "\u001b[2;36m[13:17:23]\u001b[0m\u001b[2;36m \u001b[0m🎉 A sandbox already exists, reusing it.                                                    \u001b]8;id=680607;file:///usr/local/lib/python3.7/dist-packages/jina/hubble/hubio.py\u001b\\\u001b[2mhubio.py\u001b[0m\u001b]8;;\u001b\\\u001b[2m:\u001b[0m\u001b]8;id=627560;file:///usr/local/lib/python3.7/dist-packages/jina/hubble/hubio.py#677\u001b\\\u001b[2m677\u001b[0m\u001b]8;;\u001b\\\n"
            ],
            "text/html": [
              "<pre style=\"white-space:pre;overflow-x:auto;line-height:normal;font-family:Menlo,'DejaVu Sans Mono',consolas,'Courier New',monospace\"><span style=\"color: #7fbfbf; text-decoration-color: #7fbfbf\">[13:17:23] </span>🎉 A sandbox already exists, reusing it.                                                    <a href=\"file:///usr/local/lib/python3.7/dist-packages/jina/hubble/hubio.py\" target=\"_blank\"><span style=\"color: #7f7f7f; text-decoration-color: #7f7f7f\">hubio.py</span></a><span style=\"color: #7f7f7f; text-decoration-color: #7f7f7f\">:</span><a href=\"file:///usr/local/lib/python3.7/dist-packages/jina/hubble/hubio.py#677\" target=\"_blank\"><span style=\"color: #7f7f7f; text-decoration-color: #7f7f7f\">677</span></a>\n",
              "</pre>\n"
            ]
          },
          "metadata": {}
        },
        {
          "output_type": "display_data",
          "data": {
            "text/plain": [
              ""
            ],
            "text/html": [
              "<pre style=\"white-space:pre;overflow-x:auto;line-height:normal;font-family:Menlo,'DejaVu Sans Mono',consolas,'Courier New',monospace\"></pre>\n"
            ]
          },
          "metadata": {}
        },
        {
          "output_type": "display_data",
          "data": {
            "text/plain": [
              ""
            ],
            "text/html": [
              "<pre style=\"white-space:pre;overflow-x:auto;line-height:normal;font-family:Menlo,'DejaVu Sans Mono',consolas,'Courier New',monospace\"></pre>\n"
            ]
          },
          "metadata": {}
        },
        {
          "output_type": "display_data",
          "data": {
            "text/plain": [
              "Output()"
            ],
            "application/vnd.jupyter.widget-view+json": {
              "version_major": 2,
              "version_minor": 0,
              "model_id": "5b35499811e94bee8c2692361f4d9915"
            }
          },
          "metadata": {}
        },
        {
          "output_type": "stream",
          "name": "stderr",
          "text": [
            "\u001b[1;33mDeprecationWarning: Setting `workspace` via `metas.workspace` is deprecated. Instead, use `f.add(..., workspace=...)` when defining a a Flow in Python; the `workspace` parameter when defining a Flow using YAML; or `--workspace` when starting an Executor using the CLI.\u001b[0m \u001b[1;30m(raised from /usr/local/lib/python3.7/dist-packages/jina/serve/executors/__init__.py:221)\u001b[0m\n"
          ]
        },
        {
          "output_type": "display_data",
          "data": {
            "text/plain": [
              "\u001b[92m─────────────────────────────────────────── \u001b[0m🎉 Flow is ready to serve!\u001b[92m ────────────────────────────────────────────\u001b[0m\n",
              "╭────────────── 🔗 \u001b[1mEndpoint\u001b[0m ───────────────╮\n",
              "│  ⛓     Protocol                    GRPC  │\n",
              "│  🏠       Local           \u001b]8;id=368542;grpc://0.0.0.0:52863\u001b\\\u001b[1;92m0.0.0.0\u001b[0m\u001b]8;;\u001b\\\u001b]8;id=494755;grpc://0.0.0.0:52863\u001b\\:\u001b]8;;\u001b\\\u001b]8;id=679652;grpc://0.0.0.0:52863\u001b\\\u001b[1;36m52863\u001b[0m\u001b]8;;\u001b\\  │\n",
              "│  🔒     Private        \u001b]8;id=132236;grpc://172.28.0.2:52863\u001b\\\u001b[1;92m172.28.0.2\u001b[0m\u001b]8;;\u001b\\\u001b]8;id=276981;grpc://172.28.0.2:52863\u001b\\:\u001b]8;;\u001b\\\u001b]8;id=283236;grpc://172.28.0.2:52863\u001b\\\u001b[1;36m52863\u001b[0m\u001b]8;;\u001b\\  │\n",
              "│  🌍      Public    \u001b]8;id=85174;grpc://104.198.195.16:52863\u001b\\\u001b[1;92m104.198.195.16\u001b[0m\u001b]8;;\u001b\\\u001b]8;id=14767;grpc://104.198.195.16:52863\u001b\\:\u001b]8;;\u001b\\\u001b]8;id=384157;grpc://104.198.195.16:52863\u001b\\\u001b[1;36m52863\u001b[0m\u001b]8;;\u001b\\  │\n",
              "╰──────────────────────────────────────────╯\n"
            ],
            "text/html": [
              "<pre style=\"white-space:pre;overflow-x:auto;line-height:normal;font-family:Menlo,'DejaVu Sans Mono',consolas,'Courier New',monospace\"><span style=\"color: #00ff00; text-decoration-color: #00ff00\">─────────────────────────────────────────── </span>🎉 Flow is ready to serve!<span style=\"color: #00ff00; text-decoration-color: #00ff00\"> ────────────────────────────────────────────</span>\n",
              "╭────────────── 🔗 <span style=\"font-weight: bold\">Endpoint</span> ───────────────╮\n",
              "│  ⛓     Protocol                    GRPC  │\n",
              "│  🏠       Local           <a href=\"grpc://0.0.0.0:52863\" target=\"_blank\"><span style=\"color: #00ff00; text-decoration-color: #00ff00; font-weight: bold\">0.0.0.0</span></a><a href=\"grpc://0.0.0.0:52863\" target=\"_blank\">:</a><a href=\"grpc://0.0.0.0:52863\" target=\"_blank\"><span style=\"color: #008080; text-decoration-color: #008080; font-weight: bold\">52863</span></a>  │\n",
              "│  🔒     Private        <a href=\"grpc://172.28.0.2:52863\" target=\"_blank\"><span style=\"color: #00ff00; text-decoration-color: #00ff00; font-weight: bold\">172.28.0.2</span></a><a href=\"grpc://172.28.0.2:52863\" target=\"_blank\">:</a><a href=\"grpc://172.28.0.2:52863\" target=\"_blank\"><span style=\"color: #008080; text-decoration-color: #008080; font-weight: bold\">52863</span></a>  │\n",
              "│  🌍      Public    <a href=\"grpc://104.198.195.16:52863\" target=\"_blank\"><span style=\"color: #00ff00; text-decoration-color: #00ff00; font-weight: bold\">104.198.195.16</span></a><a href=\"grpc://104.198.195.16:52863\" target=\"_blank\">:</a><a href=\"grpc://104.198.195.16:52863\" target=\"_blank\"><span style=\"color: #008080; text-decoration-color: #008080; font-weight: bold\">52863</span></a>  │\n",
              "╰──────────────────────────────────────────╯\n",
              "</pre>\n"
            ]
          },
          "metadata": {}
        },
        {
          "output_type": "display_data",
          "data": {
            "text/plain": [
              ""
            ],
            "text/html": [
              "<pre style=\"white-space:pre;overflow-x:auto;line-height:normal;font-family:Menlo,'DejaVu Sans Mono',consolas,'Courier New',monospace\"></pre>\n"
            ]
          },
          "metadata": {}
        },
        {
          "output_type": "display_data",
          "data": {
            "text/plain": [
              "\n"
            ],
            "text/html": [
              "<pre style=\"white-space:pre;overflow-x:auto;line-height:normal;font-family:Menlo,'DejaVu Sans Mono',consolas,'Courier New',monospace\">\n",
              "</pre>\n"
            ]
          },
          "metadata": {}
        },
        {
          "output_type": "display_data",
          "data": {
            "text/plain": [
              "\n"
            ],
            "text/html": [
              "<pre style=\"white-space:pre;overflow-x:auto;line-height:normal;font-family:Menlo,'DejaVu Sans Mono',consolas,'Courier New',monospace\">\n",
              "</pre>\n"
            ]
          },
          "metadata": {}
        }
      ]
    },
    {
      "cell_type": "markdown",
      "source": [
        "## Searching our data\n",
        "\n",
        "Now that we've built our index, it's time to do some searching!\n",
        "\n",
        "Everything we've worked with while indexing has been in the form of a [Document](https://docarray.jina.ai/fundamentals/document/) (stored in a DocumentArray). So we'll need to create another Document for searching that index:"
      ],
      "metadata": {
        "id": "Bib7-4MTNk1Y"
      }
    },
    {
      "cell_type": "code",
      "source": [
        "from docarray import Document\n",
        "\n",
        "search_term = \"How do I create a matrix?\"\n",
        "query = Document(text=search_term)\n",
        "\n",
        "with flow:\n",
        "  results = flow.search(query)"
      ],
      "metadata": {
        "colab": {
          "base_uri": "https://localhost:8080/",
          "height": 186,
          "referenced_widgets": [
            "fea82d7b793a4beb987f541c61b39251",
            "2062610f348d40dbbdf140a27509b4a8"
          ]
        },
        "id": "eDxKsIXGk63b",
        "outputId": "0914c0da-1662-4e31-cc06-0dec3fbf0356"
      },
      "execution_count": 38,
      "outputs": [
        {
          "output_type": "display_data",
          "data": {
            "text/plain": [
              "\u001b[2;36m[13:17:43]\u001b[0m\u001b[2;36m \u001b[0m🎉 A sandbox already exists, reusing it.                                                    \u001b]8;id=730024;file:///usr/local/lib/python3.7/dist-packages/jina/hubble/hubio.py\u001b\\\u001b[2mhubio.py\u001b[0m\u001b]8;;\u001b\\\u001b[2m:\u001b[0m\u001b]8;id=699601;file:///usr/local/lib/python3.7/dist-packages/jina/hubble/hubio.py#677\u001b\\\u001b[2m677\u001b[0m\u001b]8;;\u001b\\\n"
            ],
            "text/html": [
              "<pre style=\"white-space:pre;overflow-x:auto;line-height:normal;font-family:Menlo,'DejaVu Sans Mono',consolas,'Courier New',monospace\"><span style=\"color: #7fbfbf; text-decoration-color: #7fbfbf\">[13:17:43] </span>🎉 A sandbox already exists, reusing it.                                                    <a href=\"file:///usr/local/lib/python3.7/dist-packages/jina/hubble/hubio.py\" target=\"_blank\"><span style=\"color: #7f7f7f; text-decoration-color: #7f7f7f\">hubio.py</span></a><span style=\"color: #7f7f7f; text-decoration-color: #7f7f7f\">:</span><a href=\"file:///usr/local/lib/python3.7/dist-packages/jina/hubble/hubio.py#677\" target=\"_blank\"><span style=\"color: #7f7f7f; text-decoration-color: #7f7f7f\">677</span></a>\n",
              "</pre>\n"
            ]
          },
          "metadata": {}
        },
        {
          "output_type": "display_data",
          "data": {
            "text/plain": [
              "Output()"
            ],
            "application/vnd.jupyter.widget-view+json": {
              "version_major": 2,
              "version_minor": 0,
              "model_id": "fea82d7b793a4beb987f541c61b39251"
            }
          },
          "metadata": {}
        },
        {
          "output_type": "stream",
          "name": "stderr",
          "text": [
            "\u001b[1;33mDeprecationWarning: Setting `workspace` via `metas.workspace` is deprecated. Instead, use `f.add(..., workspace=...)` when defining a a Flow in Python; the `workspace` parameter when defining a Flow using YAML; or `--workspace` when starting an Executor using the CLI.\u001b[0m \u001b[1;30m(raised from /usr/local/lib/python3.7/dist-packages/jina/serve/executors/__init__.py:221)\u001b[0m\n"
          ]
        },
        {
          "output_type": "display_data",
          "data": {
            "text/plain": [
              "\u001b[92m─────────────────────────────────────────── \u001b[0m🎉 Flow is ready to serve!\u001b[92m ────────────────────────────────────────────\u001b[0m\n",
              "╭────────────── 🔗 \u001b[1mEndpoint\u001b[0m ───────────────╮\n",
              "│  ⛓     Protocol                    GRPC  │\n",
              "│  🏠       Local           \u001b]8;id=799662;grpc://0.0.0.0:56993\u001b\\\u001b[1;92m0.0.0.0\u001b[0m\u001b]8;;\u001b\\\u001b]8;id=894043;grpc://0.0.0.0:56993\u001b\\:\u001b]8;;\u001b\\\u001b]8;id=391488;grpc://0.0.0.0:56993\u001b\\\u001b[1;36m56993\u001b[0m\u001b]8;;\u001b\\  │\n",
              "│  🔒     Private        \u001b]8;id=594038;grpc://172.28.0.2:56993\u001b\\\u001b[1;92m172.28.0.2\u001b[0m\u001b]8;;\u001b\\\u001b]8;id=75299;grpc://172.28.0.2:56993\u001b\\:\u001b]8;;\u001b\\\u001b]8;id=897753;grpc://172.28.0.2:56993\u001b\\\u001b[1;36m56993\u001b[0m\u001b]8;;\u001b\\  │\n",
              "│  🌍      Public    \u001b]8;id=103570;grpc://104.198.195.16:56993\u001b\\\u001b[1;92m104.198.195.16\u001b[0m\u001b]8;;\u001b\\\u001b]8;id=728395;grpc://104.198.195.16:56993\u001b\\:\u001b]8;;\u001b\\\u001b]8;id=603293;grpc://104.198.195.16:56993\u001b\\\u001b[1;36m56993\u001b[0m\u001b]8;;\u001b\\  │\n",
              "╰──────────────────────────────────────────╯\n"
            ],
            "text/html": [
              "<pre style=\"white-space:pre;overflow-x:auto;line-height:normal;font-family:Menlo,'DejaVu Sans Mono',consolas,'Courier New',monospace\"><span style=\"color: #00ff00; text-decoration-color: #00ff00\">─────────────────────────────────────────── </span>🎉 Flow is ready to serve!<span style=\"color: #00ff00; text-decoration-color: #00ff00\"> ────────────────────────────────────────────</span>\n",
              "╭────────────── 🔗 <span style=\"font-weight: bold\">Endpoint</span> ───────────────╮\n",
              "│  ⛓     Protocol                    GRPC  │\n",
              "│  🏠       Local           <a href=\"grpc://0.0.0.0:56993\" target=\"_blank\"><span style=\"color: #00ff00; text-decoration-color: #00ff00; font-weight: bold\">0.0.0.0</span></a><a href=\"grpc://0.0.0.0:56993\" target=\"_blank\">:</a><a href=\"grpc://0.0.0.0:56993\" target=\"_blank\"><span style=\"color: #008080; text-decoration-color: #008080; font-weight: bold\">56993</span></a>  │\n",
              "│  🔒     Private        <a href=\"grpc://172.28.0.2:56993\" target=\"_blank\"><span style=\"color: #00ff00; text-decoration-color: #00ff00; font-weight: bold\">172.28.0.2</span></a><a href=\"grpc://172.28.0.2:56993\" target=\"_blank\">:</a><a href=\"grpc://172.28.0.2:56993\" target=\"_blank\"><span style=\"color: #008080; text-decoration-color: #008080; font-weight: bold\">56993</span></a>  │\n",
              "│  🌍      Public    <a href=\"grpc://104.198.195.16:56993\" target=\"_blank\"><span style=\"color: #00ff00; text-decoration-color: #00ff00; font-weight: bold\">104.198.195.16</span></a><a href=\"grpc://104.198.195.16:56993\" target=\"_blank\">:</a><a href=\"grpc://104.198.195.16:56993\" target=\"_blank\"><span style=\"color: #008080; text-decoration-color: #008080; font-weight: bold\">56993</span></a>  │\n",
              "╰──────────────────────────────────────────╯\n",
              "</pre>\n"
            ]
          },
          "metadata": {}
        },
        {
          "output_type": "display_data",
          "data": {
            "text/plain": [
              ""
            ],
            "text/html": [
              "<pre style=\"white-space:pre;overflow-x:auto;line-height:normal;font-family:Menlo,'DejaVu Sans Mono',consolas,'Courier New',monospace\"></pre>\n"
            ]
          },
          "metadata": {}
        },
        {
          "output_type": "display_data",
          "data": {
            "text/plain": [
              "\n"
            ],
            "text/html": [
              "<pre style=\"white-space:pre;overflow-x:auto;line-height:normal;font-family:Menlo,'DejaVu Sans Mono',consolas,'Courier New',monospace\">\n",
              "</pre>\n"
            ]
          },
          "metadata": {}
        },
        {
          "output_type": "display_data",
          "data": {
            "text/plain": [
              "\n"
            ],
            "text/html": [
              "<pre style=\"white-space:pre;overflow-x:auto;line-height:normal;font-family:Menlo,'DejaVu Sans Mono',consolas,'Courier New',monospace\">\n",
              "</pre>\n"
            ]
          },
          "metadata": {}
        }
      ]
    },
    {
      "cell_type": "markdown",
      "source": [
        "Now to look at what matched our search term. `results` is also a DocumentArray (can you see the pattern?). We'll access its `matches` attribute and see what's stored inside:"
      ],
      "metadata": {
        "id": "kUqBNxAAOBTc"
      }
    },
    {
      "cell_type": "code",
      "source": [
        "matches = results[0].matches\n",
        "\n",
        "for match in matches:\n",
        "  print(match.text)"
      ],
      "metadata": {
        "colab": {
          "base_uri": "https://localhost:8080/"
        },
        "id": "7cWUmof_mo7U",
        "outputId": "9087a9a2-23ca-4933-9dcd-c32f9da69a83"
      },
      "execution_count": 39,
      "outputs": [
        {
          "output_type": "stream",
          "name": "stdout",
          "text": [
            "How do I make a matrix from a list of vectors in R?\n",
            "How do I produce a boxplot in ggplot using a matrix\n",
            "How do I construct a new centrality measure?\n",
            "How can I partition a vector?\n",
            "how do tell if its better to standardize your data matrix first when you do principal component analysis in R?\n",
            "How do I get confidence intervals without inverting a singular Hessian matrix in R?\n",
            "How do I specify random factors in R?\n",
            "How do you make a new dataset given a set of vectors?\n",
            "How can I declare a thousand separator in read.csv?\n",
            "R: How to write out a data.frame so that I can paste it into SO for others to read?\n"
          ]
        }
      ]
    },
    {
      "cell_type": "markdown",
      "source": [
        "## Getting answers to our questions\n",
        "\n",
        "So far, so good. We've got a list of matching questions. But how can we pair those with the relevant answers?\n",
        "\n",
        "First we'll need to download our answers. In this case we won't limit them to just 1,000 because:\n",
        "\n",
        "* Many questions have more than one answer.\n",
        "* The order may be different, so the first question in our dataset may have answer 1,234, 50,234 or 1,337 as its answer.\n",
        "\n",
        "Once again, we'll [pull from the cloud](https://docarray.jina.ai/fundamentals/documentarray/serialization/?highlight=pull#from-to-cloud):"
      ],
      "metadata": {
        "id": "HWwiDHzEOWAJ"
      }
    },
    {
      "cell_type": "code",
      "source": [
        "answers = DocumentArray.pull(name=\"stack_overflow_r_a\")\n",
        "answers.summary()"
      ],
      "metadata": {
        "colab": {
          "base_uri": "https://localhost:8080/",
          "height": 289
        },
        "id": "rCi0uO8mmvLH",
        "outputId": "0f36a188-926a-473a-bb96-8703a344e71f"
      },
      "execution_count": 40,
      "outputs": [
        {
          "output_type": "display_data",
          "data": {
            "text/plain": [
              "\n"
            ],
            "text/html": [
              "<pre style=\"white-space:pre;overflow-x:auto;line-height:normal;font-family:Menlo,'DejaVu Sans Mono',consolas,'Courier New',monospace\">\n",
              "</pre>\n"
            ]
          },
          "metadata": {}
        },
        {
          "output_type": "display_data",
          "data": {
            "text/plain": [
              "╭──────────────── Documents Summary ────────────────╮\n",
              "│                                                   │\n",
              "│   Length                 \u001b[1;36m250788\u001b[0m                   │\n",
              "│   Homogenous Documents   \u001b[3;92mTrue\u001b[0m                     │\n",
              "│   Common Attributes      \u001b[1m(\u001b[0m\u001b[32m'id'\u001b[0m, \u001b[32m'text'\u001b[0m, \u001b[32m'tags'\u001b[0m\u001b[1m)\u001b[0m   │\n",
              "│   Multimodal dataclass   \u001b[3;91mFalse\u001b[0m                    │\n",
              "│                                                   │\n",
              "╰───────────────────────────────────────────────────╯\n",
              "╭───────────────────── Attributes Summary ─────────────────────╮\n",
              "│                                                              │\n",
              "│  \u001b[1m \u001b[0m\u001b[1mAttribute\u001b[0m\u001b[1m \u001b[0m \u001b[1m \u001b[0m\u001b[1mData type\u001b[0m\u001b[1m \u001b[0m \u001b[1m \u001b[0m\u001b[1m#Unique values\u001b[0m\u001b[1m \u001b[0m \u001b[1m \u001b[0m\u001b[1mHas empty value\u001b[0m\u001b[1m \u001b[0m  │\n",
              "│  ──────────────────────────────────────────────────────────  │\n",
              "│   id          \u001b[1m(\u001b[0m\u001b[32m'str'\u001b[0m,\u001b[1m)\u001b[0m    \u001b[1;36m250788\u001b[0m           \u001b[3;91mFalse\u001b[0m             │\n",
              "│   tags        \u001b[1m(\u001b[0m\u001b[32m'dict'\u001b[0m,\u001b[1m)\u001b[0m   \u001b[1;36m250788\u001b[0m           \u001b[3;91mFalse\u001b[0m             │\n",
              "│   text        \u001b[1m(\u001b[0m\u001b[32m'str'\u001b[0m,\u001b[1m)\u001b[0m    \u001b[1;36m250764\u001b[0m           \u001b[3;91mFalse\u001b[0m             │\n",
              "│                                                              │\n",
              "╰──────────────────────────────────────────────────────────────╯\n"
            ],
            "text/html": [
              "<pre style=\"white-space:pre;overflow-x:auto;line-height:normal;font-family:Menlo,'DejaVu Sans Mono',consolas,'Courier New',monospace\">╭──────────────── Documents Summary ────────────────╮\n",
              "│                                                   │\n",
              "│   Length                 <span style=\"color: #008080; text-decoration-color: #008080; font-weight: bold\">250788</span>                   │\n",
              "│   Homogenous Documents   <span style=\"color: #00ff00; text-decoration-color: #00ff00; font-style: italic\">True</span>                     │\n",
              "│   Common Attributes      <span style=\"font-weight: bold\">(</span><span style=\"color: #008000; text-decoration-color: #008000\">'id'</span>, <span style=\"color: #008000; text-decoration-color: #008000\">'text'</span>, <span style=\"color: #008000; text-decoration-color: #008000\">'tags'</span><span style=\"font-weight: bold\">)</span>   │\n",
              "│   Multimodal dataclass   <span style=\"color: #ff0000; text-decoration-color: #ff0000; font-style: italic\">False</span>                    │\n",
              "│                                                   │\n",
              "╰───────────────────────────────────────────────────╯\n",
              "╭───────────────────── Attributes Summary ─────────────────────╮\n",
              "│                                                              │\n",
              "│  <span style=\"font-weight: bold\"> Attribute </span> <span style=\"font-weight: bold\"> Data type </span> <span style=\"font-weight: bold\"> #Unique values </span> <span style=\"font-weight: bold\"> Has empty value </span>  │\n",
              "│  ──────────────────────────────────────────────────────────  │\n",
              "│   id          <span style=\"font-weight: bold\">(</span><span style=\"color: #008000; text-decoration-color: #008000\">'str'</span>,<span style=\"font-weight: bold\">)</span>    <span style=\"color: #008080; text-decoration-color: #008080; font-weight: bold\">250788</span>           <span style=\"color: #ff0000; text-decoration-color: #ff0000; font-style: italic\">False</span>             │\n",
              "│   tags        <span style=\"font-weight: bold\">(</span><span style=\"color: #008000; text-decoration-color: #008000\">'dict'</span>,<span style=\"font-weight: bold\">)</span>   <span style=\"color: #008080; text-decoration-color: #008080; font-weight: bold\">250788</span>           <span style=\"color: #ff0000; text-decoration-color: #ff0000; font-style: italic\">False</span>             │\n",
              "│   text        <span style=\"font-weight: bold\">(</span><span style=\"color: #008000; text-decoration-color: #008000\">'str'</span>,<span style=\"font-weight: bold\">)</span>    <span style=\"color: #008080; text-decoration-color: #008080; font-weight: bold\">250764</span>           <span style=\"color: #ff0000; text-decoration-color: #ff0000; font-style: italic\">False</span>             │\n",
              "│                                                              │\n",
              "╰──────────────────────────────────────────────────────────────╯\n",
              "</pre>\n"
            ]
          },
          "metadata": {}
        }
      ]
    },
    {
      "cell_type": "markdown",
      "source": [
        "Now we can use the [`find` method](https://docarray.jina.ai/fundamentals/documentarray/find/) to dig out answers where the answer's `ParentId` tag matches the question's `Id` tag:"
      ],
      "metadata": {
        "id": "W70jbzBXPYZh"
      }
    },
    {
      "cell_type": "code",
      "source": [
        "for match in matches:\n",
        "  print(match.text)\n",
        "  match_answers = answers.find({\"tags__ParentId\": {\"$eq\": match.tags[\"Id\"]}})\n",
        "  for answer in match_answers:\n",
        "    print(\"---\")\n",
        "    print(answer.text)\n",
        "  print(\"-----------\")"
      ],
      "metadata": {
        "colab": {
          "base_uri": "https://localhost:8080/"
        },
        "id": "W2hWZJhkpp59",
        "outputId": "dbb68fec-98d3-4d6e-b0f3-325881569fc2"
      },
      "execution_count": 41,
      "outputs": [
        {
          "output_type": "stream",
          "name": "stdout",
          "text": [
            "How do I make a matrix from a list of vectors in R?\n",
            "---\n",
            "<p>One option is to use <code>do.call()</code>: </p>\n",
            "\n",
            "<pre><code> &gt; do.call(rbind, a)\n",
            "      [,1] [,2] [,3] [,4] [,5] [,6]\n",
            " [1,]    1    1    2    3    4    5\n",
            " [2,]    2    1    2    3    4    5\n",
            " [3,]    3    1    2    3    4    5\n",
            " [4,]    4    1    2    3    4    5\n",
            " [5,]    5    1    2    3    4    5\n",
            " [6,]    6    1    2    3    4    5\n",
            " [7,]    7    1    2    3    4    5\n",
            " [8,]    8    1    2    3    4    5\n",
            " [9,]    9    1    2    3    4    5\n",
            "[10,]   10    1    2    3    4    5\n",
            "</code></pre>\n",
            "\n",
            "---\n",
            "<p>Not straightforward, but it works:</p>\n",
            "\n",
            "<pre><code>&gt; t(sapply(a, unlist))\n",
            "      [,1] [,2] [,3] [,4] [,5] [,6]\n",
            " [1,]    1    1    2    3    4    5\n",
            " [2,]    2    1    2    3    4    5\n",
            " [3,]    3    1    2    3    4    5\n",
            " [4,]    4    1    2    3    4    5\n",
            " [5,]    5    1    2    3    4    5\n",
            " [6,]    6    1    2    3    4    5\n",
            " [7,]    7    1    2    3    4    5\n",
            " [8,]    8    1    2    3    4    5\n",
            " [9,]    9    1    2    3    4    5\n",
            "[10,]   10    1    2    3    4    5\n",
            "</code></pre>\n",
            "\n",
            "---\n",
            "<pre><code>&gt; library(plyr)\n",
            "&gt; as.matrix(ldply(a))\n",
            "      V1 V2 V3 V4 V5 V6\n",
            " [1,]  1  1  2  3  4  5\n",
            " [2,]  2  1  2  3  4  5\n",
            " [3,]  3  1  2  3  4  5\n",
            " [4,]  4  1  2  3  4  5\n",
            " [5,]  5  1  2  3  4  5\n",
            " [6,]  6  1  2  3  4  5\n",
            " [7,]  7  1  2  3  4  5\n",
            " [8,]  8  1  2  3  4  5\n",
            " [9,]  9  1  2  3  4  5\n",
            "[10,] 10  1  2  3  4  5\n",
            "</code></pre>\n",
            "\n",
            "---\n",
            "<pre><code>t(sapply(a, '[', 1:max(sapply(a, length))))\n",
            "</code></pre>\n",
            "\n",
            "<p>where 'a' is a list. \n",
            "Would work for unequal row size </p>\n",
            "\n",
            "---\n",
            "<p>The built-in <code>matrix</code> function has the nice option to enter data <code>byrow</code>. Combine that with an <code>unlist</code> on your source list will give you a matrix. We also need to specify the number of rows so it can break up the unlisted data. That is:</p>\n",
            "\n",
            "<pre><code>&gt; matrix(unlist(a), byrow=TRUE, nrow=length(a) )\n",
            "      [,1] [,2] [,3] [,4] [,5] [,6]\n",
            " [1,]    1    1    2    3    4    5\n",
            " [2,]    2    1    2    3    4    5\n",
            " [3,]    3    1    2    3    4    5\n",
            " [4,]    4    1    2    3    4    5\n",
            " [5,]    5    1    2    3    4    5\n",
            " [6,]    6    1    2    3    4    5\n",
            " [7,]    7    1    2    3    4    5\n",
            " [8,]    8    1    2    3    4    5\n",
            " [9,]    9    1    2    3    4    5\n",
            "[10,]   10    1    2    3    4    5\n",
            "</code></pre>\n",
            "\n",
            "---\n",
            "<p><code>simplify2array</code> is a base function that is fairly intuitive. However, since R's default is to fill in data by columns first, you will need to transpose the output. (<code>sapply</code> uses <code>simplify2array</code>, as documented in <code>help(sapply)</code>.)</p>\n",
            "\n",
            "<pre><code>&gt; t(simplify2array(a))\n",
            "      [,1] [,2] [,3] [,4] [,5] [,6]\n",
            " [1,]    1    1    2    3    4    5\n",
            " [2,]    2    1    2    3    4    5\n",
            " [3,]    3    1    2    3    4    5\n",
            " [4,]    4    1    2    3    4    5\n",
            " [5,]    5    1    2    3    4    5\n",
            " [6,]    6    1    2    3    4    5\n",
            " [7,]    7    1    2    3    4    5\n",
            " [8,]    8    1    2    3    4    5\n",
            " [9,]    9    1    2    3    4    5\n",
            "[10,]   10    1    2    3    4    5\n",
            "</code></pre>\n",
            "\n",
            "-----------\n",
            "How do I produce a boxplot in ggplot using a matrix\n",
            "---\n",
            "<p>You could use the melt() function and then geom_boxplot().\n",
            "First reproduce the data (thanks to Excel):</p>\n",
            "\n",
            "<pre><code>vec &lt;- c(c(27, 32, 31, 28, 20, 28, 10, 29, 15, 29), \n",
            " + c(31, 33, 20, 28, 21,  9, 14, 21, 34, 33), \n",
            " + c(27, 33, 28, 23, 26, 33, 19, 11, 26, 30), \n",
            " + c(33, 17, 10, 31, 10, 32, 10, 29, 31, 28), \n",
            " + c(25, 10, 29, 34, 32, 33, 28, 32, 32, 32), \n",
            " + c(32, 19, 13, 32, 26, 20,  9, 26, 32, 33), \n",
            " + c(33, 32, 18, 26, 27, 28, 29, 32, 24, 25), \n",
            " + c(33, 34, 32, 30, 27, 31, 22, 32, 33, 30), \n",
            " + c(32, 34, 31, 22, 17, 31, 11, 27, 18, 23), \n",
            " + c(26, 10, 30, 30, 27,  4,  4,  4,  4,  4))\n",
            "myMatrix &lt;- matrix(data=vec, ncol=10, byrow=TRUE)\n",
            "</code></pre>\n",
            "\n",
            "<p>Then melt and plot:</p>\n",
            "\n",
            "<pre><code>library(reshape)\n",
            "library(ggplot2)\n",
            "ggplot(data=melt(as.data.frame(myMatrix)), aes(variable, value)) + geom_boxplot()\n",
            "</code></pre>\n",
            "\n",
            "<p>Also, as Hadley suggested (long ago) in the comments, there is no need to cast the matrix to a data frame:</p>\n",
            "\n",
            "<pre><code>ggplot(data=melt(myMatrix), aes(as.factor(X2), value)) + geom_boxplot()\n",
            "</code></pre>\n",
            "\n",
            "-----------\n",
            "How do I construct a new centrality measure?\n",
            "---\n",
            "<p>This really boils down to what your comfortable level.  That said, igraph is a primarily a C library (you can <a href=\"http://sourceforge.net/projects/igraph/\" rel=\"nofollow noreferrer\">browse all the source code on sourceforge</a>), so the most logical way to extend it is probably in C.  For instance, the closeness function in R just call the related C function:</p>\n",
            "\n",
            "<pre><code>&gt; closeness\n",
            "function (graph, v = V(graph), mode = c(\"all\", \"out\", \"in\")) \n",
            "{\n",
            "    if (!is.igraph(graph)) {\n",
            "        stop(\"Not a graph object\")\n",
            "    }\n",
            "    mode &lt;- igraph.match.arg(mode)\n",
            "    mode &lt;- switch(mode, out = 1, `in` = 2, all = 3)\n",
            "    on.exit(.Call(\"R_igraph_finalizer\", PACKAGE = \"igraph\"))\n",
            "    .Call(\"R_igraph_closeness\", graph, as.igraph.vs(v), as.numeric(mode), \n",
            "        PACKAGE = \"igraph\")\n",
            "}\n",
            "</code></pre>\n",
            "\n",
            "<p>Here is <a href=\"http://igraph.bzr.sourceforge.net/bzr/igraph/0.6-main/annotate/head%3A/src/centrality.c\" rel=\"nofollow noreferrer\">the existing centrality sourcecode</a>.</p>\n",
            "\n",
            "-----------\n",
            "How can I partition a vector?\n",
            "---\n",
            "<p>You can use the <code>split</code> function:</p>\n",
            "\n",
            "<pre><code>split(letters, as.integer((seq_along(letters) - 1) / 10))\n",
            "</code></pre>\n",
            "\n",
            "<p>If you want to make this into a new function:</p>\n",
            "\n",
            "<pre><code>slice &lt;- function(x, n) split(x, as.integer((seq_along(x) - 1) / n))\n",
            "slice(letters, 10)\n",
            "</code></pre>\n",
            "\n",
            "---\n",
            "<pre><code>slice&lt;-function(x,n) {\n",
            "    N&lt;-length(x);\n",
            "    lapply(seq(1,N,n),function(i) x[i:min(i+n-1,N)])\n",
            "}\n",
            "</code></pre>\n",
            "\n",
            "-----------\n",
            "how do tell if its better to standardize your data matrix first when you do principal component analysis in R?\n",
            "---\n",
            "<p>Are your variables measured on a common scale?  If yes, then don't scale.  If no, then it's probably a good idea to scale.</p>\n",
            "\n",
            "<p>If you are trying to predict the value of another variable, PCA is probably not the correct tool.  Maybe you should look at a regression model instead.</p>\n",
            "\n",
            "-----------\n",
            "How do I get confidence intervals without inverting a singular Hessian matrix in R?\n",
            "---\n",
            "<p>You could change the parameterization so that the constraints are always satisfied. Rewrite the likelihood as a a function of ln(CV1) and ln(CV2), that way you can be sure that CV1 and CV2 remain strictly positive. </p>\n",
            "\n",
            "<pre><code>NLLdiff_2 = function(v1, lnCV1, v2, lnCV2, st1 = (czI01 - czV01), st2 = (czI02 - czV02), st01 = czI01, st02 = czI02, tt1 = czT01, tt2 = czT02) { \n",
            "prob1 = (1 + v1 * exp(lnCV1) * tt1)^(-1/exp(lnCV1))\n",
            "prob2 = ( 1 + v2 * exp(lnCV2) * tt2)^(-1/exp(lnCV2)) \n",
            "-(sum(dbinom(st1, st01, prob1, log = T)) + sum(dbinom(st2, st02, prob2, log = T)))\n",
            " }\n",
            "</code></pre>\n",
            "\n",
            "-----------\n",
            "How do I specify random factors in R?\n",
            "---\n",
            "<p>Are you by chance looking for the <a href=\"http://cran.r-project.org/package=lme4\" rel=\"nofollow noreferrer\">lme4</a> package which is focussed on linear mixed-effects (ie. fixed versus random) modelling?</p>\n",
            "\n",
            "---\n",
            "<p>Most simply (using the older <code>nlme</code> rather than the new <code>lme4</code>),</p>\n",
            "\n",
            "<pre><code>library(nlme)\n",
            "lme(fixed = y ~ 1, random = ~1|x1, data = p)\n",
            "</code></pre>\n",
            "\n",
            "<p>The equivalent in <code>lme4</code> is:</p>\n",
            "\n",
            "<pre><code>library(lme4)\n",
            "lmer(y~1+(1|x1), data = p)\n",
            "</code></pre>\n",
            "\n",
            "---\n",
            "<p>Zuur et al 2011, Mixed Effects Models and Extensions in Ecology with R, has an excellent walk through of random effects using the nlme package.  They explain the differences between fixed, random, and mixed models and how to specify random intercepts and random slopes.</p>\n",
            "\n",
            "-----------\n",
            "How do you make a new dataset given a set of vectors?\n",
            "---\n",
            "<p>What do you mean \"build a new dataset\"?  Like this?</p>\n",
            "\n",
            "<pre><code>s2 &lt;- data.frame(median1, median2, median3, median4)\n",
            "</code></pre>\n",
            "\n",
            "<p>Or else use cbind:</p>\n",
            "\n",
            "<pre><code>s2 &lt;- cbind(median1, median2, median3, median4)\n",
            "</code></pre>\n",
            "\n",
            "-----------\n",
            "How can I declare a thousand separator in read.csv?\n",
            "---\n",
            "<p>Looking at that set of data you could parse it using \", \" (note the extra space) as the seperator intead of \",\"</p>\n",
            "\n",
            "---\n",
            "<p>How about doing it as a two step process.\n",
            "1. Replace the \",\" with a TAB character\n",
            "2. Split on tab.</p>\n",
            "\n",
            "<p>I'm assuming .NET here but the sample principle would apply in any language</p>\n",
            "\n",
            "---\n",
            "<p>You could use the following regular expression to remove the commas and any surrounding quote marks to leave plain csv content</p>\n",
            "\n",
            "<pre><code>,(?=[0-9])|\"\n",
            "</code></pre>\n",
            "\n",
            "<p>then process it as normal</p>\n",
            "\n",
            "---\n",
            "<p>since there is an \"r\" tag under the question, I assume this is an R question.\n",
            "In R, you do not need to do anything to handle the quoted commas:</p>\n",
            "\n",
            "<pre><code>&gt; read.csv('t.csv', header=F)\n",
            "     V1          V2          V3          V4\n",
            "1 Sudan  15,276,000  14,098,000  13,509,000\n",
            "2  Chad      209000      196000      190000\n",
            "\n",
            "# if you want to convert them to numbers:\n",
            "&gt; df &lt;- read.csv('t.csv', header=F, stringsAsFactor=F)\n",
            "&gt; df$V2 &lt;- as.numeric(gsub(',', '', df$V2))\n",
            "</code></pre>\n",
            "\n",
            "-----------\n",
            "R: How to write out a data.frame so that I can paste it into SO for others to read?\n",
            "---\n",
            "<p>To answer your question directly, the easiest thing to do would be to use <code>summary()</code> or <code>head()</code> to display information about the data frame.  I would suggest not pasting the actual data into a SO question, but rather providing a public link to the data for the community to play with.  If you have not seen it, the <a href=\"http://www.box.net/\" rel=\"nofollow noreferrer\">box.net</a> service provides a lot of free space for online collaboration.</p>\n",
            "\n",
            "<p>Finally, if the data is exhibiting odd behavior when plotted, why not provide the code you are using to do the plots and some examples plots themselves.</p>\n",
            "\n",
            "---\n",
            "<p><code>dump</code> works well when the data frame is not very large.</p>\n",
            "\n",
            "---\n",
            "<p>This is an excellent question.</p>\n",
            "\n",
            "<p>Here's my attempt at an answer--in the form of recommendations for asking better questions w/r/t presenting the data that accompanies the question. I've probably violated every one of these suggestions below, but at least i've got something to refer to in the future, and perhaps it's useful for others as well.</p>\n",
            "\n",
            "<p><strong>First</strong>, i suspect that anyone who asks a question prefers an answer </p>\n",
            "\n",
            "<ul>\n",
            "<li><p>with enough abstraction so that in\n",
            "the future they can solve the general\n",
            "class of problems to which the\n",
            "current problem belongs; and</p></li>\n",
            "<li><p>with enough practical guidance\n",
            "(usually this means actual R code) to\n",
            "actually solve the problem that's\n",
            "just in front of us.</p></li>\n",
            "</ul>\n",
            "\n",
            "<p>Again: abstraction in your question (usually) results in abstraction in the answer, which means a more useful answer but also increases the likelihood that you'll actually get an acceptable answer--it's unlikely that the community has seen that exact data set before; it's far more likely that someone here will recognize a pattern. But the pattern can be obscured by too much data. </p>\n",
            "\n",
            "<p><strong>Second</strong>, the amount of data that's needed to adequately explain a question is not really what matters--what matters is how long it takes the people attempting to answer the question to get that data into their R environment. There are data sets provided in the base R distribution that are 50,000 rows--doesn't matter because i can get the data into R in a few keystrokes. What' more, if you can refer to one of those data sets then you don't have to bother cutting and pasting stuff inside the question window. By contrast, i really try to avoid forcing people to scrape even a few lines of data off the SO page just so they can properly understand my question (except for Dirk, he does the calculations in his head.)</p>\n",
            "\n",
            "<p><strong>Third</strong>, cutting and pasting the entire width of the data set in a question (all of the columns), unless it's absolutely required is just lazy. The data is rarely a substitute for a concise problem description. I would prefer that the OP's spend a minute or two and trim their actual data set so that they provide no more data than is actually required to illustrate the question. </p>\n",
            "\n",
            "<p><strong>Fourth</strong>, if the data can be 'provided' by a formula or algorithm, then just provide that. E.g., if a question relates to a random walk, we don't need the data, just say \"random walk\" and nearly everyone here will be able to generate the data in a short line of code.</p>\n",
            "\n",
            "---\n",
            "<p>First, Drew's ideas are very good. </p>\n",
            "\n",
            "<p>In addition, if you reduce the data and isolate the \"weird\" part, then use dput(). That's the most straight forward way to allow others to load it. Although you need to reduce your data to a reasonable amount first. </p>\n",
            "\n",
            "<p>Otherwise post it as a csv file in a location that's accessible through http and people can read that directly with read.csv.  Although it's unreasonable to ask people to help you with a very large dataset. </p>\n",
            "\n",
            "<p>Lastly, look at the answers to this question: <a href=\"https://stackoverflow.com/questions/1434897/how-do-i-load-example-datasets-in-r/1434927\">How do I load example datasets in R?</a> </p>\n",
            "\n",
            "-----------\n"
          ]
        }
      ]
    },
    {
      "cell_type": "markdown",
      "source": [
        "Voila! You can see:\n",
        "\n",
        "* Questions matching our search term\n",
        "* Answers to those questions\n",
        "\n",
        "Admittedly, the HTML formatting looks a bit janky, but if you were using this IRL you'd strip that out or properly display it. Since this is just a notebook I'll leave that as an exercise for you, dear reader."
      ],
      "metadata": {
        "id": "yRtwzsWbQBrV"
      }
    },
    {
      "cell_type": "markdown",
      "source": [
        "## Putting it into production\n",
        "\n",
        "Colab notebooks have a number of restrictions that make cool stuff quite difficult. If we were building this outside of a notebook, we could:\n",
        "\n",
        "* Set up a [RESTful or gRPC gateway](https://docs.jina.ai/fundamentals/gateway/) and keep the Flow open to requests using `flow.block()`\n",
        "* Use [sharding and replicas](https://docs.jina.ai/how-to/scale-out/) to improve performance and reliability.\n",
        "* [Monitor our Flow with Grafana](https://docs.jina.ai/fundamentals/flow/monitoring-flow/)\n",
        "* Better yet, host our Flow on [JCloud](https://docs.jina.ai/fundamentals/jcloud/), so we don't have to use any of our own compute for encoding, indexing, hosting, etc (encoding is especially hungry on the hardware)\n",
        "* Finetune our results using [Finetuner](https://finetuner.jina.ai) to provide better matches\n",
        "* Use a more specialized model for dealing with technical/code queries (rather than just general purpose)"
      ],
      "metadata": {
        "id": "qDAfJmqIQXDv"
      }
    }
  ]
}