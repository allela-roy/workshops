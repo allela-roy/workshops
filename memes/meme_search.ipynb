{
 "cells": [
  {
   "cell_type": "markdown",
   "metadata": {
    "id": "d-6qZXne-aDr"
   },
   "source": [
    "# Jina Meme Search Workshop\n",
    "\n",
    "![](http://examples.jina.ai/images/meme_search.gif)\n",
    "\n",
    "In this workshop we're going to build a meme search engine using [Jina](https://github.com/jina-ai/jina/). It will search a dataset of memes and return URLs to the images as well as metadata.\n",
    "\n",
    "For this workshop we'll just focus on searching **text**. For a more complete repo (including text/image search and frontend) you can check [this link](https://github.com/alexcg1/jina-meme-search).\n",
    "\n",
    "You can play with a live example [here](https://examples.jina.ai)."
   ]
  },
  {
   "cell_type": "markdown",
   "metadata": {},
   "source": [
    "## Terminology\n",
    "\n",
    "Let's go through the words we'll be using in this workshop.\n",
    "\n",
    "In our example, we'll search through all the <code>text</code> (which comes from a JSON file) and then display the image <code>uri</code> of each match.\n",
    "\n",
    "<table>\n",
    "    <tr>\n",
    "        <td>\n",
    "            <img src=\"https://raw.githubusercontent.com/jina-ai/workshops/main/memes/koala.png\" width=300 align=\"left\">\n",
    "        </td>\n",
    "        <td>\n",
    "            <table>\n",
    "                <tr>\n",
    "                    <td>Template</td>\n",
    "                    <td>Surprised Koala</td>\n",
    "                </tr>\n",
    "                <tr>\n",
    "                    <td>Caption</td>\n",
    "                    <td>This is poisonous. What</td>\n",
    "                </tr>\n",
    "                <tr>\n",
    "                    <td><code>uri</code></td>\n",
    "                    <td>https//i.imgflip.com/foo_bar.jpg</td>\n",
    "                </tr>\n",
    "                <tr>\n",
    "                    <td><code>text</code></td>\n",
    "                    <td>Surprised Koala | This is poisonous. What</td>\n",
    "                </tr>\n",
    "            </table>\n",
    "        </td>\n",
    "    </tr>\n",
    "</table>"
   ]
  },
  {
   "cell_type": "markdown",
   "metadata": {},
   "source": [
    "## Prerequisites\n",
    "\n",
    "- Check out [Jina's repo](https://github.com/jina-ai/jina/) to understand what Jina does\n",
    "- Watch [Neural search using cute fuzzy animals](https://www.youtube.com/watch?v=3FyddFAFNPQ) to understand how neural search works\n",
    "- Watch [Jina basics in under two minutes](https://www.youtube.com/watch?v=mnnC37ewQI8) to learn the fundamental components of Jina"
   ]
  },
  {
   "cell_type": "markdown",
   "metadata": {},
   "source": [
    "## Set up basics"
   ]
  },
  {
   "cell_type": "markdown",
   "metadata": {},
   "source": [
    "### Housekeeping"
   ]
  },
  {
   "cell_type": "markdown",
   "metadata": {},
   "source": [
    "#### Clean up from last time"
   ]
  },
  {
   "cell_type": "code",
   "execution_count": 1,
   "metadata": {},
   "outputs": [],
   "source": [
    "!cd /\n",
    "!rm -rf workspace images sample_data"
   ]
  },
  {
   "cell_type": "markdown",
   "metadata": {},
   "source": [
    "#### Set basic options"
   ]
  },
  {
   "cell_type": "code",
   "execution_count": 2,
   "metadata": {},
   "outputs": [
    {
     "name": "stdout",
     "output_type": "stream",
     "text": [
      "Enabling notebook extension jupyter-js-widgets/extension...\n",
      "      - Validating: \u001b[32mOK\u001b[0m\n"
     ]
    }
   ],
   "source": [
    "# Enable Jupyter widgets so we can see images\n",
    "!jupyter nbextension enable --py widgetsnbextension\n",
    "\n",
    "# Disable warnings\n",
    "import warnings\n",
    "warnings.filterwarnings('ignore')\n",
    "warnings.simplefilter('ignore')"
   ]
  },
  {
   "cell_type": "markdown",
   "metadata": {
    "id": "hjDI5WMT-uEb"
   },
   "source": [
    "#### Install Prerequisites"
   ]
  },
  {
   "cell_type": "code",
   "execution_count": 3,
   "metadata": {
    "colab": {
     "base_uri": "https://localhost:8080/"
    },
    "id": "JyvR2vJC37nR",
    "outputId": "891360b0-5cf7-447d-de4b-0ff0e5ca2ada"
   },
   "outputs": [
    {
     "name": "stdout",
     "output_type": "stream",
     "text": [
      "\u001b[33mWARNING: You are using pip version 21.3.1; however, version 22.0.4 is available.\n",
      "You should consider upgrading via the '/mnt/data/work/repos/workshops/memes/env/bin/python -m pip install --upgrade pip' command.\u001b[0m\n",
      "\u001b[33mWARNING: You are using pip version 21.3.1; however, version 22.0.4 is available.\n",
      "You should consider upgrading via the '/mnt/data/work/repos/workshops/memes/env/bin/python -m pip install --upgrade pip' command.\u001b[0m\n"
     ]
    }
   ],
   "source": [
    "!pip install -q jina==3.0\n",
    "!pip install -q ipywidgets==7.6.5 # Get nice widgets in the notebook"
   ]
  },
  {
   "cell_type": "markdown",
   "metadata": {},
   "source": [
    "#### Basic configuration\n",
    "\n",
    "- Since this is just a workshop and not a real-world application we'll just search through 50 memes. This will save us time in processing.\n",
    "- We'll also set a random seed so we can *consistently* shuffle our memes. This lets us easily compare results between models"
   ]
  },
  {
   "cell_type": "code",
   "execution_count": 4,
   "metadata": {},
   "outputs": [],
   "source": [
    "max_docs = 50\n",
    "random_seed = 1337"
   ]
  },
  {
   "cell_type": "markdown",
   "metadata": {},
   "source": [
    "## Build basic search engine with DocArray\n",
    "\n",
    "[DocArray](https://docarray.jina.ai/) is a library for nested, unstructured data in transit, including text, image, audio, video, 3D mesh, etc. It allows deep-learning engineers to efficiently process, embed, search, recommend, store, and transfer the data with a Pythonic API.\n",
    "\n",
    "We'll use DocArray to build a simple search engine locally, then look at how to serve it online with [Jina](https://github.com/jina-ai/jina/)\n",
    "\n",
    "### Our dataset\n",
    "\n",
    "We use an open-source dataset from imgflip, originally downloaded from [Kaggle](https://www.kaggle.com/abhishtagatya/imgflipscraped-memes-caption-dataset).\n",
    "\n",
    "**Why this dataset?**\n",
    "\n",
    "We chose this dataset because\n",
    "\n",
    "- It has rich metadata (caption, template name)\n",
    "- It has recognizable memes (many datasets were just random pics with overlaid Impact font)\n",
    "- It doesn't *seem* to have too many racist/sexist/\\*phobic memes 🤞\n",
    "\n",
    "**Why does this dataset kinda suck**\n",
    "\n",
    "It only contains so many memes, and new memes come out all the time. So it won't have the latest, dankest stuff."
   ]
  },
  {
   "cell_type": "markdown",
   "metadata": {},
   "source": [
    "### Download data"
   ]
  },
  {
   "cell_type": "code",
   "execution_count": 5,
   "metadata": {
    "colab": {
     "base_uri": "https://localhost:8080/"
    },
    "id": "Gz6sKxwm3jw-",
    "outputId": "08bbb648-30a1-4648-98af-96d1ce0a143c"
   },
   "outputs": [],
   "source": [
    "!mkdir -p data\n",
    "!wget -O data/memes.json -nc https://jina-examples-datasets.s3.amazonaws.com/memes/memes.json -q"
   ]
  },
  {
   "cell_type": "markdown",
   "metadata": {
    "id": "14lerh7__Mlb"
   },
   "source": [
    "### Load data\n",
    "\n",
    "I've written a function to help load the data from the JSON file we downloaded earlier.\n",
    "\n",
    "In this function we:\n",
    "\n",
    "- Create a `DocumentArray` to hold `Documents` (using [docarray package](https://docarray.jina.ai))\n",
    "- Create a `Document` for each meme\n",
    "- Set `Document.text` to the template name (e.g. `\"Surprised Koala\"`) + meme caption (e.g. `\"This is poisonous. What\"`)\n",
    "- Populate some `tags` for the `Document` (e.g. absolute URL for image)"
   ]
  },
  {
   "cell_type": "code",
   "execution_count": 6,
   "metadata": {
    "id": "BiyIopC7CfqD"
   },
   "outputs": [],
   "source": [
    "from docarray import Document, DocumentArray"
   ]
  },
  {
   "cell_type": "code",
   "execution_count": 7,
   "metadata": {
    "id": "Lhx-gD5b30JJ"
   },
   "outputs": [],
   "source": [
    "import json\n",
    "def prep_docs(input_file, num_docs=None, shuffle=False):\n",
    "    docs = DocumentArray()\n",
    "    memes = []\n",
    "    print(f\"Processing {input_file}\")\n",
    "    with open(input_file, \"r\") as file:\n",
    "        raw_json = json.loads(file.read())\n",
    "\n",
    "    for template in raw_json:\n",
    "        for meme in template[\"generated_memes\"]:\n",
    "            meme[\"template\"] = template[\"name\"]\n",
    "        memes.extend(template[\"generated_memes\"])\n",
    "    if shuffle:\n",
    "        import random\n",
    "        random_seed = 1337\n",
    "\n",
    "        random.seed(random_seed)\n",
    "        random.shuffle(memes)\n",
    "\n",
    "    for meme in memes[:num_docs]:\n",
    "        doctext = f\"{meme['template']} - {meme['caption_text']}\"\n",
    "        doc = Document(text=doctext)\n",
    "        doc.tags = meme\n",
    "        docs.extend([doc])\n",
    "    \n",
    "    vocab = docs.get_vocabulary()\n",
    "    for doc in docs:\n",
    "        doc.convert_text_to_tensor(vocab)\n",
    "        doc.tags[\"uri_absolute\"] = \"http:\" + doc.tags[\"image_url\"]\n",
    "        \n",
    "    return docs"
   ]
  },
  {
   "cell_type": "code",
   "execution_count": 8,
   "metadata": {
    "colab": {
     "base_uri": "https://localhost:8080/"
    },
    "id": "rcg_sQKZ5EyA",
    "outputId": "aa22d73d-2f1e-4df7-8442-7d13bf03fbd2"
   },
   "outputs": [
    {
     "name": "stdout",
     "output_type": "stream",
     "text": [
      "Processing data/memes.json\n"
     ]
    }
   ],
   "source": [
    "docs = prep_docs(\n",
    "    input_file=\"data/memes.json\", \n",
    "    num_docs=max_docs,\n",
    ")"
   ]
  },
  {
   "cell_type": "code",
   "execution_count": 9,
   "metadata": {},
   "outputs": [
    {
     "name": "stdout",
     "output_type": "stream",
     "text": [
      "File ‘helper.py’ already there; not retrieving.\n",
      "\n"
     ]
    }
   ],
   "source": [
    "!wget -nc https://raw.githubusercontent.com/jina-ai/workshops/main/memes/helper.py\n",
    "from helper import show_images"
   ]
  },
  {
   "cell_type": "code",
   "execution_count": 10,
   "metadata": {},
   "outputs": [
    {
     "data": {
      "application/vnd.jupyter.widget-view+json": {
       "model_id": "74bad7f2fb7248f198f6b3e6f670009e",
       "version_major": 2,
       "version_minor": 0
      },
      "text/plain": [
       "HBox(children=(Image(value=b'\\xff\\xd8\\xff\\xe0\\x00\\x10JFIF\\x00\\x01\\x01\\x00\\x00\\x01\\x00\\x01\\x00\\x00\\xff\\xdb\\x00\\…"
      ]
     },
     "metadata": {},
     "output_type": "display_data"
    }
   ],
   "source": [
    "show_images(docs)"
   ]
  },
  {
   "cell_type": "markdown",
   "metadata": {},
   "source": [
    "### What does a Document look like under the hood?\n",
    "\n",
    "Let's take a look at a Document to get an idea of what's going on"
   ]
  },
  {
   "cell_type": "code",
   "execution_count": 11,
   "metadata": {},
   "outputs": [
    {
     "name": "stdout",
     "output_type": "stream",
     "text": [
      "<Document ('id', 'tensor', 'tags') at ee538001f39109c494d812649bf1b357>\n"
     ]
    }
   ],
   "source": [
    "print(docs[0])"
   ]
  },
  {
   "cell_type": "markdown",
   "metadata": {},
   "source": [
    "We can see several fields. Let's look at each of them:"
   ]
  },
  {
   "cell_type": "code",
   "execution_count": 12,
   "metadata": {},
   "outputs": [
    {
     "name": "stdout",
     "output_type": "stream",
     "text": [
      "ee538001f39109c494d812649bf1b357\n",
      "[ 2  3  4  5  6  7  8  9 10  5 11 12 13 14  5  6  7 15 16 17 18 11 12 19\n",
      " 20]\n",
      "('id', 1)\n",
      "('alt_text', 'Drake Hotline Bling | my mom when i play with my phone for 30 minutes my mom when she looks at instagram phone for two hours | image tagged in memes,drake hotline bling | made w/ Imgflip meme maker')\n",
      "('caption_text', ' my mom when i play with my phone for 30 minutes my mom when she looks at instagram phone for two hours ')\n",
      "('image_url', '//i.imgflip.com/3xd5o0.jpg')\n",
      "('hash_id', '73c18611930ad390a4a6a7d1cd9214daba85b9f3408997e59c1e0ab63362e7db')\n",
      "('template', 'Drake Hotline Bling')\n",
      "('uri_absolute', 'http://i.imgflip.com/3xd5o0.jpg')\n"
     ]
    }
   ],
   "source": [
    "print(docs[0].id)                  # Unique ID for index\n",
    "print(docs[0].tensor)              # ndarray representation of Document text\n",
    "\n",
    "for tag in docs[0].tags.items():   # Metadata\n",
    "    print(tag)"
   ]
  },
  {
   "cell_type": "markdown",
   "metadata": {
    "id": "zaTD9ssjA6a8"
   },
   "source": [
    "### Why shuffle?\n",
    "\n",
    "The memes are arranged alphabetically by template. So if we don't shuffle we're going to get very similar memes. This makes it more difficult to search for something interesting."
   ]
  },
  {
   "cell_type": "markdown",
   "metadata": {
    "id": "4CFc1OvuBGyQ"
   },
   "source": [
    "If we shuffle we get a more interesting mix:"
   ]
  },
  {
   "cell_type": "code",
   "execution_count": 13,
   "metadata": {},
   "outputs": [
    {
     "name": "stdout",
     "output_type": "stream",
     "text": [
      "Processing data/memes.json\n"
     ]
    }
   ],
   "source": [
    "docs = prep_docs(\n",
    "    input_file=\"data/memes.json\", \n",
    "    num_docs=max_docs,\n",
    "    shuffle=True)"
   ]
  },
  {
   "cell_type": "code",
   "execution_count": 14,
   "metadata": {},
   "outputs": [
    {
     "data": {
      "application/vnd.jupyter.widget-view+json": {
       "model_id": "48c64a6883794ae197641940c69e6c1d",
       "version_major": 2,
       "version_minor": 0
      },
      "text/plain": [
       "HBox(children=(Image(value=b'\\xff\\xd8\\xff\\xe0\\x00\\x10JFIF\\x00\\x01\\x01\\x00\\x00\\x01\\x00\\x01\\x00\\x00\\xff\\xdb\\x00C…"
      ]
     },
     "metadata": {},
     "output_type": "display_data"
    }
   ],
   "source": [
    "show_images(docs)"
   ]
  },
  {
   "cell_type": "markdown",
   "metadata": {},
   "source": [
    "# Index and search data with Flow"
   ]
  },
  {
   "cell_type": "markdown",
   "metadata": {
    "id": "wKuRVFJzBayO"
   },
   "source": [
    "## Set up Flow\n",
    "\n",
    "Before we index or search, we need to create our Flow. Only then can we open it as a context manager and do stuff with it."
   ]
  },
  {
   "cell_type": "code",
   "execution_count": 15,
   "metadata": {
    "id": "ae9vrzNICVbs"
   },
   "outputs": [],
   "source": [
    "from jina import Flow"
   ]
  },
  {
   "cell_type": "code",
   "execution_count": 16,
   "metadata": {},
   "outputs": [],
   "source": [
    "encoder = \"TransformerTorchEncoder\"\n",
    "indexer = \"SimpleIndexer\""
   ]
  },
  {
   "cell_type": "code",
   "execution_count": 17,
   "metadata": {
    "id": "2mxPSbjp6KwW"
   },
   "outputs": [],
   "source": [
    "flow = (\n",
    "    Flow()\n",
    "    .add(\n",
    "        name=\"meme_text_encoder\",\n",
    "        uses=f\"jinahub://{encoder}/v0.3\",                 # Using Executors from Jina Hub means we don't need to write our own!\n",
    "        # uses_with={\"model_name\": \"en_core_web_md\"},\n",
    "        install_requirements=True\n",
    "    )\n",
    "    .add(\n",
    "        name=\"meme_text_indexer\",\n",
    "        uses=f\"jinahub://{indexer}/v0.15\",\n",
    "        install_requirements=True\n",
    "    )\n",
    ")"
   ]
  },
  {
   "cell_type": "markdown",
   "metadata": {
    "id": "t-7aUULtBdSA"
   },
   "source": [
    "## Index data with Flow\n",
    "\n",
    "We use our Flow to build an index of where all the meme text embeddings lie on an n-dimensional graph"
   ]
  },
  {
   "cell_type": "markdown",
   "metadata": {},
   "source": [
    "**Note:** If the notebook crashes here, restart (don't factory-reset) it and run all cells again. This seems to be a bug in Google Colab."
   ]
  },
  {
   "cell_type": "code",
   "execution_count": 18,
   "metadata": {
    "colab": {
     "base_uri": "https://localhost:8080/"
    },
    "id": "rpCo9it_6kLm",
    "outputId": "ec8a7b76-7b07-44e0-de43-f92e4e6bd5f7",
    "tags": []
   },
   "outputs": [
    {
     "data": {
      "application/vnd.jupyter.widget-view+json": {
       "model_id": "",
       "version_major": 2,
       "version_minor": 0
      },
      "text/plain": [
       "Output()"
      ]
     },
     "metadata": {},
     "output_type": "display_data"
    },
    {
     "data": {
      "text/html": [
       "<pre style=\"white-space:pre;overflow-x:auto;line-height:normal;font-family:Menlo,'DejaVu Sans Mono',consolas,'Courier New',monospace\"><span style=\"color: #808000; text-decoration-color: #808000; font-weight: bold\">DeprecationWarning: Kernel._parent_header is deprecated in ipykernel 6. Use .get_parent()</span> \n",
       "<span style=\"color: #000000; text-decoration-color: #000000; font-weight: bold\">(raised from /mnt/data/work/repos/workshops/memes/env/lib/python3.9/site-packages/ipywidgets/</span>\n",
       "<span style=\"color: #000000; text-decoration-color: #000000; font-weight: bold\">widgets/widget_output.py:111)</span>\n",
       "</pre>\n"
      ],
      "text/plain": [
       "\u001b[1;33mDeprecationWarning: Kernel._parent_header is deprecated in ipykernel 6. Use .get_parent()\u001b[0m \n",
       "\u001b[1;30m(raised from /mnt/data/work/repos/workshops/memes/env/lib/python3.9/site-packages/ipywidgets/\u001b[0m\n",
       "\u001b[1;30mwidgets/widget_output.py:111)\u001b[0m\n"
      ]
     },
     "metadata": {},
     "output_type": "display_data"
    },
    {
     "data": {
      "text/html": [
       "<pre style=\"white-space:pre;overflow-x:auto;line-height:normal;font-family:Menlo,'DejaVu Sans Mono',consolas,'Courier New',monospace\"><span style=\"color: #808000; text-decoration-color: #808000; font-weight: bold\">DeprecationWarning: Kernel._parent_header is deprecated in ipykernel 6. Use .get_parent()</span> \n",
       "<span style=\"color: #000000; text-decoration-color: #000000; font-weight: bold\">(raised from /mnt/data/work/repos/workshops/memes/env/lib/python3.9/site-packages/ipywidgets/</span>\n",
       "<span style=\"color: #000000; text-decoration-color: #000000; font-weight: bold\">widgets/widget_output.py:112)</span>\n",
       "</pre>\n"
      ],
      "text/plain": [
       "\u001b[1;33mDeprecationWarning: Kernel._parent_header is deprecated in ipykernel 6. Use .get_parent()\u001b[0m \n",
       "\u001b[1;30m(raised from /mnt/data/work/repos/workshops/memes/env/lib/python3.9/site-packages/ipywidgets/\u001b[0m\n",
       "\u001b[1;30mwidgets/widget_output.py:112)\u001b[0m\n"
      ]
     },
     "metadata": {},
     "output_type": "display_data"
    },
    {
     "data": {
      "text/html": [
       "<pre style=\"white-space:pre;overflow-x:auto;line-height:normal;font-family:Menlo,'DejaVu Sans Mono',consolas,'Courier New',monospace\"><span style=\"color: #808000; text-decoration-color: #808000; font-weight: bold\">DeprecationWarning: Kernel._parent_header is deprecated in ipykernel 6. Use .get_parent()</span> \n",
       "<span style=\"color: #000000; text-decoration-color: #000000; font-weight: bold\">(raised from /mnt/data/work/repos/workshops/memes/env/lib/python3.9/site-packages/ipywidgets/</span>\n",
       "<span style=\"color: #000000; text-decoration-color: #000000; font-weight: bold\">widgets/widget_output.py:111)</span>\n",
       "</pre>\n"
      ],
      "text/plain": [
       "\u001b[1;33mDeprecationWarning: Kernel._parent_header is deprecated in ipykernel 6. Use .get_parent()\u001b[0m \n",
       "\u001b[1;30m(raised from /mnt/data/work/repos/workshops/memes/env/lib/python3.9/site-packages/ipywidgets/\u001b[0m\n",
       "\u001b[1;30mwidgets/widget_output.py:111)\u001b[0m\n"
      ]
     },
     "metadata": {},
     "output_type": "display_data"
    },
    {
     "data": {
      "text/html": [
       "<pre style=\"white-space:pre;overflow-x:auto;line-height:normal;font-family:Menlo,'DejaVu Sans Mono',consolas,'Courier New',monospace\"><span style=\"color: #808000; text-decoration-color: #808000; font-weight: bold\">DeprecationWarning: Kernel._parent_header is deprecated in ipykernel 6. Use .get_parent()</span> \n",
       "<span style=\"color: #000000; text-decoration-color: #000000; font-weight: bold\">(raised from /mnt/data/work/repos/workshops/memes/env/lib/python3.9/site-packages/ipywidgets/</span>\n",
       "<span style=\"color: #000000; text-decoration-color: #000000; font-weight: bold\">widgets/widget_output.py:112)</span>\n",
       "</pre>\n"
      ],
      "text/plain": [
       "\u001b[1;33mDeprecationWarning: Kernel._parent_header is deprecated in ipykernel 6. Use .get_parent()\u001b[0m \n",
       "\u001b[1;30m(raised from /mnt/data/work/repos/workshops/memes/env/lib/python3.9/site-packages/ipywidgets/\u001b[0m\n",
       "\u001b[1;30mwidgets/widget_output.py:112)\u001b[0m\n"
      ]
     },
     "metadata": {},
     "output_type": "display_data"
    },
    {
     "data": {
      "text/html": [
       "<pre style=\"white-space:pre;overflow-x:auto;line-height:normal;font-family:Menlo,'DejaVu Sans Mono',consolas,'Courier New',monospace\"><span style=\"color: #808000; text-decoration-color: #808000; font-weight: bold\">DeprecationWarning: Kernel._parent_header is deprecated in ipykernel 6. Use .get_parent()</span> \n",
       "<span style=\"color: #000000; text-decoration-color: #000000; font-weight: bold\">(raised from /mnt/data/work/repos/workshops/memes/env/lib/python3.9/site-packages/ipywidgets/</span>\n",
       "<span style=\"color: #000000; text-decoration-color: #000000; font-weight: bold\">widgets/widget_output.py:111)</span>\n",
       "</pre>\n"
      ],
      "text/plain": [
       "\u001b[1;33mDeprecationWarning: Kernel._parent_header is deprecated in ipykernel 6. Use .get_parent()\u001b[0m \n",
       "\u001b[1;30m(raised from /mnt/data/work/repos/workshops/memes/env/lib/python3.9/site-packages/ipywidgets/\u001b[0m\n",
       "\u001b[1;30mwidgets/widget_output.py:111)\u001b[0m\n"
      ]
     },
     "metadata": {},
     "output_type": "display_data"
    },
    {
     "data": {
      "text/html": [
       "<pre style=\"white-space:pre;overflow-x:auto;line-height:normal;font-family:Menlo,'DejaVu Sans Mono',consolas,'Courier New',monospace\"><span style=\"color: #808000; text-decoration-color: #808000; font-weight: bold\">DeprecationWarning: Kernel._parent_header is deprecated in ipykernel 6. Use .get_parent()</span> \n",
       "<span style=\"color: #000000; text-decoration-color: #000000; font-weight: bold\">(raised from /mnt/data/work/repos/workshops/memes/env/lib/python3.9/site-packages/ipywidgets/</span>\n",
       "<span style=\"color: #000000; text-decoration-color: #000000; font-weight: bold\">widgets/widget_output.py:112)</span>\n",
       "</pre>\n"
      ],
      "text/plain": [
       "\u001b[1;33mDeprecationWarning: Kernel._parent_header is deprecated in ipykernel 6. Use .get_parent()\u001b[0m \n",
       "\u001b[1;30m(raised from /mnt/data/work/repos/workshops/memes/env/lib/python3.9/site-packages/ipywidgets/\u001b[0m\n",
       "\u001b[1;30mwidgets/widget_output.py:112)\u001b[0m\n"
      ]
     },
     "metadata": {},
     "output_type": "display_data"
    },
    {
     "data": {
      "text/html": [
       "<pre style=\"white-space:pre;overflow-x:auto;line-height:normal;font-family:Menlo,'DejaVu Sans Mono',consolas,'Courier New',monospace\"><span style=\"color: #808000; text-decoration-color: #808000; font-weight: bold\">DeprecationWarning: Kernel._parent_header is deprecated in ipykernel 6. Use .get_parent()</span> \n",
       "<span style=\"color: #000000; text-decoration-color: #000000; font-weight: bold\">(raised from /mnt/data/work/repos/workshops/memes/env/lib/python3.9/site-packages/ipywidgets/</span>\n",
       "<span style=\"color: #000000; text-decoration-color: #000000; font-weight: bold\">widgets/widget_output.py:111)</span>\n",
       "</pre>\n"
      ],
      "text/plain": [
       "\u001b[1;33mDeprecationWarning: Kernel._parent_header is deprecated in ipykernel 6. Use .get_parent()\u001b[0m \n",
       "\u001b[1;30m(raised from /mnt/data/work/repos/workshops/memes/env/lib/python3.9/site-packages/ipywidgets/\u001b[0m\n",
       "\u001b[1;30mwidgets/widget_output.py:111)\u001b[0m\n"
      ]
     },
     "metadata": {},
     "output_type": "display_data"
    },
    {
     "data": {
      "text/html": [
       "<pre style=\"white-space:pre;overflow-x:auto;line-height:normal;font-family:Menlo,'DejaVu Sans Mono',consolas,'Courier New',monospace\"><span style=\"color: #808000; text-decoration-color: #808000; font-weight: bold\">DeprecationWarning: Kernel._parent_header is deprecated in ipykernel 6. Use .get_parent()</span> \n",
       "<span style=\"color: #000000; text-decoration-color: #000000; font-weight: bold\">(raised from /mnt/data/work/repos/workshops/memes/env/lib/python3.9/site-packages/ipywidgets/</span>\n",
       "<span style=\"color: #000000; text-decoration-color: #000000; font-weight: bold\">widgets/widget_output.py:112)</span>\n",
       "</pre>\n"
      ],
      "text/plain": [
       "\u001b[1;33mDeprecationWarning: Kernel._parent_header is deprecated in ipykernel 6. Use .get_parent()\u001b[0m \n",
       "\u001b[1;30m(raised from /mnt/data/work/repos/workshops/memes/env/lib/python3.9/site-packages/ipywidgets/\u001b[0m\n",
       "\u001b[1;30mwidgets/widget_output.py:112)\u001b[0m\n"
      ]
     },
     "metadata": {},
     "output_type": "display_data"
    },
    {
     "data": {
      "text/html": [
       "<pre style=\"white-space:pre;overflow-x:auto;line-height:normal;font-family:Menlo,'DejaVu Sans Mono',consolas,'Courier New',monospace\"><span style=\"color: #808000; text-decoration-color: #808000; font-weight: bold\">DeprecationWarning: Kernel._parent_header is deprecated in ipykernel 6. Use .get_parent()</span> \n",
       "<span style=\"color: #000000; text-decoration-color: #000000; font-weight: bold\">(raised from /mnt/data/work/repos/workshops/memes/env/lib/python3.9/site-packages/ipywidgets/</span>\n",
       "<span style=\"color: #000000; text-decoration-color: #000000; font-weight: bold\">widgets/widget_output.py:111)</span>\n",
       "</pre>\n"
      ],
      "text/plain": [
       "\u001b[1;33mDeprecationWarning: Kernel._parent_header is deprecated in ipykernel 6. Use .get_parent()\u001b[0m \n",
       "\u001b[1;30m(raised from /mnt/data/work/repos/workshops/memes/env/lib/python3.9/site-packages/ipywidgets/\u001b[0m\n",
       "\u001b[1;30mwidgets/widget_output.py:111)\u001b[0m\n"
      ]
     },
     "metadata": {},
     "output_type": "display_data"
    },
    {
     "data": {
      "text/html": [
       "<pre style=\"white-space:pre;overflow-x:auto;line-height:normal;font-family:Menlo,'DejaVu Sans Mono',consolas,'Courier New',monospace\"><span style=\"color: #808000; text-decoration-color: #808000; font-weight: bold\">DeprecationWarning: Kernel._parent_header is deprecated in ipykernel 6. Use .get_parent()</span> \n",
       "<span style=\"color: #000000; text-decoration-color: #000000; font-weight: bold\">(raised from /mnt/data/work/repos/workshops/memes/env/lib/python3.9/site-packages/ipywidgets/</span>\n",
       "<span style=\"color: #000000; text-decoration-color: #000000; font-weight: bold\">widgets/widget_output.py:112)</span>\n",
       "</pre>\n"
      ],
      "text/plain": [
       "\u001b[1;33mDeprecationWarning: Kernel._parent_header is deprecated in ipykernel 6. Use .get_parent()\u001b[0m \n",
       "\u001b[1;30m(raised from /mnt/data/work/repos/workshops/memes/env/lib/python3.9/site-packages/ipywidgets/\u001b[0m\n",
       "\u001b[1;30mwidgets/widget_output.py:112)\u001b[0m\n"
      ]
     },
     "metadata": {},
     "output_type": "display_data"
    },
    {
     "data": {
      "text/html": [
       "<pre style=\"white-space:pre;overflow-x:auto;line-height:normal;font-family:Menlo,'DejaVu Sans Mono',consolas,'Courier New',monospace\"><span style=\"color: #808000; text-decoration-color: #808000; font-weight: bold\">DeprecationWarning: Kernel._parent_header is deprecated in ipykernel 6. Use .get_parent()</span> \n",
       "<span style=\"color: #000000; text-decoration-color: #000000; font-weight: bold\">(raised from /mnt/data/work/repos/workshops/memes/env/lib/python3.9/site-packages/ipywidgets/</span>\n",
       "<span style=\"color: #000000; text-decoration-color: #000000; font-weight: bold\">widgets/widget_output.py:111)</span>\n",
       "</pre>\n"
      ],
      "text/plain": [
       "\u001b[1;33mDeprecationWarning: Kernel._parent_header is deprecated in ipykernel 6. Use .get_parent()\u001b[0m \n",
       "\u001b[1;30m(raised from /mnt/data/work/repos/workshops/memes/env/lib/python3.9/site-packages/ipywidgets/\u001b[0m\n",
       "\u001b[1;30mwidgets/widget_output.py:111)\u001b[0m\n"
      ]
     },
     "metadata": {},
     "output_type": "display_data"
    },
    {
     "data": {
      "text/html": [
       "<pre style=\"white-space:pre;overflow-x:auto;line-height:normal;font-family:Menlo,'DejaVu Sans Mono',consolas,'Courier New',monospace\"><span style=\"color: #808000; text-decoration-color: #808000; font-weight: bold\">DeprecationWarning: Kernel._parent_header is deprecated in ipykernel 6. Use .get_parent()</span> \n",
       "<span style=\"color: #000000; text-decoration-color: #000000; font-weight: bold\">(raised from /mnt/data/work/repos/workshops/memes/env/lib/python3.9/site-packages/ipywidgets/</span>\n",
       "<span style=\"color: #000000; text-decoration-color: #000000; font-weight: bold\">widgets/widget_output.py:112)</span>\n",
       "</pre>\n"
      ],
      "text/plain": [
       "\u001b[1;33mDeprecationWarning: Kernel._parent_header is deprecated in ipykernel 6. Use .get_parent()\u001b[0m \n",
       "\u001b[1;30m(raised from /mnt/data/work/repos/workshops/memes/env/lib/python3.9/site-packages/ipywidgets/\u001b[0m\n",
       "\u001b[1;30mwidgets/widget_output.py:112)\u001b[0m\n"
      ]
     },
     "metadata": {},
     "output_type": "display_data"
    },
    {
     "data": {
      "text/html": [
       "<pre style=\"white-space:pre;overflow-x:auto;line-height:normal;font-family:Menlo,'DejaVu Sans Mono',consolas,'Courier New',monospace\"><span style=\"color: #808000; text-decoration-color: #808000; font-weight: bold\">DeprecationWarning: Kernel._parent_header is deprecated in ipykernel 6. Use .get_parent()</span> \n",
       "<span style=\"color: #000000; text-decoration-color: #000000; font-weight: bold\">(raised from /mnt/data/work/repos/workshops/memes/env/lib/python3.9/site-packages/ipywidgets/</span>\n",
       "<span style=\"color: #000000; text-decoration-color: #000000; font-weight: bold\">widgets/widget_output.py:111)</span>\n",
       "</pre>\n"
      ],
      "text/plain": [
       "\u001b[1;33mDeprecationWarning: Kernel._parent_header is deprecated in ipykernel 6. Use .get_parent()\u001b[0m \n",
       "\u001b[1;30m(raised from /mnt/data/work/repos/workshops/memes/env/lib/python3.9/site-packages/ipywidgets/\u001b[0m\n",
       "\u001b[1;30mwidgets/widget_output.py:111)\u001b[0m\n"
      ]
     },
     "metadata": {},
     "output_type": "display_data"
    },
    {
     "data": {
      "text/html": [
       "<pre style=\"white-space:pre;overflow-x:auto;line-height:normal;font-family:Menlo,'DejaVu Sans Mono',consolas,'Courier New',monospace\"><span style=\"color: #808000; text-decoration-color: #808000; font-weight: bold\">DeprecationWarning: Kernel._parent_header is deprecated in ipykernel 6. Use .get_parent()</span> \n",
       "<span style=\"color: #000000; text-decoration-color: #000000; font-weight: bold\">(raised from /mnt/data/work/repos/workshops/memes/env/lib/python3.9/site-packages/ipywidgets/</span>\n",
       "<span style=\"color: #000000; text-decoration-color: #000000; font-weight: bold\">widgets/widget_output.py:112)</span>\n",
       "</pre>\n"
      ],
      "text/plain": [
       "\u001b[1;33mDeprecationWarning: Kernel._parent_header is deprecated in ipykernel 6. Use .get_parent()\u001b[0m \n",
       "\u001b[1;30m(raised from /mnt/data/work/repos/workshops/memes/env/lib/python3.9/site-packages/ipywidgets/\u001b[0m\n",
       "\u001b[1;30mwidgets/widget_output.py:112)\u001b[0m\n"
      ]
     },
     "metadata": {},
     "output_type": "display_data"
    },
    {
     "data": {
      "text/html": [
       "<pre style=\"white-space:pre;overflow-x:auto;line-height:normal;font-family:Menlo,'DejaVu Sans Mono',consolas,'Courier New',monospace\"><span style=\"color: #808000; text-decoration-color: #808000; font-weight: bold\">DeprecationWarning: Kernel._parent_header is deprecated in ipykernel 6. Use .get_parent()</span> \n",
       "<span style=\"color: #000000; text-decoration-color: #000000; font-weight: bold\">(raised from /mnt/data/work/repos/workshops/memes/env/lib/python3.9/site-packages/ipywidgets/</span>\n",
       "<span style=\"color: #000000; text-decoration-color: #000000; font-weight: bold\">widgets/widget_output.py:111)</span>\n",
       "</pre>\n"
      ],
      "text/plain": [
       "\u001b[1;33mDeprecationWarning: Kernel._parent_header is deprecated in ipykernel 6. Use .get_parent()\u001b[0m \n",
       "\u001b[1;30m(raised from /mnt/data/work/repos/workshops/memes/env/lib/python3.9/site-packages/ipywidgets/\u001b[0m\n",
       "\u001b[1;30mwidgets/widget_output.py:111)\u001b[0m\n"
      ]
     },
     "metadata": {},
     "output_type": "display_data"
    },
    {
     "data": {
      "text/html": [
       "<pre style=\"white-space:pre;overflow-x:auto;line-height:normal;font-family:Menlo,'DejaVu Sans Mono',consolas,'Courier New',monospace\"><span style=\"color: #808000; text-decoration-color: #808000; font-weight: bold\">DeprecationWarning: Kernel._parent_header is deprecated in ipykernel 6. Use .get_parent()</span> \n",
       "<span style=\"color: #000000; text-decoration-color: #000000; font-weight: bold\">(raised from /mnt/data/work/repos/workshops/memes/env/lib/python3.9/site-packages/ipywidgets/</span>\n",
       "<span style=\"color: #000000; text-decoration-color: #000000; font-weight: bold\">widgets/widget_output.py:112)</span>\n",
       "</pre>\n"
      ],
      "text/plain": [
       "\u001b[1;33mDeprecationWarning: Kernel._parent_header is deprecated in ipykernel 6. Use .get_parent()\u001b[0m \n",
       "\u001b[1;30m(raised from /mnt/data/work/repos/workshops/memes/env/lib/python3.9/site-packages/ipywidgets/\u001b[0m\n",
       "\u001b[1;30mwidgets/widget_output.py:112)\u001b[0m\n"
      ]
     },
     "metadata": {},
     "output_type": "display_data"
    },
    {
     "data": {
      "text/html": [
       "<pre style=\"white-space:pre;overflow-x:auto;line-height:normal;font-family:Menlo,'DejaVu Sans Mono',consolas,'Courier New',monospace\"><span style=\"color: #808000; text-decoration-color: #808000; font-weight: bold\">DeprecationWarning: Kernel._parent_header is deprecated in ipykernel 6. Use .get_parent()</span> \n",
       "<span style=\"color: #000000; text-decoration-color: #000000; font-weight: bold\">(raised from /mnt/data/work/repos/workshops/memes/env/lib/python3.9/site-packages/ipywidgets/</span>\n",
       "<span style=\"color: #000000; text-decoration-color: #000000; font-weight: bold\">widgets/widget_output.py:111)</span>\n",
       "</pre>\n"
      ],
      "text/plain": [
       "\u001b[1;33mDeprecationWarning: Kernel._parent_header is deprecated in ipykernel 6. Use .get_parent()\u001b[0m \n",
       "\u001b[1;30m(raised from /mnt/data/work/repos/workshops/memes/env/lib/python3.9/site-packages/ipywidgets/\u001b[0m\n",
       "\u001b[1;30mwidgets/widget_output.py:111)\u001b[0m\n"
      ]
     },
     "metadata": {},
     "output_type": "display_data"
    },
    {
     "data": {
      "text/html": [
       "<pre style=\"white-space:pre;overflow-x:auto;line-height:normal;font-family:Menlo,'DejaVu Sans Mono',consolas,'Courier New',monospace\"><span style=\"color: #808000; text-decoration-color: #808000; font-weight: bold\">DeprecationWarning: Kernel._parent_header is deprecated in ipykernel 6. Use .get_parent()</span> \n",
       "<span style=\"color: #000000; text-decoration-color: #000000; font-weight: bold\">(raised from /mnt/data/work/repos/workshops/memes/env/lib/python3.9/site-packages/ipywidgets/</span>\n",
       "<span style=\"color: #000000; text-decoration-color: #000000; font-weight: bold\">widgets/widget_output.py:112)</span>\n",
       "</pre>\n"
      ],
      "text/plain": [
       "\u001b[1;33mDeprecationWarning: Kernel._parent_header is deprecated in ipykernel 6. Use .get_parent()\u001b[0m \n",
       "\u001b[1;30m(raised from /mnt/data/work/repos/workshops/memes/env/lib/python3.9/site-packages/ipywidgets/\u001b[0m\n",
       "\u001b[1;30mwidgets/widget_output.py:112)\u001b[0m\n"
      ]
     },
     "metadata": {},
     "output_type": "display_data"
    },
    {
     "data": {
      "text/html": [
       "<pre style=\"white-space:pre;overflow-x:auto;line-height:normal;font-family:Menlo,'DejaVu Sans Mono',consolas,'Courier New',monospace\"><span style=\"color: #808000; text-decoration-color: #808000; font-weight: bold\">DeprecationWarning: Kernel._parent_header is deprecated in ipykernel 6. Use .get_parent()</span> \n",
       "<span style=\"color: #000000; text-decoration-color: #000000; font-weight: bold\">(raised from /mnt/data/work/repos/workshops/memes/env/lib/python3.9/site-packages/ipywidgets/</span>\n",
       "<span style=\"color: #000000; text-decoration-color: #000000; font-weight: bold\">widgets/widget_output.py:111)</span>\n",
       "</pre>\n"
      ],
      "text/plain": [
       "\u001b[1;33mDeprecationWarning: Kernel._parent_header is deprecated in ipykernel 6. Use .get_parent()\u001b[0m \n",
       "\u001b[1;30m(raised from /mnt/data/work/repos/workshops/memes/env/lib/python3.9/site-packages/ipywidgets/\u001b[0m\n",
       "\u001b[1;30mwidgets/widget_output.py:111)\u001b[0m\n"
      ]
     },
     "metadata": {},
     "output_type": "display_data"
    },
    {
     "data": {
      "text/html": [
       "<pre style=\"white-space:pre;overflow-x:auto;line-height:normal;font-family:Menlo,'DejaVu Sans Mono',consolas,'Courier New',monospace\"><span style=\"color: #808000; text-decoration-color: #808000; font-weight: bold\">DeprecationWarning: Kernel._parent_header is deprecated in ipykernel 6. Use .get_parent()</span> \n",
       "<span style=\"color: #000000; text-decoration-color: #000000; font-weight: bold\">(raised from /mnt/data/work/repos/workshops/memes/env/lib/python3.9/site-packages/ipywidgets/</span>\n",
       "<span style=\"color: #000000; text-decoration-color: #000000; font-weight: bold\">widgets/widget_output.py:112)</span>\n",
       "</pre>\n"
      ],
      "text/plain": [
       "\u001b[1;33mDeprecationWarning: Kernel._parent_header is deprecated in ipykernel 6. Use .get_parent()\u001b[0m \n",
       "\u001b[1;30m(raised from /mnt/data/work/repos/workshops/memes/env/lib/python3.9/site-packages/ipywidgets/\u001b[0m\n",
       "\u001b[1;30mwidgets/widget_output.py:112)\u001b[0m\n"
      ]
     },
     "metadata": {},
     "output_type": "display_data"
    },
    {
     "data": {
      "text/html": [
       "<pre style=\"white-space:pre;overflow-x:auto;line-height:normal;font-family:Menlo,'DejaVu Sans Mono',consolas,'Courier New',monospace\"><span style=\"color: #808000; text-decoration-color: #808000; font-weight: bold\">DeprecationWarning: Kernel._parent_header is deprecated in ipykernel 6. Use .get_parent()</span> \n",
       "<span style=\"color: #000000; text-decoration-color: #000000; font-weight: bold\">(raised from /mnt/data/work/repos/workshops/memes/env/lib/python3.9/site-packages/ipywidgets/</span>\n",
       "<span style=\"color: #000000; text-decoration-color: #000000; font-weight: bold\">widgets/widget_output.py:111)</span>\n",
       "</pre>\n"
      ],
      "text/plain": [
       "\u001b[1;33mDeprecationWarning: Kernel._parent_header is deprecated in ipykernel 6. Use .get_parent()\u001b[0m \n",
       "\u001b[1;30m(raised from /mnt/data/work/repos/workshops/memes/env/lib/python3.9/site-packages/ipywidgets/\u001b[0m\n",
       "\u001b[1;30mwidgets/widget_output.py:111)\u001b[0m\n"
      ]
     },
     "metadata": {},
     "output_type": "display_data"
    },
    {
     "data": {
      "text/html": [
       "<pre style=\"white-space:pre;overflow-x:auto;line-height:normal;font-family:Menlo,'DejaVu Sans Mono',consolas,'Courier New',monospace\"><span style=\"color: #808000; text-decoration-color: #808000; font-weight: bold\">DeprecationWarning: Kernel._parent_header is deprecated in ipykernel 6. Use .get_parent()</span> \n",
       "<span style=\"color: #000000; text-decoration-color: #000000; font-weight: bold\">(raised from /mnt/data/work/repos/workshops/memes/env/lib/python3.9/site-packages/ipywidgets/</span>\n",
       "<span style=\"color: #000000; text-decoration-color: #000000; font-weight: bold\">widgets/widget_output.py:112)</span>\n",
       "</pre>\n"
      ],
      "text/plain": [
       "\u001b[1;33mDeprecationWarning: Kernel._parent_header is deprecated in ipykernel 6. Use .get_parent()\u001b[0m \n",
       "\u001b[1;30m(raised from /mnt/data/work/repos/workshops/memes/env/lib/python3.9/site-packages/ipywidgets/\u001b[0m\n",
       "\u001b[1;30mwidgets/widget_output.py:112)\u001b[0m\n"
      ]
     },
     "metadata": {},
     "output_type": "display_data"
    },
    {
     "data": {
      "text/html": [
       "<pre style=\"white-space:pre;overflow-x:auto;line-height:normal;font-family:Menlo,'DejaVu Sans Mono',consolas,'Courier New',monospace\"><span style=\"color: #808000; text-decoration-color: #808000; font-weight: bold\">DeprecationWarning: Kernel._parent_header is deprecated in ipykernel 6. Use .get_parent()</span> \n",
       "<span style=\"color: #000000; text-decoration-color: #000000; font-weight: bold\">(raised from /mnt/data/work/repos/workshops/memes/env/lib/python3.9/site-packages/ipywidgets/</span>\n",
       "<span style=\"color: #000000; text-decoration-color: #000000; font-weight: bold\">widgets/widget_output.py:111)</span>\n",
       "</pre>\n"
      ],
      "text/plain": [
       "\u001b[1;33mDeprecationWarning: Kernel._parent_header is deprecated in ipykernel 6. Use .get_parent()\u001b[0m \n",
       "\u001b[1;30m(raised from /mnt/data/work/repos/workshops/memes/env/lib/python3.9/site-packages/ipywidgets/\u001b[0m\n",
       "\u001b[1;30mwidgets/widget_output.py:111)\u001b[0m\n"
      ]
     },
     "metadata": {},
     "output_type": "display_data"
    },
    {
     "data": {
      "text/html": [
       "<pre style=\"white-space:pre;overflow-x:auto;line-height:normal;font-family:Menlo,'DejaVu Sans Mono',consolas,'Courier New',monospace\"><span style=\"color: #808000; text-decoration-color: #808000; font-weight: bold\">DeprecationWarning: Kernel._parent_header is deprecated in ipykernel 6. Use .get_parent()</span> \n",
       "<span style=\"color: #000000; text-decoration-color: #000000; font-weight: bold\">(raised from /mnt/data/work/repos/workshops/memes/env/lib/python3.9/site-packages/ipywidgets/</span>\n",
       "<span style=\"color: #000000; text-decoration-color: #000000; font-weight: bold\">widgets/widget_output.py:112)</span>\n",
       "</pre>\n"
      ],
      "text/plain": [
       "\u001b[1;33mDeprecationWarning: Kernel._parent_header is deprecated in ipykernel 6. Use .get_parent()\u001b[0m \n",
       "\u001b[1;30m(raised from /mnt/data/work/repos/workshops/memes/env/lib/python3.9/site-packages/ipywidgets/\u001b[0m\n",
       "\u001b[1;30mwidgets/widget_output.py:112)\u001b[0m\n"
      ]
     },
     "metadata": {},
     "output_type": "display_data"
    },
    {
     "data": {
      "text/html": [
       "<pre style=\"white-space:pre;overflow-x:auto;line-height:normal;font-family:Menlo,'DejaVu Sans Mono',consolas,'Courier New',monospace\"><span style=\"color: #808000; text-decoration-color: #808000; font-weight: bold\">DeprecationWarning: Kernel._parent_header is deprecated in ipykernel 6. Use .get_parent()</span> \n",
       "<span style=\"color: #000000; text-decoration-color: #000000; font-weight: bold\">(raised from /mnt/data/work/repos/workshops/memes/env/lib/python3.9/site-packages/ipywidgets/</span>\n",
       "<span style=\"color: #000000; text-decoration-color: #000000; font-weight: bold\">widgets/widget_output.py:111)</span>\n",
       "</pre>\n"
      ],
      "text/plain": [
       "\u001b[1;33mDeprecationWarning: Kernel._parent_header is deprecated in ipykernel 6. Use .get_parent()\u001b[0m \n",
       "\u001b[1;30m(raised from /mnt/data/work/repos/workshops/memes/env/lib/python3.9/site-packages/ipywidgets/\u001b[0m\n",
       "\u001b[1;30mwidgets/widget_output.py:111)\u001b[0m\n"
      ]
     },
     "metadata": {},
     "output_type": "display_data"
    },
    {
     "data": {
      "text/html": [
       "<pre style=\"white-space:pre;overflow-x:auto;line-height:normal;font-family:Menlo,'DejaVu Sans Mono',consolas,'Courier New',monospace\"><span style=\"color: #808000; text-decoration-color: #808000; font-weight: bold\">DeprecationWarning: Kernel._parent_header is deprecated in ipykernel 6. Use .get_parent()</span> \n",
       "<span style=\"color: #000000; text-decoration-color: #000000; font-weight: bold\">(raised from /mnt/data/work/repos/workshops/memes/env/lib/python3.9/site-packages/ipywidgets/</span>\n",
       "<span style=\"color: #000000; text-decoration-color: #000000; font-weight: bold\">widgets/widget_output.py:112)</span>\n",
       "</pre>\n"
      ],
      "text/plain": [
       "\u001b[1;33mDeprecationWarning: Kernel._parent_header is deprecated in ipykernel 6. Use .get_parent()\u001b[0m \n",
       "\u001b[1;30m(raised from /mnt/data/work/repos/workshops/memes/env/lib/python3.9/site-packages/ipywidgets/\u001b[0m\n",
       "\u001b[1;30mwidgets/widget_output.py:112)\u001b[0m\n"
      ]
     },
     "metadata": {},
     "output_type": "display_data"
    },
    {
     "data": {
      "text/html": [
       "<pre style=\"white-space:pre;overflow-x:auto;line-height:normal;font-family:Menlo,'DejaVu Sans Mono',consolas,'Courier New',monospace\"><span style=\"color: #808000; text-decoration-color: #808000; font-weight: bold\">DeprecationWarning: Kernel._parent_header is deprecated in ipykernel 6. Use .get_parent()</span> \n",
       "<span style=\"color: #000000; text-decoration-color: #000000; font-weight: bold\">(raised from /mnt/data/work/repos/workshops/memes/env/lib/python3.9/site-packages/ipywidgets/</span>\n",
       "<span style=\"color: #000000; text-decoration-color: #000000; font-weight: bold\">widgets/widget_output.py:111)</span>\n",
       "</pre>\n"
      ],
      "text/plain": [
       "\u001b[1;33mDeprecationWarning: Kernel._parent_header is deprecated in ipykernel 6. Use .get_parent()\u001b[0m \n",
       "\u001b[1;30m(raised from /mnt/data/work/repos/workshops/memes/env/lib/python3.9/site-packages/ipywidgets/\u001b[0m\n",
       "\u001b[1;30mwidgets/widget_output.py:111)\u001b[0m\n"
      ]
     },
     "metadata": {},
     "output_type": "display_data"
    },
    {
     "data": {
      "text/html": [
       "<pre style=\"white-space:pre;overflow-x:auto;line-height:normal;font-family:Menlo,'DejaVu Sans Mono',consolas,'Courier New',monospace\"><span style=\"color: #808000; text-decoration-color: #808000; font-weight: bold\">DeprecationWarning: Kernel._parent_header is deprecated in ipykernel 6. Use .get_parent()</span> \n",
       "<span style=\"color: #000000; text-decoration-color: #000000; font-weight: bold\">(raised from /mnt/data/work/repos/workshops/memes/env/lib/python3.9/site-packages/ipywidgets/</span>\n",
       "<span style=\"color: #000000; text-decoration-color: #000000; font-weight: bold\">widgets/widget_output.py:112)</span>\n",
       "</pre>\n"
      ],
      "text/plain": [
       "\u001b[1;33mDeprecationWarning: Kernel._parent_header is deprecated in ipykernel 6. Use .get_parent()\u001b[0m \n",
       "\u001b[1;30m(raised from /mnt/data/work/repos/workshops/memes/env/lib/python3.9/site-packages/ipywidgets/\u001b[0m\n",
       "\u001b[1;30mwidgets/widget_output.py:112)\u001b[0m\n"
      ]
     },
     "metadata": {},
     "output_type": "display_data"
    },
    {
     "data": {
      "text/html": [
       "<pre style=\"white-space:pre;overflow-x:auto;line-height:normal;font-family:Menlo,'DejaVu Sans Mono',consolas,'Courier New',monospace\"><span style=\"color: #808000; text-decoration-color: #808000; font-weight: bold\">DeprecationWarning: Kernel._parent_header is deprecated in ipykernel 6. Use .get_parent()</span> \n",
       "<span style=\"color: #000000; text-decoration-color: #000000; font-weight: bold\">(raised from /mnt/data/work/repos/workshops/memes/env/lib/python3.9/site-packages/ipywidgets/</span>\n",
       "<span style=\"color: #000000; text-decoration-color: #000000; font-weight: bold\">widgets/widget_output.py:111)</span>\n",
       "</pre>\n"
      ],
      "text/plain": [
       "\u001b[1;33mDeprecationWarning: Kernel._parent_header is deprecated in ipykernel 6. Use .get_parent()\u001b[0m \n",
       "\u001b[1;30m(raised from /mnt/data/work/repos/workshops/memes/env/lib/python3.9/site-packages/ipywidgets/\u001b[0m\n",
       "\u001b[1;30mwidgets/widget_output.py:111)\u001b[0m\n"
      ]
     },
     "metadata": {},
     "output_type": "display_data"
    },
    {
     "data": {
      "text/html": [
       "<pre style=\"white-space:pre;overflow-x:auto;line-height:normal;font-family:Menlo,'DejaVu Sans Mono',consolas,'Courier New',monospace\"><span style=\"color: #808000; text-decoration-color: #808000; font-weight: bold\">DeprecationWarning: Kernel._parent_header is deprecated in ipykernel 6. Use .get_parent()</span> \n",
       "<span style=\"color: #000000; text-decoration-color: #000000; font-weight: bold\">(raised from /mnt/data/work/repos/workshops/memes/env/lib/python3.9/site-packages/ipywidgets/</span>\n",
       "<span style=\"color: #000000; text-decoration-color: #000000; font-weight: bold\">widgets/widget_output.py:112)</span>\n",
       "</pre>\n"
      ],
      "text/plain": [
       "\u001b[1;33mDeprecationWarning: Kernel._parent_header is deprecated in ipykernel 6. Use .get_parent()\u001b[0m \n",
       "\u001b[1;30m(raised from /mnt/data/work/repos/workshops/memes/env/lib/python3.9/site-packages/ipywidgets/\u001b[0m\n",
       "\u001b[1;30mwidgets/widget_output.py:112)\u001b[0m\n"
      ]
     },
     "metadata": {},
     "output_type": "display_data"
    },
    {
     "data": {
      "text/html": [
       "<pre style=\"white-space:pre;overflow-x:auto;line-height:normal;font-family:Menlo,'DejaVu Sans Mono',consolas,'Courier New',monospace\"><span style=\"color: #808000; text-decoration-color: #808000; font-weight: bold\">DeprecationWarning: Kernel._parent_header is deprecated in ipykernel 6. Use .get_parent()</span> \n",
       "<span style=\"color: #000000; text-decoration-color: #000000; font-weight: bold\">(raised from /mnt/data/work/repos/workshops/memes/env/lib/python3.9/site-packages/ipywidgets/</span>\n",
       "<span style=\"color: #000000; text-decoration-color: #000000; font-weight: bold\">widgets/widget_output.py:111)</span>\n",
       "</pre>\n"
      ],
      "text/plain": [
       "\u001b[1;33mDeprecationWarning: Kernel._parent_header is deprecated in ipykernel 6. Use .get_parent()\u001b[0m \n",
       "\u001b[1;30m(raised from /mnt/data/work/repos/workshops/memes/env/lib/python3.9/site-packages/ipywidgets/\u001b[0m\n",
       "\u001b[1;30mwidgets/widget_output.py:111)\u001b[0m\n"
      ]
     },
     "metadata": {},
     "output_type": "display_data"
    },
    {
     "data": {
      "text/html": [
       "<pre style=\"white-space:pre;overflow-x:auto;line-height:normal;font-family:Menlo,'DejaVu Sans Mono',consolas,'Courier New',monospace\"><span style=\"color: #808000; text-decoration-color: #808000; font-weight: bold\">DeprecationWarning: Kernel._parent_header is deprecated in ipykernel 6. Use .get_parent()</span> \n",
       "<span style=\"color: #000000; text-decoration-color: #000000; font-weight: bold\">(raised from /mnt/data/work/repos/workshops/memes/env/lib/python3.9/site-packages/ipywidgets/</span>\n",
       "<span style=\"color: #000000; text-decoration-color: #000000; font-weight: bold\">widgets/widget_output.py:112)</span>\n",
       "</pre>\n"
      ],
      "text/plain": [
       "\u001b[1;33mDeprecationWarning: Kernel._parent_header is deprecated in ipykernel 6. Use .get_parent()\u001b[0m \n",
       "\u001b[1;30m(raised from /mnt/data/work/repos/workshops/memes/env/lib/python3.9/site-packages/ipywidgets/\u001b[0m\n",
       "\u001b[1;30mwidgets/widget_output.py:112)\u001b[0m\n"
      ]
     },
     "metadata": {},
     "output_type": "display_data"
    },
    {
     "data": {
      "text/html": [
       "<pre style=\"white-space:pre;overflow-x:auto;line-height:normal;font-family:Menlo,'DejaVu Sans Mono',consolas,'Courier New',monospace\"><span style=\"color: #808000; text-decoration-color: #808000; font-weight: bold\">DeprecationWarning: Kernel._parent_header is deprecated in ipykernel 6. Use .get_parent()</span> \n",
       "<span style=\"color: #000000; text-decoration-color: #000000; font-weight: bold\">(raised from /mnt/data/work/repos/workshops/memes/env/lib/python3.9/site-packages/ipywidgets/</span>\n",
       "<span style=\"color: #000000; text-decoration-color: #000000; font-weight: bold\">widgets/widget_output.py:111)</span>\n",
       "</pre>\n"
      ],
      "text/plain": [
       "\u001b[1;33mDeprecationWarning: Kernel._parent_header is deprecated in ipykernel 6. Use .get_parent()\u001b[0m \n",
       "\u001b[1;30m(raised from /mnt/data/work/repos/workshops/memes/env/lib/python3.9/site-packages/ipywidgets/\u001b[0m\n",
       "\u001b[1;30mwidgets/widget_output.py:111)\u001b[0m\n"
      ]
     },
     "metadata": {},
     "output_type": "display_data"
    },
    {
     "data": {
      "text/html": [
       "<pre style=\"white-space:pre;overflow-x:auto;line-height:normal;font-family:Menlo,'DejaVu Sans Mono',consolas,'Courier New',monospace\"><span style=\"color: #808000; text-decoration-color: #808000; font-weight: bold\">DeprecationWarning: Kernel._parent_header is deprecated in ipykernel 6. Use .get_parent()</span> \n",
       "<span style=\"color: #000000; text-decoration-color: #000000; font-weight: bold\">(raised from /mnt/data/work/repos/workshops/memes/env/lib/python3.9/site-packages/ipywidgets/</span>\n",
       "<span style=\"color: #000000; text-decoration-color: #000000; font-weight: bold\">widgets/widget_output.py:112)</span>\n",
       "</pre>\n"
      ],
      "text/plain": [
       "\u001b[1;33mDeprecationWarning: Kernel._parent_header is deprecated in ipykernel 6. Use .get_parent()\u001b[0m \n",
       "\u001b[1;30m(raised from /mnt/data/work/repos/workshops/memes/env/lib/python3.9/site-packages/ipywidgets/\u001b[0m\n",
       "\u001b[1;30mwidgets/widget_output.py:112)\u001b[0m\n"
      ]
     },
     "metadata": {},
     "output_type": "display_data"
    },
    {
     "data": {
      "text/html": [
       "<pre style=\"white-space:pre;overflow-x:auto;line-height:normal;font-family:Menlo,'DejaVu Sans Mono',consolas,'Courier New',monospace\"><span style=\"color: #808000; text-decoration-color: #808000; font-weight: bold\">DeprecationWarning: Kernel._parent_header is deprecated in ipykernel 6. Use .get_parent()</span> \n",
       "<span style=\"color: #000000; text-decoration-color: #000000; font-weight: bold\">(raised from /mnt/data/work/repos/workshops/memes/env/lib/python3.9/site-packages/ipywidgets/</span>\n",
       "<span style=\"color: #000000; text-decoration-color: #000000; font-weight: bold\">widgets/widget_output.py:111)</span>\n",
       "</pre>\n"
      ],
      "text/plain": [
       "\u001b[1;33mDeprecationWarning: Kernel._parent_header is deprecated in ipykernel 6. Use .get_parent()\u001b[0m \n",
       "\u001b[1;30m(raised from /mnt/data/work/repos/workshops/memes/env/lib/python3.9/site-packages/ipywidgets/\u001b[0m\n",
       "\u001b[1;30mwidgets/widget_output.py:111)\u001b[0m\n"
      ]
     },
     "metadata": {},
     "output_type": "display_data"
    },
    {
     "data": {
      "text/html": [
       "<pre style=\"white-space:pre;overflow-x:auto;line-height:normal;font-family:Menlo,'DejaVu Sans Mono',consolas,'Courier New',monospace\"><span style=\"color: #808000; text-decoration-color: #808000; font-weight: bold\">DeprecationWarning: Kernel._parent_header is deprecated in ipykernel 6. Use .get_parent()</span> \n",
       "<span style=\"color: #000000; text-decoration-color: #000000; font-weight: bold\">(raised from /mnt/data/work/repos/workshops/memes/env/lib/python3.9/site-packages/ipywidgets/</span>\n",
       "<span style=\"color: #000000; text-decoration-color: #000000; font-weight: bold\">widgets/widget_output.py:112)</span>\n",
       "</pre>\n"
      ],
      "text/plain": [
       "\u001b[1;33mDeprecationWarning: Kernel._parent_header is deprecated in ipykernel 6. Use .get_parent()\u001b[0m \n",
       "\u001b[1;30m(raised from /mnt/data/work/repos/workshops/memes/env/lib/python3.9/site-packages/ipywidgets/\u001b[0m\n",
       "\u001b[1;30mwidgets/widget_output.py:112)\u001b[0m\n"
      ]
     },
     "metadata": {},
     "output_type": "display_data"
    },
    {
     "data": {
      "text/html": [
       "<pre style=\"white-space:pre;overflow-x:auto;line-height:normal;font-family:Menlo,'DejaVu Sans Mono',consolas,'Courier New',monospace\"><span style=\"color: #808000; text-decoration-color: #808000; font-weight: bold\">DeprecationWarning: Kernel._parent_header is deprecated in ipykernel 6. Use .get_parent()</span> \n",
       "<span style=\"color: #000000; text-decoration-color: #000000; font-weight: bold\">(raised from /mnt/data/work/repos/workshops/memes/env/lib/python3.9/site-packages/ipywidgets/</span>\n",
       "<span style=\"color: #000000; text-decoration-color: #000000; font-weight: bold\">widgets/widget_output.py:111)</span>\n",
       "</pre>\n"
      ],
      "text/plain": [
       "\u001b[1;33mDeprecationWarning: Kernel._parent_header is deprecated in ipykernel 6. Use .get_parent()\u001b[0m \n",
       "\u001b[1;30m(raised from /mnt/data/work/repos/workshops/memes/env/lib/python3.9/site-packages/ipywidgets/\u001b[0m\n",
       "\u001b[1;30mwidgets/widget_output.py:111)\u001b[0m\n"
      ]
     },
     "metadata": {},
     "output_type": "display_data"
    },
    {
     "data": {
      "text/html": [
       "<pre style=\"white-space:pre;overflow-x:auto;line-height:normal;font-family:Menlo,'DejaVu Sans Mono',consolas,'Courier New',monospace\"><span style=\"color: #808000; text-decoration-color: #808000; font-weight: bold\">DeprecationWarning: Kernel._parent_header is deprecated in ipykernel 6. Use .get_parent()</span> \n",
       "<span style=\"color: #000000; text-decoration-color: #000000; font-weight: bold\">(raised from /mnt/data/work/repos/workshops/memes/env/lib/python3.9/site-packages/ipywidgets/</span>\n",
       "<span style=\"color: #000000; text-decoration-color: #000000; font-weight: bold\">widgets/widget_output.py:112)</span>\n",
       "</pre>\n"
      ],
      "text/plain": [
       "\u001b[1;33mDeprecationWarning: Kernel._parent_header is deprecated in ipykernel 6. Use .get_parent()\u001b[0m \n",
       "\u001b[1;30m(raised from /mnt/data/work/repos/workshops/memes/env/lib/python3.9/site-packages/ipywidgets/\u001b[0m\n",
       "\u001b[1;30mwidgets/widget_output.py:112)\u001b[0m\n"
      ]
     },
     "metadata": {},
     "output_type": "display_data"
    },
    {
     "data": {
      "text/html": [
       "<pre style=\"white-space:pre;overflow-x:auto;line-height:normal;font-family:Menlo,'DejaVu Sans Mono',consolas,'Courier New',monospace\"><span style=\"color: #808000; text-decoration-color: #808000; font-weight: bold\">DeprecationWarning: Kernel._parent_header is deprecated in ipykernel 6. Use .get_parent()</span> \n",
       "<span style=\"color: #000000; text-decoration-color: #000000; font-weight: bold\">(raised from /mnt/data/work/repos/workshops/memes/env/lib/python3.9/site-packages/ipywidgets/</span>\n",
       "<span style=\"color: #000000; text-decoration-color: #000000; font-weight: bold\">widgets/widget_output.py:111)</span>\n",
       "</pre>\n"
      ],
      "text/plain": [
       "\u001b[1;33mDeprecationWarning: Kernel._parent_header is deprecated in ipykernel 6. Use .get_parent()\u001b[0m \n",
       "\u001b[1;30m(raised from /mnt/data/work/repos/workshops/memes/env/lib/python3.9/site-packages/ipywidgets/\u001b[0m\n",
       "\u001b[1;30mwidgets/widget_output.py:111)\u001b[0m\n"
      ]
     },
     "metadata": {},
     "output_type": "display_data"
    },
    {
     "data": {
      "text/html": [
       "<pre style=\"white-space:pre;overflow-x:auto;line-height:normal;font-family:Menlo,'DejaVu Sans Mono',consolas,'Courier New',monospace\"><span style=\"color: #808000; text-decoration-color: #808000; font-weight: bold\">DeprecationWarning: Kernel._parent_header is deprecated in ipykernel 6. Use .get_parent()</span> \n",
       "<span style=\"color: #000000; text-decoration-color: #000000; font-weight: bold\">(raised from /mnt/data/work/repos/workshops/memes/env/lib/python3.9/site-packages/ipywidgets/</span>\n",
       "<span style=\"color: #000000; text-decoration-color: #000000; font-weight: bold\">widgets/widget_output.py:112)</span>\n",
       "</pre>\n"
      ],
      "text/plain": [
       "\u001b[1;33mDeprecationWarning: Kernel._parent_header is deprecated in ipykernel 6. Use .get_parent()\u001b[0m \n",
       "\u001b[1;30m(raised from /mnt/data/work/repos/workshops/memes/env/lib/python3.9/site-packages/ipywidgets/\u001b[0m\n",
       "\u001b[1;30mwidgets/widget_output.py:112)\u001b[0m\n"
      ]
     },
     "metadata": {},
     "output_type": "display_data"
    },
    {
     "data": {
      "text/html": [
       "<pre style=\"white-space:pre;overflow-x:auto;line-height:normal;font-family:Menlo,'DejaVu Sans Mono',consolas,'Courier New',monospace\"><span style=\"color: #808000; text-decoration-color: #808000; font-weight: bold\">DeprecationWarning: Kernel._parent_header is deprecated in ipykernel 6. Use .get_parent()</span> \n",
       "<span style=\"color: #000000; text-decoration-color: #000000; font-weight: bold\">(raised from /mnt/data/work/repos/workshops/memes/env/lib/python3.9/site-packages/ipywidgets/</span>\n",
       "<span style=\"color: #000000; text-decoration-color: #000000; font-weight: bold\">widgets/widget_output.py:111)</span>\n",
       "</pre>\n"
      ],
      "text/plain": [
       "\u001b[1;33mDeprecationWarning: Kernel._parent_header is deprecated in ipykernel 6. Use .get_parent()\u001b[0m \n",
       "\u001b[1;30m(raised from /mnt/data/work/repos/workshops/memes/env/lib/python3.9/site-packages/ipywidgets/\u001b[0m\n",
       "\u001b[1;30mwidgets/widget_output.py:111)\u001b[0m\n"
      ]
     },
     "metadata": {},
     "output_type": "display_data"
    },
    {
     "data": {
      "text/html": [
       "<pre style=\"white-space:pre;overflow-x:auto;line-height:normal;font-family:Menlo,'DejaVu Sans Mono',consolas,'Courier New',monospace\"><span style=\"color: #808000; text-decoration-color: #808000; font-weight: bold\">DeprecationWarning: Kernel._parent_header is deprecated in ipykernel 6. Use .get_parent()</span> \n",
       "<span style=\"color: #000000; text-decoration-color: #000000; font-weight: bold\">(raised from /mnt/data/work/repos/workshops/memes/env/lib/python3.9/site-packages/ipywidgets/</span>\n",
       "<span style=\"color: #000000; text-decoration-color: #000000; font-weight: bold\">widgets/widget_output.py:112)</span>\n",
       "</pre>\n"
      ],
      "text/plain": [
       "\u001b[1;33mDeprecationWarning: Kernel._parent_header is deprecated in ipykernel 6. Use .get_parent()\u001b[0m \n",
       "\u001b[1;30m(raised from /mnt/data/work/repos/workshops/memes/env/lib/python3.9/site-packages/ipywidgets/\u001b[0m\n",
       "\u001b[1;30mwidgets/widget_output.py:112)\u001b[0m\n"
      ]
     },
     "metadata": {},
     "output_type": "display_data"
    },
    {
     "data": {
      "text/html": [
       "<pre style=\"white-space:pre;overflow-x:auto;line-height:normal;font-family:Menlo,'DejaVu Sans Mono',consolas,'Courier New',monospace\"><span style=\"color: #808000; text-decoration-color: #808000; font-weight: bold\">DeprecationWarning: Kernel._parent_header is deprecated in ipykernel 6. Use .get_parent()</span> \n",
       "<span style=\"color: #000000; text-decoration-color: #000000; font-weight: bold\">(raised from /mnt/data/work/repos/workshops/memes/env/lib/python3.9/site-packages/ipywidgets/</span>\n",
       "<span style=\"color: #000000; text-decoration-color: #000000; font-weight: bold\">widgets/widget_output.py:111)</span>\n",
       "</pre>\n"
      ],
      "text/plain": [
       "\u001b[1;33mDeprecationWarning: Kernel._parent_header is deprecated in ipykernel 6. Use .get_parent()\u001b[0m \n",
       "\u001b[1;30m(raised from /mnt/data/work/repos/workshops/memes/env/lib/python3.9/site-packages/ipywidgets/\u001b[0m\n",
       "\u001b[1;30mwidgets/widget_output.py:111)\u001b[0m\n"
      ]
     },
     "metadata": {},
     "output_type": "display_data"
    },
    {
     "data": {
      "text/html": [
       "<pre style=\"white-space:pre;overflow-x:auto;line-height:normal;font-family:Menlo,'DejaVu Sans Mono',consolas,'Courier New',monospace\"><span style=\"color: #808000; text-decoration-color: #808000; font-weight: bold\">DeprecationWarning: Kernel._parent_header is deprecated in ipykernel 6. Use .get_parent()</span> \n",
       "<span style=\"color: #000000; text-decoration-color: #000000; font-weight: bold\">(raised from /mnt/data/work/repos/workshops/memes/env/lib/python3.9/site-packages/ipywidgets/</span>\n",
       "<span style=\"color: #000000; text-decoration-color: #000000; font-weight: bold\">widgets/widget_output.py:112)</span>\n",
       "</pre>\n"
      ],
      "text/plain": [
       "\u001b[1;33mDeprecationWarning: Kernel._parent_header is deprecated in ipykernel 6. Use .get_parent()\u001b[0m \n",
       "\u001b[1;30m(raised from /mnt/data/work/repos/workshops/memes/env/lib/python3.9/site-packages/ipywidgets/\u001b[0m\n",
       "\u001b[1;30mwidgets/widget_output.py:112)\u001b[0m\n"
      ]
     },
     "metadata": {},
     "output_type": "display_data"
    },
    {
     "data": {
      "text/html": [
       "<pre style=\"white-space:pre;overflow-x:auto;line-height:normal;font-family:Menlo,'DejaVu Sans Mono',consolas,'Courier New',monospace\"><span style=\"color: #808000; text-decoration-color: #808000; font-weight: bold\">DeprecationWarning: Kernel._parent_header is deprecated in ipykernel 6. Use .get_parent()</span> \n",
       "<span style=\"color: #000000; text-decoration-color: #000000; font-weight: bold\">(raised from /mnt/data/work/repos/workshops/memes/env/lib/python3.9/site-packages/ipywidgets/</span>\n",
       "<span style=\"color: #000000; text-decoration-color: #000000; font-weight: bold\">widgets/widget_output.py:111)</span>\n",
       "</pre>\n"
      ],
      "text/plain": [
       "\u001b[1;33mDeprecationWarning: Kernel._parent_header is deprecated in ipykernel 6. Use .get_parent()\u001b[0m \n",
       "\u001b[1;30m(raised from /mnt/data/work/repos/workshops/memes/env/lib/python3.9/site-packages/ipywidgets/\u001b[0m\n",
       "\u001b[1;30mwidgets/widget_output.py:111)\u001b[0m\n"
      ]
     },
     "metadata": {},
     "output_type": "display_data"
    },
    {
     "data": {
      "text/html": [
       "<pre style=\"white-space:pre;overflow-x:auto;line-height:normal;font-family:Menlo,'DejaVu Sans Mono',consolas,'Courier New',monospace\"><span style=\"color: #808000; text-decoration-color: #808000; font-weight: bold\">DeprecationWarning: Kernel._parent_header is deprecated in ipykernel 6. Use .get_parent()</span> \n",
       "<span style=\"color: #000000; text-decoration-color: #000000; font-weight: bold\">(raised from /mnt/data/work/repos/workshops/memes/env/lib/python3.9/site-packages/ipywidgets/</span>\n",
       "<span style=\"color: #000000; text-decoration-color: #000000; font-weight: bold\">widgets/widget_output.py:112)</span>\n",
       "</pre>\n"
      ],
      "text/plain": [
       "\u001b[1;33mDeprecationWarning: Kernel._parent_header is deprecated in ipykernel 6. Use .get_parent()\u001b[0m \n",
       "\u001b[1;30m(raised from /mnt/data/work/repos/workshops/memes/env/lib/python3.9/site-packages/ipywidgets/\u001b[0m\n",
       "\u001b[1;30mwidgets/widget_output.py:112)\u001b[0m\n"
      ]
     },
     "metadata": {},
     "output_type": "display_data"
    },
    {
     "data": {
      "text/html": [
       "<pre style=\"white-space:pre;overflow-x:auto;line-height:normal;font-family:Menlo,'DejaVu Sans Mono',consolas,'Courier New',monospace\"><span style=\"color: #808000; text-decoration-color: #808000; font-weight: bold\">DeprecationWarning: Kernel._parent_header is deprecated in ipykernel 6. Use .get_parent()</span> \n",
       "<span style=\"color: #000000; text-decoration-color: #000000; font-weight: bold\">(raised from /mnt/data/work/repos/workshops/memes/env/lib/python3.9/site-packages/ipywidgets/</span>\n",
       "<span style=\"color: #000000; text-decoration-color: #000000; font-weight: bold\">widgets/widget_output.py:111)</span>\n",
       "</pre>\n"
      ],
      "text/plain": [
       "\u001b[1;33mDeprecationWarning: Kernel._parent_header is deprecated in ipykernel 6. Use .get_parent()\u001b[0m \n",
       "\u001b[1;30m(raised from /mnt/data/work/repos/workshops/memes/env/lib/python3.9/site-packages/ipywidgets/\u001b[0m\n",
       "\u001b[1;30mwidgets/widget_output.py:111)\u001b[0m\n"
      ]
     },
     "metadata": {},
     "output_type": "display_data"
    },
    {
     "data": {
      "text/html": [
       "<pre style=\"white-space:pre;overflow-x:auto;line-height:normal;font-family:Menlo,'DejaVu Sans Mono',consolas,'Courier New',monospace\"><span style=\"color: #808000; text-decoration-color: #808000; font-weight: bold\">DeprecationWarning: Kernel._parent_header is deprecated in ipykernel 6. Use .get_parent()</span> \n",
       "<span style=\"color: #000000; text-decoration-color: #000000; font-weight: bold\">(raised from /mnt/data/work/repos/workshops/memes/env/lib/python3.9/site-packages/ipywidgets/</span>\n",
       "<span style=\"color: #000000; text-decoration-color: #000000; font-weight: bold\">widgets/widget_output.py:112)</span>\n",
       "</pre>\n"
      ],
      "text/plain": [
       "\u001b[1;33mDeprecationWarning: Kernel._parent_header is deprecated in ipykernel 6. Use .get_parent()\u001b[0m \n",
       "\u001b[1;30m(raised from /mnt/data/work/repos/workshops/memes/env/lib/python3.9/site-packages/ipywidgets/\u001b[0m\n",
       "\u001b[1;30mwidgets/widget_output.py:112)\u001b[0m\n"
      ]
     },
     "metadata": {},
     "output_type": "display_data"
    },
    {
     "data": {
      "text/html": [
       "<pre style=\"white-space:pre;overflow-x:auto;line-height:normal;font-family:Menlo,'DejaVu Sans Mono',consolas,'Courier New',monospace\"><span style=\"color: #808000; text-decoration-color: #808000; font-weight: bold\">DeprecationWarning: Kernel._parent_header is deprecated in ipykernel 6. Use .get_parent()</span> \n",
       "<span style=\"color: #000000; text-decoration-color: #000000; font-weight: bold\">(raised from /mnt/data/work/repos/workshops/memes/env/lib/python3.9/site-packages/ipywidgets/</span>\n",
       "<span style=\"color: #000000; text-decoration-color: #000000; font-weight: bold\">widgets/widget_output.py:111)</span>\n",
       "</pre>\n"
      ],
      "text/plain": [
       "\u001b[1;33mDeprecationWarning: Kernel._parent_header is deprecated in ipykernel 6. Use .get_parent()\u001b[0m \n",
       "\u001b[1;30m(raised from /mnt/data/work/repos/workshops/memes/env/lib/python3.9/site-packages/ipywidgets/\u001b[0m\n",
       "\u001b[1;30mwidgets/widget_output.py:111)\u001b[0m\n"
      ]
     },
     "metadata": {},
     "output_type": "display_data"
    },
    {
     "data": {
      "text/html": [
       "<pre style=\"white-space:pre;overflow-x:auto;line-height:normal;font-family:Menlo,'DejaVu Sans Mono',consolas,'Courier New',monospace\"><span style=\"color: #808000; text-decoration-color: #808000; font-weight: bold\">DeprecationWarning: Kernel._parent_header is deprecated in ipykernel 6. Use .get_parent()</span> \n",
       "<span style=\"color: #000000; text-decoration-color: #000000; font-weight: bold\">(raised from /mnt/data/work/repos/workshops/memes/env/lib/python3.9/site-packages/ipywidgets/</span>\n",
       "<span style=\"color: #000000; text-decoration-color: #000000; font-weight: bold\">widgets/widget_output.py:112)</span>\n",
       "</pre>\n"
      ],
      "text/plain": [
       "\u001b[1;33mDeprecationWarning: Kernel._parent_header is deprecated in ipykernel 6. Use .get_parent()\u001b[0m \n",
       "\u001b[1;30m(raised from /mnt/data/work/repos/workshops/memes/env/lib/python3.9/site-packages/ipywidgets/\u001b[0m\n",
       "\u001b[1;30mwidgets/widget_output.py:112)\u001b[0m\n"
      ]
     },
     "metadata": {},
     "output_type": "display_data"
    },
    {
     "data": {
      "text/html": [
       "<pre style=\"white-space:pre;overflow-x:auto;line-height:normal;font-family:Menlo,'DejaVu Sans Mono',consolas,'Courier New',monospace\"><span style=\"color: #808000; text-decoration-color: #808000; font-weight: bold\">DeprecationWarning: Kernel._parent_header is deprecated in ipykernel 6. Use .get_parent()</span> \n",
       "<span style=\"color: #000000; text-decoration-color: #000000; font-weight: bold\">(raised from /mnt/data/work/repos/workshops/memes/env/lib/python3.9/site-packages/ipywidgets/</span>\n",
       "<span style=\"color: #000000; text-decoration-color: #000000; font-weight: bold\">widgets/widget_output.py:111)</span>\n",
       "</pre>\n"
      ],
      "text/plain": [
       "\u001b[1;33mDeprecationWarning: Kernel._parent_header is deprecated in ipykernel 6. Use .get_parent()\u001b[0m \n",
       "\u001b[1;30m(raised from /mnt/data/work/repos/workshops/memes/env/lib/python3.9/site-packages/ipywidgets/\u001b[0m\n",
       "\u001b[1;30mwidgets/widget_output.py:111)\u001b[0m\n"
      ]
     },
     "metadata": {},
     "output_type": "display_data"
    },
    {
     "data": {
      "text/html": [
       "<pre style=\"white-space:pre;overflow-x:auto;line-height:normal;font-family:Menlo,'DejaVu Sans Mono',consolas,'Courier New',monospace\"><span style=\"color: #808000; text-decoration-color: #808000; font-weight: bold\">DeprecationWarning: Kernel._parent_header is deprecated in ipykernel 6. Use .get_parent()</span> \n",
       "<span style=\"color: #000000; text-decoration-color: #000000; font-weight: bold\">(raised from /mnt/data/work/repos/workshops/memes/env/lib/python3.9/site-packages/ipywidgets/</span>\n",
       "<span style=\"color: #000000; text-decoration-color: #000000; font-weight: bold\">widgets/widget_output.py:112)</span>\n",
       "</pre>\n"
      ],
      "text/plain": [
       "\u001b[1;33mDeprecationWarning: Kernel._parent_header is deprecated in ipykernel 6. Use .get_parent()\u001b[0m \n",
       "\u001b[1;30m(raised from /mnt/data/work/repos/workshops/memes/env/lib/python3.9/site-packages/ipywidgets/\u001b[0m\n",
       "\u001b[1;30mwidgets/widget_output.py:112)\u001b[0m\n"
      ]
     },
     "metadata": {},
     "output_type": "display_data"
    },
    {
     "data": {
      "text/html": [
       "<pre style=\"white-space:pre;overflow-x:auto;line-height:normal;font-family:Menlo,'DejaVu Sans Mono',consolas,'Courier New',monospace\"><span style=\"color: #808000; text-decoration-color: #808000; font-weight: bold\">DeprecationWarning: Kernel._parent_header is deprecated in ipykernel 6. Use .get_parent()</span> \n",
       "<span style=\"color: #000000; text-decoration-color: #000000; font-weight: bold\">(raised from /mnt/data/work/repos/workshops/memes/env/lib/python3.9/site-packages/ipywidgets/</span>\n",
       "<span style=\"color: #000000; text-decoration-color: #000000; font-weight: bold\">widgets/widget_output.py:111)</span>\n",
       "</pre>\n"
      ],
      "text/plain": [
       "\u001b[1;33mDeprecationWarning: Kernel._parent_header is deprecated in ipykernel 6. Use .get_parent()\u001b[0m \n",
       "\u001b[1;30m(raised from /mnt/data/work/repos/workshops/memes/env/lib/python3.9/site-packages/ipywidgets/\u001b[0m\n",
       "\u001b[1;30mwidgets/widget_output.py:111)\u001b[0m\n"
      ]
     },
     "metadata": {},
     "output_type": "display_data"
    },
    {
     "data": {
      "text/html": [
       "<pre style=\"white-space:pre;overflow-x:auto;line-height:normal;font-family:Menlo,'DejaVu Sans Mono',consolas,'Courier New',monospace\"><span style=\"color: #808000; text-decoration-color: #808000; font-weight: bold\">DeprecationWarning: Kernel._parent_header is deprecated in ipykernel 6. Use .get_parent()</span> \n",
       "<span style=\"color: #000000; text-decoration-color: #000000; font-weight: bold\">(raised from /mnt/data/work/repos/workshops/memes/env/lib/python3.9/site-packages/ipywidgets/</span>\n",
       "<span style=\"color: #000000; text-decoration-color: #000000; font-weight: bold\">widgets/widget_output.py:112)</span>\n",
       "</pre>\n"
      ],
      "text/plain": [
       "\u001b[1;33mDeprecationWarning: Kernel._parent_header is deprecated in ipykernel 6. Use .get_parent()\u001b[0m \n",
       "\u001b[1;30m(raised from /mnt/data/work/repos/workshops/memes/env/lib/python3.9/site-packages/ipywidgets/\u001b[0m\n",
       "\u001b[1;30mwidgets/widget_output.py:112)\u001b[0m\n"
      ]
     },
     "metadata": {},
     "output_type": "display_data"
    },
    {
     "data": {
      "text/html": [
       "<pre style=\"white-space:pre;overflow-x:auto;line-height:normal;font-family:Menlo,'DejaVu Sans Mono',consolas,'Courier New',monospace\"><span style=\"color: #808000; text-decoration-color: #808000; font-weight: bold\">DeprecationWarning: Kernel._parent_header is deprecated in ipykernel 6. Use .get_parent()</span> \n",
       "<span style=\"color: #000000; text-decoration-color: #000000; font-weight: bold\">(raised from /mnt/data/work/repos/workshops/memes/env/lib/python3.9/site-packages/ipywidgets/</span>\n",
       "<span style=\"color: #000000; text-decoration-color: #000000; font-weight: bold\">widgets/widget_output.py:111)</span>\n",
       "</pre>\n"
      ],
      "text/plain": [
       "\u001b[1;33mDeprecationWarning: Kernel._parent_header is deprecated in ipykernel 6. Use .get_parent()\u001b[0m \n",
       "\u001b[1;30m(raised from /mnt/data/work/repos/workshops/memes/env/lib/python3.9/site-packages/ipywidgets/\u001b[0m\n",
       "\u001b[1;30mwidgets/widget_output.py:111)\u001b[0m\n"
      ]
     },
     "metadata": {},
     "output_type": "display_data"
    },
    {
     "data": {
      "text/html": [
       "<pre style=\"white-space:pre;overflow-x:auto;line-height:normal;font-family:Menlo,'DejaVu Sans Mono',consolas,'Courier New',monospace\"><span style=\"color: #808000; text-decoration-color: #808000; font-weight: bold\">DeprecationWarning: Kernel._parent_header is deprecated in ipykernel 6. Use .get_parent()</span> \n",
       "<span style=\"color: #000000; text-decoration-color: #000000; font-weight: bold\">(raised from /mnt/data/work/repos/workshops/memes/env/lib/python3.9/site-packages/ipywidgets/</span>\n",
       "<span style=\"color: #000000; text-decoration-color: #000000; font-weight: bold\">widgets/widget_output.py:112)</span>\n",
       "</pre>\n"
      ],
      "text/plain": [
       "\u001b[1;33mDeprecationWarning: Kernel._parent_header is deprecated in ipykernel 6. Use .get_parent()\u001b[0m \n",
       "\u001b[1;30m(raised from /mnt/data/work/repos/workshops/memes/env/lib/python3.9/site-packages/ipywidgets/\u001b[0m\n",
       "\u001b[1;30mwidgets/widget_output.py:112)\u001b[0m\n"
      ]
     },
     "metadata": {},
     "output_type": "display_data"
    },
    {
     "data": {
      "text/html": [
       "<pre style=\"white-space:pre;overflow-x:auto;line-height:normal;font-family:Menlo,'DejaVu Sans Mono',consolas,'Courier New',monospace\"><span style=\"color: #808000; text-decoration-color: #808000; font-weight: bold\">DeprecationWarning: Kernel._parent_header is deprecated in ipykernel 6. Use .get_parent()</span> \n",
       "<span style=\"color: #000000; text-decoration-color: #000000; font-weight: bold\">(raised from /mnt/data/work/repos/workshops/memes/env/lib/python3.9/site-packages/ipywidgets/</span>\n",
       "<span style=\"color: #000000; text-decoration-color: #000000; font-weight: bold\">widgets/widget_output.py:111)</span>\n",
       "</pre>\n"
      ],
      "text/plain": [
       "\u001b[1;33mDeprecationWarning: Kernel._parent_header is deprecated in ipykernel 6. Use .get_parent()\u001b[0m \n",
       "\u001b[1;30m(raised from /mnt/data/work/repos/workshops/memes/env/lib/python3.9/site-packages/ipywidgets/\u001b[0m\n",
       "\u001b[1;30mwidgets/widget_output.py:111)\u001b[0m\n"
      ]
     },
     "metadata": {},
     "output_type": "display_data"
    },
    {
     "data": {
      "text/html": [
       "<pre style=\"white-space:pre;overflow-x:auto;line-height:normal;font-family:Menlo,'DejaVu Sans Mono',consolas,'Courier New',monospace\"><span style=\"color: #808000; text-decoration-color: #808000; font-weight: bold\">DeprecationWarning: Kernel._parent_header is deprecated in ipykernel 6. Use .get_parent()</span> \n",
       "<span style=\"color: #000000; text-decoration-color: #000000; font-weight: bold\">(raised from /mnt/data/work/repos/workshops/memes/env/lib/python3.9/site-packages/ipywidgets/</span>\n",
       "<span style=\"color: #000000; text-decoration-color: #000000; font-weight: bold\">widgets/widget_output.py:112)</span>\n",
       "</pre>\n"
      ],
      "text/plain": [
       "\u001b[1;33mDeprecationWarning: Kernel._parent_header is deprecated in ipykernel 6. Use .get_parent()\u001b[0m \n",
       "\u001b[1;30m(raised from /mnt/data/work/repos/workshops/memes/env/lib/python3.9/site-packages/ipywidgets/\u001b[0m\n",
       "\u001b[1;30mwidgets/widget_output.py:112)\u001b[0m\n"
      ]
     },
     "metadata": {},
     "output_type": "display_data"
    },
    {
     "data": {
      "text/html": [
       "<pre style=\"white-space:pre;overflow-x:auto;line-height:normal;font-family:Menlo,'DejaVu Sans Mono',consolas,'Courier New',monospace\"><span style=\"color: #808000; text-decoration-color: #808000; font-weight: bold\">DeprecationWarning: Kernel._parent_header is deprecated in ipykernel 6. Use .get_parent()</span> \n",
       "<span style=\"color: #000000; text-decoration-color: #000000; font-weight: bold\">(raised from /mnt/data/work/repos/workshops/memes/env/lib/python3.9/site-packages/ipywidgets/</span>\n",
       "<span style=\"color: #000000; text-decoration-color: #000000; font-weight: bold\">widgets/widget_output.py:111)</span>\n",
       "</pre>\n"
      ],
      "text/plain": [
       "\u001b[1;33mDeprecationWarning: Kernel._parent_header is deprecated in ipykernel 6. Use .get_parent()\u001b[0m \n",
       "\u001b[1;30m(raised from /mnt/data/work/repos/workshops/memes/env/lib/python3.9/site-packages/ipywidgets/\u001b[0m\n",
       "\u001b[1;30mwidgets/widget_output.py:111)\u001b[0m\n"
      ]
     },
     "metadata": {},
     "output_type": "display_data"
    },
    {
     "data": {
      "text/html": [
       "<pre style=\"white-space:pre;overflow-x:auto;line-height:normal;font-family:Menlo,'DejaVu Sans Mono',consolas,'Courier New',monospace\"><span style=\"color: #808000; text-decoration-color: #808000; font-weight: bold\">DeprecationWarning: Kernel._parent_header is deprecated in ipykernel 6. Use .get_parent()</span> \n",
       "<span style=\"color: #000000; text-decoration-color: #000000; font-weight: bold\">(raised from /mnt/data/work/repos/workshops/memes/env/lib/python3.9/site-packages/ipywidgets/</span>\n",
       "<span style=\"color: #000000; text-decoration-color: #000000; font-weight: bold\">widgets/widget_output.py:112)</span>\n",
       "</pre>\n"
      ],
      "text/plain": [
       "\u001b[1;33mDeprecationWarning: Kernel._parent_header is deprecated in ipykernel 6. Use .get_parent()\u001b[0m \n",
       "\u001b[1;30m(raised from /mnt/data/work/repos/workshops/memes/env/lib/python3.9/site-packages/ipywidgets/\u001b[0m\n",
       "\u001b[1;30mwidgets/widget_output.py:112)\u001b[0m\n"
      ]
     },
     "metadata": {},
     "output_type": "display_data"
    },
    {
     "data": {
      "text/html": [
       "<pre style=\"white-space:pre;overflow-x:auto;line-height:normal;font-family:Menlo,'DejaVu Sans Mono',consolas,'Courier New',monospace\"><span style=\"color: #808000; text-decoration-color: #808000; font-weight: bold\">DeprecationWarning: Kernel._parent_header is deprecated in ipykernel 6. Use .get_parent()</span> \n",
       "<span style=\"color: #000000; text-decoration-color: #000000; font-weight: bold\">(raised from /mnt/data/work/repos/workshops/memes/env/lib/python3.9/site-packages/ipywidgets/</span>\n",
       "<span style=\"color: #000000; text-decoration-color: #000000; font-weight: bold\">widgets/widget_output.py:111)</span>\n",
       "</pre>\n"
      ],
      "text/plain": [
       "\u001b[1;33mDeprecationWarning: Kernel._parent_header is deprecated in ipykernel 6. Use .get_parent()\u001b[0m \n",
       "\u001b[1;30m(raised from /mnt/data/work/repos/workshops/memes/env/lib/python3.9/site-packages/ipywidgets/\u001b[0m\n",
       "\u001b[1;30mwidgets/widget_output.py:111)\u001b[0m\n"
      ]
     },
     "metadata": {},
     "output_type": "display_data"
    },
    {
     "data": {
      "text/html": [
       "<pre style=\"white-space:pre;overflow-x:auto;line-height:normal;font-family:Menlo,'DejaVu Sans Mono',consolas,'Courier New',monospace\"><span style=\"color: #808000; text-decoration-color: #808000; font-weight: bold\">DeprecationWarning: Kernel._parent_header is deprecated in ipykernel 6. Use .get_parent()</span> \n",
       "<span style=\"color: #000000; text-decoration-color: #000000; font-weight: bold\">(raised from /mnt/data/work/repos/workshops/memes/env/lib/python3.9/site-packages/ipywidgets/</span>\n",
       "<span style=\"color: #000000; text-decoration-color: #000000; font-weight: bold\">widgets/widget_output.py:112)</span>\n",
       "</pre>\n"
      ],
      "text/plain": [
       "\u001b[1;33mDeprecationWarning: Kernel._parent_header is deprecated in ipykernel 6. Use .get_parent()\u001b[0m \n",
       "\u001b[1;30m(raised from /mnt/data/work/repos/workshops/memes/env/lib/python3.9/site-packages/ipywidgets/\u001b[0m\n",
       "\u001b[1;30mwidgets/widget_output.py:112)\u001b[0m\n"
      ]
     },
     "metadata": {},
     "output_type": "display_data"
    },
    {
     "data": {
      "text/html": [
       "<pre style=\"white-space:pre;overflow-x:auto;line-height:normal;font-family:Menlo,'DejaVu Sans Mono',consolas,'Courier New',monospace\"><span style=\"color: #808000; text-decoration-color: #808000; font-weight: bold\">DeprecationWarning: Kernel._parent_header is deprecated in ipykernel 6. Use .get_parent()</span> \n",
       "<span style=\"color: #000000; text-decoration-color: #000000; font-weight: bold\">(raised from /mnt/data/work/repos/workshops/memes/env/lib/python3.9/site-packages/ipywidgets/</span>\n",
       "<span style=\"color: #000000; text-decoration-color: #000000; font-weight: bold\">widgets/widget_output.py:111)</span>\n",
       "</pre>\n"
      ],
      "text/plain": [
       "\u001b[1;33mDeprecationWarning: Kernel._parent_header is deprecated in ipykernel 6. Use .get_parent()\u001b[0m \n",
       "\u001b[1;30m(raised from /mnt/data/work/repos/workshops/memes/env/lib/python3.9/site-packages/ipywidgets/\u001b[0m\n",
       "\u001b[1;30mwidgets/widget_output.py:111)\u001b[0m\n"
      ]
     },
     "metadata": {},
     "output_type": "display_data"
    },
    {
     "data": {
      "text/html": [
       "<pre style=\"white-space:pre;overflow-x:auto;line-height:normal;font-family:Menlo,'DejaVu Sans Mono',consolas,'Courier New',monospace\"><span style=\"color: #808000; text-decoration-color: #808000; font-weight: bold\">DeprecationWarning: Kernel._parent_header is deprecated in ipykernel 6. Use .get_parent()</span> \n",
       "<span style=\"color: #000000; text-decoration-color: #000000; font-weight: bold\">(raised from /mnt/data/work/repos/workshops/memes/env/lib/python3.9/site-packages/ipywidgets/</span>\n",
       "<span style=\"color: #000000; text-decoration-color: #000000; font-weight: bold\">widgets/widget_output.py:112)</span>\n",
       "</pre>\n"
      ],
      "text/plain": [
       "\u001b[1;33mDeprecationWarning: Kernel._parent_header is deprecated in ipykernel 6. Use .get_parent()\u001b[0m \n",
       "\u001b[1;30m(raised from /mnt/data/work/repos/workshops/memes/env/lib/python3.9/site-packages/ipywidgets/\u001b[0m\n",
       "\u001b[1;30mwidgets/widget_output.py:112)\u001b[0m\n"
      ]
     },
     "metadata": {},
     "output_type": "display_data"
    },
    {
     "data": {
      "text/html": [
       "<pre style=\"white-space:pre;overflow-x:auto;line-height:normal;font-family:Menlo,'DejaVu Sans Mono',consolas,'Courier New',monospace\"><span style=\"color: #808000; text-decoration-color: #808000; font-weight: bold\">DeprecationWarning: Kernel._parent_header is deprecated in ipykernel 6. Use .get_parent()</span> \n",
       "<span style=\"color: #000000; text-decoration-color: #000000; font-weight: bold\">(raised from /mnt/data/work/repos/workshops/memes/env/lib/python3.9/site-packages/ipywidgets/</span>\n",
       "<span style=\"color: #000000; text-decoration-color: #000000; font-weight: bold\">widgets/widget_output.py:111)</span>\n",
       "</pre>\n"
      ],
      "text/plain": [
       "\u001b[1;33mDeprecationWarning: Kernel._parent_header is deprecated in ipykernel 6. Use .get_parent()\u001b[0m \n",
       "\u001b[1;30m(raised from /mnt/data/work/repos/workshops/memes/env/lib/python3.9/site-packages/ipywidgets/\u001b[0m\n",
       "\u001b[1;30mwidgets/widget_output.py:111)\u001b[0m\n"
      ]
     },
     "metadata": {},
     "output_type": "display_data"
    },
    {
     "data": {
      "text/html": [
       "<pre style=\"white-space:pre;overflow-x:auto;line-height:normal;font-family:Menlo,'DejaVu Sans Mono',consolas,'Courier New',monospace\"><span style=\"color: #808000; text-decoration-color: #808000; font-weight: bold\">DeprecationWarning: Kernel._parent_header is deprecated in ipykernel 6. Use .get_parent()</span> \n",
       "<span style=\"color: #000000; text-decoration-color: #000000; font-weight: bold\">(raised from /mnt/data/work/repos/workshops/memes/env/lib/python3.9/site-packages/ipywidgets/</span>\n",
       "<span style=\"color: #000000; text-decoration-color: #000000; font-weight: bold\">widgets/widget_output.py:112)</span>\n",
       "</pre>\n"
      ],
      "text/plain": [
       "\u001b[1;33mDeprecationWarning: Kernel._parent_header is deprecated in ipykernel 6. Use .get_parent()\u001b[0m \n",
       "\u001b[1;30m(raised from /mnt/data/work/repos/workshops/memes/env/lib/python3.9/site-packages/ipywidgets/\u001b[0m\n",
       "\u001b[1;30mwidgets/widget_output.py:112)\u001b[0m\n"
      ]
     },
     "metadata": {},
     "output_type": "display_data"
    },
    {
     "data": {
      "text/html": [
       "<pre style=\"white-space:pre;overflow-x:auto;line-height:normal;font-family:Menlo,'DejaVu Sans Mono',consolas,'Courier New',monospace\"><span style=\"color: #808000; text-decoration-color: #808000; font-weight: bold\">DeprecationWarning: Kernel._parent_header is deprecated in ipykernel 6. Use .get_parent()</span> \n",
       "<span style=\"color: #000000; text-decoration-color: #000000; font-weight: bold\">(raised from /mnt/data/work/repos/workshops/memes/env/lib/python3.9/site-packages/ipywidgets/</span>\n",
       "<span style=\"color: #000000; text-decoration-color: #000000; font-weight: bold\">widgets/widget_output.py:111)</span>\n",
       "</pre>\n"
      ],
      "text/plain": [
       "\u001b[1;33mDeprecationWarning: Kernel._parent_header is deprecated in ipykernel 6. Use .get_parent()\u001b[0m \n",
       "\u001b[1;30m(raised from /mnt/data/work/repos/workshops/memes/env/lib/python3.9/site-packages/ipywidgets/\u001b[0m\n",
       "\u001b[1;30mwidgets/widget_output.py:111)\u001b[0m\n"
      ]
     },
     "metadata": {},
     "output_type": "display_data"
    },
    {
     "data": {
      "text/html": [
       "<pre style=\"white-space:pre;overflow-x:auto;line-height:normal;font-family:Menlo,'DejaVu Sans Mono',consolas,'Courier New',monospace\"><span style=\"color: #808000; text-decoration-color: #808000; font-weight: bold\">DeprecationWarning: Kernel._parent_header is deprecated in ipykernel 6. Use .get_parent()</span> \n",
       "<span style=\"color: #000000; text-decoration-color: #000000; font-weight: bold\">(raised from /mnt/data/work/repos/workshops/memes/env/lib/python3.9/site-packages/ipywidgets/</span>\n",
       "<span style=\"color: #000000; text-decoration-color: #000000; font-weight: bold\">widgets/widget_output.py:112)</span>\n",
       "</pre>\n"
      ],
      "text/plain": [
       "\u001b[1;33mDeprecationWarning: Kernel._parent_header is deprecated in ipykernel 6. Use .get_parent()\u001b[0m \n",
       "\u001b[1;30m(raised from /mnt/data/work/repos/workshops/memes/env/lib/python3.9/site-packages/ipywidgets/\u001b[0m\n",
       "\u001b[1;30mwidgets/widget_output.py:112)\u001b[0m\n"
      ]
     },
     "metadata": {},
     "output_type": "display_data"
    },
    {
     "data": {
      "text/html": [
       "<pre style=\"white-space:pre;overflow-x:auto;line-height:normal;font-family:Menlo,'DejaVu Sans Mono',consolas,'Courier New',monospace\"><span style=\"color: #808000; text-decoration-color: #808000; font-weight: bold\">DeprecationWarning: Kernel._parent_header is deprecated in ipykernel 6. Use .get_parent()</span> \n",
       "<span style=\"color: #000000; text-decoration-color: #000000; font-weight: bold\">(raised from /mnt/data/work/repos/workshops/memes/env/lib/python3.9/site-packages/ipywidgets/</span>\n",
       "<span style=\"color: #000000; text-decoration-color: #000000; font-weight: bold\">widgets/widget_output.py:111)</span>\n",
       "</pre>\n"
      ],
      "text/plain": [
       "\u001b[1;33mDeprecationWarning: Kernel._parent_header is deprecated in ipykernel 6. Use .get_parent()\u001b[0m \n",
       "\u001b[1;30m(raised from /mnt/data/work/repos/workshops/memes/env/lib/python3.9/site-packages/ipywidgets/\u001b[0m\n",
       "\u001b[1;30mwidgets/widget_output.py:111)\u001b[0m\n"
      ]
     },
     "metadata": {},
     "output_type": "display_data"
    },
    {
     "data": {
      "text/html": [
       "<pre style=\"white-space:pre;overflow-x:auto;line-height:normal;font-family:Menlo,'DejaVu Sans Mono',consolas,'Courier New',monospace\"><span style=\"color: #808000; text-decoration-color: #808000; font-weight: bold\">DeprecationWarning: Kernel._parent_header is deprecated in ipykernel 6. Use .get_parent()</span> \n",
       "<span style=\"color: #000000; text-decoration-color: #000000; font-weight: bold\">(raised from /mnt/data/work/repos/workshops/memes/env/lib/python3.9/site-packages/ipywidgets/</span>\n",
       "<span style=\"color: #000000; text-decoration-color: #000000; font-weight: bold\">widgets/widget_output.py:112)</span>\n",
       "</pre>\n"
      ],
      "text/plain": [
       "\u001b[1;33mDeprecationWarning: Kernel._parent_header is deprecated in ipykernel 6. Use .get_parent()\u001b[0m \n",
       "\u001b[1;30m(raised from /mnt/data/work/repos/workshops/memes/env/lib/python3.9/site-packages/ipywidgets/\u001b[0m\n",
       "\u001b[1;30mwidgets/widget_output.py:112)\u001b[0m\n"
      ]
     },
     "metadata": {},
     "output_type": "display_data"
    },
    {
     "data": {
      "text/html": [
       "<pre style=\"white-space:pre;overflow-x:auto;line-height:normal;font-family:Menlo,'DejaVu Sans Mono',consolas,'Courier New',monospace\"><span style=\"color: #808000; text-decoration-color: #808000; font-weight: bold\">DeprecationWarning: Kernel._parent_header is deprecated in ipykernel 6. Use .get_parent()</span> \n",
       "<span style=\"color: #000000; text-decoration-color: #000000; font-weight: bold\">(raised from /mnt/data/work/repos/workshops/memes/env/lib/python3.9/site-packages/ipywidgets/</span>\n",
       "<span style=\"color: #000000; text-decoration-color: #000000; font-weight: bold\">widgets/widget_output.py:111)</span>\n",
       "</pre>\n"
      ],
      "text/plain": [
       "\u001b[1;33mDeprecationWarning: Kernel._parent_header is deprecated in ipykernel 6. Use .get_parent()\u001b[0m \n",
       "\u001b[1;30m(raised from /mnt/data/work/repos/workshops/memes/env/lib/python3.9/site-packages/ipywidgets/\u001b[0m\n",
       "\u001b[1;30mwidgets/widget_output.py:111)\u001b[0m\n"
      ]
     },
     "metadata": {},
     "output_type": "display_data"
    },
    {
     "data": {
      "text/html": [
       "<pre style=\"white-space:pre;overflow-x:auto;line-height:normal;font-family:Menlo,'DejaVu Sans Mono',consolas,'Courier New',monospace\"><span style=\"color: #808000; text-decoration-color: #808000; font-weight: bold\">DeprecationWarning: Kernel._parent_header is deprecated in ipykernel 6. Use .get_parent()</span> \n",
       "<span style=\"color: #000000; text-decoration-color: #000000; font-weight: bold\">(raised from /mnt/data/work/repos/workshops/memes/env/lib/python3.9/site-packages/ipywidgets/</span>\n",
       "<span style=\"color: #000000; text-decoration-color: #000000; font-weight: bold\">widgets/widget_output.py:112)</span>\n",
       "</pre>\n"
      ],
      "text/plain": [
       "\u001b[1;33mDeprecationWarning: Kernel._parent_header is deprecated in ipykernel 6. Use .get_parent()\u001b[0m \n",
       "\u001b[1;30m(raised from /mnt/data/work/repos/workshops/memes/env/lib/python3.9/site-packages/ipywidgets/\u001b[0m\n",
       "\u001b[1;30mwidgets/widget_output.py:112)\u001b[0m\n"
      ]
     },
     "metadata": {},
     "output_type": "display_data"
    },
    {
     "data": {
      "text/html": [
       "<pre style=\"white-space:pre;overflow-x:auto;line-height:normal;font-family:Menlo,'DejaVu Sans Mono',consolas,'Courier New',monospace\"><span style=\"color: #808000; text-decoration-color: #808000; font-weight: bold\">DeprecationWarning: Kernel._parent_header is deprecated in ipykernel 6. Use .get_parent()</span> \n",
       "<span style=\"color: #000000; text-decoration-color: #000000; font-weight: bold\">(raised from /mnt/data/work/repos/workshops/memes/env/lib/python3.9/site-packages/ipywidgets/</span>\n",
       "<span style=\"color: #000000; text-decoration-color: #000000; font-weight: bold\">widgets/widget_output.py:111)</span>\n",
       "</pre>\n"
      ],
      "text/plain": [
       "\u001b[1;33mDeprecationWarning: Kernel._parent_header is deprecated in ipykernel 6. Use .get_parent()\u001b[0m \n",
       "\u001b[1;30m(raised from /mnt/data/work/repos/workshops/memes/env/lib/python3.9/site-packages/ipywidgets/\u001b[0m\n",
       "\u001b[1;30mwidgets/widget_output.py:111)\u001b[0m\n"
      ]
     },
     "metadata": {},
     "output_type": "display_data"
    },
    {
     "data": {
      "text/html": [
       "<pre style=\"white-space:pre;overflow-x:auto;line-height:normal;font-family:Menlo,'DejaVu Sans Mono',consolas,'Courier New',monospace\"><span style=\"color: #808000; text-decoration-color: #808000; font-weight: bold\">DeprecationWarning: Kernel._parent_header is deprecated in ipykernel 6. Use .get_parent()</span> \n",
       "<span style=\"color: #000000; text-decoration-color: #000000; font-weight: bold\">(raised from /mnt/data/work/repos/workshops/memes/env/lib/python3.9/site-packages/ipywidgets/</span>\n",
       "<span style=\"color: #000000; text-decoration-color: #000000; font-weight: bold\">widgets/widget_output.py:112)</span>\n",
       "</pre>\n"
      ],
      "text/plain": [
       "\u001b[1;33mDeprecationWarning: Kernel._parent_header is deprecated in ipykernel 6. Use .get_parent()\u001b[0m \n",
       "\u001b[1;30m(raised from /mnt/data/work/repos/workshops/memes/env/lib/python3.9/site-packages/ipywidgets/\u001b[0m\n",
       "\u001b[1;30mwidgets/widget_output.py:112)\u001b[0m\n"
      ]
     },
     "metadata": {},
     "output_type": "display_data"
    },
    {
     "data": {
      "text/html": [
       "<pre style=\"white-space:pre;overflow-x:auto;line-height:normal;font-family:Menlo,'DejaVu Sans Mono',consolas,'Courier New',monospace\"><span style=\"color: #808000; text-decoration-color: #808000; font-weight: bold\">DeprecationWarning: Kernel._parent_header is deprecated in ipykernel 6. Use .get_parent()</span> \n",
       "<span style=\"color: #000000; text-decoration-color: #000000; font-weight: bold\">(raised from /mnt/data/work/repos/workshops/memes/env/lib/python3.9/site-packages/ipywidgets/</span>\n",
       "<span style=\"color: #000000; text-decoration-color: #000000; font-weight: bold\">widgets/widget_output.py:111)</span>\n",
       "</pre>\n"
      ],
      "text/plain": [
       "\u001b[1;33mDeprecationWarning: Kernel._parent_header is deprecated in ipykernel 6. Use .get_parent()\u001b[0m \n",
       "\u001b[1;30m(raised from /mnt/data/work/repos/workshops/memes/env/lib/python3.9/site-packages/ipywidgets/\u001b[0m\n",
       "\u001b[1;30mwidgets/widget_output.py:111)\u001b[0m\n"
      ]
     },
     "metadata": {},
     "output_type": "display_data"
    },
    {
     "data": {
      "text/html": [
       "<pre style=\"white-space:pre;overflow-x:auto;line-height:normal;font-family:Menlo,'DejaVu Sans Mono',consolas,'Courier New',monospace\"><span style=\"color: #808000; text-decoration-color: #808000; font-weight: bold\">DeprecationWarning: Kernel._parent_header is deprecated in ipykernel 6. Use .get_parent()</span> \n",
       "<span style=\"color: #000000; text-decoration-color: #000000; font-weight: bold\">(raised from /mnt/data/work/repos/workshops/memes/env/lib/python3.9/site-packages/ipywidgets/</span>\n",
       "<span style=\"color: #000000; text-decoration-color: #000000; font-weight: bold\">widgets/widget_output.py:112)</span>\n",
       "</pre>\n"
      ],
      "text/plain": [
       "\u001b[1;33mDeprecationWarning: Kernel._parent_header is deprecated in ipykernel 6. Use .get_parent()\u001b[0m \n",
       "\u001b[1;30m(raised from /mnt/data/work/repos/workshops/memes/env/lib/python3.9/site-packages/ipywidgets/\u001b[0m\n",
       "\u001b[1;30mwidgets/widget_output.py:112)\u001b[0m\n"
      ]
     },
     "metadata": {},
     "output_type": "display_data"
    },
    {
     "data": {
      "text/html": [
       "<pre style=\"white-space:pre;overflow-x:auto;line-height:normal;font-family:Menlo,'DejaVu Sans Mono',consolas,'Courier New',monospace\"><span style=\"color: #808000; text-decoration-color: #808000; font-weight: bold\">DeprecationWarning: Kernel._parent_header is deprecated in ipykernel 6. Use .get_parent()</span> \n",
       "<span style=\"color: #000000; text-decoration-color: #000000; font-weight: bold\">(raised from /mnt/data/work/repos/workshops/memes/env/lib/python3.9/site-packages/ipywidgets/</span>\n",
       "<span style=\"color: #000000; text-decoration-color: #000000; font-weight: bold\">widgets/widget_output.py:111)</span>\n",
       "</pre>\n"
      ],
      "text/plain": [
       "\u001b[1;33mDeprecationWarning: Kernel._parent_header is deprecated in ipykernel 6. Use .get_parent()\u001b[0m \n",
       "\u001b[1;30m(raised from /mnt/data/work/repos/workshops/memes/env/lib/python3.9/site-packages/ipywidgets/\u001b[0m\n",
       "\u001b[1;30mwidgets/widget_output.py:111)\u001b[0m\n"
      ]
     },
     "metadata": {},
     "output_type": "display_data"
    },
    {
     "data": {
      "text/html": [
       "<pre style=\"white-space:pre;overflow-x:auto;line-height:normal;font-family:Menlo,'DejaVu Sans Mono',consolas,'Courier New',monospace\"><span style=\"color: #808000; text-decoration-color: #808000; font-weight: bold\">DeprecationWarning: Kernel._parent_header is deprecated in ipykernel 6. Use .get_parent()</span> \n",
       "<span style=\"color: #000000; text-decoration-color: #000000; font-weight: bold\">(raised from /mnt/data/work/repos/workshops/memes/env/lib/python3.9/site-packages/ipywidgets/</span>\n",
       "<span style=\"color: #000000; text-decoration-color: #000000; font-weight: bold\">widgets/widget_output.py:112)</span>\n",
       "</pre>\n"
      ],
      "text/plain": [
       "\u001b[1;33mDeprecationWarning: Kernel._parent_header is deprecated in ipykernel 6. Use .get_parent()\u001b[0m \n",
       "\u001b[1;30m(raised from /mnt/data/work/repos/workshops/memes/env/lib/python3.9/site-packages/ipywidgets/\u001b[0m\n",
       "\u001b[1;30mwidgets/widget_output.py:112)\u001b[0m\n"
      ]
     },
     "metadata": {},
     "output_type": "display_data"
    },
    {
     "data": {
      "text/html": [
       "<pre style=\"white-space:pre;overflow-x:auto;line-height:normal;font-family:Menlo,'DejaVu Sans Mono',consolas,'Courier New',monospace\"><span style=\"color: #808000; text-decoration-color: #808000; font-weight: bold\">DeprecationWarning: Kernel._parent_header is deprecated in ipykernel 6. Use .get_parent()</span> \n",
       "<span style=\"color: #000000; text-decoration-color: #000000; font-weight: bold\">(raised from /mnt/data/work/repos/workshops/memes/env/lib/python3.9/site-packages/ipywidgets/</span>\n",
       "<span style=\"color: #000000; text-decoration-color: #000000; font-weight: bold\">widgets/widget_output.py:111)</span>\n",
       "</pre>\n"
      ],
      "text/plain": [
       "\u001b[1;33mDeprecationWarning: Kernel._parent_header is deprecated in ipykernel 6. Use .get_parent()\u001b[0m \n",
       "\u001b[1;30m(raised from /mnt/data/work/repos/workshops/memes/env/lib/python3.9/site-packages/ipywidgets/\u001b[0m\n",
       "\u001b[1;30mwidgets/widget_output.py:111)\u001b[0m\n"
      ]
     },
     "metadata": {},
     "output_type": "display_data"
    },
    {
     "data": {
      "text/html": [
       "<pre style=\"white-space:pre;overflow-x:auto;line-height:normal;font-family:Menlo,'DejaVu Sans Mono',consolas,'Courier New',monospace\"><span style=\"color: #808000; text-decoration-color: #808000; font-weight: bold\">DeprecationWarning: Kernel._parent_header is deprecated in ipykernel 6. Use .get_parent()</span> \n",
       "<span style=\"color: #000000; text-decoration-color: #000000; font-weight: bold\">(raised from /mnt/data/work/repos/workshops/memes/env/lib/python3.9/site-packages/ipywidgets/</span>\n",
       "<span style=\"color: #000000; text-decoration-color: #000000; font-weight: bold\">widgets/widget_output.py:112)</span>\n",
       "</pre>\n"
      ],
      "text/plain": [
       "\u001b[1;33mDeprecationWarning: Kernel._parent_header is deprecated in ipykernel 6. Use .get_parent()\u001b[0m \n",
       "\u001b[1;30m(raised from /mnt/data/work/repos/workshops/memes/env/lib/python3.9/site-packages/ipywidgets/\u001b[0m\n",
       "\u001b[1;30mwidgets/widget_output.py:112)\u001b[0m\n"
      ]
     },
     "metadata": {},
     "output_type": "display_data"
    },
    {
     "data": {
      "text/html": [
       "<pre style=\"white-space:pre;overflow-x:auto;line-height:normal;font-family:Menlo,'DejaVu Sans Mono',consolas,'Courier New',monospace\"><span style=\"color: #808000; text-decoration-color: #808000; font-weight: bold\">DeprecationWarning: Kernel._parent_header is deprecated in ipykernel 6. Use .get_parent()</span> \n",
       "<span style=\"color: #000000; text-decoration-color: #000000; font-weight: bold\">(raised from /mnt/data/work/repos/workshops/memes/env/lib/python3.9/site-packages/ipywidgets/</span>\n",
       "<span style=\"color: #000000; text-decoration-color: #000000; font-weight: bold\">widgets/widget_output.py:111)</span>\n",
       "</pre>\n"
      ],
      "text/plain": [
       "\u001b[1;33mDeprecationWarning: Kernel._parent_header is deprecated in ipykernel 6. Use .get_parent()\u001b[0m \n",
       "\u001b[1;30m(raised from /mnt/data/work/repos/workshops/memes/env/lib/python3.9/site-packages/ipywidgets/\u001b[0m\n",
       "\u001b[1;30mwidgets/widget_output.py:111)\u001b[0m\n"
      ]
     },
     "metadata": {},
     "output_type": "display_data"
    },
    {
     "data": {
      "text/html": [
       "<pre style=\"white-space:pre;overflow-x:auto;line-height:normal;font-family:Menlo,'DejaVu Sans Mono',consolas,'Courier New',monospace\"><span style=\"color: #808000; text-decoration-color: #808000; font-weight: bold\">DeprecationWarning: Kernel._parent_header is deprecated in ipykernel 6. Use .get_parent()</span> \n",
       "<span style=\"color: #000000; text-decoration-color: #000000; font-weight: bold\">(raised from /mnt/data/work/repos/workshops/memes/env/lib/python3.9/site-packages/ipywidgets/</span>\n",
       "<span style=\"color: #000000; text-decoration-color: #000000; font-weight: bold\">widgets/widget_output.py:112)</span>\n",
       "</pre>\n"
      ],
      "text/plain": [
       "\u001b[1;33mDeprecationWarning: Kernel._parent_header is deprecated in ipykernel 6. Use .get_parent()\u001b[0m \n",
       "\u001b[1;30m(raised from /mnt/data/work/repos/workshops/memes/env/lib/python3.9/site-packages/ipywidgets/\u001b[0m\n",
       "\u001b[1;30mwidgets/widget_output.py:112)\u001b[0m\n"
      ]
     },
     "metadata": {},
     "output_type": "display_data"
    },
    {
     "data": {
      "text/html": [
       "<pre style=\"white-space:pre;overflow-x:auto;line-height:normal;font-family:Menlo,'DejaVu Sans Mono',consolas,'Courier New',monospace\"><span style=\"color: #808000; text-decoration-color: #808000; font-weight: bold\">DeprecationWarning: Kernel._parent_header is deprecated in ipykernel 6. Use .get_parent()</span> \n",
       "<span style=\"color: #000000; text-decoration-color: #000000; font-weight: bold\">(raised from /mnt/data/work/repos/workshops/memes/env/lib/python3.9/site-packages/ipywidgets/</span>\n",
       "<span style=\"color: #000000; text-decoration-color: #000000; font-weight: bold\">widgets/widget_output.py:111)</span>\n",
       "</pre>\n"
      ],
      "text/plain": [
       "\u001b[1;33mDeprecationWarning: Kernel._parent_header is deprecated in ipykernel 6. Use .get_parent()\u001b[0m \n",
       "\u001b[1;30m(raised from /mnt/data/work/repos/workshops/memes/env/lib/python3.9/site-packages/ipywidgets/\u001b[0m\n",
       "\u001b[1;30mwidgets/widget_output.py:111)\u001b[0m\n"
      ]
     },
     "metadata": {},
     "output_type": "display_data"
    },
    {
     "data": {
      "text/html": [
       "<pre style=\"white-space:pre;overflow-x:auto;line-height:normal;font-family:Menlo,'DejaVu Sans Mono',consolas,'Courier New',monospace\"><span style=\"color: #808000; text-decoration-color: #808000; font-weight: bold\">DeprecationWarning: Kernel._parent_header is deprecated in ipykernel 6. Use .get_parent()</span> \n",
       "<span style=\"color: #000000; text-decoration-color: #000000; font-weight: bold\">(raised from /mnt/data/work/repos/workshops/memes/env/lib/python3.9/site-packages/ipywidgets/</span>\n",
       "<span style=\"color: #000000; text-decoration-color: #000000; font-weight: bold\">widgets/widget_output.py:112)</span>\n",
       "</pre>\n"
      ],
      "text/plain": [
       "\u001b[1;33mDeprecationWarning: Kernel._parent_header is deprecated in ipykernel 6. Use .get_parent()\u001b[0m \n",
       "\u001b[1;30m(raised from /mnt/data/work/repos/workshops/memes/env/lib/python3.9/site-packages/ipywidgets/\u001b[0m\n",
       "\u001b[1;30mwidgets/widget_output.py:112)\u001b[0m\n"
      ]
     },
     "metadata": {},
     "output_type": "display_data"
    },
    {
     "data": {
      "text/html": [
       "<pre style=\"white-space:pre;overflow-x:auto;line-height:normal;font-family:Menlo,'DejaVu Sans Mono',consolas,'Courier New',monospace\"><span style=\"color: #808000; text-decoration-color: #808000; font-weight: bold\">DeprecationWarning: Kernel._parent_header is deprecated in ipykernel 6. Use .get_parent()</span> \n",
       "<span style=\"color: #000000; text-decoration-color: #000000; font-weight: bold\">(raised from /mnt/data/work/repos/workshops/memes/env/lib/python3.9/site-packages/ipywidgets/</span>\n",
       "<span style=\"color: #000000; text-decoration-color: #000000; font-weight: bold\">widgets/widget_output.py:111)</span>\n",
       "</pre>\n"
      ],
      "text/plain": [
       "\u001b[1;33mDeprecationWarning: Kernel._parent_header is deprecated in ipykernel 6. Use .get_parent()\u001b[0m \n",
       "\u001b[1;30m(raised from /mnt/data/work/repos/workshops/memes/env/lib/python3.9/site-packages/ipywidgets/\u001b[0m\n",
       "\u001b[1;30mwidgets/widget_output.py:111)\u001b[0m\n"
      ]
     },
     "metadata": {},
     "output_type": "display_data"
    },
    {
     "data": {
      "text/html": [
       "<pre style=\"white-space:pre;overflow-x:auto;line-height:normal;font-family:Menlo,'DejaVu Sans Mono',consolas,'Courier New',monospace\"><span style=\"color: #808000; text-decoration-color: #808000; font-weight: bold\">DeprecationWarning: Kernel._parent_header is deprecated in ipykernel 6. Use .get_parent()</span> \n",
       "<span style=\"color: #000000; text-decoration-color: #000000; font-weight: bold\">(raised from /mnt/data/work/repos/workshops/memes/env/lib/python3.9/site-packages/ipywidgets/</span>\n",
       "<span style=\"color: #000000; text-decoration-color: #000000; font-weight: bold\">widgets/widget_output.py:112)</span>\n",
       "</pre>\n"
      ],
      "text/plain": [
       "\u001b[1;33mDeprecationWarning: Kernel._parent_header is deprecated in ipykernel 6. Use .get_parent()\u001b[0m \n",
       "\u001b[1;30m(raised from /mnt/data/work/repos/workshops/memes/env/lib/python3.9/site-packages/ipywidgets/\u001b[0m\n",
       "\u001b[1;30mwidgets/widget_output.py:112)\u001b[0m\n"
      ]
     },
     "metadata": {},
     "output_type": "display_data"
    },
    {
     "data": {
      "text/html": [
       "<pre style=\"white-space:pre;overflow-x:auto;line-height:normal;font-family:Menlo,'DejaVu Sans Mono',consolas,'Courier New',monospace\"><span style=\"color: #808000; text-decoration-color: #808000; font-weight: bold\">DeprecationWarning: Kernel._parent_header is deprecated in ipykernel 6. Use .get_parent()</span> \n",
       "<span style=\"color: #000000; text-decoration-color: #000000; font-weight: bold\">(raised from /mnt/data/work/repos/workshops/memes/env/lib/python3.9/site-packages/ipywidgets/</span>\n",
       "<span style=\"color: #000000; text-decoration-color: #000000; font-weight: bold\">widgets/widget_output.py:111)</span>\n",
       "</pre>\n"
      ],
      "text/plain": [
       "\u001b[1;33mDeprecationWarning: Kernel._parent_header is deprecated in ipykernel 6. Use .get_parent()\u001b[0m \n",
       "\u001b[1;30m(raised from /mnt/data/work/repos/workshops/memes/env/lib/python3.9/site-packages/ipywidgets/\u001b[0m\n",
       "\u001b[1;30mwidgets/widget_output.py:111)\u001b[0m\n"
      ]
     },
     "metadata": {},
     "output_type": "display_data"
    },
    {
     "data": {
      "text/html": [
       "<pre style=\"white-space:pre;overflow-x:auto;line-height:normal;font-family:Menlo,'DejaVu Sans Mono',consolas,'Courier New',monospace\"><span style=\"color: #808000; text-decoration-color: #808000; font-weight: bold\">DeprecationWarning: Kernel._parent_header is deprecated in ipykernel 6. Use .get_parent()</span> \n",
       "<span style=\"color: #000000; text-decoration-color: #000000; font-weight: bold\">(raised from /mnt/data/work/repos/workshops/memes/env/lib/python3.9/site-packages/ipywidgets/</span>\n",
       "<span style=\"color: #000000; text-decoration-color: #000000; font-weight: bold\">widgets/widget_output.py:112)</span>\n",
       "</pre>\n"
      ],
      "text/plain": [
       "\u001b[1;33mDeprecationWarning: Kernel._parent_header is deprecated in ipykernel 6. Use .get_parent()\u001b[0m \n",
       "\u001b[1;30m(raised from /mnt/data/work/repos/workshops/memes/env/lib/python3.9/site-packages/ipywidgets/\u001b[0m\n",
       "\u001b[1;30mwidgets/widget_output.py:112)\u001b[0m\n"
      ]
     },
     "metadata": {},
     "output_type": "display_data"
    },
    {
     "data": {
      "text/html": [
       "<pre style=\"white-space:pre;overflow-x:auto;line-height:normal;font-family:Menlo,'DejaVu Sans Mono',consolas,'Courier New',monospace\"><span style=\"color: #808000; text-decoration-color: #808000; font-weight: bold\">DeprecationWarning: Kernel._parent_header is deprecated in ipykernel 6. Use .get_parent()</span> \n",
       "<span style=\"color: #000000; text-decoration-color: #000000; font-weight: bold\">(raised from /mnt/data/work/repos/workshops/memes/env/lib/python3.9/site-packages/ipywidgets/</span>\n",
       "<span style=\"color: #000000; text-decoration-color: #000000; font-weight: bold\">widgets/widget_output.py:111)</span>\n",
       "</pre>\n"
      ],
      "text/plain": [
       "\u001b[1;33mDeprecationWarning: Kernel._parent_header is deprecated in ipykernel 6. Use .get_parent()\u001b[0m \n",
       "\u001b[1;30m(raised from /mnt/data/work/repos/workshops/memes/env/lib/python3.9/site-packages/ipywidgets/\u001b[0m\n",
       "\u001b[1;30mwidgets/widget_output.py:111)\u001b[0m\n"
      ]
     },
     "metadata": {},
     "output_type": "display_data"
    },
    {
     "data": {
      "text/html": [
       "<pre style=\"white-space:pre;overflow-x:auto;line-height:normal;font-family:Menlo,'DejaVu Sans Mono',consolas,'Courier New',monospace\"><span style=\"color: #808000; text-decoration-color: #808000; font-weight: bold\">DeprecationWarning: Kernel._parent_header is deprecated in ipykernel 6. Use .get_parent()</span> \n",
       "<span style=\"color: #000000; text-decoration-color: #000000; font-weight: bold\">(raised from /mnt/data/work/repos/workshops/memes/env/lib/python3.9/site-packages/ipywidgets/</span>\n",
       "<span style=\"color: #000000; text-decoration-color: #000000; font-weight: bold\">widgets/widget_output.py:112)</span>\n",
       "</pre>\n"
      ],
      "text/plain": [
       "\u001b[1;33mDeprecationWarning: Kernel._parent_header is deprecated in ipykernel 6. Use .get_parent()\u001b[0m \n",
       "\u001b[1;30m(raised from /mnt/data/work/repos/workshops/memes/env/lib/python3.9/site-packages/ipywidgets/\u001b[0m\n",
       "\u001b[1;30mwidgets/widget_output.py:112)\u001b[0m\n"
      ]
     },
     "metadata": {},
     "output_type": "display_data"
    },
    {
     "data": {
      "text/html": [
       "<pre style=\"white-space:pre;overflow-x:auto;line-height:normal;font-family:Menlo,'DejaVu Sans Mono',consolas,'Courier New',monospace\"><span style=\"color: #808000; text-decoration-color: #808000; font-weight: bold\">DeprecationWarning: Kernel._parent_header is deprecated in ipykernel 6. Use .get_parent()</span> \n",
       "<span style=\"color: #000000; text-decoration-color: #000000; font-weight: bold\">(raised from /mnt/data/work/repos/workshops/memes/env/lib/python3.9/site-packages/ipywidgets/</span>\n",
       "<span style=\"color: #000000; text-decoration-color: #000000; font-weight: bold\">widgets/widget_output.py:111)</span>\n",
       "</pre>\n"
      ],
      "text/plain": [
       "\u001b[1;33mDeprecationWarning: Kernel._parent_header is deprecated in ipykernel 6. Use .get_parent()\u001b[0m \n",
       "\u001b[1;30m(raised from /mnt/data/work/repos/workshops/memes/env/lib/python3.9/site-packages/ipywidgets/\u001b[0m\n",
       "\u001b[1;30mwidgets/widget_output.py:111)\u001b[0m\n"
      ]
     },
     "metadata": {},
     "output_type": "display_data"
    },
    {
     "data": {
      "text/html": [
       "<pre style=\"white-space:pre;overflow-x:auto;line-height:normal;font-family:Menlo,'DejaVu Sans Mono',consolas,'Courier New',monospace\"><span style=\"color: #808000; text-decoration-color: #808000; font-weight: bold\">DeprecationWarning: Kernel._parent_header is deprecated in ipykernel 6. Use .get_parent()</span> \n",
       "<span style=\"color: #000000; text-decoration-color: #000000; font-weight: bold\">(raised from /mnt/data/work/repos/workshops/memes/env/lib/python3.9/site-packages/ipywidgets/</span>\n",
       "<span style=\"color: #000000; text-decoration-color: #000000; font-weight: bold\">widgets/widget_output.py:112)</span>\n",
       "</pre>\n"
      ],
      "text/plain": [
       "\u001b[1;33mDeprecationWarning: Kernel._parent_header is deprecated in ipykernel 6. Use .get_parent()\u001b[0m \n",
       "\u001b[1;30m(raised from /mnt/data/work/repos/workshops/memes/env/lib/python3.9/site-packages/ipywidgets/\u001b[0m\n",
       "\u001b[1;30mwidgets/widget_output.py:112)\u001b[0m\n"
      ]
     },
     "metadata": {},
     "output_type": "display_data"
    },
    {
     "data": {
      "text/html": [
       "<pre style=\"white-space:pre;overflow-x:auto;line-height:normal;font-family:Menlo,'DejaVu Sans Mono',consolas,'Courier New',monospace\"><span style=\"color: #808000; text-decoration-color: #808000; font-weight: bold\">DeprecationWarning: Kernel._parent_header is deprecated in ipykernel 6. Use .get_parent()</span> \n",
       "<span style=\"color: #000000; text-decoration-color: #000000; font-weight: bold\">(raised from /mnt/data/work/repos/workshops/memes/env/lib/python3.9/site-packages/ipywidgets/</span>\n",
       "<span style=\"color: #000000; text-decoration-color: #000000; font-weight: bold\">widgets/widget_output.py:111)</span>\n",
       "</pre>\n"
      ],
      "text/plain": [
       "\u001b[1;33mDeprecationWarning: Kernel._parent_header is deprecated in ipykernel 6. Use .get_parent()\u001b[0m \n",
       "\u001b[1;30m(raised from /mnt/data/work/repos/workshops/memes/env/lib/python3.9/site-packages/ipywidgets/\u001b[0m\n",
       "\u001b[1;30mwidgets/widget_output.py:111)\u001b[0m\n"
      ]
     },
     "metadata": {},
     "output_type": "display_data"
    },
    {
     "data": {
      "text/html": [
       "<pre style=\"white-space:pre;overflow-x:auto;line-height:normal;font-family:Menlo,'DejaVu Sans Mono',consolas,'Courier New',monospace\"><span style=\"color: #808000; text-decoration-color: #808000; font-weight: bold\">DeprecationWarning: Kernel._parent_header is deprecated in ipykernel 6. Use .get_parent()</span> \n",
       "<span style=\"color: #000000; text-decoration-color: #000000; font-weight: bold\">(raised from /mnt/data/work/repos/workshops/memes/env/lib/python3.9/site-packages/ipywidgets/</span>\n",
       "<span style=\"color: #000000; text-decoration-color: #000000; font-weight: bold\">widgets/widget_output.py:112)</span>\n",
       "</pre>\n"
      ],
      "text/plain": [
       "\u001b[1;33mDeprecationWarning: Kernel._parent_header is deprecated in ipykernel 6. Use .get_parent()\u001b[0m \n",
       "\u001b[1;30m(raised from /mnt/data/work/repos/workshops/memes/env/lib/python3.9/site-packages/ipywidgets/\u001b[0m\n",
       "\u001b[1;30mwidgets/widget_output.py:112)\u001b[0m\n"
      ]
     },
     "metadata": {},
     "output_type": "display_data"
    },
    {
     "data": {
      "text/html": [
       "<pre style=\"white-space:pre;overflow-x:auto;line-height:normal;font-family:Menlo,'DejaVu Sans Mono',consolas,'Courier New',monospace\"><span style=\"color: #808000; text-decoration-color: #808000; font-weight: bold\">DeprecationWarning: Kernel._parent_header is deprecated in ipykernel 6. Use .get_parent()</span> \n",
       "<span style=\"color: #000000; text-decoration-color: #000000; font-weight: bold\">(raised from /mnt/data/work/repos/workshops/memes/env/lib/python3.9/site-packages/ipywidgets/</span>\n",
       "<span style=\"color: #000000; text-decoration-color: #000000; font-weight: bold\">widgets/widget_output.py:111)</span>\n",
       "</pre>\n"
      ],
      "text/plain": [
       "\u001b[1;33mDeprecationWarning: Kernel._parent_header is deprecated in ipykernel 6. Use .get_parent()\u001b[0m \n",
       "\u001b[1;30m(raised from /mnt/data/work/repos/workshops/memes/env/lib/python3.9/site-packages/ipywidgets/\u001b[0m\n",
       "\u001b[1;30mwidgets/widget_output.py:111)\u001b[0m\n"
      ]
     },
     "metadata": {},
     "output_type": "display_data"
    },
    {
     "data": {
      "text/html": [
       "<pre style=\"white-space:pre;overflow-x:auto;line-height:normal;font-family:Menlo,'DejaVu Sans Mono',consolas,'Courier New',monospace\"><span style=\"color: #808000; text-decoration-color: #808000; font-weight: bold\">DeprecationWarning: Kernel._parent_header is deprecated in ipykernel 6. Use .get_parent()</span> \n",
       "<span style=\"color: #000000; text-decoration-color: #000000; font-weight: bold\">(raised from /mnt/data/work/repos/workshops/memes/env/lib/python3.9/site-packages/ipywidgets/</span>\n",
       "<span style=\"color: #000000; text-decoration-color: #000000; font-weight: bold\">widgets/widget_output.py:112)</span>\n",
       "</pre>\n"
      ],
      "text/plain": [
       "\u001b[1;33mDeprecationWarning: Kernel._parent_header is deprecated in ipykernel 6. Use .get_parent()\u001b[0m \n",
       "\u001b[1;30m(raised from /mnt/data/work/repos/workshops/memes/env/lib/python3.9/site-packages/ipywidgets/\u001b[0m\n",
       "\u001b[1;30mwidgets/widget_output.py:112)\u001b[0m\n"
      ]
     },
     "metadata": {},
     "output_type": "display_data"
    },
    {
     "data": {
      "text/html": [
       "<pre style=\"white-space:pre;overflow-x:auto;line-height:normal;font-family:Menlo,'DejaVu Sans Mono',consolas,'Courier New',monospace\"><span style=\"color: #808000; text-decoration-color: #808000; font-weight: bold\">DeprecationWarning: Kernel._parent_header is deprecated in ipykernel 6. Use .get_parent()</span> \n",
       "<span style=\"color: #000000; text-decoration-color: #000000; font-weight: bold\">(raised from /mnt/data/work/repos/workshops/memes/env/lib/python3.9/site-packages/ipywidgets/</span>\n",
       "<span style=\"color: #000000; text-decoration-color: #000000; font-weight: bold\">widgets/widget_output.py:111)</span>\n",
       "</pre>\n"
      ],
      "text/plain": [
       "\u001b[1;33mDeprecationWarning: Kernel._parent_header is deprecated in ipykernel 6. Use .get_parent()\u001b[0m \n",
       "\u001b[1;30m(raised from /mnt/data/work/repos/workshops/memes/env/lib/python3.9/site-packages/ipywidgets/\u001b[0m\n",
       "\u001b[1;30mwidgets/widget_output.py:111)\u001b[0m\n"
      ]
     },
     "metadata": {},
     "output_type": "display_data"
    },
    {
     "data": {
      "text/html": [
       "<pre style=\"white-space:pre;overflow-x:auto;line-height:normal;font-family:Menlo,'DejaVu Sans Mono',consolas,'Courier New',monospace\"><span style=\"color: #808000; text-decoration-color: #808000; font-weight: bold\">DeprecationWarning: Kernel._parent_header is deprecated in ipykernel 6. Use .get_parent()</span> \n",
       "<span style=\"color: #000000; text-decoration-color: #000000; font-weight: bold\">(raised from /mnt/data/work/repos/workshops/memes/env/lib/python3.9/site-packages/ipywidgets/</span>\n",
       "<span style=\"color: #000000; text-decoration-color: #000000; font-weight: bold\">widgets/widget_output.py:112)</span>\n",
       "</pre>\n"
      ],
      "text/plain": [
       "\u001b[1;33mDeprecationWarning: Kernel._parent_header is deprecated in ipykernel 6. Use .get_parent()\u001b[0m \n",
       "\u001b[1;30m(raised from /mnt/data/work/repos/workshops/memes/env/lib/python3.9/site-packages/ipywidgets/\u001b[0m\n",
       "\u001b[1;30mwidgets/widget_output.py:112)\u001b[0m\n"
      ]
     },
     "metadata": {},
     "output_type": "display_data"
    },
    {
     "data": {
      "text/html": [
       "<pre style=\"white-space:pre;overflow-x:auto;line-height:normal;font-family:Menlo,'DejaVu Sans Mono',consolas,'Courier New',monospace\"><span style=\"color: #808000; text-decoration-color: #808000; font-weight: bold\">DeprecationWarning: Kernel._parent_header is deprecated in ipykernel 6. Use .get_parent()</span> \n",
       "<span style=\"color: #000000; text-decoration-color: #000000; font-weight: bold\">(raised from /mnt/data/work/repos/workshops/memes/env/lib/python3.9/site-packages/ipywidgets/</span>\n",
       "<span style=\"color: #000000; text-decoration-color: #000000; font-weight: bold\">widgets/widget_output.py:111)</span>\n",
       "</pre>\n"
      ],
      "text/plain": [
       "\u001b[1;33mDeprecationWarning: Kernel._parent_header is deprecated in ipykernel 6. Use .get_parent()\u001b[0m \n",
       "\u001b[1;30m(raised from /mnt/data/work/repos/workshops/memes/env/lib/python3.9/site-packages/ipywidgets/\u001b[0m\n",
       "\u001b[1;30mwidgets/widget_output.py:111)\u001b[0m\n"
      ]
     },
     "metadata": {},
     "output_type": "display_data"
    },
    {
     "data": {
      "text/html": [
       "<pre style=\"white-space:pre;overflow-x:auto;line-height:normal;font-family:Menlo,'DejaVu Sans Mono',consolas,'Courier New',monospace\"><span style=\"color: #808000; text-decoration-color: #808000; font-weight: bold\">DeprecationWarning: Kernel._parent_header is deprecated in ipykernel 6. Use .get_parent()</span> \n",
       "<span style=\"color: #000000; text-decoration-color: #000000; font-weight: bold\">(raised from /mnt/data/work/repos/workshops/memes/env/lib/python3.9/site-packages/ipywidgets/</span>\n",
       "<span style=\"color: #000000; text-decoration-color: #000000; font-weight: bold\">widgets/widget_output.py:112)</span>\n",
       "</pre>\n"
      ],
      "text/plain": [
       "\u001b[1;33mDeprecationWarning: Kernel._parent_header is deprecated in ipykernel 6. Use .get_parent()\u001b[0m \n",
       "\u001b[1;30m(raised from /mnt/data/work/repos/workshops/memes/env/lib/python3.9/site-packages/ipywidgets/\u001b[0m\n",
       "\u001b[1;30mwidgets/widget_output.py:112)\u001b[0m\n"
      ]
     },
     "metadata": {},
     "output_type": "display_data"
    },
    {
     "data": {
      "text/html": [
       "<pre style=\"white-space:pre;overflow-x:auto;line-height:normal;font-family:Menlo,'DejaVu Sans Mono',consolas,'Courier New',monospace\"><span style=\"color: #808000; text-decoration-color: #808000; font-weight: bold\">DeprecationWarning: Kernel._parent_header is deprecated in ipykernel 6. Use .get_parent()</span> \n",
       "<span style=\"color: #000000; text-decoration-color: #000000; font-weight: bold\">(raised from /mnt/data/work/repos/workshops/memes/env/lib/python3.9/site-packages/ipywidgets/</span>\n",
       "<span style=\"color: #000000; text-decoration-color: #000000; font-weight: bold\">widgets/widget_output.py:111)</span>\n",
       "</pre>\n"
      ],
      "text/plain": [
       "\u001b[1;33mDeprecationWarning: Kernel._parent_header is deprecated in ipykernel 6. Use .get_parent()\u001b[0m \n",
       "\u001b[1;30m(raised from /mnt/data/work/repos/workshops/memes/env/lib/python3.9/site-packages/ipywidgets/\u001b[0m\n",
       "\u001b[1;30mwidgets/widget_output.py:111)\u001b[0m\n"
      ]
     },
     "metadata": {},
     "output_type": "display_data"
    },
    {
     "data": {
      "text/html": [
       "<pre style=\"white-space:pre;overflow-x:auto;line-height:normal;font-family:Menlo,'DejaVu Sans Mono',consolas,'Courier New',monospace\"><span style=\"color: #808000; text-decoration-color: #808000; font-weight: bold\">DeprecationWarning: Kernel._parent_header is deprecated in ipykernel 6. Use .get_parent()</span> \n",
       "<span style=\"color: #000000; text-decoration-color: #000000; font-weight: bold\">(raised from /mnt/data/work/repos/workshops/memes/env/lib/python3.9/site-packages/ipywidgets/</span>\n",
       "<span style=\"color: #000000; text-decoration-color: #000000; font-weight: bold\">widgets/widget_output.py:112)</span>\n",
       "</pre>\n"
      ],
      "text/plain": [
       "\u001b[1;33mDeprecationWarning: Kernel._parent_header is deprecated in ipykernel 6. Use .get_parent()\u001b[0m \n",
       "\u001b[1;30m(raised from /mnt/data/work/repos/workshops/memes/env/lib/python3.9/site-packages/ipywidgets/\u001b[0m\n",
       "\u001b[1;30mwidgets/widget_output.py:112)\u001b[0m\n"
      ]
     },
     "metadata": {},
     "output_type": "display_data"
    },
    {
     "data": {
      "text/html": [
       "<pre style=\"white-space:pre;overflow-x:auto;line-height:normal;font-family:Menlo,'DejaVu Sans Mono',consolas,'Courier New',monospace\"><span style=\"color: #808000; text-decoration-color: #808000; font-weight: bold\">DeprecationWarning: Kernel._parent_header is deprecated in ipykernel 6. Use .get_parent()</span> \n",
       "<span style=\"color: #000000; text-decoration-color: #000000; font-weight: bold\">(raised from /mnt/data/work/repos/workshops/memes/env/lib/python3.9/site-packages/ipywidgets/</span>\n",
       "<span style=\"color: #000000; text-decoration-color: #000000; font-weight: bold\">widgets/widget_output.py:111)</span>\n",
       "</pre>\n"
      ],
      "text/plain": [
       "\u001b[1;33mDeprecationWarning: Kernel._parent_header is deprecated in ipykernel 6. Use .get_parent()\u001b[0m \n",
       "\u001b[1;30m(raised from /mnt/data/work/repos/workshops/memes/env/lib/python3.9/site-packages/ipywidgets/\u001b[0m\n",
       "\u001b[1;30mwidgets/widget_output.py:111)\u001b[0m\n"
      ]
     },
     "metadata": {},
     "output_type": "display_data"
    },
    {
     "data": {
      "text/html": [
       "<pre style=\"white-space:pre;overflow-x:auto;line-height:normal;font-family:Menlo,'DejaVu Sans Mono',consolas,'Courier New',monospace\"><span style=\"color: #808000; text-decoration-color: #808000; font-weight: bold\">DeprecationWarning: Kernel._parent_header is deprecated in ipykernel 6. Use .get_parent()</span> \n",
       "<span style=\"color: #000000; text-decoration-color: #000000; font-weight: bold\">(raised from /mnt/data/work/repos/workshops/memes/env/lib/python3.9/site-packages/ipywidgets/</span>\n",
       "<span style=\"color: #000000; text-decoration-color: #000000; font-weight: bold\">widgets/widget_output.py:112)</span>\n",
       "</pre>\n"
      ],
      "text/plain": [
       "\u001b[1;33mDeprecationWarning: Kernel._parent_header is deprecated in ipykernel 6. Use .get_parent()\u001b[0m \n",
       "\u001b[1;30m(raised from /mnt/data/work/repos/workshops/memes/env/lib/python3.9/site-packages/ipywidgets/\u001b[0m\n",
       "\u001b[1;30mwidgets/widget_output.py:112)\u001b[0m\n"
      ]
     },
     "metadata": {},
     "output_type": "display_data"
    },
    {
     "data": {
      "text/html": [
       "<pre style=\"white-space:pre;overflow-x:auto;line-height:normal;font-family:Menlo,'DejaVu Sans Mono',consolas,'Courier New',monospace\"><span style=\"color: #808000; text-decoration-color: #808000; font-weight: bold\">DeprecationWarning: Kernel._parent_header is deprecated in ipykernel 6. Use .get_parent()</span> \n",
       "<span style=\"color: #000000; text-decoration-color: #000000; font-weight: bold\">(raised from /mnt/data/work/repos/workshops/memes/env/lib/python3.9/site-packages/ipywidgets/</span>\n",
       "<span style=\"color: #000000; text-decoration-color: #000000; font-weight: bold\">widgets/widget_output.py:111)</span>\n",
       "</pre>\n"
      ],
      "text/plain": [
       "\u001b[1;33mDeprecationWarning: Kernel._parent_header is deprecated in ipykernel 6. Use .get_parent()\u001b[0m \n",
       "\u001b[1;30m(raised from /mnt/data/work/repos/workshops/memes/env/lib/python3.9/site-packages/ipywidgets/\u001b[0m\n",
       "\u001b[1;30mwidgets/widget_output.py:111)\u001b[0m\n"
      ]
     },
     "metadata": {},
     "output_type": "display_data"
    },
    {
     "data": {
      "text/html": [
       "<pre style=\"white-space:pre;overflow-x:auto;line-height:normal;font-family:Menlo,'DejaVu Sans Mono',consolas,'Courier New',monospace\"><span style=\"color: #808000; text-decoration-color: #808000; font-weight: bold\">DeprecationWarning: Kernel._parent_header is deprecated in ipykernel 6. Use .get_parent()</span> \n",
       "<span style=\"color: #000000; text-decoration-color: #000000; font-weight: bold\">(raised from /mnt/data/work/repos/workshops/memes/env/lib/python3.9/site-packages/ipywidgets/</span>\n",
       "<span style=\"color: #000000; text-decoration-color: #000000; font-weight: bold\">widgets/widget_output.py:112)</span>\n",
       "</pre>\n"
      ],
      "text/plain": [
       "\u001b[1;33mDeprecationWarning: Kernel._parent_header is deprecated in ipykernel 6. Use .get_parent()\u001b[0m \n",
       "\u001b[1;30m(raised from /mnt/data/work/repos/workshops/memes/env/lib/python3.9/site-packages/ipywidgets/\u001b[0m\n",
       "\u001b[1;30mwidgets/widget_output.py:112)\u001b[0m\n"
      ]
     },
     "metadata": {},
     "output_type": "display_data"
    },
    {
     "data": {
      "text/html": [
       "<pre style=\"white-space:pre;overflow-x:auto;line-height:normal;font-family:Menlo,'DejaVu Sans Mono',consolas,'Courier New',monospace\"><span style=\"color: #808000; text-decoration-color: #808000; font-weight: bold\">DeprecationWarning: Kernel._parent_header is deprecated in ipykernel 6. Use .get_parent()</span> \n",
       "<span style=\"color: #000000; text-decoration-color: #000000; font-weight: bold\">(raised from /mnt/data/work/repos/workshops/memes/env/lib/python3.9/site-packages/ipywidgets/</span>\n",
       "<span style=\"color: #000000; text-decoration-color: #000000; font-weight: bold\">widgets/widget_output.py:111)</span>\n",
       "</pre>\n"
      ],
      "text/plain": [
       "\u001b[1;33mDeprecationWarning: Kernel._parent_header is deprecated in ipykernel 6. Use .get_parent()\u001b[0m \n",
       "\u001b[1;30m(raised from /mnt/data/work/repos/workshops/memes/env/lib/python3.9/site-packages/ipywidgets/\u001b[0m\n",
       "\u001b[1;30mwidgets/widget_output.py:111)\u001b[0m\n"
      ]
     },
     "metadata": {},
     "output_type": "display_data"
    },
    {
     "data": {
      "text/html": [
       "<pre style=\"white-space:pre;overflow-x:auto;line-height:normal;font-family:Menlo,'DejaVu Sans Mono',consolas,'Courier New',monospace\"><span style=\"color: #808000; text-decoration-color: #808000; font-weight: bold\">DeprecationWarning: Kernel._parent_header is deprecated in ipykernel 6. Use .get_parent()</span> \n",
       "<span style=\"color: #000000; text-decoration-color: #000000; font-weight: bold\">(raised from /mnt/data/work/repos/workshops/memes/env/lib/python3.9/site-packages/ipywidgets/</span>\n",
       "<span style=\"color: #000000; text-decoration-color: #000000; font-weight: bold\">widgets/widget_output.py:112)</span>\n",
       "</pre>\n"
      ],
      "text/plain": [
       "\u001b[1;33mDeprecationWarning: Kernel._parent_header is deprecated in ipykernel 6. Use .get_parent()\u001b[0m \n",
       "\u001b[1;30m(raised from /mnt/data/work/repos/workshops/memes/env/lib/python3.9/site-packages/ipywidgets/\u001b[0m\n",
       "\u001b[1;30mwidgets/widget_output.py:112)\u001b[0m\n"
      ]
     },
     "metadata": {},
     "output_type": "display_data"
    },
    {
     "data": {
      "text/html": [
       "<pre style=\"white-space:pre;overflow-x:auto;line-height:normal;font-family:Menlo,'DejaVu Sans Mono',consolas,'Courier New',monospace\"><span style=\"color: #808000; text-decoration-color: #808000; font-weight: bold\">DeprecationWarning: Kernel._parent_header is deprecated in ipykernel 6. Use .get_parent()</span> \n",
       "<span style=\"color: #000000; text-decoration-color: #000000; font-weight: bold\">(raised from /mnt/data/work/repos/workshops/memes/env/lib/python3.9/site-packages/ipywidgets/</span>\n",
       "<span style=\"color: #000000; text-decoration-color: #000000; font-weight: bold\">widgets/widget_output.py:111)</span>\n",
       "</pre>\n"
      ],
      "text/plain": [
       "\u001b[1;33mDeprecationWarning: Kernel._parent_header is deprecated in ipykernel 6. Use .get_parent()\u001b[0m \n",
       "\u001b[1;30m(raised from /mnt/data/work/repos/workshops/memes/env/lib/python3.9/site-packages/ipywidgets/\u001b[0m\n",
       "\u001b[1;30mwidgets/widget_output.py:111)\u001b[0m\n"
      ]
     },
     "metadata": {},
     "output_type": "display_data"
    },
    {
     "data": {
      "text/html": [
       "<pre style=\"white-space:pre;overflow-x:auto;line-height:normal;font-family:Menlo,'DejaVu Sans Mono',consolas,'Courier New',monospace\"><span style=\"color: #808000; text-decoration-color: #808000; font-weight: bold\">DeprecationWarning: Kernel._parent_header is deprecated in ipykernel 6. Use .get_parent()</span> \n",
       "<span style=\"color: #000000; text-decoration-color: #000000; font-weight: bold\">(raised from /mnt/data/work/repos/workshops/memes/env/lib/python3.9/site-packages/ipywidgets/</span>\n",
       "<span style=\"color: #000000; text-decoration-color: #000000; font-weight: bold\">widgets/widget_output.py:112)</span>\n",
       "</pre>\n"
      ],
      "text/plain": [
       "\u001b[1;33mDeprecationWarning: Kernel._parent_header is deprecated in ipykernel 6. Use .get_parent()\u001b[0m \n",
       "\u001b[1;30m(raised from /mnt/data/work/repos/workshops/memes/env/lib/python3.9/site-packages/ipywidgets/\u001b[0m\n",
       "\u001b[1;30mwidgets/widget_output.py:112)\u001b[0m\n"
      ]
     },
     "metadata": {},
     "output_type": "display_data"
    },
    {
     "data": {
      "text/html": [
       "<pre style=\"white-space:pre;overflow-x:auto;line-height:normal;font-family:Menlo,'DejaVu Sans Mono',consolas,'Courier New',monospace\"><span style=\"color: #808000; text-decoration-color: #808000; font-weight: bold\">DeprecationWarning: Kernel._parent_header is deprecated in ipykernel 6. Use .get_parent()</span> \n",
       "<span style=\"color: #000000; text-decoration-color: #000000; font-weight: bold\">(raised from /mnt/data/work/repos/workshops/memes/env/lib/python3.9/site-packages/ipywidgets/</span>\n",
       "<span style=\"color: #000000; text-decoration-color: #000000; font-weight: bold\">widgets/widget_output.py:111)</span>\n",
       "</pre>\n"
      ],
      "text/plain": [
       "\u001b[1;33mDeprecationWarning: Kernel._parent_header is deprecated in ipykernel 6. Use .get_parent()\u001b[0m \n",
       "\u001b[1;30m(raised from /mnt/data/work/repos/workshops/memes/env/lib/python3.9/site-packages/ipywidgets/\u001b[0m\n",
       "\u001b[1;30mwidgets/widget_output.py:111)\u001b[0m\n"
      ]
     },
     "metadata": {},
     "output_type": "display_data"
    },
    {
     "data": {
      "text/html": [
       "<pre style=\"white-space:pre;overflow-x:auto;line-height:normal;font-family:Menlo,'DejaVu Sans Mono',consolas,'Courier New',monospace\"><span style=\"color: #808000; text-decoration-color: #808000; font-weight: bold\">DeprecationWarning: Kernel._parent_header is deprecated in ipykernel 6. Use .get_parent()</span> \n",
       "<span style=\"color: #000000; text-decoration-color: #000000; font-weight: bold\">(raised from /mnt/data/work/repos/workshops/memes/env/lib/python3.9/site-packages/ipywidgets/</span>\n",
       "<span style=\"color: #000000; text-decoration-color: #000000; font-weight: bold\">widgets/widget_output.py:112)</span>\n",
       "</pre>\n"
      ],
      "text/plain": [
       "\u001b[1;33mDeprecationWarning: Kernel._parent_header is deprecated in ipykernel 6. Use .get_parent()\u001b[0m \n",
       "\u001b[1;30m(raised from /mnt/data/work/repos/workshops/memes/env/lib/python3.9/site-packages/ipywidgets/\u001b[0m\n",
       "\u001b[1;30mwidgets/widget_output.py:112)\u001b[0m\n"
      ]
     },
     "metadata": {},
     "output_type": "display_data"
    },
    {
     "data": {
      "text/html": [
       "<pre style=\"white-space:pre;overflow-x:auto;line-height:normal;font-family:Menlo,'DejaVu Sans Mono',consolas,'Courier New',monospace\"><span style=\"color: #808000; text-decoration-color: #808000; font-weight: bold\">DeprecationWarning: Kernel._parent_header is deprecated in ipykernel 6. Use .get_parent()</span> \n",
       "<span style=\"color: #000000; text-decoration-color: #000000; font-weight: bold\">(raised from /mnt/data/work/repos/workshops/memes/env/lib/python3.9/site-packages/ipywidgets/</span>\n",
       "<span style=\"color: #000000; text-decoration-color: #000000; font-weight: bold\">widgets/widget_output.py:111)</span>\n",
       "</pre>\n"
      ],
      "text/plain": [
       "\u001b[1;33mDeprecationWarning: Kernel._parent_header is deprecated in ipykernel 6. Use .get_parent()\u001b[0m \n",
       "\u001b[1;30m(raised from /mnt/data/work/repos/workshops/memes/env/lib/python3.9/site-packages/ipywidgets/\u001b[0m\n",
       "\u001b[1;30mwidgets/widget_output.py:111)\u001b[0m\n"
      ]
     },
     "metadata": {},
     "output_type": "display_data"
    },
    {
     "data": {
      "text/html": [
       "<pre style=\"white-space:pre;overflow-x:auto;line-height:normal;font-family:Menlo,'DejaVu Sans Mono',consolas,'Courier New',monospace\"><span style=\"color: #808000; text-decoration-color: #808000; font-weight: bold\">DeprecationWarning: Kernel._parent_header is deprecated in ipykernel 6. Use .get_parent()</span> \n",
       "<span style=\"color: #000000; text-decoration-color: #000000; font-weight: bold\">(raised from /mnt/data/work/repos/workshops/memes/env/lib/python3.9/site-packages/ipywidgets/</span>\n",
       "<span style=\"color: #000000; text-decoration-color: #000000; font-weight: bold\">widgets/widget_output.py:112)</span>\n",
       "</pre>\n"
      ],
      "text/plain": [
       "\u001b[1;33mDeprecationWarning: Kernel._parent_header is deprecated in ipykernel 6. Use .get_parent()\u001b[0m \n",
       "\u001b[1;30m(raised from /mnt/data/work/repos/workshops/memes/env/lib/python3.9/site-packages/ipywidgets/\u001b[0m\n",
       "\u001b[1;30mwidgets/widget_output.py:112)\u001b[0m\n"
      ]
     },
     "metadata": {},
     "output_type": "display_data"
    },
    {
     "data": {
      "text/html": [
       "<pre style=\"white-space:pre;overflow-x:auto;line-height:normal;font-family:Menlo,'DejaVu Sans Mono',consolas,'Courier New',monospace\"><span style=\"color: #808000; text-decoration-color: #808000; font-weight: bold\">DeprecationWarning: Kernel._parent_header is deprecated in ipykernel 6. Use .get_parent()</span> \n",
       "<span style=\"color: #000000; text-decoration-color: #000000; font-weight: bold\">(raised from /mnt/data/work/repos/workshops/memes/env/lib/python3.9/site-packages/ipywidgets/</span>\n",
       "<span style=\"color: #000000; text-decoration-color: #000000; font-weight: bold\">widgets/widget_output.py:111)</span>\n",
       "</pre>\n"
      ],
      "text/plain": [
       "\u001b[1;33mDeprecationWarning: Kernel._parent_header is deprecated in ipykernel 6. Use .get_parent()\u001b[0m \n",
       "\u001b[1;30m(raised from /mnt/data/work/repos/workshops/memes/env/lib/python3.9/site-packages/ipywidgets/\u001b[0m\n",
       "\u001b[1;30mwidgets/widget_output.py:111)\u001b[0m\n"
      ]
     },
     "metadata": {},
     "output_type": "display_data"
    },
    {
     "data": {
      "text/html": [
       "<pre style=\"white-space:pre;overflow-x:auto;line-height:normal;font-family:Menlo,'DejaVu Sans Mono',consolas,'Courier New',monospace\"><span style=\"color: #808000; text-decoration-color: #808000; font-weight: bold\">DeprecationWarning: Kernel._parent_header is deprecated in ipykernel 6. Use .get_parent()</span> \n",
       "<span style=\"color: #000000; text-decoration-color: #000000; font-weight: bold\">(raised from /mnt/data/work/repos/workshops/memes/env/lib/python3.9/site-packages/ipywidgets/</span>\n",
       "<span style=\"color: #000000; text-decoration-color: #000000; font-weight: bold\">widgets/widget_output.py:112)</span>\n",
       "</pre>\n"
      ],
      "text/plain": [
       "\u001b[1;33mDeprecationWarning: Kernel._parent_header is deprecated in ipykernel 6. Use .get_parent()\u001b[0m \n",
       "\u001b[1;30m(raised from /mnt/data/work/repos/workshops/memes/env/lib/python3.9/site-packages/ipywidgets/\u001b[0m\n",
       "\u001b[1;30mwidgets/widget_output.py:112)\u001b[0m\n"
      ]
     },
     "metadata": {},
     "output_type": "display_data"
    },
    {
     "data": {
      "text/html": [
       "<pre style=\"white-space:pre;overflow-x:auto;line-height:normal;font-family:Menlo,'DejaVu Sans Mono',consolas,'Courier New',monospace\"><span style=\"color: #808000; text-decoration-color: #808000; font-weight: bold\">DeprecationWarning: Kernel._parent_header is deprecated in ipykernel 6. Use .get_parent()</span> \n",
       "<span style=\"color: #000000; text-decoration-color: #000000; font-weight: bold\">(raised from /mnt/data/work/repos/workshops/memes/env/lib/python3.9/site-packages/ipywidgets/</span>\n",
       "<span style=\"color: #000000; text-decoration-color: #000000; font-weight: bold\">widgets/widget_output.py:111)</span>\n",
       "</pre>\n"
      ],
      "text/plain": [
       "\u001b[1;33mDeprecationWarning: Kernel._parent_header is deprecated in ipykernel 6. Use .get_parent()\u001b[0m \n",
       "\u001b[1;30m(raised from /mnt/data/work/repos/workshops/memes/env/lib/python3.9/site-packages/ipywidgets/\u001b[0m\n",
       "\u001b[1;30mwidgets/widget_output.py:111)\u001b[0m\n"
      ]
     },
     "metadata": {},
     "output_type": "display_data"
    },
    {
     "data": {
      "text/html": [
       "<pre style=\"white-space:pre;overflow-x:auto;line-height:normal;font-family:Menlo,'DejaVu Sans Mono',consolas,'Courier New',monospace\"><span style=\"color: #808000; text-decoration-color: #808000; font-weight: bold\">DeprecationWarning: Kernel._parent_header is deprecated in ipykernel 6. Use .get_parent()</span> \n",
       "<span style=\"color: #000000; text-decoration-color: #000000; font-weight: bold\">(raised from /mnt/data/work/repos/workshops/memes/env/lib/python3.9/site-packages/ipywidgets/</span>\n",
       "<span style=\"color: #000000; text-decoration-color: #000000; font-weight: bold\">widgets/widget_output.py:112)</span>\n",
       "</pre>\n"
      ],
      "text/plain": [
       "\u001b[1;33mDeprecationWarning: Kernel._parent_header is deprecated in ipykernel 6. Use .get_parent()\u001b[0m \n",
       "\u001b[1;30m(raised from /mnt/data/work/repos/workshops/memes/env/lib/python3.9/site-packages/ipywidgets/\u001b[0m\n",
       "\u001b[1;30mwidgets/widget_output.py:112)\u001b[0m\n"
      ]
     },
     "metadata": {},
     "output_type": "display_data"
    },
    {
     "data": {
      "text/html": [
       "<pre style=\"white-space:pre;overflow-x:auto;line-height:normal;font-family:Menlo,'DejaVu Sans Mono',consolas,'Courier New',monospace\"><span style=\"color: #808000; text-decoration-color: #808000; font-weight: bold\">DeprecationWarning: Kernel._parent_header is deprecated in ipykernel 6. Use .get_parent()</span> \n",
       "<span style=\"color: #000000; text-decoration-color: #000000; font-weight: bold\">(raised from /mnt/data/work/repos/workshops/memes/env/lib/python3.9/site-packages/ipywidgets/</span>\n",
       "<span style=\"color: #000000; text-decoration-color: #000000; font-weight: bold\">widgets/widget_output.py:111)</span>\n",
       "</pre>\n"
      ],
      "text/plain": [
       "\u001b[1;33mDeprecationWarning: Kernel._parent_header is deprecated in ipykernel 6. Use .get_parent()\u001b[0m \n",
       "\u001b[1;30m(raised from /mnt/data/work/repos/workshops/memes/env/lib/python3.9/site-packages/ipywidgets/\u001b[0m\n",
       "\u001b[1;30mwidgets/widget_output.py:111)\u001b[0m\n"
      ]
     },
     "metadata": {},
     "output_type": "display_data"
    },
    {
     "data": {
      "text/html": [
       "<pre style=\"white-space:pre;overflow-x:auto;line-height:normal;font-family:Menlo,'DejaVu Sans Mono',consolas,'Courier New',monospace\"><span style=\"color: #808000; text-decoration-color: #808000; font-weight: bold\">DeprecationWarning: Kernel._parent_header is deprecated in ipykernel 6. Use .get_parent()</span> \n",
       "<span style=\"color: #000000; text-decoration-color: #000000; font-weight: bold\">(raised from /mnt/data/work/repos/workshops/memes/env/lib/python3.9/site-packages/ipywidgets/</span>\n",
       "<span style=\"color: #000000; text-decoration-color: #000000; font-weight: bold\">widgets/widget_output.py:112)</span>\n",
       "</pre>\n"
      ],
      "text/plain": [
       "\u001b[1;33mDeprecationWarning: Kernel._parent_header is deprecated in ipykernel 6. Use .get_parent()\u001b[0m \n",
       "\u001b[1;30m(raised from /mnt/data/work/repos/workshops/memes/env/lib/python3.9/site-packages/ipywidgets/\u001b[0m\n",
       "\u001b[1;30mwidgets/widget_output.py:112)\u001b[0m\n"
      ]
     },
     "metadata": {},
     "output_type": "display_data"
    },
    {
     "data": {
      "text/html": [
       "<pre style=\"white-space:pre;overflow-x:auto;line-height:normal;font-family:Menlo,'DejaVu Sans Mono',consolas,'Courier New',monospace\"><span style=\"color: #808000; text-decoration-color: #808000; font-weight: bold\">DeprecationWarning: Kernel._parent_header is deprecated in ipykernel 6. Use .get_parent()</span> \n",
       "<span style=\"color: #000000; text-decoration-color: #000000; font-weight: bold\">(raised from /mnt/data/work/repos/workshops/memes/env/lib/python3.9/site-packages/ipywidgets/</span>\n",
       "<span style=\"color: #000000; text-decoration-color: #000000; font-weight: bold\">widgets/widget_output.py:111)</span>\n",
       "</pre>\n"
      ],
      "text/plain": [
       "\u001b[1;33mDeprecationWarning: Kernel._parent_header is deprecated in ipykernel 6. Use .get_parent()\u001b[0m \n",
       "\u001b[1;30m(raised from /mnt/data/work/repos/workshops/memes/env/lib/python3.9/site-packages/ipywidgets/\u001b[0m\n",
       "\u001b[1;30mwidgets/widget_output.py:111)\u001b[0m\n"
      ]
     },
     "metadata": {},
     "output_type": "display_data"
    },
    {
     "data": {
      "text/html": [
       "<pre style=\"white-space:pre;overflow-x:auto;line-height:normal;font-family:Menlo,'DejaVu Sans Mono',consolas,'Courier New',monospace\"><span style=\"color: #808000; text-decoration-color: #808000; font-weight: bold\">DeprecationWarning: Kernel._parent_header is deprecated in ipykernel 6. Use .get_parent()</span> \n",
       "<span style=\"color: #000000; text-decoration-color: #000000; font-weight: bold\">(raised from /mnt/data/work/repos/workshops/memes/env/lib/python3.9/site-packages/ipywidgets/</span>\n",
       "<span style=\"color: #000000; text-decoration-color: #000000; font-weight: bold\">widgets/widget_output.py:112)</span>\n",
       "</pre>\n"
      ],
      "text/plain": [
       "\u001b[1;33mDeprecationWarning: Kernel._parent_header is deprecated in ipykernel 6. Use .get_parent()\u001b[0m \n",
       "\u001b[1;30m(raised from /mnt/data/work/repos/workshops/memes/env/lib/python3.9/site-packages/ipywidgets/\u001b[0m\n",
       "\u001b[1;30mwidgets/widget_output.py:112)\u001b[0m\n"
      ]
     },
     "metadata": {},
     "output_type": "display_data"
    },
    {
     "data": {
      "text/html": [
       "<pre style=\"white-space:pre;overflow-x:auto;line-height:normal;font-family:Menlo,'DejaVu Sans Mono',consolas,'Courier New',monospace\"><span style=\"color: #808000; text-decoration-color: #808000; font-weight: bold\">DeprecationWarning: Kernel._parent_header is deprecated in ipykernel 6. Use .get_parent()</span> \n",
       "<span style=\"color: #000000; text-decoration-color: #000000; font-weight: bold\">(raised from /mnt/data/work/repos/workshops/memes/env/lib/python3.9/site-packages/ipywidgets/</span>\n",
       "<span style=\"color: #000000; text-decoration-color: #000000; font-weight: bold\">widgets/widget_output.py:111)</span>\n",
       "</pre>\n"
      ],
      "text/plain": [
       "\u001b[1;33mDeprecationWarning: Kernel._parent_header is deprecated in ipykernel 6. Use .get_parent()\u001b[0m \n",
       "\u001b[1;30m(raised from /mnt/data/work/repos/workshops/memes/env/lib/python3.9/site-packages/ipywidgets/\u001b[0m\n",
       "\u001b[1;30mwidgets/widget_output.py:111)\u001b[0m\n"
      ]
     },
     "metadata": {},
     "output_type": "display_data"
    },
    {
     "data": {
      "text/html": [
       "<pre style=\"white-space:pre;overflow-x:auto;line-height:normal;font-family:Menlo,'DejaVu Sans Mono',consolas,'Courier New',monospace\"><span style=\"color: #808000; text-decoration-color: #808000; font-weight: bold\">DeprecationWarning: Kernel._parent_header is deprecated in ipykernel 6. Use .get_parent()</span> \n",
       "<span style=\"color: #000000; text-decoration-color: #000000; font-weight: bold\">(raised from /mnt/data/work/repos/workshops/memes/env/lib/python3.9/site-packages/ipywidgets/</span>\n",
       "<span style=\"color: #000000; text-decoration-color: #000000; font-weight: bold\">widgets/widget_output.py:112)</span>\n",
       "</pre>\n"
      ],
      "text/plain": [
       "\u001b[1;33mDeprecationWarning: Kernel._parent_header is deprecated in ipykernel 6. Use .get_parent()\u001b[0m \n",
       "\u001b[1;30m(raised from /mnt/data/work/repos/workshops/memes/env/lib/python3.9/site-packages/ipywidgets/\u001b[0m\n",
       "\u001b[1;30mwidgets/widget_output.py:112)\u001b[0m\n"
      ]
     },
     "metadata": {},
     "output_type": "display_data"
    },
    {
     "data": {
      "text/html": [
       "<pre style=\"white-space:pre;overflow-x:auto;line-height:normal;font-family:Menlo,'DejaVu Sans Mono',consolas,'Courier New',monospace\"><span style=\"color: #808000; text-decoration-color: #808000; font-weight: bold\">DeprecationWarning: Kernel._parent_header is deprecated in ipykernel 6. Use .get_parent()</span> \n",
       "<span style=\"color: #000000; text-decoration-color: #000000; font-weight: bold\">(raised from /mnt/data/work/repos/workshops/memes/env/lib/python3.9/site-packages/ipywidgets/</span>\n",
       "<span style=\"color: #000000; text-decoration-color: #000000; font-weight: bold\">widgets/widget_output.py:111)</span>\n",
       "</pre>\n"
      ],
      "text/plain": [
       "\u001b[1;33mDeprecationWarning: Kernel._parent_header is deprecated in ipykernel 6. Use .get_parent()\u001b[0m \n",
       "\u001b[1;30m(raised from /mnt/data/work/repos/workshops/memes/env/lib/python3.9/site-packages/ipywidgets/\u001b[0m\n",
       "\u001b[1;30mwidgets/widget_output.py:111)\u001b[0m\n"
      ]
     },
     "metadata": {},
     "output_type": "display_data"
    },
    {
     "data": {
      "text/html": [
       "<pre style=\"white-space:pre;overflow-x:auto;line-height:normal;font-family:Menlo,'DejaVu Sans Mono',consolas,'Courier New',monospace\"><span style=\"color: #808000; text-decoration-color: #808000; font-weight: bold\">DeprecationWarning: Kernel._parent_header is deprecated in ipykernel 6. Use .get_parent()</span> \n",
       "<span style=\"color: #000000; text-decoration-color: #000000; font-weight: bold\">(raised from /mnt/data/work/repos/workshops/memes/env/lib/python3.9/site-packages/ipywidgets/</span>\n",
       "<span style=\"color: #000000; text-decoration-color: #000000; font-weight: bold\">widgets/widget_output.py:112)</span>\n",
       "</pre>\n"
      ],
      "text/plain": [
       "\u001b[1;33mDeprecationWarning: Kernel._parent_header is deprecated in ipykernel 6. Use .get_parent()\u001b[0m \n",
       "\u001b[1;30m(raised from /mnt/data/work/repos/workshops/memes/env/lib/python3.9/site-packages/ipywidgets/\u001b[0m\n",
       "\u001b[1;30mwidgets/widget_output.py:112)\u001b[0m\n"
      ]
     },
     "metadata": {},
     "output_type": "display_data"
    },
    {
     "data": {
      "text/html": [
       "<pre style=\"white-space:pre;overflow-x:auto;line-height:normal;font-family:Menlo,'DejaVu Sans Mono',consolas,'Courier New',monospace\"><span style=\"color: #808000; text-decoration-color: #808000; font-weight: bold\">DeprecationWarning: Kernel._parent_header is deprecated in ipykernel 6. Use .get_parent()</span> \n",
       "<span style=\"color: #000000; text-decoration-color: #000000; font-weight: bold\">(raised from /mnt/data/work/repos/workshops/memes/env/lib/python3.9/site-packages/ipywidgets/</span>\n",
       "<span style=\"color: #000000; text-decoration-color: #000000; font-weight: bold\">widgets/widget_output.py:111)</span>\n",
       "</pre>\n"
      ],
      "text/plain": [
       "\u001b[1;33mDeprecationWarning: Kernel._parent_header is deprecated in ipykernel 6. Use .get_parent()\u001b[0m \n",
       "\u001b[1;30m(raised from /mnt/data/work/repos/workshops/memes/env/lib/python3.9/site-packages/ipywidgets/\u001b[0m\n",
       "\u001b[1;30mwidgets/widget_output.py:111)\u001b[0m\n"
      ]
     },
     "metadata": {},
     "output_type": "display_data"
    },
    {
     "data": {
      "text/html": [
       "<pre style=\"white-space:pre;overflow-x:auto;line-height:normal;font-family:Menlo,'DejaVu Sans Mono',consolas,'Courier New',monospace\"><span style=\"color: #808000; text-decoration-color: #808000; font-weight: bold\">DeprecationWarning: Kernel._parent_header is deprecated in ipykernel 6. Use .get_parent()</span> \n",
       "<span style=\"color: #000000; text-decoration-color: #000000; font-weight: bold\">(raised from /mnt/data/work/repos/workshops/memes/env/lib/python3.9/site-packages/ipywidgets/</span>\n",
       "<span style=\"color: #000000; text-decoration-color: #000000; font-weight: bold\">widgets/widget_output.py:112)</span>\n",
       "</pre>\n"
      ],
      "text/plain": [
       "\u001b[1;33mDeprecationWarning: Kernel._parent_header is deprecated in ipykernel 6. Use .get_parent()\u001b[0m \n",
       "\u001b[1;30m(raised from /mnt/data/work/repos/workshops/memes/env/lib/python3.9/site-packages/ipywidgets/\u001b[0m\n",
       "\u001b[1;30mwidgets/widget_output.py:112)\u001b[0m\n"
      ]
     },
     "metadata": {},
     "output_type": "display_data"
    },
    {
     "data": {
      "text/html": [
       "<pre style=\"white-space:pre;overflow-x:auto;line-height:normal;font-family:Menlo,'DejaVu Sans Mono',consolas,'Courier New',monospace\"><span style=\"color: #808000; text-decoration-color: #808000; font-weight: bold\">DeprecationWarning: Kernel._parent_header is deprecated in ipykernel 6. Use .get_parent()</span> \n",
       "<span style=\"color: #000000; text-decoration-color: #000000; font-weight: bold\">(raised from /mnt/data/work/repos/workshops/memes/env/lib/python3.9/site-packages/ipywidgets/</span>\n",
       "<span style=\"color: #000000; text-decoration-color: #000000; font-weight: bold\">widgets/widget_output.py:111)</span>\n",
       "</pre>\n"
      ],
      "text/plain": [
       "\u001b[1;33mDeprecationWarning: Kernel._parent_header is deprecated in ipykernel 6. Use .get_parent()\u001b[0m \n",
       "\u001b[1;30m(raised from /mnt/data/work/repos/workshops/memes/env/lib/python3.9/site-packages/ipywidgets/\u001b[0m\n",
       "\u001b[1;30mwidgets/widget_output.py:111)\u001b[0m\n"
      ]
     },
     "metadata": {},
     "output_type": "display_data"
    },
    {
     "data": {
      "text/html": [
       "<pre style=\"white-space:pre;overflow-x:auto;line-height:normal;font-family:Menlo,'DejaVu Sans Mono',consolas,'Courier New',monospace\"><span style=\"color: #808000; text-decoration-color: #808000; font-weight: bold\">DeprecationWarning: Kernel._parent_header is deprecated in ipykernel 6. Use .get_parent()</span> \n",
       "<span style=\"color: #000000; text-decoration-color: #000000; font-weight: bold\">(raised from /mnt/data/work/repos/workshops/memes/env/lib/python3.9/site-packages/ipywidgets/</span>\n",
       "<span style=\"color: #000000; text-decoration-color: #000000; font-weight: bold\">widgets/widget_output.py:112)</span>\n",
       "</pre>\n"
      ],
      "text/plain": [
       "\u001b[1;33mDeprecationWarning: Kernel._parent_header is deprecated in ipykernel 6. Use .get_parent()\u001b[0m \n",
       "\u001b[1;30m(raised from /mnt/data/work/repos/workshops/memes/env/lib/python3.9/site-packages/ipywidgets/\u001b[0m\n",
       "\u001b[1;30mwidgets/widget_output.py:112)\u001b[0m\n"
      ]
     },
     "metadata": {},
     "output_type": "display_data"
    },
    {
     "data": {
      "text/html": [
       "<pre style=\"white-space:pre;overflow-x:auto;line-height:normal;font-family:Menlo,'DejaVu Sans Mono',consolas,'Courier New',monospace\"><span style=\"color: #808000; text-decoration-color: #808000; font-weight: bold\">DeprecationWarning: Kernel._parent_header is deprecated in ipykernel 6. Use .get_parent()</span> \n",
       "<span style=\"color: #000000; text-decoration-color: #000000; font-weight: bold\">(raised from /mnt/data/work/repos/workshops/memes/env/lib/python3.9/site-packages/ipywidgets/</span>\n",
       "<span style=\"color: #000000; text-decoration-color: #000000; font-weight: bold\">widgets/widget_output.py:111)</span>\n",
       "</pre>\n"
      ],
      "text/plain": [
       "\u001b[1;33mDeprecationWarning: Kernel._parent_header is deprecated in ipykernel 6. Use .get_parent()\u001b[0m \n",
       "\u001b[1;30m(raised from /mnt/data/work/repos/workshops/memes/env/lib/python3.9/site-packages/ipywidgets/\u001b[0m\n",
       "\u001b[1;30mwidgets/widget_output.py:111)\u001b[0m\n"
      ]
     },
     "metadata": {},
     "output_type": "display_data"
    },
    {
     "data": {
      "text/html": [
       "<pre style=\"white-space:pre;overflow-x:auto;line-height:normal;font-family:Menlo,'DejaVu Sans Mono',consolas,'Courier New',monospace\"><span style=\"color: #808000; text-decoration-color: #808000; font-weight: bold\">DeprecationWarning: Kernel._parent_header is deprecated in ipykernel 6. Use .get_parent()</span> \n",
       "<span style=\"color: #000000; text-decoration-color: #000000; font-weight: bold\">(raised from /mnt/data/work/repos/workshops/memes/env/lib/python3.9/site-packages/ipywidgets/</span>\n",
       "<span style=\"color: #000000; text-decoration-color: #000000; font-weight: bold\">widgets/widget_output.py:112)</span>\n",
       "</pre>\n"
      ],
      "text/plain": [
       "\u001b[1;33mDeprecationWarning: Kernel._parent_header is deprecated in ipykernel 6. Use .get_parent()\u001b[0m \n",
       "\u001b[1;30m(raised from /mnt/data/work/repos/workshops/memes/env/lib/python3.9/site-packages/ipywidgets/\u001b[0m\n",
       "\u001b[1;30mwidgets/widget_output.py:112)\u001b[0m\n"
      ]
     },
     "metadata": {},
     "output_type": "display_data"
    },
    {
     "data": {
      "text/html": [
       "<pre style=\"white-space:pre;overflow-x:auto;line-height:normal;font-family:Menlo,'DejaVu Sans Mono',consolas,'Courier New',monospace\"><span style=\"color: #808000; text-decoration-color: #808000; font-weight: bold\">DeprecationWarning: Kernel._parent_header is deprecated in ipykernel 6. Use .get_parent()</span> \n",
       "<span style=\"color: #000000; text-decoration-color: #000000; font-weight: bold\">(raised from /mnt/data/work/repos/workshops/memes/env/lib/python3.9/site-packages/ipywidgets/</span>\n",
       "<span style=\"color: #000000; text-decoration-color: #000000; font-weight: bold\">widgets/widget_output.py:111)</span>\n",
       "</pre>\n"
      ],
      "text/plain": [
       "\u001b[1;33mDeprecationWarning: Kernel._parent_header is deprecated in ipykernel 6. Use .get_parent()\u001b[0m \n",
       "\u001b[1;30m(raised from /mnt/data/work/repos/workshops/memes/env/lib/python3.9/site-packages/ipywidgets/\u001b[0m\n",
       "\u001b[1;30mwidgets/widget_output.py:111)\u001b[0m\n"
      ]
     },
     "metadata": {},
     "output_type": "display_data"
    },
    {
     "data": {
      "text/html": [
       "<pre style=\"white-space:pre;overflow-x:auto;line-height:normal;font-family:Menlo,'DejaVu Sans Mono',consolas,'Courier New',monospace\"><span style=\"color: #808000; text-decoration-color: #808000; font-weight: bold\">DeprecationWarning: Kernel._parent_header is deprecated in ipykernel 6. Use .get_parent()</span> \n",
       "<span style=\"color: #000000; text-decoration-color: #000000; font-weight: bold\">(raised from /mnt/data/work/repos/workshops/memes/env/lib/python3.9/site-packages/ipywidgets/</span>\n",
       "<span style=\"color: #000000; text-decoration-color: #000000; font-weight: bold\">widgets/widget_output.py:112)</span>\n",
       "</pre>\n"
      ],
      "text/plain": [
       "\u001b[1;33mDeprecationWarning: Kernel._parent_header is deprecated in ipykernel 6. Use .get_parent()\u001b[0m \n",
       "\u001b[1;30m(raised from /mnt/data/work/repos/workshops/memes/env/lib/python3.9/site-packages/ipywidgets/\u001b[0m\n",
       "\u001b[1;30mwidgets/widget_output.py:112)\u001b[0m\n"
      ]
     },
     "metadata": {},
     "output_type": "display_data"
    },
    {
     "data": {
      "text/html": [
       "<pre style=\"white-space:pre;overflow-x:auto;line-height:normal;font-family:Menlo,'DejaVu Sans Mono',consolas,'Courier New',monospace\"><span style=\"color: #808000; text-decoration-color: #808000; font-weight: bold\">DeprecationWarning: Kernel._parent_header is deprecated in ipykernel 6. Use .get_parent()</span> \n",
       "<span style=\"color: #000000; text-decoration-color: #000000; font-weight: bold\">(raised from /mnt/data/work/repos/workshops/memes/env/lib/python3.9/site-packages/ipywidgets/</span>\n",
       "<span style=\"color: #000000; text-decoration-color: #000000; font-weight: bold\">widgets/widget_output.py:111)</span>\n",
       "</pre>\n"
      ],
      "text/plain": [
       "\u001b[1;33mDeprecationWarning: Kernel._parent_header is deprecated in ipykernel 6. Use .get_parent()\u001b[0m \n",
       "\u001b[1;30m(raised from /mnt/data/work/repos/workshops/memes/env/lib/python3.9/site-packages/ipywidgets/\u001b[0m\n",
       "\u001b[1;30mwidgets/widget_output.py:111)\u001b[0m\n"
      ]
     },
     "metadata": {},
     "output_type": "display_data"
    },
    {
     "data": {
      "text/html": [
       "<pre style=\"white-space:pre;overflow-x:auto;line-height:normal;font-family:Menlo,'DejaVu Sans Mono',consolas,'Courier New',monospace\"><span style=\"color: #808000; text-decoration-color: #808000; font-weight: bold\">DeprecationWarning: Kernel._parent_header is deprecated in ipykernel 6. Use .get_parent()</span> \n",
       "<span style=\"color: #000000; text-decoration-color: #000000; font-weight: bold\">(raised from /mnt/data/work/repos/workshops/memes/env/lib/python3.9/site-packages/ipywidgets/</span>\n",
       "<span style=\"color: #000000; text-decoration-color: #000000; font-weight: bold\">widgets/widget_output.py:112)</span>\n",
       "</pre>\n"
      ],
      "text/plain": [
       "\u001b[1;33mDeprecationWarning: Kernel._parent_header is deprecated in ipykernel 6. Use .get_parent()\u001b[0m \n",
       "\u001b[1;30m(raised from /mnt/data/work/repos/workshops/memes/env/lib/python3.9/site-packages/ipywidgets/\u001b[0m\n",
       "\u001b[1;30mwidgets/widget_output.py:112)\u001b[0m\n"
      ]
     },
     "metadata": {},
     "output_type": "display_data"
    },
    {
     "data": {
      "text/html": [
       "<pre style=\"white-space:pre;overflow-x:auto;line-height:normal;font-family:Menlo,'DejaVu Sans Mono',consolas,'Courier New',monospace\"><span style=\"color: #808000; text-decoration-color: #808000; font-weight: bold\">DeprecationWarning: Kernel._parent_header is deprecated in ipykernel 6. Use .get_parent()</span> \n",
       "<span style=\"color: #000000; text-decoration-color: #000000; font-weight: bold\">(raised from /mnt/data/work/repos/workshops/memes/env/lib/python3.9/site-packages/ipywidgets/</span>\n",
       "<span style=\"color: #000000; text-decoration-color: #000000; font-weight: bold\">widgets/widget_output.py:111)</span>\n",
       "</pre>\n"
      ],
      "text/plain": [
       "\u001b[1;33mDeprecationWarning: Kernel._parent_header is deprecated in ipykernel 6. Use .get_parent()\u001b[0m \n",
       "\u001b[1;30m(raised from /mnt/data/work/repos/workshops/memes/env/lib/python3.9/site-packages/ipywidgets/\u001b[0m\n",
       "\u001b[1;30mwidgets/widget_output.py:111)\u001b[0m\n"
      ]
     },
     "metadata": {},
     "output_type": "display_data"
    },
    {
     "data": {
      "text/html": [
       "<pre style=\"white-space:pre;overflow-x:auto;line-height:normal;font-family:Menlo,'DejaVu Sans Mono',consolas,'Courier New',monospace\"><span style=\"color: #808000; text-decoration-color: #808000; font-weight: bold\">DeprecationWarning: Kernel._parent_header is deprecated in ipykernel 6. Use .get_parent()</span> \n",
       "<span style=\"color: #000000; text-decoration-color: #000000; font-weight: bold\">(raised from /mnt/data/work/repos/workshops/memes/env/lib/python3.9/site-packages/ipywidgets/</span>\n",
       "<span style=\"color: #000000; text-decoration-color: #000000; font-weight: bold\">widgets/widget_output.py:112)</span>\n",
       "</pre>\n"
      ],
      "text/plain": [
       "\u001b[1;33mDeprecationWarning: Kernel._parent_header is deprecated in ipykernel 6. Use .get_parent()\u001b[0m \n",
       "\u001b[1;30m(raised from /mnt/data/work/repos/workshops/memes/env/lib/python3.9/site-packages/ipywidgets/\u001b[0m\n",
       "\u001b[1;30mwidgets/widget_output.py:112)\u001b[0m\n"
      ]
     },
     "metadata": {},
     "output_type": "display_data"
    },
    {
     "data": {
      "text/html": [
       "<pre style=\"white-space:pre;overflow-x:auto;line-height:normal;font-family:Menlo,'DejaVu Sans Mono',consolas,'Courier New',monospace\"><span style=\"color: #808000; text-decoration-color: #808000; font-weight: bold\">DeprecationWarning: Kernel._parent_header is deprecated in ipykernel 6. Use .get_parent()</span> \n",
       "<span style=\"color: #000000; text-decoration-color: #000000; font-weight: bold\">(raised from /mnt/data/work/repos/workshops/memes/env/lib/python3.9/site-packages/ipywidgets/</span>\n",
       "<span style=\"color: #000000; text-decoration-color: #000000; font-weight: bold\">widgets/widget_output.py:111)</span>\n",
       "</pre>\n"
      ],
      "text/plain": [
       "\u001b[1;33mDeprecationWarning: Kernel._parent_header is deprecated in ipykernel 6. Use .get_parent()\u001b[0m \n",
       "\u001b[1;30m(raised from /mnt/data/work/repos/workshops/memes/env/lib/python3.9/site-packages/ipywidgets/\u001b[0m\n",
       "\u001b[1;30mwidgets/widget_output.py:111)\u001b[0m\n"
      ]
     },
     "metadata": {},
     "output_type": "display_data"
    },
    {
     "data": {
      "text/html": [
       "<pre style=\"white-space:pre;overflow-x:auto;line-height:normal;font-family:Menlo,'DejaVu Sans Mono',consolas,'Courier New',monospace\"><span style=\"color: #808000; text-decoration-color: #808000; font-weight: bold\">DeprecationWarning: Kernel._parent_header is deprecated in ipykernel 6. Use .get_parent()</span> \n",
       "<span style=\"color: #000000; text-decoration-color: #000000; font-weight: bold\">(raised from /mnt/data/work/repos/workshops/memes/env/lib/python3.9/site-packages/ipywidgets/</span>\n",
       "<span style=\"color: #000000; text-decoration-color: #000000; font-weight: bold\">widgets/widget_output.py:112)</span>\n",
       "</pre>\n"
      ],
      "text/plain": [
       "\u001b[1;33mDeprecationWarning: Kernel._parent_header is deprecated in ipykernel 6. Use .get_parent()\u001b[0m \n",
       "\u001b[1;30m(raised from /mnt/data/work/repos/workshops/memes/env/lib/python3.9/site-packages/ipywidgets/\u001b[0m\n",
       "\u001b[1;30mwidgets/widget_output.py:112)\u001b[0m\n"
      ]
     },
     "metadata": {},
     "output_type": "display_data"
    },
    {
     "data": {
      "text/html": [
       "<pre style=\"white-space:pre;overflow-x:auto;line-height:normal;font-family:Menlo,'DejaVu Sans Mono',consolas,'Courier New',monospace\"><span style=\"color: #808000; text-decoration-color: #808000; font-weight: bold\">DeprecationWarning: Kernel._parent_header is deprecated in ipykernel 6. Use .get_parent()</span> \n",
       "<span style=\"color: #000000; text-decoration-color: #000000; font-weight: bold\">(raised from /mnt/data/work/repos/workshops/memes/env/lib/python3.9/site-packages/ipywidgets/</span>\n",
       "<span style=\"color: #000000; text-decoration-color: #000000; font-weight: bold\">widgets/widget_output.py:111)</span>\n",
       "</pre>\n"
      ],
      "text/plain": [
       "\u001b[1;33mDeprecationWarning: Kernel._parent_header is deprecated in ipykernel 6. Use .get_parent()\u001b[0m \n",
       "\u001b[1;30m(raised from /mnt/data/work/repos/workshops/memes/env/lib/python3.9/site-packages/ipywidgets/\u001b[0m\n",
       "\u001b[1;30mwidgets/widget_output.py:111)\u001b[0m\n"
      ]
     },
     "metadata": {},
     "output_type": "display_data"
    },
    {
     "data": {
      "text/html": [
       "<pre style=\"white-space:pre;overflow-x:auto;line-height:normal;font-family:Menlo,'DejaVu Sans Mono',consolas,'Courier New',monospace\"><span style=\"color: #808000; text-decoration-color: #808000; font-weight: bold\">DeprecationWarning: Kernel._parent_header is deprecated in ipykernel 6. Use .get_parent()</span> \n",
       "<span style=\"color: #000000; text-decoration-color: #000000; font-weight: bold\">(raised from /mnt/data/work/repos/workshops/memes/env/lib/python3.9/site-packages/ipywidgets/</span>\n",
       "<span style=\"color: #000000; text-decoration-color: #000000; font-weight: bold\">widgets/widget_output.py:112)</span>\n",
       "</pre>\n"
      ],
      "text/plain": [
       "\u001b[1;33mDeprecationWarning: Kernel._parent_header is deprecated in ipykernel 6. Use .get_parent()\u001b[0m \n",
       "\u001b[1;30m(raised from /mnt/data/work/repos/workshops/memes/env/lib/python3.9/site-packages/ipywidgets/\u001b[0m\n",
       "\u001b[1;30mwidgets/widget_output.py:112)\u001b[0m\n"
      ]
     },
     "metadata": {},
     "output_type": "display_data"
    },
    {
     "data": {
      "text/html": [
       "<pre style=\"white-space:pre;overflow-x:auto;line-height:normal;font-family:Menlo,'DejaVu Sans Mono',consolas,'Courier New',monospace\"><span style=\"color: #808000; text-decoration-color: #808000; font-weight: bold\">DeprecationWarning: Kernel._parent_header is deprecated in ipykernel 6. Use .get_parent()</span> \n",
       "<span style=\"color: #000000; text-decoration-color: #000000; font-weight: bold\">(raised from /mnt/data/work/repos/workshops/memes/env/lib/python3.9/site-packages/ipywidgets/</span>\n",
       "<span style=\"color: #000000; text-decoration-color: #000000; font-weight: bold\">widgets/widget_output.py:111)</span>\n",
       "</pre>\n"
      ],
      "text/plain": [
       "\u001b[1;33mDeprecationWarning: Kernel._parent_header is deprecated in ipykernel 6. Use .get_parent()\u001b[0m \n",
       "\u001b[1;30m(raised from /mnt/data/work/repos/workshops/memes/env/lib/python3.9/site-packages/ipywidgets/\u001b[0m\n",
       "\u001b[1;30mwidgets/widget_output.py:111)\u001b[0m\n"
      ]
     },
     "metadata": {},
     "output_type": "display_data"
    },
    {
     "data": {
      "text/html": [
       "<pre style=\"white-space:pre;overflow-x:auto;line-height:normal;font-family:Menlo,'DejaVu Sans Mono',consolas,'Courier New',monospace\"><span style=\"color: #808000; text-decoration-color: #808000; font-weight: bold\">DeprecationWarning: Kernel._parent_header is deprecated in ipykernel 6. Use .get_parent()</span> \n",
       "<span style=\"color: #000000; text-decoration-color: #000000; font-weight: bold\">(raised from /mnt/data/work/repos/workshops/memes/env/lib/python3.9/site-packages/ipywidgets/</span>\n",
       "<span style=\"color: #000000; text-decoration-color: #000000; font-weight: bold\">widgets/widget_output.py:112)</span>\n",
       "</pre>\n"
      ],
      "text/plain": [
       "\u001b[1;33mDeprecationWarning: Kernel._parent_header is deprecated in ipykernel 6. Use .get_parent()\u001b[0m \n",
       "\u001b[1;30m(raised from /mnt/data/work/repos/workshops/memes/env/lib/python3.9/site-packages/ipywidgets/\u001b[0m\n",
       "\u001b[1;30mwidgets/widget_output.py:112)\u001b[0m\n"
      ]
     },
     "metadata": {},
     "output_type": "display_data"
    },
    {
     "data": {
      "text/html": [
       "<pre style=\"white-space:pre;overflow-x:auto;line-height:normal;font-family:Menlo,'DejaVu Sans Mono',consolas,'Courier New',monospace\"><span style=\"color: #808000; text-decoration-color: #808000; font-weight: bold\">DeprecationWarning: Kernel._parent_header is deprecated in ipykernel 6. Use .get_parent()</span> \n",
       "<span style=\"color: #000000; text-decoration-color: #000000; font-weight: bold\">(raised from /mnt/data/work/repos/workshops/memes/env/lib/python3.9/site-packages/ipywidgets/</span>\n",
       "<span style=\"color: #000000; text-decoration-color: #000000; font-weight: bold\">widgets/widget_output.py:111)</span>\n",
       "</pre>\n"
      ],
      "text/plain": [
       "\u001b[1;33mDeprecationWarning: Kernel._parent_header is deprecated in ipykernel 6. Use .get_parent()\u001b[0m \n",
       "\u001b[1;30m(raised from /mnt/data/work/repos/workshops/memes/env/lib/python3.9/site-packages/ipywidgets/\u001b[0m\n",
       "\u001b[1;30mwidgets/widget_output.py:111)\u001b[0m\n"
      ]
     },
     "metadata": {},
     "output_type": "display_data"
    },
    {
     "data": {
      "text/html": [
       "<pre style=\"white-space:pre;overflow-x:auto;line-height:normal;font-family:Menlo,'DejaVu Sans Mono',consolas,'Courier New',monospace\"><span style=\"color: #808000; text-decoration-color: #808000; font-weight: bold\">DeprecationWarning: Kernel._parent_header is deprecated in ipykernel 6. Use .get_parent()</span> \n",
       "<span style=\"color: #000000; text-decoration-color: #000000; font-weight: bold\">(raised from /mnt/data/work/repos/workshops/memes/env/lib/python3.9/site-packages/ipywidgets/</span>\n",
       "<span style=\"color: #000000; text-decoration-color: #000000; font-weight: bold\">widgets/widget_output.py:112)</span>\n",
       "</pre>\n"
      ],
      "text/plain": [
       "\u001b[1;33mDeprecationWarning: Kernel._parent_header is deprecated in ipykernel 6. Use .get_parent()\u001b[0m \n",
       "\u001b[1;30m(raised from /mnt/data/work/repos/workshops/memes/env/lib/python3.9/site-packages/ipywidgets/\u001b[0m\n",
       "\u001b[1;30mwidgets/widget_output.py:112)\u001b[0m\n"
      ]
     },
     "metadata": {},
     "output_type": "display_data"
    },
    {
     "data": {
      "text/html": [
       "<pre style=\"white-space:pre;overflow-x:auto;line-height:normal;font-family:Menlo,'DejaVu Sans Mono',consolas,'Courier New',monospace\"><span style=\"color: #808000; text-decoration-color: #808000; font-weight: bold\">DeprecationWarning: Kernel._parent_header is deprecated in ipykernel 6. Use .get_parent()</span> \n",
       "<span style=\"color: #000000; text-decoration-color: #000000; font-weight: bold\">(raised from /mnt/data/work/repos/workshops/memes/env/lib/python3.9/site-packages/ipywidgets/</span>\n",
       "<span style=\"color: #000000; text-decoration-color: #000000; font-weight: bold\">widgets/widget_output.py:111)</span>\n",
       "</pre>\n"
      ],
      "text/plain": [
       "\u001b[1;33mDeprecationWarning: Kernel._parent_header is deprecated in ipykernel 6. Use .get_parent()\u001b[0m \n",
       "\u001b[1;30m(raised from /mnt/data/work/repos/workshops/memes/env/lib/python3.9/site-packages/ipywidgets/\u001b[0m\n",
       "\u001b[1;30mwidgets/widget_output.py:111)\u001b[0m\n"
      ]
     },
     "metadata": {},
     "output_type": "display_data"
    },
    {
     "data": {
      "text/html": [
       "<pre style=\"white-space:pre;overflow-x:auto;line-height:normal;font-family:Menlo,'DejaVu Sans Mono',consolas,'Courier New',monospace\"><span style=\"color: #808000; text-decoration-color: #808000; font-weight: bold\">DeprecationWarning: Kernel._parent_header is deprecated in ipykernel 6. Use .get_parent()</span> \n",
       "<span style=\"color: #000000; text-decoration-color: #000000; font-weight: bold\">(raised from /mnt/data/work/repos/workshops/memes/env/lib/python3.9/site-packages/ipywidgets/</span>\n",
       "<span style=\"color: #000000; text-decoration-color: #000000; font-weight: bold\">widgets/widget_output.py:112)</span>\n",
       "</pre>\n"
      ],
      "text/plain": [
       "\u001b[1;33mDeprecationWarning: Kernel._parent_header is deprecated in ipykernel 6. Use .get_parent()\u001b[0m \n",
       "\u001b[1;30m(raised from /mnt/data/work/repos/workshops/memes/env/lib/python3.9/site-packages/ipywidgets/\u001b[0m\n",
       "\u001b[1;30mwidgets/widget_output.py:112)\u001b[0m\n"
      ]
     },
     "metadata": {},
     "output_type": "display_data"
    },
    {
     "data": {
      "text/html": [
       "<pre style=\"white-space:pre;overflow-x:auto;line-height:normal;font-family:Menlo,'DejaVu Sans Mono',consolas,'Courier New',monospace\"><span style=\"color: #808000; text-decoration-color: #808000; font-weight: bold\">DeprecationWarning: Kernel._parent_header is deprecated in ipykernel 6. Use .get_parent()</span> \n",
       "<span style=\"color: #000000; text-decoration-color: #000000; font-weight: bold\">(raised from /mnt/data/work/repos/workshops/memes/env/lib/python3.9/site-packages/ipywidgets/</span>\n",
       "<span style=\"color: #000000; text-decoration-color: #000000; font-weight: bold\">widgets/widget_output.py:111)</span>\n",
       "</pre>\n"
      ],
      "text/plain": [
       "\u001b[1;33mDeprecationWarning: Kernel._parent_header is deprecated in ipykernel 6. Use .get_parent()\u001b[0m \n",
       "\u001b[1;30m(raised from /mnt/data/work/repos/workshops/memes/env/lib/python3.9/site-packages/ipywidgets/\u001b[0m\n",
       "\u001b[1;30mwidgets/widget_output.py:111)\u001b[0m\n"
      ]
     },
     "metadata": {},
     "output_type": "display_data"
    },
    {
     "data": {
      "text/html": [
       "<pre style=\"white-space:pre;overflow-x:auto;line-height:normal;font-family:Menlo,'DejaVu Sans Mono',consolas,'Courier New',monospace\"><span style=\"color: #808000; text-decoration-color: #808000; font-weight: bold\">DeprecationWarning: Kernel._parent_header is deprecated in ipykernel 6. Use .get_parent()</span> \n",
       "<span style=\"color: #000000; text-decoration-color: #000000; font-weight: bold\">(raised from /mnt/data/work/repos/workshops/memes/env/lib/python3.9/site-packages/ipywidgets/</span>\n",
       "<span style=\"color: #000000; text-decoration-color: #000000; font-weight: bold\">widgets/widget_output.py:112)</span>\n",
       "</pre>\n"
      ],
      "text/plain": [
       "\u001b[1;33mDeprecationWarning: Kernel._parent_header is deprecated in ipykernel 6. Use .get_parent()\u001b[0m \n",
       "\u001b[1;30m(raised from /mnt/data/work/repos/workshops/memes/env/lib/python3.9/site-packages/ipywidgets/\u001b[0m\n",
       "\u001b[1;30mwidgets/widget_output.py:112)\u001b[0m\n"
      ]
     },
     "metadata": {},
     "output_type": "display_data"
    },
    {
     "data": {
      "text/html": [
       "<pre style=\"white-space:pre;overflow-x:auto;line-height:normal;font-family:Menlo,'DejaVu Sans Mono',consolas,'Courier New',monospace\"><span style=\"color: #808000; text-decoration-color: #808000; font-weight: bold\">DeprecationWarning: Kernel._parent_header is deprecated in ipykernel 6. Use .get_parent()</span> \n",
       "<span style=\"color: #000000; text-decoration-color: #000000; font-weight: bold\">(raised from /mnt/data/work/repos/workshops/memes/env/lib/python3.9/site-packages/ipywidgets/</span>\n",
       "<span style=\"color: #000000; text-decoration-color: #000000; font-weight: bold\">widgets/widget_output.py:111)</span>\n",
       "</pre>\n"
      ],
      "text/plain": [
       "\u001b[1;33mDeprecationWarning: Kernel._parent_header is deprecated in ipykernel 6. Use .get_parent()\u001b[0m \n",
       "\u001b[1;30m(raised from /mnt/data/work/repos/workshops/memes/env/lib/python3.9/site-packages/ipywidgets/\u001b[0m\n",
       "\u001b[1;30mwidgets/widget_output.py:111)\u001b[0m\n"
      ]
     },
     "metadata": {},
     "output_type": "display_data"
    },
    {
     "data": {
      "text/html": [
       "<pre style=\"white-space:pre;overflow-x:auto;line-height:normal;font-family:Menlo,'DejaVu Sans Mono',consolas,'Courier New',monospace\"><span style=\"color: #808000; text-decoration-color: #808000; font-weight: bold\">DeprecationWarning: Kernel._parent_header is deprecated in ipykernel 6. Use .get_parent()</span> \n",
       "<span style=\"color: #000000; text-decoration-color: #000000; font-weight: bold\">(raised from /mnt/data/work/repos/workshops/memes/env/lib/python3.9/site-packages/ipywidgets/</span>\n",
       "<span style=\"color: #000000; text-decoration-color: #000000; font-weight: bold\">widgets/widget_output.py:112)</span>\n",
       "</pre>\n"
      ],
      "text/plain": [
       "\u001b[1;33mDeprecationWarning: Kernel._parent_header is deprecated in ipykernel 6. Use .get_parent()\u001b[0m \n",
       "\u001b[1;30m(raised from /mnt/data/work/repos/workshops/memes/env/lib/python3.9/site-packages/ipywidgets/\u001b[0m\n",
       "\u001b[1;30mwidgets/widget_output.py:112)\u001b[0m\n"
      ]
     },
     "metadata": {},
     "output_type": "display_data"
    },
    {
     "data": {
      "text/html": [
       "<pre style=\"white-space:pre;overflow-x:auto;line-height:normal;font-family:Menlo,'DejaVu Sans Mono',consolas,'Courier New',monospace\"><span style=\"color: #808000; text-decoration-color: #808000; font-weight: bold\">DeprecationWarning: Kernel._parent_header is deprecated in ipykernel 6. Use .get_parent()</span> \n",
       "<span style=\"color: #000000; text-decoration-color: #000000; font-weight: bold\">(raised from /mnt/data/work/repos/workshops/memes/env/lib/python3.9/site-packages/ipywidgets/</span>\n",
       "<span style=\"color: #000000; text-decoration-color: #000000; font-weight: bold\">widgets/widget_output.py:111)</span>\n",
       "</pre>\n"
      ],
      "text/plain": [
       "\u001b[1;33mDeprecationWarning: Kernel._parent_header is deprecated in ipykernel 6. Use .get_parent()\u001b[0m \n",
       "\u001b[1;30m(raised from /mnt/data/work/repos/workshops/memes/env/lib/python3.9/site-packages/ipywidgets/\u001b[0m\n",
       "\u001b[1;30mwidgets/widget_output.py:111)\u001b[0m\n"
      ]
     },
     "metadata": {},
     "output_type": "display_data"
    },
    {
     "data": {
      "text/html": [
       "<pre style=\"white-space:pre;overflow-x:auto;line-height:normal;font-family:Menlo,'DejaVu Sans Mono',consolas,'Courier New',monospace\"><span style=\"color: #808000; text-decoration-color: #808000; font-weight: bold\">DeprecationWarning: Kernel._parent_header is deprecated in ipykernel 6. Use .get_parent()</span> \n",
       "<span style=\"color: #000000; text-decoration-color: #000000; font-weight: bold\">(raised from /mnt/data/work/repos/workshops/memes/env/lib/python3.9/site-packages/ipywidgets/</span>\n",
       "<span style=\"color: #000000; text-decoration-color: #000000; font-weight: bold\">widgets/widget_output.py:112)</span>\n",
       "</pre>\n"
      ],
      "text/plain": [
       "\u001b[1;33mDeprecationWarning: Kernel._parent_header is deprecated in ipykernel 6. Use .get_parent()\u001b[0m \n",
       "\u001b[1;30m(raised from /mnt/data/work/repos/workshops/memes/env/lib/python3.9/site-packages/ipywidgets/\u001b[0m\n",
       "\u001b[1;30mwidgets/widget_output.py:112)\u001b[0m\n"
      ]
     },
     "metadata": {},
     "output_type": "display_data"
    },
    {
     "data": {
      "text/html": [
       "<pre style=\"white-space:pre;overflow-x:auto;line-height:normal;font-family:Menlo,'DejaVu Sans Mono',consolas,'Courier New',monospace\"><span style=\"color: #808000; text-decoration-color: #808000; font-weight: bold\">DeprecationWarning: Kernel._parent_header is deprecated in ipykernel 6. Use .get_parent()</span> \n",
       "<span style=\"color: #000000; text-decoration-color: #000000; font-weight: bold\">(raised from /mnt/data/work/repos/workshops/memes/env/lib/python3.9/site-packages/ipywidgets/</span>\n",
       "<span style=\"color: #000000; text-decoration-color: #000000; font-weight: bold\">widgets/widget_output.py:111)</span>\n",
       "</pre>\n"
      ],
      "text/plain": [
       "\u001b[1;33mDeprecationWarning: Kernel._parent_header is deprecated in ipykernel 6. Use .get_parent()\u001b[0m \n",
       "\u001b[1;30m(raised from /mnt/data/work/repos/workshops/memes/env/lib/python3.9/site-packages/ipywidgets/\u001b[0m\n",
       "\u001b[1;30mwidgets/widget_output.py:111)\u001b[0m\n"
      ]
     },
     "metadata": {},
     "output_type": "display_data"
    },
    {
     "data": {
      "text/html": [
       "<pre style=\"white-space:pre;overflow-x:auto;line-height:normal;font-family:Menlo,'DejaVu Sans Mono',consolas,'Courier New',monospace\"><span style=\"color: #808000; text-decoration-color: #808000; font-weight: bold\">DeprecationWarning: Kernel._parent_header is deprecated in ipykernel 6. Use .get_parent()</span> \n",
       "<span style=\"color: #000000; text-decoration-color: #000000; font-weight: bold\">(raised from /mnt/data/work/repos/workshops/memes/env/lib/python3.9/site-packages/ipywidgets/</span>\n",
       "<span style=\"color: #000000; text-decoration-color: #000000; font-weight: bold\">widgets/widget_output.py:112)</span>\n",
       "</pre>\n"
      ],
      "text/plain": [
       "\u001b[1;33mDeprecationWarning: Kernel._parent_header is deprecated in ipykernel 6. Use .get_parent()\u001b[0m \n",
       "\u001b[1;30m(raised from /mnt/data/work/repos/workshops/memes/env/lib/python3.9/site-packages/ipywidgets/\u001b[0m\n",
       "\u001b[1;30mwidgets/widget_output.py:112)\u001b[0m\n"
      ]
     },
     "metadata": {},
     "output_type": "display_data"
    },
    {
     "data": {
      "text/html": [
       "<pre style=\"white-space:pre;overflow-x:auto;line-height:normal;font-family:Menlo,'DejaVu Sans Mono',consolas,'Courier New',monospace\"><span style=\"color: #808000; text-decoration-color: #808000; font-weight: bold\">DeprecationWarning: Kernel._parent_header is deprecated in ipykernel 6. Use .get_parent()</span> \n",
       "<span style=\"color: #000000; text-decoration-color: #000000; font-weight: bold\">(raised from /mnt/data/work/repos/workshops/memes/env/lib/python3.9/site-packages/ipywidgets/</span>\n",
       "<span style=\"color: #000000; text-decoration-color: #000000; font-weight: bold\">widgets/widget_output.py:111)</span>\n",
       "</pre>\n"
      ],
      "text/plain": [
       "\u001b[1;33mDeprecationWarning: Kernel._parent_header is deprecated in ipykernel 6. Use .get_parent()\u001b[0m \n",
       "\u001b[1;30m(raised from /mnt/data/work/repos/workshops/memes/env/lib/python3.9/site-packages/ipywidgets/\u001b[0m\n",
       "\u001b[1;30mwidgets/widget_output.py:111)\u001b[0m\n"
      ]
     },
     "metadata": {},
     "output_type": "display_data"
    },
    {
     "data": {
      "text/html": [
       "<pre style=\"white-space:pre;overflow-x:auto;line-height:normal;font-family:Menlo,'DejaVu Sans Mono',consolas,'Courier New',monospace\"><span style=\"color: #808000; text-decoration-color: #808000; font-weight: bold\">DeprecationWarning: Kernel._parent_header is deprecated in ipykernel 6. Use .get_parent()</span> \n",
       "<span style=\"color: #000000; text-decoration-color: #000000; font-weight: bold\">(raised from /mnt/data/work/repos/workshops/memes/env/lib/python3.9/site-packages/ipywidgets/</span>\n",
       "<span style=\"color: #000000; text-decoration-color: #000000; font-weight: bold\">widgets/widget_output.py:112)</span>\n",
       "</pre>\n"
      ],
      "text/plain": [
       "\u001b[1;33mDeprecationWarning: Kernel._parent_header is deprecated in ipykernel 6. Use .get_parent()\u001b[0m \n",
       "\u001b[1;30m(raised from /mnt/data/work/repos/workshops/memes/env/lib/python3.9/site-packages/ipywidgets/\u001b[0m\n",
       "\u001b[1;30mwidgets/widget_output.py:112)\u001b[0m\n"
      ]
     },
     "metadata": {},
     "output_type": "display_data"
    },
    {
     "data": {
      "text/html": [
       "<pre style=\"white-space:pre;overflow-x:auto;line-height:normal;font-family:Menlo,'DejaVu Sans Mono',consolas,'Courier New',monospace\"><span style=\"color: #808000; text-decoration-color: #808000; font-weight: bold\">DeprecationWarning: Kernel._parent_header is deprecated in ipykernel 6. Use .get_parent()</span> \n",
       "<span style=\"color: #000000; text-decoration-color: #000000; font-weight: bold\">(raised from /mnt/data/work/repos/workshops/memes/env/lib/python3.9/site-packages/ipywidgets/</span>\n",
       "<span style=\"color: #000000; text-decoration-color: #000000; font-weight: bold\">widgets/widget_output.py:111)</span>\n",
       "</pre>\n"
      ],
      "text/plain": [
       "\u001b[1;33mDeprecationWarning: Kernel._parent_header is deprecated in ipykernel 6. Use .get_parent()\u001b[0m \n",
       "\u001b[1;30m(raised from /mnt/data/work/repos/workshops/memes/env/lib/python3.9/site-packages/ipywidgets/\u001b[0m\n",
       "\u001b[1;30mwidgets/widget_output.py:111)\u001b[0m\n"
      ]
     },
     "metadata": {},
     "output_type": "display_data"
    },
    {
     "data": {
      "text/html": [
       "<pre style=\"white-space:pre;overflow-x:auto;line-height:normal;font-family:Menlo,'DejaVu Sans Mono',consolas,'Courier New',monospace\"><span style=\"color: #808000; text-decoration-color: #808000; font-weight: bold\">DeprecationWarning: Kernel._parent_header is deprecated in ipykernel 6. Use .get_parent()</span> \n",
       "<span style=\"color: #000000; text-decoration-color: #000000; font-weight: bold\">(raised from /mnt/data/work/repos/workshops/memes/env/lib/python3.9/site-packages/ipywidgets/</span>\n",
       "<span style=\"color: #000000; text-decoration-color: #000000; font-weight: bold\">widgets/widget_output.py:112)</span>\n",
       "</pre>\n"
      ],
      "text/plain": [
       "\u001b[1;33mDeprecationWarning: Kernel._parent_header is deprecated in ipykernel 6. Use .get_parent()\u001b[0m \n",
       "\u001b[1;30m(raised from /mnt/data/work/repos/workshops/memes/env/lib/python3.9/site-packages/ipywidgets/\u001b[0m\n",
       "\u001b[1;30mwidgets/widget_output.py:112)\u001b[0m\n"
      ]
     },
     "metadata": {},
     "output_type": "display_data"
    },
    {
     "data": {
      "text/html": [
       "<pre style=\"white-space:pre;overflow-x:auto;line-height:normal;font-family:Menlo,'DejaVu Sans Mono',consolas,'Courier New',monospace\"><span style=\"color: #808000; text-decoration-color: #808000; font-weight: bold\">DeprecationWarning: Kernel._parent_header is deprecated in ipykernel 6. Use .get_parent()</span> \n",
       "<span style=\"color: #000000; text-decoration-color: #000000; font-weight: bold\">(raised from /mnt/data/work/repos/workshops/memes/env/lib/python3.9/site-packages/ipywidgets/</span>\n",
       "<span style=\"color: #000000; text-decoration-color: #000000; font-weight: bold\">widgets/widget_output.py:111)</span>\n",
       "</pre>\n"
      ],
      "text/plain": [
       "\u001b[1;33mDeprecationWarning: Kernel._parent_header is deprecated in ipykernel 6. Use .get_parent()\u001b[0m \n",
       "\u001b[1;30m(raised from /mnt/data/work/repos/workshops/memes/env/lib/python3.9/site-packages/ipywidgets/\u001b[0m\n",
       "\u001b[1;30mwidgets/widget_output.py:111)\u001b[0m\n"
      ]
     },
     "metadata": {},
     "output_type": "display_data"
    },
    {
     "data": {
      "text/html": [
       "<pre style=\"white-space:pre;overflow-x:auto;line-height:normal;font-family:Menlo,'DejaVu Sans Mono',consolas,'Courier New',monospace\"><span style=\"color: #808000; text-decoration-color: #808000; font-weight: bold\">DeprecationWarning: Kernel._parent_header is deprecated in ipykernel 6. Use .get_parent()</span> \n",
       "<span style=\"color: #000000; text-decoration-color: #000000; font-weight: bold\">(raised from /mnt/data/work/repos/workshops/memes/env/lib/python3.9/site-packages/ipywidgets/</span>\n",
       "<span style=\"color: #000000; text-decoration-color: #000000; font-weight: bold\">widgets/widget_output.py:112)</span>\n",
       "</pre>\n"
      ],
      "text/plain": [
       "\u001b[1;33mDeprecationWarning: Kernel._parent_header is deprecated in ipykernel 6. Use .get_parent()\u001b[0m \n",
       "\u001b[1;30m(raised from /mnt/data/work/repos/workshops/memes/env/lib/python3.9/site-packages/ipywidgets/\u001b[0m\n",
       "\u001b[1;30mwidgets/widget_output.py:112)\u001b[0m\n"
      ]
     },
     "metadata": {},
     "output_type": "display_data"
    },
    {
     "data": {
      "text/html": [
       "<pre style=\"white-space:pre;overflow-x:auto;line-height:normal;font-family:Menlo,'DejaVu Sans Mono',consolas,'Courier New',monospace\"><span style=\"color: #808000; text-decoration-color: #808000; font-weight: bold\">DeprecationWarning: Kernel._parent_header is deprecated in ipykernel 6. Use .get_parent()</span> \n",
       "<span style=\"color: #000000; text-decoration-color: #000000; font-weight: bold\">(raised from /mnt/data/work/repos/workshops/memes/env/lib/python3.9/site-packages/ipywidgets/</span>\n",
       "<span style=\"color: #000000; text-decoration-color: #000000; font-weight: bold\">widgets/widget_output.py:111)</span>\n",
       "</pre>\n"
      ],
      "text/plain": [
       "\u001b[1;33mDeprecationWarning: Kernel._parent_header is deprecated in ipykernel 6. Use .get_parent()\u001b[0m \n",
       "\u001b[1;30m(raised from /mnt/data/work/repos/workshops/memes/env/lib/python3.9/site-packages/ipywidgets/\u001b[0m\n",
       "\u001b[1;30mwidgets/widget_output.py:111)\u001b[0m\n"
      ]
     },
     "metadata": {},
     "output_type": "display_data"
    },
    {
     "data": {
      "text/html": [
       "<pre style=\"white-space:pre;overflow-x:auto;line-height:normal;font-family:Menlo,'DejaVu Sans Mono',consolas,'Courier New',monospace\"><span style=\"color: #808000; text-decoration-color: #808000; font-weight: bold\">DeprecationWarning: Kernel._parent_header is deprecated in ipykernel 6. Use .get_parent()</span> \n",
       "<span style=\"color: #000000; text-decoration-color: #000000; font-weight: bold\">(raised from /mnt/data/work/repos/workshops/memes/env/lib/python3.9/site-packages/ipywidgets/</span>\n",
       "<span style=\"color: #000000; text-decoration-color: #000000; font-weight: bold\">widgets/widget_output.py:112)</span>\n",
       "</pre>\n"
      ],
      "text/plain": [
       "\u001b[1;33mDeprecationWarning: Kernel._parent_header is deprecated in ipykernel 6. Use .get_parent()\u001b[0m \n",
       "\u001b[1;30m(raised from /mnt/data/work/repos/workshops/memes/env/lib/python3.9/site-packages/ipywidgets/\u001b[0m\n",
       "\u001b[1;30mwidgets/widget_output.py:112)\u001b[0m\n"
      ]
     },
     "metadata": {},
     "output_type": "display_data"
    },
    {
     "data": {
      "text/html": [
       "<pre style=\"white-space:pre;overflow-x:auto;line-height:normal;font-family:Menlo,'DejaVu Sans Mono',consolas,'Courier New',monospace\"><span style=\"color: #808000; text-decoration-color: #808000; font-weight: bold\">DeprecationWarning: Kernel._parent_header is deprecated in ipykernel 6. Use .get_parent()</span> \n",
       "<span style=\"color: #000000; text-decoration-color: #000000; font-weight: bold\">(raised from /mnt/data/work/repos/workshops/memes/env/lib/python3.9/site-packages/ipywidgets/</span>\n",
       "<span style=\"color: #000000; text-decoration-color: #000000; font-weight: bold\">widgets/widget_output.py:111)</span>\n",
       "</pre>\n"
      ],
      "text/plain": [
       "\u001b[1;33mDeprecationWarning: Kernel._parent_header is deprecated in ipykernel 6. Use .get_parent()\u001b[0m \n",
       "\u001b[1;30m(raised from /mnt/data/work/repos/workshops/memes/env/lib/python3.9/site-packages/ipywidgets/\u001b[0m\n",
       "\u001b[1;30mwidgets/widget_output.py:111)\u001b[0m\n"
      ]
     },
     "metadata": {},
     "output_type": "display_data"
    },
    {
     "data": {
      "text/html": [
       "<pre style=\"white-space:pre;overflow-x:auto;line-height:normal;font-family:Menlo,'DejaVu Sans Mono',consolas,'Courier New',monospace\"><span style=\"color: #808000; text-decoration-color: #808000; font-weight: bold\">DeprecationWarning: Kernel._parent_header is deprecated in ipykernel 6. Use .get_parent()</span> \n",
       "<span style=\"color: #000000; text-decoration-color: #000000; font-weight: bold\">(raised from /mnt/data/work/repos/workshops/memes/env/lib/python3.9/site-packages/ipywidgets/</span>\n",
       "<span style=\"color: #000000; text-decoration-color: #000000; font-weight: bold\">widgets/widget_output.py:112)</span>\n",
       "</pre>\n"
      ],
      "text/plain": [
       "\u001b[1;33mDeprecationWarning: Kernel._parent_header is deprecated in ipykernel 6. Use .get_parent()\u001b[0m \n",
       "\u001b[1;30m(raised from /mnt/data/work/repos/workshops/memes/env/lib/python3.9/site-packages/ipywidgets/\u001b[0m\n",
       "\u001b[1;30mwidgets/widget_output.py:112)\u001b[0m\n"
      ]
     },
     "metadata": {},
     "output_type": "display_data"
    },
    {
     "data": {
      "text/html": [
       "<pre style=\"white-space:pre;overflow-x:auto;line-height:normal;font-family:Menlo,'DejaVu Sans Mono',consolas,'Courier New',monospace\"><span style=\"color: #808000; text-decoration-color: #808000; font-weight: bold\">DeprecationWarning: Kernel._parent_header is deprecated in ipykernel 6. Use .get_parent()</span> \n",
       "<span style=\"color: #000000; text-decoration-color: #000000; font-weight: bold\">(raised from /mnt/data/work/repos/workshops/memes/env/lib/python3.9/site-packages/ipywidgets/</span>\n",
       "<span style=\"color: #000000; text-decoration-color: #000000; font-weight: bold\">widgets/widget_output.py:111)</span>\n",
       "</pre>\n"
      ],
      "text/plain": [
       "\u001b[1;33mDeprecationWarning: Kernel._parent_header is deprecated in ipykernel 6. Use .get_parent()\u001b[0m \n",
       "\u001b[1;30m(raised from /mnt/data/work/repos/workshops/memes/env/lib/python3.9/site-packages/ipywidgets/\u001b[0m\n",
       "\u001b[1;30mwidgets/widget_output.py:111)\u001b[0m\n"
      ]
     },
     "metadata": {},
     "output_type": "display_data"
    },
    {
     "data": {
      "text/html": [
       "<pre style=\"white-space:pre;overflow-x:auto;line-height:normal;font-family:Menlo,'DejaVu Sans Mono',consolas,'Courier New',monospace\"><span style=\"color: #808000; text-decoration-color: #808000; font-weight: bold\">DeprecationWarning: Kernel._parent_header is deprecated in ipykernel 6. Use .get_parent()</span> \n",
       "<span style=\"color: #000000; text-decoration-color: #000000; font-weight: bold\">(raised from /mnt/data/work/repos/workshops/memes/env/lib/python3.9/site-packages/ipywidgets/</span>\n",
       "<span style=\"color: #000000; text-decoration-color: #000000; font-weight: bold\">widgets/widget_output.py:112)</span>\n",
       "</pre>\n"
      ],
      "text/plain": [
       "\u001b[1;33mDeprecationWarning: Kernel._parent_header is deprecated in ipykernel 6. Use .get_parent()\u001b[0m \n",
       "\u001b[1;30m(raised from /mnt/data/work/repos/workshops/memes/env/lib/python3.9/site-packages/ipywidgets/\u001b[0m\n",
       "\u001b[1;30mwidgets/widget_output.py:112)\u001b[0m\n"
      ]
     },
     "metadata": {},
     "output_type": "display_data"
    },
    {
     "data": {
      "text/html": [
       "<pre style=\"white-space:pre;overflow-x:auto;line-height:normal;font-family:Menlo,'DejaVu Sans Mono',consolas,'Courier New',monospace\"><span style=\"color: #808000; text-decoration-color: #808000; font-weight: bold\">DeprecationWarning: Kernel._parent_header is deprecated in ipykernel 6. Use .get_parent()</span> \n",
       "<span style=\"color: #000000; text-decoration-color: #000000; font-weight: bold\">(raised from /mnt/data/work/repos/workshops/memes/env/lib/python3.9/site-packages/ipywidgets/</span>\n",
       "<span style=\"color: #000000; text-decoration-color: #000000; font-weight: bold\">widgets/widget_output.py:111)</span>\n",
       "</pre>\n"
      ],
      "text/plain": [
       "\u001b[1;33mDeprecationWarning: Kernel._parent_header is deprecated in ipykernel 6. Use .get_parent()\u001b[0m \n",
       "\u001b[1;30m(raised from /mnt/data/work/repos/workshops/memes/env/lib/python3.9/site-packages/ipywidgets/\u001b[0m\n",
       "\u001b[1;30mwidgets/widget_output.py:111)\u001b[0m\n"
      ]
     },
     "metadata": {},
     "output_type": "display_data"
    },
    {
     "data": {
      "text/html": [
       "<pre style=\"white-space:pre;overflow-x:auto;line-height:normal;font-family:Menlo,'DejaVu Sans Mono',consolas,'Courier New',monospace\"><span style=\"color: #808000; text-decoration-color: #808000; font-weight: bold\">DeprecationWarning: Kernel._parent_header is deprecated in ipykernel 6. Use .get_parent()</span> \n",
       "<span style=\"color: #000000; text-decoration-color: #000000; font-weight: bold\">(raised from /mnt/data/work/repos/workshops/memes/env/lib/python3.9/site-packages/ipywidgets/</span>\n",
       "<span style=\"color: #000000; text-decoration-color: #000000; font-weight: bold\">widgets/widget_output.py:112)</span>\n",
       "</pre>\n"
      ],
      "text/plain": [
       "\u001b[1;33mDeprecationWarning: Kernel._parent_header is deprecated in ipykernel 6. Use .get_parent()\u001b[0m \n",
       "\u001b[1;30m(raised from /mnt/data/work/repos/workshops/memes/env/lib/python3.9/site-packages/ipywidgets/\u001b[0m\n",
       "\u001b[1;30mwidgets/widget_output.py:112)\u001b[0m\n"
      ]
     },
     "metadata": {},
     "output_type": "display_data"
    },
    {
     "data": {
      "text/html": [
       "<pre style=\"white-space:pre;overflow-x:auto;line-height:normal;font-family:Menlo,'DejaVu Sans Mono',consolas,'Courier New',monospace\"><span style=\"color: #808000; text-decoration-color: #808000; font-weight: bold\">DeprecationWarning: Kernel._parent_header is deprecated in ipykernel 6. Use .get_parent()</span> \n",
       "<span style=\"color: #000000; text-decoration-color: #000000; font-weight: bold\">(raised from /mnt/data/work/repos/workshops/memes/env/lib/python3.9/site-packages/ipywidgets/</span>\n",
       "<span style=\"color: #000000; text-decoration-color: #000000; font-weight: bold\">widgets/widget_output.py:111)</span>\n",
       "</pre>\n"
      ],
      "text/plain": [
       "\u001b[1;33mDeprecationWarning: Kernel._parent_header is deprecated in ipykernel 6. Use .get_parent()\u001b[0m \n",
       "\u001b[1;30m(raised from /mnt/data/work/repos/workshops/memes/env/lib/python3.9/site-packages/ipywidgets/\u001b[0m\n",
       "\u001b[1;30mwidgets/widget_output.py:111)\u001b[0m\n"
      ]
     },
     "metadata": {},
     "output_type": "display_data"
    },
    {
     "data": {
      "text/html": [
       "<pre style=\"white-space:pre;overflow-x:auto;line-height:normal;font-family:Menlo,'DejaVu Sans Mono',consolas,'Courier New',monospace\"><span style=\"color: #808000; text-decoration-color: #808000; font-weight: bold\">DeprecationWarning: Kernel._parent_header is deprecated in ipykernel 6. Use .get_parent()</span> \n",
       "<span style=\"color: #000000; text-decoration-color: #000000; font-weight: bold\">(raised from /mnt/data/work/repos/workshops/memes/env/lib/python3.9/site-packages/ipywidgets/</span>\n",
       "<span style=\"color: #000000; text-decoration-color: #000000; font-weight: bold\">widgets/widget_output.py:112)</span>\n",
       "</pre>\n"
      ],
      "text/plain": [
       "\u001b[1;33mDeprecationWarning: Kernel._parent_header is deprecated in ipykernel 6. Use .get_parent()\u001b[0m \n",
       "\u001b[1;30m(raised from /mnt/data/work/repos/workshops/memes/env/lib/python3.9/site-packages/ipywidgets/\u001b[0m\n",
       "\u001b[1;30mwidgets/widget_output.py:112)\u001b[0m\n"
      ]
     },
     "metadata": {},
     "output_type": "display_data"
    },
    {
     "data": {
      "text/html": [
       "<pre style=\"white-space:pre;overflow-x:auto;line-height:normal;font-family:Menlo,'DejaVu Sans Mono',consolas,'Courier New',monospace\"><span style=\"color: #808000; text-decoration-color: #808000; font-weight: bold\">DeprecationWarning: Kernel._parent_header is deprecated in ipykernel 6. Use .get_parent()</span> \n",
       "<span style=\"color: #000000; text-decoration-color: #000000; font-weight: bold\">(raised from /mnt/data/work/repos/workshops/memes/env/lib/python3.9/site-packages/ipywidgets/</span>\n",
       "<span style=\"color: #000000; text-decoration-color: #000000; font-weight: bold\">widgets/widget_output.py:111)</span>\n",
       "</pre>\n"
      ],
      "text/plain": [
       "\u001b[1;33mDeprecationWarning: Kernel._parent_header is deprecated in ipykernel 6. Use .get_parent()\u001b[0m \n",
       "\u001b[1;30m(raised from /mnt/data/work/repos/workshops/memes/env/lib/python3.9/site-packages/ipywidgets/\u001b[0m\n",
       "\u001b[1;30mwidgets/widget_output.py:111)\u001b[0m\n"
      ]
     },
     "metadata": {},
     "output_type": "display_data"
    },
    {
     "data": {
      "text/html": [
       "<pre style=\"white-space:pre;overflow-x:auto;line-height:normal;font-family:Menlo,'DejaVu Sans Mono',consolas,'Courier New',monospace\"><span style=\"color: #808000; text-decoration-color: #808000; font-weight: bold\">DeprecationWarning: Kernel._parent_header is deprecated in ipykernel 6. Use .get_parent()</span> \n",
       "<span style=\"color: #000000; text-decoration-color: #000000; font-weight: bold\">(raised from /mnt/data/work/repos/workshops/memes/env/lib/python3.9/site-packages/ipywidgets/</span>\n",
       "<span style=\"color: #000000; text-decoration-color: #000000; font-weight: bold\">widgets/widget_output.py:112)</span>\n",
       "</pre>\n"
      ],
      "text/plain": [
       "\u001b[1;33mDeprecationWarning: Kernel._parent_header is deprecated in ipykernel 6. Use .get_parent()\u001b[0m \n",
       "\u001b[1;30m(raised from /mnt/data/work/repos/workshops/memes/env/lib/python3.9/site-packages/ipywidgets/\u001b[0m\n",
       "\u001b[1;30mwidgets/widget_output.py:112)\u001b[0m\n"
      ]
     },
     "metadata": {},
     "output_type": "display_data"
    },
    {
     "data": {
      "text/html": [
       "<pre style=\"white-space:pre;overflow-x:auto;line-height:normal;font-family:Menlo,'DejaVu Sans Mono',consolas,'Courier New',monospace\"><span style=\"color: #808000; text-decoration-color: #808000; font-weight: bold\">DeprecationWarning: Kernel._parent_header is deprecated in ipykernel 6. Use .get_parent()</span> \n",
       "<span style=\"color: #000000; text-decoration-color: #000000; font-weight: bold\">(raised from /mnt/data/work/repos/workshops/memes/env/lib/python3.9/site-packages/ipywidgets/</span>\n",
       "<span style=\"color: #000000; text-decoration-color: #000000; font-weight: bold\">widgets/widget_output.py:111)</span>\n",
       "</pre>\n"
      ],
      "text/plain": [
       "\u001b[1;33mDeprecationWarning: Kernel._parent_header is deprecated in ipykernel 6. Use .get_parent()\u001b[0m \n",
       "\u001b[1;30m(raised from /mnt/data/work/repos/workshops/memes/env/lib/python3.9/site-packages/ipywidgets/\u001b[0m\n",
       "\u001b[1;30mwidgets/widget_output.py:111)\u001b[0m\n"
      ]
     },
     "metadata": {},
     "output_type": "display_data"
    },
    {
     "data": {
      "text/html": [
       "<pre style=\"white-space:pre;overflow-x:auto;line-height:normal;font-family:Menlo,'DejaVu Sans Mono',consolas,'Courier New',monospace\"><span style=\"color: #808000; text-decoration-color: #808000; font-weight: bold\">DeprecationWarning: Kernel._parent_header is deprecated in ipykernel 6. Use .get_parent()</span> \n",
       "<span style=\"color: #000000; text-decoration-color: #000000; font-weight: bold\">(raised from /mnt/data/work/repos/workshops/memes/env/lib/python3.9/site-packages/ipywidgets/</span>\n",
       "<span style=\"color: #000000; text-decoration-color: #000000; font-weight: bold\">widgets/widget_output.py:112)</span>\n",
       "</pre>\n"
      ],
      "text/plain": [
       "\u001b[1;33mDeprecationWarning: Kernel._parent_header is deprecated in ipykernel 6. Use .get_parent()\u001b[0m \n",
       "\u001b[1;30m(raised from /mnt/data/work/repos/workshops/memes/env/lib/python3.9/site-packages/ipywidgets/\u001b[0m\n",
       "\u001b[1;30mwidgets/widget_output.py:112)\u001b[0m\n"
      ]
     },
     "metadata": {},
     "output_type": "display_data"
    },
    {
     "data": {
      "text/html": [
       "<pre style=\"white-space:pre;overflow-x:auto;line-height:normal;font-family:Menlo,'DejaVu Sans Mono',consolas,'Courier New',monospace\"><span style=\"color: #808000; text-decoration-color: #808000; font-weight: bold\">DeprecationWarning: Kernel._parent_header is deprecated in ipykernel 6. Use .get_parent()</span> \n",
       "<span style=\"color: #000000; text-decoration-color: #000000; font-weight: bold\">(raised from /mnt/data/work/repos/workshops/memes/env/lib/python3.9/site-packages/ipywidgets/</span>\n",
       "<span style=\"color: #000000; text-decoration-color: #000000; font-weight: bold\">widgets/widget_output.py:111)</span>\n",
       "</pre>\n"
      ],
      "text/plain": [
       "\u001b[1;33mDeprecationWarning: Kernel._parent_header is deprecated in ipykernel 6. Use .get_parent()\u001b[0m \n",
       "\u001b[1;30m(raised from /mnt/data/work/repos/workshops/memes/env/lib/python3.9/site-packages/ipywidgets/\u001b[0m\n",
       "\u001b[1;30mwidgets/widget_output.py:111)\u001b[0m\n"
      ]
     },
     "metadata": {},
     "output_type": "display_data"
    },
    {
     "data": {
      "text/html": [
       "<pre style=\"white-space:pre;overflow-x:auto;line-height:normal;font-family:Menlo,'DejaVu Sans Mono',consolas,'Courier New',monospace\"><span style=\"color: #808000; text-decoration-color: #808000; font-weight: bold\">DeprecationWarning: Kernel._parent_header is deprecated in ipykernel 6. Use .get_parent()</span> \n",
       "<span style=\"color: #000000; text-decoration-color: #000000; font-weight: bold\">(raised from /mnt/data/work/repos/workshops/memes/env/lib/python3.9/site-packages/ipywidgets/</span>\n",
       "<span style=\"color: #000000; text-decoration-color: #000000; font-weight: bold\">widgets/widget_output.py:112)</span>\n",
       "</pre>\n"
      ],
      "text/plain": [
       "\u001b[1;33mDeprecationWarning: Kernel._parent_header is deprecated in ipykernel 6. Use .get_parent()\u001b[0m \n",
       "\u001b[1;30m(raised from /mnt/data/work/repos/workshops/memes/env/lib/python3.9/site-packages/ipywidgets/\u001b[0m\n",
       "\u001b[1;30mwidgets/widget_output.py:112)\u001b[0m\n"
      ]
     },
     "metadata": {},
     "output_type": "display_data"
    },
    {
     "data": {
      "text/html": [
       "<pre style=\"white-space:pre;overflow-x:auto;line-height:normal;font-family:Menlo,'DejaVu Sans Mono',consolas,'Courier New',monospace\"><span style=\"color: #808000; text-decoration-color: #808000; font-weight: bold\">DeprecationWarning: Kernel._parent_header is deprecated in ipykernel 6. Use .get_parent()</span> \n",
       "<span style=\"color: #000000; text-decoration-color: #000000; font-weight: bold\">(raised from /mnt/data/work/repos/workshops/memes/env/lib/python3.9/site-packages/ipywidgets/</span>\n",
       "<span style=\"color: #000000; text-decoration-color: #000000; font-weight: bold\">widgets/widget_output.py:111)</span>\n",
       "</pre>\n"
      ],
      "text/plain": [
       "\u001b[1;33mDeprecationWarning: Kernel._parent_header is deprecated in ipykernel 6. Use .get_parent()\u001b[0m \n",
       "\u001b[1;30m(raised from /mnt/data/work/repos/workshops/memes/env/lib/python3.9/site-packages/ipywidgets/\u001b[0m\n",
       "\u001b[1;30mwidgets/widget_output.py:111)\u001b[0m\n"
      ]
     },
     "metadata": {},
     "output_type": "display_data"
    },
    {
     "data": {
      "text/html": [
       "<pre style=\"white-space:pre;overflow-x:auto;line-height:normal;font-family:Menlo,'DejaVu Sans Mono',consolas,'Courier New',monospace\"><span style=\"color: #808000; text-decoration-color: #808000; font-weight: bold\">DeprecationWarning: Kernel._parent_header is deprecated in ipykernel 6. Use .get_parent()</span> \n",
       "<span style=\"color: #000000; text-decoration-color: #000000; font-weight: bold\">(raised from /mnt/data/work/repos/workshops/memes/env/lib/python3.9/site-packages/ipywidgets/</span>\n",
       "<span style=\"color: #000000; text-decoration-color: #000000; font-weight: bold\">widgets/widget_output.py:112)</span>\n",
       "</pre>\n"
      ],
      "text/plain": [
       "\u001b[1;33mDeprecationWarning: Kernel._parent_header is deprecated in ipykernel 6. Use .get_parent()\u001b[0m \n",
       "\u001b[1;30m(raised from /mnt/data/work/repos/workshops/memes/env/lib/python3.9/site-packages/ipywidgets/\u001b[0m\n",
       "\u001b[1;30mwidgets/widget_output.py:112)\u001b[0m\n"
      ]
     },
     "metadata": {},
     "output_type": "display_data"
    },
    {
     "data": {
      "text/html": [
       "<pre style=\"white-space:pre;overflow-x:auto;line-height:normal;font-family:Menlo,'DejaVu Sans Mono',consolas,'Courier New',monospace\"><span style=\"color: #808000; text-decoration-color: #808000; font-weight: bold\">DeprecationWarning: Kernel._parent_header is deprecated in ipykernel 6. Use .get_parent()</span> \n",
       "<span style=\"color: #000000; text-decoration-color: #000000; font-weight: bold\">(raised from /mnt/data/work/repos/workshops/memes/env/lib/python3.9/site-packages/ipywidgets/</span>\n",
       "<span style=\"color: #000000; text-decoration-color: #000000; font-weight: bold\">widgets/widget_output.py:111)</span>\n",
       "</pre>\n"
      ],
      "text/plain": [
       "\u001b[1;33mDeprecationWarning: Kernel._parent_header is deprecated in ipykernel 6. Use .get_parent()\u001b[0m \n",
       "\u001b[1;30m(raised from /mnt/data/work/repos/workshops/memes/env/lib/python3.9/site-packages/ipywidgets/\u001b[0m\n",
       "\u001b[1;30mwidgets/widget_output.py:111)\u001b[0m\n"
      ]
     },
     "metadata": {},
     "output_type": "display_data"
    },
    {
     "data": {
      "text/html": [
       "<pre style=\"white-space:pre;overflow-x:auto;line-height:normal;font-family:Menlo,'DejaVu Sans Mono',consolas,'Courier New',monospace\"><span style=\"color: #808000; text-decoration-color: #808000; font-weight: bold\">DeprecationWarning: Kernel._parent_header is deprecated in ipykernel 6. Use .get_parent()</span> \n",
       "<span style=\"color: #000000; text-decoration-color: #000000; font-weight: bold\">(raised from /mnt/data/work/repos/workshops/memes/env/lib/python3.9/site-packages/ipywidgets/</span>\n",
       "<span style=\"color: #000000; text-decoration-color: #000000; font-weight: bold\">widgets/widget_output.py:112)</span>\n",
       "</pre>\n"
      ],
      "text/plain": [
       "\u001b[1;33mDeprecationWarning: Kernel._parent_header is deprecated in ipykernel 6. Use .get_parent()\u001b[0m \n",
       "\u001b[1;30m(raised from /mnt/data/work/repos/workshops/memes/env/lib/python3.9/site-packages/ipywidgets/\u001b[0m\n",
       "\u001b[1;30mwidgets/widget_output.py:112)\u001b[0m\n"
      ]
     },
     "metadata": {},
     "output_type": "display_data"
    },
    {
     "data": {
      "text/html": [
       "<pre style=\"white-space:pre;overflow-x:auto;line-height:normal;font-family:Menlo,'DejaVu Sans Mono',consolas,'Courier New',monospace\"><span style=\"color: #808000; text-decoration-color: #808000; font-weight: bold\">DeprecationWarning: Kernel._parent_header is deprecated in ipykernel 6. Use .get_parent()</span> \n",
       "<span style=\"color: #000000; text-decoration-color: #000000; font-weight: bold\">(raised from /mnt/data/work/repos/workshops/memes/env/lib/python3.9/site-packages/ipywidgets/</span>\n",
       "<span style=\"color: #000000; text-decoration-color: #000000; font-weight: bold\">widgets/widget_output.py:111)</span>\n",
       "</pre>\n"
      ],
      "text/plain": [
       "\u001b[1;33mDeprecationWarning: Kernel._parent_header is deprecated in ipykernel 6. Use .get_parent()\u001b[0m \n",
       "\u001b[1;30m(raised from /mnt/data/work/repos/workshops/memes/env/lib/python3.9/site-packages/ipywidgets/\u001b[0m\n",
       "\u001b[1;30mwidgets/widget_output.py:111)\u001b[0m\n"
      ]
     },
     "metadata": {},
     "output_type": "display_data"
    },
    {
     "data": {
      "text/html": [
       "<pre style=\"white-space:pre;overflow-x:auto;line-height:normal;font-family:Menlo,'DejaVu Sans Mono',consolas,'Courier New',monospace\"><span style=\"color: #808000; text-decoration-color: #808000; font-weight: bold\">DeprecationWarning: Kernel._parent_header is deprecated in ipykernel 6. Use .get_parent()</span> \n",
       "<span style=\"color: #000000; text-decoration-color: #000000; font-weight: bold\">(raised from /mnt/data/work/repos/workshops/memes/env/lib/python3.9/site-packages/ipywidgets/</span>\n",
       "<span style=\"color: #000000; text-decoration-color: #000000; font-weight: bold\">widgets/widget_output.py:112)</span>\n",
       "</pre>\n"
      ],
      "text/plain": [
       "\u001b[1;33mDeprecationWarning: Kernel._parent_header is deprecated in ipykernel 6. Use .get_parent()\u001b[0m \n",
       "\u001b[1;30m(raised from /mnt/data/work/repos/workshops/memes/env/lib/python3.9/site-packages/ipywidgets/\u001b[0m\n",
       "\u001b[1;30mwidgets/widget_output.py:112)\u001b[0m\n"
      ]
     },
     "metadata": {},
     "output_type": "display_data"
    },
    {
     "data": {
      "text/html": [
       "<pre style=\"white-space:pre;overflow-x:auto;line-height:normal;font-family:Menlo,'DejaVu Sans Mono',consolas,'Courier New',monospace\"><span style=\"color: #808000; text-decoration-color: #808000; font-weight: bold\">DeprecationWarning: Kernel._parent_header is deprecated in ipykernel 6. Use .get_parent()</span> \n",
       "<span style=\"color: #000000; text-decoration-color: #000000; font-weight: bold\">(raised from /mnt/data/work/repos/workshops/memes/env/lib/python3.9/site-packages/ipywidgets/</span>\n",
       "<span style=\"color: #000000; text-decoration-color: #000000; font-weight: bold\">widgets/widget_output.py:111)</span>\n",
       "</pre>\n"
      ],
      "text/plain": [
       "\u001b[1;33mDeprecationWarning: Kernel._parent_header is deprecated in ipykernel 6. Use .get_parent()\u001b[0m \n",
       "\u001b[1;30m(raised from /mnt/data/work/repos/workshops/memes/env/lib/python3.9/site-packages/ipywidgets/\u001b[0m\n",
       "\u001b[1;30mwidgets/widget_output.py:111)\u001b[0m\n"
      ]
     },
     "metadata": {},
     "output_type": "display_data"
    },
    {
     "data": {
      "text/html": [
       "<pre style=\"white-space:pre;overflow-x:auto;line-height:normal;font-family:Menlo,'DejaVu Sans Mono',consolas,'Courier New',monospace\"><span style=\"color: #808000; text-decoration-color: #808000; font-weight: bold\">DeprecationWarning: Kernel._parent_header is deprecated in ipykernel 6. Use .get_parent()</span> \n",
       "<span style=\"color: #000000; text-decoration-color: #000000; font-weight: bold\">(raised from /mnt/data/work/repos/workshops/memes/env/lib/python3.9/site-packages/ipywidgets/</span>\n",
       "<span style=\"color: #000000; text-decoration-color: #000000; font-weight: bold\">widgets/widget_output.py:112)</span>\n",
       "</pre>\n"
      ],
      "text/plain": [
       "\u001b[1;33mDeprecationWarning: Kernel._parent_header is deprecated in ipykernel 6. Use .get_parent()\u001b[0m \n",
       "\u001b[1;30m(raised from /mnt/data/work/repos/workshops/memes/env/lib/python3.9/site-packages/ipywidgets/\u001b[0m\n",
       "\u001b[1;30mwidgets/widget_output.py:112)\u001b[0m\n"
      ]
     },
     "metadata": {},
     "output_type": "display_data"
    },
    {
     "data": {
      "text/html": [
       "<pre style=\"white-space:pre;overflow-x:auto;line-height:normal;font-family:Menlo,'DejaVu Sans Mono',consolas,'Courier New',monospace\"><span style=\"color: #808000; text-decoration-color: #808000; font-weight: bold\">DeprecationWarning: Kernel._parent_header is deprecated in ipykernel 6. Use .get_parent()</span> \n",
       "<span style=\"color: #000000; text-decoration-color: #000000; font-weight: bold\">(raised from /mnt/data/work/repos/workshops/memes/env/lib/python3.9/site-packages/ipywidgets/</span>\n",
       "<span style=\"color: #000000; text-decoration-color: #000000; font-weight: bold\">widgets/widget_output.py:111)</span>\n",
       "</pre>\n"
      ],
      "text/plain": [
       "\u001b[1;33mDeprecationWarning: Kernel._parent_header is deprecated in ipykernel 6. Use .get_parent()\u001b[0m \n",
       "\u001b[1;30m(raised from /mnt/data/work/repos/workshops/memes/env/lib/python3.9/site-packages/ipywidgets/\u001b[0m\n",
       "\u001b[1;30mwidgets/widget_output.py:111)\u001b[0m\n"
      ]
     },
     "metadata": {},
     "output_type": "display_data"
    },
    {
     "data": {
      "text/html": [
       "<pre style=\"white-space:pre;overflow-x:auto;line-height:normal;font-family:Menlo,'DejaVu Sans Mono',consolas,'Courier New',monospace\"><span style=\"color: #808000; text-decoration-color: #808000; font-weight: bold\">DeprecationWarning: Kernel._parent_header is deprecated in ipykernel 6. Use .get_parent()</span> \n",
       "<span style=\"color: #000000; text-decoration-color: #000000; font-weight: bold\">(raised from /mnt/data/work/repos/workshops/memes/env/lib/python3.9/site-packages/ipywidgets/</span>\n",
       "<span style=\"color: #000000; text-decoration-color: #000000; font-weight: bold\">widgets/widget_output.py:112)</span>\n",
       "</pre>\n"
      ],
      "text/plain": [
       "\u001b[1;33mDeprecationWarning: Kernel._parent_header is deprecated in ipykernel 6. Use .get_parent()\u001b[0m \n",
       "\u001b[1;30m(raised from /mnt/data/work/repos/workshops/memes/env/lib/python3.9/site-packages/ipywidgets/\u001b[0m\n",
       "\u001b[1;30mwidgets/widget_output.py:112)\u001b[0m\n"
      ]
     },
     "metadata": {},
     "output_type": "display_data"
    },
    {
     "data": {
      "text/html": [
       "<pre style=\"white-space:pre;overflow-x:auto;line-height:normal;font-family:Menlo,'DejaVu Sans Mono',consolas,'Courier New',monospace\"><span style=\"color: #808000; text-decoration-color: #808000; font-weight: bold\">DeprecationWarning: Kernel._parent_header is deprecated in ipykernel 6. Use .get_parent()</span> \n",
       "<span style=\"color: #000000; text-decoration-color: #000000; font-weight: bold\">(raised from /mnt/data/work/repos/workshops/memes/env/lib/python3.9/site-packages/ipywidgets/</span>\n",
       "<span style=\"color: #000000; text-decoration-color: #000000; font-weight: bold\">widgets/widget_output.py:111)</span>\n",
       "</pre>\n"
      ],
      "text/plain": [
       "\u001b[1;33mDeprecationWarning: Kernel._parent_header is deprecated in ipykernel 6. Use .get_parent()\u001b[0m \n",
       "\u001b[1;30m(raised from /mnt/data/work/repos/workshops/memes/env/lib/python3.9/site-packages/ipywidgets/\u001b[0m\n",
       "\u001b[1;30mwidgets/widget_output.py:111)\u001b[0m\n"
      ]
     },
     "metadata": {},
     "output_type": "display_data"
    },
    {
     "data": {
      "text/html": [
       "<pre style=\"white-space:pre;overflow-x:auto;line-height:normal;font-family:Menlo,'DejaVu Sans Mono',consolas,'Courier New',monospace\"><span style=\"color: #808000; text-decoration-color: #808000; font-weight: bold\">DeprecationWarning: Kernel._parent_header is deprecated in ipykernel 6. Use .get_parent()</span> \n",
       "<span style=\"color: #000000; text-decoration-color: #000000; font-weight: bold\">(raised from /mnt/data/work/repos/workshops/memes/env/lib/python3.9/site-packages/ipywidgets/</span>\n",
       "<span style=\"color: #000000; text-decoration-color: #000000; font-weight: bold\">widgets/widget_output.py:112)</span>\n",
       "</pre>\n"
      ],
      "text/plain": [
       "\u001b[1;33mDeprecationWarning: Kernel._parent_header is deprecated in ipykernel 6. Use .get_parent()\u001b[0m \n",
       "\u001b[1;30m(raised from /mnt/data/work/repos/workshops/memes/env/lib/python3.9/site-packages/ipywidgets/\u001b[0m\n",
       "\u001b[1;30mwidgets/widget_output.py:112)\u001b[0m\n"
      ]
     },
     "metadata": {},
     "output_type": "display_data"
    },
    {
     "data": {
      "text/html": [
       "<pre style=\"white-space:pre;overflow-x:auto;line-height:normal;font-family:Menlo,'DejaVu Sans Mono',consolas,'Courier New',monospace\"><span style=\"color: #808000; text-decoration-color: #808000; font-weight: bold\">DeprecationWarning: Kernel._parent_header is deprecated in ipykernel 6. Use .get_parent()</span> \n",
       "<span style=\"color: #000000; text-decoration-color: #000000; font-weight: bold\">(raised from /mnt/data/work/repos/workshops/memes/env/lib/python3.9/site-packages/ipywidgets/</span>\n",
       "<span style=\"color: #000000; text-decoration-color: #000000; font-weight: bold\">widgets/widget_output.py:111)</span>\n",
       "</pre>\n"
      ],
      "text/plain": [
       "\u001b[1;33mDeprecationWarning: Kernel._parent_header is deprecated in ipykernel 6. Use .get_parent()\u001b[0m \n",
       "\u001b[1;30m(raised from /mnt/data/work/repos/workshops/memes/env/lib/python3.9/site-packages/ipywidgets/\u001b[0m\n",
       "\u001b[1;30mwidgets/widget_output.py:111)\u001b[0m\n"
      ]
     },
     "metadata": {},
     "output_type": "display_data"
    },
    {
     "data": {
      "text/html": [
       "<pre style=\"white-space:pre;overflow-x:auto;line-height:normal;font-family:Menlo,'DejaVu Sans Mono',consolas,'Courier New',monospace\"><span style=\"color: #808000; text-decoration-color: #808000; font-weight: bold\">DeprecationWarning: Kernel._parent_header is deprecated in ipykernel 6. Use .get_parent()</span> \n",
       "<span style=\"color: #000000; text-decoration-color: #000000; font-weight: bold\">(raised from /mnt/data/work/repos/workshops/memes/env/lib/python3.9/site-packages/ipywidgets/</span>\n",
       "<span style=\"color: #000000; text-decoration-color: #000000; font-weight: bold\">widgets/widget_output.py:112)</span>\n",
       "</pre>\n"
      ],
      "text/plain": [
       "\u001b[1;33mDeprecationWarning: Kernel._parent_header is deprecated in ipykernel 6. Use .get_parent()\u001b[0m \n",
       "\u001b[1;30m(raised from /mnt/data/work/repos/workshops/memes/env/lib/python3.9/site-packages/ipywidgets/\u001b[0m\n",
       "\u001b[1;30mwidgets/widget_output.py:112)\u001b[0m\n"
      ]
     },
     "metadata": {},
     "output_type": "display_data"
    },
    {
     "data": {
      "text/html": [
       "<pre style=\"white-space:pre;overflow-x:auto;line-height:normal;font-family:Menlo,'DejaVu Sans Mono',consolas,'Courier New',monospace\"><span style=\"color: #808000; text-decoration-color: #808000; font-weight: bold\">DeprecationWarning: Kernel._parent_header is deprecated in ipykernel 6. Use .get_parent()</span> \n",
       "<span style=\"color: #000000; text-decoration-color: #000000; font-weight: bold\">(raised from /mnt/data/work/repos/workshops/memes/env/lib/python3.9/site-packages/ipywidgets/</span>\n",
       "<span style=\"color: #000000; text-decoration-color: #000000; font-weight: bold\">widgets/widget_output.py:111)</span>\n",
       "</pre>\n"
      ],
      "text/plain": [
       "\u001b[1;33mDeprecationWarning: Kernel._parent_header is deprecated in ipykernel 6. Use .get_parent()\u001b[0m \n",
       "\u001b[1;30m(raised from /mnt/data/work/repos/workshops/memes/env/lib/python3.9/site-packages/ipywidgets/\u001b[0m\n",
       "\u001b[1;30mwidgets/widget_output.py:111)\u001b[0m\n"
      ]
     },
     "metadata": {},
     "output_type": "display_data"
    },
    {
     "data": {
      "text/html": [
       "<pre style=\"white-space:pre;overflow-x:auto;line-height:normal;font-family:Menlo,'DejaVu Sans Mono',consolas,'Courier New',monospace\"><span style=\"color: #808000; text-decoration-color: #808000; font-weight: bold\">DeprecationWarning: Kernel._parent_header is deprecated in ipykernel 6. Use .get_parent()</span> \n",
       "<span style=\"color: #000000; text-decoration-color: #000000; font-weight: bold\">(raised from /mnt/data/work/repos/workshops/memes/env/lib/python3.9/site-packages/ipywidgets/</span>\n",
       "<span style=\"color: #000000; text-decoration-color: #000000; font-weight: bold\">widgets/widget_output.py:112)</span>\n",
       "</pre>\n"
      ],
      "text/plain": [
       "\u001b[1;33mDeprecationWarning: Kernel._parent_header is deprecated in ipykernel 6. Use .get_parent()\u001b[0m \n",
       "\u001b[1;30m(raised from /mnt/data/work/repos/workshops/memes/env/lib/python3.9/site-packages/ipywidgets/\u001b[0m\n",
       "\u001b[1;30mwidgets/widget_output.py:112)\u001b[0m\n"
      ]
     },
     "metadata": {},
     "output_type": "display_data"
    },
    {
     "data": {
      "text/html": [
       "<pre style=\"white-space:pre;overflow-x:auto;line-height:normal;font-family:Menlo,'DejaVu Sans Mono',consolas,'Courier New',monospace\"><span style=\"color: #808000; text-decoration-color: #808000; font-weight: bold\">DeprecationWarning: Kernel._parent_header is deprecated in ipykernel 6. Use .get_parent()</span> \n",
       "<span style=\"color: #000000; text-decoration-color: #000000; font-weight: bold\">(raised from /mnt/data/work/repos/workshops/memes/env/lib/python3.9/site-packages/ipywidgets/</span>\n",
       "<span style=\"color: #000000; text-decoration-color: #000000; font-weight: bold\">widgets/widget_output.py:111)</span>\n",
       "</pre>\n"
      ],
      "text/plain": [
       "\u001b[1;33mDeprecationWarning: Kernel._parent_header is deprecated in ipykernel 6. Use .get_parent()\u001b[0m \n",
       "\u001b[1;30m(raised from /mnt/data/work/repos/workshops/memes/env/lib/python3.9/site-packages/ipywidgets/\u001b[0m\n",
       "\u001b[1;30mwidgets/widget_output.py:111)\u001b[0m\n"
      ]
     },
     "metadata": {},
     "output_type": "display_data"
    },
    {
     "data": {
      "text/html": [
       "<pre style=\"white-space:pre;overflow-x:auto;line-height:normal;font-family:Menlo,'DejaVu Sans Mono',consolas,'Courier New',monospace\"><span style=\"color: #808000; text-decoration-color: #808000; font-weight: bold\">DeprecationWarning: Kernel._parent_header is deprecated in ipykernel 6. Use .get_parent()</span> \n",
       "<span style=\"color: #000000; text-decoration-color: #000000; font-weight: bold\">(raised from /mnt/data/work/repos/workshops/memes/env/lib/python3.9/site-packages/ipywidgets/</span>\n",
       "<span style=\"color: #000000; text-decoration-color: #000000; font-weight: bold\">widgets/widget_output.py:112)</span>\n",
       "</pre>\n"
      ],
      "text/plain": [
       "\u001b[1;33mDeprecationWarning: Kernel._parent_header is deprecated in ipykernel 6. Use .get_parent()\u001b[0m \n",
       "\u001b[1;30m(raised from /mnt/data/work/repos/workshops/memes/env/lib/python3.9/site-packages/ipywidgets/\u001b[0m\n",
       "\u001b[1;30mwidgets/widget_output.py:112)\u001b[0m\n"
      ]
     },
     "metadata": {},
     "output_type": "display_data"
    },
    {
     "data": {
      "text/html": [
       "<pre style=\"white-space:pre;overflow-x:auto;line-height:normal;font-family:Menlo,'DejaVu Sans Mono',consolas,'Courier New',monospace\"><span style=\"color: #808000; text-decoration-color: #808000; font-weight: bold\">DeprecationWarning: Kernel._parent_header is deprecated in ipykernel 6. Use .get_parent()</span> \n",
       "<span style=\"color: #000000; text-decoration-color: #000000; font-weight: bold\">(raised from /mnt/data/work/repos/workshops/memes/env/lib/python3.9/site-packages/ipywidgets/</span>\n",
       "<span style=\"color: #000000; text-decoration-color: #000000; font-weight: bold\">widgets/widget_output.py:111)</span>\n",
       "</pre>\n"
      ],
      "text/plain": [
       "\u001b[1;33mDeprecationWarning: Kernel._parent_header is deprecated in ipykernel 6. Use .get_parent()\u001b[0m \n",
       "\u001b[1;30m(raised from /mnt/data/work/repos/workshops/memes/env/lib/python3.9/site-packages/ipywidgets/\u001b[0m\n",
       "\u001b[1;30mwidgets/widget_output.py:111)\u001b[0m\n"
      ]
     },
     "metadata": {},
     "output_type": "display_data"
    },
    {
     "data": {
      "text/html": [
       "<pre style=\"white-space:pre;overflow-x:auto;line-height:normal;font-family:Menlo,'DejaVu Sans Mono',consolas,'Courier New',monospace\"><span style=\"color: #808000; text-decoration-color: #808000; font-weight: bold\">DeprecationWarning: Kernel._parent_header is deprecated in ipykernel 6. Use .get_parent()</span> \n",
       "<span style=\"color: #000000; text-decoration-color: #000000; font-weight: bold\">(raised from /mnt/data/work/repos/workshops/memes/env/lib/python3.9/site-packages/ipywidgets/</span>\n",
       "<span style=\"color: #000000; text-decoration-color: #000000; font-weight: bold\">widgets/widget_output.py:112)</span>\n",
       "</pre>\n"
      ],
      "text/plain": [
       "\u001b[1;33mDeprecationWarning: Kernel._parent_header is deprecated in ipykernel 6. Use .get_parent()\u001b[0m \n",
       "\u001b[1;30m(raised from /mnt/data/work/repos/workshops/memes/env/lib/python3.9/site-packages/ipywidgets/\u001b[0m\n",
       "\u001b[1;30mwidgets/widget_output.py:112)\u001b[0m\n"
      ]
     },
     "metadata": {},
     "output_type": "display_data"
    },
    {
     "data": {
      "text/html": [
       "<pre style=\"white-space:pre;overflow-x:auto;line-height:normal;font-family:Menlo,'DejaVu Sans Mono',consolas,'Courier New',monospace\"><span style=\"color: #808000; text-decoration-color: #808000; font-weight: bold\">DeprecationWarning: Kernel._parent_header is deprecated in ipykernel 6. Use .get_parent()</span> \n",
       "<span style=\"color: #000000; text-decoration-color: #000000; font-weight: bold\">(raised from /mnt/data/work/repos/workshops/memes/env/lib/python3.9/site-packages/ipywidgets/</span>\n",
       "<span style=\"color: #000000; text-decoration-color: #000000; font-weight: bold\">widgets/widget_output.py:111)</span>\n",
       "</pre>\n"
      ],
      "text/plain": [
       "\u001b[1;33mDeprecationWarning: Kernel._parent_header is deprecated in ipykernel 6. Use .get_parent()\u001b[0m \n",
       "\u001b[1;30m(raised from /mnt/data/work/repos/workshops/memes/env/lib/python3.9/site-packages/ipywidgets/\u001b[0m\n",
       "\u001b[1;30mwidgets/widget_output.py:111)\u001b[0m\n"
      ]
     },
     "metadata": {},
     "output_type": "display_data"
    },
    {
     "data": {
      "text/html": [
       "<pre style=\"white-space:pre;overflow-x:auto;line-height:normal;font-family:Menlo,'DejaVu Sans Mono',consolas,'Courier New',monospace\"><span style=\"color: #808000; text-decoration-color: #808000; font-weight: bold\">DeprecationWarning: Kernel._parent_header is deprecated in ipykernel 6. Use .get_parent()</span> \n",
       "<span style=\"color: #000000; text-decoration-color: #000000; font-weight: bold\">(raised from /mnt/data/work/repos/workshops/memes/env/lib/python3.9/site-packages/ipywidgets/</span>\n",
       "<span style=\"color: #000000; text-decoration-color: #000000; font-weight: bold\">widgets/widget_output.py:112)</span>\n",
       "</pre>\n"
      ],
      "text/plain": [
       "\u001b[1;33mDeprecationWarning: Kernel._parent_header is deprecated in ipykernel 6. Use .get_parent()\u001b[0m \n",
       "\u001b[1;30m(raised from /mnt/data/work/repos/workshops/memes/env/lib/python3.9/site-packages/ipywidgets/\u001b[0m\n",
       "\u001b[1;30mwidgets/widget_output.py:112)\u001b[0m\n"
      ]
     },
     "metadata": {},
     "output_type": "display_data"
    },
    {
     "data": {
      "text/html": [
       "<pre style=\"white-space:pre;overflow-x:auto;line-height:normal;font-family:Menlo,'DejaVu Sans Mono',consolas,'Courier New',monospace\"><span style=\"color: #808000; text-decoration-color: #808000; font-weight: bold\">DeprecationWarning: Kernel._parent_header is deprecated in ipykernel 6. Use .get_parent()</span> \n",
       "<span style=\"color: #000000; text-decoration-color: #000000; font-weight: bold\">(raised from /mnt/data/work/repos/workshops/memes/env/lib/python3.9/site-packages/ipywidgets/</span>\n",
       "<span style=\"color: #000000; text-decoration-color: #000000; font-weight: bold\">widgets/widget_output.py:111)</span>\n",
       "</pre>\n"
      ],
      "text/plain": [
       "\u001b[1;33mDeprecationWarning: Kernel._parent_header is deprecated in ipykernel 6. Use .get_parent()\u001b[0m \n",
       "\u001b[1;30m(raised from /mnt/data/work/repos/workshops/memes/env/lib/python3.9/site-packages/ipywidgets/\u001b[0m\n",
       "\u001b[1;30mwidgets/widget_output.py:111)\u001b[0m\n"
      ]
     },
     "metadata": {},
     "output_type": "display_data"
    },
    {
     "data": {
      "text/html": [
       "<pre style=\"white-space:pre;overflow-x:auto;line-height:normal;font-family:Menlo,'DejaVu Sans Mono',consolas,'Courier New',monospace\"><span style=\"color: #808000; text-decoration-color: #808000; font-weight: bold\">DeprecationWarning: Kernel._parent_header is deprecated in ipykernel 6. Use .get_parent()</span> \n",
       "<span style=\"color: #000000; text-decoration-color: #000000; font-weight: bold\">(raised from /mnt/data/work/repos/workshops/memes/env/lib/python3.9/site-packages/ipywidgets/</span>\n",
       "<span style=\"color: #000000; text-decoration-color: #000000; font-weight: bold\">widgets/widget_output.py:112)</span>\n",
       "</pre>\n"
      ],
      "text/plain": [
       "\u001b[1;33mDeprecationWarning: Kernel._parent_header is deprecated in ipykernel 6. Use .get_parent()\u001b[0m \n",
       "\u001b[1;30m(raised from /mnt/data/work/repos/workshops/memes/env/lib/python3.9/site-packages/ipywidgets/\u001b[0m\n",
       "\u001b[1;30mwidgets/widget_output.py:112)\u001b[0m\n"
      ]
     },
     "metadata": {},
     "output_type": "display_data"
    },
    {
     "data": {
      "text/html": [
       "<pre style=\"white-space:pre;overflow-x:auto;line-height:normal;font-family:Menlo,'DejaVu Sans Mono',consolas,'Courier New',monospace\"><span style=\"color: #808000; text-decoration-color: #808000; font-weight: bold\">DeprecationWarning: Kernel._parent_header is deprecated in ipykernel 6. Use .get_parent()</span> \n",
       "<span style=\"color: #000000; text-decoration-color: #000000; font-weight: bold\">(raised from /mnt/data/work/repos/workshops/memes/env/lib/python3.9/site-packages/ipywidgets/</span>\n",
       "<span style=\"color: #000000; text-decoration-color: #000000; font-weight: bold\">widgets/widget_output.py:111)</span>\n",
       "</pre>\n"
      ],
      "text/plain": [
       "\u001b[1;33mDeprecationWarning: Kernel._parent_header is deprecated in ipykernel 6. Use .get_parent()\u001b[0m \n",
       "\u001b[1;30m(raised from /mnt/data/work/repos/workshops/memes/env/lib/python3.9/site-packages/ipywidgets/\u001b[0m\n",
       "\u001b[1;30mwidgets/widget_output.py:111)\u001b[0m\n"
      ]
     },
     "metadata": {},
     "output_type": "display_data"
    },
    {
     "data": {
      "text/html": [
       "<pre style=\"white-space:pre;overflow-x:auto;line-height:normal;font-family:Menlo,'DejaVu Sans Mono',consolas,'Courier New',monospace\"><span style=\"color: #808000; text-decoration-color: #808000; font-weight: bold\">DeprecationWarning: Kernel._parent_header is deprecated in ipykernel 6. Use .get_parent()</span> \n",
       "<span style=\"color: #000000; text-decoration-color: #000000; font-weight: bold\">(raised from /mnt/data/work/repos/workshops/memes/env/lib/python3.9/site-packages/ipywidgets/</span>\n",
       "<span style=\"color: #000000; text-decoration-color: #000000; font-weight: bold\">widgets/widget_output.py:112)</span>\n",
       "</pre>\n"
      ],
      "text/plain": [
       "\u001b[1;33mDeprecationWarning: Kernel._parent_header is deprecated in ipykernel 6. Use .get_parent()\u001b[0m \n",
       "\u001b[1;30m(raised from /mnt/data/work/repos/workshops/memes/env/lib/python3.9/site-packages/ipywidgets/\u001b[0m\n",
       "\u001b[1;30mwidgets/widget_output.py:112)\u001b[0m\n"
      ]
     },
     "metadata": {},
     "output_type": "display_data"
    },
    {
     "data": {
      "text/html": [
       "<pre style=\"white-space:pre;overflow-x:auto;line-height:normal;font-family:Menlo,'DejaVu Sans Mono',consolas,'Courier New',monospace\"><span style=\"color: #808000; text-decoration-color: #808000; font-weight: bold\">DeprecationWarning: Kernel._parent_header is deprecated in ipykernel 6. Use .get_parent()</span> \n",
       "<span style=\"color: #000000; text-decoration-color: #000000; font-weight: bold\">(raised from /mnt/data/work/repos/workshops/memes/env/lib/python3.9/site-packages/ipywidgets/</span>\n",
       "<span style=\"color: #000000; text-decoration-color: #000000; font-weight: bold\">widgets/widget_output.py:111)</span>\n",
       "</pre>\n"
      ],
      "text/plain": [
       "\u001b[1;33mDeprecationWarning: Kernel._parent_header is deprecated in ipykernel 6. Use .get_parent()\u001b[0m \n",
       "\u001b[1;30m(raised from /mnt/data/work/repos/workshops/memes/env/lib/python3.9/site-packages/ipywidgets/\u001b[0m\n",
       "\u001b[1;30mwidgets/widget_output.py:111)\u001b[0m\n"
      ]
     },
     "metadata": {},
     "output_type": "display_data"
    },
    {
     "data": {
      "text/html": [
       "<pre style=\"white-space:pre;overflow-x:auto;line-height:normal;font-family:Menlo,'DejaVu Sans Mono',consolas,'Courier New',monospace\"><span style=\"color: #808000; text-decoration-color: #808000; font-weight: bold\">DeprecationWarning: Kernel._parent_header is deprecated in ipykernel 6. Use .get_parent()</span> \n",
       "<span style=\"color: #000000; text-decoration-color: #000000; font-weight: bold\">(raised from /mnt/data/work/repos/workshops/memes/env/lib/python3.9/site-packages/ipywidgets/</span>\n",
       "<span style=\"color: #000000; text-decoration-color: #000000; font-weight: bold\">widgets/widget_output.py:112)</span>\n",
       "</pre>\n"
      ],
      "text/plain": [
       "\u001b[1;33mDeprecationWarning: Kernel._parent_header is deprecated in ipykernel 6. Use .get_parent()\u001b[0m \n",
       "\u001b[1;30m(raised from /mnt/data/work/repos/workshops/memes/env/lib/python3.9/site-packages/ipywidgets/\u001b[0m\n",
       "\u001b[1;30mwidgets/widget_output.py:112)\u001b[0m\n"
      ]
     },
     "metadata": {},
     "output_type": "display_data"
    },
    {
     "data": {
      "text/html": [
       "<pre style=\"white-space:pre;overflow-x:auto;line-height:normal;font-family:Menlo,'DejaVu Sans Mono',consolas,'Courier New',monospace\"><span style=\"color: #808000; text-decoration-color: #808000; font-weight: bold\">DeprecationWarning: Kernel._parent_header is deprecated in ipykernel 6. Use .get_parent()</span> \n",
       "<span style=\"color: #000000; text-decoration-color: #000000; font-weight: bold\">(raised from /mnt/data/work/repos/workshops/memes/env/lib/python3.9/site-packages/ipywidgets/</span>\n",
       "<span style=\"color: #000000; text-decoration-color: #000000; font-weight: bold\">widgets/widget_output.py:111)</span>\n",
       "</pre>\n"
      ],
      "text/plain": [
       "\u001b[1;33mDeprecationWarning: Kernel._parent_header is deprecated in ipykernel 6. Use .get_parent()\u001b[0m \n",
       "\u001b[1;30m(raised from /mnt/data/work/repos/workshops/memes/env/lib/python3.9/site-packages/ipywidgets/\u001b[0m\n",
       "\u001b[1;30mwidgets/widget_output.py:111)\u001b[0m\n"
      ]
     },
     "metadata": {},
     "output_type": "display_data"
    },
    {
     "data": {
      "text/html": [
       "<pre style=\"white-space:pre;overflow-x:auto;line-height:normal;font-family:Menlo,'DejaVu Sans Mono',consolas,'Courier New',monospace\"><span style=\"color: #808000; text-decoration-color: #808000; font-weight: bold\">DeprecationWarning: Kernel._parent_header is deprecated in ipykernel 6. Use .get_parent()</span> \n",
       "<span style=\"color: #000000; text-decoration-color: #000000; font-weight: bold\">(raised from /mnt/data/work/repos/workshops/memes/env/lib/python3.9/site-packages/ipywidgets/</span>\n",
       "<span style=\"color: #000000; text-decoration-color: #000000; font-weight: bold\">widgets/widget_output.py:112)</span>\n",
       "</pre>\n"
      ],
      "text/plain": [
       "\u001b[1;33mDeprecationWarning: Kernel._parent_header is deprecated in ipykernel 6. Use .get_parent()\u001b[0m \n",
       "\u001b[1;30m(raised from /mnt/data/work/repos/workshops/memes/env/lib/python3.9/site-packages/ipywidgets/\u001b[0m\n",
       "\u001b[1;30mwidgets/widget_output.py:112)\u001b[0m\n"
      ]
     },
     "metadata": {},
     "output_type": "display_data"
    },
    {
     "data": {
      "text/html": [
       "<pre style=\"white-space:pre;overflow-x:auto;line-height:normal;font-family:Menlo,'DejaVu Sans Mono',consolas,'Courier New',monospace\"><span style=\"color: #808000; text-decoration-color: #808000; font-weight: bold\">DeprecationWarning: Kernel._parent_header is deprecated in ipykernel 6. Use .get_parent()</span> \n",
       "<span style=\"color: #000000; text-decoration-color: #000000; font-weight: bold\">(raised from /mnt/data/work/repos/workshops/memes/env/lib/python3.9/site-packages/ipywidgets/</span>\n",
       "<span style=\"color: #000000; text-decoration-color: #000000; font-weight: bold\">widgets/widget_output.py:111)</span>\n",
       "</pre>\n"
      ],
      "text/plain": [
       "\u001b[1;33mDeprecationWarning: Kernel._parent_header is deprecated in ipykernel 6. Use .get_parent()\u001b[0m \n",
       "\u001b[1;30m(raised from /mnt/data/work/repos/workshops/memes/env/lib/python3.9/site-packages/ipywidgets/\u001b[0m\n",
       "\u001b[1;30mwidgets/widget_output.py:111)\u001b[0m\n"
      ]
     },
     "metadata": {},
     "output_type": "display_data"
    },
    {
     "data": {
      "text/html": [
       "<pre style=\"white-space:pre;overflow-x:auto;line-height:normal;font-family:Menlo,'DejaVu Sans Mono',consolas,'Courier New',monospace\"><span style=\"color: #808000; text-decoration-color: #808000; font-weight: bold\">DeprecationWarning: Kernel._parent_header is deprecated in ipykernel 6. Use .get_parent()</span> \n",
       "<span style=\"color: #000000; text-decoration-color: #000000; font-weight: bold\">(raised from /mnt/data/work/repos/workshops/memes/env/lib/python3.9/site-packages/ipywidgets/</span>\n",
       "<span style=\"color: #000000; text-decoration-color: #000000; font-weight: bold\">widgets/widget_output.py:112)</span>\n",
       "</pre>\n"
      ],
      "text/plain": [
       "\u001b[1;33mDeprecationWarning: Kernel._parent_header is deprecated in ipykernel 6. Use .get_parent()\u001b[0m \n",
       "\u001b[1;30m(raised from /mnt/data/work/repos/workshops/memes/env/lib/python3.9/site-packages/ipywidgets/\u001b[0m\n",
       "\u001b[1;30mwidgets/widget_output.py:112)\u001b[0m\n"
      ]
     },
     "metadata": {},
     "output_type": "display_data"
    },
    {
     "data": {
      "text/html": [
       "<pre style=\"white-space:pre;overflow-x:auto;line-height:normal;font-family:Menlo,'DejaVu Sans Mono',consolas,'Courier New',monospace\"><span style=\"color: #808000; text-decoration-color: #808000; font-weight: bold\">DeprecationWarning: Kernel._parent_header is deprecated in ipykernel 6. Use .get_parent()</span> \n",
       "<span style=\"color: #000000; text-decoration-color: #000000; font-weight: bold\">(raised from /mnt/data/work/repos/workshops/memes/env/lib/python3.9/site-packages/ipywidgets/</span>\n",
       "<span style=\"color: #000000; text-decoration-color: #000000; font-weight: bold\">widgets/widget_output.py:111)</span>\n",
       "</pre>\n"
      ],
      "text/plain": [
       "\u001b[1;33mDeprecationWarning: Kernel._parent_header is deprecated in ipykernel 6. Use .get_parent()\u001b[0m \n",
       "\u001b[1;30m(raised from /mnt/data/work/repos/workshops/memes/env/lib/python3.9/site-packages/ipywidgets/\u001b[0m\n",
       "\u001b[1;30mwidgets/widget_output.py:111)\u001b[0m\n"
      ]
     },
     "metadata": {},
     "output_type": "display_data"
    },
    {
     "data": {
      "text/html": [
       "<pre style=\"white-space:pre;overflow-x:auto;line-height:normal;font-family:Menlo,'DejaVu Sans Mono',consolas,'Courier New',monospace\"><span style=\"color: #808000; text-decoration-color: #808000; font-weight: bold\">DeprecationWarning: Kernel._parent_header is deprecated in ipykernel 6. Use .get_parent()</span> \n",
       "<span style=\"color: #000000; text-decoration-color: #000000; font-weight: bold\">(raised from /mnt/data/work/repos/workshops/memes/env/lib/python3.9/site-packages/ipywidgets/</span>\n",
       "<span style=\"color: #000000; text-decoration-color: #000000; font-weight: bold\">widgets/widget_output.py:112)</span>\n",
       "</pre>\n"
      ],
      "text/plain": [
       "\u001b[1;33mDeprecationWarning: Kernel._parent_header is deprecated in ipykernel 6. Use .get_parent()\u001b[0m \n",
       "\u001b[1;30m(raised from /mnt/data/work/repos/workshops/memes/env/lib/python3.9/site-packages/ipywidgets/\u001b[0m\n",
       "\u001b[1;30mwidgets/widget_output.py:112)\u001b[0m\n"
      ]
     },
     "metadata": {},
     "output_type": "display_data"
    },
    {
     "data": {
      "text/html": [
       "<pre style=\"white-space:pre;overflow-x:auto;line-height:normal;font-family:Menlo,'DejaVu Sans Mono',consolas,'Courier New',monospace\"><span style=\"color: #808000; text-decoration-color: #808000; font-weight: bold\">DeprecationWarning: Kernel._parent_header is deprecated in ipykernel 6. Use .get_parent()</span> \n",
       "<span style=\"color: #000000; text-decoration-color: #000000; font-weight: bold\">(raised from /mnt/data/work/repos/workshops/memes/env/lib/python3.9/site-packages/ipywidgets/</span>\n",
       "<span style=\"color: #000000; text-decoration-color: #000000; font-weight: bold\">widgets/widget_output.py:111)</span>\n",
       "</pre>\n"
      ],
      "text/plain": [
       "\u001b[1;33mDeprecationWarning: Kernel._parent_header is deprecated in ipykernel 6. Use .get_parent()\u001b[0m \n",
       "\u001b[1;30m(raised from /mnt/data/work/repos/workshops/memes/env/lib/python3.9/site-packages/ipywidgets/\u001b[0m\n",
       "\u001b[1;30mwidgets/widget_output.py:111)\u001b[0m\n"
      ]
     },
     "metadata": {},
     "output_type": "display_data"
    },
    {
     "data": {
      "text/html": [
       "<pre style=\"white-space:pre;overflow-x:auto;line-height:normal;font-family:Menlo,'DejaVu Sans Mono',consolas,'Courier New',monospace\"><span style=\"color: #808000; text-decoration-color: #808000; font-weight: bold\">DeprecationWarning: Kernel._parent_header is deprecated in ipykernel 6. Use .get_parent()</span> \n",
       "<span style=\"color: #000000; text-decoration-color: #000000; font-weight: bold\">(raised from /mnt/data/work/repos/workshops/memes/env/lib/python3.9/site-packages/ipywidgets/</span>\n",
       "<span style=\"color: #000000; text-decoration-color: #000000; font-weight: bold\">widgets/widget_output.py:112)</span>\n",
       "</pre>\n"
      ],
      "text/plain": [
       "\u001b[1;33mDeprecationWarning: Kernel._parent_header is deprecated in ipykernel 6. Use .get_parent()\u001b[0m \n",
       "\u001b[1;30m(raised from /mnt/data/work/repos/workshops/memes/env/lib/python3.9/site-packages/ipywidgets/\u001b[0m\n",
       "\u001b[1;30mwidgets/widget_output.py:112)\u001b[0m\n"
      ]
     },
     "metadata": {},
     "output_type": "display_data"
    },
    {
     "data": {
      "text/html": [
       "<pre style=\"white-space:pre;overflow-x:auto;line-height:normal;font-family:Menlo,'DejaVu Sans Mono',consolas,'Courier New',monospace\"><span style=\"color: #808000; text-decoration-color: #808000; font-weight: bold\">DeprecationWarning: Kernel._parent_header is deprecated in ipykernel 6. Use .get_parent()</span> \n",
       "<span style=\"color: #000000; text-decoration-color: #000000; font-weight: bold\">(raised from /mnt/data/work/repos/workshops/memes/env/lib/python3.9/site-packages/ipywidgets/</span>\n",
       "<span style=\"color: #000000; text-decoration-color: #000000; font-weight: bold\">widgets/widget_output.py:111)</span>\n",
       "</pre>\n"
      ],
      "text/plain": [
       "\u001b[1;33mDeprecationWarning: Kernel._parent_header is deprecated in ipykernel 6. Use .get_parent()\u001b[0m \n",
       "\u001b[1;30m(raised from /mnt/data/work/repos/workshops/memes/env/lib/python3.9/site-packages/ipywidgets/\u001b[0m\n",
       "\u001b[1;30mwidgets/widget_output.py:111)\u001b[0m\n"
      ]
     },
     "metadata": {},
     "output_type": "display_data"
    },
    {
     "data": {
      "text/html": [
       "<pre style=\"white-space:pre;overflow-x:auto;line-height:normal;font-family:Menlo,'DejaVu Sans Mono',consolas,'Courier New',monospace\"><span style=\"color: #808000; text-decoration-color: #808000; font-weight: bold\">DeprecationWarning: Kernel._parent_header is deprecated in ipykernel 6. Use .get_parent()</span> \n",
       "<span style=\"color: #000000; text-decoration-color: #000000; font-weight: bold\">(raised from /mnt/data/work/repos/workshops/memes/env/lib/python3.9/site-packages/ipywidgets/</span>\n",
       "<span style=\"color: #000000; text-decoration-color: #000000; font-weight: bold\">widgets/widget_output.py:112)</span>\n",
       "</pre>\n"
      ],
      "text/plain": [
       "\u001b[1;33mDeprecationWarning: Kernel._parent_header is deprecated in ipykernel 6. Use .get_parent()\u001b[0m \n",
       "\u001b[1;30m(raised from /mnt/data/work/repos/workshops/memes/env/lib/python3.9/site-packages/ipywidgets/\u001b[0m\n",
       "\u001b[1;30mwidgets/widget_output.py:112)\u001b[0m\n"
      ]
     },
     "metadata": {},
     "output_type": "display_data"
    },
    {
     "data": {
      "text/html": [
       "<pre style=\"white-space:pre;overflow-x:auto;line-height:normal;font-family:Menlo,'DejaVu Sans Mono',consolas,'Courier New',monospace\"><span style=\"color: #808000; text-decoration-color: #808000; font-weight: bold\">DeprecationWarning: Kernel._parent_header is deprecated in ipykernel 6. Use .get_parent()</span> \n",
       "<span style=\"color: #000000; text-decoration-color: #000000; font-weight: bold\">(raised from /mnt/data/work/repos/workshops/memes/env/lib/python3.9/site-packages/ipywidgets/</span>\n",
       "<span style=\"color: #000000; text-decoration-color: #000000; font-weight: bold\">widgets/widget_output.py:111)</span>\n",
       "</pre>\n"
      ],
      "text/plain": [
       "\u001b[1;33mDeprecationWarning: Kernel._parent_header is deprecated in ipykernel 6. Use .get_parent()\u001b[0m \n",
       "\u001b[1;30m(raised from /mnt/data/work/repos/workshops/memes/env/lib/python3.9/site-packages/ipywidgets/\u001b[0m\n",
       "\u001b[1;30mwidgets/widget_output.py:111)\u001b[0m\n"
      ]
     },
     "metadata": {},
     "output_type": "display_data"
    },
    {
     "data": {
      "text/html": [
       "<pre style=\"white-space:pre;overflow-x:auto;line-height:normal;font-family:Menlo,'DejaVu Sans Mono',consolas,'Courier New',monospace\"><span style=\"color: #808000; text-decoration-color: #808000; font-weight: bold\">DeprecationWarning: Kernel._parent_header is deprecated in ipykernel 6. Use .get_parent()</span> \n",
       "<span style=\"color: #000000; text-decoration-color: #000000; font-weight: bold\">(raised from /mnt/data/work/repos/workshops/memes/env/lib/python3.9/site-packages/ipywidgets/</span>\n",
       "<span style=\"color: #000000; text-decoration-color: #000000; font-weight: bold\">widgets/widget_output.py:112)</span>\n",
       "</pre>\n"
      ],
      "text/plain": [
       "\u001b[1;33mDeprecationWarning: Kernel._parent_header is deprecated in ipykernel 6. Use .get_parent()\u001b[0m \n",
       "\u001b[1;30m(raised from /mnt/data/work/repos/workshops/memes/env/lib/python3.9/site-packages/ipywidgets/\u001b[0m\n",
       "\u001b[1;30mwidgets/widget_output.py:112)\u001b[0m\n"
      ]
     },
     "metadata": {},
     "output_type": "display_data"
    },
    {
     "data": {
      "text/html": [
       "<pre style=\"white-space:pre;overflow-x:auto;line-height:normal;font-family:Menlo,'DejaVu Sans Mono',consolas,'Courier New',monospace\"><span style=\"color: #808000; text-decoration-color: #808000; font-weight: bold\">DeprecationWarning: Kernel._parent_header is deprecated in ipykernel 6. Use .get_parent()</span> \n",
       "<span style=\"color: #000000; text-decoration-color: #000000; font-weight: bold\">(raised from /mnt/data/work/repos/workshops/memes/env/lib/python3.9/site-packages/ipywidgets/</span>\n",
       "<span style=\"color: #000000; text-decoration-color: #000000; font-weight: bold\">widgets/widget_output.py:111)</span>\n",
       "</pre>\n"
      ],
      "text/plain": [
       "\u001b[1;33mDeprecationWarning: Kernel._parent_header is deprecated in ipykernel 6. Use .get_parent()\u001b[0m \n",
       "\u001b[1;30m(raised from /mnt/data/work/repos/workshops/memes/env/lib/python3.9/site-packages/ipywidgets/\u001b[0m\n",
       "\u001b[1;30mwidgets/widget_output.py:111)\u001b[0m\n"
      ]
     },
     "metadata": {},
     "output_type": "display_data"
    },
    {
     "data": {
      "text/html": [
       "<pre style=\"white-space:pre;overflow-x:auto;line-height:normal;font-family:Menlo,'DejaVu Sans Mono',consolas,'Courier New',monospace\"><span style=\"color: #808000; text-decoration-color: #808000; font-weight: bold\">DeprecationWarning: Kernel._parent_header is deprecated in ipykernel 6. Use .get_parent()</span> \n",
       "<span style=\"color: #000000; text-decoration-color: #000000; font-weight: bold\">(raised from /mnt/data/work/repos/workshops/memes/env/lib/python3.9/site-packages/ipywidgets/</span>\n",
       "<span style=\"color: #000000; text-decoration-color: #000000; font-weight: bold\">widgets/widget_output.py:112)</span>\n",
       "</pre>\n"
      ],
      "text/plain": [
       "\u001b[1;33mDeprecationWarning: Kernel._parent_header is deprecated in ipykernel 6. Use .get_parent()\u001b[0m \n",
       "\u001b[1;30m(raised from /mnt/data/work/repos/workshops/memes/env/lib/python3.9/site-packages/ipywidgets/\u001b[0m\n",
       "\u001b[1;30mwidgets/widget_output.py:112)\u001b[0m\n"
      ]
     },
     "metadata": {},
     "output_type": "display_data"
    },
    {
     "data": {
      "text/html": [
       "<pre style=\"white-space:pre;overflow-x:auto;line-height:normal;font-family:Menlo,'DejaVu Sans Mono',consolas,'Courier New',monospace\"><span style=\"color: #808000; text-decoration-color: #808000; font-weight: bold\">DeprecationWarning: Kernel._parent_header is deprecated in ipykernel 6. Use .get_parent()</span> \n",
       "<span style=\"color: #000000; text-decoration-color: #000000; font-weight: bold\">(raised from /mnt/data/work/repos/workshops/memes/env/lib/python3.9/site-packages/ipywidgets/</span>\n",
       "<span style=\"color: #000000; text-decoration-color: #000000; font-weight: bold\">widgets/widget_output.py:111)</span>\n",
       "</pre>\n"
      ],
      "text/plain": [
       "\u001b[1;33mDeprecationWarning: Kernel._parent_header is deprecated in ipykernel 6. Use .get_parent()\u001b[0m \n",
       "\u001b[1;30m(raised from /mnt/data/work/repos/workshops/memes/env/lib/python3.9/site-packages/ipywidgets/\u001b[0m\n",
       "\u001b[1;30mwidgets/widget_output.py:111)\u001b[0m\n"
      ]
     },
     "metadata": {},
     "output_type": "display_data"
    },
    {
     "data": {
      "text/html": [
       "<pre style=\"white-space:pre;overflow-x:auto;line-height:normal;font-family:Menlo,'DejaVu Sans Mono',consolas,'Courier New',monospace\"><span style=\"color: #808000; text-decoration-color: #808000; font-weight: bold\">DeprecationWarning: Kernel._parent_header is deprecated in ipykernel 6. Use .get_parent()</span> \n",
       "<span style=\"color: #000000; text-decoration-color: #000000; font-weight: bold\">(raised from /mnt/data/work/repos/workshops/memes/env/lib/python3.9/site-packages/ipywidgets/</span>\n",
       "<span style=\"color: #000000; text-decoration-color: #000000; font-weight: bold\">widgets/widget_output.py:112)</span>\n",
       "</pre>\n"
      ],
      "text/plain": [
       "\u001b[1;33mDeprecationWarning: Kernel._parent_header is deprecated in ipykernel 6. Use .get_parent()\u001b[0m \n",
       "\u001b[1;30m(raised from /mnt/data/work/repos/workshops/memes/env/lib/python3.9/site-packages/ipywidgets/\u001b[0m\n",
       "\u001b[1;30mwidgets/widget_output.py:112)\u001b[0m\n"
      ]
     },
     "metadata": {},
     "output_type": "display_data"
    },
    {
     "data": {
      "text/html": [
       "<pre style=\"white-space:pre;overflow-x:auto;line-height:normal;font-family:Menlo,'DejaVu Sans Mono',consolas,'Courier New',monospace\"><span style=\"color: #808000; text-decoration-color: #808000; font-weight: bold\">DeprecationWarning: Kernel._parent_header is deprecated in ipykernel 6. Use .get_parent()</span> \n",
       "<span style=\"color: #000000; text-decoration-color: #000000; font-weight: bold\">(raised from /mnt/data/work/repos/workshops/memes/env/lib/python3.9/site-packages/ipywidgets/</span>\n",
       "<span style=\"color: #000000; text-decoration-color: #000000; font-weight: bold\">widgets/widget_output.py:111)</span>\n",
       "</pre>\n"
      ],
      "text/plain": [
       "\u001b[1;33mDeprecationWarning: Kernel._parent_header is deprecated in ipykernel 6. Use .get_parent()\u001b[0m \n",
       "\u001b[1;30m(raised from /mnt/data/work/repos/workshops/memes/env/lib/python3.9/site-packages/ipywidgets/\u001b[0m\n",
       "\u001b[1;30mwidgets/widget_output.py:111)\u001b[0m\n"
      ]
     },
     "metadata": {},
     "output_type": "display_data"
    },
    {
     "data": {
      "text/html": [
       "<pre style=\"white-space:pre;overflow-x:auto;line-height:normal;font-family:Menlo,'DejaVu Sans Mono',consolas,'Courier New',monospace\"><span style=\"color: #808000; text-decoration-color: #808000; font-weight: bold\">DeprecationWarning: Kernel._parent_header is deprecated in ipykernel 6. Use .get_parent()</span> \n",
       "<span style=\"color: #000000; text-decoration-color: #000000; font-weight: bold\">(raised from /mnt/data/work/repos/workshops/memes/env/lib/python3.9/site-packages/ipywidgets/</span>\n",
       "<span style=\"color: #000000; text-decoration-color: #000000; font-weight: bold\">widgets/widget_output.py:112)</span>\n",
       "</pre>\n"
      ],
      "text/plain": [
       "\u001b[1;33mDeprecationWarning: Kernel._parent_header is deprecated in ipykernel 6. Use .get_parent()\u001b[0m \n",
       "\u001b[1;30m(raised from /mnt/data/work/repos/workshops/memes/env/lib/python3.9/site-packages/ipywidgets/\u001b[0m\n",
       "\u001b[1;30mwidgets/widget_output.py:112)\u001b[0m\n"
      ]
     },
     "metadata": {},
     "output_type": "display_data"
    },
    {
     "data": {
      "text/html": [
       "<pre style=\"white-space:pre;overflow-x:auto;line-height:normal;font-family:Menlo,'DejaVu Sans Mono',consolas,'Courier New',monospace\"><span style=\"color: #808000; text-decoration-color: #808000; font-weight: bold\">DeprecationWarning: Kernel._parent_header is deprecated in ipykernel 6. Use .get_parent()</span> \n",
       "<span style=\"color: #000000; text-decoration-color: #000000; font-weight: bold\">(raised from /mnt/data/work/repos/workshops/memes/env/lib/python3.9/site-packages/ipywidgets/</span>\n",
       "<span style=\"color: #000000; text-decoration-color: #000000; font-weight: bold\">widgets/widget_output.py:111)</span>\n",
       "</pre>\n"
      ],
      "text/plain": [
       "\u001b[1;33mDeprecationWarning: Kernel._parent_header is deprecated in ipykernel 6. Use .get_parent()\u001b[0m \n",
       "\u001b[1;30m(raised from /mnt/data/work/repos/workshops/memes/env/lib/python3.9/site-packages/ipywidgets/\u001b[0m\n",
       "\u001b[1;30mwidgets/widget_output.py:111)\u001b[0m\n"
      ]
     },
     "metadata": {},
     "output_type": "display_data"
    },
    {
     "data": {
      "text/html": [
       "<pre style=\"white-space:pre;overflow-x:auto;line-height:normal;font-family:Menlo,'DejaVu Sans Mono',consolas,'Courier New',monospace\"><span style=\"color: #808000; text-decoration-color: #808000; font-weight: bold\">DeprecationWarning: Kernel._parent_header is deprecated in ipykernel 6. Use .get_parent()</span> \n",
       "<span style=\"color: #000000; text-decoration-color: #000000; font-weight: bold\">(raised from /mnt/data/work/repos/workshops/memes/env/lib/python3.9/site-packages/ipywidgets/</span>\n",
       "<span style=\"color: #000000; text-decoration-color: #000000; font-weight: bold\">widgets/widget_output.py:112)</span>\n",
       "</pre>\n"
      ],
      "text/plain": [
       "\u001b[1;33mDeprecationWarning: Kernel._parent_header is deprecated in ipykernel 6. Use .get_parent()\u001b[0m \n",
       "\u001b[1;30m(raised from /mnt/data/work/repos/workshops/memes/env/lib/python3.9/site-packages/ipywidgets/\u001b[0m\n",
       "\u001b[1;30mwidgets/widget_output.py:112)\u001b[0m\n"
      ]
     },
     "metadata": {},
     "output_type": "display_data"
    },
    {
     "data": {
      "text/html": [
       "<pre style=\"white-space:pre;overflow-x:auto;line-height:normal;font-family:Menlo,'DejaVu Sans Mono',consolas,'Courier New',monospace\"><span style=\"color: #808000; text-decoration-color: #808000; font-weight: bold\">DeprecationWarning: Kernel._parent_header is deprecated in ipykernel 6. Use .get_parent()</span> \n",
       "<span style=\"color: #000000; text-decoration-color: #000000; font-weight: bold\">(raised from /mnt/data/work/repos/workshops/memes/env/lib/python3.9/site-packages/ipywidgets/</span>\n",
       "<span style=\"color: #000000; text-decoration-color: #000000; font-weight: bold\">widgets/widget_output.py:111)</span>\n",
       "</pre>\n"
      ],
      "text/plain": [
       "\u001b[1;33mDeprecationWarning: Kernel._parent_header is deprecated in ipykernel 6. Use .get_parent()\u001b[0m \n",
       "\u001b[1;30m(raised from /mnt/data/work/repos/workshops/memes/env/lib/python3.9/site-packages/ipywidgets/\u001b[0m\n",
       "\u001b[1;30mwidgets/widget_output.py:111)\u001b[0m\n"
      ]
     },
     "metadata": {},
     "output_type": "display_data"
    },
    {
     "data": {
      "text/html": [
       "<pre style=\"white-space:pre;overflow-x:auto;line-height:normal;font-family:Menlo,'DejaVu Sans Mono',consolas,'Courier New',monospace\"><span style=\"color: #808000; text-decoration-color: #808000; font-weight: bold\">DeprecationWarning: Kernel._parent_header is deprecated in ipykernel 6. Use .get_parent()</span> \n",
       "<span style=\"color: #000000; text-decoration-color: #000000; font-weight: bold\">(raised from /mnt/data/work/repos/workshops/memes/env/lib/python3.9/site-packages/ipywidgets/</span>\n",
       "<span style=\"color: #000000; text-decoration-color: #000000; font-weight: bold\">widgets/widget_output.py:112)</span>\n",
       "</pre>\n"
      ],
      "text/plain": [
       "\u001b[1;33mDeprecationWarning: Kernel._parent_header is deprecated in ipykernel 6. Use .get_parent()\u001b[0m \n",
       "\u001b[1;30m(raised from /mnt/data/work/repos/workshops/memes/env/lib/python3.9/site-packages/ipywidgets/\u001b[0m\n",
       "\u001b[1;30mwidgets/widget_output.py:112)\u001b[0m\n"
      ]
     },
     "metadata": {},
     "output_type": "display_data"
    },
    {
     "data": {
      "text/html": [
       "<pre style=\"white-space:pre;overflow-x:auto;line-height:normal;font-family:Menlo,'DejaVu Sans Mono',consolas,'Courier New',monospace\"><span style=\"color: #808000; text-decoration-color: #808000; font-weight: bold\">DeprecationWarning: Kernel._parent_header is deprecated in ipykernel 6. Use .get_parent()</span> \n",
       "<span style=\"color: #000000; text-decoration-color: #000000; font-weight: bold\">(raised from /mnt/data/work/repos/workshops/memes/env/lib/python3.9/site-packages/ipywidgets/</span>\n",
       "<span style=\"color: #000000; text-decoration-color: #000000; font-weight: bold\">widgets/widget_output.py:111)</span>\n",
       "</pre>\n"
      ],
      "text/plain": [
       "\u001b[1;33mDeprecationWarning: Kernel._parent_header is deprecated in ipykernel 6. Use .get_parent()\u001b[0m \n",
       "\u001b[1;30m(raised from /mnt/data/work/repos/workshops/memes/env/lib/python3.9/site-packages/ipywidgets/\u001b[0m\n",
       "\u001b[1;30mwidgets/widget_output.py:111)\u001b[0m\n"
      ]
     },
     "metadata": {},
     "output_type": "display_data"
    },
    {
     "data": {
      "text/html": [
       "<pre style=\"white-space:pre;overflow-x:auto;line-height:normal;font-family:Menlo,'DejaVu Sans Mono',consolas,'Courier New',monospace\"><span style=\"color: #808000; text-decoration-color: #808000; font-weight: bold\">DeprecationWarning: Kernel._parent_header is deprecated in ipykernel 6. Use .get_parent()</span> \n",
       "<span style=\"color: #000000; text-decoration-color: #000000; font-weight: bold\">(raised from /mnt/data/work/repos/workshops/memes/env/lib/python3.9/site-packages/ipywidgets/</span>\n",
       "<span style=\"color: #000000; text-decoration-color: #000000; font-weight: bold\">widgets/widget_output.py:112)</span>\n",
       "</pre>\n"
      ],
      "text/plain": [
       "\u001b[1;33mDeprecationWarning: Kernel._parent_header is deprecated in ipykernel 6. Use .get_parent()\u001b[0m \n",
       "\u001b[1;30m(raised from /mnt/data/work/repos/workshops/memes/env/lib/python3.9/site-packages/ipywidgets/\u001b[0m\n",
       "\u001b[1;30mwidgets/widget_output.py:112)\u001b[0m\n"
      ]
     },
     "metadata": {},
     "output_type": "display_data"
    },
    {
     "data": {
      "text/html": [
       "<pre style=\"white-space:pre;overflow-x:auto;line-height:normal;font-family:Menlo,'DejaVu Sans Mono',consolas,'Courier New',monospace\"><span style=\"color: #808000; text-decoration-color: #808000; font-weight: bold\">DeprecationWarning: Kernel._parent_header is deprecated in ipykernel 6. Use .get_parent()</span> \n",
       "<span style=\"color: #000000; text-decoration-color: #000000; font-weight: bold\">(raised from /mnt/data/work/repos/workshops/memes/env/lib/python3.9/site-packages/ipywidgets/</span>\n",
       "<span style=\"color: #000000; text-decoration-color: #000000; font-weight: bold\">widgets/widget_output.py:111)</span>\n",
       "</pre>\n"
      ],
      "text/plain": [
       "\u001b[1;33mDeprecationWarning: Kernel._parent_header is deprecated in ipykernel 6. Use .get_parent()\u001b[0m \n",
       "\u001b[1;30m(raised from /mnt/data/work/repos/workshops/memes/env/lib/python3.9/site-packages/ipywidgets/\u001b[0m\n",
       "\u001b[1;30mwidgets/widget_output.py:111)\u001b[0m\n"
      ]
     },
     "metadata": {},
     "output_type": "display_data"
    },
    {
     "data": {
      "text/html": [
       "<pre style=\"white-space:pre;overflow-x:auto;line-height:normal;font-family:Menlo,'DejaVu Sans Mono',consolas,'Courier New',monospace\"><span style=\"color: #808000; text-decoration-color: #808000; font-weight: bold\">DeprecationWarning: Kernel._parent_header is deprecated in ipykernel 6. Use .get_parent()</span> \n",
       "<span style=\"color: #000000; text-decoration-color: #000000; font-weight: bold\">(raised from /mnt/data/work/repos/workshops/memes/env/lib/python3.9/site-packages/ipywidgets/</span>\n",
       "<span style=\"color: #000000; text-decoration-color: #000000; font-weight: bold\">widgets/widget_output.py:112)</span>\n",
       "</pre>\n"
      ],
      "text/plain": [
       "\u001b[1;33mDeprecationWarning: Kernel._parent_header is deprecated in ipykernel 6. Use .get_parent()\u001b[0m \n",
       "\u001b[1;30m(raised from /mnt/data/work/repos/workshops/memes/env/lib/python3.9/site-packages/ipywidgets/\u001b[0m\n",
       "\u001b[1;30mwidgets/widget_output.py:112)\u001b[0m\n"
      ]
     },
     "metadata": {},
     "output_type": "display_data"
    },
    {
     "data": {
      "text/html": [
       "<pre style=\"white-space:pre;overflow-x:auto;line-height:normal;font-family:Menlo,'DejaVu Sans Mono',consolas,'Courier New',monospace\"><span style=\"color: #808000; text-decoration-color: #808000; font-weight: bold\">DeprecationWarning: Kernel._parent_header is deprecated in ipykernel 6. Use .get_parent()</span> \n",
       "<span style=\"color: #000000; text-decoration-color: #000000; font-weight: bold\">(raised from /mnt/data/work/repos/workshops/memes/env/lib/python3.9/site-packages/ipywidgets/</span>\n",
       "<span style=\"color: #000000; text-decoration-color: #000000; font-weight: bold\">widgets/widget_output.py:111)</span>\n",
       "</pre>\n"
      ],
      "text/plain": [
       "\u001b[1;33mDeprecationWarning: Kernel._parent_header is deprecated in ipykernel 6. Use .get_parent()\u001b[0m \n",
       "\u001b[1;30m(raised from /mnt/data/work/repos/workshops/memes/env/lib/python3.9/site-packages/ipywidgets/\u001b[0m\n",
       "\u001b[1;30mwidgets/widget_output.py:111)\u001b[0m\n"
      ]
     },
     "metadata": {},
     "output_type": "display_data"
    },
    {
     "data": {
      "text/html": [
       "<pre style=\"white-space:pre;overflow-x:auto;line-height:normal;font-family:Menlo,'DejaVu Sans Mono',consolas,'Courier New',monospace\"><span style=\"color: #808000; text-decoration-color: #808000; font-weight: bold\">DeprecationWarning: Kernel._parent_header is deprecated in ipykernel 6. Use .get_parent()</span> \n",
       "<span style=\"color: #000000; text-decoration-color: #000000; font-weight: bold\">(raised from /mnt/data/work/repos/workshops/memes/env/lib/python3.9/site-packages/ipywidgets/</span>\n",
       "<span style=\"color: #000000; text-decoration-color: #000000; font-weight: bold\">widgets/widget_output.py:112)</span>\n",
       "</pre>\n"
      ],
      "text/plain": [
       "\u001b[1;33mDeprecationWarning: Kernel._parent_header is deprecated in ipykernel 6. Use .get_parent()\u001b[0m \n",
       "\u001b[1;30m(raised from /mnt/data/work/repos/workshops/memes/env/lib/python3.9/site-packages/ipywidgets/\u001b[0m\n",
       "\u001b[1;30mwidgets/widget_output.py:112)\u001b[0m\n"
      ]
     },
     "metadata": {},
     "output_type": "display_data"
    },
    {
     "data": {
      "text/html": [
       "<pre style=\"white-space:pre;overflow-x:auto;line-height:normal;font-family:Menlo,'DejaVu Sans Mono',consolas,'Courier New',monospace\"><span style=\"color: #808000; text-decoration-color: #808000; font-weight: bold\">DeprecationWarning: Kernel._parent_header is deprecated in ipykernel 6. Use .get_parent()</span> \n",
       "<span style=\"color: #000000; text-decoration-color: #000000; font-weight: bold\">(raised from /mnt/data/work/repos/workshops/memes/env/lib/python3.9/site-packages/ipywidgets/</span>\n",
       "<span style=\"color: #000000; text-decoration-color: #000000; font-weight: bold\">widgets/widget_output.py:111)</span>\n",
       "</pre>\n"
      ],
      "text/plain": [
       "\u001b[1;33mDeprecationWarning: Kernel._parent_header is deprecated in ipykernel 6. Use .get_parent()\u001b[0m \n",
       "\u001b[1;30m(raised from /mnt/data/work/repos/workshops/memes/env/lib/python3.9/site-packages/ipywidgets/\u001b[0m\n",
       "\u001b[1;30mwidgets/widget_output.py:111)\u001b[0m\n"
      ]
     },
     "metadata": {},
     "output_type": "display_data"
    },
    {
     "data": {
      "text/html": [
       "<pre style=\"white-space:pre;overflow-x:auto;line-height:normal;font-family:Menlo,'DejaVu Sans Mono',consolas,'Courier New',monospace\"><span style=\"color: #808000; text-decoration-color: #808000; font-weight: bold\">DeprecationWarning: Kernel._parent_header is deprecated in ipykernel 6. Use .get_parent()</span> \n",
       "<span style=\"color: #000000; text-decoration-color: #000000; font-weight: bold\">(raised from /mnt/data/work/repos/workshops/memes/env/lib/python3.9/site-packages/ipywidgets/</span>\n",
       "<span style=\"color: #000000; text-decoration-color: #000000; font-weight: bold\">widgets/widget_output.py:112)</span>\n",
       "</pre>\n"
      ],
      "text/plain": [
       "\u001b[1;33mDeprecationWarning: Kernel._parent_header is deprecated in ipykernel 6. Use .get_parent()\u001b[0m \n",
       "\u001b[1;30m(raised from /mnt/data/work/repos/workshops/memes/env/lib/python3.9/site-packages/ipywidgets/\u001b[0m\n",
       "\u001b[1;30mwidgets/widget_output.py:112)\u001b[0m\n"
      ]
     },
     "metadata": {},
     "output_type": "display_data"
    },
    {
     "data": {
      "text/html": [
       "<pre style=\"white-space:pre;overflow-x:auto;line-height:normal;font-family:Menlo,'DejaVu Sans Mono',consolas,'Courier New',monospace\"><span style=\"color: #808000; text-decoration-color: #808000; font-weight: bold\">DeprecationWarning: Kernel._parent_header is deprecated in ipykernel 6. Use .get_parent()</span> \n",
       "<span style=\"color: #000000; text-decoration-color: #000000; font-weight: bold\">(raised from /mnt/data/work/repos/workshops/memes/env/lib/python3.9/site-packages/ipywidgets/</span>\n",
       "<span style=\"color: #000000; text-decoration-color: #000000; font-weight: bold\">widgets/widget_output.py:111)</span>\n",
       "</pre>\n"
      ],
      "text/plain": [
       "\u001b[1;33mDeprecationWarning: Kernel._parent_header is deprecated in ipykernel 6. Use .get_parent()\u001b[0m \n",
       "\u001b[1;30m(raised from /mnt/data/work/repos/workshops/memes/env/lib/python3.9/site-packages/ipywidgets/\u001b[0m\n",
       "\u001b[1;30mwidgets/widget_output.py:111)\u001b[0m\n"
      ]
     },
     "metadata": {},
     "output_type": "display_data"
    },
    {
     "data": {
      "text/html": [
       "<pre style=\"white-space:pre;overflow-x:auto;line-height:normal;font-family:Menlo,'DejaVu Sans Mono',consolas,'Courier New',monospace\"><span style=\"color: #808000; text-decoration-color: #808000; font-weight: bold\">DeprecationWarning: Kernel._parent_header is deprecated in ipykernel 6. Use .get_parent()</span> \n",
       "<span style=\"color: #000000; text-decoration-color: #000000; font-weight: bold\">(raised from /mnt/data/work/repos/workshops/memes/env/lib/python3.9/site-packages/ipywidgets/</span>\n",
       "<span style=\"color: #000000; text-decoration-color: #000000; font-weight: bold\">widgets/widget_output.py:112)</span>\n",
       "</pre>\n"
      ],
      "text/plain": [
       "\u001b[1;33mDeprecationWarning: Kernel._parent_header is deprecated in ipykernel 6. Use .get_parent()\u001b[0m \n",
       "\u001b[1;30m(raised from /mnt/data/work/repos/workshops/memes/env/lib/python3.9/site-packages/ipywidgets/\u001b[0m\n",
       "\u001b[1;30mwidgets/widget_output.py:112)\u001b[0m\n"
      ]
     },
     "metadata": {},
     "output_type": "display_data"
    },
    {
     "data": {
      "text/html": [
       "<pre style=\"white-space:pre;overflow-x:auto;line-height:normal;font-family:Menlo,'DejaVu Sans Mono',consolas,'Courier New',monospace\"><span style=\"color: #808000; text-decoration-color: #808000; font-weight: bold\">DeprecationWarning: Kernel._parent_header is deprecated in ipykernel 6. Use .get_parent()</span> \n",
       "<span style=\"color: #000000; text-decoration-color: #000000; font-weight: bold\">(raised from /mnt/data/work/repos/workshops/memes/env/lib/python3.9/site-packages/ipywidgets/</span>\n",
       "<span style=\"color: #000000; text-decoration-color: #000000; font-weight: bold\">widgets/widget_output.py:111)</span>\n",
       "</pre>\n"
      ],
      "text/plain": [
       "\u001b[1;33mDeprecationWarning: Kernel._parent_header is deprecated in ipykernel 6. Use .get_parent()\u001b[0m \n",
       "\u001b[1;30m(raised from /mnt/data/work/repos/workshops/memes/env/lib/python3.9/site-packages/ipywidgets/\u001b[0m\n",
       "\u001b[1;30mwidgets/widget_output.py:111)\u001b[0m\n"
      ]
     },
     "metadata": {},
     "output_type": "display_data"
    },
    {
     "data": {
      "text/html": [
       "<pre style=\"white-space:pre;overflow-x:auto;line-height:normal;font-family:Menlo,'DejaVu Sans Mono',consolas,'Courier New',monospace\"><span style=\"color: #808000; text-decoration-color: #808000; font-weight: bold\">DeprecationWarning: Kernel._parent_header is deprecated in ipykernel 6. Use .get_parent()</span> \n",
       "<span style=\"color: #000000; text-decoration-color: #000000; font-weight: bold\">(raised from /mnt/data/work/repos/workshops/memes/env/lib/python3.9/site-packages/ipywidgets/</span>\n",
       "<span style=\"color: #000000; text-decoration-color: #000000; font-weight: bold\">widgets/widget_output.py:112)</span>\n",
       "</pre>\n"
      ],
      "text/plain": [
       "\u001b[1;33mDeprecationWarning: Kernel._parent_header is deprecated in ipykernel 6. Use .get_parent()\u001b[0m \n",
       "\u001b[1;30m(raised from /mnt/data/work/repos/workshops/memes/env/lib/python3.9/site-packages/ipywidgets/\u001b[0m\n",
       "\u001b[1;30mwidgets/widget_output.py:112)\u001b[0m\n"
      ]
     },
     "metadata": {},
     "output_type": "display_data"
    },
    {
     "data": {
      "text/html": [
       "<pre style=\"white-space:pre;overflow-x:auto;line-height:normal;font-family:Menlo,'DejaVu Sans Mono',consolas,'Courier New',monospace\"><span style=\"color: #808000; text-decoration-color: #808000; font-weight: bold\">DeprecationWarning: Kernel._parent_header is deprecated in ipykernel 6. Use .get_parent()</span> \n",
       "<span style=\"color: #000000; text-decoration-color: #000000; font-weight: bold\">(raised from /mnt/data/work/repos/workshops/memes/env/lib/python3.9/site-packages/ipywidgets/</span>\n",
       "<span style=\"color: #000000; text-decoration-color: #000000; font-weight: bold\">widgets/widget_output.py:111)</span>\n",
       "</pre>\n"
      ],
      "text/plain": [
       "\u001b[1;33mDeprecationWarning: Kernel._parent_header is deprecated in ipykernel 6. Use .get_parent()\u001b[0m \n",
       "\u001b[1;30m(raised from /mnt/data/work/repos/workshops/memes/env/lib/python3.9/site-packages/ipywidgets/\u001b[0m\n",
       "\u001b[1;30mwidgets/widget_output.py:111)\u001b[0m\n"
      ]
     },
     "metadata": {},
     "output_type": "display_data"
    },
    {
     "data": {
      "text/html": [
       "<pre style=\"white-space:pre;overflow-x:auto;line-height:normal;font-family:Menlo,'DejaVu Sans Mono',consolas,'Courier New',monospace\"><span style=\"color: #808000; text-decoration-color: #808000; font-weight: bold\">DeprecationWarning: Kernel._parent_header is deprecated in ipykernel 6. Use .get_parent()</span> \n",
       "<span style=\"color: #000000; text-decoration-color: #000000; font-weight: bold\">(raised from /mnt/data/work/repos/workshops/memes/env/lib/python3.9/site-packages/ipywidgets/</span>\n",
       "<span style=\"color: #000000; text-decoration-color: #000000; font-weight: bold\">widgets/widget_output.py:112)</span>\n",
       "</pre>\n"
      ],
      "text/plain": [
       "\u001b[1;33mDeprecationWarning: Kernel._parent_header is deprecated in ipykernel 6. Use .get_parent()\u001b[0m \n",
       "\u001b[1;30m(raised from /mnt/data/work/repos/workshops/memes/env/lib/python3.9/site-packages/ipywidgets/\u001b[0m\n",
       "\u001b[1;30mwidgets/widget_output.py:112)\u001b[0m\n"
      ]
     },
     "metadata": {},
     "output_type": "display_data"
    },
    {
     "data": {
      "text/html": [
       "<pre style=\"white-space:pre;overflow-x:auto;line-height:normal;font-family:Menlo,'DejaVu Sans Mono',consolas,'Courier New',monospace\"><span style=\"color: #808000; text-decoration-color: #808000; font-weight: bold\">DeprecationWarning: Kernel._parent_header is deprecated in ipykernel 6. Use .get_parent()</span> \n",
       "<span style=\"color: #000000; text-decoration-color: #000000; font-weight: bold\">(raised from /mnt/data/work/repos/workshops/memes/env/lib/python3.9/site-packages/ipywidgets/</span>\n",
       "<span style=\"color: #000000; text-decoration-color: #000000; font-weight: bold\">widgets/widget_output.py:111)</span>\n",
       "</pre>\n"
      ],
      "text/plain": [
       "\u001b[1;33mDeprecationWarning: Kernel._parent_header is deprecated in ipykernel 6. Use .get_parent()\u001b[0m \n",
       "\u001b[1;30m(raised from /mnt/data/work/repos/workshops/memes/env/lib/python3.9/site-packages/ipywidgets/\u001b[0m\n",
       "\u001b[1;30mwidgets/widget_output.py:111)\u001b[0m\n"
      ]
     },
     "metadata": {},
     "output_type": "display_data"
    },
    {
     "data": {
      "text/html": [
       "<pre style=\"white-space:pre;overflow-x:auto;line-height:normal;font-family:Menlo,'DejaVu Sans Mono',consolas,'Courier New',monospace\"><span style=\"color: #808000; text-decoration-color: #808000; font-weight: bold\">DeprecationWarning: Kernel._parent_header is deprecated in ipykernel 6. Use .get_parent()</span> \n",
       "<span style=\"color: #000000; text-decoration-color: #000000; font-weight: bold\">(raised from /mnt/data/work/repos/workshops/memes/env/lib/python3.9/site-packages/ipywidgets/</span>\n",
       "<span style=\"color: #000000; text-decoration-color: #000000; font-weight: bold\">widgets/widget_output.py:112)</span>\n",
       "</pre>\n"
      ],
      "text/plain": [
       "\u001b[1;33mDeprecationWarning: Kernel._parent_header is deprecated in ipykernel 6. Use .get_parent()\u001b[0m \n",
       "\u001b[1;30m(raised from /mnt/data/work/repos/workshops/memes/env/lib/python3.9/site-packages/ipywidgets/\u001b[0m\n",
       "\u001b[1;30mwidgets/widget_output.py:112)\u001b[0m\n"
      ]
     },
     "metadata": {},
     "output_type": "display_data"
    },
    {
     "data": {
      "text/html": [
       "<pre style=\"white-space:pre;overflow-x:auto;line-height:normal;font-family:Menlo,'DejaVu Sans Mono',consolas,'Courier New',monospace\"><span style=\"color: #808000; text-decoration-color: #808000; font-weight: bold\">DeprecationWarning: Kernel._parent_header is deprecated in ipykernel 6. Use .get_parent()</span> \n",
       "<span style=\"color: #000000; text-decoration-color: #000000; font-weight: bold\">(raised from /mnt/data/work/repos/workshops/memes/env/lib/python3.9/site-packages/ipywidgets/</span>\n",
       "<span style=\"color: #000000; text-decoration-color: #000000; font-weight: bold\">widgets/widget_output.py:111)</span>\n",
       "</pre>\n"
      ],
      "text/plain": [
       "\u001b[1;33mDeprecationWarning: Kernel._parent_header is deprecated in ipykernel 6. Use .get_parent()\u001b[0m \n",
       "\u001b[1;30m(raised from /mnt/data/work/repos/workshops/memes/env/lib/python3.9/site-packages/ipywidgets/\u001b[0m\n",
       "\u001b[1;30mwidgets/widget_output.py:111)\u001b[0m\n"
      ]
     },
     "metadata": {},
     "output_type": "display_data"
    },
    {
     "data": {
      "text/html": [
       "<pre style=\"white-space:pre;overflow-x:auto;line-height:normal;font-family:Menlo,'DejaVu Sans Mono',consolas,'Courier New',monospace\"><span style=\"color: #808000; text-decoration-color: #808000; font-weight: bold\">DeprecationWarning: Kernel._parent_header is deprecated in ipykernel 6. Use .get_parent()</span> \n",
       "<span style=\"color: #000000; text-decoration-color: #000000; font-weight: bold\">(raised from /mnt/data/work/repos/workshops/memes/env/lib/python3.9/site-packages/ipywidgets/</span>\n",
       "<span style=\"color: #000000; text-decoration-color: #000000; font-weight: bold\">widgets/widget_output.py:112)</span>\n",
       "</pre>\n"
      ],
      "text/plain": [
       "\u001b[1;33mDeprecationWarning: Kernel._parent_header is deprecated in ipykernel 6. Use .get_parent()\u001b[0m \n",
       "\u001b[1;30m(raised from /mnt/data/work/repos/workshops/memes/env/lib/python3.9/site-packages/ipywidgets/\u001b[0m\n",
       "\u001b[1;30mwidgets/widget_output.py:112)\u001b[0m\n"
      ]
     },
     "metadata": {},
     "output_type": "display_data"
    },
    {
     "data": {
      "text/html": [
       "<pre style=\"white-space:pre;overflow-x:auto;line-height:normal;font-family:Menlo,'DejaVu Sans Mono',consolas,'Courier New',monospace\"><span style=\"color: #808000; text-decoration-color: #808000; font-weight: bold\">DeprecationWarning: Kernel._parent_header is deprecated in ipykernel 6. Use .get_parent()</span> \n",
       "<span style=\"color: #000000; text-decoration-color: #000000; font-weight: bold\">(raised from /mnt/data/work/repos/workshops/memes/env/lib/python3.9/site-packages/ipywidgets/</span>\n",
       "<span style=\"color: #000000; text-decoration-color: #000000; font-weight: bold\">widgets/widget_output.py:111)</span>\n",
       "</pre>\n"
      ],
      "text/plain": [
       "\u001b[1;33mDeprecationWarning: Kernel._parent_header is deprecated in ipykernel 6. Use .get_parent()\u001b[0m \n",
       "\u001b[1;30m(raised from /mnt/data/work/repos/workshops/memes/env/lib/python3.9/site-packages/ipywidgets/\u001b[0m\n",
       "\u001b[1;30mwidgets/widget_output.py:111)\u001b[0m\n"
      ]
     },
     "metadata": {},
     "output_type": "display_data"
    },
    {
     "data": {
      "text/html": [
       "<pre style=\"white-space:pre;overflow-x:auto;line-height:normal;font-family:Menlo,'DejaVu Sans Mono',consolas,'Courier New',monospace\"><span style=\"color: #808000; text-decoration-color: #808000; font-weight: bold\">DeprecationWarning: Kernel._parent_header is deprecated in ipykernel 6. Use .get_parent()</span> \n",
       "<span style=\"color: #000000; text-decoration-color: #000000; font-weight: bold\">(raised from /mnt/data/work/repos/workshops/memes/env/lib/python3.9/site-packages/ipywidgets/</span>\n",
       "<span style=\"color: #000000; text-decoration-color: #000000; font-weight: bold\">widgets/widget_output.py:112)</span>\n",
       "</pre>\n"
      ],
      "text/plain": [
       "\u001b[1;33mDeprecationWarning: Kernel._parent_header is deprecated in ipykernel 6. Use .get_parent()\u001b[0m \n",
       "\u001b[1;30m(raised from /mnt/data/work/repos/workshops/memes/env/lib/python3.9/site-packages/ipywidgets/\u001b[0m\n",
       "\u001b[1;30mwidgets/widget_output.py:112)\u001b[0m\n"
      ]
     },
     "metadata": {},
     "output_type": "display_data"
    },
    {
     "data": {
      "text/html": [
       "<pre style=\"white-space:pre;overflow-x:auto;line-height:normal;font-family:Menlo,'DejaVu Sans Mono',consolas,'Courier New',monospace\"><span style=\"color: #808000; text-decoration-color: #808000; font-weight: bold\">DeprecationWarning: Kernel._parent_header is deprecated in ipykernel 6. Use .get_parent()</span> \n",
       "<span style=\"color: #000000; text-decoration-color: #000000; font-weight: bold\">(raised from /mnt/data/work/repos/workshops/memes/env/lib/python3.9/site-packages/ipywidgets/</span>\n",
       "<span style=\"color: #000000; text-decoration-color: #000000; font-weight: bold\">widgets/widget_output.py:111)</span>\n",
       "</pre>\n"
      ],
      "text/plain": [
       "\u001b[1;33mDeprecationWarning: Kernel._parent_header is deprecated in ipykernel 6. Use .get_parent()\u001b[0m \n",
       "\u001b[1;30m(raised from /mnt/data/work/repos/workshops/memes/env/lib/python3.9/site-packages/ipywidgets/\u001b[0m\n",
       "\u001b[1;30mwidgets/widget_output.py:111)\u001b[0m\n"
      ]
     },
     "metadata": {},
     "output_type": "display_data"
    },
    {
     "data": {
      "text/html": [
       "<pre style=\"white-space:pre;overflow-x:auto;line-height:normal;font-family:Menlo,'DejaVu Sans Mono',consolas,'Courier New',monospace\"><span style=\"color: #808000; text-decoration-color: #808000; font-weight: bold\">DeprecationWarning: Kernel._parent_header is deprecated in ipykernel 6. Use .get_parent()</span> \n",
       "<span style=\"color: #000000; text-decoration-color: #000000; font-weight: bold\">(raised from /mnt/data/work/repos/workshops/memes/env/lib/python3.9/site-packages/ipywidgets/</span>\n",
       "<span style=\"color: #000000; text-decoration-color: #000000; font-weight: bold\">widgets/widget_output.py:112)</span>\n",
       "</pre>\n"
      ],
      "text/plain": [
       "\u001b[1;33mDeprecationWarning: Kernel._parent_header is deprecated in ipykernel 6. Use .get_parent()\u001b[0m \n",
       "\u001b[1;30m(raised from /mnt/data/work/repos/workshops/memes/env/lib/python3.9/site-packages/ipywidgets/\u001b[0m\n",
       "\u001b[1;30mwidgets/widget_output.py:112)\u001b[0m\n"
      ]
     },
     "metadata": {},
     "output_type": "display_data"
    },
    {
     "data": {
      "text/html": [
       "<pre style=\"white-space:pre;overflow-x:auto;line-height:normal;font-family:Menlo,'DejaVu Sans Mono',consolas,'Courier New',monospace\"><span style=\"color: #808000; text-decoration-color: #808000; font-weight: bold\">DeprecationWarning: Kernel._parent_header is deprecated in ipykernel 6. Use .get_parent()</span> \n",
       "<span style=\"color: #000000; text-decoration-color: #000000; font-weight: bold\">(raised from /mnt/data/work/repos/workshops/memes/env/lib/python3.9/site-packages/ipywidgets/</span>\n",
       "<span style=\"color: #000000; text-decoration-color: #000000; font-weight: bold\">widgets/widget_output.py:111)</span>\n",
       "</pre>\n"
      ],
      "text/plain": [
       "\u001b[1;33mDeprecationWarning: Kernel._parent_header is deprecated in ipykernel 6. Use .get_parent()\u001b[0m \n",
       "\u001b[1;30m(raised from /mnt/data/work/repos/workshops/memes/env/lib/python3.9/site-packages/ipywidgets/\u001b[0m\n",
       "\u001b[1;30mwidgets/widget_output.py:111)\u001b[0m\n"
      ]
     },
     "metadata": {},
     "output_type": "display_data"
    },
    {
     "data": {
      "text/html": [
       "<pre style=\"white-space:pre;overflow-x:auto;line-height:normal;font-family:Menlo,'DejaVu Sans Mono',consolas,'Courier New',monospace\"><span style=\"color: #808000; text-decoration-color: #808000; font-weight: bold\">DeprecationWarning: Kernel._parent_header is deprecated in ipykernel 6. Use .get_parent()</span> \n",
       "<span style=\"color: #000000; text-decoration-color: #000000; font-weight: bold\">(raised from /mnt/data/work/repos/workshops/memes/env/lib/python3.9/site-packages/ipywidgets/</span>\n",
       "<span style=\"color: #000000; text-decoration-color: #000000; font-weight: bold\">widgets/widget_output.py:112)</span>\n",
       "</pre>\n"
      ],
      "text/plain": [
       "\u001b[1;33mDeprecationWarning: Kernel._parent_header is deprecated in ipykernel 6. Use .get_parent()\u001b[0m \n",
       "\u001b[1;30m(raised from /mnt/data/work/repos/workshops/memes/env/lib/python3.9/site-packages/ipywidgets/\u001b[0m\n",
       "\u001b[1;30mwidgets/widget_output.py:112)\u001b[0m\n"
      ]
     },
     "metadata": {},
     "output_type": "display_data"
    },
    {
     "data": {
      "text/html": [
       "<pre style=\"white-space:pre;overflow-x:auto;line-height:normal;font-family:Menlo,'DejaVu Sans Mono',consolas,'Courier New',monospace\"><span style=\"color: #808000; text-decoration-color: #808000; font-weight: bold\">DeprecationWarning: Kernel._parent_header is deprecated in ipykernel 6. Use .get_parent()</span> \n",
       "<span style=\"color: #000000; text-decoration-color: #000000; font-weight: bold\">(raised from /mnt/data/work/repos/workshops/memes/env/lib/python3.9/site-packages/ipywidgets/</span>\n",
       "<span style=\"color: #000000; text-decoration-color: #000000; font-weight: bold\">widgets/widget_output.py:111)</span>\n",
       "</pre>\n"
      ],
      "text/plain": [
       "\u001b[1;33mDeprecationWarning: Kernel._parent_header is deprecated in ipykernel 6. Use .get_parent()\u001b[0m \n",
       "\u001b[1;30m(raised from /mnt/data/work/repos/workshops/memes/env/lib/python3.9/site-packages/ipywidgets/\u001b[0m\n",
       "\u001b[1;30mwidgets/widget_output.py:111)\u001b[0m\n"
      ]
     },
     "metadata": {},
     "output_type": "display_data"
    },
    {
     "data": {
      "text/html": [
       "<pre style=\"white-space:pre;overflow-x:auto;line-height:normal;font-family:Menlo,'DejaVu Sans Mono',consolas,'Courier New',monospace\"><span style=\"color: #808000; text-decoration-color: #808000; font-weight: bold\">DeprecationWarning: Kernel._parent_header is deprecated in ipykernel 6. Use .get_parent()</span> \n",
       "<span style=\"color: #000000; text-decoration-color: #000000; font-weight: bold\">(raised from /mnt/data/work/repos/workshops/memes/env/lib/python3.9/site-packages/ipywidgets/</span>\n",
       "<span style=\"color: #000000; text-decoration-color: #000000; font-weight: bold\">widgets/widget_output.py:112)</span>\n",
       "</pre>\n"
      ],
      "text/plain": [
       "\u001b[1;33mDeprecationWarning: Kernel._parent_header is deprecated in ipykernel 6. Use .get_parent()\u001b[0m \n",
       "\u001b[1;30m(raised from /mnt/data/work/repos/workshops/memes/env/lib/python3.9/site-packages/ipywidgets/\u001b[0m\n",
       "\u001b[1;30mwidgets/widget_output.py:112)\u001b[0m\n"
      ]
     },
     "metadata": {},
     "output_type": "display_data"
    },
    {
     "data": {
      "text/html": [
       "<pre style=\"white-space:pre;overflow-x:auto;line-height:normal;font-family:Menlo,'DejaVu Sans Mono',consolas,'Courier New',monospace\"><span style=\"color: #808000; text-decoration-color: #808000; font-weight: bold\">DeprecationWarning: Kernel._parent_header is deprecated in ipykernel 6. Use .get_parent()</span> \n",
       "<span style=\"color: #000000; text-decoration-color: #000000; font-weight: bold\">(raised from /mnt/data/work/repos/workshops/memes/env/lib/python3.9/site-packages/ipywidgets/</span>\n",
       "<span style=\"color: #000000; text-decoration-color: #000000; font-weight: bold\">widgets/widget_output.py:111)</span>\n",
       "</pre>\n"
      ],
      "text/plain": [
       "\u001b[1;33mDeprecationWarning: Kernel._parent_header is deprecated in ipykernel 6. Use .get_parent()\u001b[0m \n",
       "\u001b[1;30m(raised from /mnt/data/work/repos/workshops/memes/env/lib/python3.9/site-packages/ipywidgets/\u001b[0m\n",
       "\u001b[1;30mwidgets/widget_output.py:111)\u001b[0m\n"
      ]
     },
     "metadata": {},
     "output_type": "display_data"
    },
    {
     "data": {
      "text/html": [
       "<pre style=\"white-space:pre;overflow-x:auto;line-height:normal;font-family:Menlo,'DejaVu Sans Mono',consolas,'Courier New',monospace\"><span style=\"color: #808000; text-decoration-color: #808000; font-weight: bold\">DeprecationWarning: Kernel._parent_header is deprecated in ipykernel 6. Use .get_parent()</span> \n",
       "<span style=\"color: #000000; text-decoration-color: #000000; font-weight: bold\">(raised from /mnt/data/work/repos/workshops/memes/env/lib/python3.9/site-packages/ipywidgets/</span>\n",
       "<span style=\"color: #000000; text-decoration-color: #000000; font-weight: bold\">widgets/widget_output.py:112)</span>\n",
       "</pre>\n"
      ],
      "text/plain": [
       "\u001b[1;33mDeprecationWarning: Kernel._parent_header is deprecated in ipykernel 6. Use .get_parent()\u001b[0m \n",
       "\u001b[1;30m(raised from /mnt/data/work/repos/workshops/memes/env/lib/python3.9/site-packages/ipywidgets/\u001b[0m\n",
       "\u001b[1;30mwidgets/widget_output.py:112)\u001b[0m\n"
      ]
     },
     "metadata": {},
     "output_type": "display_data"
    },
    {
     "data": {
      "text/html": [
       "<pre style=\"white-space:pre;overflow-x:auto;line-height:normal;font-family:Menlo,'DejaVu Sans Mono',consolas,'Courier New',monospace\"><span style=\"color: #808000; text-decoration-color: #808000; font-weight: bold\">DeprecationWarning: Kernel._parent_header is deprecated in ipykernel 6. Use .get_parent()</span> \n",
       "<span style=\"color: #000000; text-decoration-color: #000000; font-weight: bold\">(raised from /mnt/data/work/repos/workshops/memes/env/lib/python3.9/site-packages/ipywidgets/</span>\n",
       "<span style=\"color: #000000; text-decoration-color: #000000; font-weight: bold\">widgets/widget_output.py:111)</span>\n",
       "</pre>\n"
      ],
      "text/plain": [
       "\u001b[1;33mDeprecationWarning: Kernel._parent_header is deprecated in ipykernel 6. Use .get_parent()\u001b[0m \n",
       "\u001b[1;30m(raised from /mnt/data/work/repos/workshops/memes/env/lib/python3.9/site-packages/ipywidgets/\u001b[0m\n",
       "\u001b[1;30mwidgets/widget_output.py:111)\u001b[0m\n"
      ]
     },
     "metadata": {},
     "output_type": "display_data"
    },
    {
     "data": {
      "text/html": [
       "<pre style=\"white-space:pre;overflow-x:auto;line-height:normal;font-family:Menlo,'DejaVu Sans Mono',consolas,'Courier New',monospace\"><span style=\"color: #808000; text-decoration-color: #808000; font-weight: bold\">DeprecationWarning: Kernel._parent_header is deprecated in ipykernel 6. Use .get_parent()</span> \n",
       "<span style=\"color: #000000; text-decoration-color: #000000; font-weight: bold\">(raised from /mnt/data/work/repos/workshops/memes/env/lib/python3.9/site-packages/ipywidgets/</span>\n",
       "<span style=\"color: #000000; text-decoration-color: #000000; font-weight: bold\">widgets/widget_output.py:112)</span>\n",
       "</pre>\n"
      ],
      "text/plain": [
       "\u001b[1;33mDeprecationWarning: Kernel._parent_header is deprecated in ipykernel 6. Use .get_parent()\u001b[0m \n",
       "\u001b[1;30m(raised from /mnt/data/work/repos/workshops/memes/env/lib/python3.9/site-packages/ipywidgets/\u001b[0m\n",
       "\u001b[1;30mwidgets/widget_output.py:112)\u001b[0m\n"
      ]
     },
     "metadata": {},
     "output_type": "display_data"
    },
    {
     "data": {
      "text/html": [
       "<pre style=\"white-space:pre;overflow-x:auto;line-height:normal;font-family:Menlo,'DejaVu Sans Mono',consolas,'Courier New',monospace\"><span style=\"color: #808000; text-decoration-color: #808000; font-weight: bold\">DeprecationWarning: Kernel._parent_header is deprecated in ipykernel 6. Use .get_parent()</span> \n",
       "<span style=\"color: #000000; text-decoration-color: #000000; font-weight: bold\">(raised from /mnt/data/work/repos/workshops/memes/env/lib/python3.9/site-packages/ipywidgets/</span>\n",
       "<span style=\"color: #000000; text-decoration-color: #000000; font-weight: bold\">widgets/widget_output.py:111)</span>\n",
       "</pre>\n"
      ],
      "text/plain": [
       "\u001b[1;33mDeprecationWarning: Kernel._parent_header is deprecated in ipykernel 6. Use .get_parent()\u001b[0m \n",
       "\u001b[1;30m(raised from /mnt/data/work/repos/workshops/memes/env/lib/python3.9/site-packages/ipywidgets/\u001b[0m\n",
       "\u001b[1;30mwidgets/widget_output.py:111)\u001b[0m\n"
      ]
     },
     "metadata": {},
     "output_type": "display_data"
    },
    {
     "data": {
      "text/html": [
       "<pre style=\"white-space:pre;overflow-x:auto;line-height:normal;font-family:Menlo,'DejaVu Sans Mono',consolas,'Courier New',monospace\"><span style=\"color: #808000; text-decoration-color: #808000; font-weight: bold\">DeprecationWarning: Kernel._parent_header is deprecated in ipykernel 6. Use .get_parent()</span> \n",
       "<span style=\"color: #000000; text-decoration-color: #000000; font-weight: bold\">(raised from /mnt/data/work/repos/workshops/memes/env/lib/python3.9/site-packages/ipywidgets/</span>\n",
       "<span style=\"color: #000000; text-decoration-color: #000000; font-weight: bold\">widgets/widget_output.py:112)</span>\n",
       "</pre>\n"
      ],
      "text/plain": [
       "\u001b[1;33mDeprecationWarning: Kernel._parent_header is deprecated in ipykernel 6. Use .get_parent()\u001b[0m \n",
       "\u001b[1;30m(raised from /mnt/data/work/repos/workshops/memes/env/lib/python3.9/site-packages/ipywidgets/\u001b[0m\n",
       "\u001b[1;30mwidgets/widget_output.py:112)\u001b[0m\n"
      ]
     },
     "metadata": {},
     "output_type": "display_data"
    },
    {
     "data": {
      "text/html": [
       "<pre style=\"white-space:pre;overflow-x:auto;line-height:normal;font-family:Menlo,'DejaVu Sans Mono',consolas,'Courier New',monospace\"><span style=\"color: #808000; text-decoration-color: #808000; font-weight: bold\">DeprecationWarning: Kernel._parent_header is deprecated in ipykernel 6. Use .get_parent()</span> \n",
       "<span style=\"color: #000000; text-decoration-color: #000000; font-weight: bold\">(raised from /mnt/data/work/repos/workshops/memes/env/lib/python3.9/site-packages/ipywidgets/</span>\n",
       "<span style=\"color: #000000; text-decoration-color: #000000; font-weight: bold\">widgets/widget_output.py:111)</span>\n",
       "</pre>\n"
      ],
      "text/plain": [
       "\u001b[1;33mDeprecationWarning: Kernel._parent_header is deprecated in ipykernel 6. Use .get_parent()\u001b[0m \n",
       "\u001b[1;30m(raised from /mnt/data/work/repos/workshops/memes/env/lib/python3.9/site-packages/ipywidgets/\u001b[0m\n",
       "\u001b[1;30mwidgets/widget_output.py:111)\u001b[0m\n"
      ]
     },
     "metadata": {},
     "output_type": "display_data"
    },
    {
     "data": {
      "text/html": [
       "<pre style=\"white-space:pre;overflow-x:auto;line-height:normal;font-family:Menlo,'DejaVu Sans Mono',consolas,'Courier New',monospace\"><span style=\"color: #808000; text-decoration-color: #808000; font-weight: bold\">DeprecationWarning: Kernel._parent_header is deprecated in ipykernel 6. Use .get_parent()</span> \n",
       "<span style=\"color: #000000; text-decoration-color: #000000; font-weight: bold\">(raised from /mnt/data/work/repos/workshops/memes/env/lib/python3.9/site-packages/ipywidgets/</span>\n",
       "<span style=\"color: #000000; text-decoration-color: #000000; font-weight: bold\">widgets/widget_output.py:112)</span>\n",
       "</pre>\n"
      ],
      "text/plain": [
       "\u001b[1;33mDeprecationWarning: Kernel._parent_header is deprecated in ipykernel 6. Use .get_parent()\u001b[0m \n",
       "\u001b[1;30m(raised from /mnt/data/work/repos/workshops/memes/env/lib/python3.9/site-packages/ipywidgets/\u001b[0m\n",
       "\u001b[1;30mwidgets/widget_output.py:112)\u001b[0m\n"
      ]
     },
     "metadata": {},
     "output_type": "display_data"
    },
    {
     "data": {
      "text/html": [
       "<pre style=\"white-space:pre;overflow-x:auto;line-height:normal;font-family:Menlo,'DejaVu Sans Mono',consolas,'Courier New',monospace\"><span style=\"color: #808000; text-decoration-color: #808000; font-weight: bold\">DeprecationWarning: Kernel._parent_header is deprecated in ipykernel 6. Use .get_parent()</span> \n",
       "<span style=\"color: #000000; text-decoration-color: #000000; font-weight: bold\">(raised from /mnt/data/work/repos/workshops/memes/env/lib/python3.9/site-packages/ipywidgets/</span>\n",
       "<span style=\"color: #000000; text-decoration-color: #000000; font-weight: bold\">widgets/widget_output.py:111)</span>\n",
       "</pre>\n"
      ],
      "text/plain": [
       "\u001b[1;33mDeprecationWarning: Kernel._parent_header is deprecated in ipykernel 6. Use .get_parent()\u001b[0m \n",
       "\u001b[1;30m(raised from /mnt/data/work/repos/workshops/memes/env/lib/python3.9/site-packages/ipywidgets/\u001b[0m\n",
       "\u001b[1;30mwidgets/widget_output.py:111)\u001b[0m\n"
      ]
     },
     "metadata": {},
     "output_type": "display_data"
    },
    {
     "data": {
      "text/html": [
       "<pre style=\"white-space:pre;overflow-x:auto;line-height:normal;font-family:Menlo,'DejaVu Sans Mono',consolas,'Courier New',monospace\"><span style=\"color: #808000; text-decoration-color: #808000; font-weight: bold\">DeprecationWarning: Kernel._parent_header is deprecated in ipykernel 6. Use .get_parent()</span> \n",
       "<span style=\"color: #000000; text-decoration-color: #000000; font-weight: bold\">(raised from /mnt/data/work/repos/workshops/memes/env/lib/python3.9/site-packages/ipywidgets/</span>\n",
       "<span style=\"color: #000000; text-decoration-color: #000000; font-weight: bold\">widgets/widget_output.py:112)</span>\n",
       "</pre>\n"
      ],
      "text/plain": [
       "\u001b[1;33mDeprecationWarning: Kernel._parent_header is deprecated in ipykernel 6. Use .get_parent()\u001b[0m \n",
       "\u001b[1;30m(raised from /mnt/data/work/repos/workshops/memes/env/lib/python3.9/site-packages/ipywidgets/\u001b[0m\n",
       "\u001b[1;30mwidgets/widget_output.py:112)\u001b[0m\n"
      ]
     },
     "metadata": {},
     "output_type": "display_data"
    },
    {
     "data": {
      "text/html": [
       "<pre style=\"white-space:pre;overflow-x:auto;line-height:normal;font-family:Menlo,'DejaVu Sans Mono',consolas,'Courier New',monospace\"><span style=\"color: #808000; text-decoration-color: #808000; font-weight: bold\">DeprecationWarning: Kernel._parent_header is deprecated in ipykernel 6. Use .get_parent()</span> \n",
       "<span style=\"color: #000000; text-decoration-color: #000000; font-weight: bold\">(raised from /mnt/data/work/repos/workshops/memes/env/lib/python3.9/site-packages/ipywidgets/</span>\n",
       "<span style=\"color: #000000; text-decoration-color: #000000; font-weight: bold\">widgets/widget_output.py:111)</span>\n",
       "</pre>\n"
      ],
      "text/plain": [
       "\u001b[1;33mDeprecationWarning: Kernel._parent_header is deprecated in ipykernel 6. Use .get_parent()\u001b[0m \n",
       "\u001b[1;30m(raised from /mnt/data/work/repos/workshops/memes/env/lib/python3.9/site-packages/ipywidgets/\u001b[0m\n",
       "\u001b[1;30mwidgets/widget_output.py:111)\u001b[0m\n"
      ]
     },
     "metadata": {},
     "output_type": "display_data"
    },
    {
     "data": {
      "text/html": [
       "<pre style=\"white-space:pre;overflow-x:auto;line-height:normal;font-family:Menlo,'DejaVu Sans Mono',consolas,'Courier New',monospace\"><span style=\"color: #808000; text-decoration-color: #808000; font-weight: bold\">DeprecationWarning: Kernel._parent_header is deprecated in ipykernel 6. Use .get_parent()</span> \n",
       "<span style=\"color: #000000; text-decoration-color: #000000; font-weight: bold\">(raised from /mnt/data/work/repos/workshops/memes/env/lib/python3.9/site-packages/ipywidgets/</span>\n",
       "<span style=\"color: #000000; text-decoration-color: #000000; font-weight: bold\">widgets/widget_output.py:112)</span>\n",
       "</pre>\n"
      ],
      "text/plain": [
       "\u001b[1;33mDeprecationWarning: Kernel._parent_header is deprecated in ipykernel 6. Use .get_parent()\u001b[0m \n",
       "\u001b[1;30m(raised from /mnt/data/work/repos/workshops/memes/env/lib/python3.9/site-packages/ipywidgets/\u001b[0m\n",
       "\u001b[1;30mwidgets/widget_output.py:112)\u001b[0m\n"
      ]
     },
     "metadata": {},
     "output_type": "display_data"
    },
    {
     "data": {
      "text/html": [
       "<pre style=\"white-space:pre;overflow-x:auto;line-height:normal;font-family:Menlo,'DejaVu Sans Mono',consolas,'Courier New',monospace\"><span style=\"color: #808000; text-decoration-color: #808000; font-weight: bold\">DeprecationWarning: Kernel._parent_header is deprecated in ipykernel 6. Use .get_parent()</span> \n",
       "<span style=\"color: #000000; text-decoration-color: #000000; font-weight: bold\">(raised from /mnt/data/work/repos/workshops/memes/env/lib/python3.9/site-packages/ipywidgets/</span>\n",
       "<span style=\"color: #000000; text-decoration-color: #000000; font-weight: bold\">widgets/widget_output.py:111)</span>\n",
       "</pre>\n"
      ],
      "text/plain": [
       "\u001b[1;33mDeprecationWarning: Kernel._parent_header is deprecated in ipykernel 6. Use .get_parent()\u001b[0m \n",
       "\u001b[1;30m(raised from /mnt/data/work/repos/workshops/memes/env/lib/python3.9/site-packages/ipywidgets/\u001b[0m\n",
       "\u001b[1;30mwidgets/widget_output.py:111)\u001b[0m\n"
      ]
     },
     "metadata": {},
     "output_type": "display_data"
    },
    {
     "data": {
      "text/html": [
       "<pre style=\"white-space:pre;overflow-x:auto;line-height:normal;font-family:Menlo,'DejaVu Sans Mono',consolas,'Courier New',monospace\"><span style=\"color: #808000; text-decoration-color: #808000; font-weight: bold\">DeprecationWarning: Kernel._parent_header is deprecated in ipykernel 6. Use .get_parent()</span> \n",
       "<span style=\"color: #000000; text-decoration-color: #000000; font-weight: bold\">(raised from /mnt/data/work/repos/workshops/memes/env/lib/python3.9/site-packages/ipywidgets/</span>\n",
       "<span style=\"color: #000000; text-decoration-color: #000000; font-weight: bold\">widgets/widget_output.py:112)</span>\n",
       "</pre>\n"
      ],
      "text/plain": [
       "\u001b[1;33mDeprecationWarning: Kernel._parent_header is deprecated in ipykernel 6. Use .get_parent()\u001b[0m \n",
       "\u001b[1;30m(raised from /mnt/data/work/repos/workshops/memes/env/lib/python3.9/site-packages/ipywidgets/\u001b[0m\n",
       "\u001b[1;30mwidgets/widget_output.py:112)\u001b[0m\n"
      ]
     },
     "metadata": {},
     "output_type": "display_data"
    },
    {
     "data": {
      "text/html": [
       "<pre style=\"white-space:pre;overflow-x:auto;line-height:normal;font-family:Menlo,'DejaVu Sans Mono',consolas,'Courier New',monospace\"><span style=\"color: #808000; text-decoration-color: #808000; font-weight: bold\">DeprecationWarning: Kernel._parent_header is deprecated in ipykernel 6. Use .get_parent()</span> \n",
       "<span style=\"color: #000000; text-decoration-color: #000000; font-weight: bold\">(raised from /mnt/data/work/repos/workshops/memes/env/lib/python3.9/site-packages/ipywidgets/</span>\n",
       "<span style=\"color: #000000; text-decoration-color: #000000; font-weight: bold\">widgets/widget_output.py:111)</span>\n",
       "</pre>\n"
      ],
      "text/plain": [
       "\u001b[1;33mDeprecationWarning: Kernel._parent_header is deprecated in ipykernel 6. Use .get_parent()\u001b[0m \n",
       "\u001b[1;30m(raised from /mnt/data/work/repos/workshops/memes/env/lib/python3.9/site-packages/ipywidgets/\u001b[0m\n",
       "\u001b[1;30mwidgets/widget_output.py:111)\u001b[0m\n"
      ]
     },
     "metadata": {},
     "output_type": "display_data"
    },
    {
     "data": {
      "text/html": [
       "<pre style=\"white-space:pre;overflow-x:auto;line-height:normal;font-family:Menlo,'DejaVu Sans Mono',consolas,'Courier New',monospace\"><span style=\"color: #808000; text-decoration-color: #808000; font-weight: bold\">DeprecationWarning: Kernel._parent_header is deprecated in ipykernel 6. Use .get_parent()</span> \n",
       "<span style=\"color: #000000; text-decoration-color: #000000; font-weight: bold\">(raised from /mnt/data/work/repos/workshops/memes/env/lib/python3.9/site-packages/ipywidgets/</span>\n",
       "<span style=\"color: #000000; text-decoration-color: #000000; font-weight: bold\">widgets/widget_output.py:112)</span>\n",
       "</pre>\n"
      ],
      "text/plain": [
       "\u001b[1;33mDeprecationWarning: Kernel._parent_header is deprecated in ipykernel 6. Use .get_parent()\u001b[0m \n",
       "\u001b[1;30m(raised from /mnt/data/work/repos/workshops/memes/env/lib/python3.9/site-packages/ipywidgets/\u001b[0m\n",
       "\u001b[1;30mwidgets/widget_output.py:112)\u001b[0m\n"
      ]
     },
     "metadata": {},
     "output_type": "display_data"
    },
    {
     "data": {
      "text/html": [
       "<pre style=\"white-space:pre;overflow-x:auto;line-height:normal;font-family:Menlo,'DejaVu Sans Mono',consolas,'Courier New',monospace\"><span style=\"color: #808000; text-decoration-color: #808000; font-weight: bold\">DeprecationWarning: Kernel._parent_header is deprecated in ipykernel 6. Use .get_parent()</span> \n",
       "<span style=\"color: #000000; text-decoration-color: #000000; font-weight: bold\">(raised from /mnt/data/work/repos/workshops/memes/env/lib/python3.9/site-packages/ipywidgets/</span>\n",
       "<span style=\"color: #000000; text-decoration-color: #000000; font-weight: bold\">widgets/widget_output.py:111)</span>\n",
       "</pre>\n"
      ],
      "text/plain": [
       "\u001b[1;33mDeprecationWarning: Kernel._parent_header is deprecated in ipykernel 6. Use .get_parent()\u001b[0m \n",
       "\u001b[1;30m(raised from /mnt/data/work/repos/workshops/memes/env/lib/python3.9/site-packages/ipywidgets/\u001b[0m\n",
       "\u001b[1;30mwidgets/widget_output.py:111)\u001b[0m\n"
      ]
     },
     "metadata": {},
     "output_type": "display_data"
    },
    {
     "data": {
      "text/html": [
       "<pre style=\"white-space:pre;overflow-x:auto;line-height:normal;font-family:Menlo,'DejaVu Sans Mono',consolas,'Courier New',monospace\"><span style=\"color: #808000; text-decoration-color: #808000; font-weight: bold\">DeprecationWarning: Kernel._parent_header is deprecated in ipykernel 6. Use .get_parent()</span> \n",
       "<span style=\"color: #000000; text-decoration-color: #000000; font-weight: bold\">(raised from /mnt/data/work/repos/workshops/memes/env/lib/python3.9/site-packages/ipywidgets/</span>\n",
       "<span style=\"color: #000000; text-decoration-color: #000000; font-weight: bold\">widgets/widget_output.py:112)</span>\n",
       "</pre>\n"
      ],
      "text/plain": [
       "\u001b[1;33mDeprecationWarning: Kernel._parent_header is deprecated in ipykernel 6. Use .get_parent()\u001b[0m \n",
       "\u001b[1;30m(raised from /mnt/data/work/repos/workshops/memes/env/lib/python3.9/site-packages/ipywidgets/\u001b[0m\n",
       "\u001b[1;30mwidgets/widget_output.py:112)\u001b[0m\n"
      ]
     },
     "metadata": {},
     "output_type": "display_data"
    },
    {
     "data": {
      "text/html": [
       "<pre style=\"white-space:pre;overflow-x:auto;line-height:normal;font-family:Menlo,'DejaVu Sans Mono',consolas,'Courier New',monospace\"><span style=\"color: #808000; text-decoration-color: #808000; font-weight: bold\">DeprecationWarning: Kernel._parent_header is deprecated in ipykernel 6. Use .get_parent()</span> \n",
       "<span style=\"color: #000000; text-decoration-color: #000000; font-weight: bold\">(raised from /mnt/data/work/repos/workshops/memes/env/lib/python3.9/site-packages/ipywidgets/</span>\n",
       "<span style=\"color: #000000; text-decoration-color: #000000; font-weight: bold\">widgets/widget_output.py:111)</span>\n",
       "</pre>\n"
      ],
      "text/plain": [
       "\u001b[1;33mDeprecationWarning: Kernel._parent_header is deprecated in ipykernel 6. Use .get_parent()\u001b[0m \n",
       "\u001b[1;30m(raised from /mnt/data/work/repos/workshops/memes/env/lib/python3.9/site-packages/ipywidgets/\u001b[0m\n",
       "\u001b[1;30mwidgets/widget_output.py:111)\u001b[0m\n"
      ]
     },
     "metadata": {},
     "output_type": "display_data"
    },
    {
     "data": {
      "text/html": [
       "<pre style=\"white-space:pre;overflow-x:auto;line-height:normal;font-family:Menlo,'DejaVu Sans Mono',consolas,'Courier New',monospace\"><span style=\"color: #808000; text-decoration-color: #808000; font-weight: bold\">DeprecationWarning: Kernel._parent_header is deprecated in ipykernel 6. Use .get_parent()</span> \n",
       "<span style=\"color: #000000; text-decoration-color: #000000; font-weight: bold\">(raised from /mnt/data/work/repos/workshops/memes/env/lib/python3.9/site-packages/ipywidgets/</span>\n",
       "<span style=\"color: #000000; text-decoration-color: #000000; font-weight: bold\">widgets/widget_output.py:112)</span>\n",
       "</pre>\n"
      ],
      "text/plain": [
       "\u001b[1;33mDeprecationWarning: Kernel._parent_header is deprecated in ipykernel 6. Use .get_parent()\u001b[0m \n",
       "\u001b[1;30m(raised from /mnt/data/work/repos/workshops/memes/env/lib/python3.9/site-packages/ipywidgets/\u001b[0m\n",
       "\u001b[1;30mwidgets/widget_output.py:112)\u001b[0m\n"
      ]
     },
     "metadata": {},
     "output_type": "display_data"
    },
    {
     "data": {
      "text/html": [
       "<pre style=\"white-space:pre;overflow-x:auto;line-height:normal;font-family:Menlo,'DejaVu Sans Mono',consolas,'Courier New',monospace\"><span style=\"color: #808000; text-decoration-color: #808000; font-weight: bold\">DeprecationWarning: Kernel._parent_header is deprecated in ipykernel 6. Use .get_parent()</span> \n",
       "<span style=\"color: #000000; text-decoration-color: #000000; font-weight: bold\">(raised from /mnt/data/work/repos/workshops/memes/env/lib/python3.9/site-packages/ipywidgets/</span>\n",
       "<span style=\"color: #000000; text-decoration-color: #000000; font-weight: bold\">widgets/widget_output.py:111)</span>\n",
       "</pre>\n"
      ],
      "text/plain": [
       "\u001b[1;33mDeprecationWarning: Kernel._parent_header is deprecated in ipykernel 6. Use .get_parent()\u001b[0m \n",
       "\u001b[1;30m(raised from /mnt/data/work/repos/workshops/memes/env/lib/python3.9/site-packages/ipywidgets/\u001b[0m\n",
       "\u001b[1;30mwidgets/widget_output.py:111)\u001b[0m\n"
      ]
     },
     "metadata": {},
     "output_type": "display_data"
    },
    {
     "data": {
      "text/html": [
       "<pre style=\"white-space:pre;overflow-x:auto;line-height:normal;font-family:Menlo,'DejaVu Sans Mono',consolas,'Courier New',monospace\"><span style=\"color: #808000; text-decoration-color: #808000; font-weight: bold\">DeprecationWarning: Kernel._parent_header is deprecated in ipykernel 6. Use .get_parent()</span> \n",
       "<span style=\"color: #000000; text-decoration-color: #000000; font-weight: bold\">(raised from /mnt/data/work/repos/workshops/memes/env/lib/python3.9/site-packages/ipywidgets/</span>\n",
       "<span style=\"color: #000000; text-decoration-color: #000000; font-weight: bold\">widgets/widget_output.py:112)</span>\n",
       "</pre>\n"
      ],
      "text/plain": [
       "\u001b[1;33mDeprecationWarning: Kernel._parent_header is deprecated in ipykernel 6. Use .get_parent()\u001b[0m \n",
       "\u001b[1;30m(raised from /mnt/data/work/repos/workshops/memes/env/lib/python3.9/site-packages/ipywidgets/\u001b[0m\n",
       "\u001b[1;30mwidgets/widget_output.py:112)\u001b[0m\n"
      ]
     },
     "metadata": {},
     "output_type": "display_data"
    },
    {
     "data": {
      "text/html": [
       "<pre style=\"white-space:pre;overflow-x:auto;line-height:normal;font-family:Menlo,'DejaVu Sans Mono',consolas,'Courier New',monospace\"><span style=\"color: #808000; text-decoration-color: #808000; font-weight: bold\">DeprecationWarning: Kernel._parent_header is deprecated in ipykernel 6. Use .get_parent()</span> \n",
       "<span style=\"color: #000000; text-decoration-color: #000000; font-weight: bold\">(raised from /mnt/data/work/repos/workshops/memes/env/lib/python3.9/site-packages/ipywidgets/</span>\n",
       "<span style=\"color: #000000; text-decoration-color: #000000; font-weight: bold\">widgets/widget_output.py:111)</span>\n",
       "</pre>\n"
      ],
      "text/plain": [
       "\u001b[1;33mDeprecationWarning: Kernel._parent_header is deprecated in ipykernel 6. Use .get_parent()\u001b[0m \n",
       "\u001b[1;30m(raised from /mnt/data/work/repos/workshops/memes/env/lib/python3.9/site-packages/ipywidgets/\u001b[0m\n",
       "\u001b[1;30mwidgets/widget_output.py:111)\u001b[0m\n"
      ]
     },
     "metadata": {},
     "output_type": "display_data"
    },
    {
     "data": {
      "text/html": [
       "<pre style=\"white-space:pre;overflow-x:auto;line-height:normal;font-family:Menlo,'DejaVu Sans Mono',consolas,'Courier New',monospace\"><span style=\"color: #808000; text-decoration-color: #808000; font-weight: bold\">DeprecationWarning: Kernel._parent_header is deprecated in ipykernel 6. Use .get_parent()</span> \n",
       "<span style=\"color: #000000; text-decoration-color: #000000; font-weight: bold\">(raised from /mnt/data/work/repos/workshops/memes/env/lib/python3.9/site-packages/ipywidgets/</span>\n",
       "<span style=\"color: #000000; text-decoration-color: #000000; font-weight: bold\">widgets/widget_output.py:112)</span>\n",
       "</pre>\n"
      ],
      "text/plain": [
       "\u001b[1;33mDeprecationWarning: Kernel._parent_header is deprecated in ipykernel 6. Use .get_parent()\u001b[0m \n",
       "\u001b[1;30m(raised from /mnt/data/work/repos/workshops/memes/env/lib/python3.9/site-packages/ipywidgets/\u001b[0m\n",
       "\u001b[1;30mwidgets/widget_output.py:112)\u001b[0m\n"
      ]
     },
     "metadata": {},
     "output_type": "display_data"
    },
    {
     "data": {
      "text/html": [
       "<pre style=\"white-space:pre;overflow-x:auto;line-height:normal;font-family:Menlo,'DejaVu Sans Mono',consolas,'Courier New',monospace\"><span style=\"color: #808000; text-decoration-color: #808000; font-weight: bold\">DeprecationWarning: Kernel._parent_header is deprecated in ipykernel 6. Use .get_parent()</span> \n",
       "<span style=\"color: #000000; text-decoration-color: #000000; font-weight: bold\">(raised from /mnt/data/work/repos/workshops/memes/env/lib/python3.9/site-packages/ipywidgets/</span>\n",
       "<span style=\"color: #000000; text-decoration-color: #000000; font-weight: bold\">widgets/widget_output.py:111)</span>\n",
       "</pre>\n"
      ],
      "text/plain": [
       "\u001b[1;33mDeprecationWarning: Kernel._parent_header is deprecated in ipykernel 6. Use .get_parent()\u001b[0m \n",
       "\u001b[1;30m(raised from /mnt/data/work/repos/workshops/memes/env/lib/python3.9/site-packages/ipywidgets/\u001b[0m\n",
       "\u001b[1;30mwidgets/widget_output.py:111)\u001b[0m\n"
      ]
     },
     "metadata": {},
     "output_type": "display_data"
    },
    {
     "data": {
      "text/html": [
       "<pre style=\"white-space:pre;overflow-x:auto;line-height:normal;font-family:Menlo,'DejaVu Sans Mono',consolas,'Courier New',monospace\"><span style=\"color: #808000; text-decoration-color: #808000; font-weight: bold\">DeprecationWarning: Kernel._parent_header is deprecated in ipykernel 6. Use .get_parent()</span> \n",
       "<span style=\"color: #000000; text-decoration-color: #000000; font-weight: bold\">(raised from /mnt/data/work/repos/workshops/memes/env/lib/python3.9/site-packages/ipywidgets/</span>\n",
       "<span style=\"color: #000000; text-decoration-color: #000000; font-weight: bold\">widgets/widget_output.py:112)</span>\n",
       "</pre>\n"
      ],
      "text/plain": [
       "\u001b[1;33mDeprecationWarning: Kernel._parent_header is deprecated in ipykernel 6. Use .get_parent()\u001b[0m \n",
       "\u001b[1;30m(raised from /mnt/data/work/repos/workshops/memes/env/lib/python3.9/site-packages/ipywidgets/\u001b[0m\n",
       "\u001b[1;30mwidgets/widget_output.py:112)\u001b[0m\n"
      ]
     },
     "metadata": {},
     "output_type": "display_data"
    },
    {
     "data": {
      "text/html": [
       "<pre style=\"white-space:pre;overflow-x:auto;line-height:normal;font-family:Menlo,'DejaVu Sans Mono',consolas,'Courier New',monospace\"><span style=\"color: #808000; text-decoration-color: #808000; font-weight: bold\">DeprecationWarning: Kernel._parent_header is deprecated in ipykernel 6. Use .get_parent()</span> \n",
       "<span style=\"color: #000000; text-decoration-color: #000000; font-weight: bold\">(raised from /mnt/data/work/repos/workshops/memes/env/lib/python3.9/site-packages/ipywidgets/</span>\n",
       "<span style=\"color: #000000; text-decoration-color: #000000; font-weight: bold\">widgets/widget_output.py:111)</span>\n",
       "</pre>\n"
      ],
      "text/plain": [
       "\u001b[1;33mDeprecationWarning: Kernel._parent_header is deprecated in ipykernel 6. Use .get_parent()\u001b[0m \n",
       "\u001b[1;30m(raised from /mnt/data/work/repos/workshops/memes/env/lib/python3.9/site-packages/ipywidgets/\u001b[0m\n",
       "\u001b[1;30mwidgets/widget_output.py:111)\u001b[0m\n"
      ]
     },
     "metadata": {},
     "output_type": "display_data"
    },
    {
     "data": {
      "text/html": [
       "<pre style=\"white-space:pre;overflow-x:auto;line-height:normal;font-family:Menlo,'DejaVu Sans Mono',consolas,'Courier New',monospace\"><span style=\"color: #808000; text-decoration-color: #808000; font-weight: bold\">DeprecationWarning: Kernel._parent_header is deprecated in ipykernel 6. Use .get_parent()</span> \n",
       "<span style=\"color: #000000; text-decoration-color: #000000; font-weight: bold\">(raised from /mnt/data/work/repos/workshops/memes/env/lib/python3.9/site-packages/ipywidgets/</span>\n",
       "<span style=\"color: #000000; text-decoration-color: #000000; font-weight: bold\">widgets/widget_output.py:112)</span>\n",
       "</pre>\n"
      ],
      "text/plain": [
       "\u001b[1;33mDeprecationWarning: Kernel._parent_header is deprecated in ipykernel 6. Use .get_parent()\u001b[0m \n",
       "\u001b[1;30m(raised from /mnt/data/work/repos/workshops/memes/env/lib/python3.9/site-packages/ipywidgets/\u001b[0m\n",
       "\u001b[1;30mwidgets/widget_output.py:112)\u001b[0m\n"
      ]
     },
     "metadata": {},
     "output_type": "display_data"
    },
    {
     "data": {
      "text/html": [
       "<pre style=\"white-space:pre;overflow-x:auto;line-height:normal;font-family:Menlo,'DejaVu Sans Mono',consolas,'Courier New',monospace\"><span style=\"color: #808000; text-decoration-color: #808000; font-weight: bold\">DeprecationWarning: Kernel._parent_header is deprecated in ipykernel 6. Use .get_parent()</span> \n",
       "<span style=\"color: #000000; text-decoration-color: #000000; font-weight: bold\">(raised from /mnt/data/work/repos/workshops/memes/env/lib/python3.9/site-packages/ipywidgets/</span>\n",
       "<span style=\"color: #000000; text-decoration-color: #000000; font-weight: bold\">widgets/widget_output.py:111)</span>\n",
       "</pre>\n"
      ],
      "text/plain": [
       "\u001b[1;33mDeprecationWarning: Kernel._parent_header is deprecated in ipykernel 6. Use .get_parent()\u001b[0m \n",
       "\u001b[1;30m(raised from /mnt/data/work/repos/workshops/memes/env/lib/python3.9/site-packages/ipywidgets/\u001b[0m\n",
       "\u001b[1;30mwidgets/widget_output.py:111)\u001b[0m\n"
      ]
     },
     "metadata": {},
     "output_type": "display_data"
    },
    {
     "data": {
      "text/html": [
       "<pre style=\"white-space:pre;overflow-x:auto;line-height:normal;font-family:Menlo,'DejaVu Sans Mono',consolas,'Courier New',monospace\"><span style=\"color: #808000; text-decoration-color: #808000; font-weight: bold\">DeprecationWarning: Kernel._parent_header is deprecated in ipykernel 6. Use .get_parent()</span> \n",
       "<span style=\"color: #000000; text-decoration-color: #000000; font-weight: bold\">(raised from /mnt/data/work/repos/workshops/memes/env/lib/python3.9/site-packages/ipywidgets/</span>\n",
       "<span style=\"color: #000000; text-decoration-color: #000000; font-weight: bold\">widgets/widget_output.py:112)</span>\n",
       "</pre>\n"
      ],
      "text/plain": [
       "\u001b[1;33mDeprecationWarning: Kernel._parent_header is deprecated in ipykernel 6. Use .get_parent()\u001b[0m \n",
       "\u001b[1;30m(raised from /mnt/data/work/repos/workshops/memes/env/lib/python3.9/site-packages/ipywidgets/\u001b[0m\n",
       "\u001b[1;30mwidgets/widget_output.py:112)\u001b[0m\n"
      ]
     },
     "metadata": {},
     "output_type": "display_data"
    },
    {
     "data": {
      "text/html": [
       "<pre style=\"white-space:pre;overflow-x:auto;line-height:normal;font-family:Menlo,'DejaVu Sans Mono',consolas,'Courier New',monospace\"><span style=\"color: #808000; text-decoration-color: #808000; font-weight: bold\">DeprecationWarning: Kernel._parent_header is deprecated in ipykernel 6. Use .get_parent()</span> \n",
       "<span style=\"color: #000000; text-decoration-color: #000000; font-weight: bold\">(raised from /mnt/data/work/repos/workshops/memes/env/lib/python3.9/site-packages/ipywidgets/</span>\n",
       "<span style=\"color: #000000; text-decoration-color: #000000; font-weight: bold\">widgets/widget_output.py:111)</span>\n",
       "</pre>\n"
      ],
      "text/plain": [
       "\u001b[1;33mDeprecationWarning: Kernel._parent_header is deprecated in ipykernel 6. Use .get_parent()\u001b[0m \n",
       "\u001b[1;30m(raised from /mnt/data/work/repos/workshops/memes/env/lib/python3.9/site-packages/ipywidgets/\u001b[0m\n",
       "\u001b[1;30mwidgets/widget_output.py:111)\u001b[0m\n"
      ]
     },
     "metadata": {},
     "output_type": "display_data"
    },
    {
     "data": {
      "text/html": [
       "<pre style=\"white-space:pre;overflow-x:auto;line-height:normal;font-family:Menlo,'DejaVu Sans Mono',consolas,'Courier New',monospace\"><span style=\"color: #808000; text-decoration-color: #808000; font-weight: bold\">DeprecationWarning: Kernel._parent_header is deprecated in ipykernel 6. Use .get_parent()</span> \n",
       "<span style=\"color: #000000; text-decoration-color: #000000; font-weight: bold\">(raised from /mnt/data/work/repos/workshops/memes/env/lib/python3.9/site-packages/ipywidgets/</span>\n",
       "<span style=\"color: #000000; text-decoration-color: #000000; font-weight: bold\">widgets/widget_output.py:112)</span>\n",
       "</pre>\n"
      ],
      "text/plain": [
       "\u001b[1;33mDeprecationWarning: Kernel._parent_header is deprecated in ipykernel 6. Use .get_parent()\u001b[0m \n",
       "\u001b[1;30m(raised from /mnt/data/work/repos/workshops/memes/env/lib/python3.9/site-packages/ipywidgets/\u001b[0m\n",
       "\u001b[1;30mwidgets/widget_output.py:112)\u001b[0m\n"
      ]
     },
     "metadata": {},
     "output_type": "display_data"
    },
    {
     "data": {
      "text/html": [
       "<pre style=\"white-space:pre;overflow-x:auto;line-height:normal;font-family:Menlo,'DejaVu Sans Mono',consolas,'Courier New',monospace\"><span style=\"color: #808000; text-decoration-color: #808000; font-weight: bold\">DeprecationWarning: Kernel._parent_header is deprecated in ipykernel 6. Use .get_parent()</span> \n",
       "<span style=\"color: #000000; text-decoration-color: #000000; font-weight: bold\">(raised from /mnt/data/work/repos/workshops/memes/env/lib/python3.9/site-packages/ipywidgets/</span>\n",
       "<span style=\"color: #000000; text-decoration-color: #000000; font-weight: bold\">widgets/widget_output.py:111)</span>\n",
       "</pre>\n"
      ],
      "text/plain": [
       "\u001b[1;33mDeprecationWarning: Kernel._parent_header is deprecated in ipykernel 6. Use .get_parent()\u001b[0m \n",
       "\u001b[1;30m(raised from /mnt/data/work/repos/workshops/memes/env/lib/python3.9/site-packages/ipywidgets/\u001b[0m\n",
       "\u001b[1;30mwidgets/widget_output.py:111)\u001b[0m\n"
      ]
     },
     "metadata": {},
     "output_type": "display_data"
    },
    {
     "data": {
      "text/html": [
       "<pre style=\"white-space:pre;overflow-x:auto;line-height:normal;font-family:Menlo,'DejaVu Sans Mono',consolas,'Courier New',monospace\"><span style=\"color: #808000; text-decoration-color: #808000; font-weight: bold\">DeprecationWarning: Kernel._parent_header is deprecated in ipykernel 6. Use .get_parent()</span> \n",
       "<span style=\"color: #000000; text-decoration-color: #000000; font-weight: bold\">(raised from /mnt/data/work/repos/workshops/memes/env/lib/python3.9/site-packages/ipywidgets/</span>\n",
       "<span style=\"color: #000000; text-decoration-color: #000000; font-weight: bold\">widgets/widget_output.py:112)</span>\n",
       "</pre>\n"
      ],
      "text/plain": [
       "\u001b[1;33mDeprecationWarning: Kernel._parent_header is deprecated in ipykernel 6. Use .get_parent()\u001b[0m \n",
       "\u001b[1;30m(raised from /mnt/data/work/repos/workshops/memes/env/lib/python3.9/site-packages/ipywidgets/\u001b[0m\n",
       "\u001b[1;30mwidgets/widget_output.py:112)\u001b[0m\n"
      ]
     },
     "metadata": {},
     "output_type": "display_data"
    },
    {
     "data": {
      "text/html": [
       "<pre style=\"white-space:pre;overflow-x:auto;line-height:normal;font-family:Menlo,'DejaVu Sans Mono',consolas,'Courier New',monospace\"><span style=\"color: #808000; text-decoration-color: #808000; font-weight: bold\">DeprecationWarning: Kernel._parent_header is deprecated in ipykernel 6. Use .get_parent()</span> \n",
       "<span style=\"color: #000000; text-decoration-color: #000000; font-weight: bold\">(raised from /mnt/data/work/repos/workshops/memes/env/lib/python3.9/site-packages/ipywidgets/</span>\n",
       "<span style=\"color: #000000; text-decoration-color: #000000; font-weight: bold\">widgets/widget_output.py:111)</span>\n",
       "</pre>\n"
      ],
      "text/plain": [
       "\u001b[1;33mDeprecationWarning: Kernel._parent_header is deprecated in ipykernel 6. Use .get_parent()\u001b[0m \n",
       "\u001b[1;30m(raised from /mnt/data/work/repos/workshops/memes/env/lib/python3.9/site-packages/ipywidgets/\u001b[0m\n",
       "\u001b[1;30mwidgets/widget_output.py:111)\u001b[0m\n"
      ]
     },
     "metadata": {},
     "output_type": "display_data"
    },
    {
     "data": {
      "text/html": [
       "<pre style=\"white-space:pre;overflow-x:auto;line-height:normal;font-family:Menlo,'DejaVu Sans Mono',consolas,'Courier New',monospace\"><span style=\"color: #808000; text-decoration-color: #808000; font-weight: bold\">DeprecationWarning: Kernel._parent_header is deprecated in ipykernel 6. Use .get_parent()</span> \n",
       "<span style=\"color: #000000; text-decoration-color: #000000; font-weight: bold\">(raised from /mnt/data/work/repos/workshops/memes/env/lib/python3.9/site-packages/ipywidgets/</span>\n",
       "<span style=\"color: #000000; text-decoration-color: #000000; font-weight: bold\">widgets/widget_output.py:112)</span>\n",
       "</pre>\n"
      ],
      "text/plain": [
       "\u001b[1;33mDeprecationWarning: Kernel._parent_header is deprecated in ipykernel 6. Use .get_parent()\u001b[0m \n",
       "\u001b[1;30m(raised from /mnt/data/work/repos/workshops/memes/env/lib/python3.9/site-packages/ipywidgets/\u001b[0m\n",
       "\u001b[1;30mwidgets/widget_output.py:112)\u001b[0m\n"
      ]
     },
     "metadata": {},
     "output_type": "display_data"
    },
    {
     "data": {
      "text/html": [
       "<pre style=\"white-space:pre;overflow-x:auto;line-height:normal;font-family:Menlo,'DejaVu Sans Mono',consolas,'Courier New',monospace\"><span style=\"color: #808000; text-decoration-color: #808000; font-weight: bold\">DeprecationWarning: Kernel._parent_header is deprecated in ipykernel 6. Use .get_parent()</span> \n",
       "<span style=\"color: #000000; text-decoration-color: #000000; font-weight: bold\">(raised from /mnt/data/work/repos/workshops/memes/env/lib/python3.9/site-packages/ipywidgets/</span>\n",
       "<span style=\"color: #000000; text-decoration-color: #000000; font-weight: bold\">widgets/widget_output.py:111)</span>\n",
       "</pre>\n"
      ],
      "text/plain": [
       "\u001b[1;33mDeprecationWarning: Kernel._parent_header is deprecated in ipykernel 6. Use .get_parent()\u001b[0m \n",
       "\u001b[1;30m(raised from /mnt/data/work/repos/workshops/memes/env/lib/python3.9/site-packages/ipywidgets/\u001b[0m\n",
       "\u001b[1;30mwidgets/widget_output.py:111)\u001b[0m\n"
      ]
     },
     "metadata": {},
     "output_type": "display_data"
    },
    {
     "data": {
      "text/html": [
       "<pre style=\"white-space:pre;overflow-x:auto;line-height:normal;font-family:Menlo,'DejaVu Sans Mono',consolas,'Courier New',monospace\"><span style=\"color: #808000; text-decoration-color: #808000; font-weight: bold\">DeprecationWarning: Kernel._parent_header is deprecated in ipykernel 6. Use .get_parent()</span> \n",
       "<span style=\"color: #000000; text-decoration-color: #000000; font-weight: bold\">(raised from /mnt/data/work/repos/workshops/memes/env/lib/python3.9/site-packages/ipywidgets/</span>\n",
       "<span style=\"color: #000000; text-decoration-color: #000000; font-weight: bold\">widgets/widget_output.py:112)</span>\n",
       "</pre>\n"
      ],
      "text/plain": [
       "\u001b[1;33mDeprecationWarning: Kernel._parent_header is deprecated in ipykernel 6. Use .get_parent()\u001b[0m \n",
       "\u001b[1;30m(raised from /mnt/data/work/repos/workshops/memes/env/lib/python3.9/site-packages/ipywidgets/\u001b[0m\n",
       "\u001b[1;30mwidgets/widget_output.py:112)\u001b[0m\n"
      ]
     },
     "metadata": {},
     "output_type": "display_data"
    },
    {
     "data": {
      "text/html": [
       "<pre style=\"white-space:pre;overflow-x:auto;line-height:normal;font-family:Menlo,'DejaVu Sans Mono',consolas,'Courier New',monospace\"><span style=\"color: #808000; text-decoration-color: #808000; font-weight: bold\">DeprecationWarning: Kernel._parent_header is deprecated in ipykernel 6. Use .get_parent()</span> \n",
       "<span style=\"color: #000000; text-decoration-color: #000000; font-weight: bold\">(raised from /mnt/data/work/repos/workshops/memes/env/lib/python3.9/site-packages/ipywidgets/</span>\n",
       "<span style=\"color: #000000; text-decoration-color: #000000; font-weight: bold\">widgets/widget_output.py:111)</span>\n",
       "</pre>\n"
      ],
      "text/plain": [
       "\u001b[1;33mDeprecationWarning: Kernel._parent_header is deprecated in ipykernel 6. Use .get_parent()\u001b[0m \n",
       "\u001b[1;30m(raised from /mnt/data/work/repos/workshops/memes/env/lib/python3.9/site-packages/ipywidgets/\u001b[0m\n",
       "\u001b[1;30mwidgets/widget_output.py:111)\u001b[0m\n"
      ]
     },
     "metadata": {},
     "output_type": "display_data"
    },
    {
     "data": {
      "text/html": [
       "<pre style=\"white-space:pre;overflow-x:auto;line-height:normal;font-family:Menlo,'DejaVu Sans Mono',consolas,'Courier New',monospace\"><span style=\"color: #808000; text-decoration-color: #808000; font-weight: bold\">DeprecationWarning: Kernel._parent_header is deprecated in ipykernel 6. Use .get_parent()</span> \n",
       "<span style=\"color: #000000; text-decoration-color: #000000; font-weight: bold\">(raised from /mnt/data/work/repos/workshops/memes/env/lib/python3.9/site-packages/ipywidgets/</span>\n",
       "<span style=\"color: #000000; text-decoration-color: #000000; font-weight: bold\">widgets/widget_output.py:112)</span>\n",
       "</pre>\n"
      ],
      "text/plain": [
       "\u001b[1;33mDeprecationWarning: Kernel._parent_header is deprecated in ipykernel 6. Use .get_parent()\u001b[0m \n",
       "\u001b[1;30m(raised from /mnt/data/work/repos/workshops/memes/env/lib/python3.9/site-packages/ipywidgets/\u001b[0m\n",
       "\u001b[1;30mwidgets/widget_output.py:112)\u001b[0m\n"
      ]
     },
     "metadata": {},
     "output_type": "display_data"
    },
    {
     "data": {
      "text/html": [
       "<pre style=\"white-space:pre;overflow-x:auto;line-height:normal;font-family:Menlo,'DejaVu Sans Mono',consolas,'Courier New',monospace\"><span style=\"color: #808000; text-decoration-color: #808000; font-weight: bold\">DeprecationWarning: Kernel._parent_header is deprecated in ipykernel 6. Use .get_parent()</span> \n",
       "<span style=\"color: #000000; text-decoration-color: #000000; font-weight: bold\">(raised from /mnt/data/work/repos/workshops/memes/env/lib/python3.9/site-packages/ipywidgets/</span>\n",
       "<span style=\"color: #000000; text-decoration-color: #000000; font-weight: bold\">widgets/widget_output.py:111)</span>\n",
       "</pre>\n"
      ],
      "text/plain": [
       "\u001b[1;33mDeprecationWarning: Kernel._parent_header is deprecated in ipykernel 6. Use .get_parent()\u001b[0m \n",
       "\u001b[1;30m(raised from /mnt/data/work/repos/workshops/memes/env/lib/python3.9/site-packages/ipywidgets/\u001b[0m\n",
       "\u001b[1;30mwidgets/widget_output.py:111)\u001b[0m\n"
      ]
     },
     "metadata": {},
     "output_type": "display_data"
    },
    {
     "data": {
      "text/html": [
       "<pre style=\"white-space:pre;overflow-x:auto;line-height:normal;font-family:Menlo,'DejaVu Sans Mono',consolas,'Courier New',monospace\"><span style=\"color: #808000; text-decoration-color: #808000; font-weight: bold\">DeprecationWarning: Kernel._parent_header is deprecated in ipykernel 6. Use .get_parent()</span> \n",
       "<span style=\"color: #000000; text-decoration-color: #000000; font-weight: bold\">(raised from /mnt/data/work/repos/workshops/memes/env/lib/python3.9/site-packages/ipywidgets/</span>\n",
       "<span style=\"color: #000000; text-decoration-color: #000000; font-weight: bold\">widgets/widget_output.py:112)</span>\n",
       "</pre>\n"
      ],
      "text/plain": [
       "\u001b[1;33mDeprecationWarning: Kernel._parent_header is deprecated in ipykernel 6. Use .get_parent()\u001b[0m \n",
       "\u001b[1;30m(raised from /mnt/data/work/repos/workshops/memes/env/lib/python3.9/site-packages/ipywidgets/\u001b[0m\n",
       "\u001b[1;30mwidgets/widget_output.py:112)\u001b[0m\n"
      ]
     },
     "metadata": {},
     "output_type": "display_data"
    },
    {
     "data": {
      "text/html": [
       "<pre style=\"white-space:pre;overflow-x:auto;line-height:normal;font-family:Menlo,'DejaVu Sans Mono',consolas,'Courier New',monospace\"><span style=\"color: #808000; text-decoration-color: #808000; font-weight: bold\">DeprecationWarning: Kernel._parent_header is deprecated in ipykernel 6. Use .get_parent()</span> \n",
       "<span style=\"color: #000000; text-decoration-color: #000000; font-weight: bold\">(raised from /mnt/data/work/repos/workshops/memes/env/lib/python3.9/site-packages/ipywidgets/</span>\n",
       "<span style=\"color: #000000; text-decoration-color: #000000; font-weight: bold\">widgets/widget_output.py:111)</span>\n",
       "</pre>\n"
      ],
      "text/plain": [
       "\u001b[1;33mDeprecationWarning: Kernel._parent_header is deprecated in ipykernel 6. Use .get_parent()\u001b[0m \n",
       "\u001b[1;30m(raised from /mnt/data/work/repos/workshops/memes/env/lib/python3.9/site-packages/ipywidgets/\u001b[0m\n",
       "\u001b[1;30mwidgets/widget_output.py:111)\u001b[0m\n"
      ]
     },
     "metadata": {},
     "output_type": "display_data"
    },
    {
     "data": {
      "text/html": [
       "<pre style=\"white-space:pre;overflow-x:auto;line-height:normal;font-family:Menlo,'DejaVu Sans Mono',consolas,'Courier New',monospace\"><span style=\"color: #808000; text-decoration-color: #808000; font-weight: bold\">DeprecationWarning: Kernel._parent_header is deprecated in ipykernel 6. Use .get_parent()</span> \n",
       "<span style=\"color: #000000; text-decoration-color: #000000; font-weight: bold\">(raised from /mnt/data/work/repos/workshops/memes/env/lib/python3.9/site-packages/ipywidgets/</span>\n",
       "<span style=\"color: #000000; text-decoration-color: #000000; font-weight: bold\">widgets/widget_output.py:112)</span>\n",
       "</pre>\n"
      ],
      "text/plain": [
       "\u001b[1;33mDeprecationWarning: Kernel._parent_header is deprecated in ipykernel 6. Use .get_parent()\u001b[0m \n",
       "\u001b[1;30m(raised from /mnt/data/work/repos/workshops/memes/env/lib/python3.9/site-packages/ipywidgets/\u001b[0m\n",
       "\u001b[1;30mwidgets/widget_output.py:112)\u001b[0m\n"
      ]
     },
     "metadata": {},
     "output_type": "display_data"
    },
    {
     "data": {
      "text/html": [
       "<pre style=\"white-space:pre;overflow-x:auto;line-height:normal;font-family:Menlo,'DejaVu Sans Mono',consolas,'Courier New',monospace\"><span style=\"color: #808000; text-decoration-color: #808000; font-weight: bold\">DeprecationWarning: Kernel._parent_header is deprecated in ipykernel 6. Use .get_parent()</span> \n",
       "<span style=\"color: #000000; text-decoration-color: #000000; font-weight: bold\">(raised from /mnt/data/work/repos/workshops/memes/env/lib/python3.9/site-packages/ipywidgets/</span>\n",
       "<span style=\"color: #000000; text-decoration-color: #000000; font-weight: bold\">widgets/widget_output.py:111)</span>\n",
       "</pre>\n"
      ],
      "text/plain": [
       "\u001b[1;33mDeprecationWarning: Kernel._parent_header is deprecated in ipykernel 6. Use .get_parent()\u001b[0m \n",
       "\u001b[1;30m(raised from /mnt/data/work/repos/workshops/memes/env/lib/python3.9/site-packages/ipywidgets/\u001b[0m\n",
       "\u001b[1;30mwidgets/widget_output.py:111)\u001b[0m\n"
      ]
     },
     "metadata": {},
     "output_type": "display_data"
    },
    {
     "data": {
      "text/html": [
       "<pre style=\"white-space:pre;overflow-x:auto;line-height:normal;font-family:Menlo,'DejaVu Sans Mono',consolas,'Courier New',monospace\"><span style=\"color: #808000; text-decoration-color: #808000; font-weight: bold\">DeprecationWarning: Kernel._parent_header is deprecated in ipykernel 6. Use .get_parent()</span> \n",
       "<span style=\"color: #000000; text-decoration-color: #000000; font-weight: bold\">(raised from /mnt/data/work/repos/workshops/memes/env/lib/python3.9/site-packages/ipywidgets/</span>\n",
       "<span style=\"color: #000000; text-decoration-color: #000000; font-weight: bold\">widgets/widget_output.py:112)</span>\n",
       "</pre>\n"
      ],
      "text/plain": [
       "\u001b[1;33mDeprecationWarning: Kernel._parent_header is deprecated in ipykernel 6. Use .get_parent()\u001b[0m \n",
       "\u001b[1;30m(raised from /mnt/data/work/repos/workshops/memes/env/lib/python3.9/site-packages/ipywidgets/\u001b[0m\n",
       "\u001b[1;30mwidgets/widget_output.py:112)\u001b[0m\n"
      ]
     },
     "metadata": {},
     "output_type": "display_data"
    },
    {
     "data": {
      "text/html": [
       "<pre style=\"white-space:pre;overflow-x:auto;line-height:normal;font-family:Menlo,'DejaVu Sans Mono',consolas,'Courier New',monospace\"><span style=\"color: #808000; text-decoration-color: #808000; font-weight: bold\">DeprecationWarning: Kernel._parent_header is deprecated in ipykernel 6. Use .get_parent()</span> \n",
       "<span style=\"color: #000000; text-decoration-color: #000000; font-weight: bold\">(raised from /mnt/data/work/repos/workshops/memes/env/lib/python3.9/site-packages/ipywidgets/</span>\n",
       "<span style=\"color: #000000; text-decoration-color: #000000; font-weight: bold\">widgets/widget_output.py:111)</span>\n",
       "</pre>\n"
      ],
      "text/plain": [
       "\u001b[1;33mDeprecationWarning: Kernel._parent_header is deprecated in ipykernel 6. Use .get_parent()\u001b[0m \n",
       "\u001b[1;30m(raised from /mnt/data/work/repos/workshops/memes/env/lib/python3.9/site-packages/ipywidgets/\u001b[0m\n",
       "\u001b[1;30mwidgets/widget_output.py:111)\u001b[0m\n"
      ]
     },
     "metadata": {},
     "output_type": "display_data"
    },
    {
     "data": {
      "text/html": [
       "<pre style=\"white-space:pre;overflow-x:auto;line-height:normal;font-family:Menlo,'DejaVu Sans Mono',consolas,'Courier New',monospace\"><span style=\"color: #808000; text-decoration-color: #808000; font-weight: bold\">DeprecationWarning: Kernel._parent_header is deprecated in ipykernel 6. Use .get_parent()</span> \n",
       "<span style=\"color: #000000; text-decoration-color: #000000; font-weight: bold\">(raised from /mnt/data/work/repos/workshops/memes/env/lib/python3.9/site-packages/ipywidgets/</span>\n",
       "<span style=\"color: #000000; text-decoration-color: #000000; font-weight: bold\">widgets/widget_output.py:112)</span>\n",
       "</pre>\n"
      ],
      "text/plain": [
       "\u001b[1;33mDeprecationWarning: Kernel._parent_header is deprecated in ipykernel 6. Use .get_parent()\u001b[0m \n",
       "\u001b[1;30m(raised from /mnt/data/work/repos/workshops/memes/env/lib/python3.9/site-packages/ipywidgets/\u001b[0m\n",
       "\u001b[1;30mwidgets/widget_output.py:112)\u001b[0m\n"
      ]
     },
     "metadata": {},
     "output_type": "display_data"
    },
    {
     "data": {
      "text/html": [
       "<pre style=\"white-space:pre;overflow-x:auto;line-height:normal;font-family:Menlo,'DejaVu Sans Mono',consolas,'Courier New',monospace\"><span style=\"color: #808000; text-decoration-color: #808000; font-weight: bold\">DeprecationWarning: Kernel._parent_header is deprecated in ipykernel 6. Use .get_parent()</span> \n",
       "<span style=\"color: #000000; text-decoration-color: #000000; font-weight: bold\">(raised from /mnt/data/work/repos/workshops/memes/env/lib/python3.9/site-packages/ipywidgets/</span>\n",
       "<span style=\"color: #000000; text-decoration-color: #000000; font-weight: bold\">widgets/widget_output.py:111)</span>\n",
       "</pre>\n"
      ],
      "text/plain": [
       "\u001b[1;33mDeprecationWarning: Kernel._parent_header is deprecated in ipykernel 6. Use .get_parent()\u001b[0m \n",
       "\u001b[1;30m(raised from /mnt/data/work/repos/workshops/memes/env/lib/python3.9/site-packages/ipywidgets/\u001b[0m\n",
       "\u001b[1;30mwidgets/widget_output.py:111)\u001b[0m\n"
      ]
     },
     "metadata": {},
     "output_type": "display_data"
    },
    {
     "data": {
      "text/html": [
       "<pre style=\"white-space:pre;overflow-x:auto;line-height:normal;font-family:Menlo,'DejaVu Sans Mono',consolas,'Courier New',monospace\"><span style=\"color: #808000; text-decoration-color: #808000; font-weight: bold\">DeprecationWarning: Kernel._parent_header is deprecated in ipykernel 6. Use .get_parent()</span> \n",
       "<span style=\"color: #000000; text-decoration-color: #000000; font-weight: bold\">(raised from /mnt/data/work/repos/workshops/memes/env/lib/python3.9/site-packages/ipywidgets/</span>\n",
       "<span style=\"color: #000000; text-decoration-color: #000000; font-weight: bold\">widgets/widget_output.py:112)</span>\n",
       "</pre>\n"
      ],
      "text/plain": [
       "\u001b[1;33mDeprecationWarning: Kernel._parent_header is deprecated in ipykernel 6. Use .get_parent()\u001b[0m \n",
       "\u001b[1;30m(raised from /mnt/data/work/repos/workshops/memes/env/lib/python3.9/site-packages/ipywidgets/\u001b[0m\n",
       "\u001b[1;30mwidgets/widget_output.py:112)\u001b[0m\n"
      ]
     },
     "metadata": {},
     "output_type": "display_data"
    },
    {
     "data": {
      "text/html": [
       "<pre style=\"white-space:pre;overflow-x:auto;line-height:normal;font-family:Menlo,'DejaVu Sans Mono',consolas,'Courier New',monospace\"><span style=\"color: #808000; text-decoration-color: #808000; font-weight: bold\">DeprecationWarning: Kernel._parent_header is deprecated in ipykernel 6. Use .get_parent()</span> \n",
       "<span style=\"color: #000000; text-decoration-color: #000000; font-weight: bold\">(raised from /mnt/data/work/repos/workshops/memes/env/lib/python3.9/site-packages/ipywidgets/</span>\n",
       "<span style=\"color: #000000; text-decoration-color: #000000; font-weight: bold\">widgets/widget_output.py:111)</span>\n",
       "</pre>\n"
      ],
      "text/plain": [
       "\u001b[1;33mDeprecationWarning: Kernel._parent_header is deprecated in ipykernel 6. Use .get_parent()\u001b[0m \n",
       "\u001b[1;30m(raised from /mnt/data/work/repos/workshops/memes/env/lib/python3.9/site-packages/ipywidgets/\u001b[0m\n",
       "\u001b[1;30mwidgets/widget_output.py:111)\u001b[0m\n"
      ]
     },
     "metadata": {},
     "output_type": "display_data"
    },
    {
     "data": {
      "text/html": [
       "<pre style=\"white-space:pre;overflow-x:auto;line-height:normal;font-family:Menlo,'DejaVu Sans Mono',consolas,'Courier New',monospace\"><span style=\"color: #808000; text-decoration-color: #808000; font-weight: bold\">DeprecationWarning: Kernel._parent_header is deprecated in ipykernel 6. Use .get_parent()</span> \n",
       "<span style=\"color: #000000; text-decoration-color: #000000; font-weight: bold\">(raised from /mnt/data/work/repos/workshops/memes/env/lib/python3.9/site-packages/ipywidgets/</span>\n",
       "<span style=\"color: #000000; text-decoration-color: #000000; font-weight: bold\">widgets/widget_output.py:112)</span>\n",
       "</pre>\n"
      ],
      "text/plain": [
       "\u001b[1;33mDeprecationWarning: Kernel._parent_header is deprecated in ipykernel 6. Use .get_parent()\u001b[0m \n",
       "\u001b[1;30m(raised from /mnt/data/work/repos/workshops/memes/env/lib/python3.9/site-packages/ipywidgets/\u001b[0m\n",
       "\u001b[1;30mwidgets/widget_output.py:112)\u001b[0m\n"
      ]
     },
     "metadata": {},
     "output_type": "display_data"
    },
    {
     "data": {
      "text/html": [
       "<pre style=\"white-space:pre;overflow-x:auto;line-height:normal;font-family:Menlo,'DejaVu Sans Mono',consolas,'Courier New',monospace\"><span style=\"color: #808000; text-decoration-color: #808000; font-weight: bold\">DeprecationWarning: Kernel._parent_header is deprecated in ipykernel 6. Use .get_parent()</span> \n",
       "<span style=\"color: #000000; text-decoration-color: #000000; font-weight: bold\">(raised from /mnt/data/work/repos/workshops/memes/env/lib/python3.9/site-packages/ipywidgets/</span>\n",
       "<span style=\"color: #000000; text-decoration-color: #000000; font-weight: bold\">widgets/widget_output.py:111)</span>\n",
       "</pre>\n"
      ],
      "text/plain": [
       "\u001b[1;33mDeprecationWarning: Kernel._parent_header is deprecated in ipykernel 6. Use .get_parent()\u001b[0m \n",
       "\u001b[1;30m(raised from /mnt/data/work/repos/workshops/memes/env/lib/python3.9/site-packages/ipywidgets/\u001b[0m\n",
       "\u001b[1;30mwidgets/widget_output.py:111)\u001b[0m\n"
      ]
     },
     "metadata": {},
     "output_type": "display_data"
    },
    {
     "data": {
      "text/html": [
       "<pre style=\"white-space:pre;overflow-x:auto;line-height:normal;font-family:Menlo,'DejaVu Sans Mono',consolas,'Courier New',monospace\"><span style=\"color: #808000; text-decoration-color: #808000; font-weight: bold\">DeprecationWarning: Kernel._parent_header is deprecated in ipykernel 6. Use .get_parent()</span> \n",
       "<span style=\"color: #000000; text-decoration-color: #000000; font-weight: bold\">(raised from /mnt/data/work/repos/workshops/memes/env/lib/python3.9/site-packages/ipywidgets/</span>\n",
       "<span style=\"color: #000000; text-decoration-color: #000000; font-weight: bold\">widgets/widget_output.py:112)</span>\n",
       "</pre>\n"
      ],
      "text/plain": [
       "\u001b[1;33mDeprecationWarning: Kernel._parent_header is deprecated in ipykernel 6. Use .get_parent()\u001b[0m \n",
       "\u001b[1;30m(raised from /mnt/data/work/repos/workshops/memes/env/lib/python3.9/site-packages/ipywidgets/\u001b[0m\n",
       "\u001b[1;30mwidgets/widget_output.py:112)\u001b[0m\n"
      ]
     },
     "metadata": {},
     "output_type": "display_data"
    },
    {
     "data": {
      "text/html": [
       "<pre style=\"white-space:pre;overflow-x:auto;line-height:normal;font-family:Menlo,'DejaVu Sans Mono',consolas,'Courier New',monospace\"><span style=\"color: #808000; text-decoration-color: #808000; font-weight: bold\">DeprecationWarning: Kernel._parent_header is deprecated in ipykernel 6. Use .get_parent()</span> \n",
       "<span style=\"color: #000000; text-decoration-color: #000000; font-weight: bold\">(raised from /mnt/data/work/repos/workshops/memes/env/lib/python3.9/site-packages/ipywidgets/</span>\n",
       "<span style=\"color: #000000; text-decoration-color: #000000; font-weight: bold\">widgets/widget_output.py:111)</span>\n",
       "</pre>\n"
      ],
      "text/plain": [
       "\u001b[1;33mDeprecationWarning: Kernel._parent_header is deprecated in ipykernel 6. Use .get_parent()\u001b[0m \n",
       "\u001b[1;30m(raised from /mnt/data/work/repos/workshops/memes/env/lib/python3.9/site-packages/ipywidgets/\u001b[0m\n",
       "\u001b[1;30mwidgets/widget_output.py:111)\u001b[0m\n"
      ]
     },
     "metadata": {},
     "output_type": "display_data"
    },
    {
     "data": {
      "text/html": [
       "<pre style=\"white-space:pre;overflow-x:auto;line-height:normal;font-family:Menlo,'DejaVu Sans Mono',consolas,'Courier New',monospace\"><span style=\"color: #808000; text-decoration-color: #808000; font-weight: bold\">DeprecationWarning: Kernel._parent_header is deprecated in ipykernel 6. Use .get_parent()</span> \n",
       "<span style=\"color: #000000; text-decoration-color: #000000; font-weight: bold\">(raised from /mnt/data/work/repos/workshops/memes/env/lib/python3.9/site-packages/ipywidgets/</span>\n",
       "<span style=\"color: #000000; text-decoration-color: #000000; font-weight: bold\">widgets/widget_output.py:112)</span>\n",
       "</pre>\n"
      ],
      "text/plain": [
       "\u001b[1;33mDeprecationWarning: Kernel._parent_header is deprecated in ipykernel 6. Use .get_parent()\u001b[0m \n",
       "\u001b[1;30m(raised from /mnt/data/work/repos/workshops/memes/env/lib/python3.9/site-packages/ipywidgets/\u001b[0m\n",
       "\u001b[1;30mwidgets/widget_output.py:112)\u001b[0m\n"
      ]
     },
     "metadata": {},
     "output_type": "display_data"
    },
    {
     "data": {
      "text/html": [
       "<pre style=\"white-space:pre;overflow-x:auto;line-height:normal;font-family:Menlo,'DejaVu Sans Mono',consolas,'Courier New',monospace\"><span style=\"color: #808000; text-decoration-color: #808000; font-weight: bold\">DeprecationWarning: Kernel._parent_header is deprecated in ipykernel 6. Use .get_parent()</span> \n",
       "<span style=\"color: #000000; text-decoration-color: #000000; font-weight: bold\">(raised from /mnt/data/work/repos/workshops/memes/env/lib/python3.9/site-packages/ipywidgets/</span>\n",
       "<span style=\"color: #000000; text-decoration-color: #000000; font-weight: bold\">widgets/widget_output.py:111)</span>\n",
       "</pre>\n"
      ],
      "text/plain": [
       "\u001b[1;33mDeprecationWarning: Kernel._parent_header is deprecated in ipykernel 6. Use .get_parent()\u001b[0m \n",
       "\u001b[1;30m(raised from /mnt/data/work/repos/workshops/memes/env/lib/python3.9/site-packages/ipywidgets/\u001b[0m\n",
       "\u001b[1;30mwidgets/widget_output.py:111)\u001b[0m\n"
      ]
     },
     "metadata": {},
     "output_type": "display_data"
    },
    {
     "data": {
      "text/html": [
       "<pre style=\"white-space:pre;overflow-x:auto;line-height:normal;font-family:Menlo,'DejaVu Sans Mono',consolas,'Courier New',monospace\"><span style=\"color: #808000; text-decoration-color: #808000; font-weight: bold\">DeprecationWarning: Kernel._parent_header is deprecated in ipykernel 6. Use .get_parent()</span> \n",
       "<span style=\"color: #000000; text-decoration-color: #000000; font-weight: bold\">(raised from /mnt/data/work/repos/workshops/memes/env/lib/python3.9/site-packages/ipywidgets/</span>\n",
       "<span style=\"color: #000000; text-decoration-color: #000000; font-weight: bold\">widgets/widget_output.py:112)</span>\n",
       "</pre>\n"
      ],
      "text/plain": [
       "\u001b[1;33mDeprecationWarning: Kernel._parent_header is deprecated in ipykernel 6. Use .get_parent()\u001b[0m \n",
       "\u001b[1;30m(raised from /mnt/data/work/repos/workshops/memes/env/lib/python3.9/site-packages/ipywidgets/\u001b[0m\n",
       "\u001b[1;30mwidgets/widget_output.py:112)\u001b[0m\n"
      ]
     },
     "metadata": {},
     "output_type": "display_data"
    },
    {
     "data": {
      "text/html": [
       "<pre style=\"white-space:pre;overflow-x:auto;line-height:normal;font-family:Menlo,'DejaVu Sans Mono',consolas,'Courier New',monospace\"><span style=\"color: #808000; text-decoration-color: #808000; font-weight: bold\">DeprecationWarning: Kernel._parent_header is deprecated in ipykernel 6. Use .get_parent()</span> \n",
       "<span style=\"color: #000000; text-decoration-color: #000000; font-weight: bold\">(raised from /mnt/data/work/repos/workshops/memes/env/lib/python3.9/site-packages/ipywidgets/</span>\n",
       "<span style=\"color: #000000; text-decoration-color: #000000; font-weight: bold\">widgets/widget_output.py:111)</span>\n",
       "</pre>\n"
      ],
      "text/plain": [
       "\u001b[1;33mDeprecationWarning: Kernel._parent_header is deprecated in ipykernel 6. Use .get_parent()\u001b[0m \n",
       "\u001b[1;30m(raised from /mnt/data/work/repos/workshops/memes/env/lib/python3.9/site-packages/ipywidgets/\u001b[0m\n",
       "\u001b[1;30mwidgets/widget_output.py:111)\u001b[0m\n"
      ]
     },
     "metadata": {},
     "output_type": "display_data"
    },
    {
     "data": {
      "text/html": [
       "<pre style=\"white-space:pre;overflow-x:auto;line-height:normal;font-family:Menlo,'DejaVu Sans Mono',consolas,'Courier New',monospace\"><span style=\"color: #808000; text-decoration-color: #808000; font-weight: bold\">DeprecationWarning: Kernel._parent_header is deprecated in ipykernel 6. Use .get_parent()</span> \n",
       "<span style=\"color: #000000; text-decoration-color: #000000; font-weight: bold\">(raised from /mnt/data/work/repos/workshops/memes/env/lib/python3.9/site-packages/ipywidgets/</span>\n",
       "<span style=\"color: #000000; text-decoration-color: #000000; font-weight: bold\">widgets/widget_output.py:112)</span>\n",
       "</pre>\n"
      ],
      "text/plain": [
       "\u001b[1;33mDeprecationWarning: Kernel._parent_header is deprecated in ipykernel 6. Use .get_parent()\u001b[0m \n",
       "\u001b[1;30m(raised from /mnt/data/work/repos/workshops/memes/env/lib/python3.9/site-packages/ipywidgets/\u001b[0m\n",
       "\u001b[1;30mwidgets/widget_output.py:112)\u001b[0m\n"
      ]
     },
     "metadata": {},
     "output_type": "display_data"
    },
    {
     "data": {
      "text/html": [
       "<pre style=\"white-space:pre;overflow-x:auto;line-height:normal;font-family:Menlo,'DejaVu Sans Mono',consolas,'Courier New',monospace\"><span style=\"color: #808000; text-decoration-color: #808000; font-weight: bold\">DeprecationWarning: Kernel._parent_header is deprecated in ipykernel 6. Use .get_parent()</span> \n",
       "<span style=\"color: #000000; text-decoration-color: #000000; font-weight: bold\">(raised from /mnt/data/work/repos/workshops/memes/env/lib/python3.9/site-packages/ipywidgets/</span>\n",
       "<span style=\"color: #000000; text-decoration-color: #000000; font-weight: bold\">widgets/widget_output.py:111)</span>\n",
       "</pre>\n"
      ],
      "text/plain": [
       "\u001b[1;33mDeprecationWarning: Kernel._parent_header is deprecated in ipykernel 6. Use .get_parent()\u001b[0m \n",
       "\u001b[1;30m(raised from /mnt/data/work/repos/workshops/memes/env/lib/python3.9/site-packages/ipywidgets/\u001b[0m\n",
       "\u001b[1;30mwidgets/widget_output.py:111)\u001b[0m\n"
      ]
     },
     "metadata": {},
     "output_type": "display_data"
    },
    {
     "data": {
      "text/html": [
       "<pre style=\"white-space:pre;overflow-x:auto;line-height:normal;font-family:Menlo,'DejaVu Sans Mono',consolas,'Courier New',monospace\"><span style=\"color: #808000; text-decoration-color: #808000; font-weight: bold\">DeprecationWarning: Kernel._parent_header is deprecated in ipykernel 6. Use .get_parent()</span> \n",
       "<span style=\"color: #000000; text-decoration-color: #000000; font-weight: bold\">(raised from /mnt/data/work/repos/workshops/memes/env/lib/python3.9/site-packages/ipywidgets/</span>\n",
       "<span style=\"color: #000000; text-decoration-color: #000000; font-weight: bold\">widgets/widget_output.py:112)</span>\n",
       "</pre>\n"
      ],
      "text/plain": [
       "\u001b[1;33mDeprecationWarning: Kernel._parent_header is deprecated in ipykernel 6. Use .get_parent()\u001b[0m \n",
       "\u001b[1;30m(raised from /mnt/data/work/repos/workshops/memes/env/lib/python3.9/site-packages/ipywidgets/\u001b[0m\n",
       "\u001b[1;30mwidgets/widget_output.py:112)\u001b[0m\n"
      ]
     },
     "metadata": {},
     "output_type": "display_data"
    },
    {
     "data": {
      "text/html": [
       "<pre style=\"white-space:pre;overflow-x:auto;line-height:normal;font-family:Menlo,'DejaVu Sans Mono',consolas,'Courier New',monospace\"><span style=\"color: #808000; text-decoration-color: #808000; font-weight: bold\">DeprecationWarning: Kernel._parent_header is deprecated in ipykernel 6. Use .get_parent()</span> \n",
       "<span style=\"color: #000000; text-decoration-color: #000000; font-weight: bold\">(raised from /mnt/data/work/repos/workshops/memes/env/lib/python3.9/site-packages/ipywidgets/</span>\n",
       "<span style=\"color: #000000; text-decoration-color: #000000; font-weight: bold\">widgets/widget_output.py:111)</span>\n",
       "</pre>\n"
      ],
      "text/plain": [
       "\u001b[1;33mDeprecationWarning: Kernel._parent_header is deprecated in ipykernel 6. Use .get_parent()\u001b[0m \n",
       "\u001b[1;30m(raised from /mnt/data/work/repos/workshops/memes/env/lib/python3.9/site-packages/ipywidgets/\u001b[0m\n",
       "\u001b[1;30mwidgets/widget_output.py:111)\u001b[0m\n"
      ]
     },
     "metadata": {},
     "output_type": "display_data"
    },
    {
     "data": {
      "text/html": [
       "<pre style=\"white-space:pre;overflow-x:auto;line-height:normal;font-family:Menlo,'DejaVu Sans Mono',consolas,'Courier New',monospace\"><span style=\"color: #808000; text-decoration-color: #808000; font-weight: bold\">DeprecationWarning: Kernel._parent_header is deprecated in ipykernel 6. Use .get_parent()</span> \n",
       "<span style=\"color: #000000; text-decoration-color: #000000; font-weight: bold\">(raised from /mnt/data/work/repos/workshops/memes/env/lib/python3.9/site-packages/ipywidgets/</span>\n",
       "<span style=\"color: #000000; text-decoration-color: #000000; font-weight: bold\">widgets/widget_output.py:112)</span>\n",
       "</pre>\n"
      ],
      "text/plain": [
       "\u001b[1;33mDeprecationWarning: Kernel._parent_header is deprecated in ipykernel 6. Use .get_parent()\u001b[0m \n",
       "\u001b[1;30m(raised from /mnt/data/work/repos/workshops/memes/env/lib/python3.9/site-packages/ipywidgets/\u001b[0m\n",
       "\u001b[1;30mwidgets/widget_output.py:112)\u001b[0m\n"
      ]
     },
     "metadata": {},
     "output_type": "display_data"
    },
    {
     "data": {
      "text/html": [
       "<pre style=\"white-space:pre;overflow-x:auto;line-height:normal;font-family:Menlo,'DejaVu Sans Mono',consolas,'Courier New',monospace\"><span style=\"color: #808000; text-decoration-color: #808000; font-weight: bold\">DeprecationWarning: Kernel._parent_header is deprecated in ipykernel 6. Use .get_parent()</span> \n",
       "<span style=\"color: #000000; text-decoration-color: #000000; font-weight: bold\">(raised from /mnt/data/work/repos/workshops/memes/env/lib/python3.9/site-packages/ipywidgets/</span>\n",
       "<span style=\"color: #000000; text-decoration-color: #000000; font-weight: bold\">widgets/widget_output.py:111)</span>\n",
       "</pre>\n"
      ],
      "text/plain": [
       "\u001b[1;33mDeprecationWarning: Kernel._parent_header is deprecated in ipykernel 6. Use .get_parent()\u001b[0m \n",
       "\u001b[1;30m(raised from /mnt/data/work/repos/workshops/memes/env/lib/python3.9/site-packages/ipywidgets/\u001b[0m\n",
       "\u001b[1;30mwidgets/widget_output.py:111)\u001b[0m\n"
      ]
     },
     "metadata": {},
     "output_type": "display_data"
    },
    {
     "data": {
      "text/html": [
       "<pre style=\"white-space:pre;overflow-x:auto;line-height:normal;font-family:Menlo,'DejaVu Sans Mono',consolas,'Courier New',monospace\"><span style=\"color: #808000; text-decoration-color: #808000; font-weight: bold\">DeprecationWarning: Kernel._parent_header is deprecated in ipykernel 6. Use .get_parent()</span> \n",
       "<span style=\"color: #000000; text-decoration-color: #000000; font-weight: bold\">(raised from /mnt/data/work/repos/workshops/memes/env/lib/python3.9/site-packages/ipywidgets/</span>\n",
       "<span style=\"color: #000000; text-decoration-color: #000000; font-weight: bold\">widgets/widget_output.py:112)</span>\n",
       "</pre>\n"
      ],
      "text/plain": [
       "\u001b[1;33mDeprecationWarning: Kernel._parent_header is deprecated in ipykernel 6. Use .get_parent()\u001b[0m \n",
       "\u001b[1;30m(raised from /mnt/data/work/repos/workshops/memes/env/lib/python3.9/site-packages/ipywidgets/\u001b[0m\n",
       "\u001b[1;30mwidgets/widget_output.py:112)\u001b[0m\n"
      ]
     },
     "metadata": {},
     "output_type": "display_data"
    },
    {
     "data": {
      "text/html": [
       "<pre style=\"white-space:pre;overflow-x:auto;line-height:normal;font-family:Menlo,'DejaVu Sans Mono',consolas,'Courier New',monospace\"><span style=\"color: #808000; text-decoration-color: #808000; font-weight: bold\">DeprecationWarning: Kernel._parent_header is deprecated in ipykernel 6. Use .get_parent()</span> \n",
       "<span style=\"color: #000000; text-decoration-color: #000000; font-weight: bold\">(raised from /mnt/data/work/repos/workshops/memes/env/lib/python3.9/site-packages/ipywidgets/</span>\n",
       "<span style=\"color: #000000; text-decoration-color: #000000; font-weight: bold\">widgets/widget_output.py:111)</span>\n",
       "</pre>\n"
      ],
      "text/plain": [
       "\u001b[1;33mDeprecationWarning: Kernel._parent_header is deprecated in ipykernel 6. Use .get_parent()\u001b[0m \n",
       "\u001b[1;30m(raised from /mnt/data/work/repos/workshops/memes/env/lib/python3.9/site-packages/ipywidgets/\u001b[0m\n",
       "\u001b[1;30mwidgets/widget_output.py:111)\u001b[0m\n"
      ]
     },
     "metadata": {},
     "output_type": "display_data"
    },
    {
     "data": {
      "text/html": [
       "<pre style=\"white-space:pre;overflow-x:auto;line-height:normal;font-family:Menlo,'DejaVu Sans Mono',consolas,'Courier New',monospace\"><span style=\"color: #808000; text-decoration-color: #808000; font-weight: bold\">DeprecationWarning: Kernel._parent_header is deprecated in ipykernel 6. Use .get_parent()</span> \n",
       "<span style=\"color: #000000; text-decoration-color: #000000; font-weight: bold\">(raised from /mnt/data/work/repos/workshops/memes/env/lib/python3.9/site-packages/ipywidgets/</span>\n",
       "<span style=\"color: #000000; text-decoration-color: #000000; font-weight: bold\">widgets/widget_output.py:112)</span>\n",
       "</pre>\n"
      ],
      "text/plain": [
       "\u001b[1;33mDeprecationWarning: Kernel._parent_header is deprecated in ipykernel 6. Use .get_parent()\u001b[0m \n",
       "\u001b[1;30m(raised from /mnt/data/work/repos/workshops/memes/env/lib/python3.9/site-packages/ipywidgets/\u001b[0m\n",
       "\u001b[1;30mwidgets/widget_output.py:112)\u001b[0m\n"
      ]
     },
     "metadata": {},
     "output_type": "display_data"
    },
    {
     "data": {
      "text/html": [
       "<pre style=\"white-space:pre;overflow-x:auto;line-height:normal;font-family:Menlo,'DejaVu Sans Mono',consolas,'Courier New',monospace\"><span style=\"color: #808000; text-decoration-color: #808000; font-weight: bold\">DeprecationWarning: Kernel._parent_header is deprecated in ipykernel 6. Use .get_parent()</span> \n",
       "<span style=\"color: #000000; text-decoration-color: #000000; font-weight: bold\">(raised from /mnt/data/work/repos/workshops/memes/env/lib/python3.9/site-packages/ipywidgets/</span>\n",
       "<span style=\"color: #000000; text-decoration-color: #000000; font-weight: bold\">widgets/widget_output.py:111)</span>\n",
       "</pre>\n"
      ],
      "text/plain": [
       "\u001b[1;33mDeprecationWarning: Kernel._parent_header is deprecated in ipykernel 6. Use .get_parent()\u001b[0m \n",
       "\u001b[1;30m(raised from /mnt/data/work/repos/workshops/memes/env/lib/python3.9/site-packages/ipywidgets/\u001b[0m\n",
       "\u001b[1;30mwidgets/widget_output.py:111)\u001b[0m\n"
      ]
     },
     "metadata": {},
     "output_type": "display_data"
    },
    {
     "data": {
      "text/html": [
       "<pre style=\"white-space:pre;overflow-x:auto;line-height:normal;font-family:Menlo,'DejaVu Sans Mono',consolas,'Courier New',monospace\"><span style=\"color: #808000; text-decoration-color: #808000; font-weight: bold\">DeprecationWarning: Kernel._parent_header is deprecated in ipykernel 6. Use .get_parent()</span> \n",
       "<span style=\"color: #000000; text-decoration-color: #000000; font-weight: bold\">(raised from /mnt/data/work/repos/workshops/memes/env/lib/python3.9/site-packages/ipywidgets/</span>\n",
       "<span style=\"color: #000000; text-decoration-color: #000000; font-weight: bold\">widgets/widget_output.py:112)</span>\n",
       "</pre>\n"
      ],
      "text/plain": [
       "\u001b[1;33mDeprecationWarning: Kernel._parent_header is deprecated in ipykernel 6. Use .get_parent()\u001b[0m \n",
       "\u001b[1;30m(raised from /mnt/data/work/repos/workshops/memes/env/lib/python3.9/site-packages/ipywidgets/\u001b[0m\n",
       "\u001b[1;30mwidgets/widget_output.py:112)\u001b[0m\n"
      ]
     },
     "metadata": {},
     "output_type": "display_data"
    },
    {
     "data": {
      "text/html": [
       "<pre style=\"white-space:pre;overflow-x:auto;line-height:normal;font-family:Menlo,'DejaVu Sans Mono',consolas,'Courier New',monospace\"><span style=\"color: #808000; text-decoration-color: #808000; font-weight: bold\">DeprecationWarning: Kernel._parent_header is deprecated in ipykernel 6. Use .get_parent()</span> \n",
       "<span style=\"color: #000000; text-decoration-color: #000000; font-weight: bold\">(raised from /mnt/data/work/repos/workshops/memes/env/lib/python3.9/site-packages/ipywidgets/</span>\n",
       "<span style=\"color: #000000; text-decoration-color: #000000; font-weight: bold\">widgets/widget_output.py:111)</span>\n",
       "</pre>\n"
      ],
      "text/plain": [
       "\u001b[1;33mDeprecationWarning: Kernel._parent_header is deprecated in ipykernel 6. Use .get_parent()\u001b[0m \n",
       "\u001b[1;30m(raised from /mnt/data/work/repos/workshops/memes/env/lib/python3.9/site-packages/ipywidgets/\u001b[0m\n",
       "\u001b[1;30mwidgets/widget_output.py:111)\u001b[0m\n"
      ]
     },
     "metadata": {},
     "output_type": "display_data"
    },
    {
     "data": {
      "text/html": [
       "<pre style=\"white-space:pre;overflow-x:auto;line-height:normal;font-family:Menlo,'DejaVu Sans Mono',consolas,'Courier New',monospace\"><span style=\"color: #808000; text-decoration-color: #808000; font-weight: bold\">DeprecationWarning: Kernel._parent_header is deprecated in ipykernel 6. Use .get_parent()</span> \n",
       "<span style=\"color: #000000; text-decoration-color: #000000; font-weight: bold\">(raised from /mnt/data/work/repos/workshops/memes/env/lib/python3.9/site-packages/ipywidgets/</span>\n",
       "<span style=\"color: #000000; text-decoration-color: #000000; font-weight: bold\">widgets/widget_output.py:112)</span>\n",
       "</pre>\n"
      ],
      "text/plain": [
       "\u001b[1;33mDeprecationWarning: Kernel._parent_header is deprecated in ipykernel 6. Use .get_parent()\u001b[0m \n",
       "\u001b[1;30m(raised from /mnt/data/work/repos/workshops/memes/env/lib/python3.9/site-packages/ipywidgets/\u001b[0m\n",
       "\u001b[1;30mwidgets/widget_output.py:112)\u001b[0m\n"
      ]
     },
     "metadata": {},
     "output_type": "display_data"
    },
    {
     "data": {
      "text/html": [
       "<pre style=\"white-space:pre;overflow-x:auto;line-height:normal;font-family:Menlo,'DejaVu Sans Mono',consolas,'Courier New',monospace\"><span style=\"color: #808000; text-decoration-color: #808000; font-weight: bold\">DeprecationWarning: Kernel._parent_header is deprecated in ipykernel 6. Use .get_parent()</span> \n",
       "<span style=\"color: #000000; text-decoration-color: #000000; font-weight: bold\">(raised from /mnt/data/work/repos/workshops/memes/env/lib/python3.9/site-packages/ipywidgets/</span>\n",
       "<span style=\"color: #000000; text-decoration-color: #000000; font-weight: bold\">widgets/widget_output.py:111)</span>\n",
       "</pre>\n"
      ],
      "text/plain": [
       "\u001b[1;33mDeprecationWarning: Kernel._parent_header is deprecated in ipykernel 6. Use .get_parent()\u001b[0m \n",
       "\u001b[1;30m(raised from /mnt/data/work/repos/workshops/memes/env/lib/python3.9/site-packages/ipywidgets/\u001b[0m\n",
       "\u001b[1;30mwidgets/widget_output.py:111)\u001b[0m\n"
      ]
     },
     "metadata": {},
     "output_type": "display_data"
    },
    {
     "data": {
      "text/html": [
       "<pre style=\"white-space:pre;overflow-x:auto;line-height:normal;font-family:Menlo,'DejaVu Sans Mono',consolas,'Courier New',monospace\"><span style=\"color: #808000; text-decoration-color: #808000; font-weight: bold\">DeprecationWarning: Kernel._parent_header is deprecated in ipykernel 6. Use .get_parent()</span> \n",
       "<span style=\"color: #000000; text-decoration-color: #000000; font-weight: bold\">(raised from /mnt/data/work/repos/workshops/memes/env/lib/python3.9/site-packages/ipywidgets/</span>\n",
       "<span style=\"color: #000000; text-decoration-color: #000000; font-weight: bold\">widgets/widget_output.py:112)</span>\n",
       "</pre>\n"
      ],
      "text/plain": [
       "\u001b[1;33mDeprecationWarning: Kernel._parent_header is deprecated in ipykernel 6. Use .get_parent()\u001b[0m \n",
       "\u001b[1;30m(raised from /mnt/data/work/repos/workshops/memes/env/lib/python3.9/site-packages/ipywidgets/\u001b[0m\n",
       "\u001b[1;30mwidgets/widget_output.py:112)\u001b[0m\n"
      ]
     },
     "metadata": {},
     "output_type": "display_data"
    },
    {
     "data": {
      "text/html": [
       "<pre style=\"white-space:pre;overflow-x:auto;line-height:normal;font-family:Menlo,'DejaVu Sans Mono',consolas,'Courier New',monospace\"><span style=\"color: #808000; text-decoration-color: #808000; font-weight: bold\">DeprecationWarning: Kernel._parent_header is deprecated in ipykernel 6. Use .get_parent()</span> \n",
       "<span style=\"color: #000000; text-decoration-color: #000000; font-weight: bold\">(raised from /mnt/data/work/repos/workshops/memes/env/lib/python3.9/site-packages/ipywidgets/</span>\n",
       "<span style=\"color: #000000; text-decoration-color: #000000; font-weight: bold\">widgets/widget_output.py:111)</span>\n",
       "</pre>\n"
      ],
      "text/plain": [
       "\u001b[1;33mDeprecationWarning: Kernel._parent_header is deprecated in ipykernel 6. Use .get_parent()\u001b[0m \n",
       "\u001b[1;30m(raised from /mnt/data/work/repos/workshops/memes/env/lib/python3.9/site-packages/ipywidgets/\u001b[0m\n",
       "\u001b[1;30mwidgets/widget_output.py:111)\u001b[0m\n"
      ]
     },
     "metadata": {},
     "output_type": "display_data"
    },
    {
     "data": {
      "text/html": [
       "<pre style=\"white-space:pre;overflow-x:auto;line-height:normal;font-family:Menlo,'DejaVu Sans Mono',consolas,'Courier New',monospace\"><span style=\"color: #808000; text-decoration-color: #808000; font-weight: bold\">DeprecationWarning: Kernel._parent_header is deprecated in ipykernel 6. Use .get_parent()</span> \n",
       "<span style=\"color: #000000; text-decoration-color: #000000; font-weight: bold\">(raised from /mnt/data/work/repos/workshops/memes/env/lib/python3.9/site-packages/ipywidgets/</span>\n",
       "<span style=\"color: #000000; text-decoration-color: #000000; font-weight: bold\">widgets/widget_output.py:112)</span>\n",
       "</pre>\n"
      ],
      "text/plain": [
       "\u001b[1;33mDeprecationWarning: Kernel._parent_header is deprecated in ipykernel 6. Use .get_parent()\u001b[0m \n",
       "\u001b[1;30m(raised from /mnt/data/work/repos/workshops/memes/env/lib/python3.9/site-packages/ipywidgets/\u001b[0m\n",
       "\u001b[1;30mwidgets/widget_output.py:112)\u001b[0m\n"
      ]
     },
     "metadata": {},
     "output_type": "display_data"
    },
    {
     "data": {
      "text/html": [
       "<pre style=\"white-space:pre;overflow-x:auto;line-height:normal;font-family:Menlo,'DejaVu Sans Mono',consolas,'Courier New',monospace\"><span style=\"color: #808000; text-decoration-color: #808000; font-weight: bold\">DeprecationWarning: Kernel._parent_header is deprecated in ipykernel 6. Use .get_parent()</span> \n",
       "<span style=\"color: #000000; text-decoration-color: #000000; font-weight: bold\">(raised from /mnt/data/work/repos/workshops/memes/env/lib/python3.9/site-packages/ipywidgets/</span>\n",
       "<span style=\"color: #000000; text-decoration-color: #000000; font-weight: bold\">widgets/widget_output.py:111)</span>\n",
       "</pre>\n"
      ],
      "text/plain": [
       "\u001b[1;33mDeprecationWarning: Kernel._parent_header is deprecated in ipykernel 6. Use .get_parent()\u001b[0m \n",
       "\u001b[1;30m(raised from /mnt/data/work/repos/workshops/memes/env/lib/python3.9/site-packages/ipywidgets/\u001b[0m\n",
       "\u001b[1;30mwidgets/widget_output.py:111)\u001b[0m\n"
      ]
     },
     "metadata": {},
     "output_type": "display_data"
    },
    {
     "data": {
      "text/html": [
       "<pre style=\"white-space:pre;overflow-x:auto;line-height:normal;font-family:Menlo,'DejaVu Sans Mono',consolas,'Courier New',monospace\"><span style=\"color: #808000; text-decoration-color: #808000; font-weight: bold\">DeprecationWarning: Kernel._parent_header is deprecated in ipykernel 6. Use .get_parent()</span> \n",
       "<span style=\"color: #000000; text-decoration-color: #000000; font-weight: bold\">(raised from /mnt/data/work/repos/workshops/memes/env/lib/python3.9/site-packages/ipywidgets/</span>\n",
       "<span style=\"color: #000000; text-decoration-color: #000000; font-weight: bold\">widgets/widget_output.py:112)</span>\n",
       "</pre>\n"
      ],
      "text/plain": [
       "\u001b[1;33mDeprecationWarning: Kernel._parent_header is deprecated in ipykernel 6. Use .get_parent()\u001b[0m \n",
       "\u001b[1;30m(raised from /mnt/data/work/repos/workshops/memes/env/lib/python3.9/site-packages/ipywidgets/\u001b[0m\n",
       "\u001b[1;30mwidgets/widget_output.py:112)\u001b[0m\n"
      ]
     },
     "metadata": {},
     "output_type": "display_data"
    },
    {
     "data": {
      "text/html": [
       "<pre style=\"white-space:pre;overflow-x:auto;line-height:normal;font-family:Menlo,'DejaVu Sans Mono',consolas,'Courier New',monospace\"><span style=\"color: #808000; text-decoration-color: #808000; font-weight: bold\">DeprecationWarning: Kernel._parent_header is deprecated in ipykernel 6. Use .get_parent()</span> \n",
       "<span style=\"color: #000000; text-decoration-color: #000000; font-weight: bold\">(raised from /mnt/data/work/repos/workshops/memes/env/lib/python3.9/site-packages/ipywidgets/</span>\n",
       "<span style=\"color: #000000; text-decoration-color: #000000; font-weight: bold\">widgets/widget_output.py:111)</span>\n",
       "</pre>\n"
      ],
      "text/plain": [
       "\u001b[1;33mDeprecationWarning: Kernel._parent_header is deprecated in ipykernel 6. Use .get_parent()\u001b[0m \n",
       "\u001b[1;30m(raised from /mnt/data/work/repos/workshops/memes/env/lib/python3.9/site-packages/ipywidgets/\u001b[0m\n",
       "\u001b[1;30mwidgets/widget_output.py:111)\u001b[0m\n"
      ]
     },
     "metadata": {},
     "output_type": "display_data"
    },
    {
     "data": {
      "text/html": [
       "<pre style=\"white-space:pre;overflow-x:auto;line-height:normal;font-family:Menlo,'DejaVu Sans Mono',consolas,'Courier New',monospace\"><span style=\"color: #808000; text-decoration-color: #808000; font-weight: bold\">DeprecationWarning: Kernel._parent_header is deprecated in ipykernel 6. Use .get_parent()</span> \n",
       "<span style=\"color: #000000; text-decoration-color: #000000; font-weight: bold\">(raised from /mnt/data/work/repos/workshops/memes/env/lib/python3.9/site-packages/ipywidgets/</span>\n",
       "<span style=\"color: #000000; text-decoration-color: #000000; font-weight: bold\">widgets/widget_output.py:112)</span>\n",
       "</pre>\n"
      ],
      "text/plain": [
       "\u001b[1;33mDeprecationWarning: Kernel._parent_header is deprecated in ipykernel 6. Use .get_parent()\u001b[0m \n",
       "\u001b[1;30m(raised from /mnt/data/work/repos/workshops/memes/env/lib/python3.9/site-packages/ipywidgets/\u001b[0m\n",
       "\u001b[1;30mwidgets/widget_output.py:112)\u001b[0m\n"
      ]
     },
     "metadata": {},
     "output_type": "display_data"
    },
    {
     "data": {
      "text/html": [
       "<pre style=\"white-space:pre;overflow-x:auto;line-height:normal;font-family:Menlo,'DejaVu Sans Mono',consolas,'Courier New',monospace\"><span style=\"color: #808000; text-decoration-color: #808000; font-weight: bold\">DeprecationWarning: Kernel._parent_header is deprecated in ipykernel 6. Use .get_parent()</span> \n",
       "<span style=\"color: #000000; text-decoration-color: #000000; font-weight: bold\">(raised from /mnt/data/work/repos/workshops/memes/env/lib/python3.9/site-packages/ipywidgets/</span>\n",
       "<span style=\"color: #000000; text-decoration-color: #000000; font-weight: bold\">widgets/widget_output.py:111)</span>\n",
       "</pre>\n"
      ],
      "text/plain": [
       "\u001b[1;33mDeprecationWarning: Kernel._parent_header is deprecated in ipykernel 6. Use .get_parent()\u001b[0m \n",
       "\u001b[1;30m(raised from /mnt/data/work/repos/workshops/memes/env/lib/python3.9/site-packages/ipywidgets/\u001b[0m\n",
       "\u001b[1;30mwidgets/widget_output.py:111)\u001b[0m\n"
      ]
     },
     "metadata": {},
     "output_type": "display_data"
    },
    {
     "data": {
      "text/html": [
       "<pre style=\"white-space:pre;overflow-x:auto;line-height:normal;font-family:Menlo,'DejaVu Sans Mono',consolas,'Courier New',monospace\"><span style=\"color: #808000; text-decoration-color: #808000; font-weight: bold\">DeprecationWarning: Kernel._parent_header is deprecated in ipykernel 6. Use .get_parent()</span> \n",
       "<span style=\"color: #000000; text-decoration-color: #000000; font-weight: bold\">(raised from /mnt/data/work/repos/workshops/memes/env/lib/python3.9/site-packages/ipywidgets/</span>\n",
       "<span style=\"color: #000000; text-decoration-color: #000000; font-weight: bold\">widgets/widget_output.py:112)</span>\n",
       "</pre>\n"
      ],
      "text/plain": [
       "\u001b[1;33mDeprecationWarning: Kernel._parent_header is deprecated in ipykernel 6. Use .get_parent()\u001b[0m \n",
       "\u001b[1;30m(raised from /mnt/data/work/repos/workshops/memes/env/lib/python3.9/site-packages/ipywidgets/\u001b[0m\n",
       "\u001b[1;30mwidgets/widget_output.py:112)\u001b[0m\n"
      ]
     },
     "metadata": {},
     "output_type": "display_data"
    },
    {
     "data": {
      "text/html": [
       "<pre style=\"white-space:pre;overflow-x:auto;line-height:normal;font-family:Menlo,'DejaVu Sans Mono',consolas,'Courier New',monospace\"><span style=\"color: #808000; text-decoration-color: #808000; font-weight: bold\">DeprecationWarning: Kernel._parent_header is deprecated in ipykernel 6. Use .get_parent()</span> \n",
       "<span style=\"color: #000000; text-decoration-color: #000000; font-weight: bold\">(raised from /mnt/data/work/repos/workshops/memes/env/lib/python3.9/site-packages/ipywidgets/</span>\n",
       "<span style=\"color: #000000; text-decoration-color: #000000; font-weight: bold\">widgets/widget_output.py:111)</span>\n",
       "</pre>\n"
      ],
      "text/plain": [
       "\u001b[1;33mDeprecationWarning: Kernel._parent_header is deprecated in ipykernel 6. Use .get_parent()\u001b[0m \n",
       "\u001b[1;30m(raised from /mnt/data/work/repos/workshops/memes/env/lib/python3.9/site-packages/ipywidgets/\u001b[0m\n",
       "\u001b[1;30mwidgets/widget_output.py:111)\u001b[0m\n"
      ]
     },
     "metadata": {},
     "output_type": "display_data"
    },
    {
     "data": {
      "text/html": [
       "<pre style=\"white-space:pre;overflow-x:auto;line-height:normal;font-family:Menlo,'DejaVu Sans Mono',consolas,'Courier New',monospace\"><span style=\"color: #808000; text-decoration-color: #808000; font-weight: bold\">DeprecationWarning: Kernel._parent_header is deprecated in ipykernel 6. Use .get_parent()</span> \n",
       "<span style=\"color: #000000; text-decoration-color: #000000; font-weight: bold\">(raised from /mnt/data/work/repos/workshops/memes/env/lib/python3.9/site-packages/ipywidgets/</span>\n",
       "<span style=\"color: #000000; text-decoration-color: #000000; font-weight: bold\">widgets/widget_output.py:112)</span>\n",
       "</pre>\n"
      ],
      "text/plain": [
       "\u001b[1;33mDeprecationWarning: Kernel._parent_header is deprecated in ipykernel 6. Use .get_parent()\u001b[0m \n",
       "\u001b[1;30m(raised from /mnt/data/work/repos/workshops/memes/env/lib/python3.9/site-packages/ipywidgets/\u001b[0m\n",
       "\u001b[1;30mwidgets/widget_output.py:112)\u001b[0m\n"
      ]
     },
     "metadata": {},
     "output_type": "display_data"
    },
    {
     "data": {
      "text/html": [
       "<pre style=\"white-space:pre;overflow-x:auto;line-height:normal;font-family:Menlo,'DejaVu Sans Mono',consolas,'Courier New',monospace\"><span style=\"color: #808000; text-decoration-color: #808000; font-weight: bold\">DeprecationWarning: Kernel._parent_header is deprecated in ipykernel 6. Use .get_parent()</span> \n",
       "<span style=\"color: #000000; text-decoration-color: #000000; font-weight: bold\">(raised from /mnt/data/work/repos/workshops/memes/env/lib/python3.9/site-packages/ipywidgets/</span>\n",
       "<span style=\"color: #000000; text-decoration-color: #000000; font-weight: bold\">widgets/widget_output.py:111)</span>\n",
       "</pre>\n"
      ],
      "text/plain": [
       "\u001b[1;33mDeprecationWarning: Kernel._parent_header is deprecated in ipykernel 6. Use .get_parent()\u001b[0m \n",
       "\u001b[1;30m(raised from /mnt/data/work/repos/workshops/memes/env/lib/python3.9/site-packages/ipywidgets/\u001b[0m\n",
       "\u001b[1;30mwidgets/widget_output.py:111)\u001b[0m\n"
      ]
     },
     "metadata": {},
     "output_type": "display_data"
    },
    {
     "data": {
      "text/html": [
       "<pre style=\"white-space:pre;overflow-x:auto;line-height:normal;font-family:Menlo,'DejaVu Sans Mono',consolas,'Courier New',monospace\"><span style=\"color: #808000; text-decoration-color: #808000; font-weight: bold\">DeprecationWarning: Kernel._parent_header is deprecated in ipykernel 6. Use .get_parent()</span> \n",
       "<span style=\"color: #000000; text-decoration-color: #000000; font-weight: bold\">(raised from /mnt/data/work/repos/workshops/memes/env/lib/python3.9/site-packages/ipywidgets/</span>\n",
       "<span style=\"color: #000000; text-decoration-color: #000000; font-weight: bold\">widgets/widget_output.py:112)</span>\n",
       "</pre>\n"
      ],
      "text/plain": [
       "\u001b[1;33mDeprecationWarning: Kernel._parent_header is deprecated in ipykernel 6. Use .get_parent()\u001b[0m \n",
       "\u001b[1;30m(raised from /mnt/data/work/repos/workshops/memes/env/lib/python3.9/site-packages/ipywidgets/\u001b[0m\n",
       "\u001b[1;30mwidgets/widget_output.py:112)\u001b[0m\n"
      ]
     },
     "metadata": {},
     "output_type": "display_data"
    },
    {
     "data": {
      "text/html": [
       "<pre style=\"white-space:pre;overflow-x:auto;line-height:normal;font-family:Menlo,'DejaVu Sans Mono',consolas,'Courier New',monospace\"><span style=\"color: #808000; text-decoration-color: #808000; font-weight: bold\">DeprecationWarning: Kernel._parent_header is deprecated in ipykernel 6. Use .get_parent()</span> \n",
       "<span style=\"color: #000000; text-decoration-color: #000000; font-weight: bold\">(raised from /mnt/data/work/repos/workshops/memes/env/lib/python3.9/site-packages/ipywidgets/</span>\n",
       "<span style=\"color: #000000; text-decoration-color: #000000; font-weight: bold\">widgets/widget_output.py:111)</span>\n",
       "</pre>\n"
      ],
      "text/plain": [
       "\u001b[1;33mDeprecationWarning: Kernel._parent_header is deprecated in ipykernel 6. Use .get_parent()\u001b[0m \n",
       "\u001b[1;30m(raised from /mnt/data/work/repos/workshops/memes/env/lib/python3.9/site-packages/ipywidgets/\u001b[0m\n",
       "\u001b[1;30mwidgets/widget_output.py:111)\u001b[0m\n"
      ]
     },
     "metadata": {},
     "output_type": "display_data"
    },
    {
     "data": {
      "text/html": [
       "<pre style=\"white-space:pre;overflow-x:auto;line-height:normal;font-family:Menlo,'DejaVu Sans Mono',consolas,'Courier New',monospace\"><span style=\"color: #808000; text-decoration-color: #808000; font-weight: bold\">DeprecationWarning: Kernel._parent_header is deprecated in ipykernel 6. Use .get_parent()</span> \n",
       "<span style=\"color: #000000; text-decoration-color: #000000; font-weight: bold\">(raised from /mnt/data/work/repos/workshops/memes/env/lib/python3.9/site-packages/ipywidgets/</span>\n",
       "<span style=\"color: #000000; text-decoration-color: #000000; font-weight: bold\">widgets/widget_output.py:112)</span>\n",
       "</pre>\n"
      ],
      "text/plain": [
       "\u001b[1;33mDeprecationWarning: Kernel._parent_header is deprecated in ipykernel 6. Use .get_parent()\u001b[0m \n",
       "\u001b[1;30m(raised from /mnt/data/work/repos/workshops/memes/env/lib/python3.9/site-packages/ipywidgets/\u001b[0m\n",
       "\u001b[1;30mwidgets/widget_output.py:112)\u001b[0m\n"
      ]
     },
     "metadata": {},
     "output_type": "display_data"
    },
    {
     "data": {
      "text/html": [
       "<pre style=\"white-space:pre;overflow-x:auto;line-height:normal;font-family:Menlo,'DejaVu Sans Mono',consolas,'Courier New',monospace\"><span style=\"color: #808000; text-decoration-color: #808000; font-weight: bold\">DeprecationWarning: Kernel._parent_header is deprecated in ipykernel 6. Use .get_parent()</span> \n",
       "<span style=\"color: #000000; text-decoration-color: #000000; font-weight: bold\">(raised from /mnt/data/work/repos/workshops/memes/env/lib/python3.9/site-packages/ipywidgets/</span>\n",
       "<span style=\"color: #000000; text-decoration-color: #000000; font-weight: bold\">widgets/widget_output.py:111)</span>\n",
       "</pre>\n"
      ],
      "text/plain": [
       "\u001b[1;33mDeprecationWarning: Kernel._parent_header is deprecated in ipykernel 6. Use .get_parent()\u001b[0m \n",
       "\u001b[1;30m(raised from /mnt/data/work/repos/workshops/memes/env/lib/python3.9/site-packages/ipywidgets/\u001b[0m\n",
       "\u001b[1;30mwidgets/widget_output.py:111)\u001b[0m\n"
      ]
     },
     "metadata": {},
     "output_type": "display_data"
    },
    {
     "data": {
      "text/html": [
       "<pre style=\"white-space:pre;overflow-x:auto;line-height:normal;font-family:Menlo,'DejaVu Sans Mono',consolas,'Courier New',monospace\"><span style=\"color: #808000; text-decoration-color: #808000; font-weight: bold\">DeprecationWarning: Kernel._parent_header is deprecated in ipykernel 6. Use .get_parent()</span> \n",
       "<span style=\"color: #000000; text-decoration-color: #000000; font-weight: bold\">(raised from /mnt/data/work/repos/workshops/memes/env/lib/python3.9/site-packages/ipywidgets/</span>\n",
       "<span style=\"color: #000000; text-decoration-color: #000000; font-weight: bold\">widgets/widget_output.py:112)</span>\n",
       "</pre>\n"
      ],
      "text/plain": [
       "\u001b[1;33mDeprecationWarning: Kernel._parent_header is deprecated in ipykernel 6. Use .get_parent()\u001b[0m \n",
       "\u001b[1;30m(raised from /mnt/data/work/repos/workshops/memes/env/lib/python3.9/site-packages/ipywidgets/\u001b[0m\n",
       "\u001b[1;30mwidgets/widget_output.py:112)\u001b[0m\n"
      ]
     },
     "metadata": {},
     "output_type": "display_data"
    },
    {
     "data": {
      "text/html": [
       "<pre style=\"white-space:pre;overflow-x:auto;line-height:normal;font-family:Menlo,'DejaVu Sans Mono',consolas,'Courier New',monospace\"><span style=\"color: #808000; text-decoration-color: #808000; font-weight: bold\">DeprecationWarning: Kernel._parent_header is deprecated in ipykernel 6. Use .get_parent()</span> \n",
       "<span style=\"color: #000000; text-decoration-color: #000000; font-weight: bold\">(raised from /mnt/data/work/repos/workshops/memes/env/lib/python3.9/site-packages/ipywidgets/</span>\n",
       "<span style=\"color: #000000; text-decoration-color: #000000; font-weight: bold\">widgets/widget_output.py:111)</span>\n",
       "</pre>\n"
      ],
      "text/plain": [
       "\u001b[1;33mDeprecationWarning: Kernel._parent_header is deprecated in ipykernel 6. Use .get_parent()\u001b[0m \n",
       "\u001b[1;30m(raised from /mnt/data/work/repos/workshops/memes/env/lib/python3.9/site-packages/ipywidgets/\u001b[0m\n",
       "\u001b[1;30mwidgets/widget_output.py:111)\u001b[0m\n"
      ]
     },
     "metadata": {},
     "output_type": "display_data"
    },
    {
     "data": {
      "text/html": [
       "<pre style=\"white-space:pre;overflow-x:auto;line-height:normal;font-family:Menlo,'DejaVu Sans Mono',consolas,'Courier New',monospace\"><span style=\"color: #808000; text-decoration-color: #808000; font-weight: bold\">DeprecationWarning: Kernel._parent_header is deprecated in ipykernel 6. Use .get_parent()</span> \n",
       "<span style=\"color: #000000; text-decoration-color: #000000; font-weight: bold\">(raised from /mnt/data/work/repos/workshops/memes/env/lib/python3.9/site-packages/ipywidgets/</span>\n",
       "<span style=\"color: #000000; text-decoration-color: #000000; font-weight: bold\">widgets/widget_output.py:112)</span>\n",
       "</pre>\n"
      ],
      "text/plain": [
       "\u001b[1;33mDeprecationWarning: Kernel._parent_header is deprecated in ipykernel 6. Use .get_parent()\u001b[0m \n",
       "\u001b[1;30m(raised from /mnt/data/work/repos/workshops/memes/env/lib/python3.9/site-packages/ipywidgets/\u001b[0m\n",
       "\u001b[1;30mwidgets/widget_output.py:112)\u001b[0m\n"
      ]
     },
     "metadata": {},
     "output_type": "display_data"
    },
    {
     "data": {
      "text/html": [
       "<pre style=\"white-space:pre;overflow-x:auto;line-height:normal;font-family:Menlo,'DejaVu Sans Mono',consolas,'Courier New',monospace\"><span style=\"color: #808000; text-decoration-color: #808000; font-weight: bold\">DeprecationWarning: Kernel._parent_header is deprecated in ipykernel 6. Use .get_parent()</span> \n",
       "<span style=\"color: #000000; text-decoration-color: #000000; font-weight: bold\">(raised from /mnt/data/work/repos/workshops/memes/env/lib/python3.9/site-packages/ipywidgets/</span>\n",
       "<span style=\"color: #000000; text-decoration-color: #000000; font-weight: bold\">widgets/widget_output.py:111)</span>\n",
       "</pre>\n"
      ],
      "text/plain": [
       "\u001b[1;33mDeprecationWarning: Kernel._parent_header is deprecated in ipykernel 6. Use .get_parent()\u001b[0m \n",
       "\u001b[1;30m(raised from /mnt/data/work/repos/workshops/memes/env/lib/python3.9/site-packages/ipywidgets/\u001b[0m\n",
       "\u001b[1;30mwidgets/widget_output.py:111)\u001b[0m\n"
      ]
     },
     "metadata": {},
     "output_type": "display_data"
    },
    {
     "data": {
      "text/html": [
       "<pre style=\"white-space:pre;overflow-x:auto;line-height:normal;font-family:Menlo,'DejaVu Sans Mono',consolas,'Courier New',monospace\"><span style=\"color: #808000; text-decoration-color: #808000; font-weight: bold\">DeprecationWarning: Kernel._parent_header is deprecated in ipykernel 6. Use .get_parent()</span> \n",
       "<span style=\"color: #000000; text-decoration-color: #000000; font-weight: bold\">(raised from /mnt/data/work/repos/workshops/memes/env/lib/python3.9/site-packages/ipywidgets/</span>\n",
       "<span style=\"color: #000000; text-decoration-color: #000000; font-weight: bold\">widgets/widget_output.py:112)</span>\n",
       "</pre>\n"
      ],
      "text/plain": [
       "\u001b[1;33mDeprecationWarning: Kernel._parent_header is deprecated in ipykernel 6. Use .get_parent()\u001b[0m \n",
       "\u001b[1;30m(raised from /mnt/data/work/repos/workshops/memes/env/lib/python3.9/site-packages/ipywidgets/\u001b[0m\n",
       "\u001b[1;30mwidgets/widget_output.py:112)\u001b[0m\n"
      ]
     },
     "metadata": {},
     "output_type": "display_data"
    },
    {
     "data": {
      "text/html": [
       "<pre style=\"white-space:pre;overflow-x:auto;line-height:normal;font-family:Menlo,'DejaVu Sans Mono',consolas,'Courier New',monospace\"><span style=\"color: #808000; text-decoration-color: #808000; font-weight: bold\">DeprecationWarning: Kernel._parent_header is deprecated in ipykernel 6. Use .get_parent()</span> \n",
       "<span style=\"color: #000000; text-decoration-color: #000000; font-weight: bold\">(raised from /mnt/data/work/repos/workshops/memes/env/lib/python3.9/site-packages/ipywidgets/</span>\n",
       "<span style=\"color: #000000; text-decoration-color: #000000; font-weight: bold\">widgets/widget_output.py:111)</span>\n",
       "</pre>\n"
      ],
      "text/plain": [
       "\u001b[1;33mDeprecationWarning: Kernel._parent_header is deprecated in ipykernel 6. Use .get_parent()\u001b[0m \n",
       "\u001b[1;30m(raised from /mnt/data/work/repos/workshops/memes/env/lib/python3.9/site-packages/ipywidgets/\u001b[0m\n",
       "\u001b[1;30mwidgets/widget_output.py:111)\u001b[0m\n"
      ]
     },
     "metadata": {},
     "output_type": "display_data"
    },
    {
     "data": {
      "text/html": [
       "<pre style=\"white-space:pre;overflow-x:auto;line-height:normal;font-family:Menlo,'DejaVu Sans Mono',consolas,'Courier New',monospace\"><span style=\"color: #808000; text-decoration-color: #808000; font-weight: bold\">DeprecationWarning: Kernel._parent_header is deprecated in ipykernel 6. Use .get_parent()</span> \n",
       "<span style=\"color: #000000; text-decoration-color: #000000; font-weight: bold\">(raised from /mnt/data/work/repos/workshops/memes/env/lib/python3.9/site-packages/ipywidgets/</span>\n",
       "<span style=\"color: #000000; text-decoration-color: #000000; font-weight: bold\">widgets/widget_output.py:112)</span>\n",
       "</pre>\n"
      ],
      "text/plain": [
       "\u001b[1;33mDeprecationWarning: Kernel._parent_header is deprecated in ipykernel 6. Use .get_parent()\u001b[0m \n",
       "\u001b[1;30m(raised from /mnt/data/work/repos/workshops/memes/env/lib/python3.9/site-packages/ipywidgets/\u001b[0m\n",
       "\u001b[1;30mwidgets/widget_output.py:112)\u001b[0m\n"
      ]
     },
     "metadata": {},
     "output_type": "display_data"
    },
    {
     "data": {
      "text/html": [
       "<pre style=\"white-space:pre;overflow-x:auto;line-height:normal;font-family:Menlo,'DejaVu Sans Mono',consolas,'Courier New',monospace\"><span style=\"color: #808000; text-decoration-color: #808000; font-weight: bold\">DeprecationWarning: Kernel._parent_header is deprecated in ipykernel 6. Use .get_parent()</span> \n",
       "<span style=\"color: #000000; text-decoration-color: #000000; font-weight: bold\">(raised from /mnt/data/work/repos/workshops/memes/env/lib/python3.9/site-packages/ipywidgets/</span>\n",
       "<span style=\"color: #000000; text-decoration-color: #000000; font-weight: bold\">widgets/widget_output.py:111)</span>\n",
       "</pre>\n"
      ],
      "text/plain": [
       "\u001b[1;33mDeprecationWarning: Kernel._parent_header is deprecated in ipykernel 6. Use .get_parent()\u001b[0m \n",
       "\u001b[1;30m(raised from /mnt/data/work/repos/workshops/memes/env/lib/python3.9/site-packages/ipywidgets/\u001b[0m\n",
       "\u001b[1;30mwidgets/widget_output.py:111)\u001b[0m\n"
      ]
     },
     "metadata": {},
     "output_type": "display_data"
    },
    {
     "data": {
      "text/html": [
       "<pre style=\"white-space:pre;overflow-x:auto;line-height:normal;font-family:Menlo,'DejaVu Sans Mono',consolas,'Courier New',monospace\"><span style=\"color: #808000; text-decoration-color: #808000; font-weight: bold\">DeprecationWarning: Kernel._parent_header is deprecated in ipykernel 6. Use .get_parent()</span> \n",
       "<span style=\"color: #000000; text-decoration-color: #000000; font-weight: bold\">(raised from /mnt/data/work/repos/workshops/memes/env/lib/python3.9/site-packages/ipywidgets/</span>\n",
       "<span style=\"color: #000000; text-decoration-color: #000000; font-weight: bold\">widgets/widget_output.py:112)</span>\n",
       "</pre>\n"
      ],
      "text/plain": [
       "\u001b[1;33mDeprecationWarning: Kernel._parent_header is deprecated in ipykernel 6. Use .get_parent()\u001b[0m \n",
       "\u001b[1;30m(raised from /mnt/data/work/repos/workshops/memes/env/lib/python3.9/site-packages/ipywidgets/\u001b[0m\n",
       "\u001b[1;30mwidgets/widget_output.py:112)\u001b[0m\n"
      ]
     },
     "metadata": {},
     "output_type": "display_data"
    },
    {
     "data": {
      "text/html": [
       "<pre style=\"white-space:pre;overflow-x:auto;line-height:normal;font-family:Menlo,'DejaVu Sans Mono',consolas,'Courier New',monospace\"><span style=\"color: #808000; text-decoration-color: #808000; font-weight: bold\">DeprecationWarning: Kernel._parent_header is deprecated in ipykernel 6. Use .get_parent()</span> \n",
       "<span style=\"color: #000000; text-decoration-color: #000000; font-weight: bold\">(raised from /mnt/data/work/repos/workshops/memes/env/lib/python3.9/site-packages/ipywidgets/</span>\n",
       "<span style=\"color: #000000; text-decoration-color: #000000; font-weight: bold\">widgets/widget_output.py:111)</span>\n",
       "</pre>\n"
      ],
      "text/plain": [
       "\u001b[1;33mDeprecationWarning: Kernel._parent_header is deprecated in ipykernel 6. Use .get_parent()\u001b[0m \n",
       "\u001b[1;30m(raised from /mnt/data/work/repos/workshops/memes/env/lib/python3.9/site-packages/ipywidgets/\u001b[0m\n",
       "\u001b[1;30mwidgets/widget_output.py:111)\u001b[0m\n"
      ]
     },
     "metadata": {},
     "output_type": "display_data"
    },
    {
     "data": {
      "text/html": [
       "<pre style=\"white-space:pre;overflow-x:auto;line-height:normal;font-family:Menlo,'DejaVu Sans Mono',consolas,'Courier New',monospace\"><span style=\"color: #808000; text-decoration-color: #808000; font-weight: bold\">DeprecationWarning: Kernel._parent_header is deprecated in ipykernel 6. Use .get_parent()</span> \n",
       "<span style=\"color: #000000; text-decoration-color: #000000; font-weight: bold\">(raised from /mnt/data/work/repos/workshops/memes/env/lib/python3.9/site-packages/ipywidgets/</span>\n",
       "<span style=\"color: #000000; text-decoration-color: #000000; font-weight: bold\">widgets/widget_output.py:112)</span>\n",
       "</pre>\n"
      ],
      "text/plain": [
       "\u001b[1;33mDeprecationWarning: Kernel._parent_header is deprecated in ipykernel 6. Use .get_parent()\u001b[0m \n",
       "\u001b[1;30m(raised from /mnt/data/work/repos/workshops/memes/env/lib/python3.9/site-packages/ipywidgets/\u001b[0m\n",
       "\u001b[1;30mwidgets/widget_output.py:112)\u001b[0m\n"
      ]
     },
     "metadata": {},
     "output_type": "display_data"
    },
    {
     "data": {
      "text/html": [
       "<pre style=\"white-space:pre;overflow-x:auto;line-height:normal;font-family:Menlo,'DejaVu Sans Mono',consolas,'Courier New',monospace\"><span style=\"color: #808000; text-decoration-color: #808000; font-weight: bold\">DeprecationWarning: Kernel._parent_header is deprecated in ipykernel 6. Use .get_parent()</span> \n",
       "<span style=\"color: #000000; text-decoration-color: #000000; font-weight: bold\">(raised from /mnt/data/work/repos/workshops/memes/env/lib/python3.9/site-packages/ipywidgets/</span>\n",
       "<span style=\"color: #000000; text-decoration-color: #000000; font-weight: bold\">widgets/widget_output.py:111)</span>\n",
       "</pre>\n"
      ],
      "text/plain": [
       "\u001b[1;33mDeprecationWarning: Kernel._parent_header is deprecated in ipykernel 6. Use .get_parent()\u001b[0m \n",
       "\u001b[1;30m(raised from /mnt/data/work/repos/workshops/memes/env/lib/python3.9/site-packages/ipywidgets/\u001b[0m\n",
       "\u001b[1;30mwidgets/widget_output.py:111)\u001b[0m\n"
      ]
     },
     "metadata": {},
     "output_type": "display_data"
    },
    {
     "data": {
      "text/html": [
       "<pre style=\"white-space:pre;overflow-x:auto;line-height:normal;font-family:Menlo,'DejaVu Sans Mono',consolas,'Courier New',monospace\"><span style=\"color: #808000; text-decoration-color: #808000; font-weight: bold\">DeprecationWarning: Kernel._parent_header is deprecated in ipykernel 6. Use .get_parent()</span> \n",
       "<span style=\"color: #000000; text-decoration-color: #000000; font-weight: bold\">(raised from /mnt/data/work/repos/workshops/memes/env/lib/python3.9/site-packages/ipywidgets/</span>\n",
       "<span style=\"color: #000000; text-decoration-color: #000000; font-weight: bold\">widgets/widget_output.py:112)</span>\n",
       "</pre>\n"
      ],
      "text/plain": [
       "\u001b[1;33mDeprecationWarning: Kernel._parent_header is deprecated in ipykernel 6. Use .get_parent()\u001b[0m \n",
       "\u001b[1;30m(raised from /mnt/data/work/repos/workshops/memes/env/lib/python3.9/site-packages/ipywidgets/\u001b[0m\n",
       "\u001b[1;30mwidgets/widget_output.py:112)\u001b[0m\n"
      ]
     },
     "metadata": {},
     "output_type": "display_data"
    },
    {
     "data": {
      "text/html": [
       "<pre style=\"white-space:pre;overflow-x:auto;line-height:normal;font-family:Menlo,'DejaVu Sans Mono',consolas,'Courier New',monospace\"><span style=\"color: #808000; text-decoration-color: #808000; font-weight: bold\">DeprecationWarning: Kernel._parent_header is deprecated in ipykernel 6. Use .get_parent()</span> \n",
       "<span style=\"color: #000000; text-decoration-color: #000000; font-weight: bold\">(raised from /mnt/data/work/repos/workshops/memes/env/lib/python3.9/site-packages/ipywidgets/</span>\n",
       "<span style=\"color: #000000; text-decoration-color: #000000; font-weight: bold\">widgets/widget_output.py:111)</span>\n",
       "</pre>\n"
      ],
      "text/plain": [
       "\u001b[1;33mDeprecationWarning: Kernel._parent_header is deprecated in ipykernel 6. Use .get_parent()\u001b[0m \n",
       "\u001b[1;30m(raised from /mnt/data/work/repos/workshops/memes/env/lib/python3.9/site-packages/ipywidgets/\u001b[0m\n",
       "\u001b[1;30mwidgets/widget_output.py:111)\u001b[0m\n"
      ]
     },
     "metadata": {},
     "output_type": "display_data"
    },
    {
     "data": {
      "text/html": [
       "<pre style=\"white-space:pre;overflow-x:auto;line-height:normal;font-family:Menlo,'DejaVu Sans Mono',consolas,'Courier New',monospace\"><span style=\"color: #808000; text-decoration-color: #808000; font-weight: bold\">DeprecationWarning: Kernel._parent_header is deprecated in ipykernel 6. Use .get_parent()</span> \n",
       "<span style=\"color: #000000; text-decoration-color: #000000; font-weight: bold\">(raised from /mnt/data/work/repos/workshops/memes/env/lib/python3.9/site-packages/ipywidgets/</span>\n",
       "<span style=\"color: #000000; text-decoration-color: #000000; font-weight: bold\">widgets/widget_output.py:112)</span>\n",
       "</pre>\n"
      ],
      "text/plain": [
       "\u001b[1;33mDeprecationWarning: Kernel._parent_header is deprecated in ipykernel 6. Use .get_parent()\u001b[0m \n",
       "\u001b[1;30m(raised from /mnt/data/work/repos/workshops/memes/env/lib/python3.9/site-packages/ipywidgets/\u001b[0m\n",
       "\u001b[1;30mwidgets/widget_output.py:112)\u001b[0m\n"
      ]
     },
     "metadata": {},
     "output_type": "display_data"
    },
    {
     "data": {
      "text/html": [
       "<pre style=\"white-space:pre;overflow-x:auto;line-height:normal;font-family:Menlo,'DejaVu Sans Mono',consolas,'Courier New',monospace\"><span style=\"color: #808000; text-decoration-color: #808000; font-weight: bold\">DeprecationWarning: Kernel._parent_header is deprecated in ipykernel 6. Use .get_parent()</span> \n",
       "<span style=\"color: #000000; text-decoration-color: #000000; font-weight: bold\">(raised from /mnt/data/work/repos/workshops/memes/env/lib/python3.9/site-packages/ipywidgets/</span>\n",
       "<span style=\"color: #000000; text-decoration-color: #000000; font-weight: bold\">widgets/widget_output.py:111)</span>\n",
       "</pre>\n"
      ],
      "text/plain": [
       "\u001b[1;33mDeprecationWarning: Kernel._parent_header is deprecated in ipykernel 6. Use .get_parent()\u001b[0m \n",
       "\u001b[1;30m(raised from /mnt/data/work/repos/workshops/memes/env/lib/python3.9/site-packages/ipywidgets/\u001b[0m\n",
       "\u001b[1;30mwidgets/widget_output.py:111)\u001b[0m\n"
      ]
     },
     "metadata": {},
     "output_type": "display_data"
    },
    {
     "data": {
      "text/html": [
       "<pre style=\"white-space:pre;overflow-x:auto;line-height:normal;font-family:Menlo,'DejaVu Sans Mono',consolas,'Courier New',monospace\"><span style=\"color: #808000; text-decoration-color: #808000; font-weight: bold\">DeprecationWarning: Kernel._parent_header is deprecated in ipykernel 6. Use .get_parent()</span> \n",
       "<span style=\"color: #000000; text-decoration-color: #000000; font-weight: bold\">(raised from /mnt/data/work/repos/workshops/memes/env/lib/python3.9/site-packages/ipywidgets/</span>\n",
       "<span style=\"color: #000000; text-decoration-color: #000000; font-weight: bold\">widgets/widget_output.py:112)</span>\n",
       "</pre>\n"
      ],
      "text/plain": [
       "\u001b[1;33mDeprecationWarning: Kernel._parent_header is deprecated in ipykernel 6. Use .get_parent()\u001b[0m \n",
       "\u001b[1;30m(raised from /mnt/data/work/repos/workshops/memes/env/lib/python3.9/site-packages/ipywidgets/\u001b[0m\n",
       "\u001b[1;30mwidgets/widget_output.py:112)\u001b[0m\n"
      ]
     },
     "metadata": {},
     "output_type": "display_data"
    },
    {
     "data": {
      "text/html": [
       "<pre style=\"white-space:pre;overflow-x:auto;line-height:normal;font-family:Menlo,'DejaVu Sans Mono',consolas,'Courier New',monospace\"><span style=\"color: #808000; text-decoration-color: #808000; font-weight: bold\">DeprecationWarning: Kernel._parent_header is deprecated in ipykernel 6. Use .get_parent()</span> \n",
       "<span style=\"color: #000000; text-decoration-color: #000000; font-weight: bold\">(raised from /mnt/data/work/repos/workshops/memes/env/lib/python3.9/site-packages/ipywidgets/</span>\n",
       "<span style=\"color: #000000; text-decoration-color: #000000; font-weight: bold\">widgets/widget_output.py:111)</span>\n",
       "</pre>\n"
      ],
      "text/plain": [
       "\u001b[1;33mDeprecationWarning: Kernel._parent_header is deprecated in ipykernel 6. Use .get_parent()\u001b[0m \n",
       "\u001b[1;30m(raised from /mnt/data/work/repos/workshops/memes/env/lib/python3.9/site-packages/ipywidgets/\u001b[0m\n",
       "\u001b[1;30mwidgets/widget_output.py:111)\u001b[0m\n"
      ]
     },
     "metadata": {},
     "output_type": "display_data"
    },
    {
     "data": {
      "text/html": [
       "<pre style=\"white-space:pre;overflow-x:auto;line-height:normal;font-family:Menlo,'DejaVu Sans Mono',consolas,'Courier New',monospace\"><span style=\"color: #808000; text-decoration-color: #808000; font-weight: bold\">DeprecationWarning: Kernel._parent_header is deprecated in ipykernel 6. Use .get_parent()</span> \n",
       "<span style=\"color: #000000; text-decoration-color: #000000; font-weight: bold\">(raised from /mnt/data/work/repos/workshops/memes/env/lib/python3.9/site-packages/ipywidgets/</span>\n",
       "<span style=\"color: #000000; text-decoration-color: #000000; font-weight: bold\">widgets/widget_output.py:112)</span>\n",
       "</pre>\n"
      ],
      "text/plain": [
       "\u001b[1;33mDeprecationWarning: Kernel._parent_header is deprecated in ipykernel 6. Use .get_parent()\u001b[0m \n",
       "\u001b[1;30m(raised from /mnt/data/work/repos/workshops/memes/env/lib/python3.9/site-packages/ipywidgets/\u001b[0m\n",
       "\u001b[1;30mwidgets/widget_output.py:112)\u001b[0m\n"
      ]
     },
     "metadata": {},
     "output_type": "display_data"
    },
    {
     "data": {
      "text/html": [
       "<pre style=\"white-space:pre;overflow-x:auto;line-height:normal;font-family:Menlo,'DejaVu Sans Mono',consolas,'Courier New',monospace\"><span style=\"color: #808000; text-decoration-color: #808000; font-weight: bold\">DeprecationWarning: Kernel._parent_header is deprecated in ipykernel 6. Use .get_parent()</span> \n",
       "<span style=\"color: #000000; text-decoration-color: #000000; font-weight: bold\">(raised from /mnt/data/work/repos/workshops/memes/env/lib/python3.9/site-packages/ipywidgets/</span>\n",
       "<span style=\"color: #000000; text-decoration-color: #000000; font-weight: bold\">widgets/widget_output.py:111)</span>\n",
       "</pre>\n"
      ],
      "text/plain": [
       "\u001b[1;33mDeprecationWarning: Kernel._parent_header is deprecated in ipykernel 6. Use .get_parent()\u001b[0m \n",
       "\u001b[1;30m(raised from /mnt/data/work/repos/workshops/memes/env/lib/python3.9/site-packages/ipywidgets/\u001b[0m\n",
       "\u001b[1;30mwidgets/widget_output.py:111)\u001b[0m\n"
      ]
     },
     "metadata": {},
     "output_type": "display_data"
    },
    {
     "data": {
      "text/html": [
       "<pre style=\"white-space:pre;overflow-x:auto;line-height:normal;font-family:Menlo,'DejaVu Sans Mono',consolas,'Courier New',monospace\"><span style=\"color: #808000; text-decoration-color: #808000; font-weight: bold\">DeprecationWarning: Kernel._parent_header is deprecated in ipykernel 6. Use .get_parent()</span> \n",
       "<span style=\"color: #000000; text-decoration-color: #000000; font-weight: bold\">(raised from /mnt/data/work/repos/workshops/memes/env/lib/python3.9/site-packages/ipywidgets/</span>\n",
       "<span style=\"color: #000000; text-decoration-color: #000000; font-weight: bold\">widgets/widget_output.py:112)</span>\n",
       "</pre>\n"
      ],
      "text/plain": [
       "\u001b[1;33mDeprecationWarning: Kernel._parent_header is deprecated in ipykernel 6. Use .get_parent()\u001b[0m \n",
       "\u001b[1;30m(raised from /mnt/data/work/repos/workshops/memes/env/lib/python3.9/site-packages/ipywidgets/\u001b[0m\n",
       "\u001b[1;30mwidgets/widget_output.py:112)\u001b[0m\n"
      ]
     },
     "metadata": {},
     "output_type": "display_data"
    },
    {
     "data": {
      "text/html": [
       "<pre style=\"white-space:pre;overflow-x:auto;line-height:normal;font-family:Menlo,'DejaVu Sans Mono',consolas,'Courier New',monospace\"><span style=\"color: #808000; text-decoration-color: #808000; font-weight: bold\">DeprecationWarning: Kernel._parent_header is deprecated in ipykernel 6. Use .get_parent()</span> \n",
       "<span style=\"color: #000000; text-decoration-color: #000000; font-weight: bold\">(raised from /mnt/data/work/repos/workshops/memes/env/lib/python3.9/site-packages/ipywidgets/</span>\n",
       "<span style=\"color: #000000; text-decoration-color: #000000; font-weight: bold\">widgets/widget_output.py:111)</span>\n",
       "</pre>\n"
      ],
      "text/plain": [
       "\u001b[1;33mDeprecationWarning: Kernel._parent_header is deprecated in ipykernel 6. Use .get_parent()\u001b[0m \n",
       "\u001b[1;30m(raised from /mnt/data/work/repos/workshops/memes/env/lib/python3.9/site-packages/ipywidgets/\u001b[0m\n",
       "\u001b[1;30mwidgets/widget_output.py:111)\u001b[0m\n"
      ]
     },
     "metadata": {},
     "output_type": "display_data"
    },
    {
     "data": {
      "text/html": [
       "<pre style=\"white-space:pre;overflow-x:auto;line-height:normal;font-family:Menlo,'DejaVu Sans Mono',consolas,'Courier New',monospace\"><span style=\"color: #808000; text-decoration-color: #808000; font-weight: bold\">DeprecationWarning: Kernel._parent_header is deprecated in ipykernel 6. Use .get_parent()</span> \n",
       "<span style=\"color: #000000; text-decoration-color: #000000; font-weight: bold\">(raised from /mnt/data/work/repos/workshops/memes/env/lib/python3.9/site-packages/ipywidgets/</span>\n",
       "<span style=\"color: #000000; text-decoration-color: #000000; font-weight: bold\">widgets/widget_output.py:112)</span>\n",
       "</pre>\n"
      ],
      "text/plain": [
       "\u001b[1;33mDeprecationWarning: Kernel._parent_header is deprecated in ipykernel 6. Use .get_parent()\u001b[0m \n",
       "\u001b[1;30m(raised from /mnt/data/work/repos/workshops/memes/env/lib/python3.9/site-packages/ipywidgets/\u001b[0m\n",
       "\u001b[1;30mwidgets/widget_output.py:112)\u001b[0m\n"
      ]
     },
     "metadata": {},
     "output_type": "display_data"
    },
    {
     "data": {
      "text/html": [
       "<pre style=\"white-space:pre;overflow-x:auto;line-height:normal;font-family:Menlo,'DejaVu Sans Mono',consolas,'Courier New',monospace\"><span style=\"color: #808000; text-decoration-color: #808000; font-weight: bold\">DeprecationWarning: Kernel._parent_header is deprecated in ipykernel 6. Use .get_parent()</span> \n",
       "<span style=\"color: #000000; text-decoration-color: #000000; font-weight: bold\">(raised from /mnt/data/work/repos/workshops/memes/env/lib/python3.9/site-packages/ipywidgets/</span>\n",
       "<span style=\"color: #000000; text-decoration-color: #000000; font-weight: bold\">widgets/widget_output.py:111)</span>\n",
       "</pre>\n"
      ],
      "text/plain": [
       "\u001b[1;33mDeprecationWarning: Kernel._parent_header is deprecated in ipykernel 6. Use .get_parent()\u001b[0m \n",
       "\u001b[1;30m(raised from /mnt/data/work/repos/workshops/memes/env/lib/python3.9/site-packages/ipywidgets/\u001b[0m\n",
       "\u001b[1;30mwidgets/widget_output.py:111)\u001b[0m\n"
      ]
     },
     "metadata": {},
     "output_type": "display_data"
    },
    {
     "data": {
      "text/html": [
       "<pre style=\"white-space:pre;overflow-x:auto;line-height:normal;font-family:Menlo,'DejaVu Sans Mono',consolas,'Courier New',monospace\"><span style=\"color: #808000; text-decoration-color: #808000; font-weight: bold\">DeprecationWarning: Kernel._parent_header is deprecated in ipykernel 6. Use .get_parent()</span> \n",
       "<span style=\"color: #000000; text-decoration-color: #000000; font-weight: bold\">(raised from /mnt/data/work/repos/workshops/memes/env/lib/python3.9/site-packages/ipywidgets/</span>\n",
       "<span style=\"color: #000000; text-decoration-color: #000000; font-weight: bold\">widgets/widget_output.py:112)</span>\n",
       "</pre>\n"
      ],
      "text/plain": [
       "\u001b[1;33mDeprecationWarning: Kernel._parent_header is deprecated in ipykernel 6. Use .get_parent()\u001b[0m \n",
       "\u001b[1;30m(raised from /mnt/data/work/repos/workshops/memes/env/lib/python3.9/site-packages/ipywidgets/\u001b[0m\n",
       "\u001b[1;30mwidgets/widget_output.py:112)\u001b[0m\n"
      ]
     },
     "metadata": {},
     "output_type": "display_data"
    },
    {
     "data": {
      "text/html": [
       "<pre style=\"white-space:pre;overflow-x:auto;line-height:normal;font-family:Menlo,'DejaVu Sans Mono',consolas,'Courier New',monospace\"><span style=\"color: #808000; text-decoration-color: #808000; font-weight: bold\">DeprecationWarning: Kernel._parent_header is deprecated in ipykernel 6. Use .get_parent()</span> \n",
       "<span style=\"color: #000000; text-decoration-color: #000000; font-weight: bold\">(raised from /mnt/data/work/repos/workshops/memes/env/lib/python3.9/site-packages/ipywidgets/</span>\n",
       "<span style=\"color: #000000; text-decoration-color: #000000; font-weight: bold\">widgets/widget_output.py:111)</span>\n",
       "</pre>\n"
      ],
      "text/plain": [
       "\u001b[1;33mDeprecationWarning: Kernel._parent_header is deprecated in ipykernel 6. Use .get_parent()\u001b[0m \n",
       "\u001b[1;30m(raised from /mnt/data/work/repos/workshops/memes/env/lib/python3.9/site-packages/ipywidgets/\u001b[0m\n",
       "\u001b[1;30mwidgets/widget_output.py:111)\u001b[0m\n"
      ]
     },
     "metadata": {},
     "output_type": "display_data"
    },
    {
     "data": {
      "text/html": [
       "<pre style=\"white-space:pre;overflow-x:auto;line-height:normal;font-family:Menlo,'DejaVu Sans Mono',consolas,'Courier New',monospace\"><span style=\"color: #808000; text-decoration-color: #808000; font-weight: bold\">DeprecationWarning: Kernel._parent_header is deprecated in ipykernel 6. Use .get_parent()</span> \n",
       "<span style=\"color: #000000; text-decoration-color: #000000; font-weight: bold\">(raised from /mnt/data/work/repos/workshops/memes/env/lib/python3.9/site-packages/ipywidgets/</span>\n",
       "<span style=\"color: #000000; text-decoration-color: #000000; font-weight: bold\">widgets/widget_output.py:112)</span>\n",
       "</pre>\n"
      ],
      "text/plain": [
       "\u001b[1;33mDeprecationWarning: Kernel._parent_header is deprecated in ipykernel 6. Use .get_parent()\u001b[0m \n",
       "\u001b[1;30m(raised from /mnt/data/work/repos/workshops/memes/env/lib/python3.9/site-packages/ipywidgets/\u001b[0m\n",
       "\u001b[1;30mwidgets/widget_output.py:112)\u001b[0m\n"
      ]
     },
     "metadata": {},
     "output_type": "display_data"
    },
    {
     "data": {
      "text/html": [
       "<pre style=\"white-space:pre;overflow-x:auto;line-height:normal;font-family:Menlo,'DejaVu Sans Mono',consolas,'Courier New',monospace\"><span style=\"color: #808000; text-decoration-color: #808000; font-weight: bold\">DeprecationWarning: Kernel._parent_header is deprecated in ipykernel 6. Use .get_parent()</span> \n",
       "<span style=\"color: #000000; text-decoration-color: #000000; font-weight: bold\">(raised from /mnt/data/work/repos/workshops/memes/env/lib/python3.9/site-packages/ipywidgets/</span>\n",
       "<span style=\"color: #000000; text-decoration-color: #000000; font-weight: bold\">widgets/widget_output.py:111)</span>\n",
       "</pre>\n"
      ],
      "text/plain": [
       "\u001b[1;33mDeprecationWarning: Kernel._parent_header is deprecated in ipykernel 6. Use .get_parent()\u001b[0m \n",
       "\u001b[1;30m(raised from /mnt/data/work/repos/workshops/memes/env/lib/python3.9/site-packages/ipywidgets/\u001b[0m\n",
       "\u001b[1;30mwidgets/widget_output.py:111)\u001b[0m\n"
      ]
     },
     "metadata": {},
     "output_type": "display_data"
    },
    {
     "data": {
      "text/html": [
       "<pre style=\"white-space:pre;overflow-x:auto;line-height:normal;font-family:Menlo,'DejaVu Sans Mono',consolas,'Courier New',monospace\"><span style=\"color: #808000; text-decoration-color: #808000; font-weight: bold\">DeprecationWarning: Kernel._parent_header is deprecated in ipykernel 6. Use .get_parent()</span> \n",
       "<span style=\"color: #000000; text-decoration-color: #000000; font-weight: bold\">(raised from /mnt/data/work/repos/workshops/memes/env/lib/python3.9/site-packages/ipywidgets/</span>\n",
       "<span style=\"color: #000000; text-decoration-color: #000000; font-weight: bold\">widgets/widget_output.py:112)</span>\n",
       "</pre>\n"
      ],
      "text/plain": [
       "\u001b[1;33mDeprecationWarning: Kernel._parent_header is deprecated in ipykernel 6. Use .get_parent()\u001b[0m \n",
       "\u001b[1;30m(raised from /mnt/data/work/repos/workshops/memes/env/lib/python3.9/site-packages/ipywidgets/\u001b[0m\n",
       "\u001b[1;30mwidgets/widget_output.py:112)\u001b[0m\n"
      ]
     },
     "metadata": {},
     "output_type": "display_data"
    },
    {
     "data": {
      "text/html": [
       "<pre style=\"white-space:pre;overflow-x:auto;line-height:normal;font-family:Menlo,'DejaVu Sans Mono',consolas,'Courier New',monospace\"><span style=\"color: #808000; text-decoration-color: #808000; font-weight: bold\">DeprecationWarning: Kernel._parent_header is deprecated in ipykernel 6. Use .get_parent()</span> \n",
       "<span style=\"color: #000000; text-decoration-color: #000000; font-weight: bold\">(raised from /mnt/data/work/repos/workshops/memes/env/lib/python3.9/site-packages/ipywidgets/</span>\n",
       "<span style=\"color: #000000; text-decoration-color: #000000; font-weight: bold\">widgets/widget_output.py:111)</span>\n",
       "</pre>\n"
      ],
      "text/plain": [
       "\u001b[1;33mDeprecationWarning: Kernel._parent_header is deprecated in ipykernel 6. Use .get_parent()\u001b[0m \n",
       "\u001b[1;30m(raised from /mnt/data/work/repos/workshops/memes/env/lib/python3.9/site-packages/ipywidgets/\u001b[0m\n",
       "\u001b[1;30mwidgets/widget_output.py:111)\u001b[0m\n"
      ]
     },
     "metadata": {},
     "output_type": "display_data"
    },
    {
     "data": {
      "text/html": [
       "<pre style=\"white-space:pre;overflow-x:auto;line-height:normal;font-family:Menlo,'DejaVu Sans Mono',consolas,'Courier New',monospace\"><span style=\"color: #808000; text-decoration-color: #808000; font-weight: bold\">DeprecationWarning: Kernel._parent_header is deprecated in ipykernel 6. Use .get_parent()</span> \n",
       "<span style=\"color: #000000; text-decoration-color: #000000; font-weight: bold\">(raised from /mnt/data/work/repos/workshops/memes/env/lib/python3.9/site-packages/ipywidgets/</span>\n",
       "<span style=\"color: #000000; text-decoration-color: #000000; font-weight: bold\">widgets/widget_output.py:112)</span>\n",
       "</pre>\n"
      ],
      "text/plain": [
       "\u001b[1;33mDeprecationWarning: Kernel._parent_header is deprecated in ipykernel 6. Use .get_parent()\u001b[0m \n",
       "\u001b[1;30m(raised from /mnt/data/work/repos/workshops/memes/env/lib/python3.9/site-packages/ipywidgets/\u001b[0m\n",
       "\u001b[1;30mwidgets/widget_output.py:112)\u001b[0m\n"
      ]
     },
     "metadata": {},
     "output_type": "display_data"
    },
    {
     "data": {
      "text/html": [
       "<pre style=\"white-space:pre;overflow-x:auto;line-height:normal;font-family:Menlo,'DejaVu Sans Mono',consolas,'Courier New',monospace\"><span style=\"color: #808000; text-decoration-color: #808000; font-weight: bold\">DeprecationWarning: Kernel._parent_header is deprecated in ipykernel 6. Use .get_parent()</span> \n",
       "<span style=\"color: #000000; text-decoration-color: #000000; font-weight: bold\">(raised from /mnt/data/work/repos/workshops/memes/env/lib/python3.9/site-packages/ipywidgets/</span>\n",
       "<span style=\"color: #000000; text-decoration-color: #000000; font-weight: bold\">widgets/widget_output.py:111)</span>\n",
       "</pre>\n"
      ],
      "text/plain": [
       "\u001b[1;33mDeprecationWarning: Kernel._parent_header is deprecated in ipykernel 6. Use .get_parent()\u001b[0m \n",
       "\u001b[1;30m(raised from /mnt/data/work/repos/workshops/memes/env/lib/python3.9/site-packages/ipywidgets/\u001b[0m\n",
       "\u001b[1;30mwidgets/widget_output.py:111)\u001b[0m\n"
      ]
     },
     "metadata": {},
     "output_type": "display_data"
    },
    {
     "data": {
      "text/html": [
       "<pre style=\"white-space:pre;overflow-x:auto;line-height:normal;font-family:Menlo,'DejaVu Sans Mono',consolas,'Courier New',monospace\"><span style=\"color: #808000; text-decoration-color: #808000; font-weight: bold\">DeprecationWarning: Kernel._parent_header is deprecated in ipykernel 6. Use .get_parent()</span> \n",
       "<span style=\"color: #000000; text-decoration-color: #000000; font-weight: bold\">(raised from /mnt/data/work/repos/workshops/memes/env/lib/python3.9/site-packages/ipywidgets/</span>\n",
       "<span style=\"color: #000000; text-decoration-color: #000000; font-weight: bold\">widgets/widget_output.py:112)</span>\n",
       "</pre>\n"
      ],
      "text/plain": [
       "\u001b[1;33mDeprecationWarning: Kernel._parent_header is deprecated in ipykernel 6. Use .get_parent()\u001b[0m \n",
       "\u001b[1;30m(raised from /mnt/data/work/repos/workshops/memes/env/lib/python3.9/site-packages/ipywidgets/\u001b[0m\n",
       "\u001b[1;30mwidgets/widget_output.py:112)\u001b[0m\n"
      ]
     },
     "metadata": {},
     "output_type": "display_data"
    },
    {
     "data": {
      "text/html": [
       "<pre style=\"white-space:pre;overflow-x:auto;line-height:normal;font-family:Menlo,'DejaVu Sans Mono',consolas,'Courier New',monospace\"><span style=\"color: #808000; text-decoration-color: #808000; font-weight: bold\">DeprecationWarning: Kernel._parent_header is deprecated in ipykernel 6. Use .get_parent()</span> \n",
       "<span style=\"color: #000000; text-decoration-color: #000000; font-weight: bold\">(raised from /mnt/data/work/repos/workshops/memes/env/lib/python3.9/site-packages/ipywidgets/</span>\n",
       "<span style=\"color: #000000; text-decoration-color: #000000; font-weight: bold\">widgets/widget_output.py:111)</span>\n",
       "</pre>\n"
      ],
      "text/plain": [
       "\u001b[1;33mDeprecationWarning: Kernel._parent_header is deprecated in ipykernel 6. Use .get_parent()\u001b[0m \n",
       "\u001b[1;30m(raised from /mnt/data/work/repos/workshops/memes/env/lib/python3.9/site-packages/ipywidgets/\u001b[0m\n",
       "\u001b[1;30mwidgets/widget_output.py:111)\u001b[0m\n"
      ]
     },
     "metadata": {},
     "output_type": "display_data"
    },
    {
     "data": {
      "text/html": [
       "<pre style=\"white-space:pre;overflow-x:auto;line-height:normal;font-family:Menlo,'DejaVu Sans Mono',consolas,'Courier New',monospace\"><span style=\"color: #808000; text-decoration-color: #808000; font-weight: bold\">DeprecationWarning: Kernel._parent_header is deprecated in ipykernel 6. Use .get_parent()</span> \n",
       "<span style=\"color: #000000; text-decoration-color: #000000; font-weight: bold\">(raised from /mnt/data/work/repos/workshops/memes/env/lib/python3.9/site-packages/ipywidgets/</span>\n",
       "<span style=\"color: #000000; text-decoration-color: #000000; font-weight: bold\">widgets/widget_output.py:112)</span>\n",
       "</pre>\n"
      ],
      "text/plain": [
       "\u001b[1;33mDeprecationWarning: Kernel._parent_header is deprecated in ipykernel 6. Use .get_parent()\u001b[0m \n",
       "\u001b[1;30m(raised from /mnt/data/work/repos/workshops/memes/env/lib/python3.9/site-packages/ipywidgets/\u001b[0m\n",
       "\u001b[1;30mwidgets/widget_output.py:112)\u001b[0m\n"
      ]
     },
     "metadata": {},
     "output_type": "display_data"
    },
    {
     "data": {
      "text/html": [
       "<pre style=\"white-space:pre;overflow-x:auto;line-height:normal;font-family:Menlo,'DejaVu Sans Mono',consolas,'Courier New',monospace\"><span style=\"color: #808000; text-decoration-color: #808000; font-weight: bold\">DeprecationWarning: Kernel._parent_header is deprecated in ipykernel 6. Use .get_parent()</span> \n",
       "<span style=\"color: #000000; text-decoration-color: #000000; font-weight: bold\">(raised from /mnt/data/work/repos/workshops/memes/env/lib/python3.9/site-packages/ipywidgets/</span>\n",
       "<span style=\"color: #000000; text-decoration-color: #000000; font-weight: bold\">widgets/widget_output.py:111)</span>\n",
       "</pre>\n"
      ],
      "text/plain": [
       "\u001b[1;33mDeprecationWarning: Kernel._parent_header is deprecated in ipykernel 6. Use .get_parent()\u001b[0m \n",
       "\u001b[1;30m(raised from /mnt/data/work/repos/workshops/memes/env/lib/python3.9/site-packages/ipywidgets/\u001b[0m\n",
       "\u001b[1;30mwidgets/widget_output.py:111)\u001b[0m\n"
      ]
     },
     "metadata": {},
     "output_type": "display_data"
    },
    {
     "data": {
      "text/html": [
       "<pre style=\"white-space:pre;overflow-x:auto;line-height:normal;font-family:Menlo,'DejaVu Sans Mono',consolas,'Courier New',monospace\"><span style=\"color: #808000; text-decoration-color: #808000; font-weight: bold\">DeprecationWarning: Kernel._parent_header is deprecated in ipykernel 6. Use .get_parent()</span> \n",
       "<span style=\"color: #000000; text-decoration-color: #000000; font-weight: bold\">(raised from /mnt/data/work/repos/workshops/memes/env/lib/python3.9/site-packages/ipywidgets/</span>\n",
       "<span style=\"color: #000000; text-decoration-color: #000000; font-weight: bold\">widgets/widget_output.py:112)</span>\n",
       "</pre>\n"
      ],
      "text/plain": [
       "\u001b[1;33mDeprecationWarning: Kernel._parent_header is deprecated in ipykernel 6. Use .get_parent()\u001b[0m \n",
       "\u001b[1;30m(raised from /mnt/data/work/repos/workshops/memes/env/lib/python3.9/site-packages/ipywidgets/\u001b[0m\n",
       "\u001b[1;30mwidgets/widget_output.py:112)\u001b[0m\n"
      ]
     },
     "metadata": {},
     "output_type": "display_data"
    },
    {
     "data": {
      "text/html": [
       "<pre style=\"white-space:pre;overflow-x:auto;line-height:normal;font-family:Menlo,'DejaVu Sans Mono',consolas,'Courier New',monospace\"><span style=\"color: #808000; text-decoration-color: #808000; font-weight: bold\">DeprecationWarning: Kernel._parent_header is deprecated in ipykernel 6. Use .get_parent()</span> \n",
       "<span style=\"color: #000000; text-decoration-color: #000000; font-weight: bold\">(raised from /mnt/data/work/repos/workshops/memes/env/lib/python3.9/site-packages/ipywidgets/</span>\n",
       "<span style=\"color: #000000; text-decoration-color: #000000; font-weight: bold\">widgets/widget_output.py:111)</span>\n",
       "</pre>\n"
      ],
      "text/plain": [
       "\u001b[1;33mDeprecationWarning: Kernel._parent_header is deprecated in ipykernel 6. Use .get_parent()\u001b[0m \n",
       "\u001b[1;30m(raised from /mnt/data/work/repos/workshops/memes/env/lib/python3.9/site-packages/ipywidgets/\u001b[0m\n",
       "\u001b[1;30mwidgets/widget_output.py:111)\u001b[0m\n"
      ]
     },
     "metadata": {},
     "output_type": "display_data"
    },
    {
     "data": {
      "text/html": [
       "<pre style=\"white-space:pre;overflow-x:auto;line-height:normal;font-family:Menlo,'DejaVu Sans Mono',consolas,'Courier New',monospace\"><span style=\"color: #808000; text-decoration-color: #808000; font-weight: bold\">DeprecationWarning: Kernel._parent_header is deprecated in ipykernel 6. Use .get_parent()</span> \n",
       "<span style=\"color: #000000; text-decoration-color: #000000; font-weight: bold\">(raised from /mnt/data/work/repos/workshops/memes/env/lib/python3.9/site-packages/ipywidgets/</span>\n",
       "<span style=\"color: #000000; text-decoration-color: #000000; font-weight: bold\">widgets/widget_output.py:112)</span>\n",
       "</pre>\n"
      ],
      "text/plain": [
       "\u001b[1;33mDeprecationWarning: Kernel._parent_header is deprecated in ipykernel 6. Use .get_parent()\u001b[0m \n",
       "\u001b[1;30m(raised from /mnt/data/work/repos/workshops/memes/env/lib/python3.9/site-packages/ipywidgets/\u001b[0m\n",
       "\u001b[1;30mwidgets/widget_output.py:112)\u001b[0m\n"
      ]
     },
     "metadata": {},
     "output_type": "display_data"
    },
    {
     "data": {
      "text/html": [
       "<pre style=\"white-space:pre;overflow-x:auto;line-height:normal;font-family:Menlo,'DejaVu Sans Mono',consolas,'Courier New',monospace\"><span style=\"color: #808000; text-decoration-color: #808000; font-weight: bold\">DeprecationWarning: Kernel._parent_header is deprecated in ipykernel 6. Use .get_parent()</span> \n",
       "<span style=\"color: #000000; text-decoration-color: #000000; font-weight: bold\">(raised from /mnt/data/work/repos/workshops/memes/env/lib/python3.9/site-packages/ipywidgets/</span>\n",
       "<span style=\"color: #000000; text-decoration-color: #000000; font-weight: bold\">widgets/widget_output.py:111)</span>\n",
       "</pre>\n"
      ],
      "text/plain": [
       "\u001b[1;33mDeprecationWarning: Kernel._parent_header is deprecated in ipykernel 6. Use .get_parent()\u001b[0m \n",
       "\u001b[1;30m(raised from /mnt/data/work/repos/workshops/memes/env/lib/python3.9/site-packages/ipywidgets/\u001b[0m\n",
       "\u001b[1;30mwidgets/widget_output.py:111)\u001b[0m\n"
      ]
     },
     "metadata": {},
     "output_type": "display_data"
    },
    {
     "data": {
      "text/html": [
       "<pre style=\"white-space:pre;overflow-x:auto;line-height:normal;font-family:Menlo,'DejaVu Sans Mono',consolas,'Courier New',monospace\"><span style=\"color: #808000; text-decoration-color: #808000; font-weight: bold\">DeprecationWarning: Kernel._parent_header is deprecated in ipykernel 6. Use .get_parent()</span> \n",
       "<span style=\"color: #000000; text-decoration-color: #000000; font-weight: bold\">(raised from /mnt/data/work/repos/workshops/memes/env/lib/python3.9/site-packages/ipywidgets/</span>\n",
       "<span style=\"color: #000000; text-decoration-color: #000000; font-weight: bold\">widgets/widget_output.py:112)</span>\n",
       "</pre>\n"
      ],
      "text/plain": [
       "\u001b[1;33mDeprecationWarning: Kernel._parent_header is deprecated in ipykernel 6. Use .get_parent()\u001b[0m \n",
       "\u001b[1;30m(raised from /mnt/data/work/repos/workshops/memes/env/lib/python3.9/site-packages/ipywidgets/\u001b[0m\n",
       "\u001b[1;30mwidgets/widget_output.py:112)\u001b[0m\n"
      ]
     },
     "metadata": {},
     "output_type": "display_data"
    },
    {
     "data": {
      "text/html": [
       "<pre style=\"white-space:pre;overflow-x:auto;line-height:normal;font-family:Menlo,'DejaVu Sans Mono',consolas,'Courier New',monospace\"><span style=\"color: #808000; text-decoration-color: #808000; font-weight: bold\">DeprecationWarning: Kernel._parent_header is deprecated in ipykernel 6. Use .get_parent()</span> \n",
       "<span style=\"color: #000000; text-decoration-color: #000000; font-weight: bold\">(raised from /mnt/data/work/repos/workshops/memes/env/lib/python3.9/site-packages/ipywidgets/</span>\n",
       "<span style=\"color: #000000; text-decoration-color: #000000; font-weight: bold\">widgets/widget_output.py:111)</span>\n",
       "</pre>\n"
      ],
      "text/plain": [
       "\u001b[1;33mDeprecationWarning: Kernel._parent_header is deprecated in ipykernel 6. Use .get_parent()\u001b[0m \n",
       "\u001b[1;30m(raised from /mnt/data/work/repos/workshops/memes/env/lib/python3.9/site-packages/ipywidgets/\u001b[0m\n",
       "\u001b[1;30mwidgets/widget_output.py:111)\u001b[0m\n"
      ]
     },
     "metadata": {},
     "output_type": "display_data"
    },
    {
     "data": {
      "text/html": [
       "<pre style=\"white-space:pre;overflow-x:auto;line-height:normal;font-family:Menlo,'DejaVu Sans Mono',consolas,'Courier New',monospace\"><span style=\"color: #808000; text-decoration-color: #808000; font-weight: bold\">DeprecationWarning: Kernel._parent_header is deprecated in ipykernel 6. Use .get_parent()</span> \n",
       "<span style=\"color: #000000; text-decoration-color: #000000; font-weight: bold\">(raised from /mnt/data/work/repos/workshops/memes/env/lib/python3.9/site-packages/ipywidgets/</span>\n",
       "<span style=\"color: #000000; text-decoration-color: #000000; font-weight: bold\">widgets/widget_output.py:112)</span>\n",
       "</pre>\n"
      ],
      "text/plain": [
       "\u001b[1;33mDeprecationWarning: Kernel._parent_header is deprecated in ipykernel 6. Use .get_parent()\u001b[0m \n",
       "\u001b[1;30m(raised from /mnt/data/work/repos/workshops/memes/env/lib/python3.9/site-packages/ipywidgets/\u001b[0m\n",
       "\u001b[1;30mwidgets/widget_output.py:112)\u001b[0m\n"
      ]
     },
     "metadata": {},
     "output_type": "display_data"
    },
    {
     "data": {
      "text/html": [
       "<pre style=\"white-space:pre;overflow-x:auto;line-height:normal;font-family:Menlo,'DejaVu Sans Mono',consolas,'Courier New',monospace\"><span style=\"color: #808000; text-decoration-color: #808000; font-weight: bold\">DeprecationWarning: Kernel._parent_header is deprecated in ipykernel 6. Use .get_parent()</span> \n",
       "<span style=\"color: #000000; text-decoration-color: #000000; font-weight: bold\">(raised from /mnt/data/work/repos/workshops/memes/env/lib/python3.9/site-packages/ipywidgets/</span>\n",
       "<span style=\"color: #000000; text-decoration-color: #000000; font-weight: bold\">widgets/widget_output.py:111)</span>\n",
       "</pre>\n"
      ],
      "text/plain": [
       "\u001b[1;33mDeprecationWarning: Kernel._parent_header is deprecated in ipykernel 6. Use .get_parent()\u001b[0m \n",
       "\u001b[1;30m(raised from /mnt/data/work/repos/workshops/memes/env/lib/python3.9/site-packages/ipywidgets/\u001b[0m\n",
       "\u001b[1;30mwidgets/widget_output.py:111)\u001b[0m\n"
      ]
     },
     "metadata": {},
     "output_type": "display_data"
    },
    {
     "data": {
      "text/html": [
       "<pre style=\"white-space:pre;overflow-x:auto;line-height:normal;font-family:Menlo,'DejaVu Sans Mono',consolas,'Courier New',monospace\"><span style=\"color: #808000; text-decoration-color: #808000; font-weight: bold\">DeprecationWarning: Kernel._parent_header is deprecated in ipykernel 6. Use .get_parent()</span> \n",
       "<span style=\"color: #000000; text-decoration-color: #000000; font-weight: bold\">(raised from /mnt/data/work/repos/workshops/memes/env/lib/python3.9/site-packages/ipywidgets/</span>\n",
       "<span style=\"color: #000000; text-decoration-color: #000000; font-weight: bold\">widgets/widget_output.py:112)</span>\n",
       "</pre>\n"
      ],
      "text/plain": [
       "\u001b[1;33mDeprecationWarning: Kernel._parent_header is deprecated in ipykernel 6. Use .get_parent()\u001b[0m \n",
       "\u001b[1;30m(raised from /mnt/data/work/repos/workshops/memes/env/lib/python3.9/site-packages/ipywidgets/\u001b[0m\n",
       "\u001b[1;30mwidgets/widget_output.py:112)\u001b[0m\n"
      ]
     },
     "metadata": {},
     "output_type": "display_data"
    },
    {
     "data": {
      "text/html": [
       "<pre style=\"white-space:pre;overflow-x:auto;line-height:normal;font-family:Menlo,'DejaVu Sans Mono',consolas,'Courier New',monospace\"><span style=\"color: #808000; text-decoration-color: #808000; font-weight: bold\">DeprecationWarning: Kernel._parent_header is deprecated in ipykernel 6. Use .get_parent()</span> \n",
       "<span style=\"color: #000000; text-decoration-color: #000000; font-weight: bold\">(raised from /mnt/data/work/repos/workshops/memes/env/lib/python3.9/site-packages/ipywidgets/</span>\n",
       "<span style=\"color: #000000; text-decoration-color: #000000; font-weight: bold\">widgets/widget_output.py:111)</span>\n",
       "</pre>\n"
      ],
      "text/plain": [
       "\u001b[1;33mDeprecationWarning: Kernel._parent_header is deprecated in ipykernel 6. Use .get_parent()\u001b[0m \n",
       "\u001b[1;30m(raised from /mnt/data/work/repos/workshops/memes/env/lib/python3.9/site-packages/ipywidgets/\u001b[0m\n",
       "\u001b[1;30mwidgets/widget_output.py:111)\u001b[0m\n"
      ]
     },
     "metadata": {},
     "output_type": "display_data"
    },
    {
     "data": {
      "text/html": [
       "<pre style=\"white-space:pre;overflow-x:auto;line-height:normal;font-family:Menlo,'DejaVu Sans Mono',consolas,'Courier New',monospace\"><span style=\"color: #808000; text-decoration-color: #808000; font-weight: bold\">DeprecationWarning: Kernel._parent_header is deprecated in ipykernel 6. Use .get_parent()</span> \n",
       "<span style=\"color: #000000; text-decoration-color: #000000; font-weight: bold\">(raised from /mnt/data/work/repos/workshops/memes/env/lib/python3.9/site-packages/ipywidgets/</span>\n",
       "<span style=\"color: #000000; text-decoration-color: #000000; font-weight: bold\">widgets/widget_output.py:112)</span>\n",
       "</pre>\n"
      ],
      "text/plain": [
       "\u001b[1;33mDeprecationWarning: Kernel._parent_header is deprecated in ipykernel 6. Use .get_parent()\u001b[0m \n",
       "\u001b[1;30m(raised from /mnt/data/work/repos/workshops/memes/env/lib/python3.9/site-packages/ipywidgets/\u001b[0m\n",
       "\u001b[1;30mwidgets/widget_output.py:112)\u001b[0m\n"
      ]
     },
     "metadata": {},
     "output_type": "display_data"
    },
    {
     "data": {
      "text/html": [
       "<pre style=\"white-space:pre;overflow-x:auto;line-height:normal;font-family:Menlo,'DejaVu Sans Mono',consolas,'Courier New',monospace\"><span style=\"color: #808000; text-decoration-color: #808000; font-weight: bold\">DeprecationWarning: Kernel._parent_header is deprecated in ipykernel 6. Use .get_parent()</span> \n",
       "<span style=\"color: #000000; text-decoration-color: #000000; font-weight: bold\">(raised from /mnt/data/work/repos/workshops/memes/env/lib/python3.9/site-packages/ipywidgets/</span>\n",
       "<span style=\"color: #000000; text-decoration-color: #000000; font-weight: bold\">widgets/widget_output.py:111)</span>\n",
       "</pre>\n"
      ],
      "text/plain": [
       "\u001b[1;33mDeprecationWarning: Kernel._parent_header is deprecated in ipykernel 6. Use .get_parent()\u001b[0m \n",
       "\u001b[1;30m(raised from /mnt/data/work/repos/workshops/memes/env/lib/python3.9/site-packages/ipywidgets/\u001b[0m\n",
       "\u001b[1;30mwidgets/widget_output.py:111)\u001b[0m\n"
      ]
     },
     "metadata": {},
     "output_type": "display_data"
    },
    {
     "data": {
      "text/html": [
       "<pre style=\"white-space:pre;overflow-x:auto;line-height:normal;font-family:Menlo,'DejaVu Sans Mono',consolas,'Courier New',monospace\"><span style=\"color: #808000; text-decoration-color: #808000; font-weight: bold\">DeprecationWarning: Kernel._parent_header is deprecated in ipykernel 6. Use .get_parent()</span> \n",
       "<span style=\"color: #000000; text-decoration-color: #000000; font-weight: bold\">(raised from /mnt/data/work/repos/workshops/memes/env/lib/python3.9/site-packages/ipywidgets/</span>\n",
       "<span style=\"color: #000000; text-decoration-color: #000000; font-weight: bold\">widgets/widget_output.py:112)</span>\n",
       "</pre>\n"
      ],
      "text/plain": [
       "\u001b[1;33mDeprecationWarning: Kernel._parent_header is deprecated in ipykernel 6. Use .get_parent()\u001b[0m \n",
       "\u001b[1;30m(raised from /mnt/data/work/repos/workshops/memes/env/lib/python3.9/site-packages/ipywidgets/\u001b[0m\n",
       "\u001b[1;30mwidgets/widget_output.py:112)\u001b[0m\n"
      ]
     },
     "metadata": {},
     "output_type": "display_data"
    },
    {
     "data": {
      "text/html": [
       "<pre style=\"white-space:pre;overflow-x:auto;line-height:normal;font-family:Menlo,'DejaVu Sans Mono',consolas,'Courier New',monospace\"><span style=\"color: #808000; text-decoration-color: #808000; font-weight: bold\">DeprecationWarning: Kernel._parent_header is deprecated in ipykernel 6. Use .get_parent()</span> \n",
       "<span style=\"color: #000000; text-decoration-color: #000000; font-weight: bold\">(raised from /mnt/data/work/repos/workshops/memes/env/lib/python3.9/site-packages/ipywidgets/</span>\n",
       "<span style=\"color: #000000; text-decoration-color: #000000; font-weight: bold\">widgets/widget_output.py:111)</span>\n",
       "</pre>\n"
      ],
      "text/plain": [
       "\u001b[1;33mDeprecationWarning: Kernel._parent_header is deprecated in ipykernel 6. Use .get_parent()\u001b[0m \n",
       "\u001b[1;30m(raised from /mnt/data/work/repos/workshops/memes/env/lib/python3.9/site-packages/ipywidgets/\u001b[0m\n",
       "\u001b[1;30mwidgets/widget_output.py:111)\u001b[0m\n"
      ]
     },
     "metadata": {},
     "output_type": "display_data"
    },
    {
     "data": {
      "text/html": [
       "<pre style=\"white-space:pre;overflow-x:auto;line-height:normal;font-family:Menlo,'DejaVu Sans Mono',consolas,'Courier New',monospace\"><span style=\"color: #808000; text-decoration-color: #808000; font-weight: bold\">DeprecationWarning: Kernel._parent_header is deprecated in ipykernel 6. Use .get_parent()</span> \n",
       "<span style=\"color: #000000; text-decoration-color: #000000; font-weight: bold\">(raised from /mnt/data/work/repos/workshops/memes/env/lib/python3.9/site-packages/ipywidgets/</span>\n",
       "<span style=\"color: #000000; text-decoration-color: #000000; font-weight: bold\">widgets/widget_output.py:112)</span>\n",
       "</pre>\n"
      ],
      "text/plain": [
       "\u001b[1;33mDeprecationWarning: Kernel._parent_header is deprecated in ipykernel 6. Use .get_parent()\u001b[0m \n",
       "\u001b[1;30m(raised from /mnt/data/work/repos/workshops/memes/env/lib/python3.9/site-packages/ipywidgets/\u001b[0m\n",
       "\u001b[1;30mwidgets/widget_output.py:112)\u001b[0m\n"
      ]
     },
     "metadata": {},
     "output_type": "display_data"
    },
    {
     "data": {
      "text/html": [
       "<pre style=\"white-space:pre;overflow-x:auto;line-height:normal;font-family:Menlo,'DejaVu Sans Mono',consolas,'Courier New',monospace\"><span style=\"color: #808000; text-decoration-color: #808000; font-weight: bold\">DeprecationWarning: Kernel._parent_header is deprecated in ipykernel 6. Use .get_parent()</span> \n",
       "<span style=\"color: #000000; text-decoration-color: #000000; font-weight: bold\">(raised from /mnt/data/work/repos/workshops/memes/env/lib/python3.9/site-packages/ipywidgets/</span>\n",
       "<span style=\"color: #000000; text-decoration-color: #000000; font-weight: bold\">widgets/widget_output.py:111)</span>\n",
       "</pre>\n"
      ],
      "text/plain": [
       "\u001b[1;33mDeprecationWarning: Kernel._parent_header is deprecated in ipykernel 6. Use .get_parent()\u001b[0m \n",
       "\u001b[1;30m(raised from /mnt/data/work/repos/workshops/memes/env/lib/python3.9/site-packages/ipywidgets/\u001b[0m\n",
       "\u001b[1;30mwidgets/widget_output.py:111)\u001b[0m\n"
      ]
     },
     "metadata": {},
     "output_type": "display_data"
    },
    {
     "data": {
      "text/html": [
       "<pre style=\"white-space:pre;overflow-x:auto;line-height:normal;font-family:Menlo,'DejaVu Sans Mono',consolas,'Courier New',monospace\"><span style=\"color: #808000; text-decoration-color: #808000; font-weight: bold\">DeprecationWarning: Kernel._parent_header is deprecated in ipykernel 6. Use .get_parent()</span> \n",
       "<span style=\"color: #000000; text-decoration-color: #000000; font-weight: bold\">(raised from /mnt/data/work/repos/workshops/memes/env/lib/python3.9/site-packages/ipywidgets/</span>\n",
       "<span style=\"color: #000000; text-decoration-color: #000000; font-weight: bold\">widgets/widget_output.py:112)</span>\n",
       "</pre>\n"
      ],
      "text/plain": [
       "\u001b[1;33mDeprecationWarning: Kernel._parent_header is deprecated in ipykernel 6. Use .get_parent()\u001b[0m \n",
       "\u001b[1;30m(raised from /mnt/data/work/repos/workshops/memes/env/lib/python3.9/site-packages/ipywidgets/\u001b[0m\n",
       "\u001b[1;30mwidgets/widget_output.py:112)\u001b[0m\n"
      ]
     },
     "metadata": {},
     "output_type": "display_data"
    },
    {
     "data": {
      "text/html": [
       "<pre style=\"white-space:pre;overflow-x:auto;line-height:normal;font-family:Menlo,'DejaVu Sans Mono',consolas,'Courier New',monospace\"><span style=\"color: #808000; text-decoration-color: #808000; font-weight: bold\">DeprecationWarning: Kernel._parent_header is deprecated in ipykernel 6. Use .get_parent()</span> \n",
       "<span style=\"color: #000000; text-decoration-color: #000000; font-weight: bold\">(raised from /mnt/data/work/repos/workshops/memes/env/lib/python3.9/site-packages/ipywidgets/</span>\n",
       "<span style=\"color: #000000; text-decoration-color: #000000; font-weight: bold\">widgets/widget_output.py:111)</span>\n",
       "</pre>\n"
      ],
      "text/plain": [
       "\u001b[1;33mDeprecationWarning: Kernel._parent_header is deprecated in ipykernel 6. Use .get_parent()\u001b[0m \n",
       "\u001b[1;30m(raised from /mnt/data/work/repos/workshops/memes/env/lib/python3.9/site-packages/ipywidgets/\u001b[0m\n",
       "\u001b[1;30mwidgets/widget_output.py:111)\u001b[0m\n"
      ]
     },
     "metadata": {},
     "output_type": "display_data"
    },
    {
     "data": {
      "text/html": [
       "<pre style=\"white-space:pre;overflow-x:auto;line-height:normal;font-family:Menlo,'DejaVu Sans Mono',consolas,'Courier New',monospace\"><span style=\"color: #808000; text-decoration-color: #808000; font-weight: bold\">DeprecationWarning: Kernel._parent_header is deprecated in ipykernel 6. Use .get_parent()</span> \n",
       "<span style=\"color: #000000; text-decoration-color: #000000; font-weight: bold\">(raised from /mnt/data/work/repos/workshops/memes/env/lib/python3.9/site-packages/ipywidgets/</span>\n",
       "<span style=\"color: #000000; text-decoration-color: #000000; font-weight: bold\">widgets/widget_output.py:112)</span>\n",
       "</pre>\n"
      ],
      "text/plain": [
       "\u001b[1;33mDeprecationWarning: Kernel._parent_header is deprecated in ipykernel 6. Use .get_parent()\u001b[0m \n",
       "\u001b[1;30m(raised from /mnt/data/work/repos/workshops/memes/env/lib/python3.9/site-packages/ipywidgets/\u001b[0m\n",
       "\u001b[1;30mwidgets/widget_output.py:112)\u001b[0m\n"
      ]
     },
     "metadata": {},
     "output_type": "display_data"
    },
    {
     "data": {
      "text/html": [
       "<pre style=\"white-space:pre;overflow-x:auto;line-height:normal;font-family:Menlo,'DejaVu Sans Mono',consolas,'Courier New',monospace\"><span style=\"color: #808000; text-decoration-color: #808000; font-weight: bold\">DeprecationWarning: Kernel._parent_header is deprecated in ipykernel 6. Use .get_parent()</span> \n",
       "<span style=\"color: #000000; text-decoration-color: #000000; font-weight: bold\">(raised from /mnt/data/work/repos/workshops/memes/env/lib/python3.9/site-packages/ipywidgets/</span>\n",
       "<span style=\"color: #000000; text-decoration-color: #000000; font-weight: bold\">widgets/widget_output.py:111)</span>\n",
       "</pre>\n"
      ],
      "text/plain": [
       "\u001b[1;33mDeprecationWarning: Kernel._parent_header is deprecated in ipykernel 6. Use .get_parent()\u001b[0m \n",
       "\u001b[1;30m(raised from /mnt/data/work/repos/workshops/memes/env/lib/python3.9/site-packages/ipywidgets/\u001b[0m\n",
       "\u001b[1;30mwidgets/widget_output.py:111)\u001b[0m\n"
      ]
     },
     "metadata": {},
     "output_type": "display_data"
    },
    {
     "data": {
      "text/html": [
       "<pre style=\"white-space:pre;overflow-x:auto;line-height:normal;font-family:Menlo,'DejaVu Sans Mono',consolas,'Courier New',monospace\"><span style=\"color: #808000; text-decoration-color: #808000; font-weight: bold\">DeprecationWarning: Kernel._parent_header is deprecated in ipykernel 6. Use .get_parent()</span> \n",
       "<span style=\"color: #000000; text-decoration-color: #000000; font-weight: bold\">(raised from /mnt/data/work/repos/workshops/memes/env/lib/python3.9/site-packages/ipywidgets/</span>\n",
       "<span style=\"color: #000000; text-decoration-color: #000000; font-weight: bold\">widgets/widget_output.py:112)</span>\n",
       "</pre>\n"
      ],
      "text/plain": [
       "\u001b[1;33mDeprecationWarning: Kernel._parent_header is deprecated in ipykernel 6. Use .get_parent()\u001b[0m \n",
       "\u001b[1;30m(raised from /mnt/data/work/repos/workshops/memes/env/lib/python3.9/site-packages/ipywidgets/\u001b[0m\n",
       "\u001b[1;30mwidgets/widget_output.py:112)\u001b[0m\n"
      ]
     },
     "metadata": {},
     "output_type": "display_data"
    },
    {
     "data": {
      "text/html": [
       "<pre style=\"white-space:pre;overflow-x:auto;line-height:normal;font-family:Menlo,'DejaVu Sans Mono',consolas,'Courier New',monospace\"><span style=\"color: #808000; text-decoration-color: #808000; font-weight: bold\">DeprecationWarning: Kernel._parent_header is deprecated in ipykernel 6. Use .get_parent()</span> \n",
       "<span style=\"color: #000000; text-decoration-color: #000000; font-weight: bold\">(raised from /mnt/data/work/repos/workshops/memes/env/lib/python3.9/site-packages/ipywidgets/</span>\n",
       "<span style=\"color: #000000; text-decoration-color: #000000; font-weight: bold\">widgets/widget_output.py:111)</span>\n",
       "</pre>\n"
      ],
      "text/plain": [
       "\u001b[1;33mDeprecationWarning: Kernel._parent_header is deprecated in ipykernel 6. Use .get_parent()\u001b[0m \n",
       "\u001b[1;30m(raised from /mnt/data/work/repos/workshops/memes/env/lib/python3.9/site-packages/ipywidgets/\u001b[0m\n",
       "\u001b[1;30mwidgets/widget_output.py:111)\u001b[0m\n"
      ]
     },
     "metadata": {},
     "output_type": "display_data"
    },
    {
     "data": {
      "text/html": [
       "<pre style=\"white-space:pre;overflow-x:auto;line-height:normal;font-family:Menlo,'DejaVu Sans Mono',consolas,'Courier New',monospace\"><span style=\"color: #808000; text-decoration-color: #808000; font-weight: bold\">DeprecationWarning: Kernel._parent_header is deprecated in ipykernel 6. Use .get_parent()</span> \n",
       "<span style=\"color: #000000; text-decoration-color: #000000; font-weight: bold\">(raised from /mnt/data/work/repos/workshops/memes/env/lib/python3.9/site-packages/ipywidgets/</span>\n",
       "<span style=\"color: #000000; text-decoration-color: #000000; font-weight: bold\">widgets/widget_output.py:112)</span>\n",
       "</pre>\n"
      ],
      "text/plain": [
       "\u001b[1;33mDeprecationWarning: Kernel._parent_header is deprecated in ipykernel 6. Use .get_parent()\u001b[0m \n",
       "\u001b[1;30m(raised from /mnt/data/work/repos/workshops/memes/env/lib/python3.9/site-packages/ipywidgets/\u001b[0m\n",
       "\u001b[1;30mwidgets/widget_output.py:112)\u001b[0m\n"
      ]
     },
     "metadata": {},
     "output_type": "display_data"
    },
    {
     "data": {
      "text/html": [
       "<pre style=\"white-space:pre;overflow-x:auto;line-height:normal;font-family:Menlo,'DejaVu Sans Mono',consolas,'Courier New',monospace\"><span style=\"color: #808000; text-decoration-color: #808000; font-weight: bold\">DeprecationWarning: Kernel._parent_header is deprecated in ipykernel 6. Use .get_parent()</span> \n",
       "<span style=\"color: #000000; text-decoration-color: #000000; font-weight: bold\">(raised from /mnt/data/work/repos/workshops/memes/env/lib/python3.9/site-packages/ipywidgets/</span>\n",
       "<span style=\"color: #000000; text-decoration-color: #000000; font-weight: bold\">widgets/widget_output.py:111)</span>\n",
       "</pre>\n"
      ],
      "text/plain": [
       "\u001b[1;33mDeprecationWarning: Kernel._parent_header is deprecated in ipykernel 6. Use .get_parent()\u001b[0m \n",
       "\u001b[1;30m(raised from /mnt/data/work/repos/workshops/memes/env/lib/python3.9/site-packages/ipywidgets/\u001b[0m\n",
       "\u001b[1;30mwidgets/widget_output.py:111)\u001b[0m\n"
      ]
     },
     "metadata": {},
     "output_type": "display_data"
    },
    {
     "data": {
      "text/html": [
       "<pre style=\"white-space:pre;overflow-x:auto;line-height:normal;font-family:Menlo,'DejaVu Sans Mono',consolas,'Courier New',monospace\"><span style=\"color: #808000; text-decoration-color: #808000; font-weight: bold\">DeprecationWarning: Kernel._parent_header is deprecated in ipykernel 6. Use .get_parent()</span> \n",
       "<span style=\"color: #000000; text-decoration-color: #000000; font-weight: bold\">(raised from /mnt/data/work/repos/workshops/memes/env/lib/python3.9/site-packages/ipywidgets/</span>\n",
       "<span style=\"color: #000000; text-decoration-color: #000000; font-weight: bold\">widgets/widget_output.py:112)</span>\n",
       "</pre>\n"
      ],
      "text/plain": [
       "\u001b[1;33mDeprecationWarning: Kernel._parent_header is deprecated in ipykernel 6. Use .get_parent()\u001b[0m \n",
       "\u001b[1;30m(raised from /mnt/data/work/repos/workshops/memes/env/lib/python3.9/site-packages/ipywidgets/\u001b[0m\n",
       "\u001b[1;30mwidgets/widget_output.py:112)\u001b[0m\n"
      ]
     },
     "metadata": {},
     "output_type": "display_data"
    },
    {
     "data": {
      "text/html": [
       "<pre style=\"white-space:pre;overflow-x:auto;line-height:normal;font-family:Menlo,'DejaVu Sans Mono',consolas,'Courier New',monospace\"><span style=\"color: #808000; text-decoration-color: #808000; font-weight: bold\">DeprecationWarning: Kernel._parent_header is deprecated in ipykernel 6. Use .get_parent()</span> \n",
       "<span style=\"color: #000000; text-decoration-color: #000000; font-weight: bold\">(raised from /mnt/data/work/repos/workshops/memes/env/lib/python3.9/site-packages/ipywidgets/</span>\n",
       "<span style=\"color: #000000; text-decoration-color: #000000; font-weight: bold\">widgets/widget_output.py:111)</span>\n",
       "</pre>\n"
      ],
      "text/plain": [
       "\u001b[1;33mDeprecationWarning: Kernel._parent_header is deprecated in ipykernel 6. Use .get_parent()\u001b[0m \n",
       "\u001b[1;30m(raised from /mnt/data/work/repos/workshops/memes/env/lib/python3.9/site-packages/ipywidgets/\u001b[0m\n",
       "\u001b[1;30mwidgets/widget_output.py:111)\u001b[0m\n"
      ]
     },
     "metadata": {},
     "output_type": "display_data"
    },
    {
     "data": {
      "text/html": [
       "<pre style=\"white-space:pre;overflow-x:auto;line-height:normal;font-family:Menlo,'DejaVu Sans Mono',consolas,'Courier New',monospace\"><span style=\"color: #808000; text-decoration-color: #808000; font-weight: bold\">DeprecationWarning: Kernel._parent_header is deprecated in ipykernel 6. Use .get_parent()</span> \n",
       "<span style=\"color: #000000; text-decoration-color: #000000; font-weight: bold\">(raised from /mnt/data/work/repos/workshops/memes/env/lib/python3.9/site-packages/ipywidgets/</span>\n",
       "<span style=\"color: #000000; text-decoration-color: #000000; font-weight: bold\">widgets/widget_output.py:112)</span>\n",
       "</pre>\n"
      ],
      "text/plain": [
       "\u001b[1;33mDeprecationWarning: Kernel._parent_header is deprecated in ipykernel 6. Use .get_parent()\u001b[0m \n",
       "\u001b[1;30m(raised from /mnt/data/work/repos/workshops/memes/env/lib/python3.9/site-packages/ipywidgets/\u001b[0m\n",
       "\u001b[1;30mwidgets/widget_output.py:112)\u001b[0m\n"
      ]
     },
     "metadata": {},
     "output_type": "display_data"
    },
    {
     "data": {
      "text/html": [
       "<pre style=\"white-space:pre;overflow-x:auto;line-height:normal;font-family:Menlo,'DejaVu Sans Mono',consolas,'Courier New',monospace\"><span style=\"color: #808000; text-decoration-color: #808000; font-weight: bold\">DeprecationWarning: Kernel._parent_header is deprecated in ipykernel 6. Use .get_parent()</span> \n",
       "<span style=\"color: #000000; text-decoration-color: #000000; font-weight: bold\">(raised from /mnt/data/work/repos/workshops/memes/env/lib/python3.9/site-packages/ipywidgets/</span>\n",
       "<span style=\"color: #000000; text-decoration-color: #000000; font-weight: bold\">widgets/widget_output.py:111)</span>\n",
       "</pre>\n"
      ],
      "text/plain": [
       "\u001b[1;33mDeprecationWarning: Kernel._parent_header is deprecated in ipykernel 6. Use .get_parent()\u001b[0m \n",
       "\u001b[1;30m(raised from /mnt/data/work/repos/workshops/memes/env/lib/python3.9/site-packages/ipywidgets/\u001b[0m\n",
       "\u001b[1;30mwidgets/widget_output.py:111)\u001b[0m\n"
      ]
     },
     "metadata": {},
     "output_type": "display_data"
    },
    {
     "data": {
      "text/html": [
       "<pre style=\"white-space:pre;overflow-x:auto;line-height:normal;font-family:Menlo,'DejaVu Sans Mono',consolas,'Courier New',monospace\"><span style=\"color: #808000; text-decoration-color: #808000; font-weight: bold\">DeprecationWarning: Kernel._parent_header is deprecated in ipykernel 6. Use .get_parent()</span> \n",
       "<span style=\"color: #000000; text-decoration-color: #000000; font-weight: bold\">(raised from /mnt/data/work/repos/workshops/memes/env/lib/python3.9/site-packages/ipywidgets/</span>\n",
       "<span style=\"color: #000000; text-decoration-color: #000000; font-weight: bold\">widgets/widget_output.py:112)</span>\n",
       "</pre>\n"
      ],
      "text/plain": [
       "\u001b[1;33mDeprecationWarning: Kernel._parent_header is deprecated in ipykernel 6. Use .get_parent()\u001b[0m \n",
       "\u001b[1;30m(raised from /mnt/data/work/repos/workshops/memes/env/lib/python3.9/site-packages/ipywidgets/\u001b[0m\n",
       "\u001b[1;30mwidgets/widget_output.py:112)\u001b[0m\n"
      ]
     },
     "metadata": {},
     "output_type": "display_data"
    },
    {
     "data": {
      "text/html": [
       "<pre style=\"white-space:pre;overflow-x:auto;line-height:normal;font-family:Menlo,'DejaVu Sans Mono',consolas,'Courier New',monospace\"><span style=\"color: #808000; text-decoration-color: #808000; font-weight: bold\">DeprecationWarning: Kernel._parent_header is deprecated in ipykernel 6. Use .get_parent()</span> \n",
       "<span style=\"color: #000000; text-decoration-color: #000000; font-weight: bold\">(raised from /mnt/data/work/repos/workshops/memes/env/lib/python3.9/site-packages/ipywidgets/</span>\n",
       "<span style=\"color: #000000; text-decoration-color: #000000; font-weight: bold\">widgets/widget_output.py:111)</span>\n",
       "</pre>\n"
      ],
      "text/plain": [
       "\u001b[1;33mDeprecationWarning: Kernel._parent_header is deprecated in ipykernel 6. Use .get_parent()\u001b[0m \n",
       "\u001b[1;30m(raised from /mnt/data/work/repos/workshops/memes/env/lib/python3.9/site-packages/ipywidgets/\u001b[0m\n",
       "\u001b[1;30mwidgets/widget_output.py:111)\u001b[0m\n"
      ]
     },
     "metadata": {},
     "output_type": "display_data"
    },
    {
     "data": {
      "text/html": [
       "<pre style=\"white-space:pre;overflow-x:auto;line-height:normal;font-family:Menlo,'DejaVu Sans Mono',consolas,'Courier New',monospace\"><span style=\"color: #808000; text-decoration-color: #808000; font-weight: bold\">DeprecationWarning: Kernel._parent_header is deprecated in ipykernel 6. Use .get_parent()</span> \n",
       "<span style=\"color: #000000; text-decoration-color: #000000; font-weight: bold\">(raised from /mnt/data/work/repos/workshops/memes/env/lib/python3.9/site-packages/ipywidgets/</span>\n",
       "<span style=\"color: #000000; text-decoration-color: #000000; font-weight: bold\">widgets/widget_output.py:112)</span>\n",
       "</pre>\n"
      ],
      "text/plain": [
       "\u001b[1;33mDeprecationWarning: Kernel._parent_header is deprecated in ipykernel 6. Use .get_parent()\u001b[0m \n",
       "\u001b[1;30m(raised from /mnt/data/work/repos/workshops/memes/env/lib/python3.9/site-packages/ipywidgets/\u001b[0m\n",
       "\u001b[1;30mwidgets/widget_output.py:112)\u001b[0m\n"
      ]
     },
     "metadata": {},
     "output_type": "display_data"
    },
    {
     "data": {
      "text/html": [
       "<pre style=\"white-space:pre;overflow-x:auto;line-height:normal;font-family:Menlo,'DejaVu Sans Mono',consolas,'Courier New',monospace\"><span style=\"color: #808000; text-decoration-color: #808000; font-weight: bold\">DeprecationWarning: Kernel._parent_header is deprecated in ipykernel 6. Use .get_parent()</span> \n",
       "<span style=\"color: #000000; text-decoration-color: #000000; font-weight: bold\">(raised from /mnt/data/work/repos/workshops/memes/env/lib/python3.9/site-packages/ipywidgets/</span>\n",
       "<span style=\"color: #000000; text-decoration-color: #000000; font-weight: bold\">widgets/widget_output.py:111)</span>\n",
       "</pre>\n"
      ],
      "text/plain": [
       "\u001b[1;33mDeprecationWarning: Kernel._parent_header is deprecated in ipykernel 6. Use .get_parent()\u001b[0m \n",
       "\u001b[1;30m(raised from /mnt/data/work/repos/workshops/memes/env/lib/python3.9/site-packages/ipywidgets/\u001b[0m\n",
       "\u001b[1;30mwidgets/widget_output.py:111)\u001b[0m\n"
      ]
     },
     "metadata": {},
     "output_type": "display_data"
    },
    {
     "data": {
      "text/html": [
       "<pre style=\"white-space:pre;overflow-x:auto;line-height:normal;font-family:Menlo,'DejaVu Sans Mono',consolas,'Courier New',monospace\"><span style=\"color: #808000; text-decoration-color: #808000; font-weight: bold\">DeprecationWarning: Kernel._parent_header is deprecated in ipykernel 6. Use .get_parent()</span> \n",
       "<span style=\"color: #000000; text-decoration-color: #000000; font-weight: bold\">(raised from /mnt/data/work/repos/workshops/memes/env/lib/python3.9/site-packages/ipywidgets/</span>\n",
       "<span style=\"color: #000000; text-decoration-color: #000000; font-weight: bold\">widgets/widget_output.py:112)</span>\n",
       "</pre>\n"
      ],
      "text/plain": [
       "\u001b[1;33mDeprecationWarning: Kernel._parent_header is deprecated in ipykernel 6. Use .get_parent()\u001b[0m \n",
       "\u001b[1;30m(raised from /mnt/data/work/repos/workshops/memes/env/lib/python3.9/site-packages/ipywidgets/\u001b[0m\n",
       "\u001b[1;30mwidgets/widget_output.py:112)\u001b[0m\n"
      ]
     },
     "metadata": {},
     "output_type": "display_data"
    },
    {
     "data": {
      "text/html": [
       "<pre style=\"white-space:pre;overflow-x:auto;line-height:normal;font-family:Menlo,'DejaVu Sans Mono',consolas,'Courier New',monospace\"><span style=\"color: #808000; text-decoration-color: #808000; font-weight: bold\">DeprecationWarning: Kernel._parent_header is deprecated in ipykernel 6. Use .get_parent()</span> \n",
       "<span style=\"color: #000000; text-decoration-color: #000000; font-weight: bold\">(raised from /mnt/data/work/repos/workshops/memes/env/lib/python3.9/site-packages/ipywidgets/</span>\n",
       "<span style=\"color: #000000; text-decoration-color: #000000; font-weight: bold\">widgets/widget_output.py:111)</span>\n",
       "</pre>\n"
      ],
      "text/plain": [
       "\u001b[1;33mDeprecationWarning: Kernel._parent_header is deprecated in ipykernel 6. Use .get_parent()\u001b[0m \n",
       "\u001b[1;30m(raised from /mnt/data/work/repos/workshops/memes/env/lib/python3.9/site-packages/ipywidgets/\u001b[0m\n",
       "\u001b[1;30mwidgets/widget_output.py:111)\u001b[0m\n"
      ]
     },
     "metadata": {},
     "output_type": "display_data"
    },
    {
     "data": {
      "text/html": [
       "<pre style=\"white-space:pre;overflow-x:auto;line-height:normal;font-family:Menlo,'DejaVu Sans Mono',consolas,'Courier New',monospace\"><span style=\"color: #808000; text-decoration-color: #808000; font-weight: bold\">DeprecationWarning: Kernel._parent_header is deprecated in ipykernel 6. Use .get_parent()</span> \n",
       "<span style=\"color: #000000; text-decoration-color: #000000; font-weight: bold\">(raised from /mnt/data/work/repos/workshops/memes/env/lib/python3.9/site-packages/ipywidgets/</span>\n",
       "<span style=\"color: #000000; text-decoration-color: #000000; font-weight: bold\">widgets/widget_output.py:112)</span>\n",
       "</pre>\n"
      ],
      "text/plain": [
       "\u001b[1;33mDeprecationWarning: Kernel._parent_header is deprecated in ipykernel 6. Use .get_parent()\u001b[0m \n",
       "\u001b[1;30m(raised from /mnt/data/work/repos/workshops/memes/env/lib/python3.9/site-packages/ipywidgets/\u001b[0m\n",
       "\u001b[1;30mwidgets/widget_output.py:112)\u001b[0m\n"
      ]
     },
     "metadata": {},
     "output_type": "display_data"
    },
    {
     "data": {
      "text/html": [
       "<pre style=\"white-space:pre;overflow-x:auto;line-height:normal;font-family:Menlo,'DejaVu Sans Mono',consolas,'Courier New',monospace\"><span style=\"color: #808000; text-decoration-color: #808000; font-weight: bold\">DeprecationWarning: Kernel._parent_header is deprecated in ipykernel 6. Use .get_parent()</span> \n",
       "<span style=\"color: #000000; text-decoration-color: #000000; font-weight: bold\">(raised from /mnt/data/work/repos/workshops/memes/env/lib/python3.9/site-packages/ipywidgets/</span>\n",
       "<span style=\"color: #000000; text-decoration-color: #000000; font-weight: bold\">widgets/widget_output.py:111)</span>\n",
       "</pre>\n"
      ],
      "text/plain": [
       "\u001b[1;33mDeprecationWarning: Kernel._parent_header is deprecated in ipykernel 6. Use .get_parent()\u001b[0m \n",
       "\u001b[1;30m(raised from /mnt/data/work/repos/workshops/memes/env/lib/python3.9/site-packages/ipywidgets/\u001b[0m\n",
       "\u001b[1;30mwidgets/widget_output.py:111)\u001b[0m\n"
      ]
     },
     "metadata": {},
     "output_type": "display_data"
    },
    {
     "data": {
      "text/html": [
       "<pre style=\"white-space:pre;overflow-x:auto;line-height:normal;font-family:Menlo,'DejaVu Sans Mono',consolas,'Courier New',monospace\"><span style=\"color: #808000; text-decoration-color: #808000; font-weight: bold\">DeprecationWarning: Kernel._parent_header is deprecated in ipykernel 6. Use .get_parent()</span> \n",
       "<span style=\"color: #000000; text-decoration-color: #000000; font-weight: bold\">(raised from /mnt/data/work/repos/workshops/memes/env/lib/python3.9/site-packages/ipywidgets/</span>\n",
       "<span style=\"color: #000000; text-decoration-color: #000000; font-weight: bold\">widgets/widget_output.py:112)</span>\n",
       "</pre>\n"
      ],
      "text/plain": [
       "\u001b[1;33mDeprecationWarning: Kernel._parent_header is deprecated in ipykernel 6. Use .get_parent()\u001b[0m \n",
       "\u001b[1;30m(raised from /mnt/data/work/repos/workshops/memes/env/lib/python3.9/site-packages/ipywidgets/\u001b[0m\n",
       "\u001b[1;30mwidgets/widget_output.py:112)\u001b[0m\n"
      ]
     },
     "metadata": {},
     "output_type": "display_data"
    },
    {
     "data": {
      "text/html": [
       "<pre style=\"white-space:pre;overflow-x:auto;line-height:normal;font-family:Menlo,'DejaVu Sans Mono',consolas,'Courier New',monospace\"><span style=\"color: #808000; text-decoration-color: #808000; font-weight: bold\">DeprecationWarning: Kernel._parent_header is deprecated in ipykernel 6. Use .get_parent()</span> \n",
       "<span style=\"color: #000000; text-decoration-color: #000000; font-weight: bold\">(raised from /mnt/data/work/repos/workshops/memes/env/lib/python3.9/site-packages/ipywidgets/</span>\n",
       "<span style=\"color: #000000; text-decoration-color: #000000; font-weight: bold\">widgets/widget_output.py:111)</span>\n",
       "</pre>\n"
      ],
      "text/plain": [
       "\u001b[1;33mDeprecationWarning: Kernel._parent_header is deprecated in ipykernel 6. Use .get_parent()\u001b[0m \n",
       "\u001b[1;30m(raised from /mnt/data/work/repos/workshops/memes/env/lib/python3.9/site-packages/ipywidgets/\u001b[0m\n",
       "\u001b[1;30mwidgets/widget_output.py:111)\u001b[0m\n"
      ]
     },
     "metadata": {},
     "output_type": "display_data"
    },
    {
     "data": {
      "text/html": [
       "<pre style=\"white-space:pre;overflow-x:auto;line-height:normal;font-family:Menlo,'DejaVu Sans Mono',consolas,'Courier New',monospace\"><span style=\"color: #808000; text-decoration-color: #808000; font-weight: bold\">DeprecationWarning: Kernel._parent_header is deprecated in ipykernel 6. Use .get_parent()</span> \n",
       "<span style=\"color: #000000; text-decoration-color: #000000; font-weight: bold\">(raised from /mnt/data/work/repos/workshops/memes/env/lib/python3.9/site-packages/ipywidgets/</span>\n",
       "<span style=\"color: #000000; text-decoration-color: #000000; font-weight: bold\">widgets/widget_output.py:112)</span>\n",
       "</pre>\n"
      ],
      "text/plain": [
       "\u001b[1;33mDeprecationWarning: Kernel._parent_header is deprecated in ipykernel 6. Use .get_parent()\u001b[0m \n",
       "\u001b[1;30m(raised from /mnt/data/work/repos/workshops/memes/env/lib/python3.9/site-packages/ipywidgets/\u001b[0m\n",
       "\u001b[1;30mwidgets/widget_output.py:112)\u001b[0m\n"
      ]
     },
     "metadata": {},
     "output_type": "display_data"
    },
    {
     "data": {
      "text/html": [
       "<pre style=\"white-space:pre;overflow-x:auto;line-height:normal;font-family:Menlo,'DejaVu Sans Mono',consolas,'Courier New',monospace\"><span style=\"color: #808000; text-decoration-color: #808000; font-weight: bold\">DeprecationWarning: Kernel._parent_header is deprecated in ipykernel 6. Use .get_parent()</span> \n",
       "<span style=\"color: #000000; text-decoration-color: #000000; font-weight: bold\">(raised from /mnt/data/work/repos/workshops/memes/env/lib/python3.9/site-packages/ipywidgets/</span>\n",
       "<span style=\"color: #000000; text-decoration-color: #000000; font-weight: bold\">widgets/widget_output.py:111)</span>\n",
       "</pre>\n"
      ],
      "text/plain": [
       "\u001b[1;33mDeprecationWarning: Kernel._parent_header is deprecated in ipykernel 6. Use .get_parent()\u001b[0m \n",
       "\u001b[1;30m(raised from /mnt/data/work/repos/workshops/memes/env/lib/python3.9/site-packages/ipywidgets/\u001b[0m\n",
       "\u001b[1;30mwidgets/widget_output.py:111)\u001b[0m\n"
      ]
     },
     "metadata": {},
     "output_type": "display_data"
    },
    {
     "data": {
      "text/html": [
       "<pre style=\"white-space:pre;overflow-x:auto;line-height:normal;font-family:Menlo,'DejaVu Sans Mono',consolas,'Courier New',monospace\"><span style=\"color: #808000; text-decoration-color: #808000; font-weight: bold\">DeprecationWarning: Kernel._parent_header is deprecated in ipykernel 6. Use .get_parent()</span> \n",
       "<span style=\"color: #000000; text-decoration-color: #000000; font-weight: bold\">(raised from /mnt/data/work/repos/workshops/memes/env/lib/python3.9/site-packages/ipywidgets/</span>\n",
       "<span style=\"color: #000000; text-decoration-color: #000000; font-weight: bold\">widgets/widget_output.py:112)</span>\n",
       "</pre>\n"
      ],
      "text/plain": [
       "\u001b[1;33mDeprecationWarning: Kernel._parent_header is deprecated in ipykernel 6. Use .get_parent()\u001b[0m \n",
       "\u001b[1;30m(raised from /mnt/data/work/repos/workshops/memes/env/lib/python3.9/site-packages/ipywidgets/\u001b[0m\n",
       "\u001b[1;30mwidgets/widget_output.py:112)\u001b[0m\n"
      ]
     },
     "metadata": {},
     "output_type": "display_data"
    },
    {
     "data": {
      "text/html": [
       "<pre style=\"white-space:pre;overflow-x:auto;line-height:normal;font-family:Menlo,'DejaVu Sans Mono',consolas,'Courier New',monospace\"><span style=\"color: #808000; text-decoration-color: #808000; font-weight: bold\">DeprecationWarning: Kernel._parent_header is deprecated in ipykernel 6. Use .get_parent()</span> \n",
       "<span style=\"color: #000000; text-decoration-color: #000000; font-weight: bold\">(raised from /mnt/data/work/repos/workshops/memes/env/lib/python3.9/site-packages/ipywidgets/</span>\n",
       "<span style=\"color: #000000; text-decoration-color: #000000; font-weight: bold\">widgets/widget_output.py:111)</span>\n",
       "</pre>\n"
      ],
      "text/plain": [
       "\u001b[1;33mDeprecationWarning: Kernel._parent_header is deprecated in ipykernel 6. Use .get_parent()\u001b[0m \n",
       "\u001b[1;30m(raised from /mnt/data/work/repos/workshops/memes/env/lib/python3.9/site-packages/ipywidgets/\u001b[0m\n",
       "\u001b[1;30mwidgets/widget_output.py:111)\u001b[0m\n"
      ]
     },
     "metadata": {},
     "output_type": "display_data"
    },
    {
     "data": {
      "text/html": [
       "<pre style=\"white-space:pre;overflow-x:auto;line-height:normal;font-family:Menlo,'DejaVu Sans Mono',consolas,'Courier New',monospace\"><span style=\"color: #808000; text-decoration-color: #808000; font-weight: bold\">DeprecationWarning: Kernel._parent_header is deprecated in ipykernel 6. Use .get_parent()</span> \n",
       "<span style=\"color: #000000; text-decoration-color: #000000; font-weight: bold\">(raised from /mnt/data/work/repos/workshops/memes/env/lib/python3.9/site-packages/ipywidgets/</span>\n",
       "<span style=\"color: #000000; text-decoration-color: #000000; font-weight: bold\">widgets/widget_output.py:112)</span>\n",
       "</pre>\n"
      ],
      "text/plain": [
       "\u001b[1;33mDeprecationWarning: Kernel._parent_header is deprecated in ipykernel 6. Use .get_parent()\u001b[0m \n",
       "\u001b[1;30m(raised from /mnt/data/work/repos/workshops/memes/env/lib/python3.9/site-packages/ipywidgets/\u001b[0m\n",
       "\u001b[1;30mwidgets/widget_output.py:112)\u001b[0m\n"
      ]
     },
     "metadata": {},
     "output_type": "display_data"
    },
    {
     "data": {
      "text/html": [
       "<pre style=\"white-space:pre;overflow-x:auto;line-height:normal;font-family:Menlo,'DejaVu Sans Mono',consolas,'Courier New',monospace\"><span style=\"color: #808000; text-decoration-color: #808000; font-weight: bold\">DeprecationWarning: Kernel._parent_header is deprecated in ipykernel 6. Use .get_parent()</span> \n",
       "<span style=\"color: #000000; text-decoration-color: #000000; font-weight: bold\">(raised from /mnt/data/work/repos/workshops/memes/env/lib/python3.9/site-packages/ipywidgets/</span>\n",
       "<span style=\"color: #000000; text-decoration-color: #000000; font-weight: bold\">widgets/widget_output.py:111)</span>\n",
       "</pre>\n"
      ],
      "text/plain": [
       "\u001b[1;33mDeprecationWarning: Kernel._parent_header is deprecated in ipykernel 6. Use .get_parent()\u001b[0m \n",
       "\u001b[1;30m(raised from /mnt/data/work/repos/workshops/memes/env/lib/python3.9/site-packages/ipywidgets/\u001b[0m\n",
       "\u001b[1;30mwidgets/widget_output.py:111)\u001b[0m\n"
      ]
     },
     "metadata": {},
     "output_type": "display_data"
    },
    {
     "data": {
      "text/html": [
       "<pre style=\"white-space:pre;overflow-x:auto;line-height:normal;font-family:Menlo,'DejaVu Sans Mono',consolas,'Courier New',monospace\"><span style=\"color: #808000; text-decoration-color: #808000; font-weight: bold\">DeprecationWarning: Kernel._parent_header is deprecated in ipykernel 6. Use .get_parent()</span> \n",
       "<span style=\"color: #000000; text-decoration-color: #000000; font-weight: bold\">(raised from /mnt/data/work/repos/workshops/memes/env/lib/python3.9/site-packages/ipywidgets/</span>\n",
       "<span style=\"color: #000000; text-decoration-color: #000000; font-weight: bold\">widgets/widget_output.py:112)</span>\n",
       "</pre>\n"
      ],
      "text/plain": [
       "\u001b[1;33mDeprecationWarning: Kernel._parent_header is deprecated in ipykernel 6. Use .get_parent()\u001b[0m \n",
       "\u001b[1;30m(raised from /mnt/data/work/repos/workshops/memes/env/lib/python3.9/site-packages/ipywidgets/\u001b[0m\n",
       "\u001b[1;30mwidgets/widget_output.py:112)\u001b[0m\n"
      ]
     },
     "metadata": {},
     "output_type": "display_data"
    },
    {
     "data": {
      "text/html": [
       "<pre style=\"white-space:pre;overflow-x:auto;line-height:normal;font-family:Menlo,'DejaVu Sans Mono',consolas,'Courier New',monospace\"><span style=\"color: #808000; text-decoration-color: #808000; font-weight: bold\">DeprecationWarning: Kernel._parent_header is deprecated in ipykernel 6. Use .get_parent()</span> \n",
       "<span style=\"color: #000000; text-decoration-color: #000000; font-weight: bold\">(raised from /mnt/data/work/repos/workshops/memes/env/lib/python3.9/site-packages/ipywidgets/</span>\n",
       "<span style=\"color: #000000; text-decoration-color: #000000; font-weight: bold\">widgets/widget_output.py:111)</span>\n",
       "</pre>\n"
      ],
      "text/plain": [
       "\u001b[1;33mDeprecationWarning: Kernel._parent_header is deprecated in ipykernel 6. Use .get_parent()\u001b[0m \n",
       "\u001b[1;30m(raised from /mnt/data/work/repos/workshops/memes/env/lib/python3.9/site-packages/ipywidgets/\u001b[0m\n",
       "\u001b[1;30mwidgets/widget_output.py:111)\u001b[0m\n"
      ]
     },
     "metadata": {},
     "output_type": "display_data"
    },
    {
     "data": {
      "text/html": [
       "<pre style=\"white-space:pre;overflow-x:auto;line-height:normal;font-family:Menlo,'DejaVu Sans Mono',consolas,'Courier New',monospace\"><span style=\"color: #808000; text-decoration-color: #808000; font-weight: bold\">DeprecationWarning: Kernel._parent_header is deprecated in ipykernel 6. Use .get_parent()</span> \n",
       "<span style=\"color: #000000; text-decoration-color: #000000; font-weight: bold\">(raised from /mnt/data/work/repos/workshops/memes/env/lib/python3.9/site-packages/ipywidgets/</span>\n",
       "<span style=\"color: #000000; text-decoration-color: #000000; font-weight: bold\">widgets/widget_output.py:112)</span>\n",
       "</pre>\n"
      ],
      "text/plain": [
       "\u001b[1;33mDeprecationWarning: Kernel._parent_header is deprecated in ipykernel 6. Use .get_parent()\u001b[0m \n",
       "\u001b[1;30m(raised from /mnt/data/work/repos/workshops/memes/env/lib/python3.9/site-packages/ipywidgets/\u001b[0m\n",
       "\u001b[1;30mwidgets/widget_output.py:112)\u001b[0m\n"
      ]
     },
     "metadata": {},
     "output_type": "display_data"
    },
    {
     "data": {
      "text/html": [
       "<pre style=\"white-space:pre;overflow-x:auto;line-height:normal;font-family:Menlo,'DejaVu Sans Mono',consolas,'Courier New',monospace\"><span style=\"color: #808000; text-decoration-color: #808000; font-weight: bold\">DeprecationWarning: Kernel._parent_header is deprecated in ipykernel 6. Use .get_parent()</span> \n",
       "<span style=\"color: #000000; text-decoration-color: #000000; font-weight: bold\">(raised from /mnt/data/work/repos/workshops/memes/env/lib/python3.9/site-packages/ipywidgets/</span>\n",
       "<span style=\"color: #000000; text-decoration-color: #000000; font-weight: bold\">widgets/widget_output.py:111)</span>\n",
       "</pre>\n"
      ],
      "text/plain": [
       "\u001b[1;33mDeprecationWarning: Kernel._parent_header is deprecated in ipykernel 6. Use .get_parent()\u001b[0m \n",
       "\u001b[1;30m(raised from /mnt/data/work/repos/workshops/memes/env/lib/python3.9/site-packages/ipywidgets/\u001b[0m\n",
       "\u001b[1;30mwidgets/widget_output.py:111)\u001b[0m\n"
      ]
     },
     "metadata": {},
     "output_type": "display_data"
    },
    {
     "data": {
      "text/html": [
       "<pre style=\"white-space:pre;overflow-x:auto;line-height:normal;font-family:Menlo,'DejaVu Sans Mono',consolas,'Courier New',monospace\"><span style=\"color: #808000; text-decoration-color: #808000; font-weight: bold\">DeprecationWarning: Kernel._parent_header is deprecated in ipykernel 6. Use .get_parent()</span> \n",
       "<span style=\"color: #000000; text-decoration-color: #000000; font-weight: bold\">(raised from /mnt/data/work/repos/workshops/memes/env/lib/python3.9/site-packages/ipywidgets/</span>\n",
       "<span style=\"color: #000000; text-decoration-color: #000000; font-weight: bold\">widgets/widget_output.py:112)</span>\n",
       "</pre>\n"
      ],
      "text/plain": [
       "\u001b[1;33mDeprecationWarning: Kernel._parent_header is deprecated in ipykernel 6. Use .get_parent()\u001b[0m \n",
       "\u001b[1;30m(raised from /mnt/data/work/repos/workshops/memes/env/lib/python3.9/site-packages/ipywidgets/\u001b[0m\n",
       "\u001b[1;30mwidgets/widget_output.py:112)\u001b[0m\n"
      ]
     },
     "metadata": {},
     "output_type": "display_data"
    },
    {
     "data": {
      "text/html": [
       "<pre style=\"white-space:pre;overflow-x:auto;line-height:normal;font-family:Menlo,'DejaVu Sans Mono',consolas,'Courier New',monospace\"><span style=\"color: #808000; text-decoration-color: #808000; font-weight: bold\">DeprecationWarning: Kernel._parent_header is deprecated in ipykernel 6. Use .get_parent()</span> \n",
       "<span style=\"color: #000000; text-decoration-color: #000000; font-weight: bold\">(raised from /mnt/data/work/repos/workshops/memes/env/lib/python3.9/site-packages/ipywidgets/</span>\n",
       "<span style=\"color: #000000; text-decoration-color: #000000; font-weight: bold\">widgets/widget_output.py:111)</span>\n",
       "</pre>\n"
      ],
      "text/plain": [
       "\u001b[1;33mDeprecationWarning: Kernel._parent_header is deprecated in ipykernel 6. Use .get_parent()\u001b[0m \n",
       "\u001b[1;30m(raised from /mnt/data/work/repos/workshops/memes/env/lib/python3.9/site-packages/ipywidgets/\u001b[0m\n",
       "\u001b[1;30mwidgets/widget_output.py:111)\u001b[0m\n"
      ]
     },
     "metadata": {},
     "output_type": "display_data"
    },
    {
     "data": {
      "text/html": [
       "<pre style=\"white-space:pre;overflow-x:auto;line-height:normal;font-family:Menlo,'DejaVu Sans Mono',consolas,'Courier New',monospace\"><span style=\"color: #808000; text-decoration-color: #808000; font-weight: bold\">DeprecationWarning: Kernel._parent_header is deprecated in ipykernel 6. Use .get_parent()</span> \n",
       "<span style=\"color: #000000; text-decoration-color: #000000; font-weight: bold\">(raised from /mnt/data/work/repos/workshops/memes/env/lib/python3.9/site-packages/ipywidgets/</span>\n",
       "<span style=\"color: #000000; text-decoration-color: #000000; font-weight: bold\">widgets/widget_output.py:112)</span>\n",
       "</pre>\n"
      ],
      "text/plain": [
       "\u001b[1;33mDeprecationWarning: Kernel._parent_header is deprecated in ipykernel 6. Use .get_parent()\u001b[0m \n",
       "\u001b[1;30m(raised from /mnt/data/work/repos/workshops/memes/env/lib/python3.9/site-packages/ipywidgets/\u001b[0m\n",
       "\u001b[1;30mwidgets/widget_output.py:112)\u001b[0m\n"
      ]
     },
     "metadata": {},
     "output_type": "display_data"
    },
    {
     "data": {
      "text/html": [
       "<pre style=\"white-space:pre;overflow-x:auto;line-height:normal;font-family:Menlo,'DejaVu Sans Mono',consolas,'Courier New',monospace\"><span style=\"color: #808000; text-decoration-color: #808000; font-weight: bold\">DeprecationWarning: Kernel._parent_header is deprecated in ipykernel 6. Use .get_parent()</span> \n",
       "<span style=\"color: #000000; text-decoration-color: #000000; font-weight: bold\">(raised from /mnt/data/work/repos/workshops/memes/env/lib/python3.9/site-packages/ipywidgets/</span>\n",
       "<span style=\"color: #000000; text-decoration-color: #000000; font-weight: bold\">widgets/widget_output.py:111)</span>\n",
       "</pre>\n"
      ],
      "text/plain": [
       "\u001b[1;33mDeprecationWarning: Kernel._parent_header is deprecated in ipykernel 6. Use .get_parent()\u001b[0m \n",
       "\u001b[1;30m(raised from /mnt/data/work/repos/workshops/memes/env/lib/python3.9/site-packages/ipywidgets/\u001b[0m\n",
       "\u001b[1;30mwidgets/widget_output.py:111)\u001b[0m\n"
      ]
     },
     "metadata": {},
     "output_type": "display_data"
    },
    {
     "data": {
      "text/html": [
       "<pre style=\"white-space:pre;overflow-x:auto;line-height:normal;font-family:Menlo,'DejaVu Sans Mono',consolas,'Courier New',monospace\"><span style=\"color: #808000; text-decoration-color: #808000; font-weight: bold\">DeprecationWarning: Kernel._parent_header is deprecated in ipykernel 6. Use .get_parent()</span> \n",
       "<span style=\"color: #000000; text-decoration-color: #000000; font-weight: bold\">(raised from /mnt/data/work/repos/workshops/memes/env/lib/python3.9/site-packages/ipywidgets/</span>\n",
       "<span style=\"color: #000000; text-decoration-color: #000000; font-weight: bold\">widgets/widget_output.py:112)</span>\n",
       "</pre>\n"
      ],
      "text/plain": [
       "\u001b[1;33mDeprecationWarning: Kernel._parent_header is deprecated in ipykernel 6. Use .get_parent()\u001b[0m \n",
       "\u001b[1;30m(raised from /mnt/data/work/repos/workshops/memes/env/lib/python3.9/site-packages/ipywidgets/\u001b[0m\n",
       "\u001b[1;30mwidgets/widget_output.py:112)\u001b[0m\n"
      ]
     },
     "metadata": {},
     "output_type": "display_data"
    },
    {
     "data": {
      "text/html": [
       "<pre style=\"white-space:pre;overflow-x:auto;line-height:normal;font-family:Menlo,'DejaVu Sans Mono',consolas,'Courier New',monospace\"><span style=\"color: #808000; text-decoration-color: #808000; font-weight: bold\">DeprecationWarning: Kernel._parent_header is deprecated in ipykernel 6. Use .get_parent()</span> \n",
       "<span style=\"color: #000000; text-decoration-color: #000000; font-weight: bold\">(raised from /mnt/data/work/repos/workshops/memes/env/lib/python3.9/site-packages/ipywidgets/</span>\n",
       "<span style=\"color: #000000; text-decoration-color: #000000; font-weight: bold\">widgets/widget_output.py:111)</span>\n",
       "</pre>\n"
      ],
      "text/plain": [
       "\u001b[1;33mDeprecationWarning: Kernel._parent_header is deprecated in ipykernel 6. Use .get_parent()\u001b[0m \n",
       "\u001b[1;30m(raised from /mnt/data/work/repos/workshops/memes/env/lib/python3.9/site-packages/ipywidgets/\u001b[0m\n",
       "\u001b[1;30mwidgets/widget_output.py:111)\u001b[0m\n"
      ]
     },
     "metadata": {},
     "output_type": "display_data"
    },
    {
     "data": {
      "text/html": [
       "<pre style=\"white-space:pre;overflow-x:auto;line-height:normal;font-family:Menlo,'DejaVu Sans Mono',consolas,'Courier New',monospace\"><span style=\"color: #808000; text-decoration-color: #808000; font-weight: bold\">DeprecationWarning: Kernel._parent_header is deprecated in ipykernel 6. Use .get_parent()</span> \n",
       "<span style=\"color: #000000; text-decoration-color: #000000; font-weight: bold\">(raised from /mnt/data/work/repos/workshops/memes/env/lib/python3.9/site-packages/ipywidgets/</span>\n",
       "<span style=\"color: #000000; text-decoration-color: #000000; font-weight: bold\">widgets/widget_output.py:112)</span>\n",
       "</pre>\n"
      ],
      "text/plain": [
       "\u001b[1;33mDeprecationWarning: Kernel._parent_header is deprecated in ipykernel 6. Use .get_parent()\u001b[0m \n",
       "\u001b[1;30m(raised from /mnt/data/work/repos/workshops/memes/env/lib/python3.9/site-packages/ipywidgets/\u001b[0m\n",
       "\u001b[1;30mwidgets/widget_output.py:112)\u001b[0m\n"
      ]
     },
     "metadata": {},
     "output_type": "display_data"
    },
    {
     "data": {
      "text/html": [
       "<pre style=\"white-space:pre;overflow-x:auto;line-height:normal;font-family:Menlo,'DejaVu Sans Mono',consolas,'Courier New',monospace\"><span style=\"color: #808000; text-decoration-color: #808000; font-weight: bold\">DeprecationWarning: Kernel._parent_header is deprecated in ipykernel 6. Use .get_parent()</span> \n",
       "<span style=\"color: #000000; text-decoration-color: #000000; font-weight: bold\">(raised from /mnt/data/work/repos/workshops/memes/env/lib/python3.9/site-packages/ipywidgets/</span>\n",
       "<span style=\"color: #000000; text-decoration-color: #000000; font-weight: bold\">widgets/widget_output.py:111)</span>\n",
       "</pre>\n"
      ],
      "text/plain": [
       "\u001b[1;33mDeprecationWarning: Kernel._parent_header is deprecated in ipykernel 6. Use .get_parent()\u001b[0m \n",
       "\u001b[1;30m(raised from /mnt/data/work/repos/workshops/memes/env/lib/python3.9/site-packages/ipywidgets/\u001b[0m\n",
       "\u001b[1;30mwidgets/widget_output.py:111)\u001b[0m\n"
      ]
     },
     "metadata": {},
     "output_type": "display_data"
    },
    {
     "data": {
      "text/html": [
       "<pre style=\"white-space:pre;overflow-x:auto;line-height:normal;font-family:Menlo,'DejaVu Sans Mono',consolas,'Courier New',monospace\"><span style=\"color: #808000; text-decoration-color: #808000; font-weight: bold\">DeprecationWarning: Kernel._parent_header is deprecated in ipykernel 6. Use .get_parent()</span> \n",
       "<span style=\"color: #000000; text-decoration-color: #000000; font-weight: bold\">(raised from /mnt/data/work/repos/workshops/memes/env/lib/python3.9/site-packages/ipywidgets/</span>\n",
       "<span style=\"color: #000000; text-decoration-color: #000000; font-weight: bold\">widgets/widget_output.py:112)</span>\n",
       "</pre>\n"
      ],
      "text/plain": [
       "\u001b[1;33mDeprecationWarning: Kernel._parent_header is deprecated in ipykernel 6. Use .get_parent()\u001b[0m \n",
       "\u001b[1;30m(raised from /mnt/data/work/repos/workshops/memes/env/lib/python3.9/site-packages/ipywidgets/\u001b[0m\n",
       "\u001b[1;30mwidgets/widget_output.py:112)\u001b[0m\n"
      ]
     },
     "metadata": {},
     "output_type": "display_data"
    },
    {
     "data": {
      "text/html": [
       "<pre style=\"white-space:pre;overflow-x:auto;line-height:normal;font-family:Menlo,'DejaVu Sans Mono',consolas,'Courier New',monospace\"><span style=\"color: #808000; text-decoration-color: #808000; font-weight: bold\">DeprecationWarning: Kernel._parent_header is deprecated in ipykernel 6. Use .get_parent()</span> \n",
       "<span style=\"color: #000000; text-decoration-color: #000000; font-weight: bold\">(raised from /mnt/data/work/repos/workshops/memes/env/lib/python3.9/site-packages/ipywidgets/</span>\n",
       "<span style=\"color: #000000; text-decoration-color: #000000; font-weight: bold\">widgets/widget_output.py:111)</span>\n",
       "</pre>\n"
      ],
      "text/plain": [
       "\u001b[1;33mDeprecationWarning: Kernel._parent_header is deprecated in ipykernel 6. Use .get_parent()\u001b[0m \n",
       "\u001b[1;30m(raised from /mnt/data/work/repos/workshops/memes/env/lib/python3.9/site-packages/ipywidgets/\u001b[0m\n",
       "\u001b[1;30mwidgets/widget_output.py:111)\u001b[0m\n"
      ]
     },
     "metadata": {},
     "output_type": "display_data"
    },
    {
     "data": {
      "text/html": [
       "<pre style=\"white-space:pre;overflow-x:auto;line-height:normal;font-family:Menlo,'DejaVu Sans Mono',consolas,'Courier New',monospace\"><span style=\"color: #808000; text-decoration-color: #808000; font-weight: bold\">DeprecationWarning: Kernel._parent_header is deprecated in ipykernel 6. Use .get_parent()</span> \n",
       "<span style=\"color: #000000; text-decoration-color: #000000; font-weight: bold\">(raised from /mnt/data/work/repos/workshops/memes/env/lib/python3.9/site-packages/ipywidgets/</span>\n",
       "<span style=\"color: #000000; text-decoration-color: #000000; font-weight: bold\">widgets/widget_output.py:112)</span>\n",
       "</pre>\n"
      ],
      "text/plain": [
       "\u001b[1;33mDeprecationWarning: Kernel._parent_header is deprecated in ipykernel 6. Use .get_parent()\u001b[0m \n",
       "\u001b[1;30m(raised from /mnt/data/work/repos/workshops/memes/env/lib/python3.9/site-packages/ipywidgets/\u001b[0m\n",
       "\u001b[1;30mwidgets/widget_output.py:112)\u001b[0m\n"
      ]
     },
     "metadata": {},
     "output_type": "display_data"
    },
    {
     "data": {
      "text/html": [
       "<pre style=\"white-space:pre;overflow-x:auto;line-height:normal;font-family:Menlo,'DejaVu Sans Mono',consolas,'Courier New',monospace\"><span style=\"color: #808000; text-decoration-color: #808000; font-weight: bold\">DeprecationWarning: Kernel._parent_header is deprecated in ipykernel 6. Use .get_parent()</span> \n",
       "<span style=\"color: #000000; text-decoration-color: #000000; font-weight: bold\">(raised from /mnt/data/work/repos/workshops/memes/env/lib/python3.9/site-packages/ipywidgets/</span>\n",
       "<span style=\"color: #000000; text-decoration-color: #000000; font-weight: bold\">widgets/widget_output.py:111)</span>\n",
       "</pre>\n"
      ],
      "text/plain": [
       "\u001b[1;33mDeprecationWarning: Kernel._parent_header is deprecated in ipykernel 6. Use .get_parent()\u001b[0m \n",
       "\u001b[1;30m(raised from /mnt/data/work/repos/workshops/memes/env/lib/python3.9/site-packages/ipywidgets/\u001b[0m\n",
       "\u001b[1;30mwidgets/widget_output.py:111)\u001b[0m\n"
      ]
     },
     "metadata": {},
     "output_type": "display_data"
    },
    {
     "data": {
      "text/html": [
       "<pre style=\"white-space:pre;overflow-x:auto;line-height:normal;font-family:Menlo,'DejaVu Sans Mono',consolas,'Courier New',monospace\"><span style=\"color: #808000; text-decoration-color: #808000; font-weight: bold\">DeprecationWarning: Kernel._parent_header is deprecated in ipykernel 6. Use .get_parent()</span> \n",
       "<span style=\"color: #000000; text-decoration-color: #000000; font-weight: bold\">(raised from /mnt/data/work/repos/workshops/memes/env/lib/python3.9/site-packages/ipywidgets/</span>\n",
       "<span style=\"color: #000000; text-decoration-color: #000000; font-weight: bold\">widgets/widget_output.py:112)</span>\n",
       "</pre>\n"
      ],
      "text/plain": [
       "\u001b[1;33mDeprecationWarning: Kernel._parent_header is deprecated in ipykernel 6. Use .get_parent()\u001b[0m \n",
       "\u001b[1;30m(raised from /mnt/data/work/repos/workshops/memes/env/lib/python3.9/site-packages/ipywidgets/\u001b[0m\n",
       "\u001b[1;30mwidgets/widget_output.py:112)\u001b[0m\n"
      ]
     },
     "metadata": {},
     "output_type": "display_data"
    },
    {
     "data": {
      "text/html": [
       "<pre style=\"white-space:pre;overflow-x:auto;line-height:normal;font-family:Menlo,'DejaVu Sans Mono',consolas,'Courier New',monospace\"><span style=\"color: #808000; text-decoration-color: #808000; font-weight: bold\">DeprecationWarning: Kernel._parent_header is deprecated in ipykernel 6. Use .get_parent()</span> \n",
       "<span style=\"color: #000000; text-decoration-color: #000000; font-weight: bold\">(raised from /mnt/data/work/repos/workshops/memes/env/lib/python3.9/site-packages/ipywidgets/</span>\n",
       "<span style=\"color: #000000; text-decoration-color: #000000; font-weight: bold\">widgets/widget_output.py:111)</span>\n",
       "</pre>\n"
      ],
      "text/plain": [
       "\u001b[1;33mDeprecationWarning: Kernel._parent_header is deprecated in ipykernel 6. Use .get_parent()\u001b[0m \n",
       "\u001b[1;30m(raised from /mnt/data/work/repos/workshops/memes/env/lib/python3.9/site-packages/ipywidgets/\u001b[0m\n",
       "\u001b[1;30mwidgets/widget_output.py:111)\u001b[0m\n"
      ]
     },
     "metadata": {},
     "output_type": "display_data"
    },
    {
     "data": {
      "text/html": [
       "<pre style=\"white-space:pre;overflow-x:auto;line-height:normal;font-family:Menlo,'DejaVu Sans Mono',consolas,'Courier New',monospace\"><span style=\"color: #808000; text-decoration-color: #808000; font-weight: bold\">DeprecationWarning: Kernel._parent_header is deprecated in ipykernel 6. Use .get_parent()</span> \n",
       "<span style=\"color: #000000; text-decoration-color: #000000; font-weight: bold\">(raised from /mnt/data/work/repos/workshops/memes/env/lib/python3.9/site-packages/ipywidgets/</span>\n",
       "<span style=\"color: #000000; text-decoration-color: #000000; font-weight: bold\">widgets/widget_output.py:112)</span>\n",
       "</pre>\n"
      ],
      "text/plain": [
       "\u001b[1;33mDeprecationWarning: Kernel._parent_header is deprecated in ipykernel 6. Use .get_parent()\u001b[0m \n",
       "\u001b[1;30m(raised from /mnt/data/work/repos/workshops/memes/env/lib/python3.9/site-packages/ipywidgets/\u001b[0m\n",
       "\u001b[1;30mwidgets/widget_output.py:112)\u001b[0m\n"
      ]
     },
     "metadata": {},
     "output_type": "display_data"
    },
    {
     "data": {
      "text/html": [
       "<pre style=\"white-space:pre;overflow-x:auto;line-height:normal;font-family:Menlo,'DejaVu Sans Mono',consolas,'Courier New',monospace\"><span style=\"color: #808000; text-decoration-color: #808000; font-weight: bold\">DeprecationWarning: Kernel._parent_header is deprecated in ipykernel 6. Use .get_parent()</span> \n",
       "<span style=\"color: #000000; text-decoration-color: #000000; font-weight: bold\">(raised from /mnt/data/work/repos/workshops/memes/env/lib/python3.9/site-packages/ipywidgets/</span>\n",
       "<span style=\"color: #000000; text-decoration-color: #000000; font-weight: bold\">widgets/widget_output.py:111)</span>\n",
       "</pre>\n"
      ],
      "text/plain": [
       "\u001b[1;33mDeprecationWarning: Kernel._parent_header is deprecated in ipykernel 6. Use .get_parent()\u001b[0m \n",
       "\u001b[1;30m(raised from /mnt/data/work/repos/workshops/memes/env/lib/python3.9/site-packages/ipywidgets/\u001b[0m\n",
       "\u001b[1;30mwidgets/widget_output.py:111)\u001b[0m\n"
      ]
     },
     "metadata": {},
     "output_type": "display_data"
    },
    {
     "data": {
      "text/html": [
       "<pre style=\"white-space:pre;overflow-x:auto;line-height:normal;font-family:Menlo,'DejaVu Sans Mono',consolas,'Courier New',monospace\"><span style=\"color: #808000; text-decoration-color: #808000; font-weight: bold\">DeprecationWarning: Kernel._parent_header is deprecated in ipykernel 6. Use .get_parent()</span> \n",
       "<span style=\"color: #000000; text-decoration-color: #000000; font-weight: bold\">(raised from /mnt/data/work/repos/workshops/memes/env/lib/python3.9/site-packages/ipywidgets/</span>\n",
       "<span style=\"color: #000000; text-decoration-color: #000000; font-weight: bold\">widgets/widget_output.py:112)</span>\n",
       "</pre>\n"
      ],
      "text/plain": [
       "\u001b[1;33mDeprecationWarning: Kernel._parent_header is deprecated in ipykernel 6. Use .get_parent()\u001b[0m \n",
       "\u001b[1;30m(raised from /mnt/data/work/repos/workshops/memes/env/lib/python3.9/site-packages/ipywidgets/\u001b[0m\n",
       "\u001b[1;30mwidgets/widget_output.py:112)\u001b[0m\n"
      ]
     },
     "metadata": {},
     "output_type": "display_data"
    },
    {
     "data": {
      "text/html": [
       "<pre style=\"white-space:pre;overflow-x:auto;line-height:normal;font-family:Menlo,'DejaVu Sans Mono',consolas,'Courier New',monospace\"><span style=\"color: #808000; text-decoration-color: #808000; font-weight: bold\">DeprecationWarning: Kernel._parent_header is deprecated in ipykernel 6. Use .get_parent()</span> \n",
       "<span style=\"color: #000000; text-decoration-color: #000000; font-weight: bold\">(raised from /mnt/data/work/repos/workshops/memes/env/lib/python3.9/site-packages/ipywidgets/</span>\n",
       "<span style=\"color: #000000; text-decoration-color: #000000; font-weight: bold\">widgets/widget_output.py:111)</span>\n",
       "</pre>\n"
      ],
      "text/plain": [
       "\u001b[1;33mDeprecationWarning: Kernel._parent_header is deprecated in ipykernel 6. Use .get_parent()\u001b[0m \n",
       "\u001b[1;30m(raised from /mnt/data/work/repos/workshops/memes/env/lib/python3.9/site-packages/ipywidgets/\u001b[0m\n",
       "\u001b[1;30mwidgets/widget_output.py:111)\u001b[0m\n"
      ]
     },
     "metadata": {},
     "output_type": "display_data"
    },
    {
     "data": {
      "text/html": [
       "<pre style=\"white-space:pre;overflow-x:auto;line-height:normal;font-family:Menlo,'DejaVu Sans Mono',consolas,'Courier New',monospace\"><span style=\"color: #808000; text-decoration-color: #808000; font-weight: bold\">DeprecationWarning: Kernel._parent_header is deprecated in ipykernel 6. Use .get_parent()</span> \n",
       "<span style=\"color: #000000; text-decoration-color: #000000; font-weight: bold\">(raised from /mnt/data/work/repos/workshops/memes/env/lib/python3.9/site-packages/ipywidgets/</span>\n",
       "<span style=\"color: #000000; text-decoration-color: #000000; font-weight: bold\">widgets/widget_output.py:112)</span>\n",
       "</pre>\n"
      ],
      "text/plain": [
       "\u001b[1;33mDeprecationWarning: Kernel._parent_header is deprecated in ipykernel 6. Use .get_parent()\u001b[0m \n",
       "\u001b[1;30m(raised from /mnt/data/work/repos/workshops/memes/env/lib/python3.9/site-packages/ipywidgets/\u001b[0m\n",
       "\u001b[1;30mwidgets/widget_output.py:112)\u001b[0m\n"
      ]
     },
     "metadata": {},
     "output_type": "display_data"
    },
    {
     "data": {
      "text/html": [
       "<pre style=\"white-space:pre;overflow-x:auto;line-height:normal;font-family:Menlo,'DejaVu Sans Mono',consolas,'Courier New',monospace\"><span style=\"color: #808000; text-decoration-color: #808000; font-weight: bold\">DeprecationWarning: Kernel._parent_header is deprecated in ipykernel 6. Use .get_parent()</span> \n",
       "<span style=\"color: #000000; text-decoration-color: #000000; font-weight: bold\">(raised from /mnt/data/work/repos/workshops/memes/env/lib/python3.9/site-packages/ipywidgets/</span>\n",
       "<span style=\"color: #000000; text-decoration-color: #000000; font-weight: bold\">widgets/widget_output.py:111)</span>\n",
       "</pre>\n"
      ],
      "text/plain": [
       "\u001b[1;33mDeprecationWarning: Kernel._parent_header is deprecated in ipykernel 6. Use .get_parent()\u001b[0m \n",
       "\u001b[1;30m(raised from /mnt/data/work/repos/workshops/memes/env/lib/python3.9/site-packages/ipywidgets/\u001b[0m\n",
       "\u001b[1;30mwidgets/widget_output.py:111)\u001b[0m\n"
      ]
     },
     "metadata": {},
     "output_type": "display_data"
    },
    {
     "data": {
      "text/html": [
       "<pre style=\"white-space:pre;overflow-x:auto;line-height:normal;font-family:Menlo,'DejaVu Sans Mono',consolas,'Courier New',monospace\"><span style=\"color: #808000; text-decoration-color: #808000; font-weight: bold\">DeprecationWarning: Kernel._parent_header is deprecated in ipykernel 6. Use .get_parent()</span> \n",
       "<span style=\"color: #000000; text-decoration-color: #000000; font-weight: bold\">(raised from /mnt/data/work/repos/workshops/memes/env/lib/python3.9/site-packages/ipywidgets/</span>\n",
       "<span style=\"color: #000000; text-decoration-color: #000000; font-weight: bold\">widgets/widget_output.py:112)</span>\n",
       "</pre>\n"
      ],
      "text/plain": [
       "\u001b[1;33mDeprecationWarning: Kernel._parent_header is deprecated in ipykernel 6. Use .get_parent()\u001b[0m \n",
       "\u001b[1;30m(raised from /mnt/data/work/repos/workshops/memes/env/lib/python3.9/site-packages/ipywidgets/\u001b[0m\n",
       "\u001b[1;30mwidgets/widget_output.py:112)\u001b[0m\n"
      ]
     },
     "metadata": {},
     "output_type": "display_data"
    },
    {
     "data": {
      "text/html": [
       "<pre style=\"white-space:pre;overflow-x:auto;line-height:normal;font-family:Menlo,'DejaVu Sans Mono',consolas,'Courier New',monospace\"><span style=\"color: #808000; text-decoration-color: #808000; font-weight: bold\">DeprecationWarning: Kernel._parent_header is deprecated in ipykernel 6. Use .get_parent()</span> \n",
       "<span style=\"color: #000000; text-decoration-color: #000000; font-weight: bold\">(raised from /mnt/data/work/repos/workshops/memes/env/lib/python3.9/site-packages/ipywidgets/</span>\n",
       "<span style=\"color: #000000; text-decoration-color: #000000; font-weight: bold\">widgets/widget_output.py:111)</span>\n",
       "</pre>\n"
      ],
      "text/plain": [
       "\u001b[1;33mDeprecationWarning: Kernel._parent_header is deprecated in ipykernel 6. Use .get_parent()\u001b[0m \n",
       "\u001b[1;30m(raised from /mnt/data/work/repos/workshops/memes/env/lib/python3.9/site-packages/ipywidgets/\u001b[0m\n",
       "\u001b[1;30mwidgets/widget_output.py:111)\u001b[0m\n"
      ]
     },
     "metadata": {},
     "output_type": "display_data"
    },
    {
     "data": {
      "text/html": [
       "<pre style=\"white-space:pre;overflow-x:auto;line-height:normal;font-family:Menlo,'DejaVu Sans Mono',consolas,'Courier New',monospace\"><span style=\"color: #808000; text-decoration-color: #808000; font-weight: bold\">DeprecationWarning: Kernel._parent_header is deprecated in ipykernel 6. Use .get_parent()</span> \n",
       "<span style=\"color: #000000; text-decoration-color: #000000; font-weight: bold\">(raised from /mnt/data/work/repos/workshops/memes/env/lib/python3.9/site-packages/ipywidgets/</span>\n",
       "<span style=\"color: #000000; text-decoration-color: #000000; font-weight: bold\">widgets/widget_output.py:112)</span>\n",
       "</pre>\n"
      ],
      "text/plain": [
       "\u001b[1;33mDeprecationWarning: Kernel._parent_header is deprecated in ipykernel 6. Use .get_parent()\u001b[0m \n",
       "\u001b[1;30m(raised from /mnt/data/work/repos/workshops/memes/env/lib/python3.9/site-packages/ipywidgets/\u001b[0m\n",
       "\u001b[1;30mwidgets/widget_output.py:112)\u001b[0m\n"
      ]
     },
     "metadata": {},
     "output_type": "display_data"
    },
    {
     "data": {
      "text/html": [
       "<pre style=\"white-space:pre;overflow-x:auto;line-height:normal;font-family:Menlo,'DejaVu Sans Mono',consolas,'Courier New',monospace\"><span style=\"color: #808000; text-decoration-color: #808000; font-weight: bold\">DeprecationWarning: Kernel._parent_header is deprecated in ipykernel 6. Use .get_parent()</span> \n",
       "<span style=\"color: #000000; text-decoration-color: #000000; font-weight: bold\">(raised from /mnt/data/work/repos/workshops/memes/env/lib/python3.9/site-packages/ipywidgets/</span>\n",
       "<span style=\"color: #000000; text-decoration-color: #000000; font-weight: bold\">widgets/widget_output.py:111)</span>\n",
       "</pre>\n"
      ],
      "text/plain": [
       "\u001b[1;33mDeprecationWarning: Kernel._parent_header is deprecated in ipykernel 6. Use .get_parent()\u001b[0m \n",
       "\u001b[1;30m(raised from /mnt/data/work/repos/workshops/memes/env/lib/python3.9/site-packages/ipywidgets/\u001b[0m\n",
       "\u001b[1;30mwidgets/widget_output.py:111)\u001b[0m\n"
      ]
     },
     "metadata": {},
     "output_type": "display_data"
    },
    {
     "data": {
      "text/html": [
       "<pre style=\"white-space:pre;overflow-x:auto;line-height:normal;font-family:Menlo,'DejaVu Sans Mono',consolas,'Courier New',monospace\"><span style=\"color: #808000; text-decoration-color: #808000; font-weight: bold\">DeprecationWarning: Kernel._parent_header is deprecated in ipykernel 6. Use .get_parent()</span> \n",
       "<span style=\"color: #000000; text-decoration-color: #000000; font-weight: bold\">(raised from /mnt/data/work/repos/workshops/memes/env/lib/python3.9/site-packages/ipywidgets/</span>\n",
       "<span style=\"color: #000000; text-decoration-color: #000000; font-weight: bold\">widgets/widget_output.py:112)</span>\n",
       "</pre>\n"
      ],
      "text/plain": [
       "\u001b[1;33mDeprecationWarning: Kernel._parent_header is deprecated in ipykernel 6. Use .get_parent()\u001b[0m \n",
       "\u001b[1;30m(raised from /mnt/data/work/repos/workshops/memes/env/lib/python3.9/site-packages/ipywidgets/\u001b[0m\n",
       "\u001b[1;30mwidgets/widget_output.py:112)\u001b[0m\n"
      ]
     },
     "metadata": {},
     "output_type": "display_data"
    },
    {
     "data": {
      "text/html": [
       "<pre style=\"white-space:pre;overflow-x:auto;line-height:normal;font-family:Menlo,'DejaVu Sans Mono',consolas,'Courier New',monospace\"><span style=\"color: #808000; text-decoration-color: #808000; font-weight: bold\">DeprecationWarning: Kernel._parent_header is deprecated in ipykernel 6. Use .get_parent()</span> \n",
       "<span style=\"color: #000000; text-decoration-color: #000000; font-weight: bold\">(raised from /mnt/data/work/repos/workshops/memes/env/lib/python3.9/site-packages/ipywidgets/</span>\n",
       "<span style=\"color: #000000; text-decoration-color: #000000; font-weight: bold\">widgets/widget_output.py:111)</span>\n",
       "</pre>\n"
      ],
      "text/plain": [
       "\u001b[1;33mDeprecationWarning: Kernel._parent_header is deprecated in ipykernel 6. Use .get_parent()\u001b[0m \n",
       "\u001b[1;30m(raised from /mnt/data/work/repos/workshops/memes/env/lib/python3.9/site-packages/ipywidgets/\u001b[0m\n",
       "\u001b[1;30mwidgets/widget_output.py:111)\u001b[0m\n"
      ]
     },
     "metadata": {},
     "output_type": "display_data"
    },
    {
     "data": {
      "text/html": [
       "<pre style=\"white-space:pre;overflow-x:auto;line-height:normal;font-family:Menlo,'DejaVu Sans Mono',consolas,'Courier New',monospace\"><span style=\"color: #808000; text-decoration-color: #808000; font-weight: bold\">DeprecationWarning: Kernel._parent_header is deprecated in ipykernel 6. Use .get_parent()</span> \n",
       "<span style=\"color: #000000; text-decoration-color: #000000; font-weight: bold\">(raised from /mnt/data/work/repos/workshops/memes/env/lib/python3.9/site-packages/ipywidgets/</span>\n",
       "<span style=\"color: #000000; text-decoration-color: #000000; font-weight: bold\">widgets/widget_output.py:112)</span>\n",
       "</pre>\n"
      ],
      "text/plain": [
       "\u001b[1;33mDeprecationWarning: Kernel._parent_header is deprecated in ipykernel 6. Use .get_parent()\u001b[0m \n",
       "\u001b[1;30m(raised from /mnt/data/work/repos/workshops/memes/env/lib/python3.9/site-packages/ipywidgets/\u001b[0m\n",
       "\u001b[1;30mwidgets/widget_output.py:112)\u001b[0m\n"
      ]
     },
     "metadata": {},
     "output_type": "display_data"
    },
    {
     "data": {
      "text/html": [
       "<pre style=\"white-space:pre;overflow-x:auto;line-height:normal;font-family:Menlo,'DejaVu Sans Mono',consolas,'Courier New',monospace\"><span style=\"color: #808000; text-decoration-color: #808000; font-weight: bold\">DeprecationWarning: Kernel._parent_header is deprecated in ipykernel 6. Use .get_parent()</span> \n",
       "<span style=\"color: #000000; text-decoration-color: #000000; font-weight: bold\">(raised from /mnt/data/work/repos/workshops/memes/env/lib/python3.9/site-packages/ipywidgets/</span>\n",
       "<span style=\"color: #000000; text-decoration-color: #000000; font-weight: bold\">widgets/widget_output.py:111)</span>\n",
       "</pre>\n"
      ],
      "text/plain": [
       "\u001b[1;33mDeprecationWarning: Kernel._parent_header is deprecated in ipykernel 6. Use .get_parent()\u001b[0m \n",
       "\u001b[1;30m(raised from /mnt/data/work/repos/workshops/memes/env/lib/python3.9/site-packages/ipywidgets/\u001b[0m\n",
       "\u001b[1;30mwidgets/widget_output.py:111)\u001b[0m\n"
      ]
     },
     "metadata": {},
     "output_type": "display_data"
    },
    {
     "data": {
      "text/html": [
       "<pre style=\"white-space:pre;overflow-x:auto;line-height:normal;font-family:Menlo,'DejaVu Sans Mono',consolas,'Courier New',monospace\"><span style=\"color: #808000; text-decoration-color: #808000; font-weight: bold\">DeprecationWarning: Kernel._parent_header is deprecated in ipykernel 6. Use .get_parent()</span> \n",
       "<span style=\"color: #000000; text-decoration-color: #000000; font-weight: bold\">(raised from /mnt/data/work/repos/workshops/memes/env/lib/python3.9/site-packages/ipywidgets/</span>\n",
       "<span style=\"color: #000000; text-decoration-color: #000000; font-weight: bold\">widgets/widget_output.py:112)</span>\n",
       "</pre>\n"
      ],
      "text/plain": [
       "\u001b[1;33mDeprecationWarning: Kernel._parent_header is deprecated in ipykernel 6. Use .get_parent()\u001b[0m \n",
       "\u001b[1;30m(raised from /mnt/data/work/repos/workshops/memes/env/lib/python3.9/site-packages/ipywidgets/\u001b[0m\n",
       "\u001b[1;30mwidgets/widget_output.py:112)\u001b[0m\n"
      ]
     },
     "metadata": {},
     "output_type": "display_data"
    },
    {
     "data": {
      "text/html": [
       "<pre style=\"white-space:pre;overflow-x:auto;line-height:normal;font-family:Menlo,'DejaVu Sans Mono',consolas,'Courier New',monospace\"><span style=\"color: #808000; text-decoration-color: #808000; font-weight: bold\">DeprecationWarning: Kernel._parent_header is deprecated in ipykernel 6. Use .get_parent()</span> \n",
       "<span style=\"color: #000000; text-decoration-color: #000000; font-weight: bold\">(raised from /mnt/data/work/repos/workshops/memes/env/lib/python3.9/site-packages/ipywidgets/</span>\n",
       "<span style=\"color: #000000; text-decoration-color: #000000; font-weight: bold\">widgets/widget_output.py:111)</span>\n",
       "</pre>\n"
      ],
      "text/plain": [
       "\u001b[1;33mDeprecationWarning: Kernel._parent_header is deprecated in ipykernel 6. Use .get_parent()\u001b[0m \n",
       "\u001b[1;30m(raised from /mnt/data/work/repos/workshops/memes/env/lib/python3.9/site-packages/ipywidgets/\u001b[0m\n",
       "\u001b[1;30mwidgets/widget_output.py:111)\u001b[0m\n"
      ]
     },
     "metadata": {},
     "output_type": "display_data"
    },
    {
     "data": {
      "text/html": [
       "<pre style=\"white-space:pre;overflow-x:auto;line-height:normal;font-family:Menlo,'DejaVu Sans Mono',consolas,'Courier New',monospace\"><span style=\"color: #808000; text-decoration-color: #808000; font-weight: bold\">DeprecationWarning: Kernel._parent_header is deprecated in ipykernel 6. Use .get_parent()</span> \n",
       "<span style=\"color: #000000; text-decoration-color: #000000; font-weight: bold\">(raised from /mnt/data/work/repos/workshops/memes/env/lib/python3.9/site-packages/ipywidgets/</span>\n",
       "<span style=\"color: #000000; text-decoration-color: #000000; font-weight: bold\">widgets/widget_output.py:112)</span>\n",
       "</pre>\n"
      ],
      "text/plain": [
       "\u001b[1;33mDeprecationWarning: Kernel._parent_header is deprecated in ipykernel 6. Use .get_parent()\u001b[0m \n",
       "\u001b[1;30m(raised from /mnt/data/work/repos/workshops/memes/env/lib/python3.9/site-packages/ipywidgets/\u001b[0m\n",
       "\u001b[1;30mwidgets/widget_output.py:112)\u001b[0m\n"
      ]
     },
     "metadata": {},
     "output_type": "display_data"
    },
    {
     "data": {
      "text/html": [
       "<pre style=\"white-space:pre;overflow-x:auto;line-height:normal;font-family:Menlo,'DejaVu Sans Mono',consolas,'Courier New',monospace\"><span style=\"color: #808000; text-decoration-color: #808000; font-weight: bold\">DeprecationWarning: Kernel._parent_header is deprecated in ipykernel 6. Use .get_parent()</span> \n",
       "<span style=\"color: #000000; text-decoration-color: #000000; font-weight: bold\">(raised from /mnt/data/work/repos/workshops/memes/env/lib/python3.9/site-packages/ipywidgets/</span>\n",
       "<span style=\"color: #000000; text-decoration-color: #000000; font-weight: bold\">widgets/widget_output.py:111)</span>\n",
       "</pre>\n"
      ],
      "text/plain": [
       "\u001b[1;33mDeprecationWarning: Kernel._parent_header is deprecated in ipykernel 6. Use .get_parent()\u001b[0m \n",
       "\u001b[1;30m(raised from /mnt/data/work/repos/workshops/memes/env/lib/python3.9/site-packages/ipywidgets/\u001b[0m\n",
       "\u001b[1;30mwidgets/widget_output.py:111)\u001b[0m\n"
      ]
     },
     "metadata": {},
     "output_type": "display_data"
    },
    {
     "data": {
      "text/html": [
       "<pre style=\"white-space:pre;overflow-x:auto;line-height:normal;font-family:Menlo,'DejaVu Sans Mono',consolas,'Courier New',monospace\"><span style=\"color: #808000; text-decoration-color: #808000; font-weight: bold\">DeprecationWarning: Kernel._parent_header is deprecated in ipykernel 6. Use .get_parent()</span> \n",
       "<span style=\"color: #000000; text-decoration-color: #000000; font-weight: bold\">(raised from /mnt/data/work/repos/workshops/memes/env/lib/python3.9/site-packages/ipywidgets/</span>\n",
       "<span style=\"color: #000000; text-decoration-color: #000000; font-weight: bold\">widgets/widget_output.py:112)</span>\n",
       "</pre>\n"
      ],
      "text/plain": [
       "\u001b[1;33mDeprecationWarning: Kernel._parent_header is deprecated in ipykernel 6. Use .get_parent()\u001b[0m \n",
       "\u001b[1;30m(raised from /mnt/data/work/repos/workshops/memes/env/lib/python3.9/site-packages/ipywidgets/\u001b[0m\n",
       "\u001b[1;30mwidgets/widget_output.py:112)\u001b[0m\n"
      ]
     },
     "metadata": {},
     "output_type": "display_data"
    },
    {
     "data": {
      "text/html": [
       "<pre style=\"white-space:pre;overflow-x:auto;line-height:normal;font-family:Menlo,'DejaVu Sans Mono',consolas,'Courier New',monospace\"><span style=\"color: #808000; text-decoration-color: #808000; font-weight: bold\">DeprecationWarning: Kernel._parent_header is deprecated in ipykernel 6. Use .get_parent()</span> \n",
       "<span style=\"color: #000000; text-decoration-color: #000000; font-weight: bold\">(raised from /mnt/data/work/repos/workshops/memes/env/lib/python3.9/site-packages/ipywidgets/</span>\n",
       "<span style=\"color: #000000; text-decoration-color: #000000; font-weight: bold\">widgets/widget_output.py:111)</span>\n",
       "</pre>\n"
      ],
      "text/plain": [
       "\u001b[1;33mDeprecationWarning: Kernel._parent_header is deprecated in ipykernel 6. Use .get_parent()\u001b[0m \n",
       "\u001b[1;30m(raised from /mnt/data/work/repos/workshops/memes/env/lib/python3.9/site-packages/ipywidgets/\u001b[0m\n",
       "\u001b[1;30mwidgets/widget_output.py:111)\u001b[0m\n"
      ]
     },
     "metadata": {},
     "output_type": "display_data"
    },
    {
     "data": {
      "text/html": [
       "<pre style=\"white-space:pre;overflow-x:auto;line-height:normal;font-family:Menlo,'DejaVu Sans Mono',consolas,'Courier New',monospace\"><span style=\"color: #808000; text-decoration-color: #808000; font-weight: bold\">DeprecationWarning: Kernel._parent_header is deprecated in ipykernel 6. Use .get_parent()</span> \n",
       "<span style=\"color: #000000; text-decoration-color: #000000; font-weight: bold\">(raised from /mnt/data/work/repos/workshops/memes/env/lib/python3.9/site-packages/ipywidgets/</span>\n",
       "<span style=\"color: #000000; text-decoration-color: #000000; font-weight: bold\">widgets/widget_output.py:112)</span>\n",
       "</pre>\n"
      ],
      "text/plain": [
       "\u001b[1;33mDeprecationWarning: Kernel._parent_header is deprecated in ipykernel 6. Use .get_parent()\u001b[0m \n",
       "\u001b[1;30m(raised from /mnt/data/work/repos/workshops/memes/env/lib/python3.9/site-packages/ipywidgets/\u001b[0m\n",
       "\u001b[1;30mwidgets/widget_output.py:112)\u001b[0m\n"
      ]
     },
     "metadata": {},
     "output_type": "display_data"
    },
    {
     "data": {
      "text/html": [
       "<pre style=\"white-space:pre;overflow-x:auto;line-height:normal;font-family:Menlo,'DejaVu Sans Mono',consolas,'Courier New',monospace\"><span style=\"color: #808000; text-decoration-color: #808000; font-weight: bold\">DeprecationWarning: Kernel._parent_header is deprecated in ipykernel 6. Use .get_parent()</span> \n",
       "<span style=\"color: #000000; text-decoration-color: #000000; font-weight: bold\">(raised from /mnt/data/work/repos/workshops/memes/env/lib/python3.9/site-packages/ipywidgets/</span>\n",
       "<span style=\"color: #000000; text-decoration-color: #000000; font-weight: bold\">widgets/widget_output.py:111)</span>\n",
       "</pre>\n"
      ],
      "text/plain": [
       "\u001b[1;33mDeprecationWarning: Kernel._parent_header is deprecated in ipykernel 6. Use .get_parent()\u001b[0m \n",
       "\u001b[1;30m(raised from /mnt/data/work/repos/workshops/memes/env/lib/python3.9/site-packages/ipywidgets/\u001b[0m\n",
       "\u001b[1;30mwidgets/widget_output.py:111)\u001b[0m\n"
      ]
     },
     "metadata": {},
     "output_type": "display_data"
    },
    {
     "data": {
      "text/html": [
       "<pre style=\"white-space:pre;overflow-x:auto;line-height:normal;font-family:Menlo,'DejaVu Sans Mono',consolas,'Courier New',monospace\"><span style=\"color: #808000; text-decoration-color: #808000; font-weight: bold\">DeprecationWarning: Kernel._parent_header is deprecated in ipykernel 6. Use .get_parent()</span> \n",
       "<span style=\"color: #000000; text-decoration-color: #000000; font-weight: bold\">(raised from /mnt/data/work/repos/workshops/memes/env/lib/python3.9/site-packages/ipywidgets/</span>\n",
       "<span style=\"color: #000000; text-decoration-color: #000000; font-weight: bold\">widgets/widget_output.py:112)</span>\n",
       "</pre>\n"
      ],
      "text/plain": [
       "\u001b[1;33mDeprecationWarning: Kernel._parent_header is deprecated in ipykernel 6. Use .get_parent()\u001b[0m \n",
       "\u001b[1;30m(raised from /mnt/data/work/repos/workshops/memes/env/lib/python3.9/site-packages/ipywidgets/\u001b[0m\n",
       "\u001b[1;30mwidgets/widget_output.py:112)\u001b[0m\n"
      ]
     },
     "metadata": {},
     "output_type": "display_data"
    },
    {
     "data": {
      "text/html": [
       "<pre style=\"white-space:pre;overflow-x:auto;line-height:normal;font-family:Menlo,'DejaVu Sans Mono',consolas,'Courier New',monospace\"><span style=\"color: #808000; text-decoration-color: #808000; font-weight: bold\">DeprecationWarning: Kernel._parent_header is deprecated in ipykernel 6. Use .get_parent()</span> \n",
       "<span style=\"color: #000000; text-decoration-color: #000000; font-weight: bold\">(raised from /mnt/data/work/repos/workshops/memes/env/lib/python3.9/site-packages/ipywidgets/</span>\n",
       "<span style=\"color: #000000; text-decoration-color: #000000; font-weight: bold\">widgets/widget_output.py:111)</span>\n",
       "</pre>\n"
      ],
      "text/plain": [
       "\u001b[1;33mDeprecationWarning: Kernel._parent_header is deprecated in ipykernel 6. Use .get_parent()\u001b[0m \n",
       "\u001b[1;30m(raised from /mnt/data/work/repos/workshops/memes/env/lib/python3.9/site-packages/ipywidgets/\u001b[0m\n",
       "\u001b[1;30mwidgets/widget_output.py:111)\u001b[0m\n"
      ]
     },
     "metadata": {},
     "output_type": "display_data"
    },
    {
     "data": {
      "text/html": [
       "<pre style=\"white-space:pre;overflow-x:auto;line-height:normal;font-family:Menlo,'DejaVu Sans Mono',consolas,'Courier New',monospace\"><span style=\"color: #808000; text-decoration-color: #808000; font-weight: bold\">DeprecationWarning: Kernel._parent_header is deprecated in ipykernel 6. Use .get_parent()</span> \n",
       "<span style=\"color: #000000; text-decoration-color: #000000; font-weight: bold\">(raised from /mnt/data/work/repos/workshops/memes/env/lib/python3.9/site-packages/ipywidgets/</span>\n",
       "<span style=\"color: #000000; text-decoration-color: #000000; font-weight: bold\">widgets/widget_output.py:112)</span>\n",
       "</pre>\n"
      ],
      "text/plain": [
       "\u001b[1;33mDeprecationWarning: Kernel._parent_header is deprecated in ipykernel 6. Use .get_parent()\u001b[0m \n",
       "\u001b[1;30m(raised from /mnt/data/work/repos/workshops/memes/env/lib/python3.9/site-packages/ipywidgets/\u001b[0m\n",
       "\u001b[1;30mwidgets/widget_output.py:112)\u001b[0m\n"
      ]
     },
     "metadata": {},
     "output_type": "display_data"
    },
    {
     "data": {
      "text/html": [
       "<pre style=\"white-space:pre;overflow-x:auto;line-height:normal;font-family:Menlo,'DejaVu Sans Mono',consolas,'Courier New',monospace\"><span style=\"color: #808000; text-decoration-color: #808000; font-weight: bold\">DeprecationWarning: Kernel._parent_header is deprecated in ipykernel 6. Use .get_parent()</span> \n",
       "<span style=\"color: #000000; text-decoration-color: #000000; font-weight: bold\">(raised from /mnt/data/work/repos/workshops/memes/env/lib/python3.9/site-packages/ipywidgets/</span>\n",
       "<span style=\"color: #000000; text-decoration-color: #000000; font-weight: bold\">widgets/widget_output.py:111)</span>\n",
       "</pre>\n"
      ],
      "text/plain": [
       "\u001b[1;33mDeprecationWarning: Kernel._parent_header is deprecated in ipykernel 6. Use .get_parent()\u001b[0m \n",
       "\u001b[1;30m(raised from /mnt/data/work/repos/workshops/memes/env/lib/python3.9/site-packages/ipywidgets/\u001b[0m\n",
       "\u001b[1;30mwidgets/widget_output.py:111)\u001b[0m\n"
      ]
     },
     "metadata": {},
     "output_type": "display_data"
    },
    {
     "data": {
      "text/html": [
       "<pre style=\"white-space:pre;overflow-x:auto;line-height:normal;font-family:Menlo,'DejaVu Sans Mono',consolas,'Courier New',monospace\"><span style=\"color: #808000; text-decoration-color: #808000; font-weight: bold\">DeprecationWarning: Kernel._parent_header is deprecated in ipykernel 6. Use .get_parent()</span> \n",
       "<span style=\"color: #000000; text-decoration-color: #000000; font-weight: bold\">(raised from /mnt/data/work/repos/workshops/memes/env/lib/python3.9/site-packages/ipywidgets/</span>\n",
       "<span style=\"color: #000000; text-decoration-color: #000000; font-weight: bold\">widgets/widget_output.py:112)</span>\n",
       "</pre>\n"
      ],
      "text/plain": [
       "\u001b[1;33mDeprecationWarning: Kernel._parent_header is deprecated in ipykernel 6. Use .get_parent()\u001b[0m \n",
       "\u001b[1;30m(raised from /mnt/data/work/repos/workshops/memes/env/lib/python3.9/site-packages/ipywidgets/\u001b[0m\n",
       "\u001b[1;30mwidgets/widget_output.py:112)\u001b[0m\n"
      ]
     },
     "metadata": {},
     "output_type": "display_data"
    },
    {
     "data": {
      "text/html": [
       "<pre style=\"white-space:pre;overflow-x:auto;line-height:normal;font-family:Menlo,'DejaVu Sans Mono',consolas,'Courier New',monospace\"><span style=\"color: #808000; text-decoration-color: #808000; font-weight: bold\">DeprecationWarning: Kernel._parent_header is deprecated in ipykernel 6. Use .get_parent()</span> \n",
       "<span style=\"color: #000000; text-decoration-color: #000000; font-weight: bold\">(raised from /mnt/data/work/repos/workshops/memes/env/lib/python3.9/site-packages/ipywidgets/</span>\n",
       "<span style=\"color: #000000; text-decoration-color: #000000; font-weight: bold\">widgets/widget_output.py:111)</span>\n",
       "</pre>\n"
      ],
      "text/plain": [
       "\u001b[1;33mDeprecationWarning: Kernel._parent_header is deprecated in ipykernel 6. Use .get_parent()\u001b[0m \n",
       "\u001b[1;30m(raised from /mnt/data/work/repos/workshops/memes/env/lib/python3.9/site-packages/ipywidgets/\u001b[0m\n",
       "\u001b[1;30mwidgets/widget_output.py:111)\u001b[0m\n"
      ]
     },
     "metadata": {},
     "output_type": "display_data"
    },
    {
     "data": {
      "text/html": [
       "<pre style=\"white-space:pre;overflow-x:auto;line-height:normal;font-family:Menlo,'DejaVu Sans Mono',consolas,'Courier New',monospace\"><span style=\"color: #808000; text-decoration-color: #808000; font-weight: bold\">DeprecationWarning: Kernel._parent_header is deprecated in ipykernel 6. Use .get_parent()</span> \n",
       "<span style=\"color: #000000; text-decoration-color: #000000; font-weight: bold\">(raised from /mnt/data/work/repos/workshops/memes/env/lib/python3.9/site-packages/ipywidgets/</span>\n",
       "<span style=\"color: #000000; text-decoration-color: #000000; font-weight: bold\">widgets/widget_output.py:112)</span>\n",
       "</pre>\n"
      ],
      "text/plain": [
       "\u001b[1;33mDeprecationWarning: Kernel._parent_header is deprecated in ipykernel 6. Use .get_parent()\u001b[0m \n",
       "\u001b[1;30m(raised from /mnt/data/work/repos/workshops/memes/env/lib/python3.9/site-packages/ipywidgets/\u001b[0m\n",
       "\u001b[1;30mwidgets/widget_output.py:112)\u001b[0m\n"
      ]
     },
     "metadata": {},
     "output_type": "display_data"
    },
    {
     "data": {
      "text/html": [
       "<pre style=\"white-space:pre;overflow-x:auto;line-height:normal;font-family:Menlo,'DejaVu Sans Mono',consolas,'Courier New',monospace\"><span style=\"color: #808000; text-decoration-color: #808000; font-weight: bold\">DeprecationWarning: Kernel._parent_header is deprecated in ipykernel 6. Use .get_parent()</span> \n",
       "<span style=\"color: #000000; text-decoration-color: #000000; font-weight: bold\">(raised from /mnt/data/work/repos/workshops/memes/env/lib/python3.9/site-packages/ipywidgets/</span>\n",
       "<span style=\"color: #000000; text-decoration-color: #000000; font-weight: bold\">widgets/widget_output.py:111)</span>\n",
       "</pre>\n"
      ],
      "text/plain": [
       "\u001b[1;33mDeprecationWarning: Kernel._parent_header is deprecated in ipykernel 6. Use .get_parent()\u001b[0m \n",
       "\u001b[1;30m(raised from /mnt/data/work/repos/workshops/memes/env/lib/python3.9/site-packages/ipywidgets/\u001b[0m\n",
       "\u001b[1;30mwidgets/widget_output.py:111)\u001b[0m\n"
      ]
     },
     "metadata": {},
     "output_type": "display_data"
    },
    {
     "data": {
      "text/html": [
       "<pre style=\"white-space:pre;overflow-x:auto;line-height:normal;font-family:Menlo,'DejaVu Sans Mono',consolas,'Courier New',monospace\"><span style=\"color: #808000; text-decoration-color: #808000; font-weight: bold\">DeprecationWarning: Kernel._parent_header is deprecated in ipykernel 6. Use .get_parent()</span> \n",
       "<span style=\"color: #000000; text-decoration-color: #000000; font-weight: bold\">(raised from /mnt/data/work/repos/workshops/memes/env/lib/python3.9/site-packages/ipywidgets/</span>\n",
       "<span style=\"color: #000000; text-decoration-color: #000000; font-weight: bold\">widgets/widget_output.py:112)</span>\n",
       "</pre>\n"
      ],
      "text/plain": [
       "\u001b[1;33mDeprecationWarning: Kernel._parent_header is deprecated in ipykernel 6. Use .get_parent()\u001b[0m \n",
       "\u001b[1;30m(raised from /mnt/data/work/repos/workshops/memes/env/lib/python3.9/site-packages/ipywidgets/\u001b[0m\n",
       "\u001b[1;30mwidgets/widget_output.py:112)\u001b[0m\n"
      ]
     },
     "metadata": {},
     "output_type": "display_data"
    },
    {
     "data": {
      "text/html": [
       "<pre style=\"white-space:pre;overflow-x:auto;line-height:normal;font-family:Menlo,'DejaVu Sans Mono',consolas,'Courier New',monospace\"><span style=\"color: #808000; text-decoration-color: #808000; font-weight: bold\">DeprecationWarning: Kernel._parent_header is deprecated in ipykernel 6. Use .get_parent()</span> \n",
       "<span style=\"color: #000000; text-decoration-color: #000000; font-weight: bold\">(raised from /mnt/data/work/repos/workshops/memes/env/lib/python3.9/site-packages/ipywidgets/</span>\n",
       "<span style=\"color: #000000; text-decoration-color: #000000; font-weight: bold\">widgets/widget_output.py:111)</span>\n",
       "</pre>\n"
      ],
      "text/plain": [
       "\u001b[1;33mDeprecationWarning: Kernel._parent_header is deprecated in ipykernel 6. Use .get_parent()\u001b[0m \n",
       "\u001b[1;30m(raised from /mnt/data/work/repos/workshops/memes/env/lib/python3.9/site-packages/ipywidgets/\u001b[0m\n",
       "\u001b[1;30mwidgets/widget_output.py:111)\u001b[0m\n"
      ]
     },
     "metadata": {},
     "output_type": "display_data"
    },
    {
     "data": {
      "text/html": [
       "<pre style=\"white-space:pre;overflow-x:auto;line-height:normal;font-family:Menlo,'DejaVu Sans Mono',consolas,'Courier New',monospace\"><span style=\"color: #808000; text-decoration-color: #808000; font-weight: bold\">DeprecationWarning: Kernel._parent_header is deprecated in ipykernel 6. Use .get_parent()</span> \n",
       "<span style=\"color: #000000; text-decoration-color: #000000; font-weight: bold\">(raised from /mnt/data/work/repos/workshops/memes/env/lib/python3.9/site-packages/ipywidgets/</span>\n",
       "<span style=\"color: #000000; text-decoration-color: #000000; font-weight: bold\">widgets/widget_output.py:112)</span>\n",
       "</pre>\n"
      ],
      "text/plain": [
       "\u001b[1;33mDeprecationWarning: Kernel._parent_header is deprecated in ipykernel 6. Use .get_parent()\u001b[0m \n",
       "\u001b[1;30m(raised from /mnt/data/work/repos/workshops/memes/env/lib/python3.9/site-packages/ipywidgets/\u001b[0m\n",
       "\u001b[1;30mwidgets/widget_output.py:112)\u001b[0m\n"
      ]
     },
     "metadata": {},
     "output_type": "display_data"
    },
    {
     "data": {
      "text/html": [
       "<pre style=\"white-space:pre;overflow-x:auto;line-height:normal;font-family:Menlo,'DejaVu Sans Mono',consolas,'Courier New',monospace\"><span style=\"color: #808000; text-decoration-color: #808000; font-weight: bold\">DeprecationWarning: Kernel._parent_header is deprecated in ipykernel 6. Use .get_parent()</span> \n",
       "<span style=\"color: #000000; text-decoration-color: #000000; font-weight: bold\">(raised from /mnt/data/work/repos/workshops/memes/env/lib/python3.9/site-packages/ipywidgets/</span>\n",
       "<span style=\"color: #000000; text-decoration-color: #000000; font-weight: bold\">widgets/widget_output.py:111)</span>\n",
       "</pre>\n"
      ],
      "text/plain": [
       "\u001b[1;33mDeprecationWarning: Kernel._parent_header is deprecated in ipykernel 6. Use .get_parent()\u001b[0m \n",
       "\u001b[1;30m(raised from /mnt/data/work/repos/workshops/memes/env/lib/python3.9/site-packages/ipywidgets/\u001b[0m\n",
       "\u001b[1;30mwidgets/widget_output.py:111)\u001b[0m\n"
      ]
     },
     "metadata": {},
     "output_type": "display_data"
    },
    {
     "data": {
      "text/html": [
       "<pre style=\"white-space:pre;overflow-x:auto;line-height:normal;font-family:Menlo,'DejaVu Sans Mono',consolas,'Courier New',monospace\"><span style=\"color: #808000; text-decoration-color: #808000; font-weight: bold\">DeprecationWarning: Kernel._parent_header is deprecated in ipykernel 6. Use .get_parent()</span> \n",
       "<span style=\"color: #000000; text-decoration-color: #000000; font-weight: bold\">(raised from /mnt/data/work/repos/workshops/memes/env/lib/python3.9/site-packages/ipywidgets/</span>\n",
       "<span style=\"color: #000000; text-decoration-color: #000000; font-weight: bold\">widgets/widget_output.py:112)</span>\n",
       "</pre>\n"
      ],
      "text/plain": [
       "\u001b[1;33mDeprecationWarning: Kernel._parent_header is deprecated in ipykernel 6. Use .get_parent()\u001b[0m \n",
       "\u001b[1;30m(raised from /mnt/data/work/repos/workshops/memes/env/lib/python3.9/site-packages/ipywidgets/\u001b[0m\n",
       "\u001b[1;30mwidgets/widget_output.py:112)\u001b[0m\n"
      ]
     },
     "metadata": {},
     "output_type": "display_data"
    },
    {
     "data": {
      "text/html": [
       "<pre style=\"white-space:pre;overflow-x:auto;line-height:normal;font-family:Menlo,'DejaVu Sans Mono',consolas,'Courier New',monospace\"><span style=\"color: #808000; text-decoration-color: #808000; font-weight: bold\">DeprecationWarning: Kernel._parent_header is deprecated in ipykernel 6. Use .get_parent()</span> \n",
       "<span style=\"color: #000000; text-decoration-color: #000000; font-weight: bold\">(raised from /mnt/data/work/repos/workshops/memes/env/lib/python3.9/site-packages/ipywidgets/</span>\n",
       "<span style=\"color: #000000; text-decoration-color: #000000; font-weight: bold\">widgets/widget_output.py:111)</span>\n",
       "</pre>\n"
      ],
      "text/plain": [
       "\u001b[1;33mDeprecationWarning: Kernel._parent_header is deprecated in ipykernel 6. Use .get_parent()\u001b[0m \n",
       "\u001b[1;30m(raised from /mnt/data/work/repos/workshops/memes/env/lib/python3.9/site-packages/ipywidgets/\u001b[0m\n",
       "\u001b[1;30mwidgets/widget_output.py:111)\u001b[0m\n"
      ]
     },
     "metadata": {},
     "output_type": "display_data"
    },
    {
     "data": {
      "text/html": [
       "<pre style=\"white-space:pre;overflow-x:auto;line-height:normal;font-family:Menlo,'DejaVu Sans Mono',consolas,'Courier New',monospace\"><span style=\"color: #808000; text-decoration-color: #808000; font-weight: bold\">DeprecationWarning: Kernel._parent_header is deprecated in ipykernel 6. Use .get_parent()</span> \n",
       "<span style=\"color: #000000; text-decoration-color: #000000; font-weight: bold\">(raised from /mnt/data/work/repos/workshops/memes/env/lib/python3.9/site-packages/ipywidgets/</span>\n",
       "<span style=\"color: #000000; text-decoration-color: #000000; font-weight: bold\">widgets/widget_output.py:112)</span>\n",
       "</pre>\n"
      ],
      "text/plain": [
       "\u001b[1;33mDeprecationWarning: Kernel._parent_header is deprecated in ipykernel 6. Use .get_parent()\u001b[0m \n",
       "\u001b[1;30m(raised from /mnt/data/work/repos/workshops/memes/env/lib/python3.9/site-packages/ipywidgets/\u001b[0m\n",
       "\u001b[1;30mwidgets/widget_output.py:112)\u001b[0m\n"
      ]
     },
     "metadata": {},
     "output_type": "display_data"
    },
    {
     "data": {
      "text/html": [
       "<pre style=\"white-space:pre;overflow-x:auto;line-height:normal;font-family:Menlo,'DejaVu Sans Mono',consolas,'Courier New',monospace\"><span style=\"color: #808000; text-decoration-color: #808000; font-weight: bold\">DeprecationWarning: Kernel._parent_header is deprecated in ipykernel 6. Use .get_parent()</span> \n",
       "<span style=\"color: #000000; text-decoration-color: #000000; font-weight: bold\">(raised from /mnt/data/work/repos/workshops/memes/env/lib/python3.9/site-packages/ipywidgets/</span>\n",
       "<span style=\"color: #000000; text-decoration-color: #000000; font-weight: bold\">widgets/widget_output.py:111)</span>\n",
       "</pre>\n"
      ],
      "text/plain": [
       "\u001b[1;33mDeprecationWarning: Kernel._parent_header is deprecated in ipykernel 6. Use .get_parent()\u001b[0m \n",
       "\u001b[1;30m(raised from /mnt/data/work/repos/workshops/memes/env/lib/python3.9/site-packages/ipywidgets/\u001b[0m\n",
       "\u001b[1;30mwidgets/widget_output.py:111)\u001b[0m\n"
      ]
     },
     "metadata": {},
     "output_type": "display_data"
    },
    {
     "data": {
      "text/html": [
       "<pre style=\"white-space:pre;overflow-x:auto;line-height:normal;font-family:Menlo,'DejaVu Sans Mono',consolas,'Courier New',monospace\"><span style=\"color: #808000; text-decoration-color: #808000; font-weight: bold\">DeprecationWarning: Kernel._parent_header is deprecated in ipykernel 6. Use .get_parent()</span> \n",
       "<span style=\"color: #000000; text-decoration-color: #000000; font-weight: bold\">(raised from /mnt/data/work/repos/workshops/memes/env/lib/python3.9/site-packages/ipywidgets/</span>\n",
       "<span style=\"color: #000000; text-decoration-color: #000000; font-weight: bold\">widgets/widget_output.py:112)</span>\n",
       "</pre>\n"
      ],
      "text/plain": [
       "\u001b[1;33mDeprecationWarning: Kernel._parent_header is deprecated in ipykernel 6. Use .get_parent()\u001b[0m \n",
       "\u001b[1;30m(raised from /mnt/data/work/repos/workshops/memes/env/lib/python3.9/site-packages/ipywidgets/\u001b[0m\n",
       "\u001b[1;30mwidgets/widget_output.py:112)\u001b[0m\n"
      ]
     },
     "metadata": {},
     "output_type": "display_data"
    },
    {
     "data": {
      "text/html": [
       "<pre style=\"white-space:pre;overflow-x:auto;line-height:normal;font-family:Menlo,'DejaVu Sans Mono',consolas,'Courier New',monospace\"><span style=\"color: #808000; text-decoration-color: #808000; font-weight: bold\">DeprecationWarning: Kernel._parent_header is deprecated in ipykernel 6. Use .get_parent()</span> \n",
       "<span style=\"color: #000000; text-decoration-color: #000000; font-weight: bold\">(raised from /mnt/data/work/repos/workshops/memes/env/lib/python3.9/site-packages/ipywidgets/</span>\n",
       "<span style=\"color: #000000; text-decoration-color: #000000; font-weight: bold\">widgets/widget_output.py:111)</span>\n",
       "</pre>\n"
      ],
      "text/plain": [
       "\u001b[1;33mDeprecationWarning: Kernel._parent_header is deprecated in ipykernel 6. Use .get_parent()\u001b[0m \n",
       "\u001b[1;30m(raised from /mnt/data/work/repos/workshops/memes/env/lib/python3.9/site-packages/ipywidgets/\u001b[0m\n",
       "\u001b[1;30mwidgets/widget_output.py:111)\u001b[0m\n"
      ]
     },
     "metadata": {},
     "output_type": "display_data"
    },
    {
     "data": {
      "text/html": [
       "<pre style=\"white-space:pre;overflow-x:auto;line-height:normal;font-family:Menlo,'DejaVu Sans Mono',consolas,'Courier New',monospace\"><span style=\"color: #808000; text-decoration-color: #808000; font-weight: bold\">DeprecationWarning: Kernel._parent_header is deprecated in ipykernel 6. Use .get_parent()</span> \n",
       "<span style=\"color: #000000; text-decoration-color: #000000; font-weight: bold\">(raised from /mnt/data/work/repos/workshops/memes/env/lib/python3.9/site-packages/ipywidgets/</span>\n",
       "<span style=\"color: #000000; text-decoration-color: #000000; font-weight: bold\">widgets/widget_output.py:112)</span>\n",
       "</pre>\n"
      ],
      "text/plain": [
       "\u001b[1;33mDeprecationWarning: Kernel._parent_header is deprecated in ipykernel 6. Use .get_parent()\u001b[0m \n",
       "\u001b[1;30m(raised from /mnt/data/work/repos/workshops/memes/env/lib/python3.9/site-packages/ipywidgets/\u001b[0m\n",
       "\u001b[1;30mwidgets/widget_output.py:112)\u001b[0m\n"
      ]
     },
     "metadata": {},
     "output_type": "display_data"
    },
    {
     "data": {
      "text/html": [
       "<pre style=\"white-space:pre;overflow-x:auto;line-height:normal;font-family:Menlo,'DejaVu Sans Mono',consolas,'Courier New',monospace\"><span style=\"color: #808000; text-decoration-color: #808000; font-weight: bold\">DeprecationWarning: Kernel._parent_header is deprecated in ipykernel 6. Use .get_parent()</span> \n",
       "<span style=\"color: #000000; text-decoration-color: #000000; font-weight: bold\">(raised from /mnt/data/work/repos/workshops/memes/env/lib/python3.9/site-packages/ipywidgets/</span>\n",
       "<span style=\"color: #000000; text-decoration-color: #000000; font-weight: bold\">widgets/widget_output.py:111)</span>\n",
       "</pre>\n"
      ],
      "text/plain": [
       "\u001b[1;33mDeprecationWarning: Kernel._parent_header is deprecated in ipykernel 6. Use .get_parent()\u001b[0m \n",
       "\u001b[1;30m(raised from /mnt/data/work/repos/workshops/memes/env/lib/python3.9/site-packages/ipywidgets/\u001b[0m\n",
       "\u001b[1;30mwidgets/widget_output.py:111)\u001b[0m\n"
      ]
     },
     "metadata": {},
     "output_type": "display_data"
    },
    {
     "data": {
      "text/html": [
       "<pre style=\"white-space:pre;overflow-x:auto;line-height:normal;font-family:Menlo,'DejaVu Sans Mono',consolas,'Courier New',monospace\"><span style=\"color: #808000; text-decoration-color: #808000; font-weight: bold\">DeprecationWarning: Kernel._parent_header is deprecated in ipykernel 6. Use .get_parent()</span> \n",
       "<span style=\"color: #000000; text-decoration-color: #000000; font-weight: bold\">(raised from /mnt/data/work/repos/workshops/memes/env/lib/python3.9/site-packages/ipywidgets/</span>\n",
       "<span style=\"color: #000000; text-decoration-color: #000000; font-weight: bold\">widgets/widget_output.py:112)</span>\n",
       "</pre>\n"
      ],
      "text/plain": [
       "\u001b[1;33mDeprecationWarning: Kernel._parent_header is deprecated in ipykernel 6. Use .get_parent()\u001b[0m \n",
       "\u001b[1;30m(raised from /mnt/data/work/repos/workshops/memes/env/lib/python3.9/site-packages/ipywidgets/\u001b[0m\n",
       "\u001b[1;30mwidgets/widget_output.py:112)\u001b[0m\n"
      ]
     },
     "metadata": {},
     "output_type": "display_data"
    },
    {
     "data": {
      "text/html": [
       "<pre style=\"white-space:pre;overflow-x:auto;line-height:normal;font-family:Menlo,'DejaVu Sans Mono',consolas,'Courier New',monospace\"><span style=\"color: #808000; text-decoration-color: #808000; font-weight: bold\">DeprecationWarning: Kernel._parent_header is deprecated in ipykernel 6. Use .get_parent()</span> \n",
       "<span style=\"color: #000000; text-decoration-color: #000000; font-weight: bold\">(raised from /mnt/data/work/repos/workshops/memes/env/lib/python3.9/site-packages/ipywidgets/</span>\n",
       "<span style=\"color: #000000; text-decoration-color: #000000; font-weight: bold\">widgets/widget_output.py:111)</span>\n",
       "</pre>\n"
      ],
      "text/plain": [
       "\u001b[1;33mDeprecationWarning: Kernel._parent_header is deprecated in ipykernel 6. Use .get_parent()\u001b[0m \n",
       "\u001b[1;30m(raised from /mnt/data/work/repos/workshops/memes/env/lib/python3.9/site-packages/ipywidgets/\u001b[0m\n",
       "\u001b[1;30mwidgets/widget_output.py:111)\u001b[0m\n"
      ]
     },
     "metadata": {},
     "output_type": "display_data"
    },
    {
     "data": {
      "text/html": [
       "<pre style=\"white-space:pre;overflow-x:auto;line-height:normal;font-family:Menlo,'DejaVu Sans Mono',consolas,'Courier New',monospace\"><span style=\"color: #808000; text-decoration-color: #808000; font-weight: bold\">DeprecationWarning: Kernel._parent_header is deprecated in ipykernel 6. Use .get_parent()</span> \n",
       "<span style=\"color: #000000; text-decoration-color: #000000; font-weight: bold\">(raised from /mnt/data/work/repos/workshops/memes/env/lib/python3.9/site-packages/ipywidgets/</span>\n",
       "<span style=\"color: #000000; text-decoration-color: #000000; font-weight: bold\">widgets/widget_output.py:112)</span>\n",
       "</pre>\n"
      ],
      "text/plain": [
       "\u001b[1;33mDeprecationWarning: Kernel._parent_header is deprecated in ipykernel 6. Use .get_parent()\u001b[0m \n",
       "\u001b[1;30m(raised from /mnt/data/work/repos/workshops/memes/env/lib/python3.9/site-packages/ipywidgets/\u001b[0m\n",
       "\u001b[1;30mwidgets/widget_output.py:112)\u001b[0m\n"
      ]
     },
     "metadata": {},
     "output_type": "display_data"
    },
    {
     "data": {
      "text/html": [
       "<pre style=\"white-space:pre;overflow-x:auto;line-height:normal;font-family:Menlo,'DejaVu Sans Mono',consolas,'Courier New',monospace\"><span style=\"color: #808000; text-decoration-color: #808000; font-weight: bold\">DeprecationWarning: Kernel._parent_header is deprecated in ipykernel 6. Use .get_parent()</span> \n",
       "<span style=\"color: #000000; text-decoration-color: #000000; font-weight: bold\">(raised from /mnt/data/work/repos/workshops/memes/env/lib/python3.9/site-packages/ipywidgets/</span>\n",
       "<span style=\"color: #000000; text-decoration-color: #000000; font-weight: bold\">widgets/widget_output.py:111)</span>\n",
       "</pre>\n"
      ],
      "text/plain": [
       "\u001b[1;33mDeprecationWarning: Kernel._parent_header is deprecated in ipykernel 6. Use .get_parent()\u001b[0m \n",
       "\u001b[1;30m(raised from /mnt/data/work/repos/workshops/memes/env/lib/python3.9/site-packages/ipywidgets/\u001b[0m\n",
       "\u001b[1;30mwidgets/widget_output.py:111)\u001b[0m\n"
      ]
     },
     "metadata": {},
     "output_type": "display_data"
    },
    {
     "data": {
      "text/html": [
       "<pre style=\"white-space:pre;overflow-x:auto;line-height:normal;font-family:Menlo,'DejaVu Sans Mono',consolas,'Courier New',monospace\"><span style=\"color: #808000; text-decoration-color: #808000; font-weight: bold\">DeprecationWarning: Kernel._parent_header is deprecated in ipykernel 6. Use .get_parent()</span> \n",
       "<span style=\"color: #000000; text-decoration-color: #000000; font-weight: bold\">(raised from /mnt/data/work/repos/workshops/memes/env/lib/python3.9/site-packages/ipywidgets/</span>\n",
       "<span style=\"color: #000000; text-decoration-color: #000000; font-weight: bold\">widgets/widget_output.py:112)</span>\n",
       "</pre>\n"
      ],
      "text/plain": [
       "\u001b[1;33mDeprecationWarning: Kernel._parent_header is deprecated in ipykernel 6. Use .get_parent()\u001b[0m \n",
       "\u001b[1;30m(raised from /mnt/data/work/repos/workshops/memes/env/lib/python3.9/site-packages/ipywidgets/\u001b[0m\n",
       "\u001b[1;30mwidgets/widget_output.py:112)\u001b[0m\n"
      ]
     },
     "metadata": {},
     "output_type": "display_data"
    },
    {
     "data": {
      "text/html": [
       "<pre style=\"white-space:pre;overflow-x:auto;line-height:normal;font-family:Menlo,'DejaVu Sans Mono',consolas,'Courier New',monospace\"><span style=\"color: #808000; text-decoration-color: #808000; font-weight: bold\">DeprecationWarning: Kernel._parent_header is deprecated in ipykernel 6. Use .get_parent()</span> \n",
       "<span style=\"color: #000000; text-decoration-color: #000000; font-weight: bold\">(raised from /mnt/data/work/repos/workshops/memes/env/lib/python3.9/site-packages/ipywidgets/</span>\n",
       "<span style=\"color: #000000; text-decoration-color: #000000; font-weight: bold\">widgets/widget_output.py:111)</span>\n",
       "</pre>\n"
      ],
      "text/plain": [
       "\u001b[1;33mDeprecationWarning: Kernel._parent_header is deprecated in ipykernel 6. Use .get_parent()\u001b[0m \n",
       "\u001b[1;30m(raised from /mnt/data/work/repos/workshops/memes/env/lib/python3.9/site-packages/ipywidgets/\u001b[0m\n",
       "\u001b[1;30mwidgets/widget_output.py:111)\u001b[0m\n"
      ]
     },
     "metadata": {},
     "output_type": "display_data"
    },
    {
     "data": {
      "text/html": [
       "<pre style=\"white-space:pre;overflow-x:auto;line-height:normal;font-family:Menlo,'DejaVu Sans Mono',consolas,'Courier New',monospace\"><span style=\"color: #808000; text-decoration-color: #808000; font-weight: bold\">DeprecationWarning: Kernel._parent_header is deprecated in ipykernel 6. Use .get_parent()</span> \n",
       "<span style=\"color: #000000; text-decoration-color: #000000; font-weight: bold\">(raised from /mnt/data/work/repos/workshops/memes/env/lib/python3.9/site-packages/ipywidgets/</span>\n",
       "<span style=\"color: #000000; text-decoration-color: #000000; font-weight: bold\">widgets/widget_output.py:112)</span>\n",
       "</pre>\n"
      ],
      "text/plain": [
       "\u001b[1;33mDeprecationWarning: Kernel._parent_header is deprecated in ipykernel 6. Use .get_parent()\u001b[0m \n",
       "\u001b[1;30m(raised from /mnt/data/work/repos/workshops/memes/env/lib/python3.9/site-packages/ipywidgets/\u001b[0m\n",
       "\u001b[1;30mwidgets/widget_output.py:112)\u001b[0m\n"
      ]
     },
     "metadata": {},
     "output_type": "display_data"
    },
    {
     "data": {
      "text/html": [
       "<pre style=\"white-space:pre;overflow-x:auto;line-height:normal;font-family:Menlo,'DejaVu Sans Mono',consolas,'Courier New',monospace\"><span style=\"color: #808000; text-decoration-color: #808000; font-weight: bold\">DeprecationWarning: Kernel._parent_header is deprecated in ipykernel 6. Use .get_parent()</span> \n",
       "<span style=\"color: #000000; text-decoration-color: #000000; font-weight: bold\">(raised from /mnt/data/work/repos/workshops/memes/env/lib/python3.9/site-packages/ipywidgets/</span>\n",
       "<span style=\"color: #000000; text-decoration-color: #000000; font-weight: bold\">widgets/widget_output.py:111)</span>\n",
       "</pre>\n"
      ],
      "text/plain": [
       "\u001b[1;33mDeprecationWarning: Kernel._parent_header is deprecated in ipykernel 6. Use .get_parent()\u001b[0m \n",
       "\u001b[1;30m(raised from /mnt/data/work/repos/workshops/memes/env/lib/python3.9/site-packages/ipywidgets/\u001b[0m\n",
       "\u001b[1;30mwidgets/widget_output.py:111)\u001b[0m\n"
      ]
     },
     "metadata": {},
     "output_type": "display_data"
    },
    {
     "data": {
      "text/html": [
       "<pre style=\"white-space:pre;overflow-x:auto;line-height:normal;font-family:Menlo,'DejaVu Sans Mono',consolas,'Courier New',monospace\"><span style=\"color: #808000; text-decoration-color: #808000; font-weight: bold\">DeprecationWarning: Kernel._parent_header is deprecated in ipykernel 6. Use .get_parent()</span> \n",
       "<span style=\"color: #000000; text-decoration-color: #000000; font-weight: bold\">(raised from /mnt/data/work/repos/workshops/memes/env/lib/python3.9/site-packages/ipywidgets/</span>\n",
       "<span style=\"color: #000000; text-decoration-color: #000000; font-weight: bold\">widgets/widget_output.py:112)</span>\n",
       "</pre>\n"
      ],
      "text/plain": [
       "\u001b[1;33mDeprecationWarning: Kernel._parent_header is deprecated in ipykernel 6. Use .get_parent()\u001b[0m \n",
       "\u001b[1;30m(raised from /mnt/data/work/repos/workshops/memes/env/lib/python3.9/site-packages/ipywidgets/\u001b[0m\n",
       "\u001b[1;30mwidgets/widget_output.py:112)\u001b[0m\n"
      ]
     },
     "metadata": {},
     "output_type": "display_data"
    },
    {
     "data": {
      "text/html": [
       "<pre style=\"white-space:pre;overflow-x:auto;line-height:normal;font-family:Menlo,'DejaVu Sans Mono',consolas,'Courier New',monospace\"><span style=\"color: #808000; text-decoration-color: #808000; font-weight: bold\">DeprecationWarning: Kernel._parent_header is deprecated in ipykernel 6. Use .get_parent()</span> \n",
       "<span style=\"color: #000000; text-decoration-color: #000000; font-weight: bold\">(raised from /mnt/data/work/repos/workshops/memes/env/lib/python3.9/site-packages/ipywidgets/</span>\n",
       "<span style=\"color: #000000; text-decoration-color: #000000; font-weight: bold\">widgets/widget_output.py:111)</span>\n",
       "</pre>\n"
      ],
      "text/plain": [
       "\u001b[1;33mDeprecationWarning: Kernel._parent_header is deprecated in ipykernel 6. Use .get_parent()\u001b[0m \n",
       "\u001b[1;30m(raised from /mnt/data/work/repos/workshops/memes/env/lib/python3.9/site-packages/ipywidgets/\u001b[0m\n",
       "\u001b[1;30mwidgets/widget_output.py:111)\u001b[0m\n"
      ]
     },
     "metadata": {},
     "output_type": "display_data"
    },
    {
     "data": {
      "text/html": [
       "<pre style=\"white-space:pre;overflow-x:auto;line-height:normal;font-family:Menlo,'DejaVu Sans Mono',consolas,'Courier New',monospace\"><span style=\"color: #808000; text-decoration-color: #808000; font-weight: bold\">DeprecationWarning: Kernel._parent_header is deprecated in ipykernel 6. Use .get_parent()</span> \n",
       "<span style=\"color: #000000; text-decoration-color: #000000; font-weight: bold\">(raised from /mnt/data/work/repos/workshops/memes/env/lib/python3.9/site-packages/ipywidgets/</span>\n",
       "<span style=\"color: #000000; text-decoration-color: #000000; font-weight: bold\">widgets/widget_output.py:112)</span>\n",
       "</pre>\n"
      ],
      "text/plain": [
       "\u001b[1;33mDeprecationWarning: Kernel._parent_header is deprecated in ipykernel 6. Use .get_parent()\u001b[0m \n",
       "\u001b[1;30m(raised from /mnt/data/work/repos/workshops/memes/env/lib/python3.9/site-packages/ipywidgets/\u001b[0m\n",
       "\u001b[1;30mwidgets/widget_output.py:112)\u001b[0m\n"
      ]
     },
     "metadata": {},
     "output_type": "display_data"
    },
    {
     "data": {
      "text/html": [
       "<pre style=\"white-space:pre;overflow-x:auto;line-height:normal;font-family:Menlo,'DejaVu Sans Mono',consolas,'Courier New',monospace\"><span style=\"color: #808000; text-decoration-color: #808000; font-weight: bold\">DeprecationWarning: Kernel._parent_header is deprecated in ipykernel 6. Use .get_parent()</span> \n",
       "<span style=\"color: #000000; text-decoration-color: #000000; font-weight: bold\">(raised from /mnt/data/work/repos/workshops/memes/env/lib/python3.9/site-packages/ipywidgets/</span>\n",
       "<span style=\"color: #000000; text-decoration-color: #000000; font-weight: bold\">widgets/widget_output.py:111)</span>\n",
       "</pre>\n"
      ],
      "text/plain": [
       "\u001b[1;33mDeprecationWarning: Kernel._parent_header is deprecated in ipykernel 6. Use .get_parent()\u001b[0m \n",
       "\u001b[1;30m(raised from /mnt/data/work/repos/workshops/memes/env/lib/python3.9/site-packages/ipywidgets/\u001b[0m\n",
       "\u001b[1;30mwidgets/widget_output.py:111)\u001b[0m\n"
      ]
     },
     "metadata": {},
     "output_type": "display_data"
    },
    {
     "data": {
      "text/html": [
       "<pre style=\"white-space:pre;overflow-x:auto;line-height:normal;font-family:Menlo,'DejaVu Sans Mono',consolas,'Courier New',monospace\"><span style=\"color: #808000; text-decoration-color: #808000; font-weight: bold\">DeprecationWarning: Kernel._parent_header is deprecated in ipykernel 6. Use .get_parent()</span> \n",
       "<span style=\"color: #000000; text-decoration-color: #000000; font-weight: bold\">(raised from /mnt/data/work/repos/workshops/memes/env/lib/python3.9/site-packages/ipywidgets/</span>\n",
       "<span style=\"color: #000000; text-decoration-color: #000000; font-weight: bold\">widgets/widget_output.py:112)</span>\n",
       "</pre>\n"
      ],
      "text/plain": [
       "\u001b[1;33mDeprecationWarning: Kernel._parent_header is deprecated in ipykernel 6. Use .get_parent()\u001b[0m \n",
       "\u001b[1;30m(raised from /mnt/data/work/repos/workshops/memes/env/lib/python3.9/site-packages/ipywidgets/\u001b[0m\n",
       "\u001b[1;30mwidgets/widget_output.py:112)\u001b[0m\n"
      ]
     },
     "metadata": {},
     "output_type": "display_data"
    },
    {
     "data": {
      "text/html": [
       "<pre style=\"white-space:pre;overflow-x:auto;line-height:normal;font-family:Menlo,'DejaVu Sans Mono',consolas,'Courier New',monospace\"><span style=\"color: #808000; text-decoration-color: #808000; font-weight: bold\">DeprecationWarning: Kernel._parent_header is deprecated in ipykernel 6. Use .get_parent()</span> \n",
       "<span style=\"color: #000000; text-decoration-color: #000000; font-weight: bold\">(raised from /mnt/data/work/repos/workshops/memes/env/lib/python3.9/site-packages/ipywidgets/</span>\n",
       "<span style=\"color: #000000; text-decoration-color: #000000; font-weight: bold\">widgets/widget_output.py:111)</span>\n",
       "</pre>\n"
      ],
      "text/plain": [
       "\u001b[1;33mDeprecationWarning: Kernel._parent_header is deprecated in ipykernel 6. Use .get_parent()\u001b[0m \n",
       "\u001b[1;30m(raised from /mnt/data/work/repos/workshops/memes/env/lib/python3.9/site-packages/ipywidgets/\u001b[0m\n",
       "\u001b[1;30mwidgets/widget_output.py:111)\u001b[0m\n"
      ]
     },
     "metadata": {},
     "output_type": "display_data"
    },
    {
     "data": {
      "text/html": [
       "<pre style=\"white-space:pre;overflow-x:auto;line-height:normal;font-family:Menlo,'DejaVu Sans Mono',consolas,'Courier New',monospace\"><span style=\"color: #808000; text-decoration-color: #808000; font-weight: bold\">DeprecationWarning: Kernel._parent_header is deprecated in ipykernel 6. Use .get_parent()</span> \n",
       "<span style=\"color: #000000; text-decoration-color: #000000; font-weight: bold\">(raised from /mnt/data/work/repos/workshops/memes/env/lib/python3.9/site-packages/ipywidgets/</span>\n",
       "<span style=\"color: #000000; text-decoration-color: #000000; font-weight: bold\">widgets/widget_output.py:112)</span>\n",
       "</pre>\n"
      ],
      "text/plain": [
       "\u001b[1;33mDeprecationWarning: Kernel._parent_header is deprecated in ipykernel 6. Use .get_parent()\u001b[0m \n",
       "\u001b[1;30m(raised from /mnt/data/work/repos/workshops/memes/env/lib/python3.9/site-packages/ipywidgets/\u001b[0m\n",
       "\u001b[1;30mwidgets/widget_output.py:112)\u001b[0m\n"
      ]
     },
     "metadata": {},
     "output_type": "display_data"
    },
    {
     "data": {
      "text/html": [
       "<pre style=\"white-space:pre;overflow-x:auto;line-height:normal;font-family:Menlo,'DejaVu Sans Mono',consolas,'Courier New',monospace\"><span style=\"color: #808000; text-decoration-color: #808000; font-weight: bold\">DeprecationWarning: Kernel._parent_header is deprecated in ipykernel 6. Use .get_parent()</span> \n",
       "<span style=\"color: #000000; text-decoration-color: #000000; font-weight: bold\">(raised from /mnt/data/work/repos/workshops/memes/env/lib/python3.9/site-packages/ipywidgets/</span>\n",
       "<span style=\"color: #000000; text-decoration-color: #000000; font-weight: bold\">widgets/widget_output.py:111)</span>\n",
       "</pre>\n"
      ],
      "text/plain": [
       "\u001b[1;33mDeprecationWarning: Kernel._parent_header is deprecated in ipykernel 6. Use .get_parent()\u001b[0m \n",
       "\u001b[1;30m(raised from /mnt/data/work/repos/workshops/memes/env/lib/python3.9/site-packages/ipywidgets/\u001b[0m\n",
       "\u001b[1;30mwidgets/widget_output.py:111)\u001b[0m\n"
      ]
     },
     "metadata": {},
     "output_type": "display_data"
    },
    {
     "data": {
      "text/html": [
       "<pre style=\"white-space:pre;overflow-x:auto;line-height:normal;font-family:Menlo,'DejaVu Sans Mono',consolas,'Courier New',monospace\"><span style=\"color: #808000; text-decoration-color: #808000; font-weight: bold\">DeprecationWarning: Kernel._parent_header is deprecated in ipykernel 6. Use .get_parent()</span> \n",
       "<span style=\"color: #000000; text-decoration-color: #000000; font-weight: bold\">(raised from /mnt/data/work/repos/workshops/memes/env/lib/python3.9/site-packages/ipywidgets/</span>\n",
       "<span style=\"color: #000000; text-decoration-color: #000000; font-weight: bold\">widgets/widget_output.py:112)</span>\n",
       "</pre>\n"
      ],
      "text/plain": [
       "\u001b[1;33mDeprecationWarning: Kernel._parent_header is deprecated in ipykernel 6. Use .get_parent()\u001b[0m \n",
       "\u001b[1;30m(raised from /mnt/data/work/repos/workshops/memes/env/lib/python3.9/site-packages/ipywidgets/\u001b[0m\n",
       "\u001b[1;30mwidgets/widget_output.py:112)\u001b[0m\n"
      ]
     },
     "metadata": {},
     "output_type": "display_data"
    },
    {
     "data": {
      "text/html": [
       "<pre style=\"white-space:pre;overflow-x:auto;line-height:normal;font-family:Menlo,'DejaVu Sans Mono',consolas,'Courier New',monospace\"><span style=\"color: #808000; text-decoration-color: #808000; font-weight: bold\">DeprecationWarning: Kernel._parent_header is deprecated in ipykernel 6. Use .get_parent()</span> \n",
       "<span style=\"color: #000000; text-decoration-color: #000000; font-weight: bold\">(raised from /mnt/data/work/repos/workshops/memes/env/lib/python3.9/site-packages/ipywidgets/</span>\n",
       "<span style=\"color: #000000; text-decoration-color: #000000; font-weight: bold\">widgets/widget_output.py:111)</span>\n",
       "</pre>\n"
      ],
      "text/plain": [
       "\u001b[1;33mDeprecationWarning: Kernel._parent_header is deprecated in ipykernel 6. Use .get_parent()\u001b[0m \n",
       "\u001b[1;30m(raised from /mnt/data/work/repos/workshops/memes/env/lib/python3.9/site-packages/ipywidgets/\u001b[0m\n",
       "\u001b[1;30mwidgets/widget_output.py:111)\u001b[0m\n"
      ]
     },
     "metadata": {},
     "output_type": "display_data"
    },
    {
     "data": {
      "text/html": [
       "<pre style=\"white-space:pre;overflow-x:auto;line-height:normal;font-family:Menlo,'DejaVu Sans Mono',consolas,'Courier New',monospace\"><span style=\"color: #808000; text-decoration-color: #808000; font-weight: bold\">DeprecationWarning: Kernel._parent_header is deprecated in ipykernel 6. Use .get_parent()</span> \n",
       "<span style=\"color: #000000; text-decoration-color: #000000; font-weight: bold\">(raised from /mnt/data/work/repos/workshops/memes/env/lib/python3.9/site-packages/ipywidgets/</span>\n",
       "<span style=\"color: #000000; text-decoration-color: #000000; font-weight: bold\">widgets/widget_output.py:112)</span>\n",
       "</pre>\n"
      ],
      "text/plain": [
       "\u001b[1;33mDeprecationWarning: Kernel._parent_header is deprecated in ipykernel 6. Use .get_parent()\u001b[0m \n",
       "\u001b[1;30m(raised from /mnt/data/work/repos/workshops/memes/env/lib/python3.9/site-packages/ipywidgets/\u001b[0m\n",
       "\u001b[1;30mwidgets/widget_output.py:112)\u001b[0m\n"
      ]
     },
     "metadata": {},
     "output_type": "display_data"
    },
    {
     "data": {
      "text/html": [
       "<pre style=\"white-space:pre;overflow-x:auto;line-height:normal;font-family:Menlo,'DejaVu Sans Mono',consolas,'Courier New',monospace\"><span style=\"color: #808000; text-decoration-color: #808000; font-weight: bold\">DeprecationWarning: Kernel._parent_header is deprecated in ipykernel 6. Use .get_parent()</span> \n",
       "<span style=\"color: #000000; text-decoration-color: #000000; font-weight: bold\">(raised from /mnt/data/work/repos/workshops/memes/env/lib/python3.9/site-packages/ipywidgets/</span>\n",
       "<span style=\"color: #000000; text-decoration-color: #000000; font-weight: bold\">widgets/widget_output.py:111)</span>\n",
       "</pre>\n"
      ],
      "text/plain": [
       "\u001b[1;33mDeprecationWarning: Kernel._parent_header is deprecated in ipykernel 6. Use .get_parent()\u001b[0m \n",
       "\u001b[1;30m(raised from /mnt/data/work/repos/workshops/memes/env/lib/python3.9/site-packages/ipywidgets/\u001b[0m\n",
       "\u001b[1;30mwidgets/widget_output.py:111)\u001b[0m\n"
      ]
     },
     "metadata": {},
     "output_type": "display_data"
    },
    {
     "data": {
      "text/html": [
       "<pre style=\"white-space:pre;overflow-x:auto;line-height:normal;font-family:Menlo,'DejaVu Sans Mono',consolas,'Courier New',monospace\"><span style=\"color: #808000; text-decoration-color: #808000; font-weight: bold\">DeprecationWarning: Kernel._parent_header is deprecated in ipykernel 6. Use .get_parent()</span> \n",
       "<span style=\"color: #000000; text-decoration-color: #000000; font-weight: bold\">(raised from /mnt/data/work/repos/workshops/memes/env/lib/python3.9/site-packages/ipywidgets/</span>\n",
       "<span style=\"color: #000000; text-decoration-color: #000000; font-weight: bold\">widgets/widget_output.py:112)</span>\n",
       "</pre>\n"
      ],
      "text/plain": [
       "\u001b[1;33mDeprecationWarning: Kernel._parent_header is deprecated in ipykernel 6. Use .get_parent()\u001b[0m \n",
       "\u001b[1;30m(raised from /mnt/data/work/repos/workshops/memes/env/lib/python3.9/site-packages/ipywidgets/\u001b[0m\n",
       "\u001b[1;30mwidgets/widget_output.py:112)\u001b[0m\n"
      ]
     },
     "metadata": {},
     "output_type": "display_data"
    },
    {
     "data": {
      "text/html": [
       "<pre style=\"white-space:pre;overflow-x:auto;line-height:normal;font-family:Menlo,'DejaVu Sans Mono',consolas,'Courier New',monospace\"><span style=\"color: #808000; text-decoration-color: #808000; font-weight: bold\">DeprecationWarning: Kernel._parent_header is deprecated in ipykernel 6. Use .get_parent()</span> \n",
       "<span style=\"color: #000000; text-decoration-color: #000000; font-weight: bold\">(raised from /mnt/data/work/repos/workshops/memes/env/lib/python3.9/site-packages/ipywidgets/</span>\n",
       "<span style=\"color: #000000; text-decoration-color: #000000; font-weight: bold\">widgets/widget_output.py:111)</span>\n",
       "</pre>\n"
      ],
      "text/plain": [
       "\u001b[1;33mDeprecationWarning: Kernel._parent_header is deprecated in ipykernel 6. Use .get_parent()\u001b[0m \n",
       "\u001b[1;30m(raised from /mnt/data/work/repos/workshops/memes/env/lib/python3.9/site-packages/ipywidgets/\u001b[0m\n",
       "\u001b[1;30mwidgets/widget_output.py:111)\u001b[0m\n"
      ]
     },
     "metadata": {},
     "output_type": "display_data"
    },
    {
     "data": {
      "text/html": [
       "<pre style=\"white-space:pre;overflow-x:auto;line-height:normal;font-family:Menlo,'DejaVu Sans Mono',consolas,'Courier New',monospace\"><span style=\"color: #808000; text-decoration-color: #808000; font-weight: bold\">DeprecationWarning: Kernel._parent_header is deprecated in ipykernel 6. Use .get_parent()</span> \n",
       "<span style=\"color: #000000; text-decoration-color: #000000; font-weight: bold\">(raised from /mnt/data/work/repos/workshops/memes/env/lib/python3.9/site-packages/ipywidgets/</span>\n",
       "<span style=\"color: #000000; text-decoration-color: #000000; font-weight: bold\">widgets/widget_output.py:112)</span>\n",
       "</pre>\n"
      ],
      "text/plain": [
       "\u001b[1;33mDeprecationWarning: Kernel._parent_header is deprecated in ipykernel 6. Use .get_parent()\u001b[0m \n",
       "\u001b[1;30m(raised from /mnt/data/work/repos/workshops/memes/env/lib/python3.9/site-packages/ipywidgets/\u001b[0m\n",
       "\u001b[1;30mwidgets/widget_output.py:112)\u001b[0m\n"
      ]
     },
     "metadata": {},
     "output_type": "display_data"
    },
    {
     "data": {
      "text/html": [
       "<pre style=\"white-space:pre;overflow-x:auto;line-height:normal;font-family:Menlo,'DejaVu Sans Mono',consolas,'Courier New',monospace\"><span style=\"color: #808000; text-decoration-color: #808000; font-weight: bold\">DeprecationWarning: Kernel._parent_header is deprecated in ipykernel 6. Use .get_parent()</span> \n",
       "<span style=\"color: #000000; text-decoration-color: #000000; font-weight: bold\">(raised from /mnt/data/work/repos/workshops/memes/env/lib/python3.9/site-packages/ipywidgets/</span>\n",
       "<span style=\"color: #000000; text-decoration-color: #000000; font-weight: bold\">widgets/widget_output.py:111)</span>\n",
       "</pre>\n"
      ],
      "text/plain": [
       "\u001b[1;33mDeprecationWarning: Kernel._parent_header is deprecated in ipykernel 6. Use .get_parent()\u001b[0m \n",
       "\u001b[1;30m(raised from /mnt/data/work/repos/workshops/memes/env/lib/python3.9/site-packages/ipywidgets/\u001b[0m\n",
       "\u001b[1;30mwidgets/widget_output.py:111)\u001b[0m\n"
      ]
     },
     "metadata": {},
     "output_type": "display_data"
    },
    {
     "data": {
      "text/html": [
       "<pre style=\"white-space:pre;overflow-x:auto;line-height:normal;font-family:Menlo,'DejaVu Sans Mono',consolas,'Courier New',monospace\"><span style=\"color: #808000; text-decoration-color: #808000; font-weight: bold\">DeprecationWarning: Kernel._parent_header is deprecated in ipykernel 6. Use .get_parent()</span> \n",
       "<span style=\"color: #000000; text-decoration-color: #000000; font-weight: bold\">(raised from /mnt/data/work/repos/workshops/memes/env/lib/python3.9/site-packages/ipywidgets/</span>\n",
       "<span style=\"color: #000000; text-decoration-color: #000000; font-weight: bold\">widgets/widget_output.py:112)</span>\n",
       "</pre>\n"
      ],
      "text/plain": [
       "\u001b[1;33mDeprecationWarning: Kernel._parent_header is deprecated in ipykernel 6. Use .get_parent()\u001b[0m \n",
       "\u001b[1;30m(raised from /mnt/data/work/repos/workshops/memes/env/lib/python3.9/site-packages/ipywidgets/\u001b[0m\n",
       "\u001b[1;30mwidgets/widget_output.py:112)\u001b[0m\n"
      ]
     },
     "metadata": {},
     "output_type": "display_data"
    },
    {
     "data": {
      "text/html": [
       "<pre style=\"white-space:pre;overflow-x:auto;line-height:normal;font-family:Menlo,'DejaVu Sans Mono',consolas,'Courier New',monospace\"><span style=\"color: #808000; text-decoration-color: #808000; font-weight: bold\">DeprecationWarning: Kernel._parent_header is deprecated in ipykernel 6. Use .get_parent()</span> \n",
       "<span style=\"color: #000000; text-decoration-color: #000000; font-weight: bold\">(raised from /mnt/data/work/repos/workshops/memes/env/lib/python3.9/site-packages/ipywidgets/</span>\n",
       "<span style=\"color: #000000; text-decoration-color: #000000; font-weight: bold\">widgets/widget_output.py:111)</span>\n",
       "</pre>\n"
      ],
      "text/plain": [
       "\u001b[1;33mDeprecationWarning: Kernel._parent_header is deprecated in ipykernel 6. Use .get_parent()\u001b[0m \n",
       "\u001b[1;30m(raised from /mnt/data/work/repos/workshops/memes/env/lib/python3.9/site-packages/ipywidgets/\u001b[0m\n",
       "\u001b[1;30mwidgets/widget_output.py:111)\u001b[0m\n"
      ]
     },
     "metadata": {},
     "output_type": "display_data"
    },
    {
     "data": {
      "text/html": [
       "<pre style=\"white-space:pre;overflow-x:auto;line-height:normal;font-family:Menlo,'DejaVu Sans Mono',consolas,'Courier New',monospace\"><span style=\"color: #808000; text-decoration-color: #808000; font-weight: bold\">DeprecationWarning: Kernel._parent_header is deprecated in ipykernel 6. Use .get_parent()</span> \n",
       "<span style=\"color: #000000; text-decoration-color: #000000; font-weight: bold\">(raised from /mnt/data/work/repos/workshops/memes/env/lib/python3.9/site-packages/ipywidgets/</span>\n",
       "<span style=\"color: #000000; text-decoration-color: #000000; font-weight: bold\">widgets/widget_output.py:112)</span>\n",
       "</pre>\n"
      ],
      "text/plain": [
       "\u001b[1;33mDeprecationWarning: Kernel._parent_header is deprecated in ipykernel 6. Use .get_parent()\u001b[0m \n",
       "\u001b[1;30m(raised from /mnt/data/work/repos/workshops/memes/env/lib/python3.9/site-packages/ipywidgets/\u001b[0m\n",
       "\u001b[1;30mwidgets/widget_output.py:112)\u001b[0m\n"
      ]
     },
     "metadata": {},
     "output_type": "display_data"
    },
    {
     "data": {
      "text/html": [
       "<pre style=\"white-space:pre;overflow-x:auto;line-height:normal;font-family:Menlo,'DejaVu Sans Mono',consolas,'Courier New',monospace\"><span style=\"color: #808000; text-decoration-color: #808000; font-weight: bold\">DeprecationWarning: Kernel._parent_header is deprecated in ipykernel 6. Use .get_parent()</span> \n",
       "<span style=\"color: #000000; text-decoration-color: #000000; font-weight: bold\">(raised from /mnt/data/work/repos/workshops/memes/env/lib/python3.9/site-packages/ipywidgets/</span>\n",
       "<span style=\"color: #000000; text-decoration-color: #000000; font-weight: bold\">widgets/widget_output.py:111)</span>\n",
       "</pre>\n"
      ],
      "text/plain": [
       "\u001b[1;33mDeprecationWarning: Kernel._parent_header is deprecated in ipykernel 6. Use .get_parent()\u001b[0m \n",
       "\u001b[1;30m(raised from /mnt/data/work/repos/workshops/memes/env/lib/python3.9/site-packages/ipywidgets/\u001b[0m\n",
       "\u001b[1;30mwidgets/widget_output.py:111)\u001b[0m\n"
      ]
     },
     "metadata": {},
     "output_type": "display_data"
    },
    {
     "data": {
      "text/html": [
       "<pre style=\"white-space:pre;overflow-x:auto;line-height:normal;font-family:Menlo,'DejaVu Sans Mono',consolas,'Courier New',monospace\"><span style=\"color: #808000; text-decoration-color: #808000; font-weight: bold\">DeprecationWarning: Kernel._parent_header is deprecated in ipykernel 6. Use .get_parent()</span> \n",
       "<span style=\"color: #000000; text-decoration-color: #000000; font-weight: bold\">(raised from /mnt/data/work/repos/workshops/memes/env/lib/python3.9/site-packages/ipywidgets/</span>\n",
       "<span style=\"color: #000000; text-decoration-color: #000000; font-weight: bold\">widgets/widget_output.py:112)</span>\n",
       "</pre>\n"
      ],
      "text/plain": [
       "\u001b[1;33mDeprecationWarning: Kernel._parent_header is deprecated in ipykernel 6. Use .get_parent()\u001b[0m \n",
       "\u001b[1;30m(raised from /mnt/data/work/repos/workshops/memes/env/lib/python3.9/site-packages/ipywidgets/\u001b[0m\n",
       "\u001b[1;30mwidgets/widget_output.py:112)\u001b[0m\n"
      ]
     },
     "metadata": {},
     "output_type": "display_data"
    },
    {
     "data": {
      "text/html": [
       "<pre style=\"white-space:pre;overflow-x:auto;line-height:normal;font-family:Menlo,'DejaVu Sans Mono',consolas,'Courier New',monospace\"><span style=\"color: #808000; text-decoration-color: #808000; font-weight: bold\">DeprecationWarning: Kernel._parent_header is deprecated in ipykernel 6. Use .get_parent()</span> \n",
       "<span style=\"color: #000000; text-decoration-color: #000000; font-weight: bold\">(raised from /mnt/data/work/repos/workshops/memes/env/lib/python3.9/site-packages/ipywidgets/</span>\n",
       "<span style=\"color: #000000; text-decoration-color: #000000; font-weight: bold\">widgets/widget_output.py:111)</span>\n",
       "</pre>\n"
      ],
      "text/plain": [
       "\u001b[1;33mDeprecationWarning: Kernel._parent_header is deprecated in ipykernel 6. Use .get_parent()\u001b[0m \n",
       "\u001b[1;30m(raised from /mnt/data/work/repos/workshops/memes/env/lib/python3.9/site-packages/ipywidgets/\u001b[0m\n",
       "\u001b[1;30mwidgets/widget_output.py:111)\u001b[0m\n"
      ]
     },
     "metadata": {},
     "output_type": "display_data"
    },
    {
     "data": {
      "text/html": [
       "<pre style=\"white-space:pre;overflow-x:auto;line-height:normal;font-family:Menlo,'DejaVu Sans Mono',consolas,'Courier New',monospace\"><span style=\"color: #808000; text-decoration-color: #808000; font-weight: bold\">DeprecationWarning: Kernel._parent_header is deprecated in ipykernel 6. Use .get_parent()</span> \n",
       "<span style=\"color: #000000; text-decoration-color: #000000; font-weight: bold\">(raised from /mnt/data/work/repos/workshops/memes/env/lib/python3.9/site-packages/ipywidgets/</span>\n",
       "<span style=\"color: #000000; text-decoration-color: #000000; font-weight: bold\">widgets/widget_output.py:112)</span>\n",
       "</pre>\n"
      ],
      "text/plain": [
       "\u001b[1;33mDeprecationWarning: Kernel._parent_header is deprecated in ipykernel 6. Use .get_parent()\u001b[0m \n",
       "\u001b[1;30m(raised from /mnt/data/work/repos/workshops/memes/env/lib/python3.9/site-packages/ipywidgets/\u001b[0m\n",
       "\u001b[1;30mwidgets/widget_output.py:112)\u001b[0m\n"
      ]
     },
     "metadata": {},
     "output_type": "display_data"
    },
    {
     "data": {
      "text/html": [
       "<pre style=\"white-space:pre;overflow-x:auto;line-height:normal;font-family:Menlo,'DejaVu Sans Mono',consolas,'Courier New',monospace\"><span style=\"color: #808000; text-decoration-color: #808000; font-weight: bold\">DeprecationWarning: Kernel._parent_header is deprecated in ipykernel 6. Use .get_parent()</span> \n",
       "<span style=\"color: #000000; text-decoration-color: #000000; font-weight: bold\">(raised from /mnt/data/work/repos/workshops/memes/env/lib/python3.9/site-packages/ipywidgets/</span>\n",
       "<span style=\"color: #000000; text-decoration-color: #000000; font-weight: bold\">widgets/widget_output.py:111)</span>\n",
       "</pre>\n"
      ],
      "text/plain": [
       "\u001b[1;33mDeprecationWarning: Kernel._parent_header is deprecated in ipykernel 6. Use .get_parent()\u001b[0m \n",
       "\u001b[1;30m(raised from /mnt/data/work/repos/workshops/memes/env/lib/python3.9/site-packages/ipywidgets/\u001b[0m\n",
       "\u001b[1;30mwidgets/widget_output.py:111)\u001b[0m\n"
      ]
     },
     "metadata": {},
     "output_type": "display_data"
    },
    {
     "data": {
      "text/html": [
       "<pre style=\"white-space:pre;overflow-x:auto;line-height:normal;font-family:Menlo,'DejaVu Sans Mono',consolas,'Courier New',monospace\"><span style=\"color: #808000; text-decoration-color: #808000; font-weight: bold\">DeprecationWarning: Kernel._parent_header is deprecated in ipykernel 6. Use .get_parent()</span> \n",
       "<span style=\"color: #000000; text-decoration-color: #000000; font-weight: bold\">(raised from /mnt/data/work/repos/workshops/memes/env/lib/python3.9/site-packages/ipywidgets/</span>\n",
       "<span style=\"color: #000000; text-decoration-color: #000000; font-weight: bold\">widgets/widget_output.py:112)</span>\n",
       "</pre>\n"
      ],
      "text/plain": [
       "\u001b[1;33mDeprecationWarning: Kernel._parent_header is deprecated in ipykernel 6. Use .get_parent()\u001b[0m \n",
       "\u001b[1;30m(raised from /mnt/data/work/repos/workshops/memes/env/lib/python3.9/site-packages/ipywidgets/\u001b[0m\n",
       "\u001b[1;30mwidgets/widget_output.py:112)\u001b[0m\n"
      ]
     },
     "metadata": {},
     "output_type": "display_data"
    },
    {
     "data": {
      "text/html": [
       "<pre style=\"white-space:pre;overflow-x:auto;line-height:normal;font-family:Menlo,'DejaVu Sans Mono',consolas,'Courier New',monospace\"><span style=\"color: #808000; text-decoration-color: #808000; font-weight: bold\">DeprecationWarning: Kernel._parent_header is deprecated in ipykernel 6. Use .get_parent()</span> \n",
       "<span style=\"color: #000000; text-decoration-color: #000000; font-weight: bold\">(raised from /mnt/data/work/repos/workshops/memes/env/lib/python3.9/site-packages/ipywidgets/</span>\n",
       "<span style=\"color: #000000; text-decoration-color: #000000; font-weight: bold\">widgets/widget_output.py:111)</span>\n",
       "</pre>\n"
      ],
      "text/plain": [
       "\u001b[1;33mDeprecationWarning: Kernel._parent_header is deprecated in ipykernel 6. Use .get_parent()\u001b[0m \n",
       "\u001b[1;30m(raised from /mnt/data/work/repos/workshops/memes/env/lib/python3.9/site-packages/ipywidgets/\u001b[0m\n",
       "\u001b[1;30mwidgets/widget_output.py:111)\u001b[0m\n"
      ]
     },
     "metadata": {},
     "output_type": "display_data"
    },
    {
     "data": {
      "text/html": [
       "<pre style=\"white-space:pre;overflow-x:auto;line-height:normal;font-family:Menlo,'DejaVu Sans Mono',consolas,'Courier New',monospace\"><span style=\"color: #808000; text-decoration-color: #808000; font-weight: bold\">DeprecationWarning: Kernel._parent_header is deprecated in ipykernel 6. Use .get_parent()</span> \n",
       "<span style=\"color: #000000; text-decoration-color: #000000; font-weight: bold\">(raised from /mnt/data/work/repos/workshops/memes/env/lib/python3.9/site-packages/ipywidgets/</span>\n",
       "<span style=\"color: #000000; text-decoration-color: #000000; font-weight: bold\">widgets/widget_output.py:112)</span>\n",
       "</pre>\n"
      ],
      "text/plain": [
       "\u001b[1;33mDeprecationWarning: Kernel._parent_header is deprecated in ipykernel 6. Use .get_parent()\u001b[0m \n",
       "\u001b[1;30m(raised from /mnt/data/work/repos/workshops/memes/env/lib/python3.9/site-packages/ipywidgets/\u001b[0m\n",
       "\u001b[1;30mwidgets/widget_output.py:112)\u001b[0m\n"
      ]
     },
     "metadata": {},
     "output_type": "display_data"
    },
    {
     "data": {
      "text/html": [
       "<pre style=\"white-space:pre;overflow-x:auto;line-height:normal;font-family:Menlo,'DejaVu Sans Mono',consolas,'Courier New',monospace\"><span style=\"color: #808000; text-decoration-color: #808000; font-weight: bold\">DeprecationWarning: Kernel._parent_header is deprecated in ipykernel 6. Use .get_parent()</span> \n",
       "<span style=\"color: #000000; text-decoration-color: #000000; font-weight: bold\">(raised from /mnt/data/work/repos/workshops/memes/env/lib/python3.9/site-packages/ipywidgets/</span>\n",
       "<span style=\"color: #000000; text-decoration-color: #000000; font-weight: bold\">widgets/widget_output.py:111)</span>\n",
       "</pre>\n"
      ],
      "text/plain": [
       "\u001b[1;33mDeprecationWarning: Kernel._parent_header is deprecated in ipykernel 6. Use .get_parent()\u001b[0m \n",
       "\u001b[1;30m(raised from /mnt/data/work/repos/workshops/memes/env/lib/python3.9/site-packages/ipywidgets/\u001b[0m\n",
       "\u001b[1;30mwidgets/widget_output.py:111)\u001b[0m\n"
      ]
     },
     "metadata": {},
     "output_type": "display_data"
    },
    {
     "data": {
      "text/html": [
       "<pre style=\"white-space:pre;overflow-x:auto;line-height:normal;font-family:Menlo,'DejaVu Sans Mono',consolas,'Courier New',monospace\"><span style=\"color: #808000; text-decoration-color: #808000; font-weight: bold\">DeprecationWarning: Kernel._parent_header is deprecated in ipykernel 6. Use .get_parent()</span> \n",
       "<span style=\"color: #000000; text-decoration-color: #000000; font-weight: bold\">(raised from /mnt/data/work/repos/workshops/memes/env/lib/python3.9/site-packages/ipywidgets/</span>\n",
       "<span style=\"color: #000000; text-decoration-color: #000000; font-weight: bold\">widgets/widget_output.py:112)</span>\n",
       "</pre>\n"
      ],
      "text/plain": [
       "\u001b[1;33mDeprecationWarning: Kernel._parent_header is deprecated in ipykernel 6. Use .get_parent()\u001b[0m \n",
       "\u001b[1;30m(raised from /mnt/data/work/repos/workshops/memes/env/lib/python3.9/site-packages/ipywidgets/\u001b[0m\n",
       "\u001b[1;30mwidgets/widget_output.py:112)\u001b[0m\n"
      ]
     },
     "metadata": {},
     "output_type": "display_data"
    },
    {
     "data": {
      "text/html": [
       "<pre style=\"white-space:pre;overflow-x:auto;line-height:normal;font-family:Menlo,'DejaVu Sans Mono',consolas,'Courier New',monospace\"><span style=\"color: #808000; text-decoration-color: #808000; font-weight: bold\">DeprecationWarning: Kernel._parent_header is deprecated in ipykernel 6. Use .get_parent()</span> \n",
       "<span style=\"color: #000000; text-decoration-color: #000000; font-weight: bold\">(raised from /mnt/data/work/repos/workshops/memes/env/lib/python3.9/site-packages/ipywidgets/</span>\n",
       "<span style=\"color: #000000; text-decoration-color: #000000; font-weight: bold\">widgets/widget_output.py:111)</span>\n",
       "</pre>\n"
      ],
      "text/plain": [
       "\u001b[1;33mDeprecationWarning: Kernel._parent_header is deprecated in ipykernel 6. Use .get_parent()\u001b[0m \n",
       "\u001b[1;30m(raised from /mnt/data/work/repos/workshops/memes/env/lib/python3.9/site-packages/ipywidgets/\u001b[0m\n",
       "\u001b[1;30mwidgets/widget_output.py:111)\u001b[0m\n"
      ]
     },
     "metadata": {},
     "output_type": "display_data"
    },
    {
     "data": {
      "text/html": [
       "<pre style=\"white-space:pre;overflow-x:auto;line-height:normal;font-family:Menlo,'DejaVu Sans Mono',consolas,'Courier New',monospace\"><span style=\"color: #808000; text-decoration-color: #808000; font-weight: bold\">DeprecationWarning: Kernel._parent_header is deprecated in ipykernel 6. Use .get_parent()</span> \n",
       "<span style=\"color: #000000; text-decoration-color: #000000; font-weight: bold\">(raised from /mnt/data/work/repos/workshops/memes/env/lib/python3.9/site-packages/ipywidgets/</span>\n",
       "<span style=\"color: #000000; text-decoration-color: #000000; font-weight: bold\">widgets/widget_output.py:112)</span>\n",
       "</pre>\n"
      ],
      "text/plain": [
       "\u001b[1;33mDeprecationWarning: Kernel._parent_header is deprecated in ipykernel 6. Use .get_parent()\u001b[0m \n",
       "\u001b[1;30m(raised from /mnt/data/work/repos/workshops/memes/env/lib/python3.9/site-packages/ipywidgets/\u001b[0m\n",
       "\u001b[1;30mwidgets/widget_output.py:112)\u001b[0m\n"
      ]
     },
     "metadata": {},
     "output_type": "display_data"
    },
    {
     "data": {
      "text/html": [
       "<pre style=\"white-space:pre;overflow-x:auto;line-height:normal;font-family:Menlo,'DejaVu Sans Mono',consolas,'Courier New',monospace\"><span style=\"color: #808000; text-decoration-color: #808000; font-weight: bold\">DeprecationWarning: Kernel._parent_header is deprecated in ipykernel 6. Use .get_parent()</span> \n",
       "<span style=\"color: #000000; text-decoration-color: #000000; font-weight: bold\">(raised from /mnt/data/work/repos/workshops/memes/env/lib/python3.9/site-packages/ipywidgets/</span>\n",
       "<span style=\"color: #000000; text-decoration-color: #000000; font-weight: bold\">widgets/widget_output.py:111)</span>\n",
       "</pre>\n"
      ],
      "text/plain": [
       "\u001b[1;33mDeprecationWarning: Kernel._parent_header is deprecated in ipykernel 6. Use .get_parent()\u001b[0m \n",
       "\u001b[1;30m(raised from /mnt/data/work/repos/workshops/memes/env/lib/python3.9/site-packages/ipywidgets/\u001b[0m\n",
       "\u001b[1;30mwidgets/widget_output.py:111)\u001b[0m\n"
      ]
     },
     "metadata": {},
     "output_type": "display_data"
    },
    {
     "data": {
      "text/html": [
       "<pre style=\"white-space:pre;overflow-x:auto;line-height:normal;font-family:Menlo,'DejaVu Sans Mono',consolas,'Courier New',monospace\"><span style=\"color: #808000; text-decoration-color: #808000; font-weight: bold\">DeprecationWarning: Kernel._parent_header is deprecated in ipykernel 6. Use .get_parent()</span> \n",
       "<span style=\"color: #000000; text-decoration-color: #000000; font-weight: bold\">(raised from /mnt/data/work/repos/workshops/memes/env/lib/python3.9/site-packages/ipywidgets/</span>\n",
       "<span style=\"color: #000000; text-decoration-color: #000000; font-weight: bold\">widgets/widget_output.py:112)</span>\n",
       "</pre>\n"
      ],
      "text/plain": [
       "\u001b[1;33mDeprecationWarning: Kernel._parent_header is deprecated in ipykernel 6. Use .get_parent()\u001b[0m \n",
       "\u001b[1;30m(raised from /mnt/data/work/repos/workshops/memes/env/lib/python3.9/site-packages/ipywidgets/\u001b[0m\n",
       "\u001b[1;30mwidgets/widget_output.py:112)\u001b[0m\n"
      ]
     },
     "metadata": {},
     "output_type": "display_data"
    },
    {
     "data": {
      "text/html": [
       "<pre style=\"white-space:pre;overflow-x:auto;line-height:normal;font-family:Menlo,'DejaVu Sans Mono',consolas,'Courier New',monospace\"><span style=\"color: #808000; text-decoration-color: #808000; font-weight: bold\">DeprecationWarning: Kernel._parent_header is deprecated in ipykernel 6. Use .get_parent()</span> \n",
       "<span style=\"color: #000000; text-decoration-color: #000000; font-weight: bold\">(raised from /mnt/data/work/repos/workshops/memes/env/lib/python3.9/site-packages/ipywidgets/</span>\n",
       "<span style=\"color: #000000; text-decoration-color: #000000; font-weight: bold\">widgets/widget_output.py:111)</span>\n",
       "</pre>\n"
      ],
      "text/plain": [
       "\u001b[1;33mDeprecationWarning: Kernel._parent_header is deprecated in ipykernel 6. Use .get_parent()\u001b[0m \n",
       "\u001b[1;30m(raised from /mnt/data/work/repos/workshops/memes/env/lib/python3.9/site-packages/ipywidgets/\u001b[0m\n",
       "\u001b[1;30mwidgets/widget_output.py:111)\u001b[0m\n"
      ]
     },
     "metadata": {},
     "output_type": "display_data"
    },
    {
     "data": {
      "text/html": [
       "<pre style=\"white-space:pre;overflow-x:auto;line-height:normal;font-family:Menlo,'DejaVu Sans Mono',consolas,'Courier New',monospace\"><span style=\"color: #808000; text-decoration-color: #808000; font-weight: bold\">DeprecationWarning: Kernel._parent_header is deprecated in ipykernel 6. Use .get_parent()</span> \n",
       "<span style=\"color: #000000; text-decoration-color: #000000; font-weight: bold\">(raised from /mnt/data/work/repos/workshops/memes/env/lib/python3.9/site-packages/ipywidgets/</span>\n",
       "<span style=\"color: #000000; text-decoration-color: #000000; font-weight: bold\">widgets/widget_output.py:112)</span>\n",
       "</pre>\n"
      ],
      "text/plain": [
       "\u001b[1;33mDeprecationWarning: Kernel._parent_header is deprecated in ipykernel 6. Use .get_parent()\u001b[0m \n",
       "\u001b[1;30m(raised from /mnt/data/work/repos/workshops/memes/env/lib/python3.9/site-packages/ipywidgets/\u001b[0m\n",
       "\u001b[1;30mwidgets/widget_output.py:112)\u001b[0m\n"
      ]
     },
     "metadata": {},
     "output_type": "display_data"
    },
    {
     "data": {
      "text/html": [
       "<pre style=\"white-space:pre;overflow-x:auto;line-height:normal;font-family:Menlo,'DejaVu Sans Mono',consolas,'Courier New',monospace\"><span style=\"color: #808000; text-decoration-color: #808000; font-weight: bold\">DeprecationWarning: Kernel._parent_header is deprecated in ipykernel 6. Use .get_parent()</span> \n",
       "<span style=\"color: #000000; text-decoration-color: #000000; font-weight: bold\">(raised from /mnt/data/work/repos/workshops/memes/env/lib/python3.9/site-packages/ipywidgets/</span>\n",
       "<span style=\"color: #000000; text-decoration-color: #000000; font-weight: bold\">widgets/widget_output.py:111)</span>\n",
       "</pre>\n"
      ],
      "text/plain": [
       "\u001b[1;33mDeprecationWarning: Kernel._parent_header is deprecated in ipykernel 6. Use .get_parent()\u001b[0m \n",
       "\u001b[1;30m(raised from /mnt/data/work/repos/workshops/memes/env/lib/python3.9/site-packages/ipywidgets/\u001b[0m\n",
       "\u001b[1;30mwidgets/widget_output.py:111)\u001b[0m\n"
      ]
     },
     "metadata": {},
     "output_type": "display_data"
    },
    {
     "data": {
      "text/html": [
       "<pre style=\"white-space:pre;overflow-x:auto;line-height:normal;font-family:Menlo,'DejaVu Sans Mono',consolas,'Courier New',monospace\"><span style=\"color: #808000; text-decoration-color: #808000; font-weight: bold\">DeprecationWarning: Kernel._parent_header is deprecated in ipykernel 6. Use .get_parent()</span> \n",
       "<span style=\"color: #000000; text-decoration-color: #000000; font-weight: bold\">(raised from /mnt/data/work/repos/workshops/memes/env/lib/python3.9/site-packages/ipywidgets/</span>\n",
       "<span style=\"color: #000000; text-decoration-color: #000000; font-weight: bold\">widgets/widget_output.py:112)</span>\n",
       "</pre>\n"
      ],
      "text/plain": [
       "\u001b[1;33mDeprecationWarning: Kernel._parent_header is deprecated in ipykernel 6. Use .get_parent()\u001b[0m \n",
       "\u001b[1;30m(raised from /mnt/data/work/repos/workshops/memes/env/lib/python3.9/site-packages/ipywidgets/\u001b[0m\n",
       "\u001b[1;30mwidgets/widget_output.py:112)\u001b[0m\n"
      ]
     },
     "metadata": {},
     "output_type": "display_data"
    },
    {
     "data": {
      "text/html": [
       "<pre style=\"white-space:pre;overflow-x:auto;line-height:normal;font-family:Menlo,'DejaVu Sans Mono',consolas,'Courier New',monospace\"><span style=\"color: #808000; text-decoration-color: #808000; font-weight: bold\">DeprecationWarning: Kernel._parent_header is deprecated in ipykernel 6. Use .get_parent()</span> \n",
       "<span style=\"color: #000000; text-decoration-color: #000000; font-weight: bold\">(raised from /mnt/data/work/repos/workshops/memes/env/lib/python3.9/site-packages/ipywidgets/</span>\n",
       "<span style=\"color: #000000; text-decoration-color: #000000; font-weight: bold\">widgets/widget_output.py:111)</span>\n",
       "</pre>\n"
      ],
      "text/plain": [
       "\u001b[1;33mDeprecationWarning: Kernel._parent_header is deprecated in ipykernel 6. Use .get_parent()\u001b[0m \n",
       "\u001b[1;30m(raised from /mnt/data/work/repos/workshops/memes/env/lib/python3.9/site-packages/ipywidgets/\u001b[0m\n",
       "\u001b[1;30mwidgets/widget_output.py:111)\u001b[0m\n"
      ]
     },
     "metadata": {},
     "output_type": "display_data"
    },
    {
     "data": {
      "text/html": [
       "<pre style=\"white-space:pre;overflow-x:auto;line-height:normal;font-family:Menlo,'DejaVu Sans Mono',consolas,'Courier New',monospace\"><span style=\"color: #808000; text-decoration-color: #808000; font-weight: bold\">DeprecationWarning: Kernel._parent_header is deprecated in ipykernel 6. Use .get_parent()</span> \n",
       "<span style=\"color: #000000; text-decoration-color: #000000; font-weight: bold\">(raised from /mnt/data/work/repos/workshops/memes/env/lib/python3.9/site-packages/ipywidgets/</span>\n",
       "<span style=\"color: #000000; text-decoration-color: #000000; font-weight: bold\">widgets/widget_output.py:112)</span>\n",
       "</pre>\n"
      ],
      "text/plain": [
       "\u001b[1;33mDeprecationWarning: Kernel._parent_header is deprecated in ipykernel 6. Use .get_parent()\u001b[0m \n",
       "\u001b[1;30m(raised from /mnt/data/work/repos/workshops/memes/env/lib/python3.9/site-packages/ipywidgets/\u001b[0m\n",
       "\u001b[1;30mwidgets/widget_output.py:112)\u001b[0m\n"
      ]
     },
     "metadata": {},
     "output_type": "display_data"
    },
    {
     "data": {
      "text/html": [
       "<pre style=\"white-space:pre;overflow-x:auto;line-height:normal;font-family:Menlo,'DejaVu Sans Mono',consolas,'Courier New',monospace\"><span style=\"color: #808000; text-decoration-color: #808000; font-weight: bold\">DeprecationWarning: Kernel._parent_header is deprecated in ipykernel 6. Use .get_parent()</span> \n",
       "<span style=\"color: #000000; text-decoration-color: #000000; font-weight: bold\">(raised from /mnt/data/work/repos/workshops/memes/env/lib/python3.9/site-packages/ipywidgets/</span>\n",
       "<span style=\"color: #000000; text-decoration-color: #000000; font-weight: bold\">widgets/widget_output.py:111)</span>\n",
       "</pre>\n"
      ],
      "text/plain": [
       "\u001b[1;33mDeprecationWarning: Kernel._parent_header is deprecated in ipykernel 6. Use .get_parent()\u001b[0m \n",
       "\u001b[1;30m(raised from /mnt/data/work/repos/workshops/memes/env/lib/python3.9/site-packages/ipywidgets/\u001b[0m\n",
       "\u001b[1;30mwidgets/widget_output.py:111)\u001b[0m\n"
      ]
     },
     "metadata": {},
     "output_type": "display_data"
    },
    {
     "data": {
      "text/html": [
       "<pre style=\"white-space:pre;overflow-x:auto;line-height:normal;font-family:Menlo,'DejaVu Sans Mono',consolas,'Courier New',monospace\"><span style=\"color: #808000; text-decoration-color: #808000; font-weight: bold\">DeprecationWarning: Kernel._parent_header is deprecated in ipykernel 6. Use .get_parent()</span> \n",
       "<span style=\"color: #000000; text-decoration-color: #000000; font-weight: bold\">(raised from /mnt/data/work/repos/workshops/memes/env/lib/python3.9/site-packages/ipywidgets/</span>\n",
       "<span style=\"color: #000000; text-decoration-color: #000000; font-weight: bold\">widgets/widget_output.py:112)</span>\n",
       "</pre>\n"
      ],
      "text/plain": [
       "\u001b[1;33mDeprecationWarning: Kernel._parent_header is deprecated in ipykernel 6. Use .get_parent()\u001b[0m \n",
       "\u001b[1;30m(raised from /mnt/data/work/repos/workshops/memes/env/lib/python3.9/site-packages/ipywidgets/\u001b[0m\n",
       "\u001b[1;30mwidgets/widget_output.py:112)\u001b[0m\n"
      ]
     },
     "metadata": {},
     "output_type": "display_data"
    },
    {
     "data": {
      "text/html": [
       "<pre style=\"white-space:pre;overflow-x:auto;line-height:normal;font-family:Menlo,'DejaVu Sans Mono',consolas,'Courier New',monospace\"><span style=\"color: #808000; text-decoration-color: #808000; font-weight: bold\">DeprecationWarning: Kernel._parent_header is deprecated in ipykernel 6. Use .get_parent()</span> \n",
       "<span style=\"color: #000000; text-decoration-color: #000000; font-weight: bold\">(raised from /mnt/data/work/repos/workshops/memes/env/lib/python3.9/site-packages/ipywidgets/</span>\n",
       "<span style=\"color: #000000; text-decoration-color: #000000; font-weight: bold\">widgets/widget_output.py:111)</span>\n",
       "</pre>\n"
      ],
      "text/plain": [
       "\u001b[1;33mDeprecationWarning: Kernel._parent_header is deprecated in ipykernel 6. Use .get_parent()\u001b[0m \n",
       "\u001b[1;30m(raised from /mnt/data/work/repos/workshops/memes/env/lib/python3.9/site-packages/ipywidgets/\u001b[0m\n",
       "\u001b[1;30mwidgets/widget_output.py:111)\u001b[0m\n"
      ]
     },
     "metadata": {},
     "output_type": "display_data"
    },
    {
     "data": {
      "text/html": [
       "<pre style=\"white-space:pre;overflow-x:auto;line-height:normal;font-family:Menlo,'DejaVu Sans Mono',consolas,'Courier New',monospace\"><span style=\"color: #808000; text-decoration-color: #808000; font-weight: bold\">DeprecationWarning: Kernel._parent_header is deprecated in ipykernel 6. Use .get_parent()</span> \n",
       "<span style=\"color: #000000; text-decoration-color: #000000; font-weight: bold\">(raised from /mnt/data/work/repos/workshops/memes/env/lib/python3.9/site-packages/ipywidgets/</span>\n",
       "<span style=\"color: #000000; text-decoration-color: #000000; font-weight: bold\">widgets/widget_output.py:112)</span>\n",
       "</pre>\n"
      ],
      "text/plain": [
       "\u001b[1;33mDeprecationWarning: Kernel._parent_header is deprecated in ipykernel 6. Use .get_parent()\u001b[0m \n",
       "\u001b[1;30m(raised from /mnt/data/work/repos/workshops/memes/env/lib/python3.9/site-packages/ipywidgets/\u001b[0m\n",
       "\u001b[1;30mwidgets/widget_output.py:112)\u001b[0m\n"
      ]
     },
     "metadata": {},
     "output_type": "display_data"
    },
    {
     "data": {
      "text/html": [
       "<pre style=\"white-space:pre;overflow-x:auto;line-height:normal;font-family:Menlo,'DejaVu Sans Mono',consolas,'Courier New',monospace\"><span style=\"color: #808000; text-decoration-color: #808000; font-weight: bold\">DeprecationWarning: Kernel._parent_header is deprecated in ipykernel 6. Use .get_parent()</span> \n",
       "<span style=\"color: #000000; text-decoration-color: #000000; font-weight: bold\">(raised from /mnt/data/work/repos/workshops/memes/env/lib/python3.9/site-packages/ipywidgets/</span>\n",
       "<span style=\"color: #000000; text-decoration-color: #000000; font-weight: bold\">widgets/widget_output.py:111)</span>\n",
       "</pre>\n"
      ],
      "text/plain": [
       "\u001b[1;33mDeprecationWarning: Kernel._parent_header is deprecated in ipykernel 6. Use .get_parent()\u001b[0m \n",
       "\u001b[1;30m(raised from /mnt/data/work/repos/workshops/memes/env/lib/python3.9/site-packages/ipywidgets/\u001b[0m\n",
       "\u001b[1;30mwidgets/widget_output.py:111)\u001b[0m\n"
      ]
     },
     "metadata": {},
     "output_type": "display_data"
    },
    {
     "data": {
      "text/html": [
       "<pre style=\"white-space:pre;overflow-x:auto;line-height:normal;font-family:Menlo,'DejaVu Sans Mono',consolas,'Courier New',monospace\"><span style=\"color: #808000; text-decoration-color: #808000; font-weight: bold\">DeprecationWarning: Kernel._parent_header is deprecated in ipykernel 6. Use .get_parent()</span> \n",
       "<span style=\"color: #000000; text-decoration-color: #000000; font-weight: bold\">(raised from /mnt/data/work/repos/workshops/memes/env/lib/python3.9/site-packages/ipywidgets/</span>\n",
       "<span style=\"color: #000000; text-decoration-color: #000000; font-weight: bold\">widgets/widget_output.py:112)</span>\n",
       "</pre>\n"
      ],
      "text/plain": [
       "\u001b[1;33mDeprecationWarning: Kernel._parent_header is deprecated in ipykernel 6. Use .get_parent()\u001b[0m \n",
       "\u001b[1;30m(raised from /mnt/data/work/repos/workshops/memes/env/lib/python3.9/site-packages/ipywidgets/\u001b[0m\n",
       "\u001b[1;30mwidgets/widget_output.py:112)\u001b[0m\n"
      ]
     },
     "metadata": {},
     "output_type": "display_data"
    },
    {
     "data": {
      "text/html": [
       "<pre style=\"white-space:pre;overflow-x:auto;line-height:normal;font-family:Menlo,'DejaVu Sans Mono',consolas,'Courier New',monospace\"><span style=\"color: #808000; text-decoration-color: #808000; font-weight: bold\">DeprecationWarning: Kernel._parent_header is deprecated in ipykernel 6. Use .get_parent()</span> \n",
       "<span style=\"color: #000000; text-decoration-color: #000000; font-weight: bold\">(raised from /mnt/data/work/repos/workshops/memes/env/lib/python3.9/site-packages/ipywidgets/</span>\n",
       "<span style=\"color: #000000; text-decoration-color: #000000; font-weight: bold\">widgets/widget_output.py:111)</span>\n",
       "</pre>\n"
      ],
      "text/plain": [
       "\u001b[1;33mDeprecationWarning: Kernel._parent_header is deprecated in ipykernel 6. Use .get_parent()\u001b[0m \n",
       "\u001b[1;30m(raised from /mnt/data/work/repos/workshops/memes/env/lib/python3.9/site-packages/ipywidgets/\u001b[0m\n",
       "\u001b[1;30mwidgets/widget_output.py:111)\u001b[0m\n"
      ]
     },
     "metadata": {},
     "output_type": "display_data"
    },
    {
     "data": {
      "text/html": [
       "<pre style=\"white-space:pre;overflow-x:auto;line-height:normal;font-family:Menlo,'DejaVu Sans Mono',consolas,'Courier New',monospace\"><span style=\"color: #808000; text-decoration-color: #808000; font-weight: bold\">DeprecationWarning: Kernel._parent_header is deprecated in ipykernel 6. Use .get_parent()</span> \n",
       "<span style=\"color: #000000; text-decoration-color: #000000; font-weight: bold\">(raised from /mnt/data/work/repos/workshops/memes/env/lib/python3.9/site-packages/ipywidgets/</span>\n",
       "<span style=\"color: #000000; text-decoration-color: #000000; font-weight: bold\">widgets/widget_output.py:112)</span>\n",
       "</pre>\n"
      ],
      "text/plain": [
       "\u001b[1;33mDeprecationWarning: Kernel._parent_header is deprecated in ipykernel 6. Use .get_parent()\u001b[0m \n",
       "\u001b[1;30m(raised from /mnt/data/work/repos/workshops/memes/env/lib/python3.9/site-packages/ipywidgets/\u001b[0m\n",
       "\u001b[1;30mwidgets/widget_output.py:112)\u001b[0m\n"
      ]
     },
     "metadata": {},
     "output_type": "display_data"
    },
    {
     "data": {
      "text/html": [
       "<pre style=\"white-space:pre;overflow-x:auto;line-height:normal;font-family:Menlo,'DejaVu Sans Mono',consolas,'Courier New',monospace\"></pre>\n"
      ],
      "text/plain": []
     },
     "metadata": {},
     "output_type": "display_data"
    },
    {
     "data": {
      "text/html": [
       "<pre style=\"white-space:pre;overflow-x:auto;line-height:normal;font-family:Menlo,'DejaVu Sans Mono',consolas,'Courier New',monospace\"></pre>\n"
      ],
      "text/plain": []
     },
     "metadata": {},
     "output_type": "display_data"
    },
    {
     "data": {
      "text/html": [
       "<pre style=\"white-space:pre;overflow-x:auto;line-height:normal;font-family:Menlo,'DejaVu Sans Mono',consolas,'Courier New',monospace\"></pre>\n"
      ],
      "text/plain": []
     },
     "metadata": {},
     "output_type": "display_data"
    },
    {
     "data": {
      "application/vnd.jupyter.widget-view+json": {
       "model_id": "",
       "version_major": 2,
       "version_minor": 0
      },
      "text/plain": [
       "Output()"
      ]
     },
     "metadata": {},
     "output_type": "display_data"
    },
    {
     "data": {
      "text/html": [
       "<pre style=\"white-space:pre;overflow-x:auto;line-height:normal;font-family:Menlo,'DejaVu Sans Mono',consolas,'Courier New',monospace\"><span style=\"color: #808000; text-decoration-color: #808000; font-weight: bold\">DeprecationWarning: Kernel._parent_header is deprecated in ipykernel 6. Use .get_parent()</span> \n",
       "<span style=\"color: #000000; text-decoration-color: #000000; font-weight: bold\">(raised from /mnt/data/work/repos/workshops/memes/env/lib/python3.9/site-packages/ipywidgets/</span>\n",
       "<span style=\"color: #000000; text-decoration-color: #000000; font-weight: bold\">widgets/widget_output.py:111)</span>\n",
       "</pre>\n"
      ],
      "text/plain": [
       "\u001b[1;33mDeprecationWarning: Kernel._parent_header is deprecated in ipykernel 6. Use .get_parent()\u001b[0m \n",
       "\u001b[1;30m(raised from /mnt/data/work/repos/workshops/memes/env/lib/python3.9/site-packages/ipywidgets/\u001b[0m\n",
       "\u001b[1;30mwidgets/widget_output.py:111)\u001b[0m\n"
      ]
     },
     "metadata": {},
     "output_type": "display_data"
    },
    {
     "data": {
      "text/html": [
       "<pre style=\"white-space:pre;overflow-x:auto;line-height:normal;font-family:Menlo,'DejaVu Sans Mono',consolas,'Courier New',monospace\"><span style=\"color: #808000; text-decoration-color: #808000; font-weight: bold\">DeprecationWarning: Kernel._parent_header is deprecated in ipykernel 6. Use .get_parent()</span> \n",
       "<span style=\"color: #000000; text-decoration-color: #000000; font-weight: bold\">(raised from /mnt/data/work/repos/workshops/memes/env/lib/python3.9/site-packages/ipywidgets/</span>\n",
       "<span style=\"color: #000000; text-decoration-color: #000000; font-weight: bold\">widgets/widget_output.py:112)</span>\n",
       "</pre>\n"
      ],
      "text/plain": [
       "\u001b[1;33mDeprecationWarning: Kernel._parent_header is deprecated in ipykernel 6. Use .get_parent()\u001b[0m \n",
       "\u001b[1;30m(raised from /mnt/data/work/repos/workshops/memes/env/lib/python3.9/site-packages/ipywidgets/\u001b[0m\n",
       "\u001b[1;30mwidgets/widget_output.py:112)\u001b[0m\n"
      ]
     },
     "metadata": {},
     "output_type": "display_data"
    },
    {
     "data": {
      "text/html": [
       "<pre style=\"white-space:pre;overflow-x:auto;line-height:normal;font-family:Menlo,'DejaVu Sans Mono',consolas,'Courier New',monospace\"><span style=\"color: #808000; text-decoration-color: #808000; font-weight: bold\">DeprecationWarning: Kernel._parent_header is deprecated in ipykernel 6. Use .get_parent()</span> \n",
       "<span style=\"color: #000000; text-decoration-color: #000000; font-weight: bold\">(raised from /mnt/data/work/repos/workshops/memes/env/lib/python3.9/site-packages/ipywidgets/</span>\n",
       "<span style=\"color: #000000; text-decoration-color: #000000; font-weight: bold\">widgets/widget_output.py:111)</span>\n",
       "</pre>\n"
      ],
      "text/plain": [
       "\u001b[1;33mDeprecationWarning: Kernel._parent_header is deprecated in ipykernel 6. Use .get_parent()\u001b[0m \n",
       "\u001b[1;30m(raised from /mnt/data/work/repos/workshops/memes/env/lib/python3.9/site-packages/ipywidgets/\u001b[0m\n",
       "\u001b[1;30mwidgets/widget_output.py:111)\u001b[0m\n"
      ]
     },
     "metadata": {},
     "output_type": "display_data"
    },
    {
     "data": {
      "text/html": [
       "<pre style=\"white-space:pre;overflow-x:auto;line-height:normal;font-family:Menlo,'DejaVu Sans Mono',consolas,'Courier New',monospace\"><span style=\"color: #808000; text-decoration-color: #808000; font-weight: bold\">DeprecationWarning: Kernel._parent_header is deprecated in ipykernel 6. Use .get_parent()</span> \n",
       "<span style=\"color: #000000; text-decoration-color: #000000; font-weight: bold\">(raised from /mnt/data/work/repos/workshops/memes/env/lib/python3.9/site-packages/ipywidgets/</span>\n",
       "<span style=\"color: #000000; text-decoration-color: #000000; font-weight: bold\">widgets/widget_output.py:112)</span>\n",
       "</pre>\n"
      ],
      "text/plain": [
       "\u001b[1;33mDeprecationWarning: Kernel._parent_header is deprecated in ipykernel 6. Use .get_parent()\u001b[0m \n",
       "\u001b[1;30m(raised from /mnt/data/work/repos/workshops/memes/env/lib/python3.9/site-packages/ipywidgets/\u001b[0m\n",
       "\u001b[1;30mwidgets/widget_output.py:112)\u001b[0m\n"
      ]
     },
     "metadata": {},
     "output_type": "display_data"
    },
    {
     "data": {
      "text/html": [
       "<pre style=\"white-space:pre;overflow-x:auto;line-height:normal;font-family:Menlo,'DejaVu Sans Mono',consolas,'Courier New',monospace\"><span style=\"color: #808000; text-decoration-color: #808000; font-weight: bold\">DeprecationWarning: Kernel._parent_header is deprecated in ipykernel 6. Use .get_parent()</span> \n",
       "<span style=\"color: #000000; text-decoration-color: #000000; font-weight: bold\">(raised from /mnt/data/work/repos/workshops/memes/env/lib/python3.9/site-packages/ipywidgets/</span>\n",
       "<span style=\"color: #000000; text-decoration-color: #000000; font-weight: bold\">widgets/widget_output.py:111)</span>\n",
       "</pre>\n"
      ],
      "text/plain": [
       "\u001b[1;33mDeprecationWarning: Kernel._parent_header is deprecated in ipykernel 6. Use .get_parent()\u001b[0m \n",
       "\u001b[1;30m(raised from /mnt/data/work/repos/workshops/memes/env/lib/python3.9/site-packages/ipywidgets/\u001b[0m\n",
       "\u001b[1;30mwidgets/widget_output.py:111)\u001b[0m\n"
      ]
     },
     "metadata": {},
     "output_type": "display_data"
    },
    {
     "data": {
      "text/html": [
       "<pre style=\"white-space:pre;overflow-x:auto;line-height:normal;font-family:Menlo,'DejaVu Sans Mono',consolas,'Courier New',monospace\"><span style=\"color: #808000; text-decoration-color: #808000; font-weight: bold\">DeprecationWarning: Kernel._parent_header is deprecated in ipykernel 6. Use .get_parent()</span> \n",
       "<span style=\"color: #000000; text-decoration-color: #000000; font-weight: bold\">(raised from /mnt/data/work/repos/workshops/memes/env/lib/python3.9/site-packages/ipywidgets/</span>\n",
       "<span style=\"color: #000000; text-decoration-color: #000000; font-weight: bold\">widgets/widget_output.py:112)</span>\n",
       "</pre>\n"
      ],
      "text/plain": [
       "\u001b[1;33mDeprecationWarning: Kernel._parent_header is deprecated in ipykernel 6. Use .get_parent()\u001b[0m \n",
       "\u001b[1;30m(raised from /mnt/data/work/repos/workshops/memes/env/lib/python3.9/site-packages/ipywidgets/\u001b[0m\n",
       "\u001b[1;30mwidgets/widget_output.py:112)\u001b[0m\n"
      ]
     },
     "metadata": {},
     "output_type": "display_data"
    },
    {
     "data": {
      "text/html": [
       "<pre style=\"white-space:pre;overflow-x:auto;line-height:normal;font-family:Menlo,'DejaVu Sans Mono',consolas,'Courier New',monospace\"><span style=\"color: #808000; text-decoration-color: #808000; font-weight: bold\">DeprecationWarning: Kernel._parent_header is deprecated in ipykernel 6. Use .get_parent()</span> \n",
       "<span style=\"color: #000000; text-decoration-color: #000000; font-weight: bold\">(raised from /mnt/data/work/repos/workshops/memes/env/lib/python3.9/site-packages/ipywidgets/</span>\n",
       "<span style=\"color: #000000; text-decoration-color: #000000; font-weight: bold\">widgets/widget_output.py:111)</span>\n",
       "</pre>\n"
      ],
      "text/plain": [
       "\u001b[1;33mDeprecationWarning: Kernel._parent_header is deprecated in ipykernel 6. Use .get_parent()\u001b[0m \n",
       "\u001b[1;30m(raised from /mnt/data/work/repos/workshops/memes/env/lib/python3.9/site-packages/ipywidgets/\u001b[0m\n",
       "\u001b[1;30mwidgets/widget_output.py:111)\u001b[0m\n"
      ]
     },
     "metadata": {},
     "output_type": "display_data"
    },
    {
     "data": {
      "text/html": [
       "<pre style=\"white-space:pre;overflow-x:auto;line-height:normal;font-family:Menlo,'DejaVu Sans Mono',consolas,'Courier New',monospace\"><span style=\"color: #808000; text-decoration-color: #808000; font-weight: bold\">DeprecationWarning: Kernel._parent_header is deprecated in ipykernel 6. Use .get_parent()</span> \n",
       "<span style=\"color: #000000; text-decoration-color: #000000; font-weight: bold\">(raised from /mnt/data/work/repos/workshops/memes/env/lib/python3.9/site-packages/ipywidgets/</span>\n",
       "<span style=\"color: #000000; text-decoration-color: #000000; font-weight: bold\">widgets/widget_output.py:112)</span>\n",
       "</pre>\n"
      ],
      "text/plain": [
       "\u001b[1;33mDeprecationWarning: Kernel._parent_header is deprecated in ipykernel 6. Use .get_parent()\u001b[0m \n",
       "\u001b[1;30m(raised from /mnt/data/work/repos/workshops/memes/env/lib/python3.9/site-packages/ipywidgets/\u001b[0m\n",
       "\u001b[1;30mwidgets/widget_output.py:112)\u001b[0m\n"
      ]
     },
     "metadata": {},
     "output_type": "display_data"
    },
    {
     "data": {
      "text/html": [
       "<pre style=\"white-space:pre;overflow-x:auto;line-height:normal;font-family:Menlo,'DejaVu Sans Mono',consolas,'Courier New',monospace\"><span style=\"color: #808000; text-decoration-color: #808000; font-weight: bold\">DeprecationWarning: Kernel._parent_header is deprecated in ipykernel 6. Use .get_parent()</span> \n",
       "<span style=\"color: #000000; text-decoration-color: #000000; font-weight: bold\">(raised from /mnt/data/work/repos/workshops/memes/env/lib/python3.9/site-packages/ipywidgets/</span>\n",
       "<span style=\"color: #000000; text-decoration-color: #000000; font-weight: bold\">widgets/widget_output.py:111)</span>\n",
       "</pre>\n"
      ],
      "text/plain": [
       "\u001b[1;33mDeprecationWarning: Kernel._parent_header is deprecated in ipykernel 6. Use .get_parent()\u001b[0m \n",
       "\u001b[1;30m(raised from /mnt/data/work/repos/workshops/memes/env/lib/python3.9/site-packages/ipywidgets/\u001b[0m\n",
       "\u001b[1;30mwidgets/widget_output.py:111)\u001b[0m\n"
      ]
     },
     "metadata": {},
     "output_type": "display_data"
    },
    {
     "data": {
      "text/html": [
       "<pre style=\"white-space:pre;overflow-x:auto;line-height:normal;font-family:Menlo,'DejaVu Sans Mono',consolas,'Courier New',monospace\"><span style=\"color: #808000; text-decoration-color: #808000; font-weight: bold\">DeprecationWarning: Kernel._parent_header is deprecated in ipykernel 6. Use .get_parent()</span> \n",
       "<span style=\"color: #000000; text-decoration-color: #000000; font-weight: bold\">(raised from /mnt/data/work/repos/workshops/memes/env/lib/python3.9/site-packages/ipywidgets/</span>\n",
       "<span style=\"color: #000000; text-decoration-color: #000000; font-weight: bold\">widgets/widget_output.py:112)</span>\n",
       "</pre>\n"
      ],
      "text/plain": [
       "\u001b[1;33mDeprecationWarning: Kernel._parent_header is deprecated in ipykernel 6. Use .get_parent()\u001b[0m \n",
       "\u001b[1;30m(raised from /mnt/data/work/repos/workshops/memes/env/lib/python3.9/site-packages/ipywidgets/\u001b[0m\n",
       "\u001b[1;30mwidgets/widget_output.py:112)\u001b[0m\n"
      ]
     },
     "metadata": {},
     "output_type": "display_data"
    },
    {
     "data": {
      "text/html": [
       "<pre style=\"white-space:pre;overflow-x:auto;line-height:normal;font-family:Menlo,'DejaVu Sans Mono',consolas,'Courier New',monospace\"><span style=\"color: #808000; text-decoration-color: #808000; font-weight: bold\">DeprecationWarning: Kernel._parent_header is deprecated in ipykernel 6. Use .get_parent()</span> \n",
       "<span style=\"color: #000000; text-decoration-color: #000000; font-weight: bold\">(raised from /mnt/data/work/repos/workshops/memes/env/lib/python3.9/site-packages/ipywidgets/</span>\n",
       "<span style=\"color: #000000; text-decoration-color: #000000; font-weight: bold\">widgets/widget_output.py:111)</span>\n",
       "</pre>\n"
      ],
      "text/plain": [
       "\u001b[1;33mDeprecationWarning: Kernel._parent_header is deprecated in ipykernel 6. Use .get_parent()\u001b[0m \n",
       "\u001b[1;30m(raised from /mnt/data/work/repos/workshops/memes/env/lib/python3.9/site-packages/ipywidgets/\u001b[0m\n",
       "\u001b[1;30mwidgets/widget_output.py:111)\u001b[0m\n"
      ]
     },
     "metadata": {},
     "output_type": "display_data"
    },
    {
     "data": {
      "text/html": [
       "<pre style=\"white-space:pre;overflow-x:auto;line-height:normal;font-family:Menlo,'DejaVu Sans Mono',consolas,'Courier New',monospace\"><span style=\"color: #808000; text-decoration-color: #808000; font-weight: bold\">DeprecationWarning: Kernel._parent_header is deprecated in ipykernel 6. Use .get_parent()</span> \n",
       "<span style=\"color: #000000; text-decoration-color: #000000; font-weight: bold\">(raised from /mnt/data/work/repos/workshops/memes/env/lib/python3.9/site-packages/ipywidgets/</span>\n",
       "<span style=\"color: #000000; text-decoration-color: #000000; font-weight: bold\">widgets/widget_output.py:112)</span>\n",
       "</pre>\n"
      ],
      "text/plain": [
       "\u001b[1;33mDeprecationWarning: Kernel._parent_header is deprecated in ipykernel 6. Use .get_parent()\u001b[0m \n",
       "\u001b[1;30m(raised from /mnt/data/work/repos/workshops/memes/env/lib/python3.9/site-packages/ipywidgets/\u001b[0m\n",
       "\u001b[1;30mwidgets/widget_output.py:112)\u001b[0m\n"
      ]
     },
     "metadata": {},
     "output_type": "display_data"
    },
    {
     "data": {
      "text/html": [
       "<pre style=\"white-space:pre;overflow-x:auto;line-height:normal;font-family:Menlo,'DejaVu Sans Mono',consolas,'Courier New',monospace\"><span style=\"color: #808000; text-decoration-color: #808000; font-weight: bold\">DeprecationWarning: Kernel._parent_header is deprecated in ipykernel 6. Use .get_parent()</span> \n",
       "<span style=\"color: #000000; text-decoration-color: #000000; font-weight: bold\">(raised from /mnt/data/work/repos/workshops/memes/env/lib/python3.9/site-packages/ipywidgets/</span>\n",
       "<span style=\"color: #000000; text-decoration-color: #000000; font-weight: bold\">widgets/widget_output.py:111)</span>\n",
       "</pre>\n"
      ],
      "text/plain": [
       "\u001b[1;33mDeprecationWarning: Kernel._parent_header is deprecated in ipykernel 6. Use .get_parent()\u001b[0m \n",
       "\u001b[1;30m(raised from /mnt/data/work/repos/workshops/memes/env/lib/python3.9/site-packages/ipywidgets/\u001b[0m\n",
       "\u001b[1;30mwidgets/widget_output.py:111)\u001b[0m\n"
      ]
     },
     "metadata": {},
     "output_type": "display_data"
    },
    {
     "data": {
      "text/html": [
       "<pre style=\"white-space:pre;overflow-x:auto;line-height:normal;font-family:Menlo,'DejaVu Sans Mono',consolas,'Courier New',monospace\"><span style=\"color: #808000; text-decoration-color: #808000; font-weight: bold\">DeprecationWarning: Kernel._parent_header is deprecated in ipykernel 6. Use .get_parent()</span> \n",
       "<span style=\"color: #000000; text-decoration-color: #000000; font-weight: bold\">(raised from /mnt/data/work/repos/workshops/memes/env/lib/python3.9/site-packages/ipywidgets/</span>\n",
       "<span style=\"color: #000000; text-decoration-color: #000000; font-weight: bold\">widgets/widget_output.py:112)</span>\n",
       "</pre>\n"
      ],
      "text/plain": [
       "\u001b[1;33mDeprecationWarning: Kernel._parent_header is deprecated in ipykernel 6. Use .get_parent()\u001b[0m \n",
       "\u001b[1;30m(raised from /mnt/data/work/repos/workshops/memes/env/lib/python3.9/site-packages/ipywidgets/\u001b[0m\n",
       "\u001b[1;30mwidgets/widget_output.py:112)\u001b[0m\n"
      ]
     },
     "metadata": {},
     "output_type": "display_data"
    },
    {
     "data": {
      "text/html": [
       "<pre style=\"white-space:pre;overflow-x:auto;line-height:normal;font-family:Menlo,'DejaVu Sans Mono',consolas,'Courier New',monospace\"><span style=\"color: #808000; text-decoration-color: #808000; font-weight: bold\">DeprecationWarning: Kernel._parent_header is deprecated in ipykernel 6. Use .get_parent()</span> \n",
       "<span style=\"color: #000000; text-decoration-color: #000000; font-weight: bold\">(raised from /mnt/data/work/repos/workshops/memes/env/lib/python3.9/site-packages/ipywidgets/</span>\n",
       "<span style=\"color: #000000; text-decoration-color: #000000; font-weight: bold\">widgets/widget_output.py:111)</span>\n",
       "</pre>\n"
      ],
      "text/plain": [
       "\u001b[1;33mDeprecationWarning: Kernel._parent_header is deprecated in ipykernel 6. Use .get_parent()\u001b[0m \n",
       "\u001b[1;30m(raised from /mnt/data/work/repos/workshops/memes/env/lib/python3.9/site-packages/ipywidgets/\u001b[0m\n",
       "\u001b[1;30mwidgets/widget_output.py:111)\u001b[0m\n"
      ]
     },
     "metadata": {},
     "output_type": "display_data"
    },
    {
     "data": {
      "text/html": [
       "<pre style=\"white-space:pre;overflow-x:auto;line-height:normal;font-family:Menlo,'DejaVu Sans Mono',consolas,'Courier New',monospace\"><span style=\"color: #808000; text-decoration-color: #808000; font-weight: bold\">DeprecationWarning: Kernel._parent_header is deprecated in ipykernel 6. Use .get_parent()</span> \n",
       "<span style=\"color: #000000; text-decoration-color: #000000; font-weight: bold\">(raised from /mnt/data/work/repos/workshops/memes/env/lib/python3.9/site-packages/ipywidgets/</span>\n",
       "<span style=\"color: #000000; text-decoration-color: #000000; font-weight: bold\">widgets/widget_output.py:112)</span>\n",
       "</pre>\n"
      ],
      "text/plain": [
       "\u001b[1;33mDeprecationWarning: Kernel._parent_header is deprecated in ipykernel 6. Use .get_parent()\u001b[0m \n",
       "\u001b[1;30m(raised from /mnt/data/work/repos/workshops/memes/env/lib/python3.9/site-packages/ipywidgets/\u001b[0m\n",
       "\u001b[1;30mwidgets/widget_output.py:112)\u001b[0m\n"
      ]
     },
     "metadata": {},
     "output_type": "display_data"
    },
    {
     "data": {
      "text/html": [
       "<pre style=\"white-space:pre;overflow-x:auto;line-height:normal;font-family:Menlo,'DejaVu Sans Mono',consolas,'Courier New',monospace\"><span style=\"color: #808000; text-decoration-color: #808000; font-weight: bold\">DeprecationWarning: Kernel._parent_header is deprecated in ipykernel 6. Use .get_parent()</span> \n",
       "<span style=\"color: #000000; text-decoration-color: #000000; font-weight: bold\">(raised from /mnt/data/work/repos/workshops/memes/env/lib/python3.9/site-packages/ipywidgets/</span>\n",
       "<span style=\"color: #000000; text-decoration-color: #000000; font-weight: bold\">widgets/widget_output.py:111)</span>\n",
       "</pre>\n"
      ],
      "text/plain": [
       "\u001b[1;33mDeprecationWarning: Kernel._parent_header is deprecated in ipykernel 6. Use .get_parent()\u001b[0m \n",
       "\u001b[1;30m(raised from /mnt/data/work/repos/workshops/memes/env/lib/python3.9/site-packages/ipywidgets/\u001b[0m\n",
       "\u001b[1;30mwidgets/widget_output.py:111)\u001b[0m\n"
      ]
     },
     "metadata": {},
     "output_type": "display_data"
    },
    {
     "data": {
      "text/html": [
       "<pre style=\"white-space:pre;overflow-x:auto;line-height:normal;font-family:Menlo,'DejaVu Sans Mono',consolas,'Courier New',monospace\"><span style=\"color: #808000; text-decoration-color: #808000; font-weight: bold\">DeprecationWarning: Kernel._parent_header is deprecated in ipykernel 6. Use .get_parent()</span> \n",
       "<span style=\"color: #000000; text-decoration-color: #000000; font-weight: bold\">(raised from /mnt/data/work/repos/workshops/memes/env/lib/python3.9/site-packages/ipywidgets/</span>\n",
       "<span style=\"color: #000000; text-decoration-color: #000000; font-weight: bold\">widgets/widget_output.py:112)</span>\n",
       "</pre>\n"
      ],
      "text/plain": [
       "\u001b[1;33mDeprecationWarning: Kernel._parent_header is deprecated in ipykernel 6. Use .get_parent()\u001b[0m \n",
       "\u001b[1;30m(raised from /mnt/data/work/repos/workshops/memes/env/lib/python3.9/site-packages/ipywidgets/\u001b[0m\n",
       "\u001b[1;30mwidgets/widget_output.py:112)\u001b[0m\n"
      ]
     },
     "metadata": {},
     "output_type": "display_data"
    },
    {
     "data": {
      "text/html": [
       "<pre style=\"white-space:pre;overflow-x:auto;line-height:normal;font-family:Menlo,'DejaVu Sans Mono',consolas,'Courier New',monospace\"><span style=\"color: #808000; text-decoration-color: #808000; font-weight: bold\">DeprecationWarning: Kernel._parent_header is deprecated in ipykernel 6. Use .get_parent()</span> \n",
       "<span style=\"color: #000000; text-decoration-color: #000000; font-weight: bold\">(raised from /mnt/data/work/repos/workshops/memes/env/lib/python3.9/site-packages/ipywidgets/</span>\n",
       "<span style=\"color: #000000; text-decoration-color: #000000; font-weight: bold\">widgets/widget_output.py:111)</span>\n",
       "</pre>\n"
      ],
      "text/plain": [
       "\u001b[1;33mDeprecationWarning: Kernel._parent_header is deprecated in ipykernel 6. Use .get_parent()\u001b[0m \n",
       "\u001b[1;30m(raised from /mnt/data/work/repos/workshops/memes/env/lib/python3.9/site-packages/ipywidgets/\u001b[0m\n",
       "\u001b[1;30mwidgets/widget_output.py:111)\u001b[0m\n"
      ]
     },
     "metadata": {},
     "output_type": "display_data"
    },
    {
     "data": {
      "text/html": [
       "<pre style=\"white-space:pre;overflow-x:auto;line-height:normal;font-family:Menlo,'DejaVu Sans Mono',consolas,'Courier New',monospace\"><span style=\"color: #808000; text-decoration-color: #808000; font-weight: bold\">DeprecationWarning: Kernel._parent_header is deprecated in ipykernel 6. Use .get_parent()</span> \n",
       "<span style=\"color: #000000; text-decoration-color: #000000; font-weight: bold\">(raised from /mnt/data/work/repos/workshops/memes/env/lib/python3.9/site-packages/ipywidgets/</span>\n",
       "<span style=\"color: #000000; text-decoration-color: #000000; font-weight: bold\">widgets/widget_output.py:112)</span>\n",
       "</pre>\n"
      ],
      "text/plain": [
       "\u001b[1;33mDeprecationWarning: Kernel._parent_header is deprecated in ipykernel 6. Use .get_parent()\u001b[0m \n",
       "\u001b[1;30m(raised from /mnt/data/work/repos/workshops/memes/env/lib/python3.9/site-packages/ipywidgets/\u001b[0m\n",
       "\u001b[1;30mwidgets/widget_output.py:112)\u001b[0m\n"
      ]
     },
     "metadata": {},
     "output_type": "display_data"
    },
    {
     "data": {
      "text/html": [
       "<pre style=\"white-space:pre;overflow-x:auto;line-height:normal;font-family:Menlo,'DejaVu Sans Mono',consolas,'Courier New',monospace\"><span style=\"color: #808000; text-decoration-color: #808000; font-weight: bold\">DeprecationWarning: Kernel._parent_header is deprecated in ipykernel 6. Use .get_parent()</span> \n",
       "<span style=\"color: #000000; text-decoration-color: #000000; font-weight: bold\">(raised from /mnt/data/work/repos/workshops/memes/env/lib/python3.9/site-packages/ipywidgets/</span>\n",
       "<span style=\"color: #000000; text-decoration-color: #000000; font-weight: bold\">widgets/widget_output.py:111)</span>\n",
       "</pre>\n"
      ],
      "text/plain": [
       "\u001b[1;33mDeprecationWarning: Kernel._parent_header is deprecated in ipykernel 6. Use .get_parent()\u001b[0m \n",
       "\u001b[1;30m(raised from /mnt/data/work/repos/workshops/memes/env/lib/python3.9/site-packages/ipywidgets/\u001b[0m\n",
       "\u001b[1;30mwidgets/widget_output.py:111)\u001b[0m\n"
      ]
     },
     "metadata": {},
     "output_type": "display_data"
    },
    {
     "data": {
      "text/html": [
       "<pre style=\"white-space:pre;overflow-x:auto;line-height:normal;font-family:Menlo,'DejaVu Sans Mono',consolas,'Courier New',monospace\"><span style=\"color: #808000; text-decoration-color: #808000; font-weight: bold\">DeprecationWarning: Kernel._parent_header is deprecated in ipykernel 6. Use .get_parent()</span> \n",
       "<span style=\"color: #000000; text-decoration-color: #000000; font-weight: bold\">(raised from /mnt/data/work/repos/workshops/memes/env/lib/python3.9/site-packages/ipywidgets/</span>\n",
       "<span style=\"color: #000000; text-decoration-color: #000000; font-weight: bold\">widgets/widget_output.py:112)</span>\n",
       "</pre>\n"
      ],
      "text/plain": [
       "\u001b[1;33mDeprecationWarning: Kernel._parent_header is deprecated in ipykernel 6. Use .get_parent()\u001b[0m \n",
       "\u001b[1;30m(raised from /mnt/data/work/repos/workshops/memes/env/lib/python3.9/site-packages/ipywidgets/\u001b[0m\n",
       "\u001b[1;30mwidgets/widget_output.py:112)\u001b[0m\n"
      ]
     },
     "metadata": {},
     "output_type": "display_data"
    },
    {
     "data": {
      "text/html": [
       "<pre style=\"white-space:pre;overflow-x:auto;line-height:normal;font-family:Menlo,'DejaVu Sans Mono',consolas,'Courier New',monospace\"><span style=\"color: #808000; text-decoration-color: #808000; font-weight: bold\">DeprecationWarning: Kernel._parent_header is deprecated in ipykernel 6. Use .get_parent()</span> \n",
       "<span style=\"color: #000000; text-decoration-color: #000000; font-weight: bold\">(raised from /mnt/data/work/repos/workshops/memes/env/lib/python3.9/site-packages/ipywidgets/</span>\n",
       "<span style=\"color: #000000; text-decoration-color: #000000; font-weight: bold\">widgets/widget_output.py:111)</span>\n",
       "</pre>\n"
      ],
      "text/plain": [
       "\u001b[1;33mDeprecationWarning: Kernel._parent_header is deprecated in ipykernel 6. Use .get_parent()\u001b[0m \n",
       "\u001b[1;30m(raised from /mnt/data/work/repos/workshops/memes/env/lib/python3.9/site-packages/ipywidgets/\u001b[0m\n",
       "\u001b[1;30mwidgets/widget_output.py:111)\u001b[0m\n"
      ]
     },
     "metadata": {},
     "output_type": "display_data"
    },
    {
     "data": {
      "text/html": [
       "<pre style=\"white-space:pre;overflow-x:auto;line-height:normal;font-family:Menlo,'DejaVu Sans Mono',consolas,'Courier New',monospace\"><span style=\"color: #808000; text-decoration-color: #808000; font-weight: bold\">DeprecationWarning: Kernel._parent_header is deprecated in ipykernel 6. Use .get_parent()</span> \n",
       "<span style=\"color: #000000; text-decoration-color: #000000; font-weight: bold\">(raised from /mnt/data/work/repos/workshops/memes/env/lib/python3.9/site-packages/ipywidgets/</span>\n",
       "<span style=\"color: #000000; text-decoration-color: #000000; font-weight: bold\">widgets/widget_output.py:112)</span>\n",
       "</pre>\n"
      ],
      "text/plain": [
       "\u001b[1;33mDeprecationWarning: Kernel._parent_header is deprecated in ipykernel 6. Use .get_parent()\u001b[0m \n",
       "\u001b[1;30m(raised from /mnt/data/work/repos/workshops/memes/env/lib/python3.9/site-packages/ipywidgets/\u001b[0m\n",
       "\u001b[1;30mwidgets/widget_output.py:112)\u001b[0m\n"
      ]
     },
     "metadata": {},
     "output_type": "display_data"
    },
    {
     "data": {
      "text/html": [
       "<pre style=\"white-space:pre;overflow-x:auto;line-height:normal;font-family:Menlo,'DejaVu Sans Mono',consolas,'Courier New',monospace\"><span style=\"color: #808000; text-decoration-color: #808000; font-weight: bold\">DeprecationWarning: Kernel._parent_header is deprecated in ipykernel 6. Use .get_parent()</span> \n",
       "<span style=\"color: #000000; text-decoration-color: #000000; font-weight: bold\">(raised from /mnt/data/work/repos/workshops/memes/env/lib/python3.9/site-packages/ipywidgets/</span>\n",
       "<span style=\"color: #000000; text-decoration-color: #000000; font-weight: bold\">widgets/widget_output.py:111)</span>\n",
       "</pre>\n"
      ],
      "text/plain": [
       "\u001b[1;33mDeprecationWarning: Kernel._parent_header is deprecated in ipykernel 6. Use .get_parent()\u001b[0m \n",
       "\u001b[1;30m(raised from /mnt/data/work/repos/workshops/memes/env/lib/python3.9/site-packages/ipywidgets/\u001b[0m\n",
       "\u001b[1;30mwidgets/widget_output.py:111)\u001b[0m\n"
      ]
     },
     "metadata": {},
     "output_type": "display_data"
    },
    {
     "data": {
      "text/html": [
       "<pre style=\"white-space:pre;overflow-x:auto;line-height:normal;font-family:Menlo,'DejaVu Sans Mono',consolas,'Courier New',monospace\"><span style=\"color: #808000; text-decoration-color: #808000; font-weight: bold\">DeprecationWarning: Kernel._parent_header is deprecated in ipykernel 6. Use .get_parent()</span> \n",
       "<span style=\"color: #000000; text-decoration-color: #000000; font-weight: bold\">(raised from /mnt/data/work/repos/workshops/memes/env/lib/python3.9/site-packages/ipywidgets/</span>\n",
       "<span style=\"color: #000000; text-decoration-color: #000000; font-weight: bold\">widgets/widget_output.py:112)</span>\n",
       "</pre>\n"
      ],
      "text/plain": [
       "\u001b[1;33mDeprecationWarning: Kernel._parent_header is deprecated in ipykernel 6. Use .get_parent()\u001b[0m \n",
       "\u001b[1;30m(raised from /mnt/data/work/repos/workshops/memes/env/lib/python3.9/site-packages/ipywidgets/\u001b[0m\n",
       "\u001b[1;30mwidgets/widget_output.py:112)\u001b[0m\n"
      ]
     },
     "metadata": {},
     "output_type": "display_data"
    },
    {
     "data": {
      "text/html": [
       "<pre style=\"white-space:pre;overflow-x:auto;line-height:normal;font-family:Menlo,'DejaVu Sans Mono',consolas,'Courier New',monospace\"><span style=\"color: #808000; text-decoration-color: #808000; font-weight: bold\">DeprecationWarning: Kernel._parent_header is deprecated in ipykernel 6. Use .get_parent()</span> \n",
       "<span style=\"color: #000000; text-decoration-color: #000000; font-weight: bold\">(raised from /mnt/data/work/repos/workshops/memes/env/lib/python3.9/site-packages/ipywidgets/</span>\n",
       "<span style=\"color: #000000; text-decoration-color: #000000; font-weight: bold\">widgets/widget_output.py:111)</span>\n",
       "</pre>\n"
      ],
      "text/plain": [
       "\u001b[1;33mDeprecationWarning: Kernel._parent_header is deprecated in ipykernel 6. Use .get_parent()\u001b[0m \n",
       "\u001b[1;30m(raised from /mnt/data/work/repos/workshops/memes/env/lib/python3.9/site-packages/ipywidgets/\u001b[0m\n",
       "\u001b[1;30mwidgets/widget_output.py:111)\u001b[0m\n"
      ]
     },
     "metadata": {},
     "output_type": "display_data"
    },
    {
     "data": {
      "text/html": [
       "<pre style=\"white-space:pre;overflow-x:auto;line-height:normal;font-family:Menlo,'DejaVu Sans Mono',consolas,'Courier New',monospace\"><span style=\"color: #808000; text-decoration-color: #808000; font-weight: bold\">DeprecationWarning: Kernel._parent_header is deprecated in ipykernel 6. Use .get_parent()</span> \n",
       "<span style=\"color: #000000; text-decoration-color: #000000; font-weight: bold\">(raised from /mnt/data/work/repos/workshops/memes/env/lib/python3.9/site-packages/ipywidgets/</span>\n",
       "<span style=\"color: #000000; text-decoration-color: #000000; font-weight: bold\">widgets/widget_output.py:112)</span>\n",
       "</pre>\n"
      ],
      "text/plain": [
       "\u001b[1;33mDeprecationWarning: Kernel._parent_header is deprecated in ipykernel 6. Use .get_parent()\u001b[0m \n",
       "\u001b[1;30m(raised from /mnt/data/work/repos/workshops/memes/env/lib/python3.9/site-packages/ipywidgets/\u001b[0m\n",
       "\u001b[1;30mwidgets/widget_output.py:112)\u001b[0m\n"
      ]
     },
     "metadata": {},
     "output_type": "display_data"
    },
    {
     "data": {
      "text/html": [
       "<pre style=\"white-space:pre;overflow-x:auto;line-height:normal;font-family:Menlo,'DejaVu Sans Mono',consolas,'Courier New',monospace\"><span style=\"color: #808000; text-decoration-color: #808000; font-weight: bold\">DeprecationWarning: Kernel._parent_header is deprecated in ipykernel 6. Use .get_parent()</span> \n",
       "<span style=\"color: #000000; text-decoration-color: #000000; font-weight: bold\">(raised from /mnt/data/work/repos/workshops/memes/env/lib/python3.9/site-packages/ipywidgets/</span>\n",
       "<span style=\"color: #000000; text-decoration-color: #000000; font-weight: bold\">widgets/widget_output.py:111)</span>\n",
       "</pre>\n"
      ],
      "text/plain": [
       "\u001b[1;33mDeprecationWarning: Kernel._parent_header is deprecated in ipykernel 6. Use .get_parent()\u001b[0m \n",
       "\u001b[1;30m(raised from /mnt/data/work/repos/workshops/memes/env/lib/python3.9/site-packages/ipywidgets/\u001b[0m\n",
       "\u001b[1;30mwidgets/widget_output.py:111)\u001b[0m\n"
      ]
     },
     "metadata": {},
     "output_type": "display_data"
    },
    {
     "data": {
      "text/html": [
       "<pre style=\"white-space:pre;overflow-x:auto;line-height:normal;font-family:Menlo,'DejaVu Sans Mono',consolas,'Courier New',monospace\"><span style=\"color: #808000; text-decoration-color: #808000; font-weight: bold\">DeprecationWarning: Kernel._parent_header is deprecated in ipykernel 6. Use .get_parent()</span> \n",
       "<span style=\"color: #000000; text-decoration-color: #000000; font-weight: bold\">(raised from /mnt/data/work/repos/workshops/memes/env/lib/python3.9/site-packages/ipywidgets/</span>\n",
       "<span style=\"color: #000000; text-decoration-color: #000000; font-weight: bold\">widgets/widget_output.py:112)</span>\n",
       "</pre>\n"
      ],
      "text/plain": [
       "\u001b[1;33mDeprecationWarning: Kernel._parent_header is deprecated in ipykernel 6. Use .get_parent()\u001b[0m \n",
       "\u001b[1;30m(raised from /mnt/data/work/repos/workshops/memes/env/lib/python3.9/site-packages/ipywidgets/\u001b[0m\n",
       "\u001b[1;30mwidgets/widget_output.py:112)\u001b[0m\n"
      ]
     },
     "metadata": {},
     "output_type": "display_data"
    },
    {
     "data": {
      "text/html": [
       "<pre style=\"white-space:pre;overflow-x:auto;line-height:normal;font-family:Menlo,'DejaVu Sans Mono',consolas,'Courier New',monospace\"><span style=\"color: #808000; text-decoration-color: #808000; font-weight: bold\">DeprecationWarning: Kernel._parent_header is deprecated in ipykernel 6. Use .get_parent()</span> \n",
       "<span style=\"color: #000000; text-decoration-color: #000000; font-weight: bold\">(raised from /mnt/data/work/repos/workshops/memes/env/lib/python3.9/site-packages/ipywidgets/</span>\n",
       "<span style=\"color: #000000; text-decoration-color: #000000; font-weight: bold\">widgets/widget_output.py:111)</span>\n",
       "</pre>\n"
      ],
      "text/plain": [
       "\u001b[1;33mDeprecationWarning: Kernel._parent_header is deprecated in ipykernel 6. Use .get_parent()\u001b[0m \n",
       "\u001b[1;30m(raised from /mnt/data/work/repos/workshops/memes/env/lib/python3.9/site-packages/ipywidgets/\u001b[0m\n",
       "\u001b[1;30mwidgets/widget_output.py:111)\u001b[0m\n"
      ]
     },
     "metadata": {},
     "output_type": "display_data"
    },
    {
     "data": {
      "text/html": [
       "<pre style=\"white-space:pre;overflow-x:auto;line-height:normal;font-family:Menlo,'DejaVu Sans Mono',consolas,'Courier New',monospace\"><span style=\"color: #808000; text-decoration-color: #808000; font-weight: bold\">DeprecationWarning: Kernel._parent_header is deprecated in ipykernel 6. Use .get_parent()</span> \n",
       "<span style=\"color: #000000; text-decoration-color: #000000; font-weight: bold\">(raised from /mnt/data/work/repos/workshops/memes/env/lib/python3.9/site-packages/ipywidgets/</span>\n",
       "<span style=\"color: #000000; text-decoration-color: #000000; font-weight: bold\">widgets/widget_output.py:112)</span>\n",
       "</pre>\n"
      ],
      "text/plain": [
       "\u001b[1;33mDeprecationWarning: Kernel._parent_header is deprecated in ipykernel 6. Use .get_parent()\u001b[0m \n",
       "\u001b[1;30m(raised from /mnt/data/work/repos/workshops/memes/env/lib/python3.9/site-packages/ipywidgets/\u001b[0m\n",
       "\u001b[1;30mwidgets/widget_output.py:112)\u001b[0m\n"
      ]
     },
     "metadata": {},
     "output_type": "display_data"
    },
    {
     "data": {
      "text/html": [
       "<pre style=\"white-space:pre;overflow-x:auto;line-height:normal;font-family:Menlo,'DejaVu Sans Mono',consolas,'Courier New',monospace\"><span style=\"color: #808000; text-decoration-color: #808000; font-weight: bold\">DeprecationWarning: Kernel._parent_header is deprecated in ipykernel 6. Use .get_parent()</span> \n",
       "<span style=\"color: #000000; text-decoration-color: #000000; font-weight: bold\">(raised from /mnt/data/work/repos/workshops/memes/env/lib/python3.9/site-packages/ipywidgets/</span>\n",
       "<span style=\"color: #000000; text-decoration-color: #000000; font-weight: bold\">widgets/widget_output.py:111)</span>\n",
       "</pre>\n"
      ],
      "text/plain": [
       "\u001b[1;33mDeprecationWarning: Kernel._parent_header is deprecated in ipykernel 6. Use .get_parent()\u001b[0m \n",
       "\u001b[1;30m(raised from /mnt/data/work/repos/workshops/memes/env/lib/python3.9/site-packages/ipywidgets/\u001b[0m\n",
       "\u001b[1;30mwidgets/widget_output.py:111)\u001b[0m\n"
      ]
     },
     "metadata": {},
     "output_type": "display_data"
    },
    {
     "data": {
      "text/html": [
       "<pre style=\"white-space:pre;overflow-x:auto;line-height:normal;font-family:Menlo,'DejaVu Sans Mono',consolas,'Courier New',monospace\"><span style=\"color: #808000; text-decoration-color: #808000; font-weight: bold\">DeprecationWarning: Kernel._parent_header is deprecated in ipykernel 6. Use .get_parent()</span> \n",
       "<span style=\"color: #000000; text-decoration-color: #000000; font-weight: bold\">(raised from /mnt/data/work/repos/workshops/memes/env/lib/python3.9/site-packages/ipywidgets/</span>\n",
       "<span style=\"color: #000000; text-decoration-color: #000000; font-weight: bold\">widgets/widget_output.py:112)</span>\n",
       "</pre>\n"
      ],
      "text/plain": [
       "\u001b[1;33mDeprecationWarning: Kernel._parent_header is deprecated in ipykernel 6. Use .get_parent()\u001b[0m \n",
       "\u001b[1;30m(raised from /mnt/data/work/repos/workshops/memes/env/lib/python3.9/site-packages/ipywidgets/\u001b[0m\n",
       "\u001b[1;30mwidgets/widget_output.py:112)\u001b[0m\n"
      ]
     },
     "metadata": {},
     "output_type": "display_data"
    },
    {
     "data": {
      "text/html": [
       "<pre style=\"white-space:pre;overflow-x:auto;line-height:normal;font-family:Menlo,'DejaVu Sans Mono',consolas,'Courier New',monospace\"><span style=\"color: #808000; text-decoration-color: #808000; font-weight: bold\">DeprecationWarning: Kernel._parent_header is deprecated in ipykernel 6. Use .get_parent()</span> \n",
       "<span style=\"color: #000000; text-decoration-color: #000000; font-weight: bold\">(raised from /mnt/data/work/repos/workshops/memes/env/lib/python3.9/site-packages/ipywidgets/</span>\n",
       "<span style=\"color: #000000; text-decoration-color: #000000; font-weight: bold\">widgets/widget_output.py:111)</span>\n",
       "</pre>\n"
      ],
      "text/plain": [
       "\u001b[1;33mDeprecationWarning: Kernel._parent_header is deprecated in ipykernel 6. Use .get_parent()\u001b[0m \n",
       "\u001b[1;30m(raised from /mnt/data/work/repos/workshops/memes/env/lib/python3.9/site-packages/ipywidgets/\u001b[0m\n",
       "\u001b[1;30mwidgets/widget_output.py:111)\u001b[0m\n"
      ]
     },
     "metadata": {},
     "output_type": "display_data"
    },
    {
     "data": {
      "text/html": [
       "<pre style=\"white-space:pre;overflow-x:auto;line-height:normal;font-family:Menlo,'DejaVu Sans Mono',consolas,'Courier New',monospace\"><span style=\"color: #808000; text-decoration-color: #808000; font-weight: bold\">DeprecationWarning: Kernel._parent_header is deprecated in ipykernel 6. Use .get_parent()</span> \n",
       "<span style=\"color: #000000; text-decoration-color: #000000; font-weight: bold\">(raised from /mnt/data/work/repos/workshops/memes/env/lib/python3.9/site-packages/ipywidgets/</span>\n",
       "<span style=\"color: #000000; text-decoration-color: #000000; font-weight: bold\">widgets/widget_output.py:112)</span>\n",
       "</pre>\n"
      ],
      "text/plain": [
       "\u001b[1;33mDeprecationWarning: Kernel._parent_header is deprecated in ipykernel 6. Use .get_parent()\u001b[0m \n",
       "\u001b[1;30m(raised from /mnt/data/work/repos/workshops/memes/env/lib/python3.9/site-packages/ipywidgets/\u001b[0m\n",
       "\u001b[1;30mwidgets/widget_output.py:112)\u001b[0m\n"
      ]
     },
     "metadata": {},
     "output_type": "display_data"
    },
    {
     "data": {
      "text/html": [
       "<pre style=\"white-space:pre;overflow-x:auto;line-height:normal;font-family:Menlo,'DejaVu Sans Mono',consolas,'Courier New',monospace\"><span style=\"color: #808000; text-decoration-color: #808000; font-weight: bold\">DeprecationWarning: Kernel._parent_header is deprecated in ipykernel 6. Use .get_parent()</span> \n",
       "<span style=\"color: #000000; text-decoration-color: #000000; font-weight: bold\">(raised from /mnt/data/work/repos/workshops/memes/env/lib/python3.9/site-packages/ipywidgets/</span>\n",
       "<span style=\"color: #000000; text-decoration-color: #000000; font-weight: bold\">widgets/widget_output.py:111)</span>\n",
       "</pre>\n"
      ],
      "text/plain": [
       "\u001b[1;33mDeprecationWarning: Kernel._parent_header is deprecated in ipykernel 6. Use .get_parent()\u001b[0m \n",
       "\u001b[1;30m(raised from /mnt/data/work/repos/workshops/memes/env/lib/python3.9/site-packages/ipywidgets/\u001b[0m\n",
       "\u001b[1;30mwidgets/widget_output.py:111)\u001b[0m\n"
      ]
     },
     "metadata": {},
     "output_type": "display_data"
    },
    {
     "data": {
      "text/html": [
       "<pre style=\"white-space:pre;overflow-x:auto;line-height:normal;font-family:Menlo,'DejaVu Sans Mono',consolas,'Courier New',monospace\"><span style=\"color: #808000; text-decoration-color: #808000; font-weight: bold\">DeprecationWarning: Kernel._parent_header is deprecated in ipykernel 6. Use .get_parent()</span> \n",
       "<span style=\"color: #000000; text-decoration-color: #000000; font-weight: bold\">(raised from /mnt/data/work/repos/workshops/memes/env/lib/python3.9/site-packages/ipywidgets/</span>\n",
       "<span style=\"color: #000000; text-decoration-color: #000000; font-weight: bold\">widgets/widget_output.py:112)</span>\n",
       "</pre>\n"
      ],
      "text/plain": [
       "\u001b[1;33mDeprecationWarning: Kernel._parent_header is deprecated in ipykernel 6. Use .get_parent()\u001b[0m \n",
       "\u001b[1;30m(raised from /mnt/data/work/repos/workshops/memes/env/lib/python3.9/site-packages/ipywidgets/\u001b[0m\n",
       "\u001b[1;30mwidgets/widget_output.py:112)\u001b[0m\n"
      ]
     },
     "metadata": {},
     "output_type": "display_data"
    },
    {
     "data": {
      "text/html": [
       "<pre style=\"white-space:pre;overflow-x:auto;line-height:normal;font-family:Menlo,'DejaVu Sans Mono',consolas,'Courier New',monospace\"><span style=\"color: #808000; text-decoration-color: #808000; font-weight: bold\">DeprecationWarning: Kernel._parent_header is deprecated in ipykernel 6. Use .get_parent()</span> \n",
       "<span style=\"color: #000000; text-decoration-color: #000000; font-weight: bold\">(raised from /mnt/data/work/repos/workshops/memes/env/lib/python3.9/site-packages/ipywidgets/</span>\n",
       "<span style=\"color: #000000; text-decoration-color: #000000; font-weight: bold\">widgets/widget_output.py:111)</span>\n",
       "</pre>\n"
      ],
      "text/plain": [
       "\u001b[1;33mDeprecationWarning: Kernel._parent_header is deprecated in ipykernel 6. Use .get_parent()\u001b[0m \n",
       "\u001b[1;30m(raised from /mnt/data/work/repos/workshops/memes/env/lib/python3.9/site-packages/ipywidgets/\u001b[0m\n",
       "\u001b[1;30mwidgets/widget_output.py:111)\u001b[0m\n"
      ]
     },
     "metadata": {},
     "output_type": "display_data"
    },
    {
     "data": {
      "text/html": [
       "<pre style=\"white-space:pre;overflow-x:auto;line-height:normal;font-family:Menlo,'DejaVu Sans Mono',consolas,'Courier New',monospace\"><span style=\"color: #808000; text-decoration-color: #808000; font-weight: bold\">DeprecationWarning: Kernel._parent_header is deprecated in ipykernel 6. Use .get_parent()</span> \n",
       "<span style=\"color: #000000; text-decoration-color: #000000; font-weight: bold\">(raised from /mnt/data/work/repos/workshops/memes/env/lib/python3.9/site-packages/ipywidgets/</span>\n",
       "<span style=\"color: #000000; text-decoration-color: #000000; font-weight: bold\">widgets/widget_output.py:112)</span>\n",
       "</pre>\n"
      ],
      "text/plain": [
       "\u001b[1;33mDeprecationWarning: Kernel._parent_header is deprecated in ipykernel 6. Use .get_parent()\u001b[0m \n",
       "\u001b[1;30m(raised from /mnt/data/work/repos/workshops/memes/env/lib/python3.9/site-packages/ipywidgets/\u001b[0m\n",
       "\u001b[1;30mwidgets/widget_output.py:112)\u001b[0m\n"
      ]
     },
     "metadata": {},
     "output_type": "display_data"
    },
    {
     "data": {
      "text/html": [
       "<pre style=\"white-space:pre;overflow-x:auto;line-height:normal;font-family:Menlo,'DejaVu Sans Mono',consolas,'Courier New',monospace\"><span style=\"color: #808000; text-decoration-color: #808000; font-weight: bold\">DeprecationWarning: Kernel._parent_header is deprecated in ipykernel 6. Use .get_parent()</span> \n",
       "<span style=\"color: #000000; text-decoration-color: #000000; font-weight: bold\">(raised from /mnt/data/work/repos/workshops/memes/env/lib/python3.9/site-packages/ipywidgets/</span>\n",
       "<span style=\"color: #000000; text-decoration-color: #000000; font-weight: bold\">widgets/widget_output.py:111)</span>\n",
       "</pre>\n"
      ],
      "text/plain": [
       "\u001b[1;33mDeprecationWarning: Kernel._parent_header is deprecated in ipykernel 6. Use .get_parent()\u001b[0m \n",
       "\u001b[1;30m(raised from /mnt/data/work/repos/workshops/memes/env/lib/python3.9/site-packages/ipywidgets/\u001b[0m\n",
       "\u001b[1;30mwidgets/widget_output.py:111)\u001b[0m\n"
      ]
     },
     "metadata": {},
     "output_type": "display_data"
    },
    {
     "data": {
      "text/html": [
       "<pre style=\"white-space:pre;overflow-x:auto;line-height:normal;font-family:Menlo,'DejaVu Sans Mono',consolas,'Courier New',monospace\"><span style=\"color: #808000; text-decoration-color: #808000; font-weight: bold\">DeprecationWarning: Kernel._parent_header is deprecated in ipykernel 6. Use .get_parent()</span> \n",
       "<span style=\"color: #000000; text-decoration-color: #000000; font-weight: bold\">(raised from /mnt/data/work/repos/workshops/memes/env/lib/python3.9/site-packages/ipywidgets/</span>\n",
       "<span style=\"color: #000000; text-decoration-color: #000000; font-weight: bold\">widgets/widget_output.py:112)</span>\n",
       "</pre>\n"
      ],
      "text/plain": [
       "\u001b[1;33mDeprecationWarning: Kernel._parent_header is deprecated in ipykernel 6. Use .get_parent()\u001b[0m \n",
       "\u001b[1;30m(raised from /mnt/data/work/repos/workshops/memes/env/lib/python3.9/site-packages/ipywidgets/\u001b[0m\n",
       "\u001b[1;30mwidgets/widget_output.py:112)\u001b[0m\n"
      ]
     },
     "metadata": {},
     "output_type": "display_data"
    },
    {
     "data": {
      "text/html": [
       "<pre style=\"white-space:pre;overflow-x:auto;line-height:normal;font-family:Menlo,'DejaVu Sans Mono',consolas,'Courier New',monospace\"><span style=\"color: #808000; text-decoration-color: #808000; font-weight: bold\">DeprecationWarning: Kernel._parent_header is deprecated in ipykernel 6. Use .get_parent()</span> \n",
       "<span style=\"color: #000000; text-decoration-color: #000000; font-weight: bold\">(raised from /mnt/data/work/repos/workshops/memes/env/lib/python3.9/site-packages/ipywidgets/</span>\n",
       "<span style=\"color: #000000; text-decoration-color: #000000; font-weight: bold\">widgets/widget_output.py:111)</span>\n",
       "</pre>\n"
      ],
      "text/plain": [
       "\u001b[1;33mDeprecationWarning: Kernel._parent_header is deprecated in ipykernel 6. Use .get_parent()\u001b[0m \n",
       "\u001b[1;30m(raised from /mnt/data/work/repos/workshops/memes/env/lib/python3.9/site-packages/ipywidgets/\u001b[0m\n",
       "\u001b[1;30mwidgets/widget_output.py:111)\u001b[0m\n"
      ]
     },
     "metadata": {},
     "output_type": "display_data"
    },
    {
     "data": {
      "text/html": [
       "<pre style=\"white-space:pre;overflow-x:auto;line-height:normal;font-family:Menlo,'DejaVu Sans Mono',consolas,'Courier New',monospace\"><span style=\"color: #808000; text-decoration-color: #808000; font-weight: bold\">DeprecationWarning: Kernel._parent_header is deprecated in ipykernel 6. Use .get_parent()</span> \n",
       "<span style=\"color: #000000; text-decoration-color: #000000; font-weight: bold\">(raised from /mnt/data/work/repos/workshops/memes/env/lib/python3.9/site-packages/ipywidgets/</span>\n",
       "<span style=\"color: #000000; text-decoration-color: #000000; font-weight: bold\">widgets/widget_output.py:112)</span>\n",
       "</pre>\n"
      ],
      "text/plain": [
       "\u001b[1;33mDeprecationWarning: Kernel._parent_header is deprecated in ipykernel 6. Use .get_parent()\u001b[0m \n",
       "\u001b[1;30m(raised from /mnt/data/work/repos/workshops/memes/env/lib/python3.9/site-packages/ipywidgets/\u001b[0m\n",
       "\u001b[1;30mwidgets/widget_output.py:112)\u001b[0m\n"
      ]
     },
     "metadata": {},
     "output_type": "display_data"
    },
    {
     "data": {
      "text/html": [
       "<pre style=\"white-space:pre;overflow-x:auto;line-height:normal;font-family:Menlo,'DejaVu Sans Mono',consolas,'Courier New',monospace\"><span style=\"color: #808000; text-decoration-color: #808000; font-weight: bold\">DeprecationWarning: Kernel._parent_header is deprecated in ipykernel 6. Use .get_parent()</span> \n",
       "<span style=\"color: #000000; text-decoration-color: #000000; font-weight: bold\">(raised from /mnt/data/work/repos/workshops/memes/env/lib/python3.9/site-packages/ipywidgets/</span>\n",
       "<span style=\"color: #000000; text-decoration-color: #000000; font-weight: bold\">widgets/widget_output.py:111)</span>\n",
       "</pre>\n"
      ],
      "text/plain": [
       "\u001b[1;33mDeprecationWarning: Kernel._parent_header is deprecated in ipykernel 6. Use .get_parent()\u001b[0m \n",
       "\u001b[1;30m(raised from /mnt/data/work/repos/workshops/memes/env/lib/python3.9/site-packages/ipywidgets/\u001b[0m\n",
       "\u001b[1;30mwidgets/widget_output.py:111)\u001b[0m\n"
      ]
     },
     "metadata": {},
     "output_type": "display_data"
    },
    {
     "data": {
      "text/html": [
       "<pre style=\"white-space:pre;overflow-x:auto;line-height:normal;font-family:Menlo,'DejaVu Sans Mono',consolas,'Courier New',monospace\"><span style=\"color: #808000; text-decoration-color: #808000; font-weight: bold\">DeprecationWarning: Kernel._parent_header is deprecated in ipykernel 6. Use .get_parent()</span> \n",
       "<span style=\"color: #000000; text-decoration-color: #000000; font-weight: bold\">(raised from /mnt/data/work/repos/workshops/memes/env/lib/python3.9/site-packages/ipywidgets/</span>\n",
       "<span style=\"color: #000000; text-decoration-color: #000000; font-weight: bold\">widgets/widget_output.py:112)</span>\n",
       "</pre>\n"
      ],
      "text/plain": [
       "\u001b[1;33mDeprecationWarning: Kernel._parent_header is deprecated in ipykernel 6. Use .get_parent()\u001b[0m \n",
       "\u001b[1;30m(raised from /mnt/data/work/repos/workshops/memes/env/lib/python3.9/site-packages/ipywidgets/\u001b[0m\n",
       "\u001b[1;30mwidgets/widget_output.py:112)\u001b[0m\n"
      ]
     },
     "metadata": {},
     "output_type": "display_data"
    },
    {
     "data": {
      "text/html": [
       "<pre style=\"white-space:pre;overflow-x:auto;line-height:normal;font-family:Menlo,'DejaVu Sans Mono',consolas,'Courier New',monospace\"><span style=\"color: #808000; text-decoration-color: #808000; font-weight: bold\">DeprecationWarning: Kernel._parent_header is deprecated in ipykernel 6. Use .get_parent()</span> \n",
       "<span style=\"color: #000000; text-decoration-color: #000000; font-weight: bold\">(raised from /mnt/data/work/repos/workshops/memes/env/lib/python3.9/site-packages/ipywidgets/</span>\n",
       "<span style=\"color: #000000; text-decoration-color: #000000; font-weight: bold\">widgets/widget_output.py:111)</span>\n",
       "</pre>\n"
      ],
      "text/plain": [
       "\u001b[1;33mDeprecationWarning: Kernel._parent_header is deprecated in ipykernel 6. Use .get_parent()\u001b[0m \n",
       "\u001b[1;30m(raised from /mnt/data/work/repos/workshops/memes/env/lib/python3.9/site-packages/ipywidgets/\u001b[0m\n",
       "\u001b[1;30mwidgets/widget_output.py:111)\u001b[0m\n"
      ]
     },
     "metadata": {},
     "output_type": "display_data"
    },
    {
     "data": {
      "text/html": [
       "<pre style=\"white-space:pre;overflow-x:auto;line-height:normal;font-family:Menlo,'DejaVu Sans Mono',consolas,'Courier New',monospace\"><span style=\"color: #808000; text-decoration-color: #808000; font-weight: bold\">DeprecationWarning: Kernel._parent_header is deprecated in ipykernel 6. Use .get_parent()</span> \n",
       "<span style=\"color: #000000; text-decoration-color: #000000; font-weight: bold\">(raised from /mnt/data/work/repos/workshops/memes/env/lib/python3.9/site-packages/ipywidgets/</span>\n",
       "<span style=\"color: #000000; text-decoration-color: #000000; font-weight: bold\">widgets/widget_output.py:112)</span>\n",
       "</pre>\n"
      ],
      "text/plain": [
       "\u001b[1;33mDeprecationWarning: Kernel._parent_header is deprecated in ipykernel 6. Use .get_parent()\u001b[0m \n",
       "\u001b[1;30m(raised from /mnt/data/work/repos/workshops/memes/env/lib/python3.9/site-packages/ipywidgets/\u001b[0m\n",
       "\u001b[1;30mwidgets/widget_output.py:112)\u001b[0m\n"
      ]
     },
     "metadata": {},
     "output_type": "display_data"
    },
    {
     "data": {
      "text/html": [
       "<pre style=\"white-space:pre;overflow-x:auto;line-height:normal;font-family:Menlo,'DejaVu Sans Mono',consolas,'Courier New',monospace\"><span style=\"color: #808000; text-decoration-color: #808000; font-weight: bold\">DeprecationWarning: Kernel._parent_header is deprecated in ipykernel 6. Use .get_parent()</span> \n",
       "<span style=\"color: #000000; text-decoration-color: #000000; font-weight: bold\">(raised from /mnt/data/work/repos/workshops/memes/env/lib/python3.9/site-packages/ipywidgets/</span>\n",
       "<span style=\"color: #000000; text-decoration-color: #000000; font-weight: bold\">widgets/widget_output.py:111)</span>\n",
       "</pre>\n"
      ],
      "text/plain": [
       "\u001b[1;33mDeprecationWarning: Kernel._parent_header is deprecated in ipykernel 6. Use .get_parent()\u001b[0m \n",
       "\u001b[1;30m(raised from /mnt/data/work/repos/workshops/memes/env/lib/python3.9/site-packages/ipywidgets/\u001b[0m\n",
       "\u001b[1;30mwidgets/widget_output.py:111)\u001b[0m\n"
      ]
     },
     "metadata": {},
     "output_type": "display_data"
    },
    {
     "data": {
      "text/html": [
       "<pre style=\"white-space:pre;overflow-x:auto;line-height:normal;font-family:Menlo,'DejaVu Sans Mono',consolas,'Courier New',monospace\"><span style=\"color: #808000; text-decoration-color: #808000; font-weight: bold\">DeprecationWarning: Kernel._parent_header is deprecated in ipykernel 6. Use .get_parent()</span> \n",
       "<span style=\"color: #000000; text-decoration-color: #000000; font-weight: bold\">(raised from /mnt/data/work/repos/workshops/memes/env/lib/python3.9/site-packages/ipywidgets/</span>\n",
       "<span style=\"color: #000000; text-decoration-color: #000000; font-weight: bold\">widgets/widget_output.py:112)</span>\n",
       "</pre>\n"
      ],
      "text/plain": [
       "\u001b[1;33mDeprecationWarning: Kernel._parent_header is deprecated in ipykernel 6. Use .get_parent()\u001b[0m \n",
       "\u001b[1;30m(raised from /mnt/data/work/repos/workshops/memes/env/lib/python3.9/site-packages/ipywidgets/\u001b[0m\n",
       "\u001b[1;30mwidgets/widget_output.py:112)\u001b[0m\n"
      ]
     },
     "metadata": {},
     "output_type": "display_data"
    },
    {
     "data": {
      "text/html": [
       "<pre style=\"white-space:pre;overflow-x:auto;line-height:normal;font-family:Menlo,'DejaVu Sans Mono',consolas,'Courier New',monospace\"><span style=\"color: #808000; text-decoration-color: #808000; font-weight: bold\">DeprecationWarning: Kernel._parent_header is deprecated in ipykernel 6. Use .get_parent()</span> \n",
       "<span style=\"color: #000000; text-decoration-color: #000000; font-weight: bold\">(raised from /mnt/data/work/repos/workshops/memes/env/lib/python3.9/site-packages/ipywidgets/</span>\n",
       "<span style=\"color: #000000; text-decoration-color: #000000; font-weight: bold\">widgets/widget_output.py:111)</span>\n",
       "</pre>\n"
      ],
      "text/plain": [
       "\u001b[1;33mDeprecationWarning: Kernel._parent_header is deprecated in ipykernel 6. Use .get_parent()\u001b[0m \n",
       "\u001b[1;30m(raised from /mnt/data/work/repos/workshops/memes/env/lib/python3.9/site-packages/ipywidgets/\u001b[0m\n",
       "\u001b[1;30mwidgets/widget_output.py:111)\u001b[0m\n"
      ]
     },
     "metadata": {},
     "output_type": "display_data"
    },
    {
     "data": {
      "text/html": [
       "<pre style=\"white-space:pre;overflow-x:auto;line-height:normal;font-family:Menlo,'DejaVu Sans Mono',consolas,'Courier New',monospace\"><span style=\"color: #808000; text-decoration-color: #808000; font-weight: bold\">DeprecationWarning: Kernel._parent_header is deprecated in ipykernel 6. Use .get_parent()</span> \n",
       "<span style=\"color: #000000; text-decoration-color: #000000; font-weight: bold\">(raised from /mnt/data/work/repos/workshops/memes/env/lib/python3.9/site-packages/ipywidgets/</span>\n",
       "<span style=\"color: #000000; text-decoration-color: #000000; font-weight: bold\">widgets/widget_output.py:112)</span>\n",
       "</pre>\n"
      ],
      "text/plain": [
       "\u001b[1;33mDeprecationWarning: Kernel._parent_header is deprecated in ipykernel 6. Use .get_parent()\u001b[0m \n",
       "\u001b[1;30m(raised from /mnt/data/work/repos/workshops/memes/env/lib/python3.9/site-packages/ipywidgets/\u001b[0m\n",
       "\u001b[1;30mwidgets/widget_output.py:112)\u001b[0m\n"
      ]
     },
     "metadata": {},
     "output_type": "display_data"
    },
    {
     "data": {
      "text/html": [
       "<pre style=\"white-space:pre;overflow-x:auto;line-height:normal;font-family:Menlo,'DejaVu Sans Mono',consolas,'Courier New',monospace\"><span style=\"color: #808000; text-decoration-color: #808000; font-weight: bold\">DeprecationWarning: Kernel._parent_header is deprecated in ipykernel 6. Use .get_parent()</span> \n",
       "<span style=\"color: #000000; text-decoration-color: #000000; font-weight: bold\">(raised from /mnt/data/work/repos/workshops/memes/env/lib/python3.9/site-packages/ipywidgets/</span>\n",
       "<span style=\"color: #000000; text-decoration-color: #000000; font-weight: bold\">widgets/widget_output.py:111)</span>\n",
       "</pre>\n"
      ],
      "text/plain": [
       "\u001b[1;33mDeprecationWarning: Kernel._parent_header is deprecated in ipykernel 6. Use .get_parent()\u001b[0m \n",
       "\u001b[1;30m(raised from /mnt/data/work/repos/workshops/memes/env/lib/python3.9/site-packages/ipywidgets/\u001b[0m\n",
       "\u001b[1;30mwidgets/widget_output.py:111)\u001b[0m\n"
      ]
     },
     "metadata": {},
     "output_type": "display_data"
    },
    {
     "data": {
      "text/html": [
       "<pre style=\"white-space:pre;overflow-x:auto;line-height:normal;font-family:Menlo,'DejaVu Sans Mono',consolas,'Courier New',monospace\"><span style=\"color: #808000; text-decoration-color: #808000; font-weight: bold\">DeprecationWarning: Kernel._parent_header is deprecated in ipykernel 6. Use .get_parent()</span> \n",
       "<span style=\"color: #000000; text-decoration-color: #000000; font-weight: bold\">(raised from /mnt/data/work/repos/workshops/memes/env/lib/python3.9/site-packages/ipywidgets/</span>\n",
       "<span style=\"color: #000000; text-decoration-color: #000000; font-weight: bold\">widgets/widget_output.py:112)</span>\n",
       "</pre>\n"
      ],
      "text/plain": [
       "\u001b[1;33mDeprecationWarning: Kernel._parent_header is deprecated in ipykernel 6. Use .get_parent()\u001b[0m \n",
       "\u001b[1;30m(raised from /mnt/data/work/repos/workshops/memes/env/lib/python3.9/site-packages/ipywidgets/\u001b[0m\n",
       "\u001b[1;30mwidgets/widget_output.py:112)\u001b[0m\n"
      ]
     },
     "metadata": {},
     "output_type": "display_data"
    },
    {
     "data": {
      "text/html": [
       "<pre style=\"white-space:pre;overflow-x:auto;line-height:normal;font-family:Menlo,'DejaVu Sans Mono',consolas,'Courier New',monospace\"><span style=\"color: #808000; text-decoration-color: #808000; font-weight: bold\">DeprecationWarning: Kernel._parent_header is deprecated in ipykernel 6. Use .get_parent()</span> \n",
       "<span style=\"color: #000000; text-decoration-color: #000000; font-weight: bold\">(raised from /mnt/data/work/repos/workshops/memes/env/lib/python3.9/site-packages/ipywidgets/</span>\n",
       "<span style=\"color: #000000; text-decoration-color: #000000; font-weight: bold\">widgets/widget_output.py:111)</span>\n",
       "</pre>\n"
      ],
      "text/plain": [
       "\u001b[1;33mDeprecationWarning: Kernel._parent_header is deprecated in ipykernel 6. Use .get_parent()\u001b[0m \n",
       "\u001b[1;30m(raised from /mnt/data/work/repos/workshops/memes/env/lib/python3.9/site-packages/ipywidgets/\u001b[0m\n",
       "\u001b[1;30mwidgets/widget_output.py:111)\u001b[0m\n"
      ]
     },
     "metadata": {},
     "output_type": "display_data"
    },
    {
     "data": {
      "text/html": [
       "<pre style=\"white-space:pre;overflow-x:auto;line-height:normal;font-family:Menlo,'DejaVu Sans Mono',consolas,'Courier New',monospace\"><span style=\"color: #808000; text-decoration-color: #808000; font-weight: bold\">DeprecationWarning: Kernel._parent_header is deprecated in ipykernel 6. Use .get_parent()</span> \n",
       "<span style=\"color: #000000; text-decoration-color: #000000; font-weight: bold\">(raised from /mnt/data/work/repos/workshops/memes/env/lib/python3.9/site-packages/ipywidgets/</span>\n",
       "<span style=\"color: #000000; text-decoration-color: #000000; font-weight: bold\">widgets/widget_output.py:112)</span>\n",
       "</pre>\n"
      ],
      "text/plain": [
       "\u001b[1;33mDeprecationWarning: Kernel._parent_header is deprecated in ipykernel 6. Use .get_parent()\u001b[0m \n",
       "\u001b[1;30m(raised from /mnt/data/work/repos/workshops/memes/env/lib/python3.9/site-packages/ipywidgets/\u001b[0m\n",
       "\u001b[1;30mwidgets/widget_output.py:112)\u001b[0m\n"
      ]
     },
     "metadata": {},
     "output_type": "display_data"
    },
    {
     "data": {
      "text/html": [
       "<pre style=\"white-space:pre;overflow-x:auto;line-height:normal;font-family:Menlo,'DejaVu Sans Mono',consolas,'Courier New',monospace\"><span style=\"color: #808000; text-decoration-color: #808000; font-weight: bold\">DeprecationWarning: Kernel._parent_header is deprecated in ipykernel 6. Use .get_parent()</span> \n",
       "<span style=\"color: #000000; text-decoration-color: #000000; font-weight: bold\">(raised from /mnt/data/work/repos/workshops/memes/env/lib/python3.9/site-packages/ipywidgets/</span>\n",
       "<span style=\"color: #000000; text-decoration-color: #000000; font-weight: bold\">widgets/widget_output.py:111)</span>\n",
       "</pre>\n"
      ],
      "text/plain": [
       "\u001b[1;33mDeprecationWarning: Kernel._parent_header is deprecated in ipykernel 6. Use .get_parent()\u001b[0m \n",
       "\u001b[1;30m(raised from /mnt/data/work/repos/workshops/memes/env/lib/python3.9/site-packages/ipywidgets/\u001b[0m\n",
       "\u001b[1;30mwidgets/widget_output.py:111)\u001b[0m\n"
      ]
     },
     "metadata": {},
     "output_type": "display_data"
    },
    {
     "data": {
      "text/html": [
       "<pre style=\"white-space:pre;overflow-x:auto;line-height:normal;font-family:Menlo,'DejaVu Sans Mono',consolas,'Courier New',monospace\"><span style=\"color: #808000; text-decoration-color: #808000; font-weight: bold\">DeprecationWarning: Kernel._parent_header is deprecated in ipykernel 6. Use .get_parent()</span> \n",
       "<span style=\"color: #000000; text-decoration-color: #000000; font-weight: bold\">(raised from /mnt/data/work/repos/workshops/memes/env/lib/python3.9/site-packages/ipywidgets/</span>\n",
       "<span style=\"color: #000000; text-decoration-color: #000000; font-weight: bold\">widgets/widget_output.py:112)</span>\n",
       "</pre>\n"
      ],
      "text/plain": [
       "\u001b[1;33mDeprecationWarning: Kernel._parent_header is deprecated in ipykernel 6. Use .get_parent()\u001b[0m \n",
       "\u001b[1;30m(raised from /mnt/data/work/repos/workshops/memes/env/lib/python3.9/site-packages/ipywidgets/\u001b[0m\n",
       "\u001b[1;30mwidgets/widget_output.py:112)\u001b[0m\n"
      ]
     },
     "metadata": {},
     "output_type": "display_data"
    },
    {
     "data": {
      "text/html": [
       "<pre style=\"white-space:pre;overflow-x:auto;line-height:normal;font-family:Menlo,'DejaVu Sans Mono',consolas,'Courier New',monospace\"><span style=\"color: #808000; text-decoration-color: #808000; font-weight: bold\">DeprecationWarning: Kernel._parent_header is deprecated in ipykernel 6. Use .get_parent()</span> \n",
       "<span style=\"color: #000000; text-decoration-color: #000000; font-weight: bold\">(raised from /mnt/data/work/repos/workshops/memes/env/lib/python3.9/site-packages/ipywidgets/</span>\n",
       "<span style=\"color: #000000; text-decoration-color: #000000; font-weight: bold\">widgets/widget_output.py:111)</span>\n",
       "</pre>\n"
      ],
      "text/plain": [
       "\u001b[1;33mDeprecationWarning: Kernel._parent_header is deprecated in ipykernel 6. Use .get_parent()\u001b[0m \n",
       "\u001b[1;30m(raised from /mnt/data/work/repos/workshops/memes/env/lib/python3.9/site-packages/ipywidgets/\u001b[0m\n",
       "\u001b[1;30mwidgets/widget_output.py:111)\u001b[0m\n"
      ]
     },
     "metadata": {},
     "output_type": "display_data"
    },
    {
     "data": {
      "text/html": [
       "<pre style=\"white-space:pre;overflow-x:auto;line-height:normal;font-family:Menlo,'DejaVu Sans Mono',consolas,'Courier New',monospace\"><span style=\"color: #808000; text-decoration-color: #808000; font-weight: bold\">DeprecationWarning: Kernel._parent_header is deprecated in ipykernel 6. Use .get_parent()</span> \n",
       "<span style=\"color: #000000; text-decoration-color: #000000; font-weight: bold\">(raised from /mnt/data/work/repos/workshops/memes/env/lib/python3.9/site-packages/ipywidgets/</span>\n",
       "<span style=\"color: #000000; text-decoration-color: #000000; font-weight: bold\">widgets/widget_output.py:112)</span>\n",
       "</pre>\n"
      ],
      "text/plain": [
       "\u001b[1;33mDeprecationWarning: Kernel._parent_header is deprecated in ipykernel 6. Use .get_parent()\u001b[0m \n",
       "\u001b[1;30m(raised from /mnt/data/work/repos/workshops/memes/env/lib/python3.9/site-packages/ipywidgets/\u001b[0m\n",
       "\u001b[1;30mwidgets/widget_output.py:112)\u001b[0m\n"
      ]
     },
     "metadata": {},
     "output_type": "display_data"
    },
    {
     "data": {
      "text/html": [
       "<pre style=\"white-space:pre;overflow-x:auto;line-height:normal;font-family:Menlo,'DejaVu Sans Mono',consolas,'Courier New',monospace\"><span style=\"color: #808000; text-decoration-color: #808000; font-weight: bold\">DeprecationWarning: Kernel._parent_header is deprecated in ipykernel 6. Use .get_parent()</span> \n",
       "<span style=\"color: #000000; text-decoration-color: #000000; font-weight: bold\">(raised from /mnt/data/work/repos/workshops/memes/env/lib/python3.9/site-packages/ipywidgets/</span>\n",
       "<span style=\"color: #000000; text-decoration-color: #000000; font-weight: bold\">widgets/widget_output.py:111)</span>\n",
       "</pre>\n"
      ],
      "text/plain": [
       "\u001b[1;33mDeprecationWarning: Kernel._parent_header is deprecated in ipykernel 6. Use .get_parent()\u001b[0m \n",
       "\u001b[1;30m(raised from /mnt/data/work/repos/workshops/memes/env/lib/python3.9/site-packages/ipywidgets/\u001b[0m\n",
       "\u001b[1;30mwidgets/widget_output.py:111)\u001b[0m\n"
      ]
     },
     "metadata": {},
     "output_type": "display_data"
    },
    {
     "data": {
      "text/html": [
       "<pre style=\"white-space:pre;overflow-x:auto;line-height:normal;font-family:Menlo,'DejaVu Sans Mono',consolas,'Courier New',monospace\"><span style=\"color: #808000; text-decoration-color: #808000; font-weight: bold\">DeprecationWarning: Kernel._parent_header is deprecated in ipykernel 6. Use .get_parent()</span> \n",
       "<span style=\"color: #000000; text-decoration-color: #000000; font-weight: bold\">(raised from /mnt/data/work/repos/workshops/memes/env/lib/python3.9/site-packages/ipywidgets/</span>\n",
       "<span style=\"color: #000000; text-decoration-color: #000000; font-weight: bold\">widgets/widget_output.py:112)</span>\n",
       "</pre>\n"
      ],
      "text/plain": [
       "\u001b[1;33mDeprecationWarning: Kernel._parent_header is deprecated in ipykernel 6. Use .get_parent()\u001b[0m \n",
       "\u001b[1;30m(raised from /mnt/data/work/repos/workshops/memes/env/lib/python3.9/site-packages/ipywidgets/\u001b[0m\n",
       "\u001b[1;30mwidgets/widget_output.py:112)\u001b[0m\n"
      ]
     },
     "metadata": {},
     "output_type": "display_data"
    },
    {
     "data": {
      "text/html": [
       "<pre style=\"white-space:pre;overflow-x:auto;line-height:normal;font-family:Menlo,'DejaVu Sans Mono',consolas,'Courier New',monospace\"><span style=\"color: #808000; text-decoration-color: #808000; font-weight: bold\">DeprecationWarning: Kernel._parent_header is deprecated in ipykernel 6. Use .get_parent()</span> \n",
       "<span style=\"color: #000000; text-decoration-color: #000000; font-weight: bold\">(raised from /mnt/data/work/repos/workshops/memes/env/lib/python3.9/site-packages/ipywidgets/</span>\n",
       "<span style=\"color: #000000; text-decoration-color: #000000; font-weight: bold\">widgets/widget_output.py:111)</span>\n",
       "</pre>\n"
      ],
      "text/plain": [
       "\u001b[1;33mDeprecationWarning: Kernel._parent_header is deprecated in ipykernel 6. Use .get_parent()\u001b[0m \n",
       "\u001b[1;30m(raised from /mnt/data/work/repos/workshops/memes/env/lib/python3.9/site-packages/ipywidgets/\u001b[0m\n",
       "\u001b[1;30mwidgets/widget_output.py:111)\u001b[0m\n"
      ]
     },
     "metadata": {},
     "output_type": "display_data"
    },
    {
     "data": {
      "text/html": [
       "<pre style=\"white-space:pre;overflow-x:auto;line-height:normal;font-family:Menlo,'DejaVu Sans Mono',consolas,'Courier New',monospace\"><span style=\"color: #808000; text-decoration-color: #808000; font-weight: bold\">DeprecationWarning: Kernel._parent_header is deprecated in ipykernel 6. Use .get_parent()</span> \n",
       "<span style=\"color: #000000; text-decoration-color: #000000; font-weight: bold\">(raised from /mnt/data/work/repos/workshops/memes/env/lib/python3.9/site-packages/ipywidgets/</span>\n",
       "<span style=\"color: #000000; text-decoration-color: #000000; font-weight: bold\">widgets/widget_output.py:112)</span>\n",
       "</pre>\n"
      ],
      "text/plain": [
       "\u001b[1;33mDeprecationWarning: Kernel._parent_header is deprecated in ipykernel 6. Use .get_parent()\u001b[0m \n",
       "\u001b[1;30m(raised from /mnt/data/work/repos/workshops/memes/env/lib/python3.9/site-packages/ipywidgets/\u001b[0m\n",
       "\u001b[1;30mwidgets/widget_output.py:112)\u001b[0m\n"
      ]
     },
     "metadata": {},
     "output_type": "display_data"
    },
    {
     "data": {
      "text/html": [
       "<pre style=\"white-space:pre;overflow-x:auto;line-height:normal;font-family:Menlo,'DejaVu Sans Mono',consolas,'Courier New',monospace\"><span style=\"color: #808000; text-decoration-color: #808000; font-weight: bold\">DeprecationWarning: Kernel._parent_header is deprecated in ipykernel 6. Use .get_parent()</span> \n",
       "<span style=\"color: #000000; text-decoration-color: #000000; font-weight: bold\">(raised from /mnt/data/work/repos/workshops/memes/env/lib/python3.9/site-packages/ipywidgets/</span>\n",
       "<span style=\"color: #000000; text-decoration-color: #000000; font-weight: bold\">widgets/widget_output.py:111)</span>\n",
       "</pre>\n"
      ],
      "text/plain": [
       "\u001b[1;33mDeprecationWarning: Kernel._parent_header is deprecated in ipykernel 6. Use .get_parent()\u001b[0m \n",
       "\u001b[1;30m(raised from /mnt/data/work/repos/workshops/memes/env/lib/python3.9/site-packages/ipywidgets/\u001b[0m\n",
       "\u001b[1;30mwidgets/widget_output.py:111)\u001b[0m\n"
      ]
     },
     "metadata": {},
     "output_type": "display_data"
    },
    {
     "data": {
      "text/html": [
       "<pre style=\"white-space:pre;overflow-x:auto;line-height:normal;font-family:Menlo,'DejaVu Sans Mono',consolas,'Courier New',monospace\"><span style=\"color: #808000; text-decoration-color: #808000; font-weight: bold\">DeprecationWarning: Kernel._parent_header is deprecated in ipykernel 6. Use .get_parent()</span> \n",
       "<span style=\"color: #000000; text-decoration-color: #000000; font-weight: bold\">(raised from /mnt/data/work/repos/workshops/memes/env/lib/python3.9/site-packages/ipywidgets/</span>\n",
       "<span style=\"color: #000000; text-decoration-color: #000000; font-weight: bold\">widgets/widget_output.py:112)</span>\n",
       "</pre>\n"
      ],
      "text/plain": [
       "\u001b[1;33mDeprecationWarning: Kernel._parent_header is deprecated in ipykernel 6. Use .get_parent()\u001b[0m \n",
       "\u001b[1;30m(raised from /mnt/data/work/repos/workshops/memes/env/lib/python3.9/site-packages/ipywidgets/\u001b[0m\n",
       "\u001b[1;30mwidgets/widget_output.py:112)\u001b[0m\n"
      ]
     },
     "metadata": {},
     "output_type": "display_data"
    },
    {
     "data": {
      "text/html": [
       "<pre style=\"white-space:pre;overflow-x:auto;line-height:normal;font-family:Menlo,'DejaVu Sans Mono',consolas,'Courier New',monospace\"><span style=\"color: #808000; text-decoration-color: #808000; font-weight: bold\">DeprecationWarning: Kernel._parent_header is deprecated in ipykernel 6. Use .get_parent()</span> \n",
       "<span style=\"color: #000000; text-decoration-color: #000000; font-weight: bold\">(raised from /mnt/data/work/repos/workshops/memes/env/lib/python3.9/site-packages/ipywidgets/</span>\n",
       "<span style=\"color: #000000; text-decoration-color: #000000; font-weight: bold\">widgets/widget_output.py:111)</span>\n",
       "</pre>\n"
      ],
      "text/plain": [
       "\u001b[1;33mDeprecationWarning: Kernel._parent_header is deprecated in ipykernel 6. Use .get_parent()\u001b[0m \n",
       "\u001b[1;30m(raised from /mnt/data/work/repos/workshops/memes/env/lib/python3.9/site-packages/ipywidgets/\u001b[0m\n",
       "\u001b[1;30mwidgets/widget_output.py:111)\u001b[0m\n"
      ]
     },
     "metadata": {},
     "output_type": "display_data"
    },
    {
     "data": {
      "text/html": [
       "<pre style=\"white-space:pre;overflow-x:auto;line-height:normal;font-family:Menlo,'DejaVu Sans Mono',consolas,'Courier New',monospace\"><span style=\"color: #808000; text-decoration-color: #808000; font-weight: bold\">DeprecationWarning: Kernel._parent_header is deprecated in ipykernel 6. Use .get_parent()</span> \n",
       "<span style=\"color: #000000; text-decoration-color: #000000; font-weight: bold\">(raised from /mnt/data/work/repos/workshops/memes/env/lib/python3.9/site-packages/ipywidgets/</span>\n",
       "<span style=\"color: #000000; text-decoration-color: #000000; font-weight: bold\">widgets/widget_output.py:112)</span>\n",
       "</pre>\n"
      ],
      "text/plain": [
       "\u001b[1;33mDeprecationWarning: Kernel._parent_header is deprecated in ipykernel 6. Use .get_parent()\u001b[0m \n",
       "\u001b[1;30m(raised from /mnt/data/work/repos/workshops/memes/env/lib/python3.9/site-packages/ipywidgets/\u001b[0m\n",
       "\u001b[1;30mwidgets/widget_output.py:112)\u001b[0m\n"
      ]
     },
     "metadata": {},
     "output_type": "display_data"
    },
    {
     "data": {
      "text/html": [
       "<pre style=\"white-space:pre;overflow-x:auto;line-height:normal;font-family:Menlo,'DejaVu Sans Mono',consolas,'Courier New',monospace\"><span style=\"color: #808000; text-decoration-color: #808000; font-weight: bold\">DeprecationWarning: Kernel._parent_header is deprecated in ipykernel 6. Use .get_parent()</span> \n",
       "<span style=\"color: #000000; text-decoration-color: #000000; font-weight: bold\">(raised from /mnt/data/work/repos/workshops/memes/env/lib/python3.9/site-packages/ipywidgets/</span>\n",
       "<span style=\"color: #000000; text-decoration-color: #000000; font-weight: bold\">widgets/widget_output.py:111)</span>\n",
       "</pre>\n"
      ],
      "text/plain": [
       "\u001b[1;33mDeprecationWarning: Kernel._parent_header is deprecated in ipykernel 6. Use .get_parent()\u001b[0m \n",
       "\u001b[1;30m(raised from /mnt/data/work/repos/workshops/memes/env/lib/python3.9/site-packages/ipywidgets/\u001b[0m\n",
       "\u001b[1;30mwidgets/widget_output.py:111)\u001b[0m\n"
      ]
     },
     "metadata": {},
     "output_type": "display_data"
    },
    {
     "data": {
      "text/html": [
       "<pre style=\"white-space:pre;overflow-x:auto;line-height:normal;font-family:Menlo,'DejaVu Sans Mono',consolas,'Courier New',monospace\"><span style=\"color: #808000; text-decoration-color: #808000; font-weight: bold\">DeprecationWarning: Kernel._parent_header is deprecated in ipykernel 6. Use .get_parent()</span> \n",
       "<span style=\"color: #000000; text-decoration-color: #000000; font-weight: bold\">(raised from /mnt/data/work/repos/workshops/memes/env/lib/python3.9/site-packages/ipywidgets/</span>\n",
       "<span style=\"color: #000000; text-decoration-color: #000000; font-weight: bold\">widgets/widget_output.py:112)</span>\n",
       "</pre>\n"
      ],
      "text/plain": [
       "\u001b[1;33mDeprecationWarning: Kernel._parent_header is deprecated in ipykernel 6. Use .get_parent()\u001b[0m \n",
       "\u001b[1;30m(raised from /mnt/data/work/repos/workshops/memes/env/lib/python3.9/site-packages/ipywidgets/\u001b[0m\n",
       "\u001b[1;30mwidgets/widget_output.py:112)\u001b[0m\n"
      ]
     },
     "metadata": {},
     "output_type": "display_data"
    },
    {
     "data": {
      "text/html": [
       "<pre style=\"white-space:pre;overflow-x:auto;line-height:normal;font-family:Menlo,'DejaVu Sans Mono',consolas,'Courier New',monospace\"><span style=\"color: #808000; text-decoration-color: #808000; font-weight: bold\">DeprecationWarning: Kernel._parent_header is deprecated in ipykernel 6. Use .get_parent()</span> \n",
       "<span style=\"color: #000000; text-decoration-color: #000000; font-weight: bold\">(raised from /mnt/data/work/repos/workshops/memes/env/lib/python3.9/site-packages/ipywidgets/</span>\n",
       "<span style=\"color: #000000; text-decoration-color: #000000; font-weight: bold\">widgets/widget_output.py:111)</span>\n",
       "</pre>\n"
      ],
      "text/plain": [
       "\u001b[1;33mDeprecationWarning: Kernel._parent_header is deprecated in ipykernel 6. Use .get_parent()\u001b[0m \n",
       "\u001b[1;30m(raised from /mnt/data/work/repos/workshops/memes/env/lib/python3.9/site-packages/ipywidgets/\u001b[0m\n",
       "\u001b[1;30mwidgets/widget_output.py:111)\u001b[0m\n"
      ]
     },
     "metadata": {},
     "output_type": "display_data"
    },
    {
     "data": {
      "text/html": [
       "<pre style=\"white-space:pre;overflow-x:auto;line-height:normal;font-family:Menlo,'DejaVu Sans Mono',consolas,'Courier New',monospace\"><span style=\"color: #808000; text-decoration-color: #808000; font-weight: bold\">DeprecationWarning: Kernel._parent_header is deprecated in ipykernel 6. Use .get_parent()</span> \n",
       "<span style=\"color: #000000; text-decoration-color: #000000; font-weight: bold\">(raised from /mnt/data/work/repos/workshops/memes/env/lib/python3.9/site-packages/ipywidgets/</span>\n",
       "<span style=\"color: #000000; text-decoration-color: #000000; font-weight: bold\">widgets/widget_output.py:112)</span>\n",
       "</pre>\n"
      ],
      "text/plain": [
       "\u001b[1;33mDeprecationWarning: Kernel._parent_header is deprecated in ipykernel 6. Use .get_parent()\u001b[0m \n",
       "\u001b[1;30m(raised from /mnt/data/work/repos/workshops/memes/env/lib/python3.9/site-packages/ipywidgets/\u001b[0m\n",
       "\u001b[1;30mwidgets/widget_output.py:112)\u001b[0m\n"
      ]
     },
     "metadata": {},
     "output_type": "display_data"
    },
    {
     "data": {
      "text/html": [
       "<pre style=\"white-space:pre;overflow-x:auto;line-height:normal;font-family:Menlo,'DejaVu Sans Mono',consolas,'Courier New',monospace\"><span style=\"color: #808000; text-decoration-color: #808000; font-weight: bold\">DeprecationWarning: Kernel._parent_header is deprecated in ipykernel 6. Use .get_parent()</span> \n",
       "<span style=\"color: #000000; text-decoration-color: #000000; font-weight: bold\">(raised from /mnt/data/work/repos/workshops/memes/env/lib/python3.9/site-packages/ipywidgets/</span>\n",
       "<span style=\"color: #000000; text-decoration-color: #000000; font-weight: bold\">widgets/widget_output.py:111)</span>\n",
       "</pre>\n"
      ],
      "text/plain": [
       "\u001b[1;33mDeprecationWarning: Kernel._parent_header is deprecated in ipykernel 6. Use .get_parent()\u001b[0m \n",
       "\u001b[1;30m(raised from /mnt/data/work/repos/workshops/memes/env/lib/python3.9/site-packages/ipywidgets/\u001b[0m\n",
       "\u001b[1;30mwidgets/widget_output.py:111)\u001b[0m\n"
      ]
     },
     "metadata": {},
     "output_type": "display_data"
    },
    {
     "data": {
      "text/html": [
       "<pre style=\"white-space:pre;overflow-x:auto;line-height:normal;font-family:Menlo,'DejaVu Sans Mono',consolas,'Courier New',monospace\"><span style=\"color: #808000; text-decoration-color: #808000; font-weight: bold\">DeprecationWarning: Kernel._parent_header is deprecated in ipykernel 6. Use .get_parent()</span> \n",
       "<span style=\"color: #000000; text-decoration-color: #000000; font-weight: bold\">(raised from /mnt/data/work/repos/workshops/memes/env/lib/python3.9/site-packages/ipywidgets/</span>\n",
       "<span style=\"color: #000000; text-decoration-color: #000000; font-weight: bold\">widgets/widget_output.py:112)</span>\n",
       "</pre>\n"
      ],
      "text/plain": [
       "\u001b[1;33mDeprecationWarning: Kernel._parent_header is deprecated in ipykernel 6. Use .get_parent()\u001b[0m \n",
       "\u001b[1;30m(raised from /mnt/data/work/repos/workshops/memes/env/lib/python3.9/site-packages/ipywidgets/\u001b[0m\n",
       "\u001b[1;30mwidgets/widget_output.py:112)\u001b[0m\n"
      ]
     },
     "metadata": {},
     "output_type": "display_data"
    },
    {
     "data": {
      "text/html": [
       "<pre style=\"white-space:pre;overflow-x:auto;line-height:normal;font-family:Menlo,'DejaVu Sans Mono',consolas,'Courier New',monospace\"><span style=\"color: #808000; text-decoration-color: #808000; font-weight: bold\">DeprecationWarning: Kernel._parent_header is deprecated in ipykernel 6. Use .get_parent()</span> \n",
       "<span style=\"color: #000000; text-decoration-color: #000000; font-weight: bold\">(raised from /mnt/data/work/repos/workshops/memes/env/lib/python3.9/site-packages/ipywidgets/</span>\n",
       "<span style=\"color: #000000; text-decoration-color: #000000; font-weight: bold\">widgets/widget_output.py:111)</span>\n",
       "</pre>\n"
      ],
      "text/plain": [
       "\u001b[1;33mDeprecationWarning: Kernel._parent_header is deprecated in ipykernel 6. Use .get_parent()\u001b[0m \n",
       "\u001b[1;30m(raised from /mnt/data/work/repos/workshops/memes/env/lib/python3.9/site-packages/ipywidgets/\u001b[0m\n",
       "\u001b[1;30mwidgets/widget_output.py:111)\u001b[0m\n"
      ]
     },
     "metadata": {},
     "output_type": "display_data"
    },
    {
     "data": {
      "text/html": [
       "<pre style=\"white-space:pre;overflow-x:auto;line-height:normal;font-family:Menlo,'DejaVu Sans Mono',consolas,'Courier New',monospace\"><span style=\"color: #808000; text-decoration-color: #808000; font-weight: bold\">DeprecationWarning: Kernel._parent_header is deprecated in ipykernel 6. Use .get_parent()</span> \n",
       "<span style=\"color: #000000; text-decoration-color: #000000; font-weight: bold\">(raised from /mnt/data/work/repos/workshops/memes/env/lib/python3.9/site-packages/ipywidgets/</span>\n",
       "<span style=\"color: #000000; text-decoration-color: #000000; font-weight: bold\">widgets/widget_output.py:112)</span>\n",
       "</pre>\n"
      ],
      "text/plain": [
       "\u001b[1;33mDeprecationWarning: Kernel._parent_header is deprecated in ipykernel 6. Use .get_parent()\u001b[0m \n",
       "\u001b[1;30m(raised from /mnt/data/work/repos/workshops/memes/env/lib/python3.9/site-packages/ipywidgets/\u001b[0m\n",
       "\u001b[1;30mwidgets/widget_output.py:112)\u001b[0m\n"
      ]
     },
     "metadata": {},
     "output_type": "display_data"
    },
    {
     "data": {
      "text/html": [
       "<pre style=\"white-space:pre;overflow-x:auto;line-height:normal;font-family:Menlo,'DejaVu Sans Mono',consolas,'Courier New',monospace\"><span style=\"color: #808000; text-decoration-color: #808000; font-weight: bold\">DeprecationWarning: Kernel._parent_header is deprecated in ipykernel 6. Use .get_parent()</span> \n",
       "<span style=\"color: #000000; text-decoration-color: #000000; font-weight: bold\">(raised from /mnt/data/work/repos/workshops/memes/env/lib/python3.9/site-packages/ipywidgets/</span>\n",
       "<span style=\"color: #000000; text-decoration-color: #000000; font-weight: bold\">widgets/widget_output.py:111)</span>\n",
       "</pre>\n"
      ],
      "text/plain": [
       "\u001b[1;33mDeprecationWarning: Kernel._parent_header is deprecated in ipykernel 6. Use .get_parent()\u001b[0m \n",
       "\u001b[1;30m(raised from /mnt/data/work/repos/workshops/memes/env/lib/python3.9/site-packages/ipywidgets/\u001b[0m\n",
       "\u001b[1;30mwidgets/widget_output.py:111)\u001b[0m\n"
      ]
     },
     "metadata": {},
     "output_type": "display_data"
    },
    {
     "data": {
      "text/html": [
       "<pre style=\"white-space:pre;overflow-x:auto;line-height:normal;font-family:Menlo,'DejaVu Sans Mono',consolas,'Courier New',monospace\"><span style=\"color: #808000; text-decoration-color: #808000; font-weight: bold\">DeprecationWarning: Kernel._parent_header is deprecated in ipykernel 6. Use .get_parent()</span> \n",
       "<span style=\"color: #000000; text-decoration-color: #000000; font-weight: bold\">(raised from /mnt/data/work/repos/workshops/memes/env/lib/python3.9/site-packages/ipywidgets/</span>\n",
       "<span style=\"color: #000000; text-decoration-color: #000000; font-weight: bold\">widgets/widget_output.py:112)</span>\n",
       "</pre>\n"
      ],
      "text/plain": [
       "\u001b[1;33mDeprecationWarning: Kernel._parent_header is deprecated in ipykernel 6. Use .get_parent()\u001b[0m \n",
       "\u001b[1;30m(raised from /mnt/data/work/repos/workshops/memes/env/lib/python3.9/site-packages/ipywidgets/\u001b[0m\n",
       "\u001b[1;30mwidgets/widget_output.py:112)\u001b[0m\n"
      ]
     },
     "metadata": {},
     "output_type": "display_data"
    },
    {
     "data": {
      "text/html": [
       "<pre style=\"white-space:pre;overflow-x:auto;line-height:normal;font-family:Menlo,'DejaVu Sans Mono',consolas,'Courier New',monospace\"><span style=\"color: #808000; text-decoration-color: #808000; font-weight: bold\">DeprecationWarning: Kernel._parent_header is deprecated in ipykernel 6. Use .get_parent()</span> \n",
       "<span style=\"color: #000000; text-decoration-color: #000000; font-weight: bold\">(raised from /mnt/data/work/repos/workshops/memes/env/lib/python3.9/site-packages/ipywidgets/</span>\n",
       "<span style=\"color: #000000; text-decoration-color: #000000; font-weight: bold\">widgets/widget_output.py:111)</span>\n",
       "</pre>\n"
      ],
      "text/plain": [
       "\u001b[1;33mDeprecationWarning: Kernel._parent_header is deprecated in ipykernel 6. Use .get_parent()\u001b[0m \n",
       "\u001b[1;30m(raised from /mnt/data/work/repos/workshops/memes/env/lib/python3.9/site-packages/ipywidgets/\u001b[0m\n",
       "\u001b[1;30mwidgets/widget_output.py:111)\u001b[0m\n"
      ]
     },
     "metadata": {},
     "output_type": "display_data"
    },
    {
     "data": {
      "text/html": [
       "<pre style=\"white-space:pre;overflow-x:auto;line-height:normal;font-family:Menlo,'DejaVu Sans Mono',consolas,'Courier New',monospace\"><span style=\"color: #808000; text-decoration-color: #808000; font-weight: bold\">DeprecationWarning: Kernel._parent_header is deprecated in ipykernel 6. Use .get_parent()</span> \n",
       "<span style=\"color: #000000; text-decoration-color: #000000; font-weight: bold\">(raised from /mnt/data/work/repos/workshops/memes/env/lib/python3.9/site-packages/ipywidgets/</span>\n",
       "<span style=\"color: #000000; text-decoration-color: #000000; font-weight: bold\">widgets/widget_output.py:112)</span>\n",
       "</pre>\n"
      ],
      "text/plain": [
       "\u001b[1;33mDeprecationWarning: Kernel._parent_header is deprecated in ipykernel 6. Use .get_parent()\u001b[0m \n",
       "\u001b[1;30m(raised from /mnt/data/work/repos/workshops/memes/env/lib/python3.9/site-packages/ipywidgets/\u001b[0m\n",
       "\u001b[1;30mwidgets/widget_output.py:112)\u001b[0m\n"
      ]
     },
     "metadata": {},
     "output_type": "display_data"
    },
    {
     "data": {
      "text/html": [
       "<pre style=\"white-space:pre;overflow-x:auto;line-height:normal;font-family:Menlo,'DejaVu Sans Mono',consolas,'Courier New',monospace\"><span style=\"color: #808000; text-decoration-color: #808000; font-weight: bold\">DeprecationWarning: Kernel._parent_header is deprecated in ipykernel 6. Use .get_parent()</span> \n",
       "<span style=\"color: #000000; text-decoration-color: #000000; font-weight: bold\">(raised from /mnt/data/work/repos/workshops/memes/env/lib/python3.9/site-packages/ipywidgets/</span>\n",
       "<span style=\"color: #000000; text-decoration-color: #000000; font-weight: bold\">widgets/widget_output.py:111)</span>\n",
       "</pre>\n"
      ],
      "text/plain": [
       "\u001b[1;33mDeprecationWarning: Kernel._parent_header is deprecated in ipykernel 6. Use .get_parent()\u001b[0m \n",
       "\u001b[1;30m(raised from /mnt/data/work/repos/workshops/memes/env/lib/python3.9/site-packages/ipywidgets/\u001b[0m\n",
       "\u001b[1;30mwidgets/widget_output.py:111)\u001b[0m\n"
      ]
     },
     "metadata": {},
     "output_type": "display_data"
    },
    {
     "data": {
      "text/html": [
       "<pre style=\"white-space:pre;overflow-x:auto;line-height:normal;font-family:Menlo,'DejaVu Sans Mono',consolas,'Courier New',monospace\"><span style=\"color: #808000; text-decoration-color: #808000; font-weight: bold\">DeprecationWarning: Kernel._parent_header is deprecated in ipykernel 6. Use .get_parent()</span> \n",
       "<span style=\"color: #000000; text-decoration-color: #000000; font-weight: bold\">(raised from /mnt/data/work/repos/workshops/memes/env/lib/python3.9/site-packages/ipywidgets/</span>\n",
       "<span style=\"color: #000000; text-decoration-color: #000000; font-weight: bold\">widgets/widget_output.py:112)</span>\n",
       "</pre>\n"
      ],
      "text/plain": [
       "\u001b[1;33mDeprecationWarning: Kernel._parent_header is deprecated in ipykernel 6. Use .get_parent()\u001b[0m \n",
       "\u001b[1;30m(raised from /mnt/data/work/repos/workshops/memes/env/lib/python3.9/site-packages/ipywidgets/\u001b[0m\n",
       "\u001b[1;30mwidgets/widget_output.py:112)\u001b[0m\n"
      ]
     },
     "metadata": {},
     "output_type": "display_data"
    },
    {
     "data": {
      "text/html": [
       "<pre style=\"white-space:pre;overflow-x:auto;line-height:normal;font-family:Menlo,'DejaVu Sans Mono',consolas,'Courier New',monospace\"><span style=\"color: #808000; text-decoration-color: #808000; font-weight: bold\">DeprecationWarning: Kernel._parent_header is deprecated in ipykernel 6. Use .get_parent()</span> \n",
       "<span style=\"color: #000000; text-decoration-color: #000000; font-weight: bold\">(raised from /mnt/data/work/repos/workshops/memes/env/lib/python3.9/site-packages/ipywidgets/</span>\n",
       "<span style=\"color: #000000; text-decoration-color: #000000; font-weight: bold\">widgets/widget_output.py:111)</span>\n",
       "</pre>\n"
      ],
      "text/plain": [
       "\u001b[1;33mDeprecationWarning: Kernel._parent_header is deprecated in ipykernel 6. Use .get_parent()\u001b[0m \n",
       "\u001b[1;30m(raised from /mnt/data/work/repos/workshops/memes/env/lib/python3.9/site-packages/ipywidgets/\u001b[0m\n",
       "\u001b[1;30mwidgets/widget_output.py:111)\u001b[0m\n"
      ]
     },
     "metadata": {},
     "output_type": "display_data"
    },
    {
     "data": {
      "text/html": [
       "<pre style=\"white-space:pre;overflow-x:auto;line-height:normal;font-family:Menlo,'DejaVu Sans Mono',consolas,'Courier New',monospace\"><span style=\"color: #808000; text-decoration-color: #808000; font-weight: bold\">DeprecationWarning: Kernel._parent_header is deprecated in ipykernel 6. Use .get_parent()</span> \n",
       "<span style=\"color: #000000; text-decoration-color: #000000; font-weight: bold\">(raised from /mnt/data/work/repos/workshops/memes/env/lib/python3.9/site-packages/ipywidgets/</span>\n",
       "<span style=\"color: #000000; text-decoration-color: #000000; font-weight: bold\">widgets/widget_output.py:112)</span>\n",
       "</pre>\n"
      ],
      "text/plain": [
       "\u001b[1;33mDeprecationWarning: Kernel._parent_header is deprecated in ipykernel 6. Use .get_parent()\u001b[0m \n",
       "\u001b[1;30m(raised from /mnt/data/work/repos/workshops/memes/env/lib/python3.9/site-packages/ipywidgets/\u001b[0m\n",
       "\u001b[1;30mwidgets/widget_output.py:112)\u001b[0m\n"
      ]
     },
     "metadata": {},
     "output_type": "display_data"
    },
    {
     "data": {
      "text/html": [
       "<pre style=\"white-space:pre;overflow-x:auto;line-height:normal;font-family:Menlo,'DejaVu Sans Mono',consolas,'Courier New',monospace\"><span style=\"color: #808000; text-decoration-color: #808000; font-weight: bold\">DeprecationWarning: Kernel._parent_header is deprecated in ipykernel 6. Use .get_parent()</span> \n",
       "<span style=\"color: #000000; text-decoration-color: #000000; font-weight: bold\">(raised from /mnt/data/work/repos/workshops/memes/env/lib/python3.9/site-packages/ipywidgets/</span>\n",
       "<span style=\"color: #000000; text-decoration-color: #000000; font-weight: bold\">widgets/widget_output.py:111)</span>\n",
       "</pre>\n"
      ],
      "text/plain": [
       "\u001b[1;33mDeprecationWarning: Kernel._parent_header is deprecated in ipykernel 6. Use .get_parent()\u001b[0m \n",
       "\u001b[1;30m(raised from /mnt/data/work/repos/workshops/memes/env/lib/python3.9/site-packages/ipywidgets/\u001b[0m\n",
       "\u001b[1;30mwidgets/widget_output.py:111)\u001b[0m\n"
      ]
     },
     "metadata": {},
     "output_type": "display_data"
    },
    {
     "data": {
      "text/html": [
       "<pre style=\"white-space:pre;overflow-x:auto;line-height:normal;font-family:Menlo,'DejaVu Sans Mono',consolas,'Courier New',monospace\"><span style=\"color: #808000; text-decoration-color: #808000; font-weight: bold\">DeprecationWarning: Kernel._parent_header is deprecated in ipykernel 6. Use .get_parent()</span> \n",
       "<span style=\"color: #000000; text-decoration-color: #000000; font-weight: bold\">(raised from /mnt/data/work/repos/workshops/memes/env/lib/python3.9/site-packages/ipywidgets/</span>\n",
       "<span style=\"color: #000000; text-decoration-color: #000000; font-weight: bold\">widgets/widget_output.py:112)</span>\n",
       "</pre>\n"
      ],
      "text/plain": [
       "\u001b[1;33mDeprecationWarning: Kernel._parent_header is deprecated in ipykernel 6. Use .get_parent()\u001b[0m \n",
       "\u001b[1;30m(raised from /mnt/data/work/repos/workshops/memes/env/lib/python3.9/site-packages/ipywidgets/\u001b[0m\n",
       "\u001b[1;30mwidgets/widget_output.py:112)\u001b[0m\n"
      ]
     },
     "metadata": {},
     "output_type": "display_data"
    },
    {
     "data": {
      "text/html": [
       "<pre style=\"white-space:pre;overflow-x:auto;line-height:normal;font-family:Menlo,'DejaVu Sans Mono',consolas,'Courier New',monospace\"><span style=\"color: #808000; text-decoration-color: #808000; font-weight: bold\">DeprecationWarning: Kernel._parent_header is deprecated in ipykernel 6. Use .get_parent()</span> \n",
       "<span style=\"color: #000000; text-decoration-color: #000000; font-weight: bold\">(raised from /mnt/data/work/repos/workshops/memes/env/lib/python3.9/site-packages/ipywidgets/</span>\n",
       "<span style=\"color: #000000; text-decoration-color: #000000; font-weight: bold\">widgets/widget_output.py:111)</span>\n",
       "</pre>\n"
      ],
      "text/plain": [
       "\u001b[1;33mDeprecationWarning: Kernel._parent_header is deprecated in ipykernel 6. Use .get_parent()\u001b[0m \n",
       "\u001b[1;30m(raised from /mnt/data/work/repos/workshops/memes/env/lib/python3.9/site-packages/ipywidgets/\u001b[0m\n",
       "\u001b[1;30mwidgets/widget_output.py:111)\u001b[0m\n"
      ]
     },
     "metadata": {},
     "output_type": "display_data"
    },
    {
     "data": {
      "text/html": [
       "<pre style=\"white-space:pre;overflow-x:auto;line-height:normal;font-family:Menlo,'DejaVu Sans Mono',consolas,'Courier New',monospace\"><span style=\"color: #808000; text-decoration-color: #808000; font-weight: bold\">DeprecationWarning: Kernel._parent_header is deprecated in ipykernel 6. Use .get_parent()</span> \n",
       "<span style=\"color: #000000; text-decoration-color: #000000; font-weight: bold\">(raised from /mnt/data/work/repos/workshops/memes/env/lib/python3.9/site-packages/ipywidgets/</span>\n",
       "<span style=\"color: #000000; text-decoration-color: #000000; font-weight: bold\">widgets/widget_output.py:112)</span>\n",
       "</pre>\n"
      ],
      "text/plain": [
       "\u001b[1;33mDeprecationWarning: Kernel._parent_header is deprecated in ipykernel 6. Use .get_parent()\u001b[0m \n",
       "\u001b[1;30m(raised from /mnt/data/work/repos/workshops/memes/env/lib/python3.9/site-packages/ipywidgets/\u001b[0m\n",
       "\u001b[1;30mwidgets/widget_output.py:112)\u001b[0m\n"
      ]
     },
     "metadata": {},
     "output_type": "display_data"
    },
    {
     "data": {
      "text/html": [
       "<pre style=\"white-space:pre;overflow-x:auto;line-height:normal;font-family:Menlo,'DejaVu Sans Mono',consolas,'Courier New',monospace\"><span style=\"color: #808000; text-decoration-color: #808000; font-weight: bold\">DeprecationWarning: Kernel._parent_header is deprecated in ipykernel 6. Use .get_parent()</span> \n",
       "<span style=\"color: #000000; text-decoration-color: #000000; font-weight: bold\">(raised from /mnt/data/work/repos/workshops/memes/env/lib/python3.9/site-packages/ipywidgets/</span>\n",
       "<span style=\"color: #000000; text-decoration-color: #000000; font-weight: bold\">widgets/widget_output.py:111)</span>\n",
       "</pre>\n"
      ],
      "text/plain": [
       "\u001b[1;33mDeprecationWarning: Kernel._parent_header is deprecated in ipykernel 6. Use .get_parent()\u001b[0m \n",
       "\u001b[1;30m(raised from /mnt/data/work/repos/workshops/memes/env/lib/python3.9/site-packages/ipywidgets/\u001b[0m\n",
       "\u001b[1;30mwidgets/widget_output.py:111)\u001b[0m\n"
      ]
     },
     "metadata": {},
     "output_type": "display_data"
    },
    {
     "data": {
      "text/html": [
       "<pre style=\"white-space:pre;overflow-x:auto;line-height:normal;font-family:Menlo,'DejaVu Sans Mono',consolas,'Courier New',monospace\"><span style=\"color: #808000; text-decoration-color: #808000; font-weight: bold\">DeprecationWarning: Kernel._parent_header is deprecated in ipykernel 6. Use .get_parent()</span> \n",
       "<span style=\"color: #000000; text-decoration-color: #000000; font-weight: bold\">(raised from /mnt/data/work/repos/workshops/memes/env/lib/python3.9/site-packages/ipywidgets/</span>\n",
       "<span style=\"color: #000000; text-decoration-color: #000000; font-weight: bold\">widgets/widget_output.py:112)</span>\n",
       "</pre>\n"
      ],
      "text/plain": [
       "\u001b[1;33mDeprecationWarning: Kernel._parent_header is deprecated in ipykernel 6. Use .get_parent()\u001b[0m \n",
       "\u001b[1;30m(raised from /mnt/data/work/repos/workshops/memes/env/lib/python3.9/site-packages/ipywidgets/\u001b[0m\n",
       "\u001b[1;30mwidgets/widget_output.py:112)\u001b[0m\n"
      ]
     },
     "metadata": {},
     "output_type": "display_data"
    },
    {
     "data": {
      "text/html": [
       "<pre style=\"white-space:pre;overflow-x:auto;line-height:normal;font-family:Menlo,'DejaVu Sans Mono',consolas,'Courier New',monospace\"><span style=\"color: #808000; text-decoration-color: #808000; font-weight: bold\">DeprecationWarning: Kernel._parent_header is deprecated in ipykernel 6. Use .get_parent()</span> \n",
       "<span style=\"color: #000000; text-decoration-color: #000000; font-weight: bold\">(raised from /mnt/data/work/repos/workshops/memes/env/lib/python3.9/site-packages/ipywidgets/</span>\n",
       "<span style=\"color: #000000; text-decoration-color: #000000; font-weight: bold\">widgets/widget_output.py:111)</span>\n",
       "</pre>\n"
      ],
      "text/plain": [
       "\u001b[1;33mDeprecationWarning: Kernel._parent_header is deprecated in ipykernel 6. Use .get_parent()\u001b[0m \n",
       "\u001b[1;30m(raised from /mnt/data/work/repos/workshops/memes/env/lib/python3.9/site-packages/ipywidgets/\u001b[0m\n",
       "\u001b[1;30mwidgets/widget_output.py:111)\u001b[0m\n"
      ]
     },
     "metadata": {},
     "output_type": "display_data"
    },
    {
     "data": {
      "text/html": [
       "<pre style=\"white-space:pre;overflow-x:auto;line-height:normal;font-family:Menlo,'DejaVu Sans Mono',consolas,'Courier New',monospace\"><span style=\"color: #808000; text-decoration-color: #808000; font-weight: bold\">DeprecationWarning: Kernel._parent_header is deprecated in ipykernel 6. Use .get_parent()</span> \n",
       "<span style=\"color: #000000; text-decoration-color: #000000; font-weight: bold\">(raised from /mnt/data/work/repos/workshops/memes/env/lib/python3.9/site-packages/ipywidgets/</span>\n",
       "<span style=\"color: #000000; text-decoration-color: #000000; font-weight: bold\">widgets/widget_output.py:112)</span>\n",
       "</pre>\n"
      ],
      "text/plain": [
       "\u001b[1;33mDeprecationWarning: Kernel._parent_header is deprecated in ipykernel 6. Use .get_parent()\u001b[0m \n",
       "\u001b[1;30m(raised from /mnt/data/work/repos/workshops/memes/env/lib/python3.9/site-packages/ipywidgets/\u001b[0m\n",
       "\u001b[1;30mwidgets/widget_output.py:112)\u001b[0m\n"
      ]
     },
     "metadata": {},
     "output_type": "display_data"
    },
    {
     "data": {
      "text/html": [
       "<pre style=\"white-space:pre;overflow-x:auto;line-height:normal;font-family:Menlo,'DejaVu Sans Mono',consolas,'Courier New',monospace\"><span style=\"color: #808000; text-decoration-color: #808000; font-weight: bold\">DeprecationWarning: Kernel._parent_header is deprecated in ipykernel 6. Use .get_parent()</span> \n",
       "<span style=\"color: #000000; text-decoration-color: #000000; font-weight: bold\">(raised from /mnt/data/work/repos/workshops/memes/env/lib/python3.9/site-packages/ipywidgets/</span>\n",
       "<span style=\"color: #000000; text-decoration-color: #000000; font-weight: bold\">widgets/widget_output.py:111)</span>\n",
       "</pre>\n"
      ],
      "text/plain": [
       "\u001b[1;33mDeprecationWarning: Kernel._parent_header is deprecated in ipykernel 6. Use .get_parent()\u001b[0m \n",
       "\u001b[1;30m(raised from /mnt/data/work/repos/workshops/memes/env/lib/python3.9/site-packages/ipywidgets/\u001b[0m\n",
       "\u001b[1;30mwidgets/widget_output.py:111)\u001b[0m\n"
      ]
     },
     "metadata": {},
     "output_type": "display_data"
    },
    {
     "data": {
      "text/html": [
       "<pre style=\"white-space:pre;overflow-x:auto;line-height:normal;font-family:Menlo,'DejaVu Sans Mono',consolas,'Courier New',monospace\"><span style=\"color: #808000; text-decoration-color: #808000; font-weight: bold\">DeprecationWarning: Kernel._parent_header is deprecated in ipykernel 6. Use .get_parent()</span> \n",
       "<span style=\"color: #000000; text-decoration-color: #000000; font-weight: bold\">(raised from /mnt/data/work/repos/workshops/memes/env/lib/python3.9/site-packages/ipywidgets/</span>\n",
       "<span style=\"color: #000000; text-decoration-color: #000000; font-weight: bold\">widgets/widget_output.py:112)</span>\n",
       "</pre>\n"
      ],
      "text/plain": [
       "\u001b[1;33mDeprecationWarning: Kernel._parent_header is deprecated in ipykernel 6. Use .get_parent()\u001b[0m \n",
       "\u001b[1;30m(raised from /mnt/data/work/repos/workshops/memes/env/lib/python3.9/site-packages/ipywidgets/\u001b[0m\n",
       "\u001b[1;30mwidgets/widget_output.py:112)\u001b[0m\n"
      ]
     },
     "metadata": {},
     "output_type": "display_data"
    },
    {
     "data": {
      "text/html": [
       "<pre style=\"white-space:pre;overflow-x:auto;line-height:normal;font-family:Menlo,'DejaVu Sans Mono',consolas,'Courier New',monospace\"><span style=\"color: #808000; text-decoration-color: #808000; font-weight: bold\">DeprecationWarning: Kernel._parent_header is deprecated in ipykernel 6. Use .get_parent()</span> \n",
       "<span style=\"color: #000000; text-decoration-color: #000000; font-weight: bold\">(raised from /mnt/data/work/repos/workshops/memes/env/lib/python3.9/site-packages/ipywidgets/</span>\n",
       "<span style=\"color: #000000; text-decoration-color: #000000; font-weight: bold\">widgets/widget_output.py:111)</span>\n",
       "</pre>\n"
      ],
      "text/plain": [
       "\u001b[1;33mDeprecationWarning: Kernel._parent_header is deprecated in ipykernel 6. Use .get_parent()\u001b[0m \n",
       "\u001b[1;30m(raised from /mnt/data/work/repos/workshops/memes/env/lib/python3.9/site-packages/ipywidgets/\u001b[0m\n",
       "\u001b[1;30mwidgets/widget_output.py:111)\u001b[0m\n"
      ]
     },
     "metadata": {},
     "output_type": "display_data"
    },
    {
     "data": {
      "text/html": [
       "<pre style=\"white-space:pre;overflow-x:auto;line-height:normal;font-family:Menlo,'DejaVu Sans Mono',consolas,'Courier New',monospace\"><span style=\"color: #808000; text-decoration-color: #808000; font-weight: bold\">DeprecationWarning: Kernel._parent_header is deprecated in ipykernel 6. Use .get_parent()</span> \n",
       "<span style=\"color: #000000; text-decoration-color: #000000; font-weight: bold\">(raised from /mnt/data/work/repos/workshops/memes/env/lib/python3.9/site-packages/ipywidgets/</span>\n",
       "<span style=\"color: #000000; text-decoration-color: #000000; font-weight: bold\">widgets/widget_output.py:112)</span>\n",
       "</pre>\n"
      ],
      "text/plain": [
       "\u001b[1;33mDeprecationWarning: Kernel._parent_header is deprecated in ipykernel 6. Use .get_parent()\u001b[0m \n",
       "\u001b[1;30m(raised from /mnt/data/work/repos/workshops/memes/env/lib/python3.9/site-packages/ipywidgets/\u001b[0m\n",
       "\u001b[1;30mwidgets/widget_output.py:112)\u001b[0m\n"
      ]
     },
     "metadata": {},
     "output_type": "display_data"
    },
    {
     "data": {
      "text/html": [
       "<pre style=\"white-space:pre;overflow-x:auto;line-height:normal;font-family:Menlo,'DejaVu Sans Mono',consolas,'Courier New',monospace\"><span style=\"color: #808000; text-decoration-color: #808000; font-weight: bold\">DeprecationWarning: Kernel._parent_header is deprecated in ipykernel 6. Use .get_parent()</span> \n",
       "<span style=\"color: #000000; text-decoration-color: #000000; font-weight: bold\">(raised from /mnt/data/work/repos/workshops/memes/env/lib/python3.9/site-packages/ipywidgets/</span>\n",
       "<span style=\"color: #000000; text-decoration-color: #000000; font-weight: bold\">widgets/widget_output.py:111)</span>\n",
       "</pre>\n"
      ],
      "text/plain": [
       "\u001b[1;33mDeprecationWarning: Kernel._parent_header is deprecated in ipykernel 6. Use .get_parent()\u001b[0m \n",
       "\u001b[1;30m(raised from /mnt/data/work/repos/workshops/memes/env/lib/python3.9/site-packages/ipywidgets/\u001b[0m\n",
       "\u001b[1;30mwidgets/widget_output.py:111)\u001b[0m\n"
      ]
     },
     "metadata": {},
     "output_type": "display_data"
    },
    {
     "data": {
      "text/html": [
       "<pre style=\"white-space:pre;overflow-x:auto;line-height:normal;font-family:Menlo,'DejaVu Sans Mono',consolas,'Courier New',monospace\"><span style=\"color: #808000; text-decoration-color: #808000; font-weight: bold\">DeprecationWarning: Kernel._parent_header is deprecated in ipykernel 6. Use .get_parent()</span> \n",
       "<span style=\"color: #000000; text-decoration-color: #000000; font-weight: bold\">(raised from /mnt/data/work/repos/workshops/memes/env/lib/python3.9/site-packages/ipywidgets/</span>\n",
       "<span style=\"color: #000000; text-decoration-color: #000000; font-weight: bold\">widgets/widget_output.py:112)</span>\n",
       "</pre>\n"
      ],
      "text/plain": [
       "\u001b[1;33mDeprecationWarning: Kernel._parent_header is deprecated in ipykernel 6. Use .get_parent()\u001b[0m \n",
       "\u001b[1;30m(raised from /mnt/data/work/repos/workshops/memes/env/lib/python3.9/site-packages/ipywidgets/\u001b[0m\n",
       "\u001b[1;30mwidgets/widget_output.py:112)\u001b[0m\n"
      ]
     },
     "metadata": {},
     "output_type": "display_data"
    },
    {
     "data": {
      "text/html": [
       "<pre style=\"white-space:pre;overflow-x:auto;line-height:normal;font-family:Menlo,'DejaVu Sans Mono',consolas,'Courier New',monospace\"><span style=\"color: #808000; text-decoration-color: #808000; font-weight: bold\">DeprecationWarning: Kernel._parent_header is deprecated in ipykernel 6. Use .get_parent()</span> \n",
       "<span style=\"color: #000000; text-decoration-color: #000000; font-weight: bold\">(raised from /mnt/data/work/repos/workshops/memes/env/lib/python3.9/site-packages/ipywidgets/</span>\n",
       "<span style=\"color: #000000; text-decoration-color: #000000; font-weight: bold\">widgets/widget_output.py:111)</span>\n",
       "</pre>\n"
      ],
      "text/plain": [
       "\u001b[1;33mDeprecationWarning: Kernel._parent_header is deprecated in ipykernel 6. Use .get_parent()\u001b[0m \n",
       "\u001b[1;30m(raised from /mnt/data/work/repos/workshops/memes/env/lib/python3.9/site-packages/ipywidgets/\u001b[0m\n",
       "\u001b[1;30mwidgets/widget_output.py:111)\u001b[0m\n"
      ]
     },
     "metadata": {},
     "output_type": "display_data"
    },
    {
     "data": {
      "text/html": [
       "<pre style=\"white-space:pre;overflow-x:auto;line-height:normal;font-family:Menlo,'DejaVu Sans Mono',consolas,'Courier New',monospace\"><span style=\"color: #808000; text-decoration-color: #808000; font-weight: bold\">DeprecationWarning: Kernel._parent_header is deprecated in ipykernel 6. Use .get_parent()</span> \n",
       "<span style=\"color: #000000; text-decoration-color: #000000; font-weight: bold\">(raised from /mnt/data/work/repos/workshops/memes/env/lib/python3.9/site-packages/ipywidgets/</span>\n",
       "<span style=\"color: #000000; text-decoration-color: #000000; font-weight: bold\">widgets/widget_output.py:112)</span>\n",
       "</pre>\n"
      ],
      "text/plain": [
       "\u001b[1;33mDeprecationWarning: Kernel._parent_header is deprecated in ipykernel 6. Use .get_parent()\u001b[0m \n",
       "\u001b[1;30m(raised from /mnt/data/work/repos/workshops/memes/env/lib/python3.9/site-packages/ipywidgets/\u001b[0m\n",
       "\u001b[1;30mwidgets/widget_output.py:112)\u001b[0m\n"
      ]
     },
     "metadata": {},
     "output_type": "display_data"
    },
    {
     "data": {
      "text/html": [
       "<pre style=\"white-space:pre;overflow-x:auto;line-height:normal;font-family:Menlo,'DejaVu Sans Mono',consolas,'Courier New',monospace\"><span style=\"color: #808000; text-decoration-color: #808000; font-weight: bold\">DeprecationWarning: Kernel._parent_header is deprecated in ipykernel 6. Use .get_parent()</span> \n",
       "<span style=\"color: #000000; text-decoration-color: #000000; font-weight: bold\">(raised from /mnt/data/work/repos/workshops/memes/env/lib/python3.9/site-packages/ipywidgets/</span>\n",
       "<span style=\"color: #000000; text-decoration-color: #000000; font-weight: bold\">widgets/widget_output.py:111)</span>\n",
       "</pre>\n"
      ],
      "text/plain": [
       "\u001b[1;33mDeprecationWarning: Kernel._parent_header is deprecated in ipykernel 6. Use .get_parent()\u001b[0m \n",
       "\u001b[1;30m(raised from /mnt/data/work/repos/workshops/memes/env/lib/python3.9/site-packages/ipywidgets/\u001b[0m\n",
       "\u001b[1;30mwidgets/widget_output.py:111)\u001b[0m\n"
      ]
     },
     "metadata": {},
     "output_type": "display_data"
    },
    {
     "data": {
      "text/html": [
       "<pre style=\"white-space:pre;overflow-x:auto;line-height:normal;font-family:Menlo,'DejaVu Sans Mono',consolas,'Courier New',monospace\"><span style=\"color: #808000; text-decoration-color: #808000; font-weight: bold\">DeprecationWarning: Kernel._parent_header is deprecated in ipykernel 6. Use .get_parent()</span> \n",
       "<span style=\"color: #000000; text-decoration-color: #000000; font-weight: bold\">(raised from /mnt/data/work/repos/workshops/memes/env/lib/python3.9/site-packages/ipywidgets/</span>\n",
       "<span style=\"color: #000000; text-decoration-color: #000000; font-weight: bold\">widgets/widget_output.py:112)</span>\n",
       "</pre>\n"
      ],
      "text/plain": [
       "\u001b[1;33mDeprecationWarning: Kernel._parent_header is deprecated in ipykernel 6. Use .get_parent()\u001b[0m \n",
       "\u001b[1;30m(raised from /mnt/data/work/repos/workshops/memes/env/lib/python3.9/site-packages/ipywidgets/\u001b[0m\n",
       "\u001b[1;30mwidgets/widget_output.py:112)\u001b[0m\n"
      ]
     },
     "metadata": {},
     "output_type": "display_data"
    },
    {
     "data": {
      "text/html": [
       "<pre style=\"white-space:pre;overflow-x:auto;line-height:normal;font-family:Menlo,'DejaVu Sans Mono',consolas,'Courier New',monospace\"></pre>\n"
      ],
      "text/plain": []
     },
     "metadata": {},
     "output_type": "display_data"
    },
    {
     "data": {
      "text/html": [
       "<pre style=\"white-space:pre;overflow-x:auto;line-height:normal;font-family:Menlo,'DejaVu Sans Mono',consolas,'Courier New',monospace\"></pre>\n"
      ],
      "text/plain": []
     },
     "metadata": {},
     "output_type": "display_data"
    },
    {
     "data": {
      "text/html": [
       "<pre style=\"white-space:pre;overflow-x:auto;line-height:normal;font-family:Menlo,'DejaVu Sans Mono',consolas,'Courier New',monospace\"></pre>\n"
      ],
      "text/plain": []
     },
     "metadata": {},
     "output_type": "display_data"
    },
    {
     "name": "stdout",
     "output_type": "stream",
     "text": [
      "           Flow@17248[I]:\u001b[32m🎉 Flow is ready to use!\u001b[0m                                          \n",
      "\t🔗 Protocol: \t\t\u001b[1mGRPC\u001b[0m\n",
      "\t🏠 Local access:\t\u001b[4m\u001b[36m0.0.0.0:63515\u001b[0m\n",
      "\t🔒 Private network:\t\u001b[4m\u001b[36m10.5.49.153:63515\u001b[0m\n",
      "\t🌐 Public address:\t\u001b[4m\u001b[36m46.189.45.146:63515\u001b[0m\u001b[0m\n",
      "\u001b[31mmeme_text_encoder/rep-0@17803[E]:AttributeError(\"'tuple' object has no attribute 'split'\")\n",
      " add \"--quiet-error\" to suppress the exception details\u001b[0m\n",
      "Traceback (most recent call last):\n",
      "  File \"/mnt/data/work/repos/workshops/memes/env/lib/python3.9/site-packages/jina/serve/runtimes/worker/__init__.py\", line 101, in process_data\n",
      "    return await self._data_request_handler.handle(requests=requests)\n",
      "  File \"/mnt/data/work/repos/workshops/memes/env/lib/python3.9/site-packages/jina/serve/runtimes/request_handlers/data_request_handler.py\", line 94, in handle\n",
      "    return_data = await self._executor.__acall__(\n",
      "  File \"/mnt/data/work/repos/workshops/memes/env/lib/python3.9/site-packages/jina/serve/executors/__init__.py\", line 224, in __acall__\n",
      "    return await self.__acall_endpoint__(__default_endpoint__, **kwargs)\n",
      "  File \"/mnt/data/work/repos/workshops/memes/env/lib/python3.9/site-packages/jina/serve/executors/__init__.py\", line 231, in __acall_endpoint__\n",
      "    return await run_in_threadpool(func, self._thread_pool, self, **kwargs)\n",
      "  File \"/mnt/data/work/repos/workshops/memes/env/lib/python3.9/site-packages/jina/helper.py\", line 1199, in run_in_threadpool\n",
      "    return await get_or_reuse_loop().run_in_executor(\n",
      "  File \"/usr/lib/python3.9/concurrent/futures/thread.py\", line 58, in run\n",
      "    result = self.fn(*self.args, **self.kwargs)\n",
      "  File \"/mnt/data/work/repos/workshops/memes/env/lib/python3.9/site-packages/jina/serve/executors/decorators.py\", line 115, in arg_wrapper\n",
      "    return fn(*args, **kwargs)\n",
      "  File \"/home/alexcg/.jina/hub-packages/u9pqs8eb/transform_encoder.py\", line 84, in encode\n",
      "    docs_batch_generator = docs.traverse_flat(\n",
      "  File \"/mnt/data/work/repos/workshops/memes/env/lib/python3.9/site-packages/docarray/array/mixins/traverse.py\", line 120, in traverse_flat\n",
      "    return self._flatten(leaves)\n",
      "  File \"/mnt/data/work/repos/workshops/memes/env/lib/python3.9/site-packages/docarray/array/mixins/traverse.py\", line 159, in _flatten\n",
      "    return DocumentArray(list(itertools.chain.from_iterable(sequence)))\n",
      "  File \"/mnt/data/work/repos/workshops/memes/env/lib/python3.9/site-packages/docarray/array/mixins/traverse.py\", line 45, in traverse\n",
      "    for p in traversal_paths.split(','):\n",
      "AttributeError: 'tuple' object has no attribute 'split'\n",
      "DONE!\n"
     ]
    }
   ],
   "source": [
    "with flow:\n",
    "  indexed_docs = flow.index(\n",
    "      inputs=docs,\n",
    "      request_size=64,\n",
    "      # show_progress=True,\n",
    "      # return_results=True\n",
    "  )\n",
    "print(\"DONE!\")"
   ]
  },
  {
   "cell_type": "markdown",
   "metadata": {},
   "source": [
    "## What did we just do?\n",
    "\n",
    "Indexing our Documents:\n",
    "\n",
    "- Generated *vector embeddings* for each Document, generated by a neural network. These provide a representation of the meaning of each piece of text, instead of it just being a string of characters\n",
    "- Stored the embeddings and metadata of each Document in an on-disk index (`./workspace`) for fast lookup later\n",
    "\n",
    "Let's look a Document after it's been through the indexing Flow. We can see its vector embedding stored as a Numpy ndarray in its `.embedding` attribute:"
   ]
  },
  {
   "cell_type": "code",
   "execution_count": 24,
   "metadata": {},
   "outputs": [
    {
     "ename": "NameError",
     "evalue": "name 'indexed_docs' is not defined",
     "output_type": "error",
     "traceback": [
      "\u001b[0;31m---------------------------------------------------------------------------\u001b[0m",
      "\u001b[0;31mNameError\u001b[0m                                 Traceback (most recent call last)",
      "Input \u001b[0;32mIn [24]\u001b[0m, in \u001b[0;36m<cell line: 1>\u001b[0;34m()\u001b[0m\n\u001b[0;32m----> 1\u001b[0m \u001b[38;5;28mprint\u001b[39m(\u001b[43mindexed_docs\u001b[49m[\u001b[38;5;241m0\u001b[39m]\u001b[38;5;241m.\u001b[39mdata\u001b[38;5;241m.\u001b[39mdocs[\u001b[38;5;241m0\u001b[39m]\u001b[38;5;241m.\u001b[39membedding)\n",
      "\u001b[0;31mNameError\u001b[0m: name 'indexed_docs' is not defined"
     ]
    }
   ],
   "source": [
    "print(indexed_docs[0].data.docs[0].embedding) # We dig deep because there's a lot of additional metadata we don't care about right now"
   ]
  },
  {
   "cell_type": "markdown",
   "metadata": {
    "id": "06Ptw8_kBgxc"
   },
   "source": [
    "## Search data with Flow"
   ]
  },
  {
   "cell_type": "markdown",
   "metadata": {},
   "source": [
    "### Create query Document\n",
    "\n",
    "A Document is the fundamental thing that Jina works with. So anything we pass or out needs to be a Document"
   ]
  },
  {
   "cell_type": "code",
   "execution_count": null,
   "metadata": {
    "id": "jtcvp5bi9Nbt"
   },
   "outputs": [],
   "source": [
    "search_term = \"school\"\n",
    "query_doc = Document(text=search_term)"
   ]
  },
  {
   "cell_type": "markdown",
   "metadata": {},
   "source": [
    "### Send query Document to Flow\n",
    "\n",
    "This Flow will:\n",
    "\n",
    "- Generate a vector embedding for our query Document based on its text\n",
    "- Compare that embedding with the 50 embeddings (one for each meme) we stored in our index earlier\n",
    "- Return the closest matches based on Document (i.e. text) similarity"
   ]
  },
  {
   "cell_type": "code",
   "execution_count": null,
   "metadata": {
    "colab": {
     "base_uri": "https://localhost:8080/"
    },
    "id": "MB9RxYsR8saM",
    "outputId": "862891df-55b1-47cb-ac1b-8862716b6d22"
   },
   "outputs": [],
   "source": [
    "with flow:\n",
    "  response = flow.search(inputs=query_doc, return_results=True)\n",
    "print(\"DONE!\")"
   ]
  },
  {
   "cell_type": "markdown",
   "metadata": {},
   "source": [
    "### Extract matches\n",
    "\n",
    "A Jina response contains a lot of extra data. We just want the DocumentArray with matching Documents"
   ]
  },
  {
   "cell_type": "code",
   "execution_count": null,
   "metadata": {
    "colab": {
     "base_uri": "https://localhost:8080/"
    },
    "id": "lE-fipho9eTj",
    "outputId": "08f2b367-5862-4772-b87d-2ccc0c5f7994"
   },
   "outputs": [],
   "source": [
    "matches = response[0].docs[0].matches"
   ]
  },
  {
   "cell_type": "code",
   "execution_count": null,
   "metadata": {},
   "outputs": [],
   "source": [
    "show_images(matches)"
   ]
  },
  {
   "cell_type": "markdown",
   "metadata": {
    "id": "twHoDflQBwju"
   },
   "source": [
    "## Using this IRL\n",
    "\n",
    "How can we take this out of a notebook and build a real-world application with it?"
   ]
  },
  {
   "cell_type": "markdown",
   "metadata": {
    "id": "8BMGGJCZYBQr"
   },
   "source": [
    "### Not use a notebook\n",
    "\n",
    "Notebooks are great for demo's or scientific research. Not so great for real-world applications.\n",
    "\n",
    "### Use a better indexer\n",
    "\n",
    "Jina's **[PQLiteIndexer](https://hub.jina.ai/executor/pn1qofsj)** offers powerful features like pre-filtering based on metadata. In our notebook we just use [SimpleIndexer](https://hub.jina.ai/executor/zb38xlt4) which is nice for demonstrations but lacks PQLite's power.\n",
    "\n",
    "### Use a RESTful API\n",
    "\n",
    "#### In notebook: gRPC\n",
    "\n",
    "```python\n",
    "with flow:\n",
    "    flow.search(Document(text=\"foo\"))\n",
    "```\n",
    "\n",
    "#### In Python: RESTful or gRPC\n",
    "\n",
    "```python\n",
    "with flow:\n",
    "    flow.protocol = \"http\"\n",
    "    flow.port_expose = 12345\n",
    "    flow.block()\n",
    "```\n",
    "\n",
    "### Use Dockerized Executors...\n",
    "\n",
    "This means having to install fewer requirements locally.\n",
    "\n",
    "\n",
    "#### In notebook: `jinahub://foo`\n",
    "\n",
    "```python\n",
    "flow = (\n",
    "    Flow()\n",
    "    .add(...)\n",
    "    .add(\n",
    "        uses=\"jinahub://SimpleIndexer\",\n",
    "    )\n",
    ")\n",
    "```\n",
    "\n",
    "#### In Python: `jinahub+docker://foo`\n",
    "\n",
    "```python\n",
    "flow = (\n",
    "    Flow()\n",
    "    .add(...)\n",
    "    .add(\n",
    "        uses=\"jinahub+docker://SimpleIndexer\",\n",
    "    )\n",
    ")\n",
    "```\n",
    "\n",
    "### ...or wrap everything in Docker\n",
    "\n",
    "See an example [docker-compose.yml](https://github.com/alexcg1/jina-meme-search/blob/main/docker-compose.yml)"
   ]
  }
 ],
 "metadata": {
  "accelerator": "GPU",
  "colab": {
   "collapsed_sections": [],
   "name": "Meme search with text",
   "provenance": []
  },
  "kernelspec": {
   "display_name": "Python 3",
   "language": "python",
   "name": "python3"
  },
  "language_info": {
   "codemirror_mode": {
    "name": "ipython",
    "version": 3
   },
   "file_extension": ".py",
   "mimetype": "text/x-python",
   "name": "python",
   "nbconvert_exporter": "python",
   "pygments_lexer": "ipython3",
   "version": "3.9.9"
  },
  "toc-showmarkdowntxt": false
 },
 "nbformat": 4,
 "nbformat_minor": 4
}
