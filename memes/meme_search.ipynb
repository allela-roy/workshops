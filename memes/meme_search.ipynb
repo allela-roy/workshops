{
 "cells": [
  {
   "cell_type": "markdown",
   "metadata": {
    "id": "d-6qZXne-aDr"
   },
   "source": [
    "# Jina Meme Search Workshop\n",
    "\n",
    "![](http://examples.jina.ai/images/meme_search.gif)\n",
    "\n",
    "In this workshop we're going to build a meme search engine using [Jina](https://github.com/jina-ai/jina/). It will search a dataset of memes and return URLs to the images as well as metadata.\n",
    "\n",
    "For this workshop we'll just focus on searching **text**. For a more complete repo (including text/image search and frontend) you can check [this link](https://github.com/alexcg1/jina-meme-search).\n",
    "\n",
    "You can play with a live example [here](https://examples.jina.ai)."
   ]
  },
  {
   "cell_type": "markdown",
   "metadata": {},
   "source": [
    "# Prerequisites\n",
    "\n",
    "- Check out [Jina's repo](https://github.com/jina-ai/jina/) to understand what Jina does\n",
    "- Watch [Neural search using cute fuzzy animals](https://www.youtube.com/watch?v=3FyddFAFNPQ) to understand how neural search works\n",
    "- Watch [Jina basics in under two minutes](https://www.youtube.com/watch?v=mnnC37ewQI8) to learn the fundamental components of Jina"
   ]
  },
  {
   "cell_type": "markdown",
   "metadata": {},
   "source": [
    "# Terminology\n",
    "\n",
    "Let's go through the words we'll be using in this workshop.\n",
    "\n",
    "In our example, we'll search through all the <code>text</code> (which comes from a JSON file) and then display the image <code>uri</code> of each match.\n",
    "\n",
    "<table>\n",
    "    <tr>\n",
    "        <td>\n",
    "            <img src=\"https://raw.githubusercontent.com/jina-ai/workshops/main/memes/koala.png\" width=300 align=\"left\">\n",
    "        </td>\n",
    "        <td>\n",
    "            <table>\n",
    "                <tr>\n",
    "                    <td>Template</td>\n",
    "                    <td>Surprised Koala</td>\n",
    "                </tr>\n",
    "                <tr>\n",
    "                    <td>Caption</td>\n",
    "                    <td>This is poisonous. What</td>\n",
    "                </tr>\n",
    "                <tr>\n",
    "                    <td><code>uri</code></td>\n",
    "                    <td>https//i.imgflip.com/foo_bar.jpg</td>\n",
    "                </tr>\n",
    "                <tr>\n",
    "                    <td><code>text</code></td>\n",
    "                    <td>Surprised Koala | This is poisonous. What</td>\n",
    "                </tr>\n",
    "            </table>\n",
    "        </td>\n",
    "    </tr>\n",
    "</table>"
   ]
  },
  {
   "cell_type": "markdown",
   "metadata": {},
   "source": [
    "# Set up basics"
   ]
  },
  {
   "cell_type": "markdown",
   "metadata": {},
   "source": [
    "## Housekeeping"
   ]
  },
  {
   "cell_type": "markdown",
   "metadata": {},
   "source": [
    "### Clean up from last time"
   ]
  },
  {
   "cell_type": "code",
   "execution_count": null,
   "metadata": {},
   "outputs": [],
   "source": [
    "!wget https://raw.githubusercontent.com/jina-ai/workshops/main/memes/helper.py\n",
    "from helper import cleanup"
   ]
  },
  {
   "cell_type": "code",
   "execution_count": null,
   "metadata": {},
   "outputs": [],
   "source": [
    "# Ensure we're in root dir\n",
    "!cd /\n",
    "cleanup()"
   ]
  },
  {
   "cell_type": "markdown",
   "metadata": {},
   "source": [
    "### Set basic options"
   ]
  },
  {
   "cell_type": "code",
   "execution_count": null,
   "metadata": {},
   "outputs": [],
   "source": [
    "# Enable Jupyter widgets so we can see images\n",
    "!jupyter nbextension enable --py widgetsnbextension\n",
    "\n",
    "# Disable warnings\n",
    "import warnings\n",
    "warnings.filterwarnings('ignore')"
   ]
  },
  {
   "cell_type": "markdown",
   "metadata": {},
   "source": [
    "## Set maximum images to index\n",
    "\n",
    "Since this is just a workshop and not a real-world application we'll just search through 50 memes. This will save us time in processing."
   ]
  },
  {
   "cell_type": "code",
   "execution_count": null,
   "metadata": {},
   "outputs": [],
   "source": [
    "max_docs = 50"
   ]
  },
  {
   "cell_type": "markdown",
   "metadata": {
    "id": "hjDI5WMT-uEb"
   },
   "source": [
    "## Install Prerequisites"
   ]
  },
  {
   "cell_type": "code",
   "execution_count": null,
   "metadata": {
    "colab": {
     "base_uri": "https://localhost:8080/"
    },
    "id": "JyvR2vJC37nR",
    "outputId": "891360b0-5cf7-447d-de4b-0ff0e5ca2ada"
   },
   "outputs": [],
   "source": [
    "!wget https://raw.githubusercontent.com/jina-ai/workshops/main/memes/requirements.txt -qN\n",
    "!pip install -r requirements.txt -qq # -qq hides useless warnings"
   ]
  },
  {
   "cell_type": "markdown",
   "metadata": {
    "id": "f827Mkip-wxl"
   },
   "source": [
    "# Process data\n",
    "\n",
    "We use an open-source dataset from imgflip, originally downloaded from [Kaggle](https://www.kaggle.com/abhishtagatya/imgflipscraped-memes-caption-dataset).\n",
    "\n",
    "## Why this dataset?\n",
    "\n",
    "We chose this dataset because\n",
    "\n",
    "- It has rich metadata (caption, template name)\n",
    "- It has recognizable memes (many datasets were just random pics with overlaid Impact font)\n",
    "- It doesn't *seem* to have too many racist/sexist/\\*phobic memes 🤞\n",
    "\n",
    "## Why does this dataset kinda suck?\n",
    "\n",
    "It only contains so many memes, and new memes come out all the time. So it won't have the latest, dankest stuff."
   ]
  },
  {
   "cell_type": "markdown",
   "metadata": {},
   "source": [
    "## Download data"
   ]
  },
  {
   "cell_type": "code",
   "execution_count": null,
   "metadata": {
    "colab": {
     "base_uri": "https://localhost:8080/"
    },
    "id": "Gz6sKxwm3jw-",
    "outputId": "08bbb648-30a1-4648-98af-96d1ce0a143c"
   },
   "outputs": [],
   "source": [
    "!mkdir -p data\n",
    "!wget -O data/memes.json https://jina-examples-datasets.s3.amazonaws.com/memes/memes.json -Nq"
   ]
  },
  {
   "cell_type": "markdown",
   "metadata": {
    "id": "14lerh7__Mlb"
   },
   "source": [
    "## Load data\n",
    "\n",
    "I've written a function to help load the data from the JSON file we downloaded earlier.\n",
    "\n",
    "In this function we:\n",
    "\n",
    "- Create a `DocumentArray` to hold `Documents`\n",
    "- Optionally shuffle the memes\n",
    "- Create a `Document` for each meme\n",
    "- Set `Document.text` to the template name (e.g. `\"Surprised Koala\"`) + meme caption (e.g. `\"This is poisonous. What\"`)\n",
    "- Populate some `tags` for the `Document` (e.g. absolute URL for image)"
   ]
  },
  {
   "cell_type": "code",
   "execution_count": 1,
   "metadata": {
    "id": "BiyIopC7CfqD"
   },
   "outputs": [],
   "source": [
    "from jina import Document, DocumentArray"
   ]
  },
  {
   "cell_type": "code",
   "execution_count": null,
   "metadata": {
    "id": "Lhx-gD5b30JJ"
   },
   "outputs": [],
   "source": [
    "import json\n",
    "def prep_docs(input_file, num_docs=None, shuffle=True):\n",
    "    docs = DocumentArray()\n",
    "    memes = []\n",
    "    print(f\"Processing {input_file}\")\n",
    "    with open(input_file, \"r\") as file:\n",
    "        raw_json = json.loads(file.read())\n",
    "\n",
    "    for template in raw_json:\n",
    "        for meme in template[\"generated_memes\"]:\n",
    "            meme[\"template\"] = template[\"name\"]\n",
    "        memes.extend(template[\"generated_memes\"])\n",
    "\n",
    "    if shuffle:\n",
    "        import random\n",
    "        random_seed = 1337\n",
    "\n",
    "        random.seed(random_seed)\n",
    "        random.shuffle(memes)\n",
    "\n",
    "    for meme in memes[:num_docs]:\n",
    "        doctext = f\"{meme['template']} - {meme['caption_text']}\"\n",
    "        doc = Document(text=doctext)\n",
    "        doc.tags = meme\n",
    "        doc.tags[\"uri_absolute\"] = \"http:\" + doc.tags[\"image_url\"]\n",
    "        docs.extend([doc])\n",
    "\n",
    "    return docs"
   ]
  },
  {
   "cell_type": "markdown",
   "metadata": {
    "id": "zaTD9ssjA6a8"
   },
   "source": [
    "### Why shuffle?\n",
    "\n",
    "The memes are arranged alphabetically by template. So if we don't shuffle we're going to get very similar memes. This makes it more difficult to search for something interesting."
   ]
  },
  {
   "cell_type": "code",
   "execution_count": null,
   "metadata": {
    "colab": {
     "base_uri": "https://localhost:8080/"
    },
    "id": "rcg_sQKZ5EyA",
    "outputId": "aa22d73d-2f1e-4df7-8442-7d13bf03fbd2"
   },
   "outputs": [],
   "source": [
    "docs = prep_docs(\n",
    "    input_file=\"data/memes.json\", \n",
    "    num_docs=max_docs, \n",
    "    shuffle=False\n",
    ")"
   ]
  },
  {
   "cell_type": "code",
   "execution_count": null,
   "metadata": {},
   "outputs": [],
   "source": [
    "from helper import show_images"
   ]
  },
  {
   "cell_type": "code",
   "execution_count": null,
   "metadata": {},
   "outputs": [],
   "source": [
    "show_images(docs)"
   ]
  },
  {
   "cell_type": "markdown",
   "metadata": {
    "id": "4CFc1OvuBGyQ"
   },
   "source": [
    "If we shuffle we get a more interesting mix:"
   ]
  },
  {
   "cell_type": "code",
   "execution_count": null,
   "metadata": {
    "colab": {
     "base_uri": "https://localhost:8080/"
    },
    "id": "Pwal0Nwh4aOq",
    "outputId": "a06ff984-b692-4d31-c4bf-032fa0f7ef50",
    "tags": []
   },
   "outputs": [],
   "source": [
    "docs = prep_docs(\n",
    "    input_file=\"data/memes.json\", \n",
    "    num_docs=max_docs, \n",
    "    shuffle=True\n",
    ")"
   ]
  },
  {
   "cell_type": "code",
   "execution_count": null,
   "metadata": {},
   "outputs": [],
   "source": [
    "show_images(docs)"
   ]
  },
  {
   "cell_type": "markdown",
   "metadata": {},
   "source": [
    "# Index and search data with Flow"
   ]
  },
  {
   "cell_type": "markdown",
   "metadata": {
    "id": "wKuRVFJzBayO"
   },
   "source": [
    "## Set up Flow\n",
    "\n",
    "Before we index or search, we need to create our Flow. Only then can we open it as a context manager and do stuff with it."
   ]
  },
  {
   "cell_type": "code",
   "execution_count": null,
   "metadata": {
    "id": "ae9vrzNICVbs"
   },
   "outputs": [],
   "source": [
    "from jina import Flow"
   ]
  },
  {
   "cell_type": "code",
   "execution_count": null,
   "metadata": {
    "id": "2mxPSbjp6KwW"
   },
   "outputs": [],
   "source": [
    "flow = (\n",
    "    Flow()\n",
    "    .add(\n",
    "        name=\"meme_text_encoder\",\n",
    "        uses=\"jinahub://SpacyTextEncoder/v0.2\",                 # Using Executors from Jina Hub means we don't need to write our own!\n",
    "        uses_with={\"model_name\": \"en_core_web_md\"},\n",
    "        install_requirements=True\n",
    "    )\n",
    "    .add(\n",
    "        name=\"meme_text_indexer\",\n",
    "        uses=\"jinahub://SimpleIndexer\",\n",
    "        install_requirements=True\n",
    "    )\n",
    ")"
   ]
  },
  {
   "cell_type": "markdown",
   "metadata": {
    "id": "t-7aUULtBdSA"
   },
   "source": [
    "## Index data with Flow\n",
    "\n",
    "We use our Flow to build an index of where all the meme text embeddings lie on an n-dimensional graph"
   ]
  },
  {
   "cell_type": "code",
   "execution_count": null,
   "metadata": {
    "colab": {
     "base_uri": "https://localhost:8080/"
    },
    "id": "rpCo9it_6kLm",
    "outputId": "ec8a7b76-7b07-44e0-de43-f92e4e6bd5f7",
    "tags": []
   },
   "outputs": [],
   "source": [
    "with flow:\n",
    "  flow.index(\n",
    "      inputs=docs,\n",
    "      request_size=64,\n",
    "  )"
   ]
  },
  {
   "cell_type": "markdown",
   "metadata": {
    "id": "06Ptw8_kBgxc"
   },
   "source": [
    "## Search data with Flow"
   ]
  },
  {
   "cell_type": "markdown",
   "metadata": {},
   "source": [
    "### Create query Document\n",
    "\n",
    "A Document is the fundamental thing that Jina works with. So anything we pass or out needs to be a Document"
   ]
  },
  {
   "cell_type": "code",
   "execution_count": null,
   "metadata": {
    "id": "jtcvp5bi9Nbt"
   },
   "outputs": [],
   "source": [
    "query_doc = Document(text=\"school\")"
   ]
  },
  {
   "cell_type": "markdown",
   "metadata": {},
   "source": [
    "### Pass query Document to Flow\n",
    "\n",
    "This will search our index of 50 memes for Documents similar to our input Document"
   ]
  },
  {
   "cell_type": "code",
   "execution_count": null,
   "metadata": {
    "colab": {
     "base_uri": "https://localhost:8080/"
    },
    "id": "MB9RxYsR8saM",
    "outputId": "862891df-55b1-47cb-ac1b-8862716b6d22"
   },
   "outputs": [],
   "source": [
    "with flow:\n",
    "  response = flow.search(inputs=query_doc, return_results=True)"
   ]
  },
  {
   "cell_type": "markdown",
   "metadata": {},
   "source": [
    "### Extract matches\n",
    "\n",
    "A Jina response contains a lot of extra data. We just want the DocumentArray with matching Documents"
   ]
  },
  {
   "cell_type": "code",
   "execution_count": null,
   "metadata": {
    "colab": {
     "base_uri": "https://localhost:8080/"
    },
    "id": "lE-fipho9eTj",
    "outputId": "08f2b367-5862-4772-b87d-2ccc0c5f7994"
   },
   "outputs": [],
   "source": [
    "matches = response[0].docs[0].matches"
   ]
  },
  {
   "cell_type": "code",
   "execution_count": null,
   "metadata": {},
   "outputs": [],
   "source": [
    "show_images(matches)"
   ]
  },
  {
   "cell_type": "markdown",
   "metadata": {
    "id": "twHoDflQBwju"
   },
   "source": [
    "## Using this IRL\n",
    "\n",
    "How can we take this out of a notebook and build a real-world application with it?"
   ]
  },
  {
   "cell_type": "markdown",
   "metadata": {
    "id": "8BMGGJCZYBQr"
   },
   "source": [
    "### Use a RESTful API\n",
    "\n",
    "#### In notebook: gRPC\n",
    "\n",
    "```python\n",
    "with flow:\n",
    "    flow.search(Document(text=\"foo\"))\n",
    "```\n",
    "\n",
    "#### In Python: RESTful or gRPC\n",
    "\n",
    "```python\n",
    "with flow:\n",
    "    flow.protocol = \"http\"\n",
    "    flow.port_expose = 12345\n",
    "    flow.block()\n",
    "```\n",
    "\n",
    "### Use Dockerized Executors\n",
    "\n",
    "This means having to install fewer requirements locally.\n",
    "\n",
    "\n",
    "#### In notebook: `jinahub://foo`\n",
    "\n",
    "```python\n",
    "flow = (\n",
    "    Flow()\n",
    "    .add(...)\n",
    "    .add(\n",
    "        uses=\"jinahub://SimpleIndexer\",\n",
    "    )\n",
    ")\n",
    "```\n",
    "\n",
    "#### In Python: `jinahub+docker://foo`\n",
    "\n",
    "```python\n",
    "flow = (\n",
    "    Flow()\n",
    "    .add(...)\n",
    "    .add(\n",
    "        uses=\"jinahub+docker://SimpleIndexer\",\n",
    "    )\n",
    ")\n",
    "```"
   ]
  }
 ],
 "metadata": {
  "accelerator": "GPU",
  "colab": {
   "collapsed_sections": [],
   "name": "Meme search with text",
   "provenance": []
  },
  "kernelspec": {
   "display_name": "Python 3",
   "language": "python",
   "name": "python3"
  },
  "language_info": {
   "codemirror_mode": {
    "name": "ipython",
    "version": 3
   },
   "file_extension": ".py",
   "mimetype": "text/x-python",
   "name": "python",
   "nbconvert_exporter": "python",
   "pygments_lexer": "ipython3",
   "version": "3.9.7"
  },
  "toc-showmarkdowntxt": false
 },
 "nbformat": 4,
 "nbformat_minor": 4
}
