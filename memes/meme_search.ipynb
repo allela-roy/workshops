{
 "cells": [
  {
   "cell_type": "markdown",
   "metadata": {
    "id": "d-6qZXne-aDr"
   },
   "source": [
    "# Jina Meme Search Workshop\n",
    "\n",
    "![](http://examples.jina.ai/images/meme_search.gif)\n",
    "\n",
    "In this workshop we're going to build a meme search engine using [Jina](https://github.com/jina-ai/jina/). It will search a dataset of memes and return URLs to the images as well as metadata.\n",
    "\n",
    "For this workshop we'll just focus on searching **text**. For a more complete repo (including text/image search and frontend) you can check [this link](https://github.com/alexcg1/jina-meme-search).\n",
    "\n",
    "You can play with a live example [here](https://examples.jina.ai)."
   ]
  },
  {
   "cell_type": "markdown",
   "metadata": {},
   "source": [
    "# Prerequisites\n",
    "\n",
    "- Check out [Jina's repo](https://github.com/jina-ai/jina/) to understand what Jina does\n",
    "- Watch [Neural search using cute fuzzy animals](https://www.youtube.com/watch?v=3FyddFAFNPQ) to understand how neural search works\n",
    "- Watch [Jina basics in under two minutes](https://www.youtube.com/watch?v=mnnC37ewQI8) to learn the fundamental components of Jina"
   ]
  },
  {
   "cell_type": "markdown",
   "metadata": {},
   "source": [
    "# Terminology\n",
    "\n",
    "Let's go through the words we'll be using in this workshop.\n",
    "\n",
    "In our example, we'll search through all the <code>text</code> (which comes from a JSON file) and then display the image <code>uri</code> of each match.\n",
    "\n",
    "<table>\n",
    "    <tr>\n",
    "        <td>\n",
    "            <img src=\"https://raw.githubusercontent.com/jina-ai/workshops/main/memes/koala.png\" width=300 align=\"left\">\n",
    "        </td>\n",
    "        <td>\n",
    "            <table>\n",
    "                <tr>\n",
    "                    <td>Template</td>\n",
    "                    <td>Surprised Koala</td>\n",
    "                </tr>\n",
    "                <tr>\n",
    "                    <td>Caption</td>\n",
    "                    <td>This is poisonous. What</td>\n",
    "                </tr>\n",
    "                <tr>\n",
    "                    <td><code>uri</code></td>\n",
    "                    <td>https//i.imgflip.com/foo_bar.jpg</td>\n",
    "                </tr>\n",
    "                <tr>\n",
    "                    <td><code>text</code></td>\n",
    "                    <td>Surprised Koala | This is poisonous. What</td>\n",
    "                </tr>\n",
    "            </table>\n",
    "        </td>\n",
    "    </tr>\n",
    "</table>"
   ]
  },
  {
   "cell_type": "markdown",
   "metadata": {},
   "source": [
    "# Set up basics"
   ]
  },
  {
   "cell_type": "markdown",
   "metadata": {},
   "source": [
    "## Housekeeping"
   ]
  },
  {
   "cell_type": "markdown",
   "metadata": {},
   "source": [
    "### Clean up from last time"
   ]
  },
  {
   "cell_type": "code",
   "execution_count": 5,
   "metadata": {},
   "outputs": [
    {
     "name": "stdout",
     "output_type": "stream",
     "text": [
      "zsh:1: no matches found: *.jpg\n"
     ]
    }
   ],
   "source": [
    "!cd /\n",
    "!rm -rf workspace images *.jpg"
   ]
  },
  {
   "cell_type": "markdown",
   "metadata": {},
   "source": [
    "### Set basic options"
   ]
  },
  {
   "cell_type": "code",
   "execution_count": 6,
   "metadata": {},
   "outputs": [
    {
     "name": "stdout",
     "output_type": "stream",
     "text": [
      "Enabling notebook extension jupyter-js-widgets/extension...\n",
      "      - Validating: \u001b[32mOK\u001b[0m\n"
     ]
    }
   ],
   "source": [
    "# Enable Jupyter widgets so we can see images\n",
    "!jupyter nbextension enable --py widgetsnbextension\n",
    "\n",
    "# Disable warnings\n",
    "import warnings\n",
    "warnings.filterwarnings('ignore')"
   ]
  },
  {
   "cell_type": "markdown",
   "metadata": {},
   "source": [
    "## Set maximum images to index\n",
    "\n",
    "Since this is just a workshop and not a real-world application we'll just search through 50 memes. This will save us time in processing."
   ]
  },
  {
   "cell_type": "code",
   "execution_count": 7,
   "metadata": {},
   "outputs": [],
   "source": [
    "max_docs = 50"
   ]
  },
  {
   "cell_type": "markdown",
   "metadata": {
    "id": "hjDI5WMT-uEb"
   },
   "source": [
    "## Install Prerequisites"
   ]
  },
  {
   "cell_type": "code",
   "execution_count": 8,
   "metadata": {
    "colab": {
     "base_uri": "https://localhost:8080/"
    },
    "id": "JyvR2vJC37nR",
    "outputId": "891360b0-5cf7-447d-de4b-0ff0e5ca2ada"
   },
   "outputs": [
    {
     "name": "stdout",
     "output_type": "stream",
     "text": [
      "Requirement already satisfied: jina==2.6.4 in ./env/lib/python3.7/site-packages (2.6.4)\n",
      "Requirement already satisfied: pyyaml>=5.3.1 in ./env/lib/python3.7/site-packages (from jina==2.6.4) (6.0)\n",
      "Requirement already satisfied: aiostream in ./env/lib/python3.7/site-packages (from jina==2.6.4) (0.4.4)\n",
      "Requirement already satisfied: cryptography in ./env/lib/python3.7/site-packages (from jina==2.6.4) (36.0.1)\n",
      "Requirement already satisfied: pydantic in ./env/lib/python3.7/site-packages (from jina==2.6.4) (1.8.2)\n",
      "Requirement already satisfied: requests in ./env/lib/python3.7/site-packages (from jina==2.6.4) (2.27.1)\n",
      "Requirement already satisfied: fastapi in ./env/lib/python3.7/site-packages (from jina==2.6.4) (0.72.0)\n",
      "Requirement already satisfied: aiohttp in ./env/lib/python3.7/site-packages (from jina==2.6.4) (3.8.1)\n",
      "Requirement already satisfied: python-multipart in ./env/lib/python3.7/site-packages (from jina==2.6.4) (0.0.5)\n",
      "Requirement already satisfied: tornado>=5.1.0 in ./env/lib/python3.7/site-packages (from jina==2.6.4) (6.1)\n",
      "Requirement already satisfied: aiofiles in ./env/lib/python3.7/site-packages (from jina==2.6.4) (0.8.0)\n",
      "Requirement already satisfied: pyzmq>=17.1.0 in ./env/lib/python3.7/site-packages (from jina==2.6.4) (22.3.0)\n",
      "Requirement already satisfied: pathspec in ./env/lib/python3.7/site-packages (from jina==2.6.4) (0.9.0)\n",
      "Requirement already satisfied: docker in ./env/lib/python3.7/site-packages (from jina==2.6.4) (5.0.3)\n",
      "Requirement already satisfied: numpy in ./env/lib/python3.7/site-packages (from jina==2.6.4) (1.21.5)\n",
      "Requirement already satisfied: websockets in ./env/lib/python3.7/site-packages (from jina==2.6.4) (10.1)\n",
      "Requirement already satisfied: kubernetes>=18.20.0 in ./env/lib/python3.7/site-packages (from jina==2.6.4) (21.7.0)\n",
      "Requirement already satisfied: uvloop in ./env/lib/python3.7/site-packages (from jina==2.6.4) (0.16.0)\n",
      "Requirement already satisfied: protobuf>=3.13.0 in ./env/lib/python3.7/site-packages (from jina==2.6.4) (3.19.3)\n",
      "Requirement already satisfied: lz4<3.1.2 in ./env/lib/python3.7/site-packages (from jina==2.6.4) (3.1.1)\n",
      "Requirement already satisfied: grpcio>=1.33.1 in ./env/lib/python3.7/site-packages (from jina==2.6.4) (1.43.0)\n",
      "Requirement already satisfied: rich in ./env/lib/python3.7/site-packages (from jina==2.6.4) (11.0.0)\n",
      "Requirement already satisfied: filelock in ./env/lib/python3.7/site-packages (from jina==2.6.4) (3.4.2)\n",
      "Requirement already satisfied: uvicorn[standard]>=0.14.0 in ./env/lib/python3.7/site-packages (from jina==2.6.4) (0.17.0)\n",
      "Requirement already satisfied: six>=1.5.2 in ./env/lib/python3.7/site-packages (from grpcio>=1.33.1->jina==2.6.4) (1.16.0)\n",
      "Requirement already satisfied: python-dateutil>=2.5.3 in ./env/lib/python3.7/site-packages (from kubernetes>=18.20.0->jina==2.6.4) (2.8.2)\n",
      "Requirement already satisfied: setuptools>=21.0.0 in ./env/lib/python3.7/site-packages (from kubernetes>=18.20.0->jina==2.6.4) (57.1.0)\n",
      "Requirement already satisfied: requests-oauthlib in ./env/lib/python3.7/site-packages (from kubernetes>=18.20.0->jina==2.6.4) (1.3.0)\n",
      "Requirement already satisfied: certifi>=14.05.14 in ./env/lib/python3.7/site-packages (from kubernetes>=18.20.0->jina==2.6.4) (2021.10.8)\n",
      "Requirement already satisfied: google-auth>=1.0.1 in ./env/lib/python3.7/site-packages (from kubernetes>=18.20.0->jina==2.6.4) (2.3.3)\n",
      "Requirement already satisfied: urllib3>=1.24.2 in ./env/lib/python3.7/site-packages (from kubernetes>=18.20.0->jina==2.6.4) (1.26.8)\n",
      "Requirement already satisfied: websocket-client!=0.40.0,!=0.41.*,!=0.42.*,>=0.32.0 in ./env/lib/python3.7/site-packages (from kubernetes>=18.20.0->jina==2.6.4) (1.2.3)\n",
      "Requirement already satisfied: click>=7.0 in ./env/lib/python3.7/site-packages (from uvicorn[standard]>=0.14.0->jina==2.6.4) (7.1.2)\n",
      "Requirement already satisfied: h11>=0.8 in ./env/lib/python3.7/site-packages (from uvicorn[standard]>=0.14.0->jina==2.6.4) (0.12.0)\n",
      "Requirement already satisfied: typing-extensions in ./env/lib/python3.7/site-packages (from uvicorn[standard]>=0.14.0->jina==2.6.4) (3.10.0.2)\n",
      "Requirement already satisfied: asgiref>=3.4.0 in ./env/lib/python3.7/site-packages (from uvicorn[standard]>=0.14.0->jina==2.6.4) (3.4.1)\n",
      "Requirement already satisfied: httptools<0.4.0,>=0.2.0 in ./env/lib/python3.7/site-packages (from uvicorn[standard]>=0.14.0->jina==2.6.4) (0.3.0)\n",
      "Requirement already satisfied: python-dotenv>=0.13 in ./env/lib/python3.7/site-packages (from uvicorn[standard]>=0.14.0->jina==2.6.4) (0.19.2)\n",
      "Requirement already satisfied: watchgod>=0.6 in ./env/lib/python3.7/site-packages (from uvicorn[standard]>=0.14.0->jina==2.6.4) (0.7)\n",
      "Requirement already satisfied: multidict<7.0,>=4.5 in ./env/lib/python3.7/site-packages (from aiohttp->jina==2.6.4) (5.2.0)\n",
      "Requirement already satisfied: aiosignal>=1.1.2 in ./env/lib/python3.7/site-packages (from aiohttp->jina==2.6.4) (1.2.0)\n",
      "Requirement already satisfied: asynctest==0.13.0 in ./env/lib/python3.7/site-packages (from aiohttp->jina==2.6.4) (0.13.0)\n",
      "Requirement already satisfied: charset-normalizer<3.0,>=2.0 in ./env/lib/python3.7/site-packages (from aiohttp->jina==2.6.4) (2.0.10)\n",
      "Requirement already satisfied: yarl<2.0,>=1.0 in ./env/lib/python3.7/site-packages (from aiohttp->jina==2.6.4) (1.7.2)\n",
      "Requirement already satisfied: frozenlist>=1.1.1 in ./env/lib/python3.7/site-packages (from aiohttp->jina==2.6.4) (1.3.0)\n",
      "Requirement already satisfied: attrs>=17.3.0 in ./env/lib/python3.7/site-packages (from aiohttp->jina==2.6.4) (21.4.0)\n",
      "Requirement already satisfied: async-timeout<5.0,>=4.0.0a3 in ./env/lib/python3.7/site-packages (from aiohttp->jina==2.6.4) (4.0.2)\n",
      "Requirement already satisfied: cffi>=1.12 in ./env/lib/python3.7/site-packages (from cryptography->jina==2.6.4) (1.15.0)\n",
      "Requirement already satisfied: idna<4,>=2.5 in ./env/lib/python3.7/site-packages (from requests->jina==2.6.4) (3.3)\n",
      "Requirement already satisfied: starlette==0.17.1 in ./env/lib/python3.7/site-packages (from fastapi->jina==2.6.4) (0.17.1)\n",
      "Requirement already satisfied: anyio<4,>=3.0.0 in ./env/lib/python3.7/site-packages (from starlette==0.17.1->fastapi->jina==2.6.4) (3.5.0)\n",
      "Requirement already satisfied: commonmark<0.10.0,>=0.9.0 in ./env/lib/python3.7/site-packages (from rich->jina==2.6.4) (0.9.1)\n",
      "Requirement already satisfied: pygments<3.0.0,>=2.6.0 in ./env/lib/python3.7/site-packages (from rich->jina==2.6.4) (2.11.2)\n",
      "Requirement already satisfied: colorama<0.5.0,>=0.4.0 in ./env/lib/python3.7/site-packages (from rich->jina==2.6.4) (0.4.4)\n",
      "Requirement already satisfied: pycparser in ./env/lib/python3.7/site-packages (from cffi>=1.12->cryptography->jina==2.6.4) (2.21)\n",
      "Requirement already satisfied: cachetools<5.0,>=2.0.0 in ./env/lib/python3.7/site-packages (from google-auth>=1.0.1->kubernetes>=18.20.0->jina==2.6.4) (4.2.4)\n",
      "Requirement already satisfied: pyasn1-modules>=0.2.1 in ./env/lib/python3.7/site-packages (from google-auth>=1.0.1->kubernetes>=18.20.0->jina==2.6.4) (0.2.8)\n",
      "Requirement already satisfied: rsa<5,>=3.1.4 in ./env/lib/python3.7/site-packages (from google-auth>=1.0.1->kubernetes>=18.20.0->jina==2.6.4) (4.8)\n",
      "Requirement already satisfied: oauthlib>=3.0.0 in ./env/lib/python3.7/site-packages (from requests-oauthlib->kubernetes>=18.20.0->jina==2.6.4) (3.1.1)\n",
      "Requirement already satisfied: sniffio>=1.1 in ./env/lib/python3.7/site-packages (from anyio<4,>=3.0.0->starlette==0.17.1->fastapi->jina==2.6.4) (1.2.0)\n",
      "Requirement already satisfied: pyasn1<0.5.0,>=0.4.6 in ./env/lib/python3.7/site-packages (from pyasn1-modules>=0.2.1->google-auth>=1.0.1->kubernetes>=18.20.0->jina==2.6.4) (0.4.8)\n",
      "Requirement already satisfied: ipywidgets==7.6.5 in ./env/lib/python3.7/site-packages (7.6.5)\n",
      "Requirement already satisfied: widgetsnbextension~=3.5.0 in ./env/lib/python3.7/site-packages (from ipywidgets==7.6.5) (3.5.2)\n",
      "Requirement already satisfied: nbformat>=4.2.0 in ./env/lib/python3.7/site-packages (from ipywidgets==7.6.5) (5.1.3)\n",
      "Requirement already satisfied: traitlets>=4.3.1 in ./env/lib/python3.7/site-packages (from ipywidgets==7.6.5) (5.1.1)\n",
      "Requirement already satisfied: ipython-genutils~=0.2.0 in ./env/lib/python3.7/site-packages (from ipywidgets==7.6.5) (0.2.0)\n",
      "Requirement already satisfied: jupyterlab-widgets>=1.0.0 in ./env/lib/python3.7/site-packages (from ipywidgets==7.6.5) (1.0.2)\n",
      "Requirement already satisfied: ipykernel>=4.5.1 in ./env/lib/python3.7/site-packages (from ipywidgets==7.6.5) (6.7.0)\n",
      "Requirement already satisfied: ipython>=4.0.0 in ./env/lib/python3.7/site-packages (from ipywidgets==7.6.5) (7.31.0)\n",
      "Requirement already satisfied: jupyter-client<8.0 in ./env/lib/python3.7/site-packages (from ipykernel>=4.5.1->ipywidgets==7.6.5) (7.1.1)\n",
      "Requirement already satisfied: debugpy<2.0,>=1.0.0 in ./env/lib/python3.7/site-packages (from ipykernel>=4.5.1->ipywidgets==7.6.5) (1.5.1)\n",
      "Requirement already satisfied: nest-asyncio in ./env/lib/python3.7/site-packages (from ipykernel>=4.5.1->ipywidgets==7.6.5) (1.5.4)\n",
      "Requirement already satisfied: tornado<7.0,>=4.2 in ./env/lib/python3.7/site-packages (from ipykernel>=4.5.1->ipywidgets==7.6.5) (6.1)\n",
      "Requirement already satisfied: matplotlib-inline<0.2.0,>=0.1.0 in ./env/lib/python3.7/site-packages (from ipykernel>=4.5.1->ipywidgets==7.6.5) (0.1.3)\n",
      "Requirement already satisfied: pexpect>4.3 in ./env/lib/python3.7/site-packages (from ipython>=4.0.0->ipywidgets==7.6.5) (4.8.0)\n",
      "Requirement already satisfied: pickleshare in ./env/lib/python3.7/site-packages (from ipython>=4.0.0->ipywidgets==7.6.5) (0.7.5)\n",
      "Requirement already satisfied: pygments in ./env/lib/python3.7/site-packages (from ipython>=4.0.0->ipywidgets==7.6.5) (2.11.2)\n",
      "Requirement already satisfied: decorator in ./env/lib/python3.7/site-packages (from ipython>=4.0.0->ipywidgets==7.6.5) (5.1.1)\n",
      "Requirement already satisfied: backcall in ./env/lib/python3.7/site-packages (from ipython>=4.0.0->ipywidgets==7.6.5) (0.2.0)\n",
      "Requirement already satisfied: setuptools>=18.5 in ./env/lib/python3.7/site-packages (from ipython>=4.0.0->ipywidgets==7.6.5) (57.1.0)\n",
      "Requirement already satisfied: jedi>=0.16 in ./env/lib/python3.7/site-packages (from ipython>=4.0.0->ipywidgets==7.6.5) (0.18.1)\n",
      "Requirement already satisfied: prompt-toolkit!=3.0.0,!=3.0.1,<3.1.0,>=2.0.0 in ./env/lib/python3.7/site-packages (from ipython>=4.0.0->ipywidgets==7.6.5) (3.0.24)\n",
      "Requirement already satisfied: jupyter-core in ./env/lib/python3.7/site-packages (from nbformat>=4.2.0->ipywidgets==7.6.5) (4.9.1)\n",
      "Requirement already satisfied: jsonschema!=2.5.0,>=2.4 in ./env/lib/python3.7/site-packages (from nbformat>=4.2.0->ipywidgets==7.6.5) (4.4.0)\n",
      "Requirement already satisfied: notebook>=4.4.1 in ./env/lib/python3.7/site-packages (from widgetsnbextension~=3.5.0->ipywidgets==7.6.5) (6.4.7)\n",
      "Requirement already satisfied: parso<0.9.0,>=0.8.0 in ./env/lib/python3.7/site-packages (from jedi>=0.16->ipython>=4.0.0->ipywidgets==7.6.5) (0.8.3)\n",
      "Requirement already satisfied: typing-extensions in ./env/lib/python3.7/site-packages (from jsonschema!=2.5.0,>=2.4->nbformat>=4.2.0->ipywidgets==7.6.5) (3.10.0.2)\n",
      "Requirement already satisfied: attrs>=17.4.0 in ./env/lib/python3.7/site-packages (from jsonschema!=2.5.0,>=2.4->nbformat>=4.2.0->ipywidgets==7.6.5) (21.4.0)\n",
      "Requirement already satisfied: importlib-metadata in ./env/lib/python3.7/site-packages (from jsonschema!=2.5.0,>=2.4->nbformat>=4.2.0->ipywidgets==7.6.5) (4.10.1)\n",
      "Requirement already satisfied: importlib-resources>=1.4.0 in ./env/lib/python3.7/site-packages (from jsonschema!=2.5.0,>=2.4->nbformat>=4.2.0->ipywidgets==7.6.5) (5.4.0)\n",
      "Requirement already satisfied: pyrsistent!=0.17.0,!=0.17.1,!=0.17.2,>=0.14.0 in ./env/lib/python3.7/site-packages (from jsonschema!=2.5.0,>=2.4->nbformat>=4.2.0->ipywidgets==7.6.5) (0.18.1)\n",
      "Requirement already satisfied: python-dateutil>=2.1 in ./env/lib/python3.7/site-packages (from jupyter-client<8.0->ipykernel>=4.5.1->ipywidgets==7.6.5) (2.8.2)\n",
      "Requirement already satisfied: pyzmq>=13 in ./env/lib/python3.7/site-packages (from jupyter-client<8.0->ipykernel>=4.5.1->ipywidgets==7.6.5) (22.3.0)\n",
      "Requirement already satisfied: entrypoints in ./env/lib/python3.7/site-packages (from jupyter-client<8.0->ipykernel>=4.5.1->ipywidgets==7.6.5) (0.3)\n",
      "Requirement already satisfied: jinja2 in ./env/lib/python3.7/site-packages (from notebook>=4.4.1->widgetsnbextension~=3.5.0->ipywidgets==7.6.5) (3.0.3)\n",
      "Requirement already satisfied: Send2Trash>=1.8.0 in ./env/lib/python3.7/site-packages (from notebook>=4.4.1->widgetsnbextension~=3.5.0->ipywidgets==7.6.5) (1.8.0)\n",
      "Requirement already satisfied: prometheus-client in ./env/lib/python3.7/site-packages (from notebook>=4.4.1->widgetsnbextension~=3.5.0->ipywidgets==7.6.5) (0.12.0)\n",
      "Requirement already satisfied: argon2-cffi in ./env/lib/python3.7/site-packages (from notebook>=4.4.1->widgetsnbextension~=3.5.0->ipywidgets==7.6.5) (21.3.0)\n",
      "Requirement already satisfied: nbconvert in ./env/lib/python3.7/site-packages (from notebook>=4.4.1->widgetsnbextension~=3.5.0->ipywidgets==7.6.5) (6.4.0)\n",
      "Requirement already satisfied: terminado>=0.8.3 in ./env/lib/python3.7/site-packages (from notebook>=4.4.1->widgetsnbextension~=3.5.0->ipywidgets==7.6.5) (0.12.1)\n",
      "Requirement already satisfied: ptyprocess>=0.5 in ./env/lib/python3.7/site-packages (from pexpect>4.3->ipython>=4.0.0->ipywidgets==7.6.5) (0.7.0)\n",
      "Requirement already satisfied: wcwidth in ./env/lib/python3.7/site-packages (from prompt-toolkit!=3.0.0,!=3.0.1,<3.1.0,>=2.0.0->ipython>=4.0.0->ipywidgets==7.6.5) (0.2.5)\n",
      "Requirement already satisfied: zipp>=3.1.0 in ./env/lib/python3.7/site-packages (from importlib-resources>=1.4.0->jsonschema!=2.5.0,>=2.4->nbformat>=4.2.0->ipywidgets==7.6.5) (3.7.0)\n",
      "Requirement already satisfied: six>=1.5 in ./env/lib/python3.7/site-packages (from python-dateutil>=2.1->jupyter-client<8.0->ipykernel>=4.5.1->ipywidgets==7.6.5) (1.16.0)\n",
      "Requirement already satisfied: argon2-cffi-bindings in ./env/lib/python3.7/site-packages (from argon2-cffi->notebook>=4.4.1->widgetsnbextension~=3.5.0->ipywidgets==7.6.5) (21.2.0)\n",
      "Requirement already satisfied: MarkupSafe>=2.0 in ./env/lib/python3.7/site-packages (from jinja2->notebook>=4.4.1->widgetsnbextension~=3.5.0->ipywidgets==7.6.5) (2.0.1)\n",
      "Requirement already satisfied: nbclient<0.6.0,>=0.5.0 in ./env/lib/python3.7/site-packages (from nbconvert->notebook>=4.4.1->widgetsnbextension~=3.5.0->ipywidgets==7.6.5) (0.5.10)\n",
      "Requirement already satisfied: pandocfilters>=1.4.1 in ./env/lib/python3.7/site-packages (from nbconvert->notebook>=4.4.1->widgetsnbextension~=3.5.0->ipywidgets==7.6.5) (1.5.0)\n",
      "Requirement already satisfied: jupyterlab-pygments in ./env/lib/python3.7/site-packages (from nbconvert->notebook>=4.4.1->widgetsnbextension~=3.5.0->ipywidgets==7.6.5) (0.1.2)\n",
      "Requirement already satisfied: defusedxml in ./env/lib/python3.7/site-packages (from nbconvert->notebook>=4.4.1->widgetsnbextension~=3.5.0->ipywidgets==7.6.5) (0.7.1)\n",
      "Requirement already satisfied: testpath in ./env/lib/python3.7/site-packages (from nbconvert->notebook>=4.4.1->widgetsnbextension~=3.5.0->ipywidgets==7.6.5) (0.5.0)\n",
      "Requirement already satisfied: bleach in ./env/lib/python3.7/site-packages (from nbconvert->notebook>=4.4.1->widgetsnbextension~=3.5.0->ipywidgets==7.6.5) (4.1.0)\n",
      "Requirement already satisfied: mistune<2,>=0.8.1 in ./env/lib/python3.7/site-packages (from nbconvert->notebook>=4.4.1->widgetsnbextension~=3.5.0->ipywidgets==7.6.5) (0.8.4)\n",
      "Requirement already satisfied: cffi>=1.0.1 in ./env/lib/python3.7/site-packages (from argon2-cffi-bindings->argon2-cffi->notebook>=4.4.1->widgetsnbextension~=3.5.0->ipywidgets==7.6.5) (1.15.0)\n",
      "Requirement already satisfied: packaging in ./env/lib/python3.7/site-packages (from bleach->nbconvert->notebook>=4.4.1->widgetsnbextension~=3.5.0->ipywidgets==7.6.5) (21.3)\n",
      "Requirement already satisfied: webencodings in ./env/lib/python3.7/site-packages (from bleach->nbconvert->notebook>=4.4.1->widgetsnbextension~=3.5.0->ipywidgets==7.6.5) (0.5.1)\n",
      "Requirement already satisfied: pycparser in ./env/lib/python3.7/site-packages (from cffi>=1.0.1->argon2-cffi-bindings->argon2-cffi->notebook>=4.4.1->widgetsnbextension~=3.5.0->ipywidgets==7.6.5) (2.21)\n",
      "Requirement already satisfied: pyparsing!=3.0.5,>=2.0.2 in ./env/lib/python3.7/site-packages (from packaging->bleach->nbconvert->notebook>=4.4.1->widgetsnbextension~=3.5.0->ipywidgets==7.6.5) (3.0.6)\n"
     ]
    }
   ],
   "source": [
    "!pip install jina==2.6.4\n",
    "!pip install ipywidgets==7.6.5 # Get nice widgets in the notebook"
   ]
  },
  {
   "cell_type": "markdown",
   "metadata": {
    "id": "f827Mkip-wxl"
   },
   "source": [
    "# Process data\n",
    "\n",
    "We use an open-source dataset from imgflip, originally downloaded from [Kaggle](https://www.kaggle.com/abhishtagatya/imgflipscraped-memes-caption-dataset).\n",
    "\n",
    "## Why this dataset?\n",
    "\n",
    "We chose this dataset because\n",
    "\n",
    "- It has rich metadata (caption, template name)\n",
    "- It has recognizable memes (many datasets were just random pics with overlaid Impact font)\n",
    "- It doesn't *seem* to have too many racist/sexist/\\*phobic memes 🤞\n",
    "\n",
    "## Why does this dataset kinda suck?\n",
    "\n",
    "It only contains so many memes, and new memes come out all the time. So it won't have the latest, dankest stuff."
   ]
  },
  {
   "cell_type": "markdown",
   "metadata": {},
   "source": [
    "## Download data"
   ]
  },
  {
   "cell_type": "code",
   "execution_count": 9,
   "metadata": {
    "colab": {
     "base_uri": "https://localhost:8080/"
    },
    "id": "Gz6sKxwm3jw-",
    "outputId": "08bbb648-30a1-4648-98af-96d1ce0a143c"
   },
   "outputs": [],
   "source": [
    "!mkdir -p data\n",
    "!wget -O data/memes.json -nc https://jina-examples-datasets.s3.amazonaws.com/memes/memes.json -q"
   ]
  },
  {
   "cell_type": "markdown",
   "metadata": {
    "id": "14lerh7__Mlb"
   },
   "source": [
    "## Load data\n",
    "\n",
    "I've written a function to help load the data from the JSON file we downloaded earlier.\n",
    "\n",
    "In this function we:\n",
    "\n",
    "- Create a `DocumentArray` to hold `Documents` (using [docarray package](https://docarray.jina.ai))\n",
    "- Optionally shuffle the memes\n",
    "- Create a `Document` for each meme\n",
    "- Set `Document.text` to the template name (e.g. `\"Surprised Koala\"`) + meme caption (e.g. `\"This is poisonous. What\"`)\n",
    "- Populate some `tags` for the `Document` (e.g. absolute URL for image)"
   ]
  },
  {
   "cell_type": "code",
   "execution_count": 10,
   "metadata": {
    "id": "BiyIopC7CfqD"
   },
   "outputs": [],
   "source": [
    "from docarray import Document, DocumentArray"
   ]
  },
  {
   "cell_type": "code",
   "execution_count": 11,
   "metadata": {
    "id": "Lhx-gD5b30JJ"
   },
   "outputs": [],
   "source": [
    "import json\n",
    "def prep_docs(input_file, num_docs=None, shuffle=True):\n",
    "    docs = DocumentArray()\n",
    "    memes = []\n",
    "    print(f\"Processing {input_file}\")\n",
    "    with open(input_file, \"r\") as file:\n",
    "        raw_json = json.loads(file.read())\n",
    "\n",
    "    for template in raw_json:\n",
    "        for meme in template[\"generated_memes\"]:\n",
    "            meme[\"template\"] = template[\"name\"]\n",
    "        memes.extend(template[\"generated_memes\"])\n",
    "\n",
    "    if shuffle:\n",
    "        import random\n",
    "        random_seed = 1337\n",
    "\n",
    "        random.seed(random_seed)\n",
    "        random.shuffle(memes)\n",
    "\n",
    "    for meme in memes[:num_docs]:\n",
    "        doctext = f\"{meme['template']} - {meme['caption_text']}\"\n",
    "        doc = Document(text=doctext)\n",
    "        doc.tags = meme\n",
    "        doc.tags[\"uri_absolute\"] = \"http:\" + doc.tags[\"image_url\"]\n",
    "        docs.extend([doc])\n",
    "\n",
    "    return docs"
   ]
  },
  {
   "cell_type": "markdown",
   "metadata": {
    "id": "zaTD9ssjA6a8"
   },
   "source": [
    "### Why shuffle?\n",
    "\n",
    "The memes are arranged alphabetically by template. So if we don't shuffle we're going to get very similar memes. This makes it more difficult to search for something interesting."
   ]
  },
  {
   "cell_type": "code",
   "execution_count": 12,
   "metadata": {
    "colab": {
     "base_uri": "https://localhost:8080/"
    },
    "id": "rcg_sQKZ5EyA",
    "outputId": "aa22d73d-2f1e-4df7-8442-7d13bf03fbd2"
   },
   "outputs": [
    {
     "name": "stdout",
     "output_type": "stream",
     "text": [
      "Processing data/memes.json\n"
     ]
    }
   ],
   "source": [
    "docs = prep_docs(\n",
    "    input_file=\"data/memes.json\", \n",
    "    num_docs=max_docs, \n",
    "    shuffle=False\n",
    ")"
   ]
  },
  {
   "cell_type": "code",
   "execution_count": 13,
   "metadata": {},
   "outputs": [
    {
     "name": "stdout",
     "output_type": "stream",
     "text": [
      "File ‘helper.py’ already there; not retrieving.\n",
      "\n"
     ]
    }
   ],
   "source": [
    "!wget -nc https://raw.githubusercontent.com/jina-ai/workshops/main/memes/helper.py\n",
    "from helper import show_images"
   ]
  },
  {
   "cell_type": "code",
   "execution_count": 14,
   "metadata": {},
   "outputs": [
    {
     "name": "stdout",
     "output_type": "stream",
     "text": [
      "./images/3xd5o0.jpg\n",
      "./images/3xctnx.jpg\n",
      "./images/3wu3bd.jpg\n",
      "./images/3xb1dj.jpg\n",
      "./images/3w8qn4.jpg\n"
     ]
    },
    {
     "data": {
      "application/vnd.jupyter.widget-view+json": {
       "model_id": "bd660a9bc9844af0b9ef1eed07f11e81",
       "version_major": 2,
       "version_minor": 0
      },
      "text/plain": [
       "HBox(children=(Image(value=b'\\xff\\xd8\\xff\\xe0\\x00\\x10JFIF\\x00\\x01\\x01\\x00\\x00\\x01\\x00\\x01\\x00\\x00\\xff\\xdb\\x00\\…"
      ]
     },
     "metadata": {},
     "output_type": "display_data"
    }
   ],
   "source": [
    "show_images(docs)"
   ]
  },
  {
   "cell_type": "markdown",
   "metadata": {
    "id": "4CFc1OvuBGyQ"
   },
   "source": [
    "If we shuffle we get a more interesting mix:"
   ]
  },
  {
   "cell_type": "code",
   "execution_count": 15,
   "metadata": {
    "colab": {
     "base_uri": "https://localhost:8080/"
    },
    "id": "Pwal0Nwh4aOq",
    "outputId": "a06ff984-b692-4d31-c4bf-032fa0f7ef50",
    "tags": []
   },
   "outputs": [
    {
     "name": "stdout",
     "output_type": "stream",
     "text": [
      "Processing data/memes.json\n"
     ]
    }
   ],
   "source": [
    "docs = prep_docs(\n",
    "    input_file=\"data/memes.json\", \n",
    "    num_docs=max_docs, \n",
    "    shuffle=True\n",
    ")"
   ]
  },
  {
   "cell_type": "code",
   "execution_count": 16,
   "metadata": {},
   "outputs": [
    {
     "name": "stdout",
     "output_type": "stream",
     "text": [
      "./images/2ggogb.jpg\n",
      "./images/39nq93.jpg\n",
      "./images/2l0pta.jpg\n",
      "./images/ldben.jpg\n",
      "./images/1k5o93.jpg\n"
     ]
    },
    {
     "data": {
      "application/vnd.jupyter.widget-view+json": {
       "model_id": "37e6e53258c840699a22ebee22b54c0b",
       "version_major": 2,
       "version_minor": 0
      },
      "text/plain": [
       "HBox(children=(Image(value=b'\\xff\\xd8\\xff\\xe0\\x00\\x10JFIF\\x00\\x01\\x01\\x00\\x00\\x01\\x00\\x01\\x00\\x00\\xff\\xdb\\x00\\…"
      ]
     },
     "metadata": {},
     "output_type": "display_data"
    }
   ],
   "source": [
    "show_images(docs)"
   ]
  },
  {
   "cell_type": "markdown",
   "metadata": {},
   "source": [
    "# Index and search data with Flow"
   ]
  },
  {
   "cell_type": "markdown",
   "metadata": {
    "id": "wKuRVFJzBayO"
   },
   "source": [
    "## Set up Flow\n",
    "\n",
    "Before we index or search, we need to create our Flow. Only then can we open it as a context manager and do stuff with it."
   ]
  },
  {
   "cell_type": "code",
   "execution_count": 17,
   "metadata": {
    "id": "ae9vrzNICVbs"
   },
   "outputs": [],
   "source": [
    "from jina import Flow"
   ]
  },
  {
   "cell_type": "code",
   "execution_count": 18,
   "metadata": {
    "id": "2mxPSbjp6KwW"
   },
   "outputs": [],
   "source": [
    "flow = (\n",
    "    Flow()\n",
    "    .add(\n",
    "        name=\"meme_text_encoder\",\n",
    "        uses=\"jinahub://SpacyTextEncoder/\",                 # Using Executors from Jina Hub means we don't need to write our own!\n",
    "        uses_with={\"model_name\": \"en_core_web_md\"},\n",
    "        install_requirements=True\n",
    "    )\n",
    "    .add(\n",
    "        name=\"meme_text_indexer\",\n",
    "        uses=\"jinahub://SimpleIndexer\",\n",
    "        install_requirements=True\n",
    "    )\n",
    ")"
   ]
  },
  {
   "cell_type": "markdown",
   "metadata": {
    "id": "t-7aUULtBdSA"
   },
   "source": [
    "## Index data with Flow\n",
    "\n",
    "We use our Flow to build an index of where all the meme text embeddings lie on an n-dimensional graph"
   ]
  },
  {
   "cell_type": "code",
   "execution_count": 20,
   "metadata": {
    "colab": {
     "base_uri": "https://localhost:8080/"
    },
    "id": "rpCo9it_6kLm",
    "outputId": "ec8a7b76-7b07-44e0-de43-f92e4e6bd5f7",
    "tags": []
   },
   "outputs": [
    {
     "name": "stdout",
     "output_type": "stream",
     "text": [
      "\u001b[32m⠸\u001b[0m 2/3 waiting \u001b[33mmeme_text_encoder\u001b[0m to be ready...                                    Collecting en-core-web-md==3.1.0\n",
      "\u001b[32m⠼\u001b[0m 2/3 waiting \u001b[33mmeme_text_encoder\u001b[0m to be ready...                                      Using cached https://github.com/explosion/spacy-models/releases/download/en_core_web_md-3.1.0/en_core_web_md-3.1.0-py3-none-any.whl (45.4 MB)\n",
      "\u001b[32m⠴\u001b[0m 2/3 waiting \u001b[33mmeme_text_encoder\u001b[0m to be ready...                                    Requirement already satisfied: spacy<3.2.0,>=3.1.0 in ./env/lib/python3.7/site-packages (from en-core-web-md==3.1.0) (3.1.2)\n",
      "Requirement already satisfied: jinja2 in ./env/lib/python3.7/site-packages (from spacy<3.2.0,>=3.1.0->en-core-web-md==3.1.0) (3.0.3)\n",
      "Requirement already satisfied: requests<3.0.0,>=2.13.0 in ./env/lib/python3.7/site-packages (from spacy<3.2.0,>=3.1.0->en-core-web-md==3.1.0) (2.27.1)\n",
      "Requirement already satisfied: catalogue<2.1.0,>=2.0.4 in ./env/lib/python3.7/site-packages (from spacy<3.2.0,>=3.1.0->en-core-web-md==3.1.0) (2.0.6)\n",
      "Requirement already satisfied: numpy>=1.15.0 in ./env/lib/python3.7/site-packages (from spacy<3.2.0,>=3.1.0->en-core-web-md==3.1.0) (1.21.5)\n",
      "Requirement already satisfied: preshed<3.1.0,>=3.0.2 in ./env/lib/python3.7/site-packages (from spacy<3.2.0,>=3.1.0->en-core-web-md==3.1.0) (3.0.6)\n",
      "Requirement already satisfied: wasabi<1.1.0,>=0.8.1 in ./env/lib/python3.7/site-packages (from spacy<3.2.0,>=3.1.0->en-core-web-md==3.1.0) (0.9.0)\n",
      "Requirement already satisfied: packaging>=20.0 in ./env/lib/python3.7/site-packages (from spacy<3.2.0,>=3.1.0->en-core-web-md==3.1.0) (21.3)\n",
      "Requirement already satisfied: murmurhash<1.1.0,>=0.28.0 in ./env/lib/python3.7/site-packages (from spacy<3.2.0,>=3.1.0->en-core-web-md==3.1.0) (1.0.6)\n",
      "Requirement already satisfied: thinc<8.1.0,>=8.0.8 in ./env/lib/python3.7/site-packages (from spacy<3.2.0,>=3.1.0->en-core-web-md==3.1.0) (8.0.13)\n",
      "Requirement already satisfied: spacy-legacy<3.1.0,>=3.0.7 in ./env/lib/python3.7/site-packages (from spacy<3.2.0,>=3.1.0->en-core-web-md==3.1.0) (3.0.8)\n",
      "Requirement already satisfied: typer<0.4.0,>=0.3.0 in ./env/lib/python3.7/site-packages (from spacy<3.2.0,>=3.1.0->en-core-web-md==3.1.0) (0.3.2)\n",
      "Requirement already satisfied: setuptools in ./env/lib/python3.7/site-packages (from spacy<3.2.0,>=3.1.0->en-core-web-md==3.1.0) (57.1.0)\n",
      "Requirement already satisfied: pydantic!=1.8,!=1.8.1,<1.9.0,>=1.7.4 in ./env/lib/python3.7/site-packages (from spacy<3.2.0,>=3.1.0->en-core-web-md==3.1.0) (1.8.2)\n",
      "Requirement already satisfied: srsly<3.0.0,>=2.4.1 in ./env/lib/python3.7/site-packages (from spacy<3.2.0,>=3.1.0->en-core-web-md==3.1.0) (2.4.2)\n",
      "Requirement already satisfied: blis<0.8.0,>=0.4.0 in ./env/lib/python3.7/site-packages (from spacy<3.2.0,>=3.1.0->en-core-web-md==3.1.0) (0.7.5)\n",
      "Requirement already satisfied: typing-extensions<4.0.0.0,>=3.7.4 in ./env/lib/python3.7/site-packages (from spacy<3.2.0,>=3.1.0->en-core-web-md==3.1.0) (3.10.0.2)\n",
      "Requirement already satisfied: pathy>=0.3.5 in ./env/lib/python3.7/site-packages (from spacy<3.2.0,>=3.1.0->en-core-web-md==3.1.0) (0.6.1)\n",
      "Requirement already satisfied: cymem<2.1.0,>=2.0.2 in ./env/lib/python3.7/site-packages (from spacy<3.2.0,>=3.1.0->en-core-web-md==3.1.0) (2.0.6)\n",
      "Requirement already satisfied: tqdm<5.0.0,>=4.38.0 in ./env/lib/python3.7/site-packages (from spacy<3.2.0,>=3.1.0->en-core-web-md==3.1.0) (4.62.3)\n",
      "Requirement already satisfied: zipp>=0.5 in ./env/lib/python3.7/site-packages (from catalogue<2.1.0,>=2.0.4->spacy<3.2.0,>=3.1.0->en-core-web-md==3.1.0) (3.7.0)\n",
      "Requirement already satisfied: pyparsing!=3.0.5,>=2.0.2 in ./env/lib/python3.7/site-packages (from packaging>=20.0->spacy<3.2.0,>=3.1.0->en-core-web-md==3.1.0) (3.0.6)\n",
      "\u001b[32m⠦\u001b[0m 2/3 waiting \u001b[33mmeme_text_encoder\u001b[0m to be ready...                                    Requirement already satisfied: smart-open<6.0.0,>=5.0.0 in ./env/lib/python3.7/site-packages (from pathy>=0.3.5->spacy<3.2.0,>=3.1.0->en-core-web-md==3.1.0) (5.2.1)\n",
      "Requirement already satisfied: idna<4,>=2.5 in ./env/lib/python3.7/site-packages (from requests<3.0.0,>=2.13.0->spacy<3.2.0,>=3.1.0->en-core-web-md==3.1.0) (3.3)\n",
      "Requirement already satisfied: charset-normalizer~=2.0.0 in ./env/lib/python3.7/site-packages (from requests<3.0.0,>=2.13.0->spacy<3.2.0,>=3.1.0->en-core-web-md==3.1.0) (2.0.10)\n",
      "Requirement already satisfied: certifi>=2017.4.17 in ./env/lib/python3.7/site-packages (from requests<3.0.0,>=2.13.0->spacy<3.2.0,>=3.1.0->en-core-web-md==3.1.0) (2021.10.8)\n",
      "Requirement already satisfied: urllib3<1.27,>=1.21.1 in ./env/lib/python3.7/site-packages (from requests<3.0.0,>=2.13.0->spacy<3.2.0,>=3.1.0->en-core-web-md==3.1.0) (1.26.8)\n",
      "\u001b[32m⠧\u001b[0m 2/3 waiting \u001b[33mmeme_text_encoder\u001b[0m to be ready...                                    Requirement already satisfied: click<7.2.0,>=7.1.1 in ./env/lib/python3.7/site-packages (from typer<0.4.0,>=0.3.0->spacy<3.2.0,>=3.1.0->en-core-web-md==3.1.0) (7.1.2)\n",
      "Requirement already satisfied: MarkupSafe>=2.0 in ./env/lib/python3.7/site-packages (from jinja2->spacy<3.2.0,>=3.1.0->en-core-web-md==3.1.0) (2.0.1)\n",
      "\u001b[32m⠦\u001b[0m 2/3 waiting \u001b[33mmeme_text_encoder\u001b[0m to be ready...                                    \u001b[38;5;2m✔ Download and installation successful\u001b[0m\n",
      "You can now load the package via spacy.load('en_core_web_md')\n",
      "           Flow@1072746[I]:\u001b[32m🎉 Flow is ready to use!\u001b[0m                                        \n",
      "\t🔗 Protocol: \t\t\u001b[1mGRPC\u001b[0m\n",
      "\t🏠 Local access:\t\u001b[4m\u001b[36m0.0.0.0:54415\u001b[0m\n",
      "\t🔒 Private network:\t\u001b[4m\u001b[36m192.168.1.68:54415\u001b[0m\n",
      "\t🌐 Public address:\t\u001b[4m\u001b[36m83.47.10.22:54415\u001b[0m\u001b[0m\n"
     ]
    },
    {
     "name": "stderr",
     "output_type": "stream",
     "text": [
      "\u001b[1;33mDeprecationWarning: \n",
      "            The syntax of traversal_path is changed to comma-separated string, '\n",
      "            that means your need to change ('r',) into `r`. '\n",
      "            The old list of string syntax will be deprecated soon\n",
      "            \u001b[0m \u001b[1;30m(raised from /mnt/data/work/repos/workshops/memes/env/lib/python3.7/site-packages/docarray/array/mixins/traverse.py:28)\u001b[0m\n"
     ]
    },
    {
     "name": "stdout",
     "output_type": "stream",
     "text": [
      "DONE!\n"
     ]
    }
   ],
   "source": [
    "with flow:\n",
    "  flow.index(\n",
    "      inputs=docs,\n",
    "      request_size=64,\n",
    "  )\n",
    "print(\"DONE!\")"
   ]
  },
  {
   "cell_type": "markdown",
   "metadata": {
    "id": "06Ptw8_kBgxc"
   },
   "source": [
    "## Search data with Flow"
   ]
  },
  {
   "cell_type": "markdown",
   "metadata": {},
   "source": [
    "### Create query Document\n",
    "\n",
    "A Document is the fundamental thing that Jina works with. So anything we pass or out needs to be a Document"
   ]
  },
  {
   "cell_type": "code",
   "execution_count": 21,
   "metadata": {
    "id": "jtcvp5bi9Nbt"
   },
   "outputs": [],
   "source": [
    "query_doc = Document(text=\"school\")"
   ]
  },
  {
   "cell_type": "markdown",
   "metadata": {},
   "source": [
    "### Pass query Document to Flow\n",
    "\n",
    "This will search our index of 50 memes for Documents similar to our input Document"
   ]
  },
  {
   "cell_type": "code",
   "execution_count": 22,
   "metadata": {
    "colab": {
     "base_uri": "https://localhost:8080/"
    },
    "id": "MB9RxYsR8saM",
    "outputId": "862891df-55b1-47cb-ac1b-8862716b6d22"
   },
   "outputs": [
    {
     "name": "stdout",
     "output_type": "stream",
     "text": [
      "\u001b[32m⠸\u001b[0m 2/3 waiting \u001b[33mmeme_text_encoder\u001b[0m to be ready...                                    Collecting en-core-web-md==3.1.0\n",
      "\u001b[32m⠹\u001b[0m 2/3 waiting \u001b[33mmeme_text_encoder\u001b[0m to be ready...                                      Using cached https://github.com/explosion/spacy-models/releases/download/en_core_web_md-3.1.0/en_core_web_md-3.1.0-py3-none-any.whl (45.4 MB)\n",
      "\u001b[32m⠸\u001b[0m 2/3 waiting \u001b[33mmeme_text_encoder\u001b[0m to be ready...                                    Requirement already satisfied: spacy<3.2.0,>=3.1.0 in ./env/lib/python3.7/site-packages (from en-core-web-md==3.1.0) (3.1.2)\n",
      "Requirement already satisfied: catalogue<2.1.0,>=2.0.4 in ./env/lib/python3.7/site-packages (from spacy<3.2.0,>=3.1.0->en-core-web-md==3.1.0) (2.0.6)\n",
      "Requirement already satisfied: setuptools in ./env/lib/python3.7/site-packages (from spacy<3.2.0,>=3.1.0->en-core-web-md==3.1.0) (57.1.0)\n",
      "Requirement already satisfied: typing-extensions<4.0.0.0,>=3.7.4 in ./env/lib/python3.7/site-packages (from spacy<3.2.0,>=3.1.0->en-core-web-md==3.1.0) (3.10.0.2)\n",
      "Requirement already satisfied: blis<0.8.0,>=0.4.0 in ./env/lib/python3.7/site-packages (from spacy<3.2.0,>=3.1.0->en-core-web-md==3.1.0) (0.7.5)\n",
      "Requirement already satisfied: tqdm<5.0.0,>=4.38.0 in ./env/lib/python3.7/site-packages (from spacy<3.2.0,>=3.1.0->en-core-web-md==3.1.0) (4.62.3)\n",
      "Requirement already satisfied: wasabi<1.1.0,>=0.8.1 in ./env/lib/python3.7/site-packages (from spacy<3.2.0,>=3.1.0->en-core-web-md==3.1.0) (0.9.0)\n",
      "Requirement already satisfied: numpy>=1.15.0 in ./env/lib/python3.7/site-packages (from spacy<3.2.0,>=3.1.0->en-core-web-md==3.1.0) (1.21.5)\n",
      "Requirement already satisfied: cymem<2.1.0,>=2.0.2 in ./env/lib/python3.7/site-packages (from spacy<3.2.0,>=3.1.0->en-core-web-md==3.1.0) (2.0.6)\n",
      "Requirement already satisfied: thinc<8.1.0,>=8.0.8 in ./env/lib/python3.7/site-packages (from spacy<3.2.0,>=3.1.0->en-core-web-md==3.1.0) (8.0.13)\n",
      "Requirement already satisfied: packaging>=20.0 in ./env/lib/python3.7/site-packages (from spacy<3.2.0,>=3.1.0->en-core-web-md==3.1.0) (21.3)\n",
      "Requirement already satisfied: typer<0.4.0,>=0.3.0 in ./env/lib/python3.7/site-packages (from spacy<3.2.0,>=3.1.0->en-core-web-md==3.1.0) (0.3.2)\n",
      "Requirement already satisfied: srsly<3.0.0,>=2.4.1 in ./env/lib/python3.7/site-packages (from spacy<3.2.0,>=3.1.0->en-core-web-md==3.1.0) (2.4.2)\n",
      "Requirement already satisfied: preshed<3.1.0,>=3.0.2 in ./env/lib/python3.7/site-packages (from spacy<3.2.0,>=3.1.0->en-core-web-md==3.1.0) (3.0.6)\n",
      "Requirement already satisfied: jinja2 in ./env/lib/python3.7/site-packages (from spacy<3.2.0,>=3.1.0->en-core-web-md==3.1.0) (3.0.3)\n",
      "Requirement already satisfied: requests<3.0.0,>=2.13.0 in ./env/lib/python3.7/site-packages (from spacy<3.2.0,>=3.1.0->en-core-web-md==3.1.0) (2.27.1)\n",
      "Requirement already satisfied: pydantic!=1.8,!=1.8.1,<1.9.0,>=1.7.4 in ./env/lib/python3.7/site-packages (from spacy<3.2.0,>=3.1.0->en-core-web-md==3.1.0) (1.8.2)\n",
      "Requirement already satisfied: spacy-legacy<3.1.0,>=3.0.7 in ./env/lib/python3.7/site-packages (from spacy<3.2.0,>=3.1.0->en-core-web-md==3.1.0) (3.0.8)\n",
      "Requirement already satisfied: murmurhash<1.1.0,>=0.28.0 in ./env/lib/python3.7/site-packages (from spacy<3.2.0,>=3.1.0->en-core-web-md==3.1.0) (1.0.6)\n",
      "Requirement already satisfied: pathy>=0.3.5 in ./env/lib/python3.7/site-packages (from spacy<3.2.0,>=3.1.0->en-core-web-md==3.1.0) (0.6.1)\n",
      "Requirement already satisfied: zipp>=0.5 in ./env/lib/python3.7/site-packages (from catalogue<2.1.0,>=2.0.4->spacy<3.2.0,>=3.1.0->en-core-web-md==3.1.0) (3.7.0)\n",
      "Requirement already satisfied: pyparsing!=3.0.5,>=2.0.2 in ./env/lib/python3.7/site-packages (from packaging>=20.0->spacy<3.2.0,>=3.1.0->en-core-web-md==3.1.0) (3.0.6)\n",
      "Requirement already satisfied: smart-open<6.0.0,>=5.0.0 in ./env/lib/python3.7/site-packages (from pathy>=0.3.5->spacy<3.2.0,>=3.1.0->en-core-web-md==3.1.0) (5.2.1)\n",
      "\u001b[32m⠼\u001b[0m 2/3 waiting \u001b[33mmeme_text_encoder\u001b[0m to be ready...                                    Requirement already satisfied: urllib3<1.27,>=1.21.1 in ./env/lib/python3.7/site-packages (from requests<3.0.0,>=2.13.0->spacy<3.2.0,>=3.1.0->en-core-web-md==3.1.0) (1.26.8)\n",
      "Requirement already satisfied: certifi>=2017.4.17 in ./env/lib/python3.7/site-packages (from requests<3.0.0,>=2.13.0->spacy<3.2.0,>=3.1.0->en-core-web-md==3.1.0) (2021.10.8)\n",
      "Requirement already satisfied: charset-normalizer~=2.0.0 in ./env/lib/python3.7/site-packages (from requests<3.0.0,>=2.13.0->spacy<3.2.0,>=3.1.0->en-core-web-md==3.1.0) (2.0.10)\n",
      "Requirement already satisfied: idna<4,>=2.5 in ./env/lib/python3.7/site-packages (from requests<3.0.0,>=2.13.0->spacy<3.2.0,>=3.1.0->en-core-web-md==3.1.0) (3.3)\n",
      "Requirement already satisfied: click<7.2.0,>=7.1.1 in ./env/lib/python3.7/site-packages (from typer<0.4.0,>=0.3.0->spacy<3.2.0,>=3.1.0->en-core-web-md==3.1.0) (7.1.2)\n",
      "Requirement already satisfied: MarkupSafe>=2.0 in ./env/lib/python3.7/site-packages (from jinja2->spacy<3.2.0,>=3.1.0->en-core-web-md==3.1.0) (2.0.1)\n",
      "\u001b[32m⠸\u001b[0m 2/3 waiting \u001b[33mmeme_text_encoder\u001b[0m to be ready...                                    \u001b[38;5;2m✔ Download and installation successful\u001b[0m\n",
      "You can now load the package via spacy.load('en_core_web_md')\n",
      "           Flow@1072746[I]:\u001b[32m🎉 Flow is ready to use!\u001b[0m                                        \n",
      "\t🔗 Protocol: \t\t\u001b[1mGRPC\u001b[0m\n",
      "\t🏠 Local access:\t\u001b[4m\u001b[36m0.0.0.0:56319\u001b[0m\n",
      "\t🔒 Private network:\t\u001b[4m\u001b[36m192.168.1.68:56319\u001b[0m\n",
      "\t🌐 Public address:\t\u001b[4m\u001b[36m83.47.10.22:56319\u001b[0m\u001b[0m\n"
     ]
    },
    {
     "name": "stderr",
     "output_type": "stream",
     "text": [
      "\u001b[1;33mDeprecationWarning: \n",
      "            The syntax of traversal_path is changed to comma-separated string, '\n",
      "            that means your need to change ('r',) into `r`. '\n",
      "            The old list of string syntax will be deprecated soon\n",
      "            \u001b[0m \u001b[1;30m(raised from /mnt/data/work/repos/workshops/memes/env/lib/python3.7/site-packages/docarray/array/mixins/traverse.py:28)\u001b[0m\n"
     ]
    },
    {
     "name": "stdout",
     "output_type": "stream",
     "text": [
      "DONE!\n"
     ]
    }
   ],
   "source": [
    "with flow:\n",
    "  response = flow.search(inputs=query_doc, return_results=True)\n",
    "print(\"DONE!\")"
   ]
  },
  {
   "cell_type": "markdown",
   "metadata": {},
   "source": [
    "### Extract matches\n",
    "\n",
    "A Jina response contains a lot of extra data. We just want the DocumentArray with matching Documents"
   ]
  },
  {
   "cell_type": "code",
   "execution_count": 23,
   "metadata": {
    "colab": {
     "base_uri": "https://localhost:8080/"
    },
    "id": "lE-fipho9eTj",
    "outputId": "08f2b367-5862-4772-b87d-2ccc0c5f7994"
   },
   "outputs": [],
   "source": [
    "matches = response[0].docs[0].matches"
   ]
  },
  {
   "cell_type": "code",
   "execution_count": 24,
   "metadata": {},
   "outputs": [
    {
     "name": "stdout",
     "output_type": "stream",
     "text": [
      "./images/2xp1ne.jpg\n",
      "./images/1dynut.jpg\n",
      "./images/1xrl4d.jpg\n",
      "./images/r6txm.jpg\n",
      "./images/3bkpsm.jpg\n"
     ]
    },
    {
     "data": {
      "application/vnd.jupyter.widget-view+json": {
       "model_id": "0270ed4bff724f77a467ddf990f94a55",
       "version_major": 2,
       "version_minor": 0
      },
      "text/plain": [
       "HBox(children=(Image(value=b'\\xff\\xd8\\xff\\xe0\\x00\\x10JFIF\\x00\\x01\\x01\\x00\\x00H\\x00H\\x00\\x00\\xff\\xdb\\x00\\x84\\x0…"
      ]
     },
     "metadata": {},
     "output_type": "display_data"
    }
   ],
   "source": [
    "show_images(matches)"
   ]
  },
  {
   "cell_type": "markdown",
   "metadata": {
    "id": "twHoDflQBwju"
   },
   "source": [
    "## Using this IRL\n",
    "\n",
    "How can we take this out of a notebook and build a real-world application with it?"
   ]
  },
  {
   "cell_type": "markdown",
   "metadata": {
    "id": "8BMGGJCZYBQr"
   },
   "source": [
    "### Use a better indexer\n",
    "\n",
    "Jina's **[PQLiteIndexer](https://hub.jina.ai/executor/pn1qofsj)** offers powerful features like pre-filtering based on metadata. In our notebook we just use [SimpleIndexer](https://hub.jina.ai/executor/zb38xlt4) which is nice for demonstrations but lacks PQLite's power.\n",
    "\n",
    "### Use a RESTful API\n",
    "\n",
    "#### In notebook: gRPC\n",
    "\n",
    "```python\n",
    "with flow:\n",
    "    flow.search(Document(text=\"foo\"))\n",
    "```\n",
    "\n",
    "#### In Python: RESTful or gRPC\n",
    "\n",
    "```python\n",
    "with flow:\n",
    "    flow.protocol = \"http\"\n",
    "    flow.port_expose = 12345\n",
    "    flow.block()\n",
    "```\n",
    "\n",
    "### Use Dockerized Executors...\n",
    "\n",
    "This means having to install fewer requirements locally.\n",
    "\n",
    "\n",
    "#### In notebook: `jinahub://foo`\n",
    "\n",
    "```python\n",
    "flow = (\n",
    "    Flow()\n",
    "    .add(...)\n",
    "    .add(\n",
    "        uses=\"jinahub://SimpleIndexer\",\n",
    "    )\n",
    ")\n",
    "```\n",
    "\n",
    "#### In Python: `jinahub+docker://foo`\n",
    "\n",
    "```python\n",
    "flow = (\n",
    "    Flow()\n",
    "    .add(...)\n",
    "    .add(\n",
    "        uses=\"jinahub+docker://SimpleIndexer\",\n",
    "    )\n",
    ")\n",
    "```\n",
    "\n",
    "### ...or wrap everything in Docker\n",
    "\n",
    "See an example [docker-compose.yml](https://github.com/alexcg1/jina-meme-search/blob/main/docker-compose.yml)"
   ]
  }
 ],
 "metadata": {
  "accelerator": "GPU",
  "colab": {
   "collapsed_sections": [],
   "name": "Meme search with text",
   "provenance": []
  },
  "kernelspec": {
   "display_name": "Python 3",
   "language": "python",
   "name": "python3"
  },
  "language_info": {
   "codemirror_mode": {
    "name": "ipython",
    "version": 3
   },
   "file_extension": ".py",
   "mimetype": "text/x-python",
   "name": "python",
   "nbconvert_exporter": "python",
   "pygments_lexer": "ipython3",
   "version": "3.7.12"
  },
  "toc-showmarkdowntxt": false
 },
 "nbformat": 4,
 "nbformat_minor": 4
}
