{
 "cells": [
  {
   "cell_type": "markdown",
   "metadata": {
    "id": "d-6qZXne-aDr"
   },
   "source": [
    "# Jina Meme Search Workshop\n",
    "\n",
    "![](http://examples.jina.ai/images/meme_search.gif)\n",
    "\n",
    "In this workshop we're going to build a meme search engine using [Jina](https://github.com/jina-ai/jina/). It will search a dataset of memes and return URLs to the images as well as metadata.\n",
    "\n",
    "For this workshop we'll just focus on searching **text**. For a more complete repo (including text/image search and frontend) you can check [this link](https://github.com/alexcg1/jina-meme-search).\n",
    "\n",
    "You can play with a live example [here](https://examples.jina.ai)."
   ]
  },
  {
   "cell_type": "markdown",
   "metadata": {},
   "source": [
    "## Terminology\n",
    "\n",
    "Let's go through the words we'll be using in this workshop.\n",
    "\n",
    "In our example, we'll search through all the <code>text</code> (which comes from a JSON file) and then display the image <code>uri</code> of each match.\n",
    "\n",
    "<table>\n",
    "    <tr>\n",
    "        <td>\n",
    "            <img src=\"https://raw.githubusercontent.com/jina-ai/workshops/main/memes/koala.png\" width=300 align=\"left\">\n",
    "        </td>\n",
    "        <td>\n",
    "            <table>\n",
    "                <tr>\n",
    "                    <td>Template</td>\n",
    "                    <td>Surprised Koala</td>\n",
    "                </tr>\n",
    "                <tr>\n",
    "                    <td>Caption</td>\n",
    "                    <td>This is poisonous. What</td>\n",
    "                </tr>\n",
    "                <tr>\n",
    "                    <td><code>uri</code></td>\n",
    "                    <td>https//i.imgflip.com/foo_bar.jpg</td>\n",
    "                </tr>\n",
    "                <tr>\n",
    "                    <td><code>text</code></td>\n",
    "                    <td>Surprised Koala | This is poisonous. What</td>\n",
    "                </tr>\n",
    "            </table>\n",
    "        </td>\n",
    "    </tr>\n",
    "</table>"
   ]
  },
  {
   "cell_type": "markdown",
   "metadata": {},
   "source": [
    "## Prerequisites\n",
    "\n",
    "- Check out [Jina's repo](https://github.com/jina-ai/jina/) to understand what Jina does\n",
    "- Watch [Neural search using cute fuzzy animals](https://www.youtube.com/watch?v=3FyddFAFNPQ) to understand how neural search works\n",
    "- Watch [Jina basics in under two minutes](https://www.youtube.com/watch?v=mnnC37ewQI8) to learn the fundamental components of Jina"
   ]
  },
  {
   "cell_type": "markdown",
   "metadata": {},
   "source": [
    "## Set up basics"
   ]
  },
  {
   "cell_type": "markdown",
   "metadata": {},
   "source": [
    "#### Clean up from last time"
   ]
  },
  {
   "cell_type": "code",
   "execution_count": null,
   "metadata": {},
   "outputs": [],
   "source": [
    "!cd /\n",
    "!rm -rf workspace images sample_data"
   ]
  },
  {
   "cell_type": "markdown",
   "metadata": {},
   "source": [
    "#### Set up notebook environment"
   ]
  },
  {
   "cell_type": "code",
   "execution_count": null,
   "metadata": {},
   "outputs": [],
   "source": [
    "# Enable Jupyter widgets so we can see images\n",
    "!pip install -q ipywidgets==7.6.5 # Get nice widgets in the notebook\n",
    "!jupyter nbextension enable --py widgetsnbextension\n",
    "\n",
    "# Disable warnings\n",
    "import warnings\n",
    "warnings.filterwarnings('ignore')\n",
    "warnings.simplefilter('ignore')"
   ]
  },
  {
   "cell_type": "markdown",
   "metadata": {},
   "source": [
    "#### Basic configuration\n",
    "\n",
    "- Since this is just a workshop and not a real-world application we'll just search through 50 memes. This will save us time in processing.\n",
    "- We'll also set a random seed so we can *consistently* shuffle our memes. This lets us easily compare results between models"
   ]
  },
  {
   "cell_type": "code",
   "execution_count": null,
   "metadata": {},
   "outputs": [],
   "source": [
    "max_docs = 50\n",
    "random_seed = 1337"
   ]
  },
  {
   "cell_type": "markdown",
   "metadata": {},
   "source": [
    "## Process our memes\n",
    "\n",
    "[DocArray](https://docarray.jina.ai/) is a library for nested, unstructured data in transit, including text, image, audio, video, 3D mesh, etc. It allows deep-learning engineers to efficiently process, embed, search, recommend, store, and transfer the data with a Pythonic API.\n",
    "\n",
    "We'll use DocArray to build a simple search engine locally, then look at how to serve it online with [Jina](https://github.com/jina-ai/jina/)\n",
    "\n",
    "### Our dataset\n",
    "\n",
    "We use an open-source dataset from imgflip, originally downloaded from [Kaggle](https://www.kaggle.com/abhishtagatya/imgflipscraped-memes-caption-dataset).\n",
    "\n",
    "**Why this dataset?**\n",
    "\n",
    "We chose this dataset because\n",
    "\n",
    "- It has rich metadata (caption, template name)\n",
    "- It has recognizable memes (many datasets were just random pics with overlaid Impact font)\n",
    "- It doesn't *seem* to have too many racist/sexist/\\*phobic memes 🤞\n",
    "\n",
    "**Why does this dataset kinda suck**\n",
    "\n",
    "It only contains so many memes, and new memes come out all the time. So it won't have the latest, dankest stuff."
   ]
  },
  {
   "cell_type": "markdown",
   "metadata": {},
   "source": [
    "### Download data"
   ]
  },
  {
   "cell_type": "code",
   "execution_count": null,
   "metadata": {
    "colab": {
     "base_uri": "https://localhost:8080/"
    },
    "id": "Gz6sKxwm3jw-",
    "outputId": "08bbb648-30a1-4648-98af-96d1ce0a143c"
   },
   "outputs": [],
   "source": [
    "!mkdir -p data\n",
    "!wget -O data/memes.json -nc https://jina-examples-datasets.s3.amazonaws.com/memes/memes.json -q"
   ]
  },
  {
   "cell_type": "markdown",
   "metadata": {
    "id": "14lerh7__Mlb"
   },
   "source": [
    "### Load data\n",
    "\n",
    "Bear in mind that every dataset has its own quirks. Our dataset is in a complex JSON file, so we need to write a dedicated loader function. For simpler datasets, search the [docs](https://docarray.jina.ai/) for how to import from a directory of files, CSV, (simple) JSON, etc\n",
    "\n",
    "In this function we:\n",
    "\n",
    "- Create a `DocumentArray` to hold `Documents` (using [docarray package](https://docarray.jina.ai))\n",
    "- Create a `Document` for each meme\n",
    "- Set `Document.text` to the template name (e.g. `\"Surprised Koala\"`) + meme caption (e.g. `\"This is poisonous. What\"`)\n",
    "- Populate some `tags` for the `Document` (e.g. absolute URL for image)"
   ]
  },
  {
   "cell_type": "code",
   "execution_count": null,
   "metadata": {
    "id": "BiyIopC7CfqD"
   },
   "outputs": [],
   "source": [
    "!pip install -q docarray==0.9.7\n",
    "from docarray import Document, DocumentArray"
   ]
  },
  {
   "cell_type": "code",
   "execution_count": null,
   "metadata": {
    "id": "Lhx-gD5b30JJ"
   },
   "outputs": [],
   "source": [
    "import json\n",
    "def prep_docs(input_file, num_docs=None, shuffle=False):\n",
    "    docs = DocumentArray()\n",
    "    memes = []\n",
    "    print(f\"Processing {input_file}\")\n",
    "    with open(input_file, \"r\") as file:\n",
    "        raw_json = json.loads(file.read())\n",
    "\n",
    "    for template in raw_json:\n",
    "        for meme in template[\"generated_memes\"]:\n",
    "            meme[\"template\"] = template[\"name\"]\n",
    "        memes.extend(template[\"generated_memes\"])\n",
    "    if shuffle:\n",
    "        import random\n",
    "        random.seed(random_seed)\n",
    "        random.shuffle(memes)\n",
    "\n",
    "    for meme in memes[:num_docs]:\n",
    "        doctext = f\"{meme['template']} - {meme['caption_text']}\"\n",
    "        doc = Document(text=doctext)\n",
    "        doc.tags = meme\n",
    "        docs.extend([doc])\n",
    "    \n",
    "    for doc in docs:\n",
    "        doc.tags[\"uri_absolute\"] = \"http:\" + doc.tags[\"image_url\"]\n",
    "        \n",
    "    return docs"
   ]
  },
  {
   "cell_type": "code",
   "execution_count": null,
   "metadata": {
    "colab": {
     "base_uri": "https://localhost:8080/"
    },
    "id": "rcg_sQKZ5EyA",
    "outputId": "aa22d73d-2f1e-4df7-8442-7d13bf03fbd2"
   },
   "outputs": [],
   "source": [
    "docs = prep_docs(\n",
    "    input_file=\"data/memes.json\", \n",
    "    num_docs=max_docs,\n",
    ")"
   ]
  },
  {
   "cell_type": "code",
   "execution_count": null,
   "metadata": {},
   "outputs": [],
   "source": [
    "# showing images from a URL in a Jupyter notebook is not trivial, so we wrote a helper function\n",
    "!wget -nc https://raw.githubusercontent.com/jina-ai/workshops/main/memes/helper.py\n",
    "from helper import show_images"
   ]
  },
  {
   "cell_type": "code",
   "execution_count": null,
   "metadata": {},
   "outputs": [],
   "source": [
    "show_images(docs)"
   ]
  },
  {
   "cell_type": "markdown",
   "metadata": {},
   "source": [
    "### What does a Document look like under the hood?\n",
    "\n",
    "Let's take a look at a Document to get an idea of what's going on"
   ]
  },
  {
   "cell_type": "code",
   "execution_count": null,
   "metadata": {},
   "outputs": [],
   "source": [
    "print(docs[0])"
   ]
  },
  {
   "cell_type": "markdown",
   "metadata": {},
   "source": [
    "We can see several fields. Let's look at each of them:"
   ]
  },
  {
   "cell_type": "code",
   "execution_count": null,
   "metadata": {},
   "outputs": [],
   "source": [
    "print(docs[0].id)                  # Unique ID for index\n",
    "# print(docs[0].tensor)              # ndarray representation of Document text\n",
    "\n",
    "for tag in docs[0].tags.items():   # Metadata\n",
    "    print(tag)"
   ]
  },
  {
   "cell_type": "markdown",
   "metadata": {
    "id": "zaTD9ssjA6a8"
   },
   "source": [
    "### Why shuffle?\n",
    "\n",
    "The memes are arranged alphabetically by template. So if we don't shuffle we're going to get very similar memes. This makes it more difficult to search for something interesting."
   ]
  },
  {
   "cell_type": "markdown",
   "metadata": {
    "id": "4CFc1OvuBGyQ"
   },
   "source": [
    "If we shuffle we get a more interesting mix:"
   ]
  },
  {
   "cell_type": "code",
   "execution_count": null,
   "metadata": {},
   "outputs": [],
   "source": [
    "docs = prep_docs(\n",
    "    input_file=\"data/memes.json\", \n",
    "    num_docs=max_docs,\n",
    "    shuffle=True)"
   ]
  },
  {
   "cell_type": "code",
   "execution_count": null,
   "metadata": {},
   "outputs": [],
   "source": [
    "show_images(docs)"
   ]
  },
  {
   "cell_type": "markdown",
   "metadata": {},
   "source": [
    "## Index and search data with Flow"
   ]
  },
  {
   "cell_type": "code",
   "execution_count": null,
   "metadata": {},
   "outputs": [],
   "source": [
    "!pip install -q jina==3.0"
   ]
  },
  {
   "cell_type": "markdown",
   "metadata": {
    "id": "wKuRVFJzBayO"
   },
   "source": [
    "### Set up Flow\n",
    "\n",
    "Before we index or search, we need to create our Flow. We'll use the same Flow to:\n",
    "\n",
    "- Build an index for our meme dataset\n",
    "- Query that index to find memes that have similar text strings"
   ]
  },
  {
   "cell_type": "code",
   "execution_count": null,
   "metadata": {
    "id": "ae9vrzNICVbs"
   },
   "outputs": [],
   "source": [
    "from jina import Flow"
   ]
  },
  {
   "cell_type": "code",
   "execution_count": null,
   "metadata": {},
   "outputs": [],
   "source": [
    "encoder = \"TransformerTorchEncoder\"\n",
    "indexer = \"SimpleIndexer\""
   ]
  },
  {
   "cell_type": "code",
   "execution_count": null,
   "metadata": {
    "id": "2mxPSbjp6KwW"
   },
   "outputs": [],
   "source": [
    "flow = (\n",
    "    Flow()\n",
    "    .add(\n",
    "        name=\"meme_text_encoder\",\n",
    "        uses=f\"jinahub://{encoder}/v0.4\",                 # Using Executors from Jina Hub means we don't need to write our own!\n",
    "        # uses_with={\"model_name\": \"en_core_web_md\"},\n",
    "        install_requirements=True\n",
    "    )\n",
    "    .add(\n",
    "        name=\"meme_text_indexer\",\n",
    "        uses=f\"jinahub://{indexer}/v0.15\",\n",
    "        install_requirements=True\n",
    "    )\n",
    ")"
   ]
  },
  {
   "cell_type": "markdown",
   "metadata": {
    "id": "t-7aUULtBdSA"
   },
   "source": [
    "## Index data with Flow\n",
    "\n",
    "We use our Flow to build an index of where all the meme text embeddings lie on an n-dimensional graph"
   ]
  },
  {
   "cell_type": "markdown",
   "metadata": {},
   "source": [
    "**Note:** If the notebook crashes here, restart (don't factory-reset) it and run all cells again. This seems to be a bug in Google Colab."
   ]
  },
  {
   "cell_type": "code",
   "execution_count": null,
   "metadata": {
    "colab": {
     "base_uri": "https://localhost:8080/"
    },
    "id": "rpCo9it_6kLm",
    "outputId": "ec8a7b76-7b07-44e0-de43-f92e4e6bd5f7",
    "tags": []
   },
   "outputs": [],
   "source": [
    "with flow:\n",
    "  indexed_docs = flow.index(\n",
    "      inputs=docs,\n",
    "      request_size=64,\n",
    "      return_results=True\n",
    "  )"
   ]
  },
  {
   "cell_type": "markdown",
   "metadata": {},
   "source": [
    "## What did we just do?\n",
    "\n",
    "Indexing our Documents:\n",
    "\n",
    "- Generated *vector embeddings* for each Document using a neural network. These provide a representation of the meaning of each piece of text, instead of it just being a string of characters\n",
    "- Stored the embeddings and metadata of each Document in an on-disk index (`./workspace`) for fast lookup later\n",
    "\n",
    "Let's look a Document after it's been through the indexing Flow. We can see its vector embedding stored as a Numpy ndarray in its `.embedding` attribute:"
   ]
  },
  {
   "cell_type": "code",
   "execution_count": null,
   "metadata": {},
   "outputs": [],
   "source": [
    "print(indexed_docs[0])\n",
    "print(indexed_docs[0].embedding)"
   ]
  },
  {
   "cell_type": "markdown",
   "metadata": {
    "id": "06Ptw8_kBgxc"
   },
   "source": [
    "## Search data with Flow"
   ]
  },
  {
   "cell_type": "markdown",
   "metadata": {},
   "source": [
    "### Create query Document\n",
    "\n",
    "A Document is the fundamental thing that Jina works with. So anything we pass or out needs to be a Document"
   ]
  },
  {
   "cell_type": "code",
   "execution_count": null,
   "metadata": {
    "id": "jtcvp5bi9Nbt"
   },
   "outputs": [],
   "source": [
    "search_term = \"school\"\n",
    "query_doc = Document(text=search_term)"
   ]
  },
  {
   "cell_type": "markdown",
   "metadata": {},
   "source": [
    "### Send query Document to Flow\n",
    "\n",
    "This Flow will:\n",
    "\n",
    "- Generate a vector embedding for our query Document based on its text\n",
    "- Compare that embedding with the 50 embeddings (one for each meme) we stored in our index earlier\n",
    "- Return the closest matches based on Document (i.e. text) similarity"
   ]
  },
  {
   "cell_type": "code",
   "execution_count": null,
   "metadata": {
    "colab": {
     "base_uri": "https://localhost:8080/"
    },
    "id": "MB9RxYsR8saM",
    "outputId": "862891df-55b1-47cb-ac1b-8862716b6d22"
   },
   "outputs": [],
   "source": [
    "# Pass query Document to Flow\n",
    "with flow:\n",
    "  response = flow.search(inputs=query_doc, return_results=True)\n",
    "\n",
    "# show matches\n",
    "matches = response[0].matches\n",
    "show_images(matches)"
   ]
  },
  {
   "cell_type": "markdown",
   "metadata": {
    "id": "twHoDflQBwju"
   },
   "source": [
    "## Using this IRL\n",
    "\n",
    "![](https://i.imgur.com/stRaicL.gif)\n",
    "\n",
    "How can we take this out of a notebook and build a real-world application with it?\n",
    "\n",
    "- Don't use a notebook - they're great for data science, not so much for real-world stuff\n",
    "    - This also lets use use a RESTful API so frontends can be easily integrated\n",
    "- Search image data too\n",
    "    - Use [DocArray's image processing features](https://docarray.jina.ai/fundamentals/document/fluent-interface/)\n",
    "    - Use CLIP embeddings from [**Jina Hub**](https://hub.jina.ai)'s CLIP encoder for text-to-image, image-to-image search\n",
    "- Get better results\n",
    "    - Use a better encoder from [**Jina Hub**](https://hub.jina.ai) for vector embeddings (Transformers/SpaCy)\n",
    "    - Or [finetune our own model with **Finetuner**](https://finetuner.jina.ai)\n",
    "- Filter results for faceted search\n",
    "    - Use [PQLite indexer](https://hub.jina.ai/executor/pn1qofsj) from Jina Hub to filter by season, price range, etc\n",
    "- Deploy\n",
    "    - With [Docker Compose](https://docs.jina.ai/how-to/docker-compose/)\n",
    "    - With [Kubernetes](https://docs.jina.ai/how-to/kubernetes/)"
   ]
  }
 ],
 "metadata": {
  "accelerator": "GPU",
  "colab": {
   "collapsed_sections": [],
   "name": "Meme search with text",
   "provenance": []
  },
  "kernelspec": {
   "display_name": "Python 3",
   "language": "python",
   "name": "python3"
  },
  "language_info": {
   "codemirror_mode": {
    "name": "ipython",
    "version": 3
   },
   "file_extension": ".py",
   "mimetype": "text/x-python",
   "name": "python",
   "nbconvert_exporter": "python",
   "pygments_lexer": "ipython3",
   "version": "3.9.9"
  },
  "toc-showmarkdowntxt": false
 },
 "nbformat": 4,
 "nbformat_minor": 4
}
